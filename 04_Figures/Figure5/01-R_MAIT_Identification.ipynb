{
 "cells": [
  {
   "cell_type": "markdown",
   "id": "4912c087-ecf7-409e-8e40-8d1f7ff16f9d",
   "metadata": {},
   "source": [
    "# Figure 5 Analysis Rough Version"
   ]
  },
  {
   "cell_type": "markdown",
   "id": "2cf1c18b-bec2-492f-b21f-a1ba91431040",
   "metadata": {},
   "source": [
    "# Table of Contents\n",
    "* [Subset Gating](#Subset)\n",
    "    * [Load Data](#Load)\n",
    "    * [CD8 MAIT](#MAIT)\n",
    "    * [dnT MAIT](#dnTMAIT)    \n",
    "    * [gdT ADT](#ADT)\n",
    "    * [gdT RNA](#RNA)"
   ]
  },
  {
   "cell_type": "code",
   "execution_count": null,
   "id": "5bd8f088-c776-4a90-a9c2-73f05c5b65c7",
   "metadata": {},
   "outputs": [],
   "source": [
    "quiet_library <- function(...) {\n",
    "    suppressPackageStartupMessages(library(...))\n",
    "}\n",
    "quiet_library(Seurat)\n",
    "quiet_library(ggplot2)\n",
    "quiet_library(Matrix)\n",
    "quiet_library(H5weaver)\n",
    "quiet_library(dplyr)\n",
    "quiet_library(viridis)\n",
    "quiet_library(harmony)\n",
    "quiet_library(Nebulosa)"
   ]
  },
  {
   "cell_type": "markdown",
   "id": "f54ff7d7-7dc1-42d9-9a26-b47eca924aad",
   "metadata": {},
   "source": [
    "## Subset Gating <a class=\"anchor\" id=\"Subset\"></a>"
   ]
  },
  {
   "cell_type": "markdown",
   "id": "d9f28388-cf6f-4f97-9b91-b968649519dd",
   "metadata": {},
   "source": [
    "### Load Data <a class=\"anchor\" id=\"Load\"></a>"
   ]
  },
  {
   "cell_type": "code",
   "execution_count": null,
   "id": "9e93184f-7902-443d-a5e1-8364416211b5",
   "metadata": {},
   "outputs": [],
   "source": [
    "cd8 <- readRDS(file = '../../Seurat_Objects/cd8_subset.rds')"
   ]
  },
  {
   "cell_type": "code",
   "execution_count": null,
   "id": "383b48bb-496c-4ebb-945a-86f9c64848da",
   "metadata": {},
   "outputs": [],
   "source": [
    "sort(rownames(cd8[['ADT']]))"
   ]
  },
  {
   "cell_type": "code",
   "execution_count": null,
   "id": "f22b59b6-7d7e-4b28-8c41-3f42133c7dc0",
   "metadata": {},
   "outputs": [],
   "source": [
    "cd8.batch <- SplitObject(cd8, split.by = 'batch_id')"
   ]
  },
  {
   "cell_type": "code",
   "execution_count": null,
   "id": "292437a0-4158-4f36-9a61-7419179f4e56",
   "metadata": {},
   "outputs": [],
   "source": [
    "cd8.batch <- lapply(cd8.batch, function(x){\n",
    "    NormalizeData(x, assay = 'ADT', normalization.method = 'CLR', margin = 2)})"
   ]
  },
  {
   "cell_type": "code",
   "execution_count": null,
   "id": "189a8088-31ac-4b97-8d8b-90ae9bbc31d2",
   "metadata": {},
   "outputs": [],
   "source": [
    "df_build <- function(seurat_object){\n",
    "    meta <- seurat_object@meta.data\n",
    "    meta$TCRValpha7.2 <- as.vector(seurat_object@assays$ADT['TCR-Valpha7.2',])\n",
    "    meta$CD161 <- as.vector(seurat_object@assays$ADT['CD161',])\n",
    "    meta$CD197 <- as.vector(seurat_object@assays$ADT['CD197',])\n",
    "    meta$CD45RA <- as.vector(seurat_object@assays$ADT['CD45RA',])\n",
    "    meta$CD27 <- as.vector(seurat_object@assays$ADT['CD27',])\n",
    "    meta$imputed_CD197 <- as.vector(seurat_object@assays$x10_ADT['CD197',])\n",
    "    meta$raw_CD197 <- as.vector(seurat_object@assays$ADT@counts['CD197',])\n",
    "    meta$raw_CD45RA <- as.vector(seurat_object@assays$ADT@counts['CD45RA',])\n",
    "    meta$raw_CD27 <- as.vector(seurat_object@assays$ADT@counts['CD27',])\n",
    "    return(meta)}"
   ]
  },
  {
   "cell_type": "code",
   "execution_count": null,
   "id": "b380c5a3-d630-405c-a485-348e4f830ca5",
   "metadata": {},
   "outputs": [],
   "source": [
    "dnT <- readRDS(file = '../../Seurat_Objects/dnT_subset.rds')"
   ]
  },
  {
   "cell_type": "code",
   "execution_count": null,
   "id": "12d624dc-b152-4c8f-8dca-e0a3f7b0ea2c",
   "metadata": {},
   "outputs": [],
   "source": [
    "dnT"
   ]
  },
  {
   "cell_type": "code",
   "execution_count": null,
   "id": "d99947b7-2c17-495f-a947-c0f3a06e7e3f",
   "metadata": {},
   "outputs": [],
   "source": [
    "dnT.batch <- SplitObject(dnT, split.by = 'batch_id')"
   ]
  },
  {
   "cell_type": "code",
   "execution_count": null,
   "id": "ddf37e93-5ba5-417e-9752-fb6969a52eec",
   "metadata": {},
   "outputs": [],
   "source": [
    "dnT.batch <- lapply(dnT.batch, function(x){\n",
    "    NormalizeData(x, assay = 'ADT', normalization.method = 'CLR', margin = 2)})"
   ]
  },
  {
   "cell_type": "markdown",
   "id": "14cb0bdd-4981-4eed-bda4-68c75933c27d",
   "metadata": {},
   "source": [
    "### CD8 MAIT Cells  <a class=\"anchor\" id=\"MAIT\"></a>"
   ]
  },
  {
   "cell_type": "code",
   "execution_count": null,
   "id": "00bfa692-1a63-4774-be2c-1689a8d34e5a",
   "metadata": {},
   "outputs": [],
   "source": [
    "options(repr.plot.width = 24, repr.plot.height = 8)\n",
    "p1 <- FeatureScatter(object = cd8.batch$B065, feature1 = 'adt_TCR-Valpha7.2', feature2 = 'adt_CD161', group.by = 'predicted.t_celltype.l2') & geom_vline(xintercept = 0.75) & geom_hline(yintercept = 1.5)\n",
    "p2 <- FeatureScatter(object = cd8.batch$B069, feature1 = 'adt_TCR-Valpha7.2', feature2 = 'adt_CD161', group.by = 'predicted.t_celltype.l2') & geom_vline(xintercept = 0.75) & geom_hline(yintercept = 1.25)\n",
    "p3 <- FeatureScatter(object = cd8.batch$B076, feature1 = 'adt_TCR-Valpha7.2', feature2 = 'adt_CD161', group.by = 'predicted.t_celltype.l2') & geom_vline(xintercept = 0.5) & geom_hline(yintercept = 0.75)\n",
    "p1 + p2 + p3"
   ]
  },
  {
   "cell_type": "code",
   "execution_count": null,
   "id": "3efe2db1-3b34-45a2-a39b-448104565eea",
   "metadata": {},
   "outputs": [],
   "source": [
    "mait_b065 <- subset(cd8.batch$`B065`, subset = `adt_TCR-Valpha7.2` > 0.75 & adt_CD161 > 1.5)\n",
    "mait_b069 <- subset(cd8.batch$`B069`, subset = `adt_TCR-Valpha7.2` > 0.75 & adt_CD161 > 1.25)\n",
    "mait_b076 <- subset(cd8.batch$`B076`, subset = `adt_TCR-Valpha7.2` > 0.5 & adt_CD161 > 0.75)"
   ]
  },
  {
   "cell_type": "code",
   "execution_count": null,
   "id": "41012eee-4bec-4351-b700-1e7880a6ca65",
   "metadata": {},
   "outputs": [],
   "source": [
    "mait_merge <- merge(mait_b065, c(mait_b069, mait_b076))"
   ]
  },
  {
   "cell_type": "code",
   "execution_count": null,
   "id": "543b970d-6e14-4530-8cbd-c97987099029",
   "metadata": {},
   "outputs": [],
   "source": [
    "mait_merge$mnp_analysis <- 'CD8 MAIT'"
   ]
  },
  {
   "cell_type": "markdown",
   "id": "68eb5024-0aba-4a14-bf47-bb42f97f3ea4",
   "metadata": {},
   "source": [
    "### dnT MAIT Cells  <a class=\"anchor\" id=\"dnTMAIT\"></a>"
   ]
  },
  {
   "cell_type": "code",
   "execution_count": null,
   "id": "50cc7860-02e7-4e2a-a41f-1c159e715926",
   "metadata": {},
   "outputs": [],
   "source": [
    "options(repr.plot.width = 24, repr.plot.height = 8)\n",
    "p1 <- FeatureScatter(object = dnT.batch$B065, feature1 = 'adt_TCR-Valpha7.2', feature2 = 'adt_CD161', group.by = 'predicted.t_celltype.l2') & geom_vline(xintercept = 0.75) & geom_hline(yintercept = 1.5)\n",
    "p2 <- FeatureScatter(object = dnT.batch$B069, feature1 = 'adt_TCR-Valpha7.2', feature2 = 'adt_CD161', group.by = 'predicted.t_celltype.l2') & geom_vline(xintercept = 0.75) & geom_hline(yintercept = 1.25)\n",
    "p3 <- FeatureScatter(object = dnT.batch$B076, feature1 = 'adt_TCR-Valpha7.2', feature2 = 'adt_CD161', group.by = 'predicted.t_celltype.l2') & geom_vline(xintercept = 0.5) & geom_hline(yintercept = 0.75)\n",
    "p1 + p2 + p3"
   ]
  },
  {
   "cell_type": "code",
   "execution_count": null,
   "id": "de6a16ad-6431-42a1-ba69-589570155c64",
   "metadata": {},
   "outputs": [],
   "source": [
    "dnTmait_b065 <- subset(dnT.batch$`B065`, subset = `adt_TCR-Valpha7.2` > 0.75 & adt_CD161 > 1.5)\n",
    "dnTmait_b069 <- subset(dnT.batch$`B069`, subset = `adt_TCR-Valpha7.2` > 0.75 & adt_CD161 > 1.25)\n",
    "dnTmait_b076 <- subset(dnT.batch$`B076`, subset = `adt_TCR-Valpha7.2` > 0.5 & adt_CD161 > 0.75)"
   ]
  },
  {
   "cell_type": "code",
   "execution_count": null,
   "id": "1013b3c1-4ca4-419d-94b1-761be0d85e20",
   "metadata": {},
   "outputs": [],
   "source": [
    "dntmait_merge <- merge(dnTmait_b065, c(dnTmait_b069, dnTmait_b076))"
   ]
  },
  {
   "cell_type": "code",
   "execution_count": null,
   "id": "7776c3e2-83ae-44ce-a30f-3e36a87edead",
   "metadata": {},
   "outputs": [],
   "source": [
    "dntmait_merge$mnp_analysis <- 'dnT MAIT'"
   ]
  },
  {
   "cell_type": "code",
   "execution_count": null,
   "id": "cf11df57-bf35-4f22-a1f1-0a129eda4112",
   "metadata": {},
   "outputs": [],
   "source": [
    "mait_merge <- merge(mait_merge, dntmait_merge)"
   ]
  },
  {
   "cell_type": "code",
   "execution_count": null,
   "id": "a69239a0-78a7-4699-a902-b8bcf71202f9",
   "metadata": {},
   "outputs": [],
   "source": [
    "saveRDS(mait_merge, 'mait_merge.rds')"
   ]
  },
  {
   "cell_type": "code",
   "execution_count": null,
   "id": "33e973a9-fba7-4b88-8ea7-0c1451a32702",
   "metadata": {},
   "outputs": [],
   "source": [
    "dnT_b065 <- subset(dnT.batch$`B065`, subset = `adt_TCR-Valpha7.2` > 0.75 & adt_CD161 > 1.5, invert = TRUE)\n",
    "dnT_b069 <- subset(dnT.batch$`B069`, subset = `adt_TCR-Valpha7.2` > 0.75 & adt_CD161 > 1.25, invert = TRUE)\n",
    "dnT_b076 <- subset(dnT.batch$`B076`, subset = `adt_TCR-Valpha7.2` > 0.5 & adt_CD161 > 0.75, invert = TRUE)"
   ]
  },
  {
   "cell_type": "code",
   "execution_count": null,
   "id": "fe069f58-7436-4d24-a3f7-95e4f6855176",
   "metadata": {},
   "outputs": [],
   "source": [
    "dnt_nonMAIT <- merge(dnT_b065,c(dnT_b069,dnT_b076))"
   ]
  },
  {
   "cell_type": "code",
   "execution_count": null,
   "id": "b3561c92-2dec-4d4d-be74-ca87438b081a",
   "metadata": {},
   "outputs": [],
   "source": [
    "saveRDS(dnt_nonMAIT, 'nonMAIT_merge.rds')"
   ]
  },
  {
   "cell_type": "code",
   "execution_count": null,
   "id": "f86cc736-605f-4169-8ac4-9e9e568b9cd1",
   "metadata": {},
   "outputs": [],
   "source": [
    "sessionInfo()"
   ]
  }
 ],
 "metadata": {
  "kernelspec": {
   "display_name": "R 4",
   "language": "R",
   "name": "ir"
  },
  "language_info": {
   "codemirror_mode": "r",
   "file_extension": ".r",
   "mimetype": "text/x-r-source",
   "name": "R",
   "pygments_lexer": "r",
   "version": "4.1.2"
  }
 },
 "nbformat": 4,
 "nbformat_minor": 5
}
