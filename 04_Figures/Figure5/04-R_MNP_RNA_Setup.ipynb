{
 "cells": [
  {
   "cell_type": "code",
   "execution_count": null,
   "id": "6591158e-9433-406b-a06b-61fa58314ecf",
   "metadata": {},
   "outputs": [],
   "source": [
    "quiet_library <- function(...) {\n",
    "    suppressPackageStartupMessages(library(...))\n",
    "}\n",
    "quiet_library(Seurat)\n",
    "quiet_library(ggplot2)\n",
    "quiet_library(Matrix)\n",
    "quiet_library(H5weaver)\n",
    "quiet_library(dplyr)\n",
    "quiet_library(viridis)\n",
    "quiet_library(harmony)\n",
    "quiet_library(Nebulosa)"
   ]
  },
  {
   "cell_type": "markdown",
   "id": "d8d2e109-c5ba-4502-bffc-b5fa571cafeb",
   "metadata": {},
   "source": [
    "# Subset MNP-2 cluster"
   ]
  },
  {
   "cell_type": "code",
   "execution_count": null,
   "id": "35ae5986-58cc-4b1f-b803-0abd344e1893",
   "metadata": {},
   "outputs": [],
   "source": [
    "sp_merge <- readRDS(file = '../../Seurat_Objects/sp_merge_gating_celltype_updated.rds')"
   ]
  },
  {
   "cell_type": "code",
   "execution_count": null,
   "id": "98ac749c-2498-4048-a1dc-39037b245df3",
   "metadata": {},
   "outputs": [],
   "source": [
    "options(repr.plot.width = 12, repr.plot.height = 8)\n",
    "DimPlot(sp_merge, group.by = 'wsnn_res.0.5', label = TRUE, reduction = 'wnn.3.umap')"
   ]
  },
  {
   "cell_type": "code",
   "execution_count": null,
   "id": "6fdd8775-1dc5-4212-ae05-5ffd8bef4f49",
   "metadata": {},
   "outputs": [],
   "source": [
    "sp_merge <- SetIdent(sp_merge, value = 'wsnn_res.0.5')\n",
    "mnp2 <- subset(sp_merge, idents = 18)"
   ]
  },
  {
   "cell_type": "code",
   "execution_count": null,
   "id": "ea87067e-8bfe-4cc2-8094-56ad2fdd2031",
   "metadata": {},
   "outputs": [],
   "source": [
    "mnp2$mnp_analysis <- 'MNP-2'"
   ]
  },
  {
   "cell_type": "markdown",
   "id": "da72e56f-1919-49c6-ad93-df6656331017",
   "metadata": {},
   "source": [
    "# Merge with gdT & MAIT"
   ]
  },
  {
   "cell_type": "code",
   "execution_count": null,
   "id": "0ce6c29a-0a89-4cd7-adfd-d0f081eadb0f",
   "metadata": {},
   "outputs": [],
   "source": [
    "mait_merge <- readRDS('mait_merge.rds')\n",
    "gdT <- readRDS('gdT_subset.rds')"
   ]
  },
  {
   "cell_type": "code",
   "execution_count": null,
   "id": "e0c09174-018f-44ff-a336-517f822542db",
   "metadata": {},
   "outputs": [],
   "source": [
    "mnp_merge <- merge(mnp2, c(mait_merge, gdT))"
   ]
  },
  {
   "cell_type": "code",
   "execution_count": null,
   "id": "1e5fa2e7-79b9-4469-8046-83e49fc71973",
   "metadata": {},
   "outputs": [],
   "source": [
    "saveRDS(mnp_merge, 'mnp_merge_updated.rds')"
   ]
  },
  {
   "cell_type": "code",
   "execution_count": null,
   "id": "9e372b5e-f13c-49be-8ef4-138f69316fd4",
   "metadata": {},
   "outputs": [],
   "source": [
    "sessionInfo()"
   ]
  }
 ],
 "metadata": {
  "kernelspec": {
   "display_name": "R 4",
   "language": "R",
   "name": "ir"
  },
  "language_info": {
   "codemirror_mode": "r",
   "file_extension": ".r",
   "mimetype": "text/x-r-source",
   "name": "R",
   "pygments_lexer": "r",
   "version": "4.1.2"
  }
 },
 "nbformat": 4,
 "nbformat_minor": 5
}
