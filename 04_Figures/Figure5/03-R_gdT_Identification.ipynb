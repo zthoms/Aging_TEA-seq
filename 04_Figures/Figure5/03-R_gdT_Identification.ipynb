{
 "cells": [
  {
   "cell_type": "markdown",
   "id": "35acc3ac-cc41-4816-9938-cc4d72ecb2e7",
   "metadata": {},
   "source": [
    "# Basic 3WNN Clustering w/ Gated Labels"
   ]
  },
  {
   "cell_type": "code",
   "execution_count": null,
   "id": "1a2d062b-3a54-4737-a7d8-b3394c97a063",
   "metadata": {},
   "outputs": [],
   "source": [
    "quiet_library <- function(...) {\n",
    "    suppressPackageStartupMessages(library(...))\n",
    "}\n",
    "quiet_library(Seurat)\n",
    "quiet_library(ggplot2)\n",
    "quiet_library(Matrix)\n",
    "quiet_library(H5weaver)\n",
    "quiet_library(dplyr)\n",
    "quiet_library(viridis)\n",
    "quiet_library(harmony)\n",
    "quiet_library(Nebulosa)\n",
    "quiet_library(ArchR)"
   ]
  },
  {
   "cell_type": "code",
   "execution_count": null,
   "id": "8c5d2206-e166-47ab-bac7-878e1c0e1a0a",
   "metadata": {},
   "outputs": [],
   "source": [
    "addArchRThreads(32)\n",
    "addArchRGenome(\"hg38\")"
   ]
  },
  {
   "cell_type": "markdown",
   "id": "618e6dfe-57a9-4d3d-9ed2-5215b1f6b564",
   "metadata": {},
   "source": [
    "# Load dnT Subset"
   ]
  },
  {
   "cell_type": "code",
   "execution_count": null,
   "id": "12980cfb-d695-43cf-a4de-e6fcda79630e",
   "metadata": {},
   "outputs": [],
   "source": [
    "dnT <- readRDS('nonMAIT_merge.rds')"
   ]
  },
  {
   "cell_type": "markdown",
   "id": "6a65232c-3f5c-4b5c-9a01-4d41a03eda9a",
   "metadata": {},
   "source": [
    "# Add Metadata"
   ]
  },
  {
   "cell_type": "code",
   "execution_count": null,
   "id": "6f618fed-65b6-47b3-a827-cae831829fd8",
   "metadata": {},
   "outputs": [],
   "source": [
    "dnT <- SetIdent(dnT, value = 'pbmc_sample_id')\n",
    "dnT <- RenameIdents(dnT,\n",
    "                           'PB00173-02' = 'Positive', #validated\n",
    "                           'PB00192-02' = 'Negative', #validated\n",
    "                           'PB00197-02' = 'Negative', #validated\n",
    "                           'PB00593-04' = 'Positive', #validated\n",
    "                           'PB00172-02' = 'Positive',\n",
    "                           'PB00182-02' = 'Negative',\n",
    "                           'PB00323-02' = 'Positive',\n",
    "                           'PB00807-02' = 'Positive',\n",
    "                           'PB00124-02' = 'Positive',\n",
    "                           'PB00127-02' = 'Negative',\n",
    "                           'PB00334-03' = 'Negative',\n",
    "                           'PB00353-03' = 'Negative',\n",
    "                           'PB00368-04' = 'Positive',\n",
    "                           'PB00377-03' = 'Negative',\n",
    "                           'PB00545-02' = 'Negative',\n",
    "                           'PB00599-02' = 'Positive')\n",
    "dnT$CMV <- Idents(dnT)"
   ]
  },
  {
   "cell_type": "code",
   "execution_count": null,
   "id": "79000a2a-9974-4d71-8af0-e11d8ac8798e",
   "metadata": {},
   "outputs": [],
   "source": [
    "dnT <- SetIdent(dnT, value = 'pbmc_sample_id')\n",
    "dnT <- RenameIdents(dnT,\n",
    "                           'PB00173-02' = 'UP1006', #validated\n",
    "                           'PB00192-02' = 'UP1007', #validated\n",
    "                           'PB00197-02' = 'UP1010', #validated\n",
    "                           'PB00593-04' = 'BR2002', #validated\n",
    "                           'PB00172-02' = 'UP1002',\n",
    "                           'PB00182-02' = 'UP1003',\n",
    "                           'PB00323-02' = 'BR2004',\n",
    "                           'PB00807-02' = 'UP1005',\n",
    "                           'PB00124-02' = 'UP1001',\n",
    "                           'PB00127-02' = 'UP1004',\n",
    "                           'PB00334-03' = 'BR2009',\n",
    "                           'PB00353-03' = 'BR2008',\n",
    "                           'PB00368-04' = 'BR2005',\n",
    "                           'PB00377-03' = 'BR2015',\n",
    "                           'PB00545-02' = 'BR2042',\n",
    "                           'PB00599-02' = 'BR2052')\n",
    "dnT$subject_id <- Idents(dnT)"
   ]
  },
  {
   "cell_type": "code",
   "execution_count": null,
   "id": "8c2fbc18-d7d3-48d1-b328-e0e851fb93a0",
   "metadata": {},
   "outputs": [],
   "source": [
    "dnT$age_cmv <- paste0(dnT$pediatric_senior,\"_CMV-\",dnT$CMV)"
   ]
  },
  {
   "cell_type": "markdown",
   "id": "ffdf1c05-bbac-4d50-8128-1e40b1f79e1c",
   "metadata": {},
   "source": [
    "# RNA Clustering"
   ]
  },
  {
   "cell_type": "code",
   "execution_count": null,
   "id": "786719cd-f922-4e5c-96a9-ed5db1861e5c",
   "metadata": {},
   "outputs": [],
   "source": [
    "outlier_genes <- c('AC105402.3','MTRNR2L8','EDA','IFNG-AS1')"
   ]
  },
  {
   "cell_type": "code",
   "execution_count": null,
   "id": "cb7c8537-3536-491f-8eda-7719f767c944",
   "metadata": {
    "scrolled": true,
    "tags": []
   },
   "outputs": [],
   "source": [
    "dnT <- suppressWarnings(SCTransform(dnT)) %>% RunPCA()"
   ]
  },
  {
   "cell_type": "code",
   "execution_count": null,
   "id": "54b21368-5233-4782-b528-2d5797d8d81d",
   "metadata": {},
   "outputs": [],
   "source": [
    "var_feat_sct <- dnT@assays$SCT@var.features\n",
    "length(var_feat_sct)"
   ]
  },
  {
   "cell_type": "code",
   "execution_count": null,
   "id": "f29ff6fb-50fd-443c-96c6-0c4298e13e2d",
   "metadata": {},
   "outputs": [],
   "source": [
    "outlier_genes %in% dnT@assays$SCT@var.features"
   ]
  },
  {
   "cell_type": "code",
   "execution_count": null,
   "id": "fc6b3d52-0a4c-40bb-9a01-5e0f32c1e9a2",
   "metadata": {},
   "outputs": [],
   "source": [
    "var_feats <- dnT@assays$SCT@var.features\n",
    "var_feats_trim <- var_feats[!(var_feats %in% outlier_genes)]\n",
    "length(var_feats_trim)"
   ]
  },
  {
   "cell_type": "code",
   "execution_count": null,
   "id": "89010708-1b49-4a81-95b6-72e2800789bf",
   "metadata": {
    "scrolled": true,
    "tags": []
   },
   "outputs": [],
   "source": [
    "dnT <- suppressWarnings(SCTransform(dnT, residual.features = var_feats_trim)) %>% RunPCA()"
   ]
  },
  {
   "cell_type": "code",
   "execution_count": null,
   "id": "a5987589-dfea-4241-bf04-96a565e4a236",
   "metadata": {},
   "outputs": [],
   "source": [
    "options(repr.plot.width = 8, repr.plot.height = 4)\n",
    "dnT <- suppressWarnings(RunHarmony(object = dnT, reduction.save = 'rna_harmony',group.by.vars = 'batch_id', reduction = 'pca', \n",
    "                                           plot_convergence = T, assay.use = 'SCT'))"
   ]
  },
  {
   "cell_type": "code",
   "execution_count": null,
   "id": "640a1277-e383-4a45-b2f3-a0368d4f20eb",
   "metadata": {},
   "outputs": [],
   "source": [
    "ElbowPlot(dnT, ndims = 50)"
   ]
  },
  {
   "cell_type": "code",
   "execution_count": null,
   "id": "411d0576-5b7d-44e4-a40a-0b509e57ecaf",
   "metadata": {
    "scrolled": true,
    "tags": []
   },
   "outputs": [],
   "source": [
    "dnT <- RunUMAP(dnT, dims = 1:20, reduction = 'rna_harmony')"
   ]
  },
  {
   "cell_type": "markdown",
   "id": "69816689-7463-48e5-bcae-a4e8e5e87bbd",
   "metadata": {},
   "source": [
    "## RNA UMAPs"
   ]
  },
  {
   "cell_type": "code",
   "execution_count": null,
   "id": "70e24c46-23e6-4ed6-a42a-7052f6ba8334",
   "metadata": {},
   "outputs": [],
   "source": [
    "options(repr.plot.width = 20, repr.plot.height = 10)\n",
    "p1 <- DimPlot(dnT, reduction = 'umap', group.by = 'predicted.t_celltype.l2', shuffle = TRUE)\n",
    "p2 <- DimPlot(dnT, reduction = 'umap', group.by = 'pediatric_senior', shuffle = TRUE)\n",
    "p3 <- DimPlot(dnT, reduction = 'umap', group.by = 'age_cmv', shuffle = TRUE)\n",
    "p4 <- DimPlot(dnT, reduction = 'umap', group.by = 'pbmc_sample_id', shuffle = TRUE)\n",
    "p1 + p2 + p3 + p4"
   ]
  },
  {
   "cell_type": "code",
   "execution_count": null,
   "id": "13afb73e-827e-467d-9c23-8e329e69ff4e",
   "metadata": {},
   "outputs": [],
   "source": [
    "options(repr.plot.width = 20, repr.plot.height = 12)\n",
    "suppressMessages(FeaturePlot(dnT, features = c('sct_IFNG-AS1','sct_EDA','sct_SOX4','sct_ZNF683'), \n",
    "                             ncol = 2,reduction = 'umap', order = TRUE) & scale_color_viridis())"
   ]
  },
  {
   "cell_type": "markdown",
   "id": "dcc7b8a1-b6ce-4313-bea2-41b7d294311c",
   "metadata": {},
   "source": [
    "# ADT Clustering"
   ]
  },
  {
   "cell_type": "code",
   "execution_count": null,
   "id": "b572ac7c-d8d5-4ae4-a4d7-3dcbb8934cbf",
   "metadata": {},
   "outputs": [],
   "source": [
    "adts_to_remove <- c('CD134','CD172a','CD183','CD366','CX3CR1','TCRab','TCRgd','CD137','CD24','CD294','CD304','CD40','CD80','CD86','IgG1-K-Isotype-Control')\n",
    "adt_mtx <- dnT@assays$ADT@counts\n",
    "length(rownames(adt_mtx))"
   ]
  },
  {
   "cell_type": "code",
   "execution_count": null,
   "id": "c29ecb62-a322-4943-aad6-912340b1ff21",
   "metadata": {},
   "outputs": [],
   "source": [
    "idx <- which(rownames(adt_mtx) %in% adts_to_remove)\n",
    "clean_adt_mtx <- adt_mtx[-idx,]\n",
    "length(rownames(clean_adt_mtx))"
   ]
  },
  {
   "cell_type": "code",
   "execution_count": null,
   "id": "79886ef1-758d-483e-9fa8-c6e27b0f0891",
   "metadata": {},
   "outputs": [],
   "source": [
    "dnT[['clean_adt']] <- CreateAssayObject(clean_adt_mtx)\n",
    "DefaultAssay(dnT) <- 'clean_adt'"
   ]
  },
  {
   "cell_type": "code",
   "execution_count": null,
   "id": "a9c4a5f4-6273-45cf-91f0-0820ee63af1a",
   "metadata": {
    "scrolled": true,
    "tags": []
   },
   "outputs": [],
   "source": [
    "# cluster by ADTs, make sure to save under all new reductions and keys \n",
    "VariableFeatures(dnT) <- rownames(dnT[[\"clean_adt\"]])\n",
    "dnT <- NormalizeData(dnT, normalization.method = 'CLR', margin = 2) %>% \n",
    "     ScaleData() %>% RunPCA(reduction.name = 'apca', approx = FALSE, reduction.key = 'APC_')"
   ]
  },
  {
   "cell_type": "code",
   "execution_count": null,
   "id": "4c87d0ef-e013-4950-9170-803e472382fe",
   "metadata": {
    "scrolled": true,
    "tags": []
   },
   "outputs": [],
   "source": [
    "options(repr.plot.width = 8, repr.plot.height = 4)\n",
    "dnT <- suppressWarnings(RunHarmony(object = dnT, reduction.save = 'adt_harmony',group.by.vars = 'batch_id', reduction = 'apca', \n",
    "                                           plot_convergence = T, assay.use = 'clean_adt'))"
   ]
  },
  {
   "cell_type": "code",
   "execution_count": null,
   "id": "3217ab3e-2f5d-458c-a502-f25da2ca4501",
   "metadata": {
    "scrolled": true,
    "tags": []
   },
   "outputs": [],
   "source": [
    "dnT <- RunUMAP(dnT, reduction = 'adt_harmony', reduction.name = 'adtumap', dims = 1:20)"
   ]
  },
  {
   "cell_type": "markdown",
   "id": "894bbab0-27ee-4dbc-85e6-edd7cd98604b",
   "metadata": {},
   "source": [
    "## ADT UMAPs"
   ]
  },
  {
   "cell_type": "code",
   "execution_count": null,
   "id": "1ead29fd-5023-4cef-90b6-e996f0d4256a",
   "metadata": {},
   "outputs": [],
   "source": [
    "options(repr.plot.width = 20, repr.plot.height = 10)\n",
    "p1 <- DimPlot(dnT, reduction = 'adtumap', group.by = 'predicted.t_celltype.l2')\n",
    "p2 <- DimPlot(dnT, reduction = 'adtumap', group.by = 'pediatric_senior')\n",
    "p3 <- DimPlot(dnT, reduction = 'adtumap', group.by = 'age_cmv')\n",
    "p4 <- DimPlot(dnT, reduction = 'adtumap', group.by = 'pbmc_sample_id')\n",
    "p1 + p2 + p3 + p4"
   ]
  },
  {
   "cell_type": "markdown",
   "id": "06039e77-15dc-414a-86f0-dbbec162aaa1",
   "metadata": {},
   "source": [
    "# ATAC Clustering"
   ]
  },
  {
   "cell_type": "markdown",
   "id": "963d56a7-a0e2-467d-babd-63446b17729f",
   "metadata": {},
   "source": [
    "## Load ArchR Project"
   ]
  },
  {
   "cell_type": "code",
   "execution_count": null,
   "id": "986b925c-1b4e-496d-9660-d097814df41d",
   "metadata": {},
   "outputs": [],
   "source": [
    "proj <- loadArchRProject(path = 'gdT/')\n",
    "proj"
   ]
  },
  {
   "cell_type": "markdown",
   "id": "9ea15897-8a92-4968-9a69-5cbff03c81c1",
   "metadata": {},
   "source": [
    "## Subset ArchR Project"
   ]
  },
  {
   "cell_type": "code",
   "execution_count": null,
   "id": "53a9031f-f4d6-4e62-bf28-78a789776c39",
   "metadata": {},
   "outputs": [],
   "source": [
    "bcs <- colnames(dnT[['RNA']])\n",
    "head(bcs)"
   ]
  },
  {
   "cell_type": "code",
   "execution_count": null,
   "id": "92563ef1-8481-4590-849a-5c85f92a758a",
   "metadata": {},
   "outputs": [],
   "source": [
    "idx_new <- which(proj$cellNames_clean %in% bcs)\n",
    "head(idx_new)"
   ]
  },
  {
   "cell_type": "code",
   "execution_count": null,
   "id": "7de83fe1-41fe-4dc9-a729-0b678559787a",
   "metadata": {},
   "outputs": [],
   "source": [
    "cells_subset <- proj$cellNames[idx_new]\n",
    "proj_subset <- proj[cells_subset,]\n",
    "proj_subset"
   ]
  },
  {
   "cell_type": "markdown",
   "id": "fe6f0ff7-73e7-4283-b712-3888f76a285a",
   "metadata": {},
   "source": [
    "## ATAC Clustering"
   ]
  },
  {
   "cell_type": "code",
   "execution_count": null,
   "id": "5ca8bb60-affa-4a7d-984f-02a31cdb40c9",
   "metadata": {
    "scrolled": true,
    "tags": []
   },
   "outputs": [],
   "source": [
    "proj_subset <- addIterativeLSI(proj_subset, name = 'IterativeLSI', force = TRUE)"
   ]
  },
  {
   "cell_type": "code",
   "execution_count": null,
   "id": "5306d84f-d9f1-4b21-b79c-c9e0530c2b17",
   "metadata": {},
   "outputs": [],
   "source": [
    "proj_subset <- addHarmony(proj_subset, reducedDims = 'IterativeLSI', groupBy = 'batch_id', force = TRUE)"
   ]
  },
  {
   "cell_type": "code",
   "execution_count": null,
   "id": "2fecadd3-6a9b-442d-8be1-70f75332d32f",
   "metadata": {
    "scrolled": true,
    "tags": []
   },
   "outputs": [],
   "source": [
    "#proj_subset <- addClusters(proj_subset, reducedDims = 'IterativeLSI', name = 'Clusters', force = TRUE, resolution = 0.2)\n",
    "proj_subset <- addClusters(proj_subset, reducedDims = 'Harmony', name = 'Clusters', force = TRUE, resolution = 0.2)"
   ]
  },
  {
   "cell_type": "code",
   "execution_count": null,
   "id": "6cbc9976-9dcc-4ce2-82e5-fe10ad003706",
   "metadata": {
    "scrolled": true,
    "tags": []
   },
   "outputs": [],
   "source": [
    "#proj_subset <- addUMAP(proj_subset, reducedDims = 'IterativeLSI', name = 'UMAP', force = TRUE)\n",
    "proj_subset <- addUMAP(proj_subset, reducedDims = 'Harmony', name = 'UMAP', force = TRUE)"
   ]
  },
  {
   "cell_type": "code",
   "execution_count": null,
   "id": "e51c15b9-9910-487f-8c2f-8d6dfe53dcca",
   "metadata": {
    "scrolled": true,
    "tags": []
   },
   "outputs": [],
   "source": [
    "options(repr.plodnTidth = 8, repr.plot.height = 8)\n",
    "plotEmbedding(ArchRProj = proj_subset, colorBy = \"cellColData\", name = \"Clusters\", embedding = \"UMAP\")\n",
    "# plotEmbedding(ArchRProj = proj_subset, colorBy = \"cellColData\", name = \"pediatric_senior\", embedding = \"UMAP\")\n",
    "# plotEmbedding(ArchRProj = proj_subset, colorBy = \"cellColData\", name = \"predicted.t_celltype.l2\", embedding = \"UMAP\")"
   ]
  },
  {
   "cell_type": "markdown",
   "id": "e767f764-ec64-44d9-8e9b-2e471882f8c4",
   "metadata": {},
   "source": [
    "## Export LSI"
   ]
  },
  {
   "cell_type": "code",
   "execution_count": null,
   "id": "c2c287ea-3c6f-4619-a9f7-3e1ae5a59b09",
   "metadata": {},
   "outputs": [],
   "source": [
    "#lsi <- getReducedDims(proj_subset, reducedDims = 'IterativeLSI')\n",
    "lsi <- getReducedDims(proj_subset, reducedDims = 'Harmony')"
   ]
  },
  {
   "cell_type": "markdown",
   "id": "2f0708df-b901-421e-8c60-0929aed2c513",
   "metadata": {},
   "source": [
    "## Import LSI to Seurat Object"
   ]
  },
  {
   "cell_type": "code",
   "execution_count": null,
   "id": "f5b84ab8-2d46-40b3-9f3b-04f578bb2f16",
   "metadata": {},
   "outputs": [],
   "source": [
    "rna_metadata <- dnT@meta.data\n",
    "archr_style_barcodes <- paste(rna_metadata$batch_id, \"-P1_\",rna_metadata$pbmc_sample_id,\"#\",rownames(rna_metadata), sep = \"\")\n",
    "head(archr_style_barcodes)"
   ]
  },
  {
   "cell_type": "code",
   "execution_count": null,
   "id": "f6ada9f6-69f3-4f84-969b-a7b4642248e5",
   "metadata": {},
   "outputs": [],
   "source": [
    "# create data frame w/ seurat barcodes and archr style barcodes\n",
    "bc_df <- data.frame(seurat_bcs = colnames(dnT@assays$RNA),\n",
    "                    archr_style = archr_style_barcodes)"
   ]
  },
  {
   "cell_type": "code",
   "execution_count": null,
   "id": "6d8c6236-0719-4c5e-872e-57929ee7a721",
   "metadata": {},
   "outputs": [],
   "source": [
    "# Find Intersection & subset LSI\n",
    "bc_idx <- intersect(rownames(lsi), archr_style_barcodes)"
   ]
  },
  {
   "cell_type": "code",
   "execution_count": null,
   "id": "b8c9f076-1b12-4c12-bf1b-695f3193fa3c",
   "metadata": {},
   "outputs": [],
   "source": [
    "lsi_subset <- subset(lsi, subset = rownames(lsi) %in% bc_idx)\n",
    "bc_df_subset <- subset(bc_df, subset = bc_df$archr_style %in% bc_idx)\n",
    "length(rownames(lsi_subset))\n",
    "length(rownames(bc_df_subset))"
   ]
  },
  {
   "cell_type": "code",
   "execution_count": null,
   "id": "7525942a-4798-4004-97b0-ded737cc34b1",
   "metadata": {},
   "outputs": [],
   "source": [
    "table(bc_df_subset$archr_style == rownames(lsi_subset))"
   ]
  },
  {
   "cell_type": "code",
   "execution_count": null,
   "id": "a1464ea1-3b46-4ca6-a452-1f56e2bf87a7",
   "metadata": {},
   "outputs": [],
   "source": [
    "lsi_subset <- lsi_subset[match(bc_df_subset$archr_style, rownames(lsi_subset)),]"
   ]
  },
  {
   "cell_type": "code",
   "execution_count": null,
   "id": "f7b6156d-4d74-4103-8f16-ab6711935c83",
   "metadata": {},
   "outputs": [],
   "source": [
    "table(bc_df_subset$archr_style == rownames(lsi_subset))"
   ]
  },
  {
   "cell_type": "code",
   "execution_count": null,
   "id": "e9dd00de-b76a-4ff0-a489-165bce987bbe",
   "metadata": {},
   "outputs": [],
   "source": [
    "# replace LSI archr barcodes for seurat barcodes\n",
    "rownames(lsi_subset) <- bc_df_subset$seurat_bcs"
   ]
  },
  {
   "cell_type": "code",
   "execution_count": null,
   "id": "ae7202ae-ea67-4700-b8d6-2759d879c4f1",
   "metadata": {},
   "outputs": [],
   "source": [
    "dnT <- subset(dnT, cells = bc_df_subset$seurat_bcs)"
   ]
  },
  {
   "cell_type": "code",
   "execution_count": null,
   "id": "6c230b8e-ac15-455e-a551-22c18d962c53",
   "metadata": {},
   "outputs": [],
   "source": [
    "table(colnames(dnT[['RNA']]) == rownames(lsi_subset))"
   ]
  },
  {
   "cell_type": "code",
   "execution_count": null,
   "id": "49dd044e-6fef-4801-b02c-886f8d8aded9",
   "metadata": {},
   "outputs": [],
   "source": [
    "dnT[[\"lsit\"]] <- CreateDimReducObject(embeddings = lsi_subset, key = \"lsit_\", assay = \"Tiles\")"
   ]
  },
  {
   "cell_type": "markdown",
   "id": "76633dd9-17ca-4552-9718-c3088be82e26",
   "metadata": {},
   "source": [
    "## ATAC clustering in Seurat Object"
   ]
  },
  {
   "cell_type": "code",
   "execution_count": null,
   "id": "ea467bad-7f58-40b5-bc7c-262fd78fa575",
   "metadata": {
    "scrolled": true,
    "tags": []
   },
   "outputs": [],
   "source": [
    "DefaultAssay(dnT) <- 'Tiles'\n",
    "dnT <- RunUMAP(dnT, reduction = 'lsit', reduction.name = 'atac_umap', dims = 1:15, verbose = T, reduction.key = 'atacumap_')"
   ]
  },
  {
   "cell_type": "code",
   "execution_count": null,
   "id": "20158060-a91b-44d2-91c2-fe3d10eac75e",
   "metadata": {},
   "outputs": [],
   "source": [
    "options(repr.plot.width = 20, repr.plot.height = 10)\n",
    "p1 <- DimPlot(dnT, reduction = 'atac_umap', group.by = 'predicted.t_celltype.l2')\n",
    "p2 <- DimPlot(dnT, reduction = 'atac_umap', group.by = 'pediatric_senior')\n",
    "p3 <- DimPlot(dnT, reduction = 'atac_umap', group.by = 'age_cmv')\n",
    "p4 <- DimPlot(dnT, reduction = 'atac_umap', group.by = 'pbmc_sample_id')\n",
    "p1 + p2 + p3 + p4"
   ]
  },
  {
   "cell_type": "code",
   "execution_count": null,
   "id": "bfd29a8a-a0eb-4d59-8d1d-6f763bf8e60d",
   "metadata": {},
   "outputs": [],
   "source": [
    "#options(repr.plot.width = 20, repr.plot.height = 20)\n",
    "#DimPlot(dnT, reduction = 'atac_umap', group.by = 'gating_celltype', split.by = 'gating_celltype', ncol = 4)"
   ]
  },
  {
   "cell_type": "markdown",
   "id": "c5e17d59-7871-45ee-a010-2ba13050a678",
   "metadata": {},
   "source": [
    "# 3WNN Clustering"
   ]
  },
  {
   "cell_type": "code",
   "execution_count": null,
   "id": "429650b4-daf1-4024-a601-c592a36d95de",
   "metadata": {},
   "outputs": [],
   "source": [
    "dnT <- FindMultiModalNeighbors(dnT, reduction.list = list(\"rna_harmony\",\"adt_harmony\",'lsit'), dims.list = list(1:20,1:20,1:29), weighted.nn.name = \"X3way.weighted.nn\",\n",
    "                                      k.nn = 30, knn.range = 500, prune.SNN = 1/20)"
   ]
  },
  {
   "cell_type": "code",
   "execution_count": null,
   "id": "295ff7e4-194b-4ab7-b5de-bc40f06802dd",
   "metadata": {},
   "outputs": [],
   "source": [
    "dnT <- RunUMAP(dnT, nn.name = \"X3way.weighted.nn\", reduction.name = \"wnn.3.umap\", reduction.key = \"wnn.3.umap_\")"
   ]
  },
  {
   "cell_type": "code",
   "execution_count": null,
   "id": "90be9dea-5264-4aa8-a7f3-88090dd2cccf",
   "metadata": {},
   "outputs": [],
   "source": [
    "dnT <- FindClusters(dnT, graph.name = \"wsnn\", algorithm = 3, resolution = 1, verbose = TRUE)"
   ]
  },
  {
   "cell_type": "markdown",
   "id": "bb3d3c44-51ca-4636-90b7-269190254381",
   "metadata": {},
   "source": [
    "## 3WNN UMAPs"
   ]
  },
  {
   "cell_type": "code",
   "execution_count": null,
   "id": "61240b9d-60b8-4cf4-8b63-b3c41600be1d",
   "metadata": {},
   "outputs": [],
   "source": [
    "options(repr.plot.width = 18, repr.plot.height = 8)\n",
    "p1 <- DimPlot(dnT, reduction = 'wnn.3.umap', group.by = 'wsnn_res.1', label = TRUE)\n",
    "p2 <- DimPlot(dnT, reduction = 'wnn.3.umap', group.by = 'predicted.celltype.l2', shuffle = TRUE)\n",
    "p1 + p2"
   ]
  },
  {
   "cell_type": "markdown",
   "id": "b5d8c8f9-6ea5-4193-8073-f4c97c191d7b",
   "metadata": {},
   "source": [
    "# Constant Region Gene Expression"
   ]
  },
  {
   "cell_type": "code",
   "execution_count": null,
   "id": "20264261-7da7-4ef0-bcf2-25369e1384fb",
   "metadata": {},
   "outputs": [],
   "source": [
    "options(repr.plot.width = 15, repr.plot.height = 18)\n",
    "DefaultAssay(dnT) <- 'SCT'\n",
    "FeaturePlot(dnT, features = c('TRGC1','TRGC2','TRDC',\n",
    "                              'TRAC','TRBC1','TRBC2',\n",
    "                              'adt_TCRgd','cleanadt_CD16','cleanadt_CD56',\n",
    "                              'cleanadt_TCR-Valpha7.2','cleanadt_CD161'), ncol=3, order = TRUE, reduction = 'wnn.3.umap') & scale_color_viridis()"
   ]
  },
  {
   "cell_type": "code",
   "execution_count": null,
   "id": "d994ef2c-07f5-4b08-9681-31b85b320682",
   "metadata": {},
   "outputs": [],
   "source": [
    "DefaultAssay(dnT) <- 'SCT'\n",
    "p1 <- plot_density(dnT, c(\"TRDC\", \"TRGC1\"), joint = TRUE, reduction = 'wnn.3.umap')\n",
    "p2 <- plot_density(dnT, c(\"TRDC\", \"TRGC2\"), joint = TRUE, reduction = 'wnn.3.umap')\n",
    "p3 <- plot_density(dnT, c(\"TRAC\", \"TRBC1\"), joint = TRUE, reduction = 'wnn.3.umap')\n",
    "p4 <- plot_density(dnT, c(\"TRAC\", \"TRBC2\"), joint = TRUE, reduction = 'wnn.3.umap')\n",
    "DefaultAssay(dnT) <- 'clean_adt'\n",
    "p5 <- plot_density(dnT, c(\"CD56\", \"CD16\"), joint = TRUE, reduction = 'wnn.3.umap')\n",
    "p6 <- plot_density(dnT, c(\"CD161\", \"TCR-Valpha7.2\"), joint = TRUE, reduction = 'wnn.3.umap')"
   ]
  },
  {
   "cell_type": "code",
   "execution_count": null,
   "id": "2f8a21b7-2dfd-4a0c-8ae8-b1ce2228f70f",
   "metadata": {},
   "outputs": [],
   "source": [
    "library(cowplot)"
   ]
  },
  {
   "cell_type": "code",
   "execution_count": null,
   "id": "9a5f139b-fb07-4edb-8686-4a2c744eb919",
   "metadata": {},
   "outputs": [],
   "source": [
    "options(repr.plot.width = 12, repr.plot.height = 18)\n",
    "plot_grid(p1[[3]], p2[[3]], p3[[3]], p4[[3]], p5[[3]],p6[[3]], ncol = 2)"
   ]
  },
  {
   "cell_type": "markdown",
   "id": "8a74367c-63b2-4c3a-9a9c-6d0a08cdae30",
   "metadata": {},
   "source": [
    "# Subset gdT"
   ]
  },
  {
   "cell_type": "code",
   "execution_count": null,
   "id": "47cafd46-5f90-4b84-84f2-a3c19289fc64",
   "metadata": {},
   "outputs": [],
   "source": [
    "dnT <- SetIdent(dnT, value = 'wsnn_res.1')\n",
    "gdT <- subset(dnT, idents = c(0,1,2,3,4,6,7,8,16,18))\n",
    "gdT$mnp_analysis <- 'gdT'"
   ]
  },
  {
   "cell_type": "code",
   "execution_count": null,
   "id": "8b136812-9a99-4851-9e47-4e536f8a5ba2",
   "metadata": {},
   "outputs": [],
   "source": [
    "saveRDS(gdT, file = 'gdT_subset.rds')"
   ]
  },
  {
   "cell_type": "code",
   "execution_count": null,
   "id": "01a4a0bb-133c-4122-b118-d30b1c934ce3",
   "metadata": {},
   "outputs": [],
   "source": [
    "sessionInfo()"
   ]
  }
 ],
 "metadata": {
  "kernelspec": {
   "display_name": "R 4",
   "language": "R",
   "name": "ir"
  },
  "language_info": {
   "codemirror_mode": "r",
   "file_extension": ".r",
   "mimetype": "text/x-r-source",
   "name": "R",
   "pygments_lexer": "r",
   "version": "4.1.2"
  }
 },
 "nbformat": 4,
 "nbformat_minor": 5
}
