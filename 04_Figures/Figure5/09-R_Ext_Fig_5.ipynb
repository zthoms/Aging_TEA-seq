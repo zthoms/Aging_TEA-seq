{
 "cells": [
  {
   "cell_type": "code",
   "execution_count": null,
   "id": "1a7de72e-61f9-46ed-87ae-216a46251b47",
   "metadata": {},
   "outputs": [],
   "source": [
    "quiet_library <- function(...) {\n",
    "    suppressPackageStartupMessages(library(...))\n",
    "}\n",
    "quiet_library(Seurat)\n",
    "quiet_library(ggplot2)\n",
    "quiet_library(Matrix)\n",
    "quiet_library(H5weaver)\n",
    "quiet_library(dplyr)\n",
    "quiet_library(viridis)\n",
    "quiet_library(harmony)\n",
    "quiet_library(Nebulosa)"
   ]
  },
  {
   "cell_type": "markdown",
   "id": "0bdf9807-5139-4e25-950b-895c6ea64ab3",
   "metadata": {},
   "source": [
    "# Load Data"
   ]
  },
  {
   "cell_type": "code",
   "execution_count": null,
   "id": "7b7cf72c-1d86-459b-be32-525251bf87f2",
   "metadata": {},
   "outputs": [],
   "source": [
    "sp_merge <- readRDS(file = '../../Seurat_Objects/sp_merge_gating_celltype_updated.rds')"
   ]
  },
  {
   "cell_type": "code",
   "execution_count": null,
   "id": "ed287f4d-e8bd-4a49-b646-4774287d3be3",
   "metadata": {},
   "outputs": [],
   "source": [
    "sp_merge <- SetIdent(sp_merge, value = 'gating_celltype')\n",
    "non_naive <- subset(sp_merge, idents = c('CD4 Naive','CD8 Naive','CD8 Unk','CD4 Unk'), invert=TRUE)"
   ]
  },
  {
   "cell_type": "code",
   "execution_count": null,
   "id": "818e0b50-66c7-4c9c-b5bc-41055438a5e1",
   "metadata": {},
   "outputs": [],
   "source": [
    "non_naive$pure_celltype <- non_naive$gating_celltype"
   ]
  },
  {
   "cell_type": "code",
   "execution_count": null,
   "id": "7de4e764-6b78-4164-b609-a36dfc4976c2",
   "metadata": {},
   "outputs": [],
   "source": [
    "cd4na <- readRDS(file = '../Figure3/cd4_na_labeled.rds')"
   ]
  },
  {
   "cell_type": "code",
   "execution_count": null,
   "id": "2fd06690-dfa3-4efd-b278-fc1a9191fb38",
   "metadata": {},
   "outputs": [],
   "source": [
    "cd8na <- readRDS(file = '../Figure4/trim_cd8_na.rds')"
   ]
  },
  {
   "cell_type": "code",
   "execution_count": null,
   "id": "5886b1b2-6152-488f-ac93-812af2955d3e",
   "metadata": {},
   "outputs": [],
   "source": [
    "all_merge <- merge(cd4na, c(cd8na, non_naive))"
   ]
  },
  {
   "cell_type": "code",
   "execution_count": null,
   "id": "9f1757fe-101f-488f-ae1e-a57ea3c0cddf",
   "metadata": {},
   "outputs": [],
   "source": [
    "rm(sp_merge)\n",
    "rm(cd4na)\n",
    "rm(cd8na)\n",
    "rm(non_naive)"
   ]
  },
  {
   "cell_type": "markdown",
   "id": "f2736ede-4cdf-4a31-ba10-db3e1afc9eaf",
   "metadata": {},
   "source": [
    "# Normalize Data"
   ]
  },
  {
   "cell_type": "code",
   "execution_count": null,
   "id": "6620c099-78d9-42f9-87cc-1e33d4f2a83a",
   "metadata": {},
   "outputs": [],
   "source": [
    "all_merge <- NormalizeData(all_merge, assay = 'clean_adt')"
   ]
  },
  {
   "cell_type": "code",
   "execution_count": null,
   "id": "0bd6c6d4-8096-45f4-b9c4-a90bc3135647",
   "metadata": {},
   "outputs": [],
   "source": [
    "avg_exp <- AverageExpression(all_merge, assay = 'clean_adt', features = rownames(all_merge[['clean_adt']]))"
   ]
  },
  {
   "cell_type": "code",
   "execution_count": null,
   "id": "053c315f-6789-49f4-8b1e-d8ce14fb1f93",
   "metadata": {},
   "outputs": [],
   "source": [
    "head(avg_exp$clean_adt)"
   ]
  },
  {
   "cell_type": "markdown",
   "id": "5bf18c4e-2f19-472c-9812-d0f1ac179126",
   "metadata": {},
   "source": [
    "# Pheatmap"
   ]
  },
  {
   "cell_type": "code",
   "execution_count": null,
   "id": "1580f8f6-dbd5-4847-b149-cbc565197118",
   "metadata": {},
   "outputs": [],
   "source": [
    "library(pheatmap)"
   ]
  },
  {
   "cell_type": "code",
   "execution_count": null,
   "id": "57801128-6ae6-4216-b1d4-2f2b95b2a20c",
   "metadata": {},
   "outputs": [],
   "source": [
    "mat <- as.data.frame(avg_exp$clean_adt)"
   ]
  },
  {
   "cell_type": "code",
   "execution_count": null,
   "id": "13af6d3c-07cc-4253-a150-53c0d6640536",
   "metadata": {},
   "outputs": [],
   "source": [
    "drop_adts <- c('CD16','HLA.DR')\n",
    "mat2 <- mat[!(rownames(mat) %in% drop_adts),]\n",
    "length(rownames(mat2))\n",
    "length(rownames(mat))"
   ]
  },
  {
   "cell_type": "code",
   "execution_count": null,
   "id": "9807e7f0-dd82-45f5-8eff-b7bb6a4ee768",
   "metadata": {},
   "outputs": [],
   "source": [
    "options(repr.plot.width = 10, repr.plot.height = 10)\n",
    "adt_pheatmap <- pheatmap(mat2, cluster_rows = TRUE, cluster_cols = TRUE, scale = 'row', cellwidth = 25, cellheight = 12, show_rownames = TRUE, border_color = NA,\n",
    "                         # annotation_row = cell_state_genes, annotation_colors = anno_colors,\n",
    "                         color = colorRampPalette(c('#67a9cf','white','#d6604d'))(100))"
   ]
  },
  {
   "cell_type": "code",
   "execution_count": null,
   "id": "5b34bfed-1390-4638-94f8-1ea142401fa9",
   "metadata": {},
   "outputs": [],
   "source": [
    "save_pheatmap_pdf <- function(x, filename, width=10, height=10) {\n",
    "   stopifnot(!missing(x))\n",
    "   stopifnot(!missing(filename))\n",
    "   pdf(filename, width=width, height=height)\n",
    "   grid::grid.newpage()\n",
    "   grid::grid.draw(x$gtable)\n",
    "   dev.off()\n",
    "}\n",
    "save_pheatmap_pdf(adt_pheatmap, \"plots/ADT_heatmap.pdf\")"
   ]
  },
  {
   "cell_type": "markdown",
   "id": "d777bd0a-05a4-49a0-af99-b32b83f9b800",
   "metadata": {},
   "source": [
    "# CD8 Pops only"
   ]
  },
  {
   "cell_type": "code",
   "execution_count": null,
   "id": "c40bed19-d3d5-4c06-b1c6-39fb955954af",
   "metadata": {},
   "outputs": [],
   "source": [
    "sp_merge <- SetIdent(sp_merge, value = 'gating_celltype')\n",
    "cd8_mem <- subset(sp_merge, idents = c('CD8 CM','CD8 EM1','CD8 EM2','CD8 TEMRA'))"
   ]
  },
  {
   "cell_type": "code",
   "execution_count": null,
   "id": "c6d94d69-61b6-4f78-a516-27e2d7a97288",
   "metadata": {},
   "outputs": [],
   "source": [
    "cd8_mem$pure_celltype <- cd8_mem$gating_celltype"
   ]
  },
  {
   "cell_type": "code",
   "execution_count": null,
   "id": "5beb01f5-5305-442a-a51f-8a078a2ce3e2",
   "metadata": {},
   "outputs": [],
   "source": [
    "cd8na <- readRDS(file = '../Figure4/trim_cd8_na.rds')"
   ]
  },
  {
   "cell_type": "code",
   "execution_count": null,
   "id": "69b42f1f-6b33-4565-ae3e-7e0bf233a5c2",
   "metadata": {},
   "outputs": [],
   "source": [
    "cd8_merge <- merge(cd8na, cd8_mem)"
   ]
  },
  {
   "cell_type": "code",
   "execution_count": null,
   "id": "e6849fd2-c03f-4239-b4c9-9b1673a927f0",
   "metadata": {},
   "outputs": [],
   "source": [
    "rm(sp_merge)\n",
    "rm(cd8_mem)\n",
    "rm(cd8na)"
   ]
  },
  {
   "cell_type": "markdown",
   "id": "97c691f2-7d9b-4696-9901-f5d1614128c9",
   "metadata": {},
   "source": [
    "## Normalize Data"
   ]
  },
  {
   "cell_type": "code",
   "execution_count": null,
   "id": "10eb4e4f-ef16-45b3-af0e-965718a8ea52",
   "metadata": {},
   "outputs": [],
   "source": [
    "cd8_merge <- NormalizeData(cd8_merge, assay = 'clean_adt')"
   ]
  },
  {
   "cell_type": "code",
   "execution_count": null,
   "id": "eadc8e3e-068c-4582-9f18-1faf9d2b3f4c",
   "metadata": {},
   "outputs": [],
   "source": [
    "avg_exp <- AverageExpression(cd8_merge, assay = 'clean_adt', features = rownames(cd8_merge[['clean_adt']]))"
   ]
  },
  {
   "cell_type": "code",
   "execution_count": null,
   "id": "683d8791-bd32-4f6a-8cdc-8583964b8379",
   "metadata": {},
   "outputs": [],
   "source": [
    "head(avg_exp$clean_adt)"
   ]
  },
  {
   "cell_type": "markdown",
   "id": "5fb18013-a75e-40a5-bd0e-81fcadcbf0c5",
   "metadata": {},
   "source": [
    "## Pheatmap"
   ]
  },
  {
   "cell_type": "code",
   "execution_count": null,
   "id": "57b7abf2-394d-4b53-9828-ee50757560e0",
   "metadata": {},
   "outputs": [],
   "source": [
    "library(pheatmap)"
   ]
  },
  {
   "cell_type": "code",
   "execution_count": null,
   "id": "b196b050-509e-4831-ac29-c732ab8e0716",
   "metadata": {},
   "outputs": [],
   "source": [
    "mat <- as.data.frame(avg_exp$clean_adt)"
   ]
  },
  {
   "cell_type": "code",
   "execution_count": null,
   "id": "bfc70d40-a38f-4e4f-a854-b383a7ba3797",
   "metadata": {},
   "outputs": [],
   "source": [
    "drop_adts <- c('CD16','HLA.DR','CD8a','CD4')\n",
    "mat2 <- mat[!(rownames(mat) %in% drop_adts),]\n",
    "length(rownames(mat2))\n",
    "length(rownames(mat))"
   ]
  },
  {
   "cell_type": "code",
   "execution_count": null,
   "id": "8b685f7c-c5c2-42e8-99b9-b7a59f871a48",
   "metadata": {},
   "outputs": [],
   "source": [
    "options(repr.plot.width = 10, repr.plot.height = 10)\n",
    "adt_pheatmap <- pheatmap(mat2, cluster_rows = TRUE, cluster_cols = TRUE, scale = 'row', cellwidth = 25, cellheight = 12, show_rownames = TRUE, border_color = NA,\n",
    "                         # annotation_row = cell_state_genes, annotation_colors = anno_colors,\n",
    "                         color = colorRampPalette(c('#67a9cf','white','#d6604d'))(100))"
   ]
  },
  {
   "cell_type": "code",
   "execution_count": null,
   "id": "5b5c150d-0e3c-4149-aca4-cd95a2b602af",
   "metadata": {},
   "outputs": [],
   "source": [
    "save_pheatmap_pdf <- function(x, filename, width=10, height=10) {\n",
    "   stopifnot(!missing(x))\n",
    "   stopifnot(!missing(filename))\n",
    "   pdf(filename, width=width, height=height)\n",
    "   grid::grid.newpage()\n",
    "   grid::grid.draw(x$gtable)\n",
    "   dev.off()\n",
    "}\n",
    "save_pheatmap_pdf(adt_pheatmap, \"plots/ADT_heatmap_CD8_only.pdf\")"
   ]
  },
  {
   "cell_type": "code",
   "execution_count": null,
   "id": "f49a16c7-3d49-4d0f-b67b-adc24e0974e2",
   "metadata": {},
   "outputs": [],
   "source": []
  }
 ],
 "metadata": {
  "kernelspec": {
   "display_name": "R 4",
   "language": "R",
   "name": "ir"
  },
  "language_info": {
   "codemirror_mode": "r",
   "file_extension": ".r",
   "mimetype": "text/x-r-source",
   "name": "R",
   "pygments_lexer": "r",
   "version": "4.1.2"
  }
 },
 "nbformat": 4,
 "nbformat_minor": 5
}
