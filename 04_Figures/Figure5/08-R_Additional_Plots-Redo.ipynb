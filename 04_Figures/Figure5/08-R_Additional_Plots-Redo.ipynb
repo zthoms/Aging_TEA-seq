{
 "cells": [
  {
   "cell_type": "code",
   "execution_count": null,
   "id": "ddb4388b-5f11-4230-a2dc-1f78cc06419e",
   "metadata": {
    "tags": []
   },
   "outputs": [],
   "source": [
    "quiet_library <- function(...) {\n",
    "    suppressPackageStartupMessages(library(...))\n",
    "}\n",
    "quiet_library(Seurat)\n",
    "quiet_library(ggplot2)\n",
    "quiet_library(Matrix)\n",
    "quiet_library(H5weaver)\n",
    "quiet_library(dplyr)\n",
    "quiet_library(viridis)\n",
    "quiet_library(harmony)\n",
    "quiet_library(Nebulosa)\n",
    "quiet_library(ArchR)"
   ]
  },
  {
   "cell_type": "code",
   "execution_count": null,
   "id": "f90a3c7d-9b77-4923-88b5-04368e6c22d9",
   "metadata": {},
   "outputs": [],
   "source": [
    "library(colorspace)"
   ]
  },
  {
   "cell_type": "code",
   "execution_count": null,
   "id": "7b40fc0b-2df2-4de1-b6ca-e2ecb9307099",
   "metadata": {},
   "outputs": [],
   "source": [
    "trim_cd8_na <- readRDS(file = '../Figure4/trim_cd8_na.rds')"
   ]
  },
  {
   "cell_type": "code",
   "execution_count": null,
   "id": "faba0318-fb9c-424b-8a91-3764ffcbe214",
   "metadata": {},
   "outputs": [],
   "source": [
    "sp_merge <- readRDS(file = '../../Seurat_Objects/sp_merge_gating_celltype_updated.rds')"
   ]
  },
  {
   "cell_type": "code",
   "execution_count": null,
   "id": "d39a965a-f061-4064-9acf-1ef1217ee2a6",
   "metadata": {},
   "outputs": [],
   "source": [
    "mnp <- readRDS('mnp_analysis_3wnn_updated.rds')"
   ]
  },
  {
   "cell_type": "code",
   "execution_count": null,
   "id": "2472d567-89f2-4c4b-b362-7e93de015415",
   "metadata": {},
   "outputs": [],
   "source": [
    "table(mnp$cell.types)"
   ]
  },
  {
   "cell_type": "code",
   "execution_count": null,
   "id": "580c4941-0e91-4ae8-863e-fc7476c2149d",
   "metadata": {},
   "outputs": [],
   "source": [
    "mnp <- SetIdent(mnp, value = 'cell.types')\n",
    "mnp2_only <- subset(mnp, idents = 'MNP-2')\n",
    "mnp2_only$pure_celltype <- 'CD8 MNP-2'"
   ]
  },
  {
   "cell_type": "code",
   "execution_count": null,
   "id": "3dfab401-8a37-4afc-9f46-95d3d7f8af3f",
   "metadata": {},
   "outputs": [],
   "source": [
    "sp_merge <- SetIdent(sp_merge, value = 'gating_celltype')\n",
    "cd8_nonnaive <- subset(sp_merge, idents = c('CD8 TEMRA'))\n",
    "cd8_nonnaive$pure_celltype <- cd8_nonnaive$gating_celltype"
   ]
  },
  {
   "cell_type": "code",
   "execution_count": null,
   "id": "a980168a-66e7-478c-a0f4-ae6e92db4f33",
   "metadata": {},
   "outputs": [],
   "source": [
    "trim_cd8_na <- SetIdent(trim_cd8_na, value = 'pure_celltype')\n",
    "cd8na <- subset(trim_cd8_na, idents = 'CD8 Naive')"
   ]
  },
  {
   "cell_type": "code",
   "execution_count": null,
   "id": "63ecd07b-1ec1-40ad-aa68-7dcf311dda0e",
   "metadata": {},
   "outputs": [],
   "source": [
    "# remove any overlapping cells\n",
    "cd8na_clean <- subset(cd8na, cells = colnames(mnp2_only[['RNA']]), invert = TRUE)\n",
    "cd8na_clean\n",
    "cd8na"
   ]
  },
  {
   "cell_type": "code",
   "execution_count": null,
   "id": "60bf3609-60f1-4639-a9e1-5f23ec5681c9",
   "metadata": {},
   "outputs": [],
   "source": [
    "# remove any overlapping cells\n",
    "cd8_nonnaive_clean <- subset(cd8_nonnaive, cells = colnames(mnp2_only[['RNA']]), invert = TRUE)\n",
    "cd8_nonnaive_clean\n",
    "cd8_nonnaive"
   ]
  },
  {
   "cell_type": "code",
   "execution_count": null,
   "id": "98f537ba-7f99-40eb-9c7b-7437b6e0b255",
   "metadata": {},
   "outputs": [],
   "source": [
    "cd8_merge <- merge(cd8na_clean, c(cd8_nonnaive_clean,mnp2_only))"
   ]
  },
  {
   "cell_type": "code",
   "execution_count": null,
   "id": "f16c7ad4-ceb0-4177-b1ef-b8164e0c1b4a",
   "metadata": {},
   "outputs": [],
   "source": [
    "cd8_merge <- NormalizeData(cd8_merge, assay = 'ADT', margin = 2, normalization.method = 'CLR')\n",
    "cd8_merge <- SetIdent(cd8_merge, value = 'pure_celltype')"
   ]
  },
  {
   "cell_type": "code",
   "execution_count": null,
   "id": "fbf1e5a3-7cca-49be-8d05-e68bb2b95b6c",
   "metadata": {},
   "outputs": [],
   "source": [
    "cd8_split <- SplitObject(cd8_merge, split.by = 'pure_celltype')"
   ]
  },
  {
   "cell_type": "code",
   "execution_count": null,
   "id": "0bb67720-068f-4130-b5c6-6dccc21bbda1",
   "metadata": {},
   "outputs": [],
   "source": [
    "mnp_adt_avg_exp <- lapply(cd8_split, function(x){\n",
    "    avg_exp <- AverageExpression(x, group.by = 'pbmc_sample_id', assay = 'ADT', features = c('CD27','CD244','CD11b'))\n",
    "    return(avg_exp)\n",
    "})"
   ]
  },
  {
   "cell_type": "code",
   "execution_count": null,
   "id": "ddc16496-a7f2-4fad-a15a-9b9ccbbad5c6",
   "metadata": {},
   "outputs": [],
   "source": [
    "write.csv(mnp_adt_avg_exp$`CD8 MNP-2`, file = 'mnp2_avg_adt_exp.csv')\n",
    "write.csv(mnp_adt_avg_exp$`CD8 Naive`, file = 'cd8na_avg_adt_exp.csv')\n",
    "write.csv(mnp_adt_avg_exp$`CD8 TEMRA`, file = 'cd8temra_avg_adt_exp.csv')"
   ]
  },
  {
   "cell_type": "code",
   "execution_count": null,
   "id": "1b18e49f-bf4e-4349-9120-1ca6fa844b5c",
   "metadata": {},
   "outputs": [],
   "source": [
    "adt_norm_mtx_list <- lapply(cd8_split, function(x){\n",
    "    mtx <- x@assays$ADT@data\n",
    "    return(mtx)\n",
    "})"
   ]
  },
  {
   "cell_type": "code",
   "execution_count": null,
   "id": "57ce9829-3711-42cd-8812-dda62bacdfea",
   "metadata": {},
   "outputs": [],
   "source": [
    "# write.csv(adt_norm_mtx_list$`CD8 Naive`, file = 'adt_cd8na_norm_mtx.csv')\n",
    "# write.csv(adt_norm_mtx_list$`CD8 MNP-2`, file = 'adt_cd8mnp2_norm_mtx.csv')\n",
    "# write.csv(adt_norm_mtx_list$`CD8 TEMRA`, file = 'adt_cd8temra_norm_mtx.csv')"
   ]
  },
  {
   "cell_type": "code",
   "execution_count": null,
   "id": "5d3cebed-f9f6-4ea6-a876-9acb82a8c329",
   "metadata": {},
   "outputs": [],
   "source": [
    "cd8_merge <- SetIdent(cd8_merge, value = 'pure_celltype')\n",
    "cd8_merge <- subset(cd8_merge, downsample = 2500)"
   ]
  },
  {
   "cell_type": "code",
   "execution_count": null,
   "id": "867f942d-5692-4425-b358-288800ab9903",
   "metadata": {},
   "outputs": [],
   "source": [
    "cd8_merge <- NormalizeData(cd8_merge, assay = 'RNA')\n",
    "cd8_merge <- NormalizeData(cd8_merge, assay = 'ADT', margin = 2, normalization.method = 'CLR')\n",
    "cd8_merge <- SetIdent(cd8_merge, value = 'pure_celltype')"
   ]
  },
  {
   "cell_type": "code",
   "execution_count": null,
   "id": "8f79cf94-9c1b-480f-b1d8-08896580c3e2",
   "metadata": {},
   "outputs": [],
   "source": [
    "df_build <- function(seurat_object){\n",
    "    meta <- seurat_object@meta.data\n",
    "    meta$TCRValpha7.2 <- as.vector(seurat_object@assays$ADT['TCR-Valpha7.2',])\n",
    "    meta$CD161 <- as.vector(seurat_object@assays$ADT['CD161',])\n",
    "    meta$CD197 <- as.vector(seurat_object@assays$ADT['CD197',])\n",
    "    meta$CD45RA <- as.vector(seurat_object@assays$ADT['CD45RA',])\n",
    "    meta$CD27 <- as.vector(seurat_object@assays$ADT['CD27',])\n",
    "    meta$CD244 <- as.vector(seurat_object@assays$ADT['CD244',])\n",
    "    meta$CD11b <- as.vector(seurat_object@assays$ADT['CD11b',])\n",
    "    return(meta)}"
   ]
  },
  {
   "cell_type": "code",
   "execution_count": null,
   "id": "4d0f3fc5-ffc3-4914-9686-6df3f41df775",
   "metadata": {},
   "outputs": [],
   "source": [
    "test_df <- df_build(cd8_merge)"
   ]
  },
  {
   "cell_type": "code",
   "execution_count": null,
   "id": "5b2d1872-349a-4c10-b195-3519b4025ce9",
   "metadata": {},
   "outputs": [],
   "source": [
    "options(repr.plot.width = 8, repr.plot.height = 12)\n",
    "test_df %>% \n",
    "    mutate(pure_celltype = factor(pure_celltype, levels = c('CD8 Naive','CD8 MNP-2','CD8 TEMRA'))) %>%\n",
    "    ggplot(aes(x = pure_celltype, y = CD27, color=pure_celltype)) + \n",
    "      ggdist::stat_halfeye(\n",
    "        aes(color = pure_celltype,\n",
    "        fill = pure_celltype),\n",
    "        adjust = .5, \n",
    "        width = .6, \n",
    "        .width = 0, \n",
    "        justification = -.2#, \n",
    "        # point_colour = NA\n",
    "      ) + \n",
    "      geom_boxplot(\n",
    "        width = .15, \n",
    "        outlier.shape = NA\n",
    "      ) +\n",
    "      ## add justified jitter from the {gghalves} package\n",
    "      gghalves::geom_half_point(\n",
    "        ## draw jitter on the left\n",
    "        side = \"l\", \n",
    "        ## control range of jitter\n",
    "        range_scale = .4, \n",
    "        ## add some transparency\n",
    "        alpha = .3\n",
    "      ) +\n",
    "      coord_cartesian(xlim = c(1.2, NA), clip = \"off\") + \n",
    "      scale_color_manual(values = c('#807dba','#1f78b4','#EF67EB')) + \n",
    "      scale_fill_manual(values = c('#807dba','#1f78b4','#EF67EB')) + \n",
    "      theme_bw() +\n",
    "      theme(axis.text.x = element_text(size = 20),\n",
    "            axis.title.x = element_blank(),\n",
    "            axis.text.y = element_text(size = 20),\n",
    "            axis.title.y = element_blank(),\n",
    "            legend.position = 'none',\n",
    "            panel.grid.major = element_blank(), \n",
    "            panel.grid.minor = element_blank())"
   ]
  },
  {
   "cell_type": "code",
   "execution_count": null,
   "id": "52d9eaaa-b99b-41d8-a1a8-110a553707bc",
   "metadata": {},
   "outputs": [],
   "source": [
    "# Open a pdf file\n",
    "pdf(\"plots/cd27_raindrop_2.pdf\", width = 8, height = 12) \n",
    "# 2. Create a plot\n",
    "test_df %>% \n",
    "    mutate(pure_celltype = factor(pure_celltype, levels = c('CD8 Naive','CD8 MNP-2','CD8 TEMRA'))) %>%\n",
    "    ggplot(aes(x = pure_celltype, y = CD27, color=pure_celltype)) + \n",
    "      ggdist::stat_halfeye(\n",
    "        aes(color = pure_celltype,\n",
    "        fill = pure_celltype),\n",
    "        adjust = .5, \n",
    "        width = .6, \n",
    "        .width = 0, \n",
    "        justification = -.2#, \n",
    "        # point_colour = NA\n",
    "      ) + \n",
    "      geom_boxplot(\n",
    "        width = .15, \n",
    "        outlier.shape = NA\n",
    "      ) +\n",
    "      ## add justified jitter from the {gghalves} package\n",
    "      gghalves::geom_half_point(\n",
    "        ## draw jitter on the left\n",
    "        side = \"l\", \n",
    "        ## control range of jitter\n",
    "        range_scale = .4, \n",
    "        ## add some transparency\n",
    "        alpha = .3\n",
    "      ) +\n",
    "      coord_cartesian(xlim = c(1.2, NA), clip = \"off\") + \n",
    "      scale_color_manual(values = c('#807dba','#1f78b4','#EF67EB')) + \n",
    "      scale_fill_manual(values = c('#807dba','#1f78b4','#EF67EB')) + \n",
    "      theme_bw() +\n",
    "      theme(axis.text.x = element_text(size = 20),\n",
    "            axis.title.x = element_blank(),\n",
    "            axis.text.y = element_text(size = 20),\n",
    "            axis.title.y = element_blank(),\n",
    "            legend.position = 'none',\n",
    "            panel.grid.major = element_blank(), \n",
    "            panel.grid.minor = element_blank())\n",
    "# Close the pdf file\n",
    "dev.off() "
   ]
  },
  {
   "cell_type": "code",
   "execution_count": null,
   "id": "b609287c-7404-4310-952a-ee9ce26b2c0a",
   "metadata": {},
   "outputs": [],
   "source": [
    "options(repr.plot.width = 8, repr.plot.height = 12)\n",
    "test_df %>% \n",
    "    mutate(pure_celltype = factor(pure_celltype, levels = c('CD8 Naive','CD8 MNP-2','CD8 TEMRA'))) %>%\n",
    "    ggplot(aes(x = pure_celltype, y = CD244, color=pure_celltype)) + \n",
    "      ggdist::stat_halfeye(\n",
    "        aes(color = pure_celltype,\n",
    "        fill = pure_celltype),\n",
    "        adjust = .5, \n",
    "        width = .6, \n",
    "        .width = 0, \n",
    "        justification = -.2#, \n",
    "        # point_colour = NA\n",
    "      ) + \n",
    "      geom_boxplot(\n",
    "        width = .15, \n",
    "        outlier.shape = NA\n",
    "      ) +\n",
    "      ## add justified jitter from the {gghalves} package\n",
    "      gghalves::geom_half_point(\n",
    "        ## draw jitter on the left\n",
    "        side = \"l\", \n",
    "        ## control range of jitter\n",
    "        range_scale = .4, \n",
    "        ## add some transparency\n",
    "        alpha = .3\n",
    "      ) +\n",
    "      coord_cartesian(xlim = c(1.2, NA), clip = \"off\") + \n",
    "      scale_color_manual(values = c('#807dba','#1f78b4','#EF67EB')) + \n",
    "      scale_fill_manual(values = c('#807dba','#1f78b4','#EF67EB')) + \n",
    "      theme_bw() +\n",
    "      theme(axis.text.x = element_text(size = 20),\n",
    "            axis.title.x = element_blank(),\n",
    "            axis.text.y = element_text(size = 20),\n",
    "            axis.title.y = element_blank(),\n",
    "            legend.position = 'none',\n",
    "            panel.grid.major = element_blank(), \n",
    "            panel.grid.minor = element_blank())"
   ]
  },
  {
   "cell_type": "code",
   "execution_count": null,
   "id": "3f1b1433-354b-4485-9a5b-fb7608852a33",
   "metadata": {},
   "outputs": [],
   "source": [
    "# Open a pdf file\n",
    "pdf(\"plots/cd244_raindrop_2.pdf\", width = 8, height = 12) \n",
    "# 2. Create a plot\n",
    "test_df %>% \n",
    "    mutate(pure_celltype = factor(pure_celltype, levels = c('CD8 Naive','CD8 MNP-2','CD8 TEMRA'))) %>%\n",
    "    ggplot(aes(x = pure_celltype, y = CD244, color=pure_celltype)) + \n",
    "      ggdist::stat_halfeye(\n",
    "        aes(color = pure_celltype,\n",
    "        fill = pure_celltype),\n",
    "        adjust = .5, \n",
    "        width = .6, \n",
    "        .width = 0, \n",
    "        justification = -.2#, \n",
    "        # point_colour = NA\n",
    "      ) + \n",
    "      geom_boxplot(\n",
    "        width = .15, \n",
    "        outlier.shape = NA\n",
    "      ) +\n",
    "      ## add justified jitter from the {gghalves} package\n",
    "      gghalves::geom_half_point(\n",
    "        ## draw jitter on the left\n",
    "        side = \"l\", \n",
    "        ## control range of jitter\n",
    "        range_scale = .4, \n",
    "        ## add some transparency\n",
    "        alpha = .3\n",
    "      ) +\n",
    "      coord_cartesian(xlim = c(1.2, NA), clip = \"off\") + \n",
    "      scale_color_manual(values = c('#807dba','#1f78b4','#EF67EB')) + \n",
    "      scale_fill_manual(values = c('#807dba','#1f78b4','#EF67EB')) + \n",
    "      theme_bw() +\n",
    "      theme(axis.text.x = element_text(size = 20),\n",
    "            axis.title.x = element_blank(),\n",
    "            axis.text.y = element_text(size = 20),\n",
    "            axis.title.y = element_blank(),\n",
    "            legend.position = 'none',\n",
    "            panel.grid.major = element_blank(), \n",
    "            panel.grid.minor = element_blank())\n",
    "# Close the pdf file\n",
    "dev.off() "
   ]
  },
  {
   "cell_type": "code",
   "execution_count": null,
   "id": "702232f1-3a05-444d-9ed0-3105b4f9405e",
   "metadata": {},
   "outputs": [],
   "source": [
    "options(repr.plot.width = 8, repr.plot.height = 12)\n",
    "test_df %>% \n",
    "    mutate(pure_celltype = factor(pure_celltype, levels = c('CD8 Naive','CD8 MNP-2','CD8 TEMRA'))) %>%\n",
    "    ggplot(aes(x = pure_celltype, y = CD11b, color=pure_celltype)) + \n",
    "      ggdist::stat_halfeye(\n",
    "        aes(color = pure_celltype,\n",
    "        fill = pure_celltype),\n",
    "        adjust = .5, \n",
    "        width = .6, \n",
    "        .width = 0, \n",
    "        justification = -.2#, \n",
    "        # point_colour = NA\n",
    "      ) + \n",
    "      geom_boxplot(\n",
    "        width = .15, \n",
    "        outlier.shape = NA\n",
    "      ) +\n",
    "      ## add justified jitter from the {gghalves} package\n",
    "      gghalves::geom_half_point(\n",
    "        ## draw jitter on the left\n",
    "        side = \"l\", \n",
    "        ## control range of jitter\n",
    "        range_scale = .4, \n",
    "        ## add some transparency\n",
    "        alpha = .3\n",
    "      ) +\n",
    "      coord_cartesian(xlim = c(1.2, NA), clip = \"off\") + \n",
    "      scale_color_manual(values = c('#807dba','#1f78b4','#EF67EB')) + \n",
    "      scale_fill_manual(values = c('#807dba','#1f78b4','#EF67EB')) + \n",
    "      theme_bw() +\n",
    "      theme(axis.text.x = element_text(size = 20),\n",
    "            axis.title.x = element_blank(),\n",
    "            axis.text.y = element_text(size = 20),\n",
    "            axis.title.y = element_blank(),\n",
    "            legend.position = 'none',\n",
    "            panel.grid.major = element_blank(), \n",
    "            panel.grid.minor = element_blank())"
   ]
  },
  {
   "cell_type": "code",
   "execution_count": null,
   "id": "0c6e877e-5176-46b3-9c8a-c3ae20eba039",
   "metadata": {},
   "outputs": [],
   "source": [
    "# Open a pdf file\n",
    "pdf(\"plots/cd11b_raindrop_2.pdf\", width = 8, height = 12) \n",
    "# 2. Create a plot\n",
    "test_df %>% \n",
    "    mutate(pure_celltype = factor(pure_celltype, levels = c('CD8 Naive','CD8 MNP-2','CD8 TEMRA'))) %>%\n",
    "    ggplot(aes(x = pure_celltype, y = CD11b, color=pure_celltype)) + \n",
    "      ggdist::stat_halfeye(\n",
    "        aes(color = pure_celltype,\n",
    "        fill = pure_celltype),\n",
    "        adjust = .5, \n",
    "        width = .6, \n",
    "        .width = 0, \n",
    "        justification = -.2#, \n",
    "        # point_colour = NA\n",
    "      ) + \n",
    "      geom_boxplot(\n",
    "        width = .15, \n",
    "        outlier.shape = NA\n",
    "      ) +\n",
    "      ## add justified jitter from the {gghalves} package\n",
    "      gghalves::geom_half_point(\n",
    "        ## draw jitter on the left\n",
    "        side = \"l\", \n",
    "        ## control range of jitter\n",
    "        range_scale = .4, \n",
    "        ## add some transparency\n",
    "        alpha = .3\n",
    "      ) +\n",
    "      coord_cartesian(xlim = c(1.2, NA), clip = \"off\") + \n",
    "      scale_color_manual(values = c('#807dba','#1f78b4','#EF67EB')) + \n",
    "      scale_fill_manual(values = c('#807dba','#1f78b4','#EF67EB')) + \n",
    "      theme_bw() +\n",
    "      theme(axis.text.x = element_text(size = 20),\n",
    "            axis.title.x = element_blank(),\n",
    "            axis.text.y = element_text(size = 20),\n",
    "            axis.title.y = element_blank(),\n",
    "            legend.position = 'none',\n",
    "            panel.grid.major = element_blank(), \n",
    "            panel.grid.minor = element_blank())\n",
    "# Close the pdf file\n",
    "dev.off() "
   ]
  }
 ],
 "metadata": {
  "kernelspec": {
   "display_name": "R 4",
   "language": "R",
   "name": "ir"
  },
  "language_info": {
   "codemirror_mode": "r",
   "file_extension": ".r",
   "mimetype": "text/x-r-source",
   "name": "R",
   "pygments_lexer": "r",
   "version": "4.1.2"
  }
 },
 "nbformat": 4,
 "nbformat_minor": 5
}
