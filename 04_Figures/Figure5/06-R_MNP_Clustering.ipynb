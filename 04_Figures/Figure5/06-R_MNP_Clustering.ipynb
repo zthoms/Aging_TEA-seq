{
 "cells": [
  {
   "cell_type": "markdown",
   "id": "43b8caf1-b0b2-4357-adc0-87210516c3d6",
   "metadata": {},
   "source": [
    "# Basic 3WNN Clustering w/ Gated Labels"
   ]
  },
  {
   "cell_type": "code",
   "execution_count": null,
   "id": "8e896d5a-8576-4385-84b9-ed466b14aef6",
   "metadata": {},
   "outputs": [],
   "source": [
    "quiet_library <- function(...) {\n",
    "    suppressPackageStartupMessages(library(...))\n",
    "}\n",
    "quiet_library(Seurat)\n",
    "quiet_library(ggplot2)\n",
    "quiet_library(Matrix)\n",
    "quiet_library(H5weaver)\n",
    "quiet_library(dplyr)\n",
    "quiet_library(viridis)\n",
    "quiet_library(harmony)\n",
    "quiet_library(Nebulosa)\n",
    "quiet_library(ArchR)\n",
    "quiet_library(cowplot)"
   ]
  },
  {
   "cell_type": "code",
   "execution_count": null,
   "id": "bd649188-5e56-425a-bc27-bab5e2668a32",
   "metadata": {},
   "outputs": [],
   "source": [
    "addArchRThreads(32)\n",
    "addArchRGenome(\"hg38\")"
   ]
  },
  {
   "cell_type": "markdown",
   "id": "dfc8cd6c-047b-4f11-aa5d-586ed64a7127",
   "metadata": {},
   "source": [
    "# Load mnp Subset"
   ]
  },
  {
   "cell_type": "code",
   "execution_count": null,
   "id": "68ef49aa-f313-434d-8ce7-afed783f8500",
   "metadata": {},
   "outputs": [],
   "source": [
    "mnp <- readRDS('mnp_merge_updated.rds')"
   ]
  },
  {
   "cell_type": "markdown",
   "id": "bcfcfbd1-a5b0-43db-a55b-a9cdfd8c2bdb",
   "metadata": {},
   "source": [
    "# Add Metadata"
   ]
  },
  {
   "cell_type": "code",
   "execution_count": null,
   "id": "9dcecfe8-971c-4ebc-809f-54ac8cc4c886",
   "metadata": {},
   "outputs": [],
   "source": [
    "mnp <- SetIdent(mnp, value = 'pbmc_sample_id')\n",
    "mnp <- RenameIdents(mnp,\n",
    "                           'PB00173-02' = 'Positive', #validated\n",
    "                           'PB00192-02' = 'Negative', #validated\n",
    "                           'PB00197-02' = 'Negative', #validated\n",
    "                           'PB00593-04' = 'Positive', #validated\n",
    "                           'PB00172-02' = 'Positive',\n",
    "                           'PB00182-02' = 'Negative',\n",
    "                           'PB00323-02' = 'Positive',\n",
    "                           'PB00807-02' = 'Positive',\n",
    "                           'PB00124-02' = 'Positive',\n",
    "                           'PB00127-02' = 'Negative',\n",
    "                           'PB00334-03' = 'Negative',\n",
    "                           'PB00353-03' = 'Negative',\n",
    "                           'PB00368-04' = 'Positive',\n",
    "                           'PB00377-03' = 'Negative',\n",
    "                           'PB00545-02' = 'Negative',\n",
    "                           'PB00599-02' = 'Positive')\n",
    "mnp$CMV <- Idents(mnp)"
   ]
  },
  {
   "cell_type": "code",
   "execution_count": null,
   "id": "b326fcbb-3a34-4734-a0bc-ba94281db628",
   "metadata": {},
   "outputs": [],
   "source": [
    "mnp <- SetIdent(mnp, value = 'pbmc_sample_id')\n",
    "mnp <- RenameIdents(mnp,\n",
    "                           'PB00173-02' = 'UP1006', #validated\n",
    "                           'PB00192-02' = 'UP1007', #validated\n",
    "                           'PB00197-02' = 'UP1010', #validated\n",
    "                           'PB00593-04' = 'BR2002', #validated\n",
    "                           'PB00172-02' = 'UP1002',\n",
    "                           'PB00182-02' = 'UP1003',\n",
    "                           'PB00323-02' = 'BR2004',\n",
    "                           'PB00807-02' = 'UP1005',\n",
    "                           'PB00124-02' = 'UP1001',\n",
    "                           'PB00127-02' = 'UP1004',\n",
    "                           'PB00334-03' = 'BR2009',\n",
    "                           'PB00353-03' = 'BR2008',\n",
    "                           'PB00368-04' = 'BR2005',\n",
    "                           'PB00377-03' = 'BR2015',\n",
    "                           'PB00545-02' = 'BR2042',\n",
    "                           'PB00599-02' = 'BR2052')\n",
    "mnp$subject_id <- Idents(mnp)"
   ]
  },
  {
   "cell_type": "code",
   "execution_count": null,
   "id": "3e1d87af-0a8e-4527-b868-35f7ea4b6b0c",
   "metadata": {},
   "outputs": [],
   "source": [
    "mnp$age_cmv <- paste0(mnp$pediatric_senior,\"_CMV-\",mnp$CMV)"
   ]
  },
  {
   "cell_type": "markdown",
   "id": "9754bcb5-0898-45a1-928f-86c5994fd54b",
   "metadata": {},
   "source": [
    "# RNA Clustering"
   ]
  },
  {
   "cell_type": "code",
   "execution_count": null,
   "id": "ee31b6d9-2a08-479a-bc45-56ded6fc61b1",
   "metadata": {},
   "outputs": [],
   "source": [
    "outlier_genes <- c('AC105402.3','MTRNR2L8','EDA','IFNG-AS1')"
   ]
  },
  {
   "cell_type": "code",
   "execution_count": null,
   "id": "e066ebc1-b531-4049-a46c-34308b16061b",
   "metadata": {
    "scrolled": true,
    "tags": []
   },
   "outputs": [],
   "source": [
    "mnp <- suppressWarnings(SCTransform(mnp)) %>% RunPCA()"
   ]
  },
  {
   "cell_type": "code",
   "execution_count": null,
   "id": "a5013a9a-df6f-4212-9ca7-d21492b55aaf",
   "metadata": {},
   "outputs": [],
   "source": [
    "var_feat_sct <- mnp@assays$SCT@var.features\n",
    "length(var_feat_sct)"
   ]
  },
  {
   "cell_type": "code",
   "execution_count": null,
   "id": "d845f2a7-fef9-4f3f-8a71-3f56c5a9013c",
   "metadata": {},
   "outputs": [],
   "source": [
    "outlier_genes %in% mnp@assays$SCT@var.features"
   ]
  },
  {
   "cell_type": "code",
   "execution_count": null,
   "id": "f9583b6f-eedb-456f-a715-24040d8572aa",
   "metadata": {},
   "outputs": [],
   "source": [
    "var_feats <- mnp@assays$SCT@var.features\n",
    "var_feats_trim <- var_feats[!(var_feats %in% outlier_genes)]\n",
    "length(var_feats_trim)"
   ]
  },
  {
   "cell_type": "code",
   "execution_count": null,
   "id": "ac4385b1-54bc-4ee7-b1a8-928ef363d4e1",
   "metadata": {
    "scrolled": true,
    "tags": []
   },
   "outputs": [],
   "source": [
    "mnp <- suppressWarnings(SCTransform(mnp, residual.features = var_feats_trim)) %>% RunPCA()"
   ]
  },
  {
   "cell_type": "code",
   "execution_count": null,
   "id": "4ee63558-3369-4826-8fe3-488a0a5d674e",
   "metadata": {},
   "outputs": [],
   "source": [
    "options(repr.plot.width = 8, repr.plot.height = 4)\n",
    "mnp <- suppressWarnings(RunHarmony(object = mnp, reduction.save = 'rna_harmony',group.by.vars = 'batch_id', reduction = 'pca', \n",
    "                                           plot_convergence = T, assay.use = 'SCT'))"
   ]
  },
  {
   "cell_type": "code",
   "execution_count": null,
   "id": "ed98926c-2ad0-4ba3-8f8e-b8e4c13ce53a",
   "metadata": {},
   "outputs": [],
   "source": [
    "ElbowPlot(mnp, ndims = 50)"
   ]
  },
  {
   "cell_type": "code",
   "execution_count": null,
   "id": "03fe8f04-7eb1-43fb-b08e-95a79353b9f5",
   "metadata": {
    "scrolled": true,
    "tags": []
   },
   "outputs": [],
   "source": [
    "mnp <- RunUMAP(mnp, dims = 1:20, reduction = 'rna_harmony')"
   ]
  },
  {
   "cell_type": "markdown",
   "id": "188781f4-e5bd-4b44-bf4a-389c9415c4ba",
   "metadata": {},
   "source": [
    "## RNA UMAPs"
   ]
  },
  {
   "cell_type": "code",
   "execution_count": null,
   "id": "54f34553-a74f-43d3-b270-3409cbac231a",
   "metadata": {},
   "outputs": [],
   "source": [
    "options(repr.plot.width = 20, repr.plot.height = 10)\n",
    "p1 <- DimPlot(mnp, reduction = 'umap', group.by = 'predicted.t_celltype.l2', shuffle = TRUE)\n",
    "p2 <- DimPlot(mnp, reduction = 'umap', group.by = 'pediatric_senior', shuffle = TRUE)\n",
    "p3 <- DimPlot(mnp, reduction = 'umap', group.by = 'age_cmv', shuffle = TRUE)\n",
    "p4 <- DimPlot(mnp, reduction = 'umap', group.by = 'pbmc_sample_id', shuffle = TRUE)\n",
    "p1 + p2 + p3 + p4"
   ]
  },
  {
   "cell_type": "code",
   "execution_count": null,
   "id": "60dadcb5-3b86-4891-9482-c124df70d81a",
   "metadata": {},
   "outputs": [],
   "source": [
    "options(repr.plot.width = 20, repr.plot.height = 12)\n",
    "suppressMessages(FeaturePlot(mnp, features = c('sct_IFNG-AS1','sct_EDA','sct_SOX4','sct_ZNF683'), \n",
    "                             ncol = 2,reduction = 'umap', order = TRUE) & scale_color_viridis())"
   ]
  },
  {
   "cell_type": "markdown",
   "id": "a2498be3-0948-4812-8e7e-a4e5d2410772",
   "metadata": {},
   "source": [
    "# ADT Clustering"
   ]
  },
  {
   "cell_type": "code",
   "execution_count": null,
   "id": "5566513f-e7c9-409d-b46e-77153a35ae4f",
   "metadata": {},
   "outputs": [],
   "source": [
    "adts_to_remove <- c('CD134','CD172a','CD183','CD366','CX3CR1','TCRab','TCRgd','CD137','CD24','CD294','CD304','CD40','CD80','CD86','IgG1-K-Isotype-Control')\n",
    "adt_mtx <- mnp@assays$ADT@counts\n",
    "length(rownames(adt_mtx))"
   ]
  },
  {
   "cell_type": "code",
   "execution_count": null,
   "id": "49fdfa2a-6be1-4852-aba7-835f4848a978",
   "metadata": {},
   "outputs": [],
   "source": [
    "idx <- which(rownames(adt_mtx) %in% adts_to_remove)\n",
    "clean_adt_mtx <- adt_mtx[-idx,]\n",
    "length(rownames(clean_adt_mtx))"
   ]
  },
  {
   "cell_type": "code",
   "execution_count": null,
   "id": "7d72cbbc-778d-480e-9c66-d1bc848b458b",
   "metadata": {},
   "outputs": [],
   "source": [
    "mnp[['clean_adt']] <- CreateAssayObject(clean_adt_mtx)\n",
    "DefaultAssay(mnp) <- 'clean_adt'"
   ]
  },
  {
   "cell_type": "code",
   "execution_count": null,
   "id": "73416d6a-58db-4ffc-828c-8098d397eb7d",
   "metadata": {
    "scrolled": true,
    "tags": []
   },
   "outputs": [],
   "source": [
    "# cluster by ADTs, make sure to save under all new reductions and keys \n",
    "VariableFeatures(mnp) <- rownames(mnp[[\"clean_adt\"]])\n",
    "mnp <- NormalizeData(mnp, normalization.method = 'CLR', margin = 2) %>% \n",
    "     ScaleData() %>% RunPCA(reduction.name = 'apca', approx = FALSE, reduction.key = 'APC_')"
   ]
  },
  {
   "cell_type": "code",
   "execution_count": null,
   "id": "b44ca826-dd09-4c21-a05c-2bb48603f171",
   "metadata": {
    "scrolled": true,
    "tags": []
   },
   "outputs": [],
   "source": [
    "options(repr.plot.width = 8, repr.plot.height = 4)\n",
    "mnp <- suppressWarnings(RunHarmony(object = mnp, reduction.save = 'adt_harmony',group.by.vars = 'batch_id', reduction = 'apca', \n",
    "                                           plot_convergence = T, assay.use = 'clean_adt'))"
   ]
  },
  {
   "cell_type": "code",
   "execution_count": null,
   "id": "18974cdf-6bc7-454d-8e28-9fff686286e4",
   "metadata": {
    "scrolled": true,
    "tags": []
   },
   "outputs": [],
   "source": [
    "mnp <- RunUMAP(mnp, reduction = 'adt_harmony', reduction.name = 'adtumap', dims = 1:20)"
   ]
  },
  {
   "cell_type": "markdown",
   "id": "b0c2b3df-82d0-489f-8c0b-07d50569f955",
   "metadata": {},
   "source": [
    "## ADT UMAPs"
   ]
  },
  {
   "cell_type": "code",
   "execution_count": null,
   "id": "cbd96003-850e-44c2-97e8-5cdc5071bf10",
   "metadata": {},
   "outputs": [],
   "source": [
    "options(repr.plot.width = 20, repr.plot.height = 10)\n",
    "p1 <- DimPlot(mnp, reduction = 'adtumap', group.by = 'predicted.t_celltype.l2')\n",
    "p2 <- DimPlot(mnp, reduction = 'adtumap', group.by = 'pediatric_senior')\n",
    "p3 <- DimPlot(mnp, reduction = 'adtumap', group.by = 'age_cmv')\n",
    "p4 <- DimPlot(mnp, reduction = 'adtumap', group.by = 'pbmc_sample_id')\n",
    "p1 + p2 + p3 + p4"
   ]
  },
  {
   "cell_type": "markdown",
   "id": "58d2c601-685b-417e-a915-b6d67d8a44bc",
   "metadata": {},
   "source": [
    "# ATAC Clustering"
   ]
  },
  {
   "cell_type": "markdown",
   "id": "fb010757-15b9-4d9f-81a9-0f69a05786f8",
   "metadata": {},
   "source": [
    "## Load ArchR Project"
   ]
  },
  {
   "cell_type": "code",
   "execution_count": null,
   "id": "88681271-4640-4efc-b0bd-4fcc00b4fbae",
   "metadata": {},
   "outputs": [],
   "source": [
    "proj <- loadArchRProject(path = '../../04_Figures/Figure5/')\n",
    "proj"
   ]
  },
  {
   "cell_type": "markdown",
   "id": "1682352f-fd7c-43c4-99f9-dab8f8cdc8e9",
   "metadata": {},
   "source": [
    "## Subset ArchR Project"
   ]
  },
  {
   "cell_type": "code",
   "execution_count": null,
   "id": "e2d4d3fd-4ea8-4423-9f6c-e32701ab3861",
   "metadata": {},
   "outputs": [],
   "source": [
    "bcs <- colnames(mnp[['RNA']])\n",
    "head(bcs)"
   ]
  },
  {
   "cell_type": "code",
   "execution_count": null,
   "id": "d71fd13e-fb15-4940-ba64-89a7e9a90064",
   "metadata": {},
   "outputs": [],
   "source": [
    "idx_new <- which(proj$cellNames_clean %in% bcs)\n",
    "head(idx_new)"
   ]
  },
  {
   "cell_type": "code",
   "execution_count": null,
   "id": "bf111734-76bc-4a29-a678-501f408f4a1a",
   "metadata": {},
   "outputs": [],
   "source": [
    "cells_subset <- proj$cellNames[idx_new]\n",
    "proj_subset <- proj[cells_subset,]\n",
    "proj_subset"
   ]
  },
  {
   "cell_type": "markdown",
   "id": "58ee3be3-27e2-4be0-bf4b-59a89adc57b7",
   "metadata": {},
   "source": [
    "## ATAC Clustering"
   ]
  },
  {
   "cell_type": "code",
   "execution_count": null,
   "id": "222ba4d7-e09d-493d-a593-947bfe4b9f99",
   "metadata": {
    "scrolled": true,
    "tags": []
   },
   "outputs": [],
   "source": [
    "proj_subset <- addIterativeLSI(proj_subset, name = 'IterativeLSI', force = TRUE, varFeatures = 75000)"
   ]
  },
  {
   "cell_type": "code",
   "execution_count": null,
   "id": "e4b548c3-41bd-40db-881e-cca7266712f4",
   "metadata": {},
   "outputs": [],
   "source": [
    "proj_subset <- addHarmony(proj_subset, reducedDims = 'IterativeLSI', groupBy = 'batch_id', force = TRUE)"
   ]
  },
  {
   "cell_type": "code",
   "execution_count": null,
   "id": "06e54243-1209-4195-8ca1-1a8cd878bf76",
   "metadata": {
    "scrolled": true,
    "tags": []
   },
   "outputs": [],
   "source": [
    "#proj_subset <- addClusters(proj_subset, reducedDims = 'IterativeLSI', name = 'Clusters', force = TRUE, resolution = 0.2)\n",
    "proj_subset <- addClusters(proj_subset, reducedDims = 'Harmony', name = 'Clusters', force = TRUE, resolution = 0.2)"
   ]
  },
  {
   "cell_type": "code",
   "execution_count": null,
   "id": "c24dc681-d253-4c5f-ae06-fd8b7c653927",
   "metadata": {
    "scrolled": true,
    "tags": []
   },
   "outputs": [],
   "source": [
    "#proj_subset <- addUMAP(proj_subset, reducedDims = 'IterativeLSI', name = 'UMAP', force = TRUE)\n",
    "proj_subset <- addUMAP(proj_subset, reducedDims = 'Harmony', name = 'UMAP', force = TRUE)"
   ]
  },
  {
   "cell_type": "code",
   "execution_count": null,
   "id": "85adefa9-6d8e-4c5f-9e51-4971c9e53dd5",
   "metadata": {
    "scrolled": true,
    "tags": []
   },
   "outputs": [],
   "source": [
    "options(repr.plomnpidth = 8, repr.plot.height = 8)\n",
    "plotEmbedding(ArchRProj = proj_subset, colorBy = \"cellColData\", name = \"Clusters\", embedding = \"UMAP\")\n",
    "# plotEmbedding(ArchRProj = proj_subset, colorBy = \"cellColData\", name = \"pediatric_senior\", embedding = \"UMAP\")\n",
    "# plotEmbedding(ArchRProj = proj_subset, colorBy = \"cellColData\", name = \"predicted.t_celltype.l2\", embedding = \"UMAP\")"
   ]
  },
  {
   "cell_type": "markdown",
   "id": "906e07c1-c4c8-49f0-90a2-0deff4344e83",
   "metadata": {},
   "source": [
    "## Export LSI"
   ]
  },
  {
   "cell_type": "code",
   "execution_count": null,
   "id": "35341d12-ac6e-4c7b-b3e4-20a476ad9f07",
   "metadata": {},
   "outputs": [],
   "source": [
    "#lsi <- getReducedDims(proj_subset, reducedDims = 'IterativeLSI')\n",
    "lsi <- getReducedDims(proj_subset, reducedDims = 'Harmony')"
   ]
  },
  {
   "cell_type": "markdown",
   "id": "6685578c-807a-42cb-a139-a424ae86682f",
   "metadata": {},
   "source": [
    "## Import LSI to Seurat Object"
   ]
  },
  {
   "cell_type": "code",
   "execution_count": null,
   "id": "b1358044-49ac-4047-b735-36dac034ef33",
   "metadata": {},
   "outputs": [],
   "source": [
    "rna_metadata <- mnp@meta.data\n",
    "archr_style_barcodes <- paste(rna_metadata$batch_id, \"-P1_\",rna_metadata$pbmc_sample_id,\"#\",rownames(rna_metadata), sep = \"\")\n",
    "head(archr_style_barcodes)"
   ]
  },
  {
   "cell_type": "code",
   "execution_count": null,
   "id": "39478079-c6ba-4c3f-b8a9-d4de9be5004e",
   "metadata": {},
   "outputs": [],
   "source": [
    "# create data frame w/ seurat barcodes and archr style barcodes\n",
    "bc_df <- data.frame(seurat_bcs = colnames(mnp@assays$RNA),\n",
    "                    archr_style = archr_style_barcodes)"
   ]
  },
  {
   "cell_type": "code",
   "execution_count": null,
   "id": "498d2e02-b93c-439a-865e-7d82345f8feb",
   "metadata": {},
   "outputs": [],
   "source": [
    "# Find Intersection & subset LSI\n",
    "bc_idx <- intersect(rownames(lsi), archr_style_barcodes)"
   ]
  },
  {
   "cell_type": "code",
   "execution_count": null,
   "id": "a08c260b-559d-4eca-b603-33d79aab6595",
   "metadata": {},
   "outputs": [],
   "source": [
    "lsi_subset <- subset(lsi, subset = rownames(lsi) %in% bc_idx)\n",
    "bc_df_subset <- subset(bc_df, subset = bc_df$archr_style %in% bc_idx)\n",
    "length(rownames(lsi_subset))\n",
    "length(rownames(bc_df_subset))"
   ]
  },
  {
   "cell_type": "code",
   "execution_count": null,
   "id": "b7f555fb-1baa-4518-82f7-9156d7fa4576",
   "metadata": {},
   "outputs": [],
   "source": [
    "table(bc_df_subset$archr_style == rownames(lsi_subset))"
   ]
  },
  {
   "cell_type": "code",
   "execution_count": null,
   "id": "f396d958-4350-48b2-9878-cb2fb0301dde",
   "metadata": {},
   "outputs": [],
   "source": [
    "lsi_subset <- lsi_subset[match(bc_df_subset$archr_style, rownames(lsi_subset)),]"
   ]
  },
  {
   "cell_type": "code",
   "execution_count": null,
   "id": "d53017b5-2bb3-432f-aa53-233c38d71f88",
   "metadata": {},
   "outputs": [],
   "source": [
    "table(bc_df_subset$archr_style == rownames(lsi_subset))"
   ]
  },
  {
   "cell_type": "code",
   "execution_count": null,
   "id": "eca2d786-1b8d-400c-951c-a1fd242d4207",
   "metadata": {},
   "outputs": [],
   "source": [
    "# replace LSI archr barcodes for seurat barcodes\n",
    "rownames(lsi_subset) <- bc_df_subset$seurat_bcs"
   ]
  },
  {
   "cell_type": "code",
   "execution_count": null,
   "id": "f3b496d0-57a5-426f-a988-d4861268a6f9",
   "metadata": {},
   "outputs": [],
   "source": [
    "mnp <- subset(mnp, cells = bc_df_subset$seurat_bcs)"
   ]
  },
  {
   "cell_type": "code",
   "execution_count": null,
   "id": "15a0ba81-9048-4663-82c9-3d0e04396faa",
   "metadata": {},
   "outputs": [],
   "source": [
    "table(colnames(mnp[['RNA']]) == rownames(lsi_subset))"
   ]
  },
  {
   "cell_type": "code",
   "execution_count": null,
   "id": "a25e4486-1841-4c74-8e56-bd39d97036c0",
   "metadata": {},
   "outputs": [],
   "source": [
    "mnp[[\"lsit\"]] <- CreateDimReducObject(embeddings = lsi_subset, key = \"lsit_\", assay = \"Tiles\")"
   ]
  },
  {
   "cell_type": "markdown",
   "id": "1548506f-bcce-437e-824f-2327106e888b",
   "metadata": {},
   "source": [
    "## ATAC clustering in Seurat Object"
   ]
  },
  {
   "cell_type": "code",
   "execution_count": null,
   "id": "a857ecc2-eed4-4ed8-94db-5b85adf61b97",
   "metadata": {
    "scrolled": true,
    "tags": []
   },
   "outputs": [],
   "source": [
    "DefaultAssay(mnp) <- 'Tiles'\n",
    "mnp <- RunUMAP(mnp, reduction = 'lsit', reduction.name = 'atac_umap', dims = 1:15, verbose = T, reduction.key = 'atacumap_')"
   ]
  },
  {
   "cell_type": "code",
   "execution_count": null,
   "id": "9649b54f-b43f-47dc-949d-51424e71eaea",
   "metadata": {},
   "outputs": [],
   "source": [
    "options(repr.plot.width = 20, repr.plot.height = 10)\n",
    "p1 <- DimPlot(mnp, reduction = 'atac_umap', group.by = 'predicted.t_celltype.l2')\n",
    "p2 <- DimPlot(mnp, reduction = 'atac_umap', group.by = 'pediatric_senior')\n",
    "p3 <- DimPlot(mnp, reduction = 'atac_umap', group.by = 'age_cmv')\n",
    "p4 <- DimPlot(mnp, reduction = 'atac_umap', group.by = 'pbmc_sample_id')\n",
    "p1 + p2 + p3 + p4"
   ]
  },
  {
   "cell_type": "code",
   "execution_count": null,
   "id": "411e7260-e8bf-4162-b248-f2877c43b29e",
   "metadata": {},
   "outputs": [],
   "source": [
    "#options(repr.plot.width = 20, repr.plot.height = 20)\n",
    "#DimPlot(mnp, reduction = 'atac_umap', group.by = 'gating_celltype', split.by = 'gating_celltype', ncol = 4)"
   ]
  },
  {
   "cell_type": "markdown",
   "id": "f2014789-3af2-4afa-8007-69262e257635",
   "metadata": {},
   "source": [
    "# 3WNN Clustering"
   ]
  },
  {
   "cell_type": "code",
   "execution_count": null,
   "id": "5afb45ab-1d90-4a4e-ad86-17c59f965fae",
   "metadata": {},
   "outputs": [],
   "source": [
    "mnp <- FindMultiModalNeighbors(mnp, reduction.list = list(\"rna_harmony\",\"adt_harmony\",'lsit'), dims.list = list(1:20,1:20,1:29), weighted.nn.name = \"X3way.weighted.nn\",\n",
    "                                      k.nn = 30, knn.range = 500, prune.SNN = 1/20)"
   ]
  },
  {
   "cell_type": "code",
   "execution_count": null,
   "id": "da188d2b-347e-4bfc-a222-ed92905321d8",
   "metadata": {},
   "outputs": [],
   "source": [
    "mnp <- RunUMAP(mnp, nn.name = \"X3way.weighted.nn\", reduction.name = \"wnn.3.umap\", reduction.key = \"wnn.3.umap_\")"
   ]
  },
  {
   "cell_type": "code",
   "execution_count": null,
   "id": "0efbe634-8488-4483-9745-85c43b991382",
   "metadata": {},
   "outputs": [],
   "source": [
    "mnp <- FindClusters(mnp, graph.name = \"wsnn\", algorithm = 3, resolution = 0.5, verbose = TRUE)"
   ]
  },
  {
   "cell_type": "markdown",
   "id": "ceb9d340-9d02-45fd-9137-4dca7e1bd448",
   "metadata": {},
   "source": [
    "## 3WNN UMAPs"
   ]
  },
  {
   "cell_type": "code",
   "execution_count": null,
   "id": "73850d54-e7e9-4144-90e7-b7526353c641",
   "metadata": {},
   "outputs": [],
   "source": [
    "options(repr.plot.width = 18, repr.plot.height = 8)\n",
    "p1 <- DimPlot(mnp, reduction = 'wnn.3.umap', group.by = 'wsnn_res.0.5', label = TRUE)\n",
    "p2 <- DimPlot(mnp, reduction = 'wnn.3.umap', group.by = 'mnp_analysis', shuffle = TRUE)\n",
    "p1 + p2"
   ]
  },
  {
   "cell_type": "markdown",
   "id": "5f77e233-175f-4c73-9159-27294acfc172",
   "metadata": {},
   "source": [
    "## Consolidate cell type labels"
   ]
  },
  {
   "cell_type": "code",
   "execution_count": null,
   "id": "b76dc6f0-f64e-437d-858d-1fc6cdcc23a9",
   "metadata": {},
   "outputs": [],
   "source": [
    "mnp <- SetIdent(mnp, value = 'mnp_analysis')\n",
    "mnp <- RenameIdents(mnp,\n",
    "                    'CD8 MAIT' = 'MAIT',\n",
    "                    'dnT MAIT' = 'MAIT',\n",
    "                    'gdT' = 'gdT',\n",
    "                    'MNP-2' = 'MNP-2')\n",
    "mnp$cell.types <- Idents(mnp)"
   ]
  },
  {
   "cell_type": "code",
   "execution_count": null,
   "id": "1999981c-4d4b-4b8f-8f61-0f63c2aea73f",
   "metadata": {},
   "outputs": [],
   "source": [
    "options(repr.plot.width = 18, repr.plot.height = 8)\n",
    "p1 <- DimPlot(mnp, reduction = 'wnn.3.umap', group.by = 'wsnn_res.0.5', label = TRUE)\n",
    "p2 <- DimPlot(mnp, reduction = 'wnn.3.umap', group.by = 'cell.types', shuffle = TRUE, cols = c('#fdbf6f','#33a02c','#1f78b4'))\n",
    "p1 + p2"
   ]
  },
  {
   "cell_type": "code",
   "execution_count": null,
   "id": "a3dc72cb-641d-4115-b288-90d55ce24f7f",
   "metadata": {},
   "outputs": [],
   "source": [
    "options(repr.plot.width = 9.5, repr.plot.height = 8)\n",
    "DimPlot(mnp, reduction = 'wnn.3.umap', group.by = 'cell.types', shuffle = TRUE, cols = c('#fdbf6f','#33a02c','#1f78b4'))"
   ]
  },
  {
   "cell_type": "code",
   "execution_count": null,
   "id": "6e5d4acd-cfea-43d7-8ee5-03db977be4eb",
   "metadata": {},
   "outputs": [],
   "source": [
    "# Open a pdf file\n",
    "pdf(\"plots/mnp2_clustering.pdf\", width = 9.5, height = 8) \n",
    "# 2. Create a plot\n",
    "DimPlot(mnp, reduction = 'wnn.3.umap', group.by = 'cell.types', shuffle = TRUE, cols = c('#fdbf6f','#33a02c','#1f78b4'))\n",
    "# Close the pdf file\n",
    "dev.off() "
   ]
  },
  {
   "cell_type": "markdown",
   "id": "e7773327-a047-4f41-b2af-dcb84e759f17",
   "metadata": {},
   "source": [
    "## Expression UMAPs"
   ]
  },
  {
   "cell_type": "code",
   "execution_count": null,
   "id": "be37cc2e-403f-46f4-9772-0a9bfb0f7dd7",
   "metadata": {},
   "outputs": [],
   "source": [
    "mnp <- NormalizeData(mnp, assay = 'RNA')"
   ]
  },
  {
   "cell_type": "code",
   "execution_count": null,
   "id": "e4e241bd-264c-49eb-b4e7-02e2ec62d7da",
   "metadata": {},
   "outputs": [],
   "source": [
    "options(repr.plot.width = 7, repr.plot.height = 7)\n",
    "DefaultAssay(mnp) <- 'RNA'\n",
    "p1 <- plot_density(mnp, c(\"TRDC\", \"TRGC2\"), joint = TRUE)\n",
    "p2 <- plot_density(mnp, c(\"TRAC\", \"TRBC2\"), joint = TRUE)\n",
    "p3 <- plot_density(mnp, 'NCAM1')\n",
    "p4 <- plot_density(mnp, 'NKG7')\n",
    "p6 <- plot_density(mnp, 'KLRC2')\n",
    "DefaultAssay(mnp) <- 'clean_adt'\n",
    "p5 <- plot_density(mnp, c(\"TCR-Valpha7.2\", \"CD161\"), joint = TRUE, pal = 'inferno')\n",
    "# p4[[3]]\n",
    "# p4"
   ]
  },
  {
   "cell_type": "code",
   "execution_count": null,
   "id": "9199a189-0d54-4af1-8057-118b039adfbc",
   "metadata": {},
   "outputs": [],
   "source": [
    "options(repr.plot.width = 7, repr.plot.height = 7)\n",
    "DefaultAssay(mnp) <- 'RNA'\n",
    "p1 <- plot_density(mnp, c(\"TRDC\", \"TRGC2\"), joint = TRUE)\n",
    "p2 <- plot_density(mnp, c(\"TRAC\", \"TRBC2\"), joint = TRUE)\n",
    "p3 <- plot_density(mnp, 'NCAM1')\n",
    "p4 <- plot_density(mnp, 'KLRC2')\n",
    "DefaultAssay(mnp) <- 'clean_adt'\n",
    "p6 <- plot_density(mnp, 'CD56', pal = 'inferno')\n",
    "p5 <- plot_density(mnp, c(\"TCR-Valpha7.2\", \"CD161\"), joint = TRUE, pal = 'inferno')\n",
    "# p4[[3]]\n",
    "# p4"
   ]
  },
  {
   "cell_type": "code",
   "execution_count": null,
   "id": "fdeaeadf-7cac-40ba-a771-74d7646b3eac",
   "metadata": {},
   "outputs": [],
   "source": [
    "options(repr.plot.width = 16, repr.plot.height = 8)\n",
    "plot_grid(p1[[3]], p2[[3]], p3, p4, p5[[1]], p6, ncol = 3)"
   ]
  },
  {
   "cell_type": "code",
   "execution_count": null,
   "id": "bebbcb99-2991-43cd-ba0e-47f742805e0e",
   "metadata": {},
   "outputs": [],
   "source": [
    "# Open a pdf file\n",
    "pdf(\"plots/mnp2_nebulosa_markers_updated.pdf\", width = 16, height = 8) \n",
    "# 2. Create a plot\n",
    "plot_grid(p1[[3]], p2[[3]], p3, p4, p5[[1]], p6, ncol = 3)\n",
    "# Close the pdf file\n",
    "dev.off() "
   ]
  },
  {
   "cell_type": "markdown",
   "id": "a1efadf6-63d4-4e69-a811-924ad598bf9b",
   "metadata": {},
   "source": [
    "# CD8 Plots"
   ]
  },
  {
   "cell_type": "code",
   "execution_count": null,
   "id": "f69b1307-9462-485f-af69-fc137b66a45b",
   "metadata": {},
   "outputs": [],
   "source": [
    "trim_cd8_na <- readRDS(file = '../Figure4/trim_cd8_na.rds')"
   ]
  },
  {
   "cell_type": "code",
   "execution_count": null,
   "id": "c4ef72e8-201c-46a8-8e1e-1ac2a427c6f3",
   "metadata": {},
   "outputs": [],
   "source": [
    "trim_cd8_na <- SetIdent(trim_cd8_na, value = 'pure_celltype')\n",
    "cd8na <- subset(trim_cd8_na, idents = 'CD8 Naive')"
   ]
  },
  {
   "cell_type": "code",
   "execution_count": null,
   "id": "6c70c218-e7ec-4260-af85-6dda720aab44",
   "metadata": {},
   "outputs": [],
   "source": [
    "cd8na$cell.types <- cd8na$pure_celltype"
   ]
  },
  {
   "cell_type": "code",
   "execution_count": null,
   "id": "a579627d-0901-43b7-b2ef-d1a3863c512d",
   "metadata": {},
   "outputs": [],
   "source": [
    "# remove any overlapping cells\n",
    "cd8na_clean <- subset(cd8na, cells = colnames(mnp[['RNA']]), invert = TRUE)\n",
    "cd8na_clean\n",
    "cd8na"
   ]
  },
  {
   "cell_type": "code",
   "execution_count": null,
   "id": "03e4b6ea-231a-4edf-ae72-74a44d1913b8",
   "metadata": {},
   "outputs": [],
   "source": [
    "mnp_na_merge <- merge(mnp, cd8na_clean)"
   ]
  },
  {
   "cell_type": "code",
   "execution_count": null,
   "id": "226efdd7-2d07-46a8-a128-a6319c52ae73",
   "metadata": {},
   "outputs": [],
   "source": [
    "mnp_na_merge <- NormalizeData(mnp_na_merge, assay = 'RNA')\n",
    "# mnp_na_merge <- NormalizeData(mnp_na_merge, assay = 'clean_adt')"
   ]
  },
  {
   "cell_type": "markdown",
   "id": "41e54a32-28d7-42eb-bf79-6e819bfb5f98",
   "metadata": {},
   "source": [
    "## VlnPlots"
   ]
  },
  {
   "cell_type": "code",
   "execution_count": null,
   "id": "abcb72cb-40cd-41a6-bfd1-3d7f72a7e781",
   "metadata": {},
   "outputs": [],
   "source": [
    "options(repr.plot.width = 32, repr.plot.height = 4)\n",
    "DefaultAssay(mnp_na_merge) <- 'RNA'\n",
    "p1 <- VlnPlot(mnp_na_merge, features = 'CD8A', pt.size = 0, cols = c('#807dba','#33a02c','#fdbf6f','#1f78b4')) & NoLegend() & theme(axis.text.x = element_text(angle=0, hjust=0.5),\n",
    "                                                                                                                           axis.title.x = element_blank(),\n",
    "                                                                                                                           axis.title.y = element_blank())\n",
    "p2 <- VlnPlot(mnp_na_merge, features = 'CD8B', pt.size = 0, cols = c('#807dba','#33a02c','#fdbf6f','#1f78b4')) & NoLegend() & theme(axis.text.x = element_text(angle=0, hjust=0.5),\n",
    "                                                                                                                           axis.title.x = element_blank(),\n",
    "                                                                                                                           axis.title.y = element_blank())\n",
    "p3 <- VlnPlot(mnp_na_merge, features = 'CD3D', pt.size = 0, cols = c('#807dba','#33a02c','#fdbf6f','#1f78b4')) & NoLegend() & theme(axis.text.x = element_text(angle=0, hjust=0.5),\n",
    "                                                                                                                           axis.title.x = element_blank(),\n",
    "                                                                                                                           axis.title.y = element_blank())\n",
    "p4 <- VlnPlot(mnp_na_merge, features = 'NKG7', pt.size = 0, cols = c('#807dba','#33a02c','#fdbf6f','#1f78b4')) & NoLegend() & theme(axis.text.x = element_text(angle=0, hjust=0.5),\n",
    "                                                                                                                           axis.title.x = element_blank(),\n",
    "                                                                                                                           axis.title.y = element_blank())\n",
    "plot_grid(p1, p2, p3, p4, ncol = 4, scale = 0.90)"
   ]
  },
  {
   "cell_type": "code",
   "execution_count": null,
   "id": "57356b87-6ad2-4bd8-b3d1-83ea60dd3991",
   "metadata": {},
   "outputs": [],
   "source": [
    "# Open a pdf file\n",
    "pdf(\"plots/mnp2_vln_plots.pdf\", width = 32, height = 4) \n",
    "# 2. Create a plot\n",
    "plot_grid(p1, p2, p3, p4, ncol = 4, scale = 0.90)\n",
    "# Close the pdf file\n",
    "dev.off() "
   ]
  },
  {
   "cell_type": "markdown",
   "id": "06523e1c-a9bf-49ae-aa24-99509c36b2b5",
   "metadata": {},
   "source": [
    "# Save"
   ]
  },
  {
   "cell_type": "code",
   "execution_count": null,
   "id": "bb596edf-424b-44b8-b8cd-008e77ca2108",
   "metadata": {},
   "outputs": [],
   "source": [
    "saveRDS(mnp, 'mnp_analysis_3wnn_updated.rds')"
   ]
  },
  {
   "cell_type": "code",
   "execution_count": null,
   "id": "1c59d9aa-4926-4f26-859e-cdfd807b007b",
   "metadata": {},
   "outputs": [],
   "source": [
    "mnp <- readRDS('mnp_analysis_3wnn_updated.rds')"
   ]
  },
  {
   "cell_type": "code",
   "execution_count": null,
   "id": "14207f47-8c9d-4e67-ad77-9c220dcc709f",
   "metadata": {},
   "outputs": [],
   "source": [
    "table(mnp$cell.types)"
   ]
  },
  {
   "cell_type": "code",
   "execution_count": null,
   "id": "ec021735-9e3c-41ec-8aef-96e161b0004b",
   "metadata": {},
   "outputs": [],
   "source": [
    "sessionInfo()"
   ]
  }
 ],
 "metadata": {
  "kernelspec": {
   "display_name": "R 4",
   "language": "R",
   "name": "ir"
  },
  "language_info": {
   "codemirror_mode": "r",
   "file_extension": ".r",
   "mimetype": "text/x-r-source",
   "name": "R",
   "pygments_lexer": "r",
   "version": "4.1.2"
  }
 },
 "nbformat": 4,
 "nbformat_minor": 5
}
