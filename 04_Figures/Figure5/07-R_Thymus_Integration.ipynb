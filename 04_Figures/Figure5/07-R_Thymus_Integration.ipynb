{
 "cells": [
  {
   "cell_type": "code",
   "execution_count": null,
   "id": "79d45365-fa56-4eea-ba04-4b09a71616b1",
   "metadata": {},
   "outputs": [],
   "source": [
    "quiet_library <- function(...) {\n",
    "    suppressPackageStartupMessages(library(...))\n",
    "}\n",
    "quiet_library(Seurat)\n",
    "quiet_library(ggplot2)\n",
    "quiet_library(Matrix)\n",
    "quiet_library(H5weaver)\n",
    "quiet_library(dplyr)\n",
    "quiet_library(viridis)\n",
    "quiet_library(harmony)\n",
    "quiet_library(Nebulosa)\n",
    "quiet_library(ArchR)\n",
    "quiet_library(cowplot)\n",
    "# quiet_library(SeuratData)\n",
    "quiet_library(SeuratDisk)\n",
    "quiet_library(pheatmap)"
   ]
  },
  {
   "cell_type": "code",
   "execution_count": null,
   "id": "b89961f1-2c45-4ab5-875b-f3d9adbfcbb7",
   "metadata": {},
   "outputs": [],
   "source": [
    "mnp <- readRDS('mnp_analysis_3wnn_updated.rds')"
   ]
  },
  {
   "cell_type": "code",
   "execution_count": null,
   "id": "2243edd4-3682-4fda-b90c-3c32990e525c",
   "metadata": {},
   "outputs": [],
   "source": [
    "thymus <- LoadH5Seurat('t_cells_resaved.h5seurat')"
   ]
  },
  {
   "cell_type": "code",
   "execution_count": null,
   "id": "158727e7-a1aa-4b9c-9300-5af61e3a6b00",
   "metadata": {},
   "outputs": [],
   "source": [
    "mnp$method <- 'TEA-seq'\n",
    "mnp$Age <- mnp$pediatric_senior"
   ]
  },
  {
   "cell_type": "code",
   "execution_count": null,
   "id": "7aef7df8-2328-4498-94b4-996d096cc242",
   "metadata": {},
   "outputs": [],
   "source": [
    "table(thymus$Age)"
   ]
  },
  {
   "cell_type": "code",
   "execution_count": null,
   "id": "81230370-a32a-45e0-a659-8d9f76287d24",
   "metadata": {},
   "outputs": [],
   "source": [
    "thymus <- SetIdent(thymus, value = 'Age')\n",
    "thymus_young <- subset(thymus, idents = c('13y','30m','15m','10m'))"
   ]
  },
  {
   "cell_type": "code",
   "execution_count": null,
   "id": "608ae707-107e-4556-9996-b3675308b9f8",
   "metadata": {
    "scrolled": true,
    "tags": []
   },
   "outputs": [],
   "source": [
    "thymus_naive.list <- lapply(X = list(thymus_young,mnp), FUN = function(x) {\n",
    "    DefaultAssay(x) <- 'RNA'\n",
    "    x <- NormalizeData(x)\n",
    "    x <- FindVariableFeatures(x, selection.method = \"vst\", nfeatures = 2000)\n",
    "})"
   ]
  },
  {
   "cell_type": "code",
   "execution_count": null,
   "id": "c8a81aec-c956-4366-9e43-cc87c7b2b790",
   "metadata": {},
   "outputs": [],
   "source": [
    "features <- SelectIntegrationFeatures(object.list = thymus_naive.list)"
   ]
  },
  {
   "cell_type": "code",
   "execution_count": null,
   "id": "662befeb-130c-4397-8b4f-f01fc460b258",
   "metadata": {
    "scrolled": true,
    "tags": []
   },
   "outputs": [],
   "source": [
    "immune.anchors <- FindIntegrationAnchors(object.list = thymus_naive.list, anchor.features = features)"
   ]
  },
  {
   "cell_type": "code",
   "execution_count": null,
   "id": "0ab5b107-8a19-40fc-8ac2-e72b37995f0f",
   "metadata": {},
   "outputs": [],
   "source": [
    "# this command creates an 'integrated' data assay\n",
    "immune.combined <- IntegrateData(anchorset = immune.anchors)"
   ]
  },
  {
   "cell_type": "code",
   "execution_count": null,
   "id": "2d49977c-60aa-4002-9f35-7c7ca1851eb5",
   "metadata": {
    "scrolled": true,
    "tags": []
   },
   "outputs": [],
   "source": [
    "# specify that we will perform downstream analysis on the corrected data note that the\n",
    "# original unmodified data still resides in the 'RNA' assay\n",
    "DefaultAssay(immune.combined) <- \"integrated\"\n",
    "\n",
    "# Run the standard workflow for visualization and clustering\n",
    "immune.combined <- ScaleData(immune.combined, verbose = FALSE)\n",
    "immune.combined <- RunPCA(immune.combined, npcs = 30, verbose = FALSE)\n",
    "immune.combined <- RunUMAP(immune.combined, reduction = \"pca\", dims = 1:20)\n",
    "immune.combined <- FindNeighbors(immune.combined, reduction = \"pca\", dims = 1:20)\n",
    "immune.combined <- FindClusters(immune.combined, resolution = 0.5)"
   ]
  },
  {
   "cell_type": "code",
   "execution_count": null,
   "id": "e3e8f4a6-02bd-40e2-8d5d-7e0941fa3c96",
   "metadata": {},
   "outputs": [],
   "source": [
    "options(repr.plot.width = 24, repr.plot.height = 8)\n",
    "p1 <- DimPlot(immune.combined, reduction = \"umap\", group.by = \"method\", shuffle = TRUE)\n",
    "p2 <- DimPlot(immune.combined, reduction = \"umap\", group.by = \"cell.types\", label = TRUE,\n",
    "    repel = TRUE, shuffle = T)\n",
    "p3 <- DimPlot(immune.combined, reduction = \"umap\", group.by = \"Age\", shuffle = TRUE)\n",
    "p1 + p2 + p3"
   ]
  },
  {
   "cell_type": "code",
   "execution_count": null,
   "id": "7f0d4746-89c7-4ca2-bc23-95c7776a39e7",
   "metadata": {},
   "outputs": [],
   "source": [
    "library(scales)"
   ]
  },
  {
   "cell_type": "code",
   "execution_count": null,
   "id": "d9b82cd5-3c7d-4cac-b44d-f5f6d268574f",
   "metadata": {},
   "outputs": [],
   "source": [
    "hue_pal()(19)"
   ]
  },
  {
   "cell_type": "code",
   "execution_count": null,
   "id": "45de9897-bc9a-42c0-9998-c0bc6a1f1dd6",
   "metadata": {},
   "outputs": [],
   "source": [
    "show_col(hue_pal()(19))"
   ]
  },
  {
   "cell_type": "code",
   "execution_count": null,
   "id": "71cacba1-7f4d-4f26-bea0-3d89b9d5f9ba",
   "metadata": {},
   "outputs": [],
   "source": [
    "options(repr.plot.width = 10, repr.plot.height = 8)\n",
    "DimPlot(immune.combined, reduction = \"umap\", group.by = \"cell.types\", label = TRUE,\n",
    "        repel = TRUE, shuffle = T, cols = c('#F8766D','#E9842C','#D69100','#BC9D00',\n",
    "                                            '#9CA700','#6FB000','#00C0B4','#00BDD4',\n",
    "                                            '#00C08E','#33a02c','#fdbf6f','#1f78b4',\n",
    "                                            '#00A7FF','#7F96FF','#BC81FF','#E26EF7',\n",
    "                                            '#F863DF','#FF62BF','#FF6A9A'))"
   ]
  },
  {
   "cell_type": "code",
   "execution_count": null,
   "id": "870db81a-c62d-4ac6-ac6e-1ca97c4dcfac",
   "metadata": {
    "scrolled": true,
    "tags": []
   },
   "outputs": [],
   "source": [
    "# Open a pdf file\n",
    "pdf(\"plots/thymus_integrated_umap.pdf\", width = 10, height = 8) \n",
    "# 2. Create a plot\n",
    "DimPlot(immune.combined, reduction = \"umap\", group.by = \"cell.types\", label = TRUE,\n",
    "        repel = TRUE, shuffle = T, cols = c('#F8766D','#E9842C','#D69100','#BC9D00',\n",
    "                                            '#9CA700','#6FB000','#00C0B4','#00BDD4',\n",
    "                                            '#00C08E','#33a02c','#fdbf6f','#1f78b4',\n",
    "                                            '#00A7FF','#7F96FF','#BC81FF','#E26EF7',\n",
    "                                            '#F863DF','#FF62BF','#FF6A9A'))\n",
    "# Close the pdf file\n",
    "dev.off() "
   ]
  },
  {
   "cell_type": "code",
   "execution_count": null,
   "id": "f3d99b06-bc9c-4ea8-9177-c6977fc8f607",
   "metadata": {},
   "outputs": [],
   "source": [
    "DefaultAssay(immune.combined) <- 'RNA'\n",
    "immune.combined <- NormalizeData(immune.combined, assay = 'RNA')\n",
    "immune.combined <- FindVariableFeatures(immune.combined)\n",
    "immune.combined <- ScaleData(immune.combined, assay = 'RNA', vars.to.regress = 'method')"
   ]
  },
  {
   "cell_type": "code",
   "execution_count": null,
   "id": "10fa5758-4ba4-4f42-a8ff-42198ed335ce",
   "metadata": {},
   "outputs": [],
   "source": [
    "options(repr.plot.width = 8, repr.plot.height = 8)\n",
    "p1 <- FeaturePlot(immune.combined, features = 'rna_RTKN2', order = TRUE) & scale_color_viridis()\n",
    "p2 <- FeaturePlot(immune.combined, features = 'rna_ZNF683', order = TRUE) & scale_color_viridis()\n",
    "p3 <- FeaturePlot(immune.combined, features = 'rna_GNG4', order = TRUE) & scale_color_viridis()\n",
    "p4 <- FeaturePlot(immune.combined, features = 'rna_IL21R', order = TRUE) & scale_color_viridis()\n",
    "# p1"
   ]
  },
  {
   "cell_type": "code",
   "execution_count": null,
   "id": "1956e2d1-690a-4e2e-8b03-11c063e2b03d",
   "metadata": {},
   "outputs": [],
   "source": [
    "options(repr.plot.width = 16, repr.plot.height = 16)\n",
    "plot_grid(p1, p2, p3, p4, ncol = 2)"
   ]
  },
  {
   "cell_type": "code",
   "execution_count": null,
   "id": "7e812844-7311-4970-8661-1e205bb73cce",
   "metadata": {},
   "outputs": [],
   "source": [
    "# Open a pdf file\n",
    "pdf(\"plots/thymus_integrated__markersumap.pdf\", width = 16, height = 16) \n",
    "# 2. Create a plot\n",
    "plot_grid(p1, p2, p3, p4, ncol = 2)\n",
    "# Close the pdf file\n",
    "dev.off() "
   ]
  },
  {
   "cell_type": "code",
   "execution_count": null,
   "id": "c2a97ed4-e907-4cf2-b255-d24fc69ff1a8",
   "metadata": {},
   "outputs": [],
   "source": [
    "genes_of_interest <- c('CD8A','CD8B','RTKN2','ZNF683','GNG4','MME','NKG7','PECAM1','IFNG','TBX21','EOMES','KLRB1','KLRC2','KLRC3','KLRD1','CD200','IL21R','FAS')"
   ]
  },
  {
   "cell_type": "code",
   "execution_count": null,
   "id": "464eb11d-f4f2-4461-ae78-1415b204a066",
   "metadata": {},
   "outputs": [],
   "source": [
    "DefaultAssay(immune.combined) <- 'RNA'\n",
    "immune.combined <- NormalizeData(immune.combined, assay = 'RNA')\n",
    "VariableFeatures(immune.combined) <- genes_of_interest\n",
    "immune.combined <- ScaleData(immune.combined, assay = 'RNA', vars.to.regress = 'method')"
   ]
  },
  {
   "cell_type": "code",
   "execution_count": null,
   "id": "f0c8c3cc-f591-4632-ac85-6a37810fc5ae",
   "metadata": {},
   "outputs": [],
   "source": [
    "avg_exp <- AverageExpression(immune.combined, assays = 'RNA', features = genes_of_interest, group.by = 'cell.types', slot = 'scale')"
   ]
  },
  {
   "cell_type": "code",
   "execution_count": null,
   "id": "2dd56303-8037-4ef0-9f0d-27bc9bd3749e",
   "metadata": {},
   "outputs": [],
   "source": [
    "avg_exp_df <- as.data.frame(avg_exp$RNA)"
   ]
  },
  {
   "cell_type": "code",
   "execution_count": null,
   "id": "f2cd787e-8878-4a15-afbd-f7155290649f",
   "metadata": {},
   "outputs": [],
   "source": [
    "head(avg_exp_df)"
   ]
  },
  {
   "cell_type": "code",
   "execution_count": null,
   "id": "37e1672f-1ff7-41a3-8268-e7d1f6392851",
   "metadata": {},
   "outputs": [],
   "source": [
    "paletteLength <- 50\n",
    "myColor <- colorRampPalette(c(\"blue\", \"white\", \"red\"))(paletteLength)\n",
    "# length(breaks) == length(paletteLength) + 1\n",
    "# use floor and ceiling to deal with even/odd length pallettelengths\n",
    "myBreaks <- c(seq(min(avg_exp_df), 0, length.out=ceiling(paletteLength/2) + 1), \n",
    "              seq(max(avg_exp_df)/paletteLength, max(avg_exp_df), length.out=floor(paletteLength/2)))"
   ]
  },
  {
   "cell_type": "code",
   "execution_count": null,
   "id": "1b2d0617-d052-438a-9dd6-e53c109d75ff",
   "metadata": {},
   "outputs": [],
   "source": [
    "options(repr.plot.width = 10, repr.plot.height = 10)\n",
    "p <- pheatmap(avg_exp_df, scale = 'none', color=myColor, breaks=myBreaks, fontsize = 20)"
   ]
  },
  {
   "cell_type": "code",
   "execution_count": null,
   "id": "9155fdfd-2079-46a2-b7fa-457d59fd138d",
   "metadata": {
    "scrolled": true,
    "tags": []
   },
   "outputs": [],
   "source": [
    "save_pheatmap_pdf <- function(x, filename, width=10, height=10) {\n",
    "   stopifnot(!missing(x))\n",
    "   stopifnot(!missing(filename))\n",
    "   pdf(filename, width=width, height=height)\n",
    "   grid::grid.newpage()\n",
    "   grid::grid.draw(x$gtable)\n",
    "   dev.off()\n",
    "}\n",
    "save_pheatmap_pdf(p, \"plots/thymus_heatmap.pdf\")"
   ]
  },
  {
   "cell_type": "code",
   "execution_count": null,
   "id": "ae482340-ab2d-48d2-9fb3-24b86e65d76b",
   "metadata": {},
   "outputs": [],
   "source": [
    "options(repr.plot.width = 20, repr.plot.height = 10)\n",
    "DefaultAssay(immune.combined) <- 'integrated'\n",
    "VlnPlot(immune.combined, features = c('RTKN2','ZNF683','GNG4','MME'), group.by = 'cell.types', ncol = 2, pt.size = 0)"
   ]
  },
  {
   "cell_type": "code",
   "execution_count": null,
   "id": "4d717eb7-1b5e-43e1-b365-c747fdc6c957",
   "metadata": {},
   "outputs": [],
   "source": [
    "options(repr.plot.width = 10, repr.plot.height = 10)\n",
    "DotPlot(immune.combined, features = genes_of_interest)"
   ]
  },
  {
   "cell_type": "code",
   "execution_count": null,
   "id": "78276e80-cecd-4cd6-ae1d-04eb07e388a3",
   "metadata": {},
   "outputs": [],
   "source": [
    "saveRDS(immune.combined, file = 'updated_mnp_thymus.rds')"
   ]
  },
  {
   "cell_type": "code",
   "execution_count": null,
   "id": "13a4c695-eba2-4629-b9e8-77ad275441b6",
   "metadata": {},
   "outputs": [],
   "source": [
    "immune.combined <- readRDS(file = 'updated_mnp_thymus.rds')"
   ]
  },
  {
   "cell_type": "code",
   "execution_count": null,
   "id": "cdb4dcec-f59f-42f4-98b1-6015326468c2",
   "metadata": {},
   "outputs": [],
   "source": [
    "sessionInfo()"
   ]
  }
 ],
 "metadata": {
  "kernelspec": {
   "display_name": "R 4",
   "language": "R",
   "name": "ir"
  },
  "language_info": {
   "codemirror_mode": "r",
   "file_extension": ".r",
   "mimetype": "text/x-r-source",
   "name": "R",
   "pygments_lexer": "r",
   "version": "4.1.2"
  }
 },
 "nbformat": 4,
 "nbformat_minor": 5
}
