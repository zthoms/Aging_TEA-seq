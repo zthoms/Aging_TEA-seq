{
 "cells": [
  {
   "cell_type": "code",
   "execution_count": null,
   "id": "5a4d528d-c291-4fda-a7e9-ce53be10adf9",
   "metadata": {},
   "outputs": [],
   "source": [
    "quiet_library <- function(...) {\n",
    "    suppressPackageStartupMessages(library(...))\n",
    "}\n",
    "quiet_library(Seurat)\n",
    "quiet_library(ggplot2)\n",
    "quiet_library(Matrix)\n",
    "quiet_library(H5weaver)\n",
    "quiet_library(dplyr)\n",
    "quiet_library(viridis)\n",
    "quiet_library(harmony)\n",
    "quiet_library(Nebulosa)"
   ]
  },
  {
   "cell_type": "markdown",
   "id": "635e81af-2c15-447d-b71b-65a826a25e87",
   "metadata": {},
   "source": [
    "# Load Data"
   ]
  },
  {
   "cell_type": "code",
   "execution_count": null,
   "id": "bc2a4630-9df3-4db8-91a7-c27f0e275568",
   "metadata": {},
   "outputs": [],
   "source": [
    "sp_merge <- readRDS(file = '../../Seurat_Objects/sp_merge_gating_celltype_updated.rds')"
   ]
  },
  {
   "cell_type": "code",
   "execution_count": null,
   "id": "0d663668-2a49-4ea7-9aa3-577d2419fedd",
   "metadata": {},
   "outputs": [],
   "source": [
    "sp_merge <- SetIdent(sp_merge, value = 'gating_celltype')\n",
    "cd4_mem <- subset(sp_merge, idents = c('CD4 CM','CD4 EM1','CD4 EM2','CD4 TEMRA','Treg'))"
   ]
  },
  {
   "cell_type": "code",
   "execution_count": null,
   "id": "f1c7b9d6-dd06-4976-8033-ae09e8158fc3",
   "metadata": {},
   "outputs": [],
   "source": [
    "cd4_mem$pure_celltype <- cd4_mem$gating_celltype"
   ]
  },
  {
   "cell_type": "code",
   "execution_count": null,
   "id": "52bb7477-9dee-4b59-b138-53faa5cc8a62",
   "metadata": {},
   "outputs": [],
   "source": [
    "cd4na <- readRDS(file = 'cd4_na_labeled.rds')"
   ]
  },
  {
   "cell_type": "code",
   "execution_count": null,
   "id": "09f467b4-be9f-483f-af8d-61e264e8789f",
   "metadata": {},
   "outputs": [],
   "source": [
    "cd4_merge <- merge(cd4na, cd4_mem)"
   ]
  },
  {
   "cell_type": "code",
   "execution_count": null,
   "id": "51fd1a88-5fe9-4a8b-b700-b06b9ff17b2a",
   "metadata": {},
   "outputs": [],
   "source": [
    "rm(sp_merge)\n",
    "rm(cd4_mem)\n",
    "rm(cd4na)"
   ]
  },
  {
   "cell_type": "markdown",
   "id": "fa7d57da-0af5-4303-b045-db03c94109b4",
   "metadata": {},
   "source": [
    "# Re-normalization"
   ]
  },
  {
   "cell_type": "code",
   "execution_count": null,
   "id": "e807e478-9e87-43c5-b74e-4473fdd35b5c",
   "metadata": {
    "scrolled": true,
    "tags": []
   },
   "outputs": [],
   "source": [
    "DefaultAssay(cd4_merge) <- 'RNA'\n",
    "cd4_merge <- NormalizeData(cd4_merge) %>% FindVariableFeatures() %>% ScaleData() %>% RunPCA()"
   ]
  },
  {
   "cell_type": "code",
   "execution_count": null,
   "id": "76c996ed-52e9-4fed-ad61-533c080fc4af",
   "metadata": {},
   "outputs": [],
   "source": [
    "ElbowPlot(cd4_merge, ndims = 50)"
   ]
  },
  {
   "cell_type": "code",
   "execution_count": null,
   "id": "93d6611e-0b6a-4f0d-80bb-5a9ec1bf8a31",
   "metadata": {
    "scrolled": true,
    "tags": []
   },
   "outputs": [],
   "source": [
    "cd4_merge <- RunUMAP(cd4_merge, dims = 1:25)"
   ]
  },
  {
   "cell_type": "code",
   "execution_count": null,
   "id": "1d497a3a-3c34-472b-a3d3-904f124fa01f",
   "metadata": {},
   "outputs": [],
   "source": [
    "DimPlot(cd4_merge, group.by = 'pure_celltype')"
   ]
  },
  {
   "cell_type": "markdown",
   "id": "ba078204-001f-4c9e-b3a8-9f84578dd0ac",
   "metadata": {},
   "source": [
    "# DEG Analysis"
   ]
  },
  {
   "cell_type": "code",
   "execution_count": null,
   "id": "518d3c39-e9cc-4726-b762-a103b108c4da",
   "metadata": {},
   "outputs": [],
   "source": [
    "cd4_merge <- SetIdent(cd4_merge, value = 'pure_celltype')\n",
    "markers <- FindAllMarkers(cd4_merge)"
   ]
  },
  {
   "cell_type": "code",
   "execution_count": null,
   "id": "812e0e08-4703-4fdc-8a84-904afdebe039",
   "metadata": {},
   "outputs": [],
   "source": [
    "cd4_downsample <- subset(cd4_merge, downsample = 100)"
   ]
  },
  {
   "cell_type": "code",
   "execution_count": null,
   "id": "16123a01-92e7-43f6-a469-8b4b6468b8e2",
   "metadata": {},
   "outputs": [],
   "source": [
    "markers %>%\n",
    "    group_by(cluster) %>%\n",
    "    top_n(n = 10, wt = avg_log2FC) -> top10\n",
    "DoHeatmap(cd4_downsample, features = top10$gene) + NoLegend()"
   ]
  },
  {
   "cell_type": "markdown",
   "id": "c7f82232-d103-4fbe-92fa-8329a8f2938a",
   "metadata": {},
   "source": [
    "# Average Expression of Markers"
   ]
  },
  {
   "cell_type": "code",
   "execution_count": null,
   "id": "926b9404-4cd4-4277-9163-f9c30cca7fa8",
   "metadata": {},
   "outputs": [],
   "source": [
    "degs_avg_exp <- AverageExpression(cd4_merge, assays = 'RNA', features = unique(markers$gene), group.by = 'pure_celltype')\n",
    "degs_avg_exp <- as.data.frame(degs_avg_exp)"
   ]
  },
  {
   "cell_type": "code",
   "execution_count": null,
   "id": "cb4f3721-ded5-4e93-b25a-023963e974f7",
   "metadata": {},
   "outputs": [],
   "source": [
    "head(degs_avg_exp)"
   ]
  },
  {
   "cell_type": "code",
   "execution_count": null,
   "id": "73eb5228-3b93-4479-8ae1-7e34fb6e7eab",
   "metadata": {},
   "outputs": [],
   "source": [
    "write.csv(markers, file = 'cd4_rna_degs.csv')"
   ]
  },
  {
   "cell_type": "code",
   "execution_count": null,
   "id": "7ae00f09-02cf-490a-a8de-b9fb572f24b8",
   "metadata": {},
   "outputs": [],
   "source": [
    "markers <- read.csv(file='cd4_rna_degs.csv')"
   ]
  },
  {
   "cell_type": "code",
   "execution_count": null,
   "id": "beb9f8d3-1759-4592-bc4c-aa726c7dfc8a",
   "metadata": {},
   "outputs": [],
   "source": [
    "length(unique(markers$gene))"
   ]
  },
  {
   "cell_type": "markdown",
   "id": "9ac0a7db-65e4-4b14-9948-618518daa2df",
   "metadata": {},
   "source": [
    "# Pheatmap"
   ]
  },
  {
   "cell_type": "code",
   "execution_count": null,
   "id": "0170a4e4-a90d-46da-bd5b-f53d1164abdf",
   "metadata": {},
   "outputs": [],
   "source": [
    "library(pheatmap)"
   ]
  },
  {
   "cell_type": "code",
   "execution_count": null,
   "id": "1e74824d-b1a6-4d0e-b294-310bc49dfc02",
   "metadata": {},
   "outputs": [],
   "source": [
    "options(repr.plot.width = 10, repr.plot.height = 16)\n",
    "cd4_pheatmap <- pheatmap(degs_avg_exp, cluster_rows = TRUE, cluster_cols = TRUE, scale = 'row', cellwidth = 50, cellheight = 0.5, show_rownames = FALSE, border_color = NA,\n",
    "                         # annotation_row = cell_state_genes, annotation_colors = anno_colors,\n",
    "                         color = colorRampPalette(c('#67a9cf','white','#d6604d'))(100))"
   ]
  },
  {
   "cell_type": "code",
   "execution_count": null,
   "id": "1d64ff3e-36de-4b5f-88b4-ec290315323c",
   "metadata": {},
   "outputs": [],
   "source": [
    "save_pheatmap_pdf <- function(x, filename, width=10, height=16) {\n",
    "   stopifnot(!missing(x))\n",
    "   stopifnot(!missing(filename))\n",
    "   pdf(filename, width=width, height=height)\n",
    "   grid::grid.newpage()\n",
    "   grid::grid.draw(x$gtable)\n",
    "   dev.off()\n",
    "}\n",
    "save_pheatmap_pdf(cd4_pheatmap, \"plots/CD4_global_RNA_heatmap.pdf\")"
   ]
  }
 ],
 "metadata": {
  "kernelspec": {
   "display_name": "R 4",
   "language": "R",
   "name": "ir"
  },
  "language_info": {
   "codemirror_mode": "r",
   "file_extension": ".r",
   "mimetype": "text/x-r-source",
   "name": "R",
   "pygments_lexer": "r",
   "version": "4.1.2"
  }
 },
 "nbformat": 4,
 "nbformat_minor": 5
}
