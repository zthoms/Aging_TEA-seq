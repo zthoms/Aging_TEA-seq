{
 "cells": [
  {
   "cell_type": "code",
   "execution_count": null,
   "id": "fcadfbb2-3c38-4e75-a271-4c960f20dcc2",
   "metadata": {},
   "outputs": [],
   "source": [
    "quiet_library <- function(...) {\n",
    "    suppressPackageStartupMessages(library(...))\n",
    "}\n",
    "quiet_library(Seurat)\n",
    "quiet_library(ggplot2)\n",
    "quiet_library(Matrix)\n",
    "quiet_library(H5weaver)\n",
    "quiet_library(dplyr)\n",
    "quiet_library(viridis)\n",
    "quiet_library(harmony)\n",
    "quiet_library(Nebulosa)\n",
    "quiet_library(ArchR)"
   ]
  },
  {
   "cell_type": "code",
   "execution_count": null,
   "id": "2a70aeaf-461c-4224-a56e-2bacc488e361",
   "metadata": {},
   "outputs": [],
   "source": [
    "cd4_na <- readRDS(file = 'cd4_naive_processed.rds')"
   ]
  },
  {
   "cell_type": "markdown",
   "id": "345dcf96-4c2d-4dc5-955c-0d12c913e0cb",
   "metadata": {},
   "source": [
    "# Trim low number clusters"
   ]
  },
  {
   "cell_type": "code",
   "execution_count": null,
   "id": "3786f275-ffbe-4df2-8a8f-6c2793d5155c",
   "metadata": {},
   "outputs": [],
   "source": [
    "table(cd4_na$`wsnn_res.0.3`)"
   ]
  },
  {
   "cell_type": "code",
   "execution_count": null,
   "id": "61cadab3-b1fe-4a89-9f76-5262f553d32f",
   "metadata": {},
   "outputs": [],
   "source": [
    "options(repr.plot.width = 6, repr.plot.height = 6)\n",
    "DimPlot(cd4_na, reduction = 'wnn.3.umap', group.by = 'wsnn_res.0.3', shuffle = TRUE, label = TRUE)"
   ]
  },
  {
   "cell_type": "code",
   "execution_count": null,
   "id": "e9a16835-ed8a-4d6e-a1e4-2cc2bca328ea",
   "metadata": {},
   "outputs": [],
   "source": [
    "options(repr.plot.width = 18, repr.plot.height = 15)\n",
    "p1 <- DimPlot(cd4_na, reduction = 'wnn.3.umap', group.by = 'wsnn_res.0.3', label = TRUE, label.size = 6)\n",
    "p2 <- DimPlot(cd4_na, reduction = 'wnn.3.umap', group.by = 'pediatric_senior', shuffle = TRUE)\n",
    "p3 <- DimPlot(cd4_na, reduction = 'wnn.3.umap', group.by = 'age_cmv', shuffle = TRUE)\n",
    "p4 <- FeaturePlot(cd4_na, reduction = 'wnn.3.umap', features = 'percent.mt')\n",
    "p1 + p2 + p3 + p4"
   ]
  },
  {
   "cell_type": "markdown",
   "id": "317e5977-49d5-4e1e-99bd-d79363091aa6",
   "metadata": {},
   "source": [
    "# DEG Analysis"
   ]
  },
  {
   "cell_type": "code",
   "execution_count": null,
   "id": "d9710d59-1c14-4e83-b763-84f96fac6a2d",
   "metadata": {},
   "outputs": [],
   "source": [
    "cd4_na <- SetIdent(cd4_na, value = 'wsnn_res.0.3')\n",
    "rna_markers <- FindAllMarkers(cd4_na, assay = 'SCT', max.cells.per.ident = 500)"
   ]
  },
  {
   "cell_type": "code",
   "execution_count": null,
   "id": "54150639-6213-4900-a400-c618ed8a3691",
   "metadata": {},
   "outputs": [],
   "source": [
    "rna_markers %>%\n",
    "    group_by(cluster) %>%\n",
    "    top_n(n = 10, wt = avg_log2FC) -> top10"
   ]
  },
  {
   "cell_type": "code",
   "execution_count": null,
   "id": "8c9c52eb-56df-4530-8ff7-c6167d6f0bb6",
   "metadata": {},
   "outputs": [],
   "source": [
    "options(repr.plot.width = 18, repr.plot.height = 15)\n",
    "cd4_na_subset <- subset(cd4_na, downsample = 500)\n",
    "DoHeatmap(cd4_na_subset, features = top10$gene, assay = 'SCT') + NoLegend()"
   ]
  },
  {
   "cell_type": "markdown",
   "id": "acebd958-fd18-4f9e-8fdc-2b480177753d",
   "metadata": {},
   "source": [
    "# Cluster / Cell Types"
   ]
  },
  {
   "cell_type": "code",
   "execution_count": null,
   "id": "c7829389-622f-49a6-9877-d1e4f961ba5c",
   "metadata": {},
   "outputs": [],
   "source": [
    "cd4_na <- SetIdent(cd4_na, value = 'wsnn_res.0.3')\n",
    "cd4_na <- RenameIdents(cd4_na, '0' = 'CD4 Naive-1',\n",
    "                          '1' = 'CD4 Naive-2', '2' = 'CD4 Naive-3', '3' = 'CD4 Naive-4', \n",
    "                          '4' = 'CD4 SCM',\n",
    "                          '5' = 'CD25neg Treg',\n",
    "                          '6' = 'CD4 Naive-5',\n",
    "                          '7' = 'CD4 Naive-6')\n",
    "cd4_na$wnn_celltype <- Idents(cd4_na)"
   ]
  },
  {
   "cell_type": "code",
   "execution_count": null,
   "id": "f45906cc-4cbf-46f0-866c-d64cb40dbfd2",
   "metadata": {},
   "outputs": [],
   "source": [
    "options(repr.plot.width = 12, repr.plot.height = 10)\n",
    "DimPlot(cd4_na, reduction = 'wnn.3.umap', group.by = 'wnn_celltype', label = TRUE, label.size = 8, repel = TRUE)"
   ]
  },
  {
   "cell_type": "code",
   "execution_count": null,
   "id": "d8a133ca-3878-45af-901e-47d0315eaec4",
   "metadata": {},
   "outputs": [],
   "source": [
    "cd4_na <- SetIdent(cd4_na, value = 'wsnn_res.0.3')\n",
    "cd4_na <- RenameIdents(cd4_na, '0' = 'CD4 Naive',\n",
    "                          '1' = 'CD4 Naive', '2' = 'CD4 Naive', '3' = 'CD4 Naive', \n",
    "                          '4' = 'CD4 SCM',\n",
    "                          '5' = 'CD25neg Treg',\n",
    "                          '6' = 'CD4 Naive',\n",
    "                          '7' = 'CD4 Naive')\n",
    "cd4_na$pure_celltype <- Idents(cd4_na)"
   ]
  },
  {
   "cell_type": "code",
   "execution_count": null,
   "id": "27ce6e42-76ac-46e4-944c-0ea057895c96",
   "metadata": {},
   "outputs": [],
   "source": [
    "options(repr.plot.width = 12, repr.plot.height = 10)\n",
    "DimPlot(cd4_na, reduction = 'wnn.3.umap', group.by = 'pure_celltype', label = TRUE, label.size = 8, repel = TRUE)"
   ]
  },
  {
   "cell_type": "code",
   "execution_count": null,
   "id": "8fa4281c-8e41-4e18-8159-1bb13c42e0ac",
   "metadata": {},
   "outputs": [],
   "source": [
    "options(repr.plot.width = 18, repr.plot.height = 15)\n",
    "p1 <- DimPlot(cd4_na, reduction = 'umap', group.by = 'pure_celltype', label = TRUE)\n",
    "p2 <- DimPlot(cd4_na, reduction = 'adtumap', group.by = 'pure_celltype', label = TRUE)\n",
    "p3 <- DimPlot(cd4_na, reduction = 'atac_umap', group.by = 'pure_celltype', label = TRUE)\n",
    "p4 <- DimPlot(cd4_na, reduction = 'wnn.3.umap', group.by = 'pure_celltype', label = TRUE)\n",
    "p1 + p2 + p3 + p4"
   ]
  },
  {
   "cell_type": "markdown",
   "id": "1c19b315-e6ac-43bb-8fa9-0807f10ccefd",
   "metadata": {},
   "source": [
    "# Save "
   ]
  },
  {
   "cell_type": "code",
   "execution_count": null,
   "id": "31fe63b1-bf2b-4ee6-9c2e-82060f9fa19b",
   "metadata": {},
   "outputs": [],
   "source": [
    "saveRDS(cd4_na, file = 'cd4_na_labeled.rds')"
   ]
  },
  {
   "cell_type": "code",
   "execution_count": null,
   "id": "6fc63042-033f-47a9-ba84-7d7156c5aa52",
   "metadata": {},
   "outputs": [],
   "source": [
    "sessionInfo()"
   ]
  },
  {
   "cell_type": "code",
   "execution_count": null,
   "id": "b45ea161-f8c7-4a21-b4a5-080e0d32f02e",
   "metadata": {},
   "outputs": [],
   "source": [
    "# cd4_na <- readRDS(file = '/home/jupyter/Organized_Gating_Analysis/Seurat_Objects/cd4_na.rds')"
   ]
  },
  {
   "cell_type": "code",
   "execution_count": null,
   "id": "8f481d8f-e8f9-4b0f-a507-f25e10de4c40",
   "metadata": {},
   "outputs": [],
   "source": [
    "# saveRDS(cd4_na@meta.data, file = '/home/jupyter/Organized_Gating_Analysis/03_Subset_Deep_Dives/cd4_naive/metadata.rds')"
   ]
  }
 ],
 "metadata": {
  "kernelspec": {
   "display_name": "R 4",
   "language": "R",
   "name": "ir"
  },
  "language_info": {
   "codemirror_mode": "r",
   "file_extension": ".r",
   "mimetype": "text/x-r-source",
   "name": "R",
   "pygments_lexer": "r",
   "version": "4.1.2"
  },
  "toc-autonumbering": true
 },
 "nbformat": 4,
 "nbformat_minor": 5
}
