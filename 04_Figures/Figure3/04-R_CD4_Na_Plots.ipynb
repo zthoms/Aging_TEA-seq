{
 "cells": [
  {
   "cell_type": "code",
   "execution_count": null,
   "id": "71353e5f-82d2-4547-9b86-25b816b57fcd",
   "metadata": {},
   "outputs": [],
   "source": [
    "quiet_library <- function(...) {\n",
    "    suppressPackageStartupMessages(library(...))\n",
    "}\n",
    "quiet_library(Seurat)\n",
    "quiet_library(ggplot2)\n",
    "quiet_library(Matrix)\n",
    "quiet_library(H5weaver)\n",
    "quiet_library(dplyr)\n",
    "quiet_library(viridis)\n",
    "quiet_library(harmony)\n",
    "quiet_library(Nebulosa)\n",
    "quiet_library(ArchR)"
   ]
  },
  {
   "cell_type": "code",
   "execution_count": null,
   "id": "44119cd3-4f4c-48cb-8148-64d2ac60bac5",
   "metadata": {},
   "outputs": [],
   "source": [
    "cd4_na <- readRDS(file = 'cd4_na_labeled.rds')"
   ]
  },
  {
   "cell_type": "markdown",
   "id": "9041583d-2738-4721-86ad-4850722a41b2",
   "metadata": {},
   "source": [
    "# CD4 Naive Gate Plot"
   ]
  },
  {
   "cell_type": "code",
   "execution_count": null,
   "id": "3cad66c0-9777-4f9d-b195-851d329aa475",
   "metadata": {},
   "outputs": [],
   "source": [
    "cd4 <- readRDS(file = '../../Seurat_Objects/cd4_subset.rds')"
   ]
  },
  {
   "cell_type": "code",
   "execution_count": null,
   "id": "30df63a9-aa4d-44dc-b529-d3687e4ae338",
   "metadata": {},
   "outputs": [],
   "source": [
    "cd4.batch <- SplitObject(cd4, split.by = 'batch_id')"
   ]
  },
  {
   "cell_type": "code",
   "execution_count": null,
   "id": "b99c8274-6bf8-43df-9c6a-b1cf329bc56b",
   "metadata": {},
   "outputs": [],
   "source": [
    "cd4.batch <- lapply(cd4.batch, function(x){\n",
    "    NormalizeData(x, assay = 'ADT', normalization.method = 'CLR', margin = 2)})"
   ]
  },
  {
   "cell_type": "code",
   "execution_count": null,
   "id": "0bbb31b6-bba8-48a0-bc06-daffac9eb2ed",
   "metadata": {},
   "outputs": [],
   "source": [
    "b069_gating <- cd4.batch$`B069`\n",
    "nontreg_b069 <- subset(b069_gating, subset = adt_CD25 > 0.8 & adt_CD127 < 1.5, invert = T)"
   ]
  },
  {
   "cell_type": "code",
   "execution_count": null,
   "id": "766d048a-31f7-45d5-bdea-6c31668872b8",
   "metadata": {},
   "outputs": [],
   "source": [
    "options(repr.plot.width = 8, repr.plot.height = 8)\n",
    "FeatureScatter(object = nontreg_b069, feature1 = 'adt_CD27', feature2 = 'adt_CD45RA', cols = 'white', pt.size = 0) & geom_density_2d() &\n",
    "geom_vline(xintercept = 2.75) & geom_hline(yintercept = 3.1) & ggtitle('B069')"
   ]
  },
  {
   "cell_type": "code",
   "execution_count": null,
   "id": "3e17432e-8570-47d2-9b1c-64c0abdc9aab",
   "metadata": {},
   "outputs": [],
   "source": [
    "# Open a pdf file\n",
    "pdf(\"plots/cd4na_gating.pdf\", width = 8, height = 8) \n",
    "# 2. Create a plot\n",
    "FeatureScatter(object = nontreg_b069, feature1 = 'adt_CD27', feature2 = 'adt_CD45RA', cols = 'white', pt.size = 0) & geom_density_2d() &\n",
    "geom_vline(xintercept = 2.75) & geom_hline(yintercept = 3.1) & ggtitle('B069')\n",
    "# Close the pdf file\n",
    "dev.off() "
   ]
  },
  {
   "cell_type": "markdown",
   "id": "40c553e2-7905-4e1b-beb5-6481d8509adb",
   "metadata": {},
   "source": [
    "# 3WNN"
   ]
  },
  {
   "cell_type": "code",
   "execution_count": null,
   "id": "136b005d-3c2b-41a4-9eac-9b6a5af8edb6",
   "metadata": {},
   "outputs": [],
   "source": [
    "table(cd4_na$pure_celltype)"
   ]
  },
  {
   "cell_type": "code",
   "execution_count": null,
   "id": "6c530365-d744-48e8-b5d1-8d98df29f3b1",
   "metadata": {},
   "outputs": [],
   "source": [
    "options(repr.plot.width = 12, repr.plot.height = 10)\n",
    "DimPlot(cd4_na, reduction = 'wnn.3.umap', group.by = 'pure_celltype', label = FALSE, label.size = 8, repel = TRUE, cols = c('#006837','#3690c0','#980043'))"
   ]
  },
  {
   "cell_type": "code",
   "execution_count": null,
   "id": "d7c8a5fc-8671-4c7f-89e2-c52c2397e3e8",
   "metadata": {},
   "outputs": [],
   "source": [
    "# Open a pdf file\n",
    "pdf(\"plots/cd4na_celltypes_3WNN_umap.pdf\", width = 12, height = 10) \n",
    "# 2. Create a plot\n",
    "DimPlot(cd4_na, reduction = 'wnn.3.umap', group.by = 'pure_celltype', label = FALSE, label.size = 8, repel = TRUE, cols = c('#006837','#3690c0','#980043'))\n",
    "# Close the pdf file\n",
    "dev.off() "
   ]
  },
  {
   "cell_type": "code",
   "execution_count": null,
   "id": "b192c7d7-2a5e-4300-93bd-6cc9bd0ce37d",
   "metadata": {},
   "outputs": [],
   "source": [
    "options(repr.plot.width = 10, repr.plot.height = 10)\n",
    "DimPlot(cd4_na, reduction = 'wnn.3.umap', group.by = 'pediatric_senior', label = FALSE, label.size = 8, repel = TRUE, cols = c('#1b9e77','#d95f02'), shuffle = TRUE) & NoLegend()"
   ]
  },
  {
   "cell_type": "code",
   "execution_count": null,
   "id": "46b16baa-8bf5-42d5-9482-29c142ef0e10",
   "metadata": {},
   "outputs": [],
   "source": [
    "table(cd4_na$pediatric_senior)"
   ]
  },
  {
   "cell_type": "code",
   "execution_count": null,
   "id": "dcf577f5-1b80-4417-9223-acb609027c40",
   "metadata": {},
   "outputs": [],
   "source": [
    "cd4_na <- SetIdent(cd4_na, value = 'pediatric_senior')\n",
    "downsample_cd4_na <- subset(cd4_na, downsample = 20000)"
   ]
  },
  {
   "cell_type": "code",
   "execution_count": null,
   "id": "c84d9401-8fdc-4c56-818e-9aa6ccf5d73c",
   "metadata": {},
   "outputs": [],
   "source": [
    "umap_coords <- as.data.frame(downsample_cd4_na@reductions$wnn.3.umap@cell.embeddings)"
   ]
  },
  {
   "cell_type": "code",
   "execution_count": null,
   "id": "289a1e1e-6a6a-4d77-8433-e6714ab3aa8d",
   "metadata": {},
   "outputs": [],
   "source": [
    "head(umap_coords)"
   ]
  },
  {
   "cell_type": "code",
   "execution_count": null,
   "id": "ab8a70ef-a1e4-44c4-aeaa-6166f69fa89b",
   "metadata": {},
   "outputs": [],
   "source": [
    "umap_df <- data.frame(umap1 = umap_coords$wnn3umap_1,\n",
    "                      umap2 = umap_coords$wnn3umap_2,\n",
    "                      age = downsample_cd4_na$pediatric_senior,\n",
    "                      age2 = paste0(downsample_cd4_na$pediatric_senior,'_2'))"
   ]
  },
  {
   "cell_type": "code",
   "execution_count": null,
   "id": "907979eb-5795-45d1-bc2c-056e43aca29f",
   "metadata": {},
   "outputs": [],
   "source": [
    "head(umap_df)"
   ]
  },
  {
   "cell_type": "code",
   "execution_count": null,
   "id": "1b0de6d7-fea3-45eb-b501-f7096a291c2f",
   "metadata": {},
   "outputs": [],
   "source": [
    "options(repr.plot.width = 10, repr.plot.height = 10)\n",
    "ggplot(umap_df, aes(umap1, umap2)) + \n",
    "    geom_density_2d(aes(color = age)) +\n",
    "    stat_density_2d(aes(alpha = ..level.., fill=age), bins = 6, geom='polygon') +\n",
    "        scale_fill_manual(values = c('#1b9e77','#d95f02')) + \n",
    "        scale_color_manual(values = c('#006837','#d73027')) +\n",
    "        xlim(-7.5,8) +\n",
    "        ylim(-8,7) +\n",
    "        theme_bw() + \n",
    "        theme(axis.text.x = element_blank(),\n",
    "              axis.text.y = element_blank(),\n",
    "              axis.title.y = element_blank(),\n",
    "              axis.title.x = element_blank(),\n",
    "              legend.position = 'none')"
   ]
  },
  {
   "cell_type": "code",
   "execution_count": null,
   "id": "bb18f78a-1962-467b-b7d7-bdaa9e9e5ae1",
   "metadata": {},
   "outputs": [],
   "source": [
    "# Open a pdf file\n",
    "pdf(\"plots/cd4na_celltypes_3WNN_umap_age.pdf\", width = 10, height = 10) \n",
    "# 2. Create a plot\n",
    "ggplot(umap_df, aes(umap1, umap2)) + \n",
    "    geom_density_2d(aes(color = age)) +\n",
    "    stat_density_2d(aes(alpha = ..level.., fill=age), bins = 6, geom='polygon') +\n",
    "        scale_fill_manual(values = c('#1b9e77','#d95f02')) + \n",
    "        scale_color_manual(values = c('#006837','#d73027')) +\n",
    "        xlim(-7.5,8) +\n",
    "        ylim(-8,7) +\n",
    "        theme_bw() + \n",
    "        theme(axis.text.x = element_blank(),\n",
    "              axis.text.y = element_blank(),\n",
    "              axis.title.y = element_blank(),\n",
    "              axis.title.x = element_blank(),\n",
    "              legend.position = 'none')\n",
    "# Close the pdf file\n",
    "dev.off() "
   ]
  },
  {
   "cell_type": "markdown",
   "id": "f05bd43b-28da-4b0a-b1df-16fa0e82b348",
   "metadata": {},
   "source": [
    "### ATAC UMAP"
   ]
  },
  {
   "cell_type": "code",
   "execution_count": null,
   "id": "65a29af2-8694-4922-b443-40c963ab25f1",
   "metadata": {},
   "outputs": [],
   "source": [
    "umap_coords <- as.data.frame(downsample_cd4_na@reductions$atac_umap@cell.embeddings)"
   ]
  },
  {
   "cell_type": "code",
   "execution_count": null,
   "id": "ab668db8-1bc9-4619-95aa-8c2226a988f7",
   "metadata": {},
   "outputs": [],
   "source": [
    "head(umap_coords)"
   ]
  },
  {
   "cell_type": "code",
   "execution_count": null,
   "id": "1e942b38-05f8-4f43-9968-d83519bad439",
   "metadata": {},
   "outputs": [],
   "source": [
    "umap_df <- data.frame(umap1 = umap_coords$atacumap_1,\n",
    "                      umap2 = umap_coords$atacumap_2,\n",
    "                      age = downsample_cd4_na$pediatric_senior,\n",
    "                      age2 = paste0(downsample_cd4_na$pediatric_senior,'_2'))"
   ]
  },
  {
   "cell_type": "code",
   "execution_count": null,
   "id": "b6f5af16-7db1-4e24-9013-106a2a96ebc5",
   "metadata": {},
   "outputs": [],
   "source": [
    "head(umap_df)"
   ]
  },
  {
   "cell_type": "code",
   "execution_count": null,
   "id": "def48b18-c054-4069-9594-bbb65a94ea9d",
   "metadata": {},
   "outputs": [],
   "source": [
    "options(repr.plot.width = 10, repr.plot.height = 10)\n",
    "ggplot(umap_df, aes(umap1, umap2)) + \n",
    "    geom_density_2d(aes(color = age)) +\n",
    "    stat_density_2d(aes(alpha = ..level.., fill=age), bins = 6, geom='polygon') +\n",
    "        scale_fill_manual(values = c('#1b9e77','#d95f02')) + \n",
    "        scale_color_manual(values = c('#006837','#d73027')) +\n",
    "        xlim(-6.5,7) +\n",
    "        ylim(-7,6) +\n",
    "        theme_bw() + \n",
    "        theme(axis.text.x = element_blank(),\n",
    "              axis.text.y = element_blank(),\n",
    "              axis.title.y = element_blank(),\n",
    "              axis.title.x = element_blank(),\n",
    "              legend.position = 'none')"
   ]
  },
  {
   "cell_type": "code",
   "execution_count": null,
   "id": "02e810d0-020e-4ca8-bc6c-dbdaff6fcaf2",
   "metadata": {},
   "outputs": [],
   "source": [
    "# Open a pdf file\n",
    "pdf(\"plots/cd4na_celltypes_atac_umap_age.pdf\", width = 10, height = 10) \n",
    "# 2. Create a plot\n",
    "ggplot(umap_df, aes(umap1, umap2)) + \n",
    "    geom_density_2d(aes(color = age)) +\n",
    "    stat_density_2d(aes(alpha = ..level.., fill=age), bins = 6, geom='polygon') +\n",
    "        scale_fill_manual(values = c('#1b9e77','#d95f02')) + \n",
    "        scale_color_manual(values = c('#006837','#d73027')) +\n",
    "        xlim(-6.5,7) +\n",
    "        ylim(-7,6) +\n",
    "        theme_bw() + \n",
    "        theme(axis.text.x = element_blank(),\n",
    "              axis.text.y = element_blank(),\n",
    "              axis.title.y = element_blank(),\n",
    "              axis.title.x = element_blank(),\n",
    "              legend.position = 'none')\n",
    "# Close the pdf file\n",
    "dev.off() "
   ]
  },
  {
   "cell_type": "markdown",
   "id": "5b62c2c2-ae0d-4ecf-a657-b8106bf90b08",
   "metadata": {},
   "source": [
    "### RNA UMAP"
   ]
  },
  {
   "cell_type": "code",
   "execution_count": null,
   "id": "f0f84088-e8bc-4c2e-a029-e73c950dfc1e",
   "metadata": {},
   "outputs": [],
   "source": [
    "umap_coords <- as.data.frame(downsample_cd4_na@reductions$umap@cell.embeddings)"
   ]
  },
  {
   "cell_type": "code",
   "execution_count": null,
   "id": "9ea81b7d-71b8-4dfc-b323-c0a2db679887",
   "metadata": {},
   "outputs": [],
   "source": [
    "head(umap_coords)"
   ]
  },
  {
   "cell_type": "code",
   "execution_count": null,
   "id": "8d3589a5-7c0b-4471-9711-860e1f373739",
   "metadata": {},
   "outputs": [],
   "source": [
    "umap_df <- data.frame(umap1 = umap_coords$UMAP_1,\n",
    "                      umap2 = umap_coords$UMAP_2,\n",
    "                      age = downsample_cd4_na$pediatric_senior,\n",
    "                      age2 = paste0(downsample_cd4_na$pediatric_senior,'_2'))"
   ]
  },
  {
   "cell_type": "code",
   "execution_count": null,
   "id": "c3a87d3e-ab95-46df-b16e-5e93d800e685",
   "metadata": {},
   "outputs": [],
   "source": [
    "head(umap_df)"
   ]
  },
  {
   "cell_type": "code",
   "execution_count": null,
   "id": "a253440e-17a4-44f5-bd0a-894e597dfe36",
   "metadata": {},
   "outputs": [],
   "source": [
    "options(repr.plot.width = 10, repr.plot.height = 10)\n",
    "ggplot(umap_df, aes(umap1, umap2)) + \n",
    "    geom_density_2d(aes(color = age)) +\n",
    "    stat_density_2d(aes(alpha = ..level.., fill=age), bins = 6, geom='polygon') +\n",
    "        scale_fill_manual(values = c('#1b9e77','#d95f02')) + \n",
    "        scale_color_manual(values = c('#006837','#d73027')) +\n",
    "        xlim(-7.5,8) +\n",
    "        ylim(-9.5,7) +\n",
    "        theme_bw() + \n",
    "        theme(axis.text.x = element_blank(),\n",
    "              axis.text.y = element_blank(),\n",
    "              axis.title.y = element_blank(),\n",
    "              axis.title.x = element_blank(),\n",
    "              legend.position = 'none')"
   ]
  },
  {
   "cell_type": "code",
   "execution_count": null,
   "id": "2be3fcce-aebd-4903-80da-d81724187770",
   "metadata": {},
   "outputs": [],
   "source": [
    "# Open a pdf file\n",
    "pdf(\"plots/cd4na_celltypes_rna_umap_age.pdf\", width = 10, height = 10) \n",
    "# 2. Create a plot\n",
    "ggplot(umap_df, aes(umap1, umap2)) + \n",
    "    geom_density_2d(aes(color = age)) +\n",
    "    stat_density_2d(aes(alpha = ..level.., fill=age), bins = 6, geom='polygon') +\n",
    "        scale_fill_manual(values = c('#1b9e77','#d95f02')) + \n",
    "        scale_color_manual(values = c('#006837','#d73027')) +\n",
    "        xlim(-7.5,8) +\n",
    "        ylim(-9.5,7) +\n",
    "        theme_bw() + \n",
    "        theme(axis.text.x = element_blank(),\n",
    "              axis.text.y = element_blank(),\n",
    "              axis.title.y = element_blank(),\n",
    "              axis.title.x = element_blank(),\n",
    "              legend.position = 'none')\n",
    "# Close the pdf file\n",
    "dev.off() "
   ]
  },
  {
   "cell_type": "markdown",
   "id": "8910bc89-4826-4515-bd38-a48ccbfb1634",
   "metadata": {},
   "source": [
    "### ADT UMAP"
   ]
  },
  {
   "cell_type": "code",
   "execution_count": null,
   "id": "9a54b0b2-ca23-4ff4-8212-0599a4b68082",
   "metadata": {},
   "outputs": [],
   "source": [
    "umap_coords <- as.data.frame(downsample_cd4_na@reductions$adtumap@cell.embeddings)"
   ]
  },
  {
   "cell_type": "code",
   "execution_count": null,
   "id": "ea14d3f8-3244-46f4-9f3e-b3846a134136",
   "metadata": {},
   "outputs": [],
   "source": [
    "head(umap_coords)"
   ]
  },
  {
   "cell_type": "code",
   "execution_count": null,
   "id": "fab9a221-e64e-4a97-93d7-7235c1b9f532",
   "metadata": {},
   "outputs": [],
   "source": [
    "umap_df <- data.frame(umap1 = umap_coords$adtumap_1,\n",
    "                      umap2 = umap_coords$adtumap_2,\n",
    "                      age = downsample_cd4_na$pediatric_senior,\n",
    "                      age2 = paste0(downsample_cd4_na$pediatric_senior,'_2'))"
   ]
  },
  {
   "cell_type": "code",
   "execution_count": null,
   "id": "26334355-53fa-4d4b-8f42-542961e31019",
   "metadata": {},
   "outputs": [],
   "source": [
    "head(umap_df)"
   ]
  },
  {
   "cell_type": "code",
   "execution_count": null,
   "id": "debd44ed-3b89-4bd5-8a95-ade47d996a02",
   "metadata": {},
   "outputs": [],
   "source": [
    "options(repr.plot.width = 10, repr.plot.height = 10)\n",
    "ggplot(umap_df, aes(umap1, umap2)) + \n",
    "    geom_density_2d(aes(color = age)) +\n",
    "    stat_density_2d(aes(alpha = ..level.., fill=age), bins = 6, geom='polygon') +\n",
    "        scale_fill_manual(values = c('#1b9e77','#d95f02')) + \n",
    "        scale_color_manual(values = c('#006837','#d73027')) +\n",
    "        xlim(-5,5) +\n",
    "        ylim(-5,6) +\n",
    "        theme_bw() + \n",
    "        theme(axis.text.x = element_blank(),\n",
    "              axis.text.y = element_blank(),\n",
    "              axis.title.y = element_blank(),\n",
    "              axis.title.x = element_blank(),\n",
    "              legend.position = 'none')"
   ]
  },
  {
   "cell_type": "code",
   "execution_count": null,
   "id": "ab9285fa-b5ba-4f2f-b404-981a04670903",
   "metadata": {},
   "outputs": [],
   "source": [
    "# Open a pdf file\n",
    "pdf(\"plots/cd4na_celltypes_adt_umap_age.pdf\", width = 10, height = 10) \n",
    "# 2. Create a plot\n",
    "ggplot(umap_df, aes(umap1, umap2)) + \n",
    "    geom_density_2d(aes(color = age)) +\n",
    "    stat_density_2d(aes(alpha = ..level.., fill=age), bins = 6, geom='polygon') +\n",
    "        scale_fill_manual(values = c('#1b9e77','#d95f02')) + \n",
    "        scale_color_manual(values = c('#006837','#d73027')) +\n",
    "        xlim(-5,5) +\n",
    "        ylim(-5,6) +\n",
    "        theme_bw() + \n",
    "        theme(axis.text.x = element_blank(),\n",
    "              axis.text.y = element_blank(),\n",
    "              axis.title.y = element_blank(),\n",
    "              axis.title.x = element_blank(),\n",
    "              legend.position = 'none')\n",
    "# Close the pdf file\n",
    "dev.off() "
   ]
  },
  {
   "cell_type": "markdown",
   "id": "efd68f69-f71c-4dcc-8290-b51ec0d009c2",
   "metadata": {},
   "source": [
    "# Heatmap"
   ]
  },
  {
   "cell_type": "code",
   "execution_count": null,
   "id": "11ea0113-249d-4907-832d-f9aa59d6c453",
   "metadata": {},
   "outputs": [],
   "source": [
    "sp_merge <- readRDS(file = '../../Seurat_Objects/sp_merge_gating_celltype_updated.rds')"
   ]
  },
  {
   "cell_type": "code",
   "execution_count": null,
   "id": "27b2dc20-ff88-4e68-8b28-4725870cfce4",
   "metadata": {},
   "outputs": [],
   "source": [
    "sp_merge <- SetIdent(sp_merge, value = 'gating_celltype')\n",
    "cd4_nonnaive <- subset(sp_merge, idents = c('CD4 CM','CD4 EM1','CD4 EM2','CD4 TEMRA','Treg'))\n",
    "cd4_nonnaive$pure_celltype <- cd4_nonnaive$gating_celltype"
   ]
  },
  {
   "cell_type": "code",
   "execution_count": null,
   "id": "0e1549e1-1b84-47ee-a879-573ae9d48ae9",
   "metadata": {},
   "outputs": [],
   "source": [
    "cd4_merge <- merge(cd4_na, cd4_nonnaive)"
   ]
  },
  {
   "cell_type": "code",
   "execution_count": null,
   "id": "2700570c-00fe-4517-9a74-29a3b9aadaf7",
   "metadata": {},
   "outputs": [],
   "source": [
    "cd4_merge <- NormalizeData(cd4_merge, assay = 'RNA')\n",
    "cd4_merge <- NormalizeData(cd4_merge, assay = 'ADT', margin = 2, normalization.method = 'CLR')\n",
    "cd4_merge <- SetIdent(cd4_merge, value = 'pure_celltype')"
   ]
  },
  {
   "cell_type": "code",
   "execution_count": null,
   "id": "873e831a-4f91-4e9e-87d8-4df9c155a729",
   "metadata": {},
   "outputs": [],
   "source": [
    "marker_genes_rna <- c('CCR7','CD27','FAS','FOXP3','IL2RA','IFNG')\n",
    "marker_avg_rna <- AverageExpression(cd4_merge, features = marker_genes_rna, assay = 'RNA')\n",
    "marker_genes_adt <- c('CD45RA','CD197','CD27','CD49d','CD25')\n",
    "marker_avg_adt <- AverageExpression(cd4_merge, features = marker_genes_adt, assay = 'ADT')"
   ]
  },
  {
   "cell_type": "code",
   "execution_count": null,
   "id": "c0de651d-68dc-4519-89cf-4cc0e306dd33",
   "metadata": {},
   "outputs": [],
   "source": [
    "library(pheatmap)"
   ]
  },
  {
   "cell_type": "code",
   "execution_count": null,
   "id": "5d0eecca-dbc8-4fb7-8dbd-a51d983e8ac5",
   "metadata": {},
   "outputs": [],
   "source": [
    "marker_avg_rna <- marker_avg_rna$RNA\n",
    "# marker_avg_rna"
   ]
  },
  {
   "cell_type": "code",
   "execution_count": null,
   "id": "7c444e92-28d1-4a22-97c8-90fe02da6388",
   "metadata": {},
   "outputs": [],
   "source": [
    "marker_avg_adt <- marker_avg_adt$ADT\n",
    "# marker_avg_adt"
   ]
  },
  {
   "cell_type": "code",
   "execution_count": null,
   "id": "484b01fa-48ed-421a-a86f-20e8322a8f3a",
   "metadata": {},
   "outputs": [],
   "source": [
    "rownames(marker_avg_adt) <- paste0('adt_',rownames(marker_avg_adt))"
   ]
  },
  {
   "cell_type": "code",
   "execution_count": null,
   "id": "df8514cd-0ced-407b-b170-1fb1378725a3",
   "metadata": {},
   "outputs": [],
   "source": [
    "# marker_avg_rna\n",
    "# marker_avg_adt"
   ]
  },
  {
   "cell_type": "code",
   "execution_count": null,
   "id": "29d59b90-f190-4bb5-afbd-0240358ce7c9",
   "metadata": {},
   "outputs": [],
   "source": [
    "markers_bind <- rbind(marker_avg_rna,marker_avg_adt)\n",
    "markers_bind <- as.data.frame(markers_bind)\n",
    "markers_bind"
   ]
  },
  {
   "cell_type": "code",
   "execution_count": null,
   "id": "76ce6e7e-1287-4cb2-9a43-69121a1a9854",
   "metadata": {},
   "outputs": [],
   "source": [
    "markers_bind2 <- markers_bind[,c(1,3,4,5,6,7,8,2)]"
   ]
  },
  {
   "cell_type": "code",
   "execution_count": null,
   "id": "ce5c2fbf-6c7a-4591-905a-6154cb8121a2",
   "metadata": {},
   "outputs": [],
   "source": [
    "options(repr.plot.width = 10, repr.plot.height = 8)\n",
    "cd4na_markers_heatmap <- pheatmap(markers_bind2, scale = 'row', fontsize = 20, cluster_cols = FALSE)"
   ]
  },
  {
   "cell_type": "code",
   "execution_count": null,
   "id": "97bf3afe-0b0a-48c1-93c9-96fbd766858d",
   "metadata": {},
   "outputs": [],
   "source": [
    "options(repr.plot.width = 10, repr.plot.height = 8)\n",
    "cd4na_markers_heatmap <- pheatmap(markers_bind2, scale = 'row', fontsize = 20, cluster_cols = TRUE)"
   ]
  },
  {
   "cell_type": "code",
   "execution_count": null,
   "id": "bea8d793-743b-49eb-a026-4a4ea530efc0",
   "metadata": {},
   "outputs": [],
   "source": [
    "save_pheatmap_pdf <- function(x, filename, width=10, height=8) {\n",
    "   stopifnot(!missing(x))\n",
    "   stopifnot(!missing(filename))\n",
    "   pdf(filename, width=width, height=height)\n",
    "   grid::grid.newpage()\n",
    "   grid::grid.draw(x$gtable)\n",
    "   dev.off()\n",
    "}\n",
    "save_pheatmap_pdf(cd4na_markers_heatmap, \"plots/heatmap.pdf\")"
   ]
  },
  {
   "cell_type": "markdown",
   "id": "6a06b936-fe06-4294-90c1-7ab2e5744a2d",
   "metadata": {},
   "source": [
    "## UMAP Plots"
   ]
  },
  {
   "cell_type": "code",
   "execution_count": null,
   "id": "9c88c7e9-1fb0-4b11-9001-114640481e05",
   "metadata": {},
   "outputs": [],
   "source": [
    "library(cowplot)"
   ]
  },
  {
   "cell_type": "code",
   "execution_count": null,
   "id": "7c1a045a-ed15-44ea-b90d-8eb5ff51126a",
   "metadata": {},
   "outputs": [],
   "source": [
    "options(repr.plot.width = 8, repr.plot.height = 8)\n",
    "# p1 <- FeaturePlot(cd4_na, features = 'cleanadt_CD27', reduction = 'wnn.3.umap', order = TRUE) & scale_color_viridis(limits=c(1,4.5))\n",
    "# p2 <- FeaturePlot(cd4_na, features = 'cleanadt_CD197', reduction = 'wnn.3.umap', order = TRUE) & scale_color_viridis(limits=c(1,1.75))\n",
    "# p3 <- FeaturePlot(cd4_na, features = 'cleanadt_CD45RA', reduction = 'wnn.3.umap', order = TRUE) & scale_color_viridis(limits=c(2,5))\n",
    "p4 <- FeaturePlot(cd4_na, features = 'cleanadt_TCR-Valpha7.2', reduction = 'wnn.3.umap', order = TRUE) & scale_color_viridis()\n",
    "p5 <- FeaturePlot(cd4_na, features = 'cleanadt_CD49d', reduction = 'wnn.3.umap', order = TRUE) & scale_color_viridis()\n",
    "# FeaturePlot(cd4_na, features = 'sct_FAS', reduction = 'wnn.3.umap', order = TRUE, pt.size = 1) & scale_color_viridis()"
   ]
  },
  {
   "cell_type": "code",
   "execution_count": null,
   "id": "7c224273-ad3b-4758-9b5f-f721087149c3",
   "metadata": {},
   "outputs": [],
   "source": [
    "p1 <- plot_density(cd4_na, features = 'sct_SOX4', reduction = 'wnn.3.umap', pal = 'inferno')\n",
    "p2 <- plot_density(cd4_na, features = 'sct_TOX', reduction = 'wnn.3.umap', pal = 'inferno')\n",
    "p3 <- plot_density(cd4_na, features = 'sct_DACH1', reduction = 'wnn.3.umap', pal = 'inferno')\n",
    "p4 <- plot_density(cd4_na, features = 'sct_CPQ', reduction = 'wnn.3.umap', pal = 'inferno')\n",
    "p5 <- plot_density(cd4_na, features = 'sct_STAT4', reduction = 'wnn.3.umap', pal = 'inferno')\n",
    "p6 <- plot_density(cd4_na, features = 'sct_INPP4B', reduction = 'wnn.3.umap', pal = 'inferno')"
   ]
  },
  {
   "cell_type": "code",
   "execution_count": null,
   "id": "da56fa8e-f727-4a6d-b673-8ad070f0f11e",
   "metadata": {},
   "outputs": [],
   "source": [
    "options(repr.plot.width = 20, repr.plot.height = 14)\n",
    "plot_grid(p1, p2, p3, p4, p5, p6, ncol = 3)"
   ]
  },
  {
   "cell_type": "code",
   "execution_count": null,
   "id": "88dd24d8-9eee-4599-b37f-53a9c9a6d781",
   "metadata": {},
   "outputs": [],
   "source": [
    "# Open a pdf file\n",
    "pdf(\"plots/cd4na_age_markers_umaps.pdf\", width = 20, height = 14) \n",
    "# 2. Create a plot\n",
    "plot_grid(p1, p2, p3, p4, p5, p6, ncol = 3)\n",
    "# Close the pdf file\n",
    "dev.off() "
   ]
  },
  {
   "cell_type": "code",
   "execution_count": null,
   "id": "e0783532-c6e4-40f5-b319-3b6b6ac3baf4",
   "metadata": {},
   "outputs": [],
   "source": [
    "p1 <- plot_density(cd4_na, features = 'sct_CACHD1', reduction = 'wnn.3.umap', pal = 'inferno')\n",
    "p2 <- plot_density(cd4_na, features = 'sct_TGFBR2', reduction = 'wnn.3.umap', pal = 'inferno')\n",
    "p3 <- plot_density(cd4_na, features = 'sct_PIK3CA', reduction = 'wnn.3.umap', pal = 'inferno')\n",
    "p4 <- plot_density(cd4_na, features = 'sct_INPP4B', reduction = 'wnn.3.umap', pal = 'inferno')\n",
    "p5 <- plot_density(cd4_na, features = 'sct_DPP4', reduction = 'wnn.3.umap', pal = 'inferno')\n",
    "p6 <- plot_density(cd4_na, features = 'sct_GBP5', reduction = 'wnn.3.umap', pal = 'inferno')"
   ]
  },
  {
   "cell_type": "code",
   "execution_count": null,
   "id": "c5583a3d-607f-44c0-95e2-b4995a3149fc",
   "metadata": {},
   "outputs": [],
   "source": [
    "options(repr.plot.width = 20, repr.plot.height = 14)\n",
    "plot_grid(p1, p2, p3, p4, p5, p6, ncol = 3)"
   ]
  },
  {
   "cell_type": "markdown",
   "id": "bca1e11d-5d65-4462-9255-6f87d6966ec0",
   "metadata": {},
   "source": [
    "# Tracks"
   ]
  },
  {
   "cell_type": "markdown",
   "id": "1369b4e6-a085-4e83-b738-c706f5087678",
   "metadata": {},
   "source": [
    "Check ATAC notebook 03-R_CD4_Na_ATAC.ipynb"
   ]
  },
  {
   "cell_type": "markdown",
   "id": "8ddfce6b-f41d-4a1d-96d8-dfaf05f6dccf",
   "metadata": {},
   "source": [
    "# Subset Counts"
   ]
  },
  {
   "cell_type": "code",
   "execution_count": null,
   "id": "a6d15c27-fdbf-4b5a-9b60-6749c183b87c",
   "metadata": {},
   "outputs": [],
   "source": [
    "split_cd4_na <- SplitObject(cd4_na, split.by = 'pediatric_senior')"
   ]
  },
  {
   "cell_type": "code",
   "execution_count": null,
   "id": "b6b7294a-148d-46dc-808c-4809573fad66",
   "metadata": {},
   "outputs": [],
   "source": [
    "celltype_df_func <- function(seurat_object, metadata_slot, id_list){\n",
    "    seurat_object <- SetIdent(seurat_object, value = metadata_slot)\n",
    "    subset_object <- subset(seurat_object, idents = id_list[[1]])\n",
    "    df <- as.data.frame(table(subset_object$pbmc_sample_id))\n",
    "    colnames(df) <- c('sample',id_list[[1]])\n",
    "    i = 2\n",
    "    while(i < length(id_list) + 1){\n",
    "        subset_object <- subset(seurat_object, idents = id_list[[i]])\n",
    "        df2 <- as.data.frame(table(subset_object$pbmc_sample_id))\n",
    "        df[,ncol(df) + 1] <- df2$Freq\n",
    "        colnames(df)[ncol(df)] <- paste0(id_list[[i]])\n",
    "        #df$id_list[[i]] <- df2$Freq\n",
    "        i = i + 1\n",
    "        }\n",
    "    df\n",
    "    }"
   ]
  },
  {
   "cell_type": "code",
   "execution_count": null,
   "id": "ebb248c4-dd2e-4aa2-98f4-6ebc6a6262d8",
   "metadata": {},
   "outputs": [],
   "source": [
    "ped_celltype <- celltype_df_func(split_cd4_na$Pediatric, 'pure_celltype', sort(unique(split_cd4_na$Pediatric$pure_celltype)))"
   ]
  },
  {
   "cell_type": "code",
   "execution_count": null,
   "id": "8acfd5af-234b-465a-8018-e0f06c4d96f1",
   "metadata": {},
   "outputs": [],
   "source": [
    "head(ped_celltype)"
   ]
  },
  {
   "cell_type": "code",
   "execution_count": null,
   "id": "65c791c6-917e-4952-a7b8-95c021830f74",
   "metadata": {},
   "outputs": [],
   "source": [
    "rownames(ped_celltype) <- ped_celltype$sample\n",
    "ped_celltype <- ped_celltype[,2:4]\n",
    "colnames(ped_celltype) <- sort(unique(split_cd4_na$Pediatric$pure_celltype))\n",
    "ped_celltype"
   ]
  },
  {
   "cell_type": "code",
   "execution_count": null,
   "id": "7edc9d15-1957-49c8-8d5a-693ba12a4130",
   "metadata": {},
   "outputs": [],
   "source": [
    "sen_celltype <- celltype_df_func(split_cd4_na$Senior, 'pure_celltype', sort(unique(split_cd4_na$Senior$pure_celltype)))"
   ]
  },
  {
   "cell_type": "code",
   "execution_count": null,
   "id": "83afa3c5-817e-446a-8a62-a4f3143ad760",
   "metadata": {},
   "outputs": [],
   "source": [
    "head(sen_celltype)"
   ]
  },
  {
   "cell_type": "code",
   "execution_count": null,
   "id": "8a42e36a-5e6a-4897-8b58-be108991a983",
   "metadata": {},
   "outputs": [],
   "source": [
    "rownames(sen_celltype) <- sen_celltype$sample\n",
    "sen_celltype <- sen_celltype[,2:4]\n",
    "colnames(sen_celltype) <- sort(unique(split_cd4_na$Senior$pure_celltype))\n",
    "sen_celltype"
   ]
  },
  {
   "cell_type": "code",
   "execution_count": null,
   "id": "0692d439-ad45-4ed7-ac22-ddca78504fa0",
   "metadata": {},
   "outputs": [],
   "source": [
    "write.csv(ped_celltype, file = 'cd4na_freq_ped.csv')\n",
    "write.csv(sen_celltype, file = 'cd4na_freq_OA.csv')"
   ]
  },
  {
   "cell_type": "markdown",
   "id": "2fdafa27-280e-47b3-8f38-42a5920c797f",
   "metadata": {},
   "source": [
    "# DEGs by Age"
   ]
  },
  {
   "cell_type": "code",
   "execution_count": null,
   "id": "fa26e18b-1b74-4d46-93fc-410c9014b64b",
   "metadata": {},
   "outputs": [],
   "source": [
    "cd4_na <- NormalizeData(cd4_na, assay = 'RNA')"
   ]
  },
  {
   "cell_type": "code",
   "execution_count": null,
   "id": "457ed512-06b7-4922-b473-7e288f5158e4",
   "metadata": {},
   "outputs": [],
   "source": [
    "split_cd4_na <- SplitObject(cd4_na, split.by = 'pure_celltype')"
   ]
  },
  {
   "cell_type": "code",
   "execution_count": null,
   "id": "51b6a123-9562-4289-a7a2-c2e7915abf2c",
   "metadata": {},
   "outputs": [],
   "source": [
    "deg_list <- lapply(split_cd4_na, function(x){\n",
    "    DefaultAssay(x) <- 'RNA'\n",
    "    x <- SetIdent(x, value = 'pediatric_senior')\n",
    "    degs <- FindMarkers(x, `ident.1` = 'Pediatric', `ident.2` = 'Senior', min.pct = 0)\n",
    "    return(degs)\n",
    "}) "
   ]
  },
  {
   "cell_type": "code",
   "execution_count": null,
   "id": "68327f4a-48a3-4b94-85b2-c74ad51fd6c9",
   "metadata": {},
   "outputs": [],
   "source": [
    "write.csv(deg_list$`CD4 Naive`, file='cd4na_degs_age.csv')\n",
    "write.csv(deg_list$`CD4 SCM`, file='cd4scm_degs_age.csv')\n",
    "write.csv(deg_list$`CD25neg Treg`, file='cd25negtreg_degs_age.csv')"
   ]
  },
  {
   "cell_type": "code",
   "execution_count": null,
   "id": "a90bf20d-9f46-4121-aa17-a7cfc49390d1",
   "metadata": {},
   "outputs": [],
   "source": [
    "deg_na <- deg_list$`CD4 Naive`\n",
    "deg_scm <- deg_list$`CD4 SCM`\n",
    "deg_treg <- deg_list$`CD25neg Treg`"
   ]
  },
  {
   "cell_type": "code",
   "execution_count": null,
   "id": "86532e89-9f6f-4535-b105-0c274800f295",
   "metadata": {},
   "outputs": [],
   "source": [
    "head(deg_na)"
   ]
  },
  {
   "cell_type": "code",
   "execution_count": null,
   "id": "f2413f3e-be0d-4e6a-adbb-17baca6341ad",
   "metadata": {},
   "outputs": [],
   "source": [
    "deg_na$gene_dir <- paste0(rownames(deg_na),sign(deg_na$avg_log2FC))\n",
    "head(deg_na)"
   ]
  },
  {
   "cell_type": "code",
   "execution_count": null,
   "id": "59fc68e9-bc47-4c7e-9003-2315c475af9e",
   "metadata": {},
   "outputs": [],
   "source": [
    "deg_scm$gene_dir <- paste0(rownames(deg_scm),sign(deg_scm$avg_log2FC))\n",
    "deg_treg$gene_dir <- paste0(rownames(deg_treg),sign(deg_treg$avg_log2FC))"
   ]
  },
  {
   "cell_type": "code",
   "execution_count": null,
   "id": "749fe843-c4f0-4478-b3fd-0fd914e4a692",
   "metadata": {},
   "outputs": [],
   "source": [
    "library(UpSetR)"
   ]
  },
  {
   "cell_type": "code",
   "execution_count": null,
   "id": "86069bf6-a6c9-45a2-972f-4b1da70b7718",
   "metadata": {},
   "outputs": [],
   "source": [
    "listInput <- list(Naive = deg_na$gene_dir, SCM = deg_scm$gene_dir, Treg = deg_treg$gene_dir)"
   ]
  },
  {
   "cell_type": "code",
   "execution_count": null,
   "id": "6f8c1571-7ea9-44f7-a94c-6f8197f50288",
   "metadata": {},
   "outputs": [],
   "source": [
    "options(repr.plot.width = 10, repr.plot.height = 5)\n",
    "upset(fromList(listInput), order.by = \"freq\", text.scale = 2)"
   ]
  },
  {
   "cell_type": "code",
   "execution_count": null,
   "id": "c4c34102-a774-48d2-b718-e0ba219a4547",
   "metadata": {},
   "outputs": [],
   "source": [
    "# Open a pdf file\n",
    "pdf(\"plots/deg_upset_plot.pdf\", width = 10, height = 5) \n",
    "# 2. Create a plot\n",
    "upset(fromList(listInput), order.by = \"freq\", text.scale = 2)\n",
    "# Close the pdf file\n",
    "dev.off() "
   ]
  },
  {
   "cell_type": "code",
   "execution_count": null,
   "id": "cbda582c-8979-4eab-9167-ebb03e627947",
   "metadata": {},
   "outputs": [],
   "source": [
    "cd4_na <- SetIdent(cd4_na, value = 'pediatric_senior')\n",
    "downsample_cd4_na <- subset(cd4_na, downsample = 15000)"
   ]
  },
  {
   "cell_type": "code",
   "execution_count": null,
   "id": "1b68c54c-ec6f-4196-93ac-615b1739f053",
   "metadata": {},
   "outputs": [],
   "source": [
    "table(downsample_cd4_na$pediatric_senior)"
   ]
  },
  {
   "cell_type": "code",
   "execution_count": null,
   "id": "51a4284a-95ae-4ca3-8341-1dc3872b1ab3",
   "metadata": {},
   "outputs": [],
   "source": [
    "top10 <- top_n(x=deg_na, n=20, wt=avg_log2FC)"
   ]
  },
  {
   "cell_type": "code",
   "execution_count": null,
   "id": "16a528ec-7a48-4e0d-95e5-564b581e2fe8",
   "metadata": {},
   "outputs": [],
   "source": [
    "bot10 <- top_n(x=deg_na, n=-23, wt=avg_log2FC)\n",
    "bot10 <- subset(bot10, !(gene_dir %in% c('AC105402.3-1','MTRNR2L8-1','EDA-1')))\n",
    "bot10"
   ]
  },
  {
   "cell_type": "code",
   "execution_count": null,
   "id": "e2203792-edc3-4180-9846-52f16081db8c",
   "metadata": {},
   "outputs": [],
   "source": [
    "options(repr.plot.width = 10, repr.plot.height = 10)\n",
    "DefaultAssay(downsample_cd4_na) <- 'SCT'\n",
    "DoHeatmap(downsample_cd4_na, features = c(rownames(top10),rownames(bot10)), group.colors = c('#1b9e77','#d95f02')) + \n",
    "    scale_fill_gradientn(colors = c('#2b83ba', \"black\", 'orange'))#d7191c"
   ]
  },
  {
   "cell_type": "code",
   "execution_count": null,
   "id": "a65533f3-d0a9-4cee-a768-d958f7cf8a31",
   "metadata": {},
   "outputs": [],
   "source": [
    "# Open a pdf file\n",
    "pdf(\"plots/deg_heatmap_plot.pdf\", width = 10, height = 10) \n",
    "# 2. Create a plot\n",
    "DoHeatmap(downsample_cd4_na, features = c(rownames(top10),rownames(bot10)), group.colors = c('#1b9e77','#d95f02')) + \n",
    "    scale_fill_gradientn(colors = c('#2b83ba', \"black\", 'orange'))\n",
    "# Close the pdf file\n",
    "dev.off() "
   ]
  },
  {
   "cell_type": "code",
   "execution_count": null,
   "id": "efd2f374-01a5-43dc-9e64-1055b392efba",
   "metadata": {
    "scrolled": true,
    "tags": []
   },
   "outputs": [],
   "source": [
    "sort(intersect(intersect(rownames(deg_list$`CD4 Naive`),rownames(deg_list$`CD4 SCM`)),rownames(deg_list$`CD25neg Treg`)))"
   ]
  },
  {
   "cell_type": "code",
   "execution_count": null,
   "id": "8b53dbbb-5e22-4f6c-8db2-e512dcf7277b",
   "metadata": {},
   "outputs": [],
   "source": [
    "length(rownames(subset(deg_list$`CD4 Naive`, avg_log2FC > 0)))\n",
    "length(rownames(subset(deg_list$`CD4 Naive`, avg_log2FC < 0)))"
   ]
  },
  {
   "cell_type": "code",
   "execution_count": null,
   "id": "626a6f73-b809-43d5-b8f4-25aa1a10eb0b",
   "metadata": {},
   "outputs": [],
   "source": [
    "head(subset(deg_list$`CD4 Naive`, avg_log2FC > 0),n=25)\n",
    "head(subset(deg_list$`CD4 Naive`, avg_log2FC < 0),n=25)"
   ]
  },
  {
   "cell_type": "code",
   "execution_count": null,
   "id": "6dfbb92b-eba2-4b74-9b56-3842a29001dc",
   "metadata": {},
   "outputs": [],
   "source": [
    "c('TOX','SOX4','IKZF2','CPQ','STAT4','TSHZ2') %in% rownames(deg_list$`CD4 Naive`)"
   ]
  },
  {
   "cell_type": "code",
   "execution_count": null,
   "id": "66f772e9-ae3d-4f86-8503-9a75d60f87d0",
   "metadata": {},
   "outputs": [],
   "source": [
    "degs_cd4na <- deg_list$`CD4 Naive`\n",
    "degs_cd4na$genes <- rownames(degs_cd4na)\n",
    "subset(degs_cd4na, genes %in% c('TOX','SOX4','IKZF2','CPQ','STAT4','TSHZ2'))"
   ]
  },
  {
   "cell_type": "code",
   "execution_count": null,
   "id": "a2c97270-ca7a-4abc-98de-f5130d4f812d",
   "metadata": {},
   "outputs": [],
   "source": [
    "length(rownames(subset(deg_list$`CD25neg Treg`, avg_log2FC > 0)))\n",
    "length(rownames(subset(deg_list$`CD25neg Treg`, avg_log2FC < 0)))"
   ]
  },
  {
   "cell_type": "code",
   "execution_count": null,
   "id": "1f2667b6-1396-45a1-bcfa-1e26009b6af8",
   "metadata": {},
   "outputs": [],
   "source": [
    "length(rownames(subset(deg_list$`CD4 SCM`, avg_log2FC > 0)))\n",
    "length(rownames(subset(deg_list$`CD4 SCM`, avg_log2FC < 0)))"
   ]
  },
  {
   "cell_type": "code",
   "execution_count": null,
   "id": "17f9bf11-fd7a-44a4-a05b-253ced62b924",
   "metadata": {},
   "outputs": [],
   "source": [
    "df <- data.frame('CD4 Naive' = c(189,-151),\n",
    "                 'CD4 SCM' = c(186,-207),\n",
    "                 'CD25neg Treg' = c(175,-206), \n",
    "                 age = c('Pediatric','Senior'))\n",
    "df"
   ]
  },
  {
   "cell_type": "code",
   "execution_count": null,
   "id": "88b551ca-6a50-4d3f-9331-9fceaf239fdd",
   "metadata": {},
   "outputs": [],
   "source": [
    "tall_df <- tidyr::gather(data = df, key = comparison, value = degs, `CD4.Naive`:`CD25neg.Treg`, factor_key = TRUE)\n",
    "tall_df$contrast <- 'age'\n",
    "head(tall_df)"
   ]
  },
  {
   "cell_type": "code",
   "execution_count": null,
   "id": "8474b3fa-c952-4f0d-8a15-0fc90d0eb5f6",
   "metadata": {},
   "outputs": [],
   "source": [
    "options(repr.plot.width = 8, repr.plot.height = 6)\n",
    "ggplot(tall_df) + \n",
    "    geom_bar(aes(x=comparison, y=degs, fill=age), stat=\"identity\", width=0.5,\n",
    "             color=\"black\")"
   ]
  },
  {
   "cell_type": "code",
   "execution_count": null,
   "id": "18e6ef3b-39f0-4d37-ab23-20067fe812d4",
   "metadata": {},
   "outputs": [],
   "source": [
    "library(VennDiagram)"
   ]
  },
  {
   "cell_type": "code",
   "execution_count": null,
   "id": "3f24e8f7-ef6d-4dcd-ad1b-38295c0d7d16",
   "metadata": {},
   "outputs": [],
   "source": [
    "naive_degs <- deg_list$`CD4 Naive`\n",
    "scm_degs <- deg_list$`CD4 SCM`\n",
    "treg_degs <- deg_list$`CD25neg Treg`"
   ]
  },
  {
   "cell_type": "code",
   "execution_count": null,
   "id": "724a7872-5e2b-4db0-88f8-b4e03bc7f1dd",
   "metadata": {},
   "outputs": [],
   "source": [
    "naive_gene_names <- paste0(sign(naive_degs$avg_log2FC),(rownames(naive_degs)))\n",
    "scm_gene_names <- paste0(sign(scm_degs$avg_log2FC),(rownames(scm_degs)))\n",
    "treg_gene_names <- paste0(sign(treg_degs$avg_log2FC),(rownames(treg_degs)))"
   ]
  },
  {
   "cell_type": "code",
   "execution_count": null,
   "id": "0ab754da-a858-402a-ab8e-ddeca85cfa84",
   "metadata": {},
   "outputs": [],
   "source": [
    "library(RColorBrewer)\n",
    "myCol <- brewer.pal(3, \"Pastel2\")"
   ]
  },
  {
   "cell_type": "code",
   "execution_count": null,
   "id": "13b6d67d-2cc2-4e5d-9726-3636ef816912",
   "metadata": {},
   "outputs": [],
   "source": [
    "venn.diagram(\n",
    "    x = list(naive_gene_names, scm_gene_names, treg_gene_names),\n",
    "    category.names = c('CD4 Naive', 'CD4 SCM','CD25neg Treg'),\n",
    "    filename='test.png',\n",
    "    output=TRUE,\n",
    "        # Output features\n",
    "        imagetype=\"png\" ,\n",
    "        height = 480 , \n",
    "        width = 480 , \n",
    "        resolution = 300,\n",
    "        compression = \"lzw\",\n",
    "        \n",
    "        # Circles\n",
    "        lwd = 2,\n",
    "        lty = 'blank',\n",
    "        fill = myCol,\n",
    "        \n",
    "        # Numbers\n",
    "        cex = .6,\n",
    "        fontface = \"bold\",\n",
    "        fontfamily = \"sans\",\n",
    "        \n",
    "        # Set names\n",
    "        cat.cex = 0.6,\n",
    "        cat.fontface = \"bold\",\n",
    "        cat.default.pos = \"outer\",\n",
    "        cat.pos = c(-27, 27, 135),\n",
    "        cat.dist = c(0.055, 0.055, 0.085),\n",
    "        cat.fontfamily = \"sans\",\n",
    "        rotation = 1\n",
    ")"
   ]
  },
  {
   "cell_type": "markdown",
   "id": "96932614-1c85-4158-98bb-6cc8e07a54f6",
   "metadata": {},
   "source": [
    "# Pseudo-bulk Expression"
   ]
  },
  {
   "cell_type": "code",
   "execution_count": null,
   "id": "a94ea843-f0ad-458e-b425-49d9d7f79238",
   "metadata": {},
   "outputs": [],
   "source": [
    "genes_of_interest <- c('TOX','PABPC1','DACH1','STAT4','INPP4B','CPQ','SESN3','TSHZ2')"
   ]
  },
  {
   "cell_type": "code",
   "execution_count": null,
   "id": "ea37191d-394e-48e6-aa66-8577e5870fc8",
   "metadata": {},
   "outputs": [],
   "source": [
    "cd4_na <- SetIdent(cd4_na, value = 'pure_celltype')\n",
    "naive_only <- subset(cd4_na, idents = 'CD4 Naive')"
   ]
  },
  {
   "cell_type": "code",
   "execution_count": null,
   "id": "c44c8c3b-265d-4024-8264-875e7eddedae",
   "metadata": {},
   "outputs": [],
   "source": [
    "split_cd4na <- SplitObject(naive_only, split.by = 'pediatric_senior')"
   ]
  },
  {
   "cell_type": "code",
   "execution_count": null,
   "id": "066000bc-bf64-43e7-8cd5-30890e24c354",
   "metadata": {},
   "outputs": [],
   "source": [
    "ped_avg_exp <- AverageExpression(object = split_cd4na$Pediatric, assays = 'RNA', features = genes_of_interest, group.by = 'pbmc_sample_id')"
   ]
  },
  {
   "cell_type": "code",
   "execution_count": null,
   "id": "805cab55-2683-4c7d-b2a4-e65e2afa1e87",
   "metadata": {},
   "outputs": [],
   "source": [
    "sen_avg_exp <- AverageExpression(object = split_cd4na$Senior, assays = 'RNA', features = genes_of_interest, group.by = 'pbmc_sample_id')"
   ]
  },
  {
   "cell_type": "code",
   "execution_count": null,
   "id": "76c980e9-2d88-4829-8140-f5d5d23ea95c",
   "metadata": {},
   "outputs": [],
   "source": [
    "write.csv(ped_avg_exp, file = 'cd4na_ped_avg_exp.csv')\n",
    "write.csv(sen_avg_exp, file = 'cd4na_sen_avg_exp.csv')"
   ]
  },
  {
   "cell_type": "markdown",
   "id": "2d3d4a92-51ae-4768-ae37-480d845b0d3f",
   "metadata": {},
   "source": [
    "# Top 20 Naive DEGs by Age"
   ]
  },
  {
   "cell_type": "code",
   "execution_count": null,
   "id": "2f503303-c953-477b-a4e0-8852e1e7b2a9",
   "metadata": {},
   "outputs": [],
   "source": [
    "length(rownames(subset(deg_list$`CD4 Naive`, avg_log2FC > 0)))\n",
    "length(rownames(subset(deg_list$`CD4 Naive`, avg_log2FC < 0)))"
   ]
  },
  {
   "cell_type": "markdown",
   "id": "3242e105-c436-4532-b226-5832fb7d557d",
   "metadata": {},
   "source": [
    "# Split Global UMAP"
   ]
  },
  {
   "cell_type": "code",
   "execution_count": null,
   "id": "cc976544-199b-4ac1-9b5d-b51491de29f2",
   "metadata": {},
   "outputs": [],
   "source": [
    "sp_merge <- readRDS(file = '../../Seurat_Objects/sp_merge_gating_celltype_updated.rds')"
   ]
  },
  {
   "cell_type": "code",
   "execution_count": null,
   "id": "af8bf2a9-0270-4cf5-94d1-4898342baa5c",
   "metadata": {},
   "outputs": [],
   "source": [
    "sp_merge$pure_celltype <- sp_merge$gating_celltype"
   ]
  },
  {
   "cell_type": "markdown",
   "id": "b713072b-8f2b-4206-9105-d9153f94635d",
   "metadata": {},
   "source": [
    "## Add CD8na subsets"
   ]
  },
  {
   "cell_type": "code",
   "execution_count": null,
   "id": "d558aaf7-eaea-4d34-8af8-04e06ca986dc",
   "metadata": {},
   "outputs": [],
   "source": [
    "cd8na_meta <- cd4_na@meta.data"
   ]
  },
  {
   "cell_type": "code",
   "execution_count": null,
   "id": "915fe4a2-4679-48e4-a7c0-185327832e09",
   "metadata": {},
   "outputs": [],
   "source": [
    "meta_subset_cd8na <- sp_merge@meta.data[which(rownames(sp_merge@meta.data) %in% rownames(cd8na_meta)),]\n",
    "length(rownames(meta_subset_cd8na))\n",
    "table(rownames(meta_subset_cd8na) %in% rownames(cd8na_meta))\n",
    "table(rownames(meta_subset_cd8na) == rownames(cd8na_meta))"
   ]
  },
  {
   "cell_type": "markdown",
   "id": "0a6e55b1-6273-4694-a1be-c05a1b555833",
   "metadata": {},
   "source": [
    "Again, it's in the same order, so we don't need to reorder the metadata"
   ]
  },
  {
   "cell_type": "code",
   "execution_count": null,
   "id": "2b43b1a8-35f8-4b54-a963-98067c37058d",
   "metadata": {},
   "outputs": [],
   "source": [
    "sp_merge$pure_celltype[which(rownames(sp_merge@meta.data) %in% rownames(cd8na_meta))] <- as.character(cd8na_meta$pure_celltype)"
   ]
  },
  {
   "cell_type": "markdown",
   "id": "47f0846f-8c0b-48ae-aec1-d2365903b0fd",
   "metadata": {},
   "source": [
    "## Plot"
   ]
  },
  {
   "cell_type": "code",
   "execution_count": null,
   "id": "d25cd858-565a-4e83-af61-424f41a69655",
   "metadata": {},
   "outputs": [],
   "source": [
    "options(repr.plot.width = 25, repr.plot.height = 12)\n",
    "DimPlot(sp_merge, reduction = 'wnn.3.umap', group.by = 'pure_celltype', raster = FALSE, shuffle = TRUE, split.by = 'pediatric_senior', pt.size = 0.1,\n",
    "        order = c('CD8 MAIT','CD8 MNP-1','CD8 Naive','CD8 MNP-2','CD8 SCM',\n",
    "                  'CD4 CM','CD4 EM1','CD4 EM2','CD4 Naive',\n",
    "                  'CD4 TEMRA','CD4 Unk','CD8 CM','CD8 EM1','CD8 EM2',\n",
    "                  'CD8 TEMRA','CD8 Unk','Treg'),\n",
    "        cols = c('lightgrey','lightgrey','lightgrey',\n",
    "                 'lightgrey','lightgrey','lightgrey','lightgrey','lightgrey',\n",
    "                 'lightgrey','lightgrey','lightgrey','lightgrey',\n",
    "                 '#1d91c0','#08519c','#807dba','#01665e','#3f007d'))"
   ]
  },
  {
   "cell_type": "code",
   "execution_count": null,
   "id": "60590ee9-6cdd-423b-880d-710e4c7d0cd6",
   "metadata": {},
   "outputs": [],
   "source": [
    "# Open a pdf file\n",
    "pdf(\"plots/cd8na_celltypes_global_umap.pdf\", width = 25, height = 12) \n",
    "# 2. Create a plot\n",
    "DimPlot(sp_merge, reduction = 'wnn.3.umap', group.by = 'pure_celltype', raster = FALSE, shuffle = TRUE, split.by = 'pediatric_senior', pt.size = 0.1,\n",
    "        order = c('CD8 MAIT','CD8 MNP-1','CD8 Naive','CD8 MNP-2','CD8 SCM',\n",
    "                  'CD4 CM','CD4 EM1','CD4 EM2','CD4 Naive',\n",
    "                  'CD4 TEMRA','CD4 Unk','CD8 CM','CD8 EM1','CD8 EM2',\n",
    "                  'CD8 TEMRA','CD8 Unk','Treg'),\n",
    "        cols = c('lightgrey','lightgrey','lightgrey',\n",
    "                 'lightgrey','lightgrey','lightgrey','lightgrey','lightgrey',\n",
    "                 'lightgrey','lightgrey','lightgrey','lightgrey',\n",
    "                 '#1d91c0','#08519c','#807dba','#01665e','#3f007d'))\n",
    "# Close the pdf file\n",
    "dev.off() "
   ]
  },
  {
   "cell_type": "markdown",
   "id": "205b389c-51d0-449d-a10b-4e36906bc99a",
   "metadata": {},
   "source": [
    "# Gene Expression DotPlot"
   ]
  },
  {
   "cell_type": "code",
   "execution_count": null,
   "id": "7fc52026-ca77-4e55-a67f-4bc00eb10f17",
   "metadata": {},
   "outputs": [],
   "source": [
    "gene_list_updated <- c('ITGA6','CD55','ITGB1','ITGA4','KLRD1','ITGAL','KLRC2','KLRC3','IL21R','KLRB1','IL12RB2','KLRG1','LEF1','BACH2','FOXP1','RUNX2','BCL2',\n",
    "                       'TOX','IKZF2','RUNX3','JUNB','RORA','IFNG-AS1','GZMK','GZMA','PRF1','NCAM1','PECAM1')"
   ]
  },
  {
   "cell_type": "code",
   "execution_count": null,
   "id": "49196204-89cb-4845-b050-f814eafb697a",
   "metadata": {},
   "outputs": [],
   "source": [
    "cd4_na <- SetIdent(cd4_na, value = 'pure_celltype')\n",
    "levels(cd4_na) <- c('CD8 MAIT','CD8 SCM','CD8 MNP-2','CD8 MNP-1','CD8 Naive')\n",
    "levels(cd4_na)"
   ]
  },
  {
   "cell_type": "code",
   "execution_count": null,
   "id": "a669638e-135a-459d-908b-6cf70eea233c",
   "metadata": {},
   "outputs": [],
   "source": [
    "options(repr.plot.width = 12, repr.plot.height = 4)\n",
    "DotPlot(cd4_na, features = gene_list_updated, \n",
    "        col.min = 0, assay = 'SCT') & theme(axis.text.x = element_text(angle = 90, vjust = 0.5, hjust=1, size = 20),\n",
    "                                            axis.text.y = element_text(size = 20),\n",
    "                                            axis.title.x = element_blank(), axis.title.y = element_blank())"
   ]
  },
  {
   "cell_type": "code",
   "execution_count": null,
   "id": "c4f89cb3-39d9-4c80-b4cb-98542c764e4f",
   "metadata": {},
   "outputs": [],
   "source": [
    "# Open a pdf file\n",
    "pdf(\"plots/cd8na_celltypes_RNA_dotplot.pdf\", width = 12, height = 4) \n",
    "# 2. Create a plot\n",
    "DotPlot(cd4_na, features = gene_list_updated, \n",
    "        col.min = 0, assay = 'SCT') & theme(axis.text.x = element_text(angle = 90, vjust = 0.5, hjust=1, size = 20),\n",
    "                                            axis.text.y = element_text(size = 20),\n",
    "                                            axis.title.x = element_blank(), axis.title.y = element_blank())\n",
    "# Close the pdf file\n",
    "dev.off() "
   ]
  },
  {
   "cell_type": "code",
   "execution_count": null,
   "id": "742bec53-47f9-407a-ae75-7374fa2c2606",
   "metadata": {},
   "outputs": [],
   "source": [
    "'#c7e9c0','#74c476','#238b45','#00441b','#6baed6','#02818a','#08519c','#6a51a3','#bdbdbd','#737373'"
   ]
  },
  {
   "cell_type": "code",
   "execution_count": null,
   "id": "844c73a7-c11a-4c8a-b1c7-f14415b10ed0",
   "metadata": {},
   "outputs": [],
   "source": [
    "'#bcbddc','#807dba','#6a51a3','#54278f','#bdbdbd','#08519c','#969696','#ae017e','#3f007d'"
   ]
  }
 ],
 "metadata": {
  "kernelspec": {
   "display_name": "R 4",
   "language": "R",
   "name": "ir"
  },
  "language_info": {
   "codemirror_mode": "r",
   "file_extension": ".r",
   "mimetype": "text/x-r-source",
   "name": "R",
   "pygments_lexer": "r",
   "version": "4.1.2"
  }
 },
 "nbformat": 4,
 "nbformat_minor": 5
}
