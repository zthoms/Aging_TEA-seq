{
 "cells": [
  {
   "cell_type": "markdown",
   "id": "048a0ffd-f439-4ad5-b8b2-6972ed20b62d",
   "metadata": {},
   "source": [
    "# Basic 3WNN Clustering w/ Gated Labels"
   ]
  },
  {
   "cell_type": "code",
   "execution_count": null,
   "id": "cb8aae9b-b02c-4095-98f5-40c24b28324a",
   "metadata": {},
   "outputs": [],
   "source": [
    "quiet_library <- function(...) {\n",
    "    suppressPackageStartupMessages(library(...))\n",
    "}\n",
    "quiet_library(Seurat)\n",
    "quiet_library(ggplot2)\n",
    "quiet_library(Matrix)\n",
    "quiet_library(H5weaver)\n",
    "quiet_library(dplyr)\n",
    "quiet_library(viridis)\n",
    "quiet_library(harmony)\n",
    "quiet_library(Nebulosa)\n",
    "quiet_library(ArchR)"
   ]
  },
  {
   "cell_type": "code",
   "execution_count": null,
   "id": "a5f43f2c-d6b8-457d-b4bf-e28e289174cd",
   "metadata": {},
   "outputs": [],
   "source": [
    "addArchRThreads(32)\n",
    "addArchRGenome(\"hg38\")"
   ]
  },
  {
   "cell_type": "markdown",
   "id": "e0ed818f-3389-4f5c-a92d-4495f77bb771",
   "metadata": {},
   "source": [
    "# Load CD4 Gated Subset"
   ]
  },
  {
   "cell_type": "markdown",
   "id": "8501bad4-2d4d-4f1d-ba00-edc83c872a80",
   "metadata": {},
   "source": [
    "## CD4 Subsets"
   ]
  },
  {
   "cell_type": "code",
   "execution_count": null,
   "id": "16e3937c-0661-4487-bd0b-e757d8c2bade",
   "metadata": {},
   "outputs": [],
   "source": [
    "cd4_na <- readRDS('../../Seurat_Objects/cd4_naive.rds')"
   ]
  },
  {
   "cell_type": "markdown",
   "id": "40e8ec09-0076-4407-87a8-c48763a406c6",
   "metadata": {},
   "source": [
    "# Add Metadata"
   ]
  },
  {
   "cell_type": "code",
   "execution_count": null,
   "id": "11adcc03-f7da-4f13-9181-6f9343db0290",
   "metadata": {},
   "outputs": [],
   "source": [
    "cd4_na <- SetIdent(cd4_na, value = 'pbmc_sample_id')\n",
    "cd4_na <- RenameIdents(cd4_na,\n",
    "                           'PB00173-02' = 'Positive', #validated\n",
    "                           'PB00192-02' = 'Negative', #validated\n",
    "                           'PB00197-02' = 'Negative', #validated\n",
    "                           'PB00593-04' = 'Positive', #validated\n",
    "                           'PB00172-02' = 'Positive',\n",
    "                           'PB00182-02' = 'Negative',\n",
    "                           'PB00323-02' = 'Positive',\n",
    "                           'PB00807-02' = 'Positive',\n",
    "                           'PB00124-02' = 'Positive',\n",
    "                           'PB00127-02' = 'Negative',\n",
    "                           'PB00334-03' = 'Negative',\n",
    "                           'PB00353-03' = 'Negative',\n",
    "                           'PB00368-04' = 'Positive',\n",
    "                           'PB00377-03' = 'Negative',\n",
    "                           'PB00545-02' = 'Negative',\n",
    "                           'PB00599-02' = 'Positive')\n",
    "cd4_na$CMV <- Idents(cd4_na)"
   ]
  },
  {
   "cell_type": "code",
   "execution_count": null,
   "id": "81ee55db-2e36-4bae-b7a8-f433c38b8fed",
   "metadata": {},
   "outputs": [],
   "source": [
    "cd4_na <- SetIdent(cd4_na, value = 'pbmc_sample_id')\n",
    "cd4_na <- RenameIdents(cd4_na,\n",
    "                           'PB00173-02' = 'UP1006', #validated\n",
    "                           'PB00192-02' = 'UP1007', #validated\n",
    "                           'PB00197-02' = 'UP1010', #validated\n",
    "                           'PB00593-04' = 'BR2002', #validated\n",
    "                           'PB00172-02' = 'UP1002',\n",
    "                           'PB00182-02' = 'UP1003',\n",
    "                           'PB00323-02' = 'BR2004',\n",
    "                           'PB00807-02' = 'UP1005',\n",
    "                           'PB00124-02' = 'UP1001',\n",
    "                           'PB00127-02' = 'UP1004',\n",
    "                           'PB00334-03' = 'BR2009',\n",
    "                           'PB00353-03' = 'BR2008',\n",
    "                           'PB00368-04' = 'BR2005',\n",
    "                           'PB00377-03' = 'BR2015',\n",
    "                           'PB00545-02' = 'BR2042',\n",
    "                           'PB00599-02' = 'BR2052')\n",
    "cd4_na$subject_id <- Idents(cd4_na)"
   ]
  },
  {
   "cell_type": "code",
   "execution_count": null,
   "id": "9672a9e2-6ad9-4a21-ac0b-bb69996aa992",
   "metadata": {},
   "outputs": [],
   "source": [
    "cd4_na$age_cmv <- paste0(cd4_na$pediatric_senior,\"_CMV-\",cd4_na$CMV)"
   ]
  },
  {
   "cell_type": "markdown",
   "id": "6f5758c7-56b5-4d04-bb6c-39c63df4feeb",
   "metadata": {},
   "source": [
    "# RNA Clustering"
   ]
  },
  {
   "cell_type": "code",
   "execution_count": null,
   "id": "a472d0db-712b-4d3d-ba63-c4474610dcd4",
   "metadata": {},
   "outputs": [],
   "source": [
    "outlier_genes <- c('AC105402.3','MTRNR2L8','EDA','IFNG-AS1')"
   ]
  },
  {
   "cell_type": "code",
   "execution_count": null,
   "id": "434037e7-9880-4d6b-9bef-398b82d8d8bf",
   "metadata": {
    "scrolled": true,
    "tags": []
   },
   "outputs": [],
   "source": [
    "DefaultAssay(cd4_na) <- 'RNA'\n",
    "cd4_na <- suppressWarnings(SCTransform(cd4_na))"
   ]
  },
  {
   "cell_type": "code",
   "execution_count": null,
   "id": "b298608c-cd0f-4481-bba0-fe0d5fdfcecc",
   "metadata": {},
   "outputs": [],
   "source": [
    "var_feat_sct <- cd4_na@assays$SCT@var.features\n",
    "length(var_feat_sct)"
   ]
  },
  {
   "cell_type": "code",
   "execution_count": null,
   "id": "6ca79fd3-8506-4fc4-8d9a-b786093a6f05",
   "metadata": {},
   "outputs": [],
   "source": [
    "outlier_genes %in% cd4_na@assays$SCT@var.features"
   ]
  },
  {
   "cell_type": "code",
   "execution_count": null,
   "id": "2c253e67-22ca-47aa-8ed1-bab9c3b74091",
   "metadata": {},
   "outputs": [],
   "source": [
    "var_feats <- cd4_na@assays$SCT@var.features\n",
    "var_feats_trim <- var_feats[!(var_feats %in% outlier_genes)]\n",
    "length(var_feats_trim)"
   ]
  },
  {
   "cell_type": "code",
   "execution_count": null,
   "id": "0b79e752-add1-404a-bd9d-af990a7129c5",
   "metadata": {
    "scrolled": true,
    "tags": []
   },
   "outputs": [],
   "source": [
    "cd4_na <- suppressWarnings(SCTransform(cd4_na, residual.features = var_feats_trim)) %>% RunPCA()"
   ]
  },
  {
   "cell_type": "code",
   "execution_count": null,
   "id": "e0228c5a-a8ec-457b-87db-9f3c92f77eca",
   "metadata": {},
   "outputs": [],
   "source": [
    "options(repr.plot.width = 8, repr.plot.height = 4)\n",
    "cd4_na <- suppressWarnings(RunHarmony(object = cd4_na, reduction.save = 'rna_harmony',group.by.vars = 'batch_id', reduction = 'pca', \n",
    "                                           plot_convergence = T, assay.use = 'SCT'))"
   ]
  },
  {
   "cell_type": "code",
   "execution_count": null,
   "id": "c3d5cd7c-073b-4a25-be9b-a3c766791d86",
   "metadata": {},
   "outputs": [],
   "source": [
    "ElbowPlot(cd4_na, ndims = 50)"
   ]
  },
  {
   "cell_type": "code",
   "execution_count": null,
   "id": "d205c3ac-8f72-43d7-b0c2-471ffb0bc7fb",
   "metadata": {
    "scrolled": true,
    "tags": []
   },
   "outputs": [],
   "source": [
    "cd4_na <- RunUMAP(cd4_na, dims = 1:12, reduction = 'rna_harmony')"
   ]
  },
  {
   "cell_type": "markdown",
   "id": "38038336-78b7-4159-bc16-eb0726a2a824",
   "metadata": {},
   "source": [
    "## RNA UMAPs"
   ]
  },
  {
   "cell_type": "code",
   "execution_count": null,
   "id": "ddeb7e7d-69e4-4857-bf75-16d9f295513f",
   "metadata": {},
   "outputs": [],
   "source": [
    "options(repr.plot.width = 20, repr.plot.height = 10)\n",
    "p1 <- DimPlot(cd4_na, reduction = 'umap', group.by = 'predicted.t_celltype.l2', shuffle = TRUE)\n",
    "p2 <- DimPlot(cd4_na, reduction = 'umap', group.by = 'pediatric_senior', shuffle = TRUE)\n",
    "p3 <- DimPlot(cd4_na, reduction = 'umap', group.by = 'age_cmv', shuffle = TRUE)\n",
    "p4 <- DimPlot(cd4_na, reduction = 'umap', group.by = 'pbmc_sample_id', shuffle = TRUE)\n",
    "p1 + p2 + p3 + p4"
   ]
  },
  {
   "cell_type": "code",
   "execution_count": null,
   "id": "192d37d4-3efb-4694-8f54-3c6cf2886997",
   "metadata": {},
   "outputs": [],
   "source": [
    "options(repr.plot.width = 20, repr.plot.height = 8)\n",
    "suppressMessages(FeaturePlot(cd4_na, features = c('sct_IFNG-AS1','sct_EDA','sct_SOX4'), \n",
    "                             ncol = 3,reduction = 'umap', order = TRUE) & scale_color_viridis())"
   ]
  },
  {
   "cell_type": "markdown",
   "id": "6f47d06b-a17f-499f-893a-a9eb0ad21496",
   "metadata": {},
   "source": [
    "# ADT Clustering"
   ]
  },
  {
   "cell_type": "code",
   "execution_count": null,
   "id": "0722f766-6925-4889-a013-1ddaef63665c",
   "metadata": {},
   "outputs": [],
   "source": [
    "adts_to_remove <- c('CD134','CD172a','CD183','CD366','CX3CR1','TCRab','TCRgd','CD137','CD24','CD294','CD304','CD40','CD80','CD86','IgG1-K-Isotype-Control')\n",
    "adt_mtx <- cd4_na@assays$ADT@counts\n",
    "length(rownames(adt_mtx))"
   ]
  },
  {
   "cell_type": "code",
   "execution_count": null,
   "id": "d1529871-fcaa-48f4-b460-1bfce4513834",
   "metadata": {},
   "outputs": [],
   "source": [
    "idx <- which(rownames(adt_mtx) %in% adts_to_remove)\n",
    "clean_adt_mtx <- adt_mtx[-idx,]\n",
    "length(rownames(clean_adt_mtx))"
   ]
  },
  {
   "cell_type": "code",
   "execution_count": null,
   "id": "a788de10-4d2e-4e2f-89e6-952eab184a9d",
   "metadata": {},
   "outputs": [],
   "source": [
    "cd4_na[['clean_adt']] <- CreateAssayObject(clean_adt_mtx)\n",
    "DefaultAssay(cd4_na) <- 'clean_adt'"
   ]
  },
  {
   "cell_type": "code",
   "execution_count": null,
   "id": "edafa637-41ad-4ef3-b2bf-437aa9b022ad",
   "metadata": {
    "scrolled": true,
    "tags": []
   },
   "outputs": [],
   "source": [
    "# cluster by ADTs, make sure to save under all new reductions and keys \n",
    "VariableFeatures(cd4_na) <- rownames(cd4_na[[\"clean_adt\"]])\n",
    "cd4_na <- NormalizeData(cd4_na, normalization.method = 'CLR', margin = 2) %>% \n",
    "     ScaleData() %>% RunPCA(reduction.name = 'apca', approx = FALSE, reduction.key = 'APC_')"
   ]
  },
  {
   "cell_type": "code",
   "execution_count": null,
   "id": "4e6ead2f-21e8-4dda-87c1-b757df9bfce5",
   "metadata": {
    "scrolled": true,
    "tags": []
   },
   "outputs": [],
   "source": [
    "options(repr.plot.width = 8, repr.plot.height = 4)\n",
    "cd4_na <- suppressWarnings(RunHarmony(object = cd4_na, reduction.save = 'adt_harmony',group.by.vars = 'batch_id', reduction = 'apca', \n",
    "                                           plot_convergence = T, assay.use = 'clean_adt'))"
   ]
  },
  {
   "cell_type": "code",
   "execution_count": null,
   "id": "e6e9cca8-9b7e-481a-b9fb-69d49515a6e3",
   "metadata": {
    "scrolled": true,
    "tags": []
   },
   "outputs": [],
   "source": [
    "cd4_na <- RunUMAP(cd4_na, reduction = 'adt_harmony', reduction.name = 'adtumap', dims = 1:20)"
   ]
  },
  {
   "cell_type": "markdown",
   "id": "6c2e1034-7d69-447f-81e7-765058f69050",
   "metadata": {},
   "source": [
    "## ADT UMAPs"
   ]
  },
  {
   "cell_type": "code",
   "execution_count": null,
   "id": "02993b44-f134-4a98-a558-a2524884778a",
   "metadata": {},
   "outputs": [],
   "source": [
    "options(repr.plot.width = 20, repr.plot.height = 10)\n",
    "p1 <- DimPlot(cd4_na, reduction = 'adtumap', group.by = 'predicted.t_celltype.l2')\n",
    "p2 <- DimPlot(cd4_na, reduction = 'adtumap', group.by = 'pediatric_senior')\n",
    "p3 <- DimPlot(cd4_na, reduction = 'adtumap', group.by = 'age_cmv')\n",
    "p4 <- DimPlot(cd4_na, reduction = 'adtumap', group.by = 'pbmc_sample_id')\n",
    "p1 + p2 + p3 + p4"
   ]
  },
  {
   "cell_type": "markdown",
   "id": "0d31c8fa-fa42-4437-b145-b70987211bc4",
   "metadata": {},
   "source": [
    "# ATAC Clustering"
   ]
  },
  {
   "cell_type": "markdown",
   "id": "7a47437d-afc0-4311-9309-8a1ce5143cbc",
   "metadata": {},
   "source": [
    "## Load ArchR Project"
   ]
  },
  {
   "cell_type": "code",
   "execution_count": null,
   "id": "4224eea2-3bac-4940-92c1-359215189d8e",
   "metadata": {},
   "outputs": [],
   "source": [
    "proj <- loadArchRProject(path = '../../PedSen_ATAC/')\n",
    "proj"
   ]
  },
  {
   "cell_type": "markdown",
   "id": "33bfc361-aa71-48e5-9c06-82cb2992f6a6",
   "metadata": {},
   "source": [
    "## Subset ArchR Project"
   ]
  },
  {
   "cell_type": "code",
   "execution_count": null,
   "id": "37a7e08b-d6d8-4f92-9d45-c0b7eb5470b5",
   "metadata": {},
   "outputs": [],
   "source": [
    "bcs <- colnames(cd4_na[['RNA']])\n",
    "head(bcs)"
   ]
  },
  {
   "cell_type": "code",
   "execution_count": null,
   "id": "306e5ddb-7659-44a4-8915-a780c647c744",
   "metadata": {},
   "outputs": [],
   "source": [
    "idx_new <- which(proj$cellNames_clean %in% bcs)\n",
    "head(idx_new)"
   ]
  },
  {
   "cell_type": "code",
   "execution_count": null,
   "id": "277b6b93-2f3d-4f82-aede-986a314730b2",
   "metadata": {},
   "outputs": [],
   "source": [
    "cells_subset <- proj$cellNames[idx_new]\n",
    "proj_subset <- proj[cells_subset,]\n",
    "proj_subset"
   ]
  },
  {
   "cell_type": "markdown",
   "id": "6d05c089-708b-400c-8e11-8af1cdb73386",
   "metadata": {},
   "source": [
    "## ATAC Clustering"
   ]
  },
  {
   "cell_type": "code",
   "execution_count": null,
   "id": "39219657-98ab-4897-8052-9ae6d3bb1816",
   "metadata": {
    "scrolled": true,
    "tags": []
   },
   "outputs": [],
   "source": [
    "proj_subset <- addIterativeLSI(proj_subset, name = 'IterativeLSI', force = TRUE)"
   ]
  },
  {
   "cell_type": "code",
   "execution_count": null,
   "id": "79708b82-86b1-4ded-846a-e981b6801d3c",
   "metadata": {},
   "outputs": [],
   "source": [
    "proj_subset <- addHarmony(proj_subset, reducedDims = 'IterativeLSI', groupBy = 'batch_id', force = TRUE)"
   ]
  },
  {
   "cell_type": "code",
   "execution_count": null,
   "id": "8401bb8b-2527-4617-826c-d9a7b4e366c0",
   "metadata": {
    "scrolled": true,
    "tags": []
   },
   "outputs": [],
   "source": [
    "#proj_subset <- addClusters(proj_subset, reducedDims = 'IterativeLSI', name = 'Clusters', force = TRUE, resolution = 0.2)\n",
    "proj_subset <- addClusters(proj_subset, reducedDims = 'Harmony', name = 'Clusters', force = TRUE, resolution = 0.2)"
   ]
  },
  {
   "cell_type": "code",
   "execution_count": null,
   "id": "0e272a6b-17d7-4ae3-8d23-4612c462b056",
   "metadata": {
    "scrolled": true,
    "tags": []
   },
   "outputs": [],
   "source": [
    "#proj_subset <- addUMAP(proj_subset, reducedDims = 'IterativeLSI', name = 'UMAP', force = TRUE)\n",
    "proj_subset <- addUMAP(proj_subset, reducedDims = 'Harmony', name = 'UMAP', force = TRUE)"
   ]
  },
  {
   "cell_type": "code",
   "execution_count": null,
   "id": "7598733f-91fc-4ca6-82a9-e9039d27d41b",
   "metadata": {},
   "outputs": [],
   "source": [
    "options(repr.plocd4_naidth = 8, repr.plot.height = 8)\n",
    "plotEmbedding(ArchRProj = proj_subset, colorBy = \"cellColData\", name = \"Clusters\", embedding = \"UMAP\")\n",
    "plotEmbedding(ArchRProj = proj_subset, colorBy = \"cellColData\", name = \"pediatric_senior\", embedding = \"UMAP\")\n",
    "plotEmbedding(ArchRProj = proj_subset, colorBy = \"cellColData\", name = \"predicted.t_celltype.l2\", embedding = \"UMAP\")"
   ]
  },
  {
   "cell_type": "markdown",
   "id": "3165ef15-7891-4508-a950-5151da94dae2",
   "metadata": {},
   "source": [
    "## Export LSI"
   ]
  },
  {
   "cell_type": "code",
   "execution_count": null,
   "id": "02d361b8-e7d2-4b7e-b873-756d09f11723",
   "metadata": {},
   "outputs": [],
   "source": [
    "#lsi <- getReducedDims(proj_subset, reducedDims = 'IterativeLSI')\n",
    "lsi <- getReducedDims(proj_subset, reducedDims = 'Harmony')"
   ]
  },
  {
   "cell_type": "markdown",
   "id": "b517c80e-6c2e-4c85-8552-0f147b3bfe0f",
   "metadata": {},
   "source": [
    "## Import LSI to Seurat Object"
   ]
  },
  {
   "cell_type": "code",
   "execution_count": null,
   "id": "34521a9e-2c7f-4269-8e13-810d5b6c312c",
   "metadata": {},
   "outputs": [],
   "source": [
    "rna_metadata <- cd4_na@meta.data\n",
    "archr_style_barcodes <- paste(rna_metadata$batch_id, \"-P1_\",rna_metadata$pbmc_sample_id,\"#\",rownames(rna_metadata), sep = \"\")\n",
    "head(archr_style_barcodes)"
   ]
  },
  {
   "cell_type": "code",
   "execution_count": null,
   "id": "526927a8-38d4-4260-85fe-ea814604b894",
   "metadata": {},
   "outputs": [],
   "source": [
    "# create data frame w/ seurat barcodes and archr style barcodes\n",
    "bc_df <- data.frame(seurat_bcs = colnames(cd4_na@assays$RNA),\n",
    "                    archr_style = archr_style_barcodes)"
   ]
  },
  {
   "cell_type": "code",
   "execution_count": null,
   "id": "9b683acc-568d-4500-8187-a4a552170e60",
   "metadata": {},
   "outputs": [],
   "source": [
    "# Find Intersection & subset LSI\n",
    "bc_idx <- intersect(rownames(lsi), archr_style_barcodes)"
   ]
  },
  {
   "cell_type": "code",
   "execution_count": null,
   "id": "4f91893a-e983-4743-98fa-d980d4072744",
   "metadata": {},
   "outputs": [],
   "source": [
    "lsi_subset <- subset(lsi, subset = rownames(lsi) %in% bc_idx)\n",
    "bc_df_subset <- subset(bc_df, subset = bc_df$archr_style %in% bc_idx)\n",
    "length(rownames(lsi_subset))\n",
    "length(rownames(bc_df_subset))"
   ]
  },
  {
   "cell_type": "code",
   "execution_count": null,
   "id": "e9b969a0-019b-4792-a278-b2599b95d53d",
   "metadata": {},
   "outputs": [],
   "source": [
    "table(bc_df_subset$archr_style == rownames(lsi_subset))"
   ]
  },
  {
   "cell_type": "code",
   "execution_count": null,
   "id": "044467ca-342d-4a0e-a986-234beb5a9b53",
   "metadata": {},
   "outputs": [],
   "source": [
    "lsi_subset <- lsi_subset[match(bc_df_subset$archr_style, rownames(lsi_subset)),]"
   ]
  },
  {
   "cell_type": "code",
   "execution_count": null,
   "id": "bcad08d3-486b-408a-88ed-4127a6e9627c",
   "metadata": {},
   "outputs": [],
   "source": [
    "table(bc_df_subset$archr_style == rownames(lsi_subset))"
   ]
  },
  {
   "cell_type": "code",
   "execution_count": null,
   "id": "62449624-963a-41f2-b84b-1b92d4520181",
   "metadata": {},
   "outputs": [],
   "source": [
    "# replace LSI archr barcodes for seurat barcodes\n",
    "rownames(lsi_subset) <- bc_df_subset$seurat_bcs"
   ]
  },
  {
   "cell_type": "code",
   "execution_count": null,
   "id": "bdcf0898-c27f-40d0-8833-691ec37a994a",
   "metadata": {},
   "outputs": [],
   "source": [
    "cd4_na <- subset(cd4_na, cells = bc_df_subset$seurat_bcs)"
   ]
  },
  {
   "cell_type": "code",
   "execution_count": null,
   "id": "3989a641-8c6a-496a-ab3a-6144189d5261",
   "metadata": {},
   "outputs": [],
   "source": [
    "table(colnames(cd4_na[['RNA']]) == rownames(lsi_subset))"
   ]
  },
  {
   "cell_type": "code",
   "execution_count": null,
   "id": "84f791d0-cca1-4adc-9af6-3e5c07a96972",
   "metadata": {},
   "outputs": [],
   "source": [
    "cd4_na[[\"lsit\"]] <- CreateDimReducObject(embeddings = lsi_subset, key = \"lsit_\", assay = \"Tiles\")"
   ]
  },
  {
   "cell_type": "markdown",
   "id": "1d7f351d-74d1-4135-acab-46d3149a22ec",
   "metadata": {},
   "source": [
    "## ATAC clustering in Seurat Object"
   ]
  },
  {
   "cell_type": "code",
   "execution_count": null,
   "id": "b38605f4-71ac-4a34-a194-0671f51c1070",
   "metadata": {
    "scrolled": true,
    "tags": []
   },
   "outputs": [],
   "source": [
    "DefaultAssay(cd4_na) <- 'Tiles'\n",
    "cd4_na <- RunUMAP(cd4_na, reduction = 'lsit', reduction.name = 'atac_umap', dims = 1:29, verbose = T, reduction.key = 'atacumap_')"
   ]
  },
  {
   "cell_type": "code",
   "execution_count": null,
   "id": "583036bf-9cf0-440e-b562-12e82fb8b9f9",
   "metadata": {},
   "outputs": [],
   "source": [
    "options(repr.plot.width = 20, repr.plot.height = 10)\n",
    "p1 <- DimPlot(cd4_na, reduction = 'atac_umap', group.by = 'predicted.t_celltype.l2')\n",
    "p2 <- DimPlot(cd4_na, reduction = 'atac_umap', group.by = 'pediatric_senior')\n",
    "p3 <- DimPlot(cd4_na, reduction = 'atac_umap', group.by = 'age_cmv')\n",
    "p4 <- DimPlot(cd4_na, reduction = 'atac_umap', group.by = 'pbmc_sample_id')\n",
    "p1 + p2 + p3 + p4"
   ]
  },
  {
   "cell_type": "markdown",
   "id": "73ebb19a-befd-47ea-aeb3-a16387e43476",
   "metadata": {},
   "source": [
    "# 3WNN Clustering"
   ]
  },
  {
   "cell_type": "code",
   "execution_count": null,
   "id": "3d9847b8-7495-4ed9-befa-47892fb1c7bd",
   "metadata": {},
   "outputs": [],
   "source": [
    "cd4_na <- FindMultiModalNeighbors(cd4_na, reduction.list = list(\"rna_harmony\",\"adt_harmony\",'lsit'), dims.list = list(1:8,1:20,1:29), weighted.nn.name = \"X3way.weighted.nn\",\n",
    "                                      k.nn = 30, knn.range = 500, prune.SNN = 1/20) #previous 8,10,29"
   ]
  },
  {
   "cell_type": "code",
   "execution_count": null,
   "id": "0a5ae313-b536-4278-9379-4f72db249dbd",
   "metadata": {},
   "outputs": [],
   "source": [
    "cd4_na <- RunUMAP(cd4_na, nn.name = \"X3way.weighted.nn\", reduction.name = \"wnn.3.umap\", reduction.key = \"wnn.3.umap_\")"
   ]
  },
  {
   "cell_type": "code",
   "execution_count": null,
   "id": "a9787845-e7c8-4b69-9e68-54993dfb1134",
   "metadata": {},
   "outputs": [],
   "source": [
    "cd4_na <- FindClusters(cd4_na, graph.name = \"wsnn\", algorithm = 3, resolution = 0.3, verbose = TRUE)"
   ]
  },
  {
   "cell_type": "code",
   "execution_count": null,
   "id": "3d3e5a73-08de-4917-ab18-464ee6e26660",
   "metadata": {},
   "outputs": [],
   "source": [
    "options(repr.plot.width = 18, repr.plot.height = 15)\n",
    "p1 <- DimPlot(cd4_na, reduction = 'wnn.3.umap', group.by = 'wsnn_res.0.3', label = TRUE)\n",
    "p2 <- DimPlot(cd4_na, reduction = 'wnn.3.umap', group.by = 'pediatric_senior', shuffle = TRUE, cols = c('#1b9e77','#d95f02'))\n",
    "p3 <- DimPlot(cd4_na, reduction = 'wnn.3.umap', group.by = 'age_cmv')\n",
    "p4 <- DimPlot(cd4_na, reduction = 'wnn.3.umap', group.by = 'pbmc_sample_id', shuffle = TRUE)\n",
    "p1 + p2 + p3 + p4"
   ]
  },
  {
   "cell_type": "code",
   "execution_count": null,
   "id": "053f30a6-a1e7-4565-8fb6-ed947b35511c",
   "metadata": {},
   "outputs": [],
   "source": [
    "sort(table(cd4_na$`wsnn_res.0.3`), decreasing = TRUE)"
   ]
  },
  {
   "cell_type": "code",
   "execution_count": null,
   "id": "7919c6f7-4121-437d-b653-b5be36303174",
   "metadata": {},
   "outputs": [],
   "source": [
    "options(repr.plot.width = 20, repr.plot.height = 12)\n",
    "suppressMessages(FeaturePlot(cd4_na, features = c('sct_IFNG-AS1','sct_EDA','sct_SOX4','sct_FOXP3'), \n",
    "                             ncol = 2,reduction = 'wnn.3.umap', order = TRUE) & scale_color_viridis())"
   ]
  },
  {
   "cell_type": "markdown",
   "id": "c4002061-ae64-4ee0-bb54-eaa02e28a81f",
   "metadata": {},
   "source": [
    "# Clustree"
   ]
  },
  {
   "cell_type": "markdown",
   "id": "c4ad4428-530a-4a12-bfb5-09f9f5a43eaa",
   "metadata": {
    "tags": []
   },
   "source": [
    "## Setup"
   ]
  },
  {
   "cell_type": "code",
   "execution_count": null,
   "id": "fc99fe3f-091d-4181-b4c9-c4582d55eb05",
   "metadata": {},
   "outputs": [],
   "source": [
    "cd4_na <- FindClusters(cd4_na, graph.name = \"wsnn\", algorithm = 3, resolution = 0.1, verbose = TRUE)"
   ]
  },
  {
   "cell_type": "code",
   "execution_count": null,
   "id": "e57b7fa4-41e8-41e8-8a85-c78bbebb56b2",
   "metadata": {},
   "outputs": [],
   "source": [
    "cd4_na <- FindClusters(cd4_na, graph.name = \"wsnn\", algorithm = 3, resolution = 0.2, verbose = TRUE)"
   ]
  },
  {
   "cell_type": "code",
   "execution_count": null,
   "id": "42c9c01d-fa31-4eb7-8df7-8eaa1ed55212",
   "metadata": {},
   "outputs": [],
   "source": [
    "cd4_na <- FindClusters(cd4_na, graph.name = \"wsnn\", algorithm = 3, resolution = 0.4, verbose = TRUE)"
   ]
  },
  {
   "cell_type": "code",
   "execution_count": null,
   "id": "5940a685-26a9-4f21-a7be-585a02c48284",
   "metadata": {},
   "outputs": [],
   "source": [
    "cd4_na <- FindClusters(cd4_na, graph.name = \"wsnn\", algorithm = 3, resolution = 0.5, verbose = TRUE)"
   ]
  },
  {
   "cell_type": "code",
   "execution_count": null,
   "id": "9d074066-54eb-406a-a3a1-bc7a7ba32328",
   "metadata": {},
   "outputs": [],
   "source": [
    "cd4_na <- FindClusters(cd4_na, graph.name = \"wsnn\", algorithm = 3, resolution = 0.8, verbose = TRUE)"
   ]
  },
  {
   "cell_type": "code",
   "execution_count": null,
   "id": "9d313130-e951-4577-8d5c-0adb81417b9f",
   "metadata": {},
   "outputs": [],
   "source": [
    "library(clustree)"
   ]
  },
  {
   "cell_type": "markdown",
   "id": "a50c1c17-2136-44b9-8eb5-b3ae4a045354",
   "metadata": {},
   "source": [
    "## Plots"
   ]
  },
  {
   "cell_type": "code",
   "execution_count": null,
   "id": "f68be136-d624-4a50-8558-0e8b12eaa271",
   "metadata": {},
   "outputs": [],
   "source": [
    "options(repr.plot.width = 10, repr.plot.height = 8)\n",
    "clustree(cd4_na@meta.data, prefix = \"wsnn_res.\")"
   ]
  },
  {
   "cell_type": "code",
   "execution_count": null,
   "id": "95cc021d-6aca-46ea-b5c1-7bcc1884c9f1",
   "metadata": {},
   "outputs": [],
   "source": [
    "options(repr.plot.width = 18, repr.plot.height = 15)\n",
    "p1 <- DimPlot(cd4_na, reduction = 'wnn.3.umap', group.by = 'wsnn_res.0.1', label = TRUE)\n",
    "p2 <- DimPlot(cd4_na, reduction = 'wnn.3.umap', group.by = 'wsnn_res.0.2', shuffle = TRUE, label = TRUE)\n",
    "p3 <- DimPlot(cd4_na, reduction = 'wnn.3.umap', group.by = 'wsnn_res.0.3', shuffle = TRUE, label = TRUE)\n",
    "p4 <- DimPlot(cd4_na, reduction = 'wnn.3.umap', group.by = 'wsnn_res.0.5', shuffle = TRUE, label = TRUE)\n",
    "p1 + p2 + p3 + p4"
   ]
  },
  {
   "cell_type": "code",
   "execution_count": null,
   "id": "d349e122-075b-4312-b75d-51b0c4efcf05",
   "metadata": {},
   "outputs": [],
   "source": [
    "table(cd4_na$wsnn_res.0.3)"
   ]
  },
  {
   "cell_type": "markdown",
   "id": "f4c950d1-cca2-4807-a6e4-3cbedf2c63d7",
   "metadata": {},
   "source": [
    "# Save "
   ]
  },
  {
   "cell_type": "code",
   "execution_count": null,
   "id": "c5eaca28-b354-4349-9f77-d52b5363218f",
   "metadata": {},
   "outputs": [],
   "source": [
    "saveRDS(cd4_na, file = 'cd4_naive_processed.rds')"
   ]
  },
  {
   "cell_type": "code",
   "execution_count": null,
   "id": "deadeb85-1222-4147-a59b-0d34f904c720",
   "metadata": {},
   "outputs": [],
   "source": [
    "sessionInfo()"
   ]
  }
 ],
 "metadata": {
  "kernelspec": {
   "display_name": "R 4",
   "language": "R",
   "name": "ir"
  },
  "language_info": {
   "codemirror_mode": "r",
   "file_extension": ".r",
   "mimetype": "text/x-r-source",
   "name": "R",
   "pygments_lexer": "r",
   "version": "4.1.2"
  }
 },
 "nbformat": 4,
 "nbformat_minor": 5
}
