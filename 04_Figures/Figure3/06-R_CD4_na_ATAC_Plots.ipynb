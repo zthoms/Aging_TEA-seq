{
 "cells": [
  {
   "cell_type": "code",
   "execution_count": null,
   "id": "2f873602-e507-412f-8fbb-05d27a247139",
   "metadata": {},
   "outputs": [],
   "source": [
    "quiet_library <- function(...) { suppressPackageStartupMessages(library(...)) }\n",
    "quiet_library(ArchR)\n",
    "quiet_library(hise)\n",
    "quiet_library(Seurat)\n",
    "quiet_library(ggplot2)\n",
    "quiet_library(Matrix)\n",
    "quiet_library(H5weaver)\n",
    "quiet_library(dplyr)\n",
    "#quiet_library(viridis)\n",
    "#quiet_library(harmony)\n",
    "#quiet_library(Nebulosa)\n",
    "quiet_library(stringr)"
   ]
  },
  {
   "cell_type": "code",
   "execution_count": null,
   "id": "d068b42a-1345-4bdd-8843-ef97d86e69ec",
   "metadata": {},
   "outputs": [],
   "source": [
    "addArchRThreads(32)\n",
    "addArchRGenome(\"hg38\")"
   ]
  },
  {
   "cell_type": "code",
   "execution_count": null,
   "id": "10a182e9-73cf-48c1-b8e7-23c9294742c7",
   "metadata": {},
   "outputs": [],
   "source": [
    "proj_subset <- loadArchRProject(path = 'ATAC/')\n",
    "proj_subset"
   ]
  },
  {
   "cell_type": "markdown",
   "id": "b4f80d5d-3f17-4122-82f9-5ac0f67facee",
   "metadata": {},
   "source": [
    "# TF Volcano Plot"
   ]
  },
  {
   "cell_type": "code",
   "execution_count": null,
   "id": "8c56a759-74dc-4f46-ad1d-1def214cd11e",
   "metadata": {
    "scrolled": true,
    "tags": []
   },
   "outputs": [],
   "source": [
    "markerPeaks_na <- getMarkerFeatures(proj_subset, groupBy = \"age_celltype\", useGroups = \"Pediatric_CD4 Naive\", bgdGroups = \"Senior_CD4 Naive\", maxCells = 10000,\n",
    "useMatrix = \"PeakMatrix\")"
   ]
  },
  {
   "cell_type": "code",
   "execution_count": null,
   "id": "1236e6f9-8fa1-4b26-9777-480bc4022d8d",
   "metadata": {},
   "outputs": [],
   "source": [
    "cisbpEnrich1 <- peakAnnoEnrichment(\n",
    "seMarker = markerPeaks_na,\n",
    "ArchRProj = proj_subset,\n",
    "peakAnnotation = \"Motif\",\n",
    "cutOff = \"FDR <= 0.1 & Log2FC < 0\"\n",
    ")"
   ]
  },
  {
   "cell_type": "code",
   "execution_count": null,
   "id": "1aa63e93-209d-49ed-8cee-529a747abd44",
   "metadata": {},
   "outputs": [],
   "source": [
    "cisbprEnrich2 <- peakAnnoEnrichment(\n",
    "seMarker = markerPeaks_na,\n",
    "ArchRProj = proj_subset,\n",
    "peakAnnotation = \"Motif\",\n",
    "cutOff = \"FDR <= 0.1 & Log2FC >= 0\"\n",
    ")"
   ]
  },
  {
   "cell_type": "code",
   "execution_count": null,
   "id": "c3dffd06-3d1d-4ba9-9625-98d3961ef957",
   "metadata": {},
   "outputs": [],
   "source": [
    "JDF1 <- as.data.frame(assays(cisbpEnrich1)) %>% mutate(TF = gsub(\"_.*\", \"\", rownames(.))) %>%\n",
    "tidyr::pivot_wider(id_cols = TF, names_from = group_name, values_from=value) %>%\n",
    "mutate(Enrichment = -as.numeric(Enrichment), mlog10Padj = as.numeric(mlog10Padj), Group = \"Adult CD4Na\")"
   ]
  },
  {
   "cell_type": "code",
   "execution_count": null,
   "id": "60170226-73ed-4d98-baa4-9810859762ec",
   "metadata": {},
   "outputs": [],
   "source": [
    "JDF2 <- as.data.frame(assays(cisbprEnrich2)) %>% mutate(TF = gsub(\"_.*\", \"\", rownames(.))) %>%\n",
    "tidyr::pivot_wider(id_cols = TF, names_from = group_name, values_from=value) %>%\n",
    "mutate(Enrichment = as.numeric(Enrichment), mlog10Padj = as.numeric(mlog10Padj), Group = \"Pediatric CD4Na\")"
   ]
  },
  {
   "cell_type": "code",
   "execution_count": null,
   "id": "e2352b22-2b47-4de9-bb3e-7c2d64bdf7c9",
   "metadata": {},
   "outputs": [],
   "source": [
    "volcano_motif_list <- c('BATF3','BATF','NFATC2','NFATC3','NFATC4','HOXB4','HOXC4','HOXD4','IRF8','IRF4','IRF7','SP1','SP4','SP9','KLF14','KLF3','KLF2',\n",
    "                       'ETV1','ETV2','RELA','CREB1','ATF1','IKZF1','SPIB','SPI1','NFKB1','NFKB2','SOX10','SOX4','ATF3','ATF7','CREM','TCFL5')"
   ]
  },
  {
   "cell_type": "code",
   "execution_count": null,
   "id": "0f2bdc36-436e-4cc0-8389-9782c383e865",
   "metadata": {},
   "outputs": [],
   "source": [
    "# JDF <- rbind(JDF1, JDF2) %>% mutate(delabel = ifelse(abs(Enrichment) > 1 & mlog10Padj > 15, TF, NA))\n",
    "JDF <- rbind(JDF1, JDF2) %>% mutate(delabel = ifelse(TF %in% volcano_motif_list & abs(Enrichment) > 1 & mlog10Padj > 3, TF,NA))"
   ]
  },
  {
   "cell_type": "code",
   "execution_count": null,
   "id": "9b9b9475-c1e2-4fdb-8c6d-b1b14ee74a25",
   "metadata": {},
   "outputs": [],
   "source": [
    "JDF <- mutate(JDF, test = ifelse(abs(Enrichment) > 1 & mlog10Padj > 5,Group,paste0(Group, '_NA')))"
   ]
  },
  {
   "cell_type": "code",
   "execution_count": null,
   "id": "be2527e4-8ccc-41d2-8bfa-c8a9dd2b0c8c",
   "metadata": {},
   "outputs": [],
   "source": [
    "JDF <- mutate(JDF, test2 = ifelse(TF %in% volcano_motif_list & abs(Enrichment) > 1 & mlog10Padj > 5, 'Special','Not Special'))"
   ]
  },
  {
   "cell_type": "code",
   "execution_count": null,
   "id": "a1424e92-52a3-40a4-8d7d-976838c502e3",
   "metadata": {},
   "outputs": [],
   "source": [
    "head(JDF)"
   ]
  },
  {
   "cell_type": "code",
   "execution_count": null,
   "id": "4011924d-2658-4de2-8b00-a73d88259931",
   "metadata": {},
   "outputs": [],
   "source": [
    "library(ggrepel)\n",
    "library(scales)\n",
    "squish_trans <- function(from, to, factor) {\n",
    "  \n",
    "  trans <- function(x) {\n",
    "    \n",
    "    if (any(is.na(x))) return(x)\n",
    "\n",
    "    # get indices for the relevant regions\n",
    "    isq <- x > from & x < to\n",
    "    ito <- x >= to\n",
    "    \n",
    "    # apply transformation\n",
    "    x[isq] <- from + (x[isq] - from)/factor\n",
    "    x[ito] <- from + (to - from)/factor + (x[ito] - to)\n",
    "    \n",
    "    return(x)\n",
    "  }\n",
    "\n",
    "  inv <- function(x) {\n",
    "    \n",
    "    if (any(is.na(x))) return(x)\n",
    "\n",
    "    # get indices for the relevant regions\n",
    "    isq <- x > from & x < from + (to - from)/factor\n",
    "    ito <- x >= from + (to - from)/factor\n",
    "    \n",
    "    # apply transformation\n",
    "    x[isq] <- from + (x[isq] - from) * factor\n",
    "    x[ito] <- to + (x[ito] - (from + (to - from)/factor))\n",
    "    \n",
    "    return(x)\n",
    "  }\n",
    "  \n",
    "  # return the transformation\n",
    "  return(trans_new(\"squished\", trans, inv))\n",
    "}"
   ]
  },
  {
   "cell_type": "code",
   "execution_count": null,
   "id": "c07d22d9-f0fd-4121-beb5-aee08230beb5",
   "metadata": {},
   "outputs": [],
   "source": [
    "options(repr.plot.width = 14, repr.plot.height = 8)\n",
    "ggplot(JDF, aes(x = Enrichment, y= mlog10Padj, label=delabel)) + geom_point(aes(color = test, size = test2)) + theme_minimal() +\n",
    "geom_vline(xintercept=c(-1, 1), col=\"red\") +\n",
    "scale_color_manual(values = c('#d95f02','gray','#1b9e77','gray')) +\n",
    "geom_hline(yintercept=5, col=\"red\") + ggtitle(\"CISBP Motif Enrichment of CD4Na Age\") +\n",
    "coord_cartesian(clip = \"off\") + scale_x_continuous(trans = squish_trans(-1,1,20),\n",
    "                                                    breaks = c(-1.5,-1.25,-1,0,1,1.25,1.5),\n",
    "                                                    labels = c(-1.5,-1.25,-1,0,1,1.25,1.5)) +\n",
    "geom_text_repel(box.padding = 0.5, max.overlaps = 20,xlim = c(-Inf, Inf), ylim = c(-Inf, Inf), size = 7) +\n",
    "ylab(\"- Log of Adjusted P Value\") + xlab(\"Enrichment in either Positive or Negative Different Peakset\") +\n",
    "theme(plot.margin = unit(c(2,5,2,15),\"mm\"),\n",
    "      panel.border = element_rect(colour = 'black', fill = NA, size = 0.5))"
   ]
  },
  {
   "cell_type": "code",
   "execution_count": null,
   "id": "09013288-57cf-4aa0-a95f-9283ef47782a",
   "metadata": {},
   "outputs": [],
   "source": [
    "options(repr.plot.width = 11.5, repr.plot.height = 10)\n",
    "ggplot(JDF, aes(x = Enrichment, y= mlog10Padj, label=delabel)) + geom_point(aes(color = test, size = test2)) + theme_minimal() +\n",
    "# geom_vline(xintercept=c(-1, 1), col=\"red\") + \n",
    "scale_color_manual(values = c('#d95f02','gray','#1b9e77','gray')) +\n",
    "# geom_hline(yintercept=5, col=\"red\") + \n",
    "ggtitle(\"JASPAR Motif Enrichment of CD4 Naive Cell States\") +\n",
    "coord_cartesian(clip = \"off\") +  scale_x_continuous(trans = squish_trans(-1,1,20),\n",
    "                                                    breaks = c(-1.5,-1.25,-1,0,1,1.25,1.5),\n",
    "                                                    labels = c(-1.5,-1.25,-1,0,1,1.25,1.5)) + \n",
    "geom_text_repel(max.overlaps = Inf,xlim = c(-Inf, Inf), ylim = c(-Inf, Inf), size = 6) +\n",
    "ylab(\"- Log of Adjusted P Value\") + xlab(\"Enrichment in either Positive or Negative Different Peakset\") +\n",
    "theme(plot.margin = unit(c(2,5,2,15),\"mm\"),\n",
    "      panel.border = element_rect(colour = 'black', fill = NA, size = 0.5))"
   ]
  },
  {
   "cell_type": "code",
   "execution_count": null,
   "id": "a03556f5-c73b-4f79-b712-c356a9ad353e",
   "metadata": {},
   "outputs": [],
   "source": [
    "# Open a pdf file\n",
    "pdf(\"plots/cd4na_age_volcano.pdf\", width = 11.5, height = 10) \n",
    "# 2. Create a plot\n",
    "ggplot(JDF, aes(x = Enrichment, y= mlog10Padj, label=delabel)) + geom_point(aes(color = test, size = test2)) + theme_minimal() +\n",
    "# geom_vline(xintercept=c(-1, 1), col=\"red\") + \n",
    "scale_color_manual(values = c('#d95f02','gray','#1b9e77','gray')) +\n",
    "# geom_hline(yintercept=5, col=\"red\") + \n",
    "ggtitle(\"JASPAR Motif Enrichment of CD4 Naive Cell States\") +\n",
    "coord_cartesian(clip = \"off\") +  scale_x_continuous(trans = squish_trans(-1,1,20),\n",
    "                                                    breaks = c(-1.5,-1.25,-1,0,1,1.25,1.5),\n",
    "                                                    labels = c(-1.5,-1.25,-1,0,1,1.25,1.5)) + \n",
    "geom_text_repel(max.overlaps = Inf,xlim = c(-Inf, Inf), ylim = c(-Inf, Inf), size = 6) +\n",
    "ylab(\"- Log of Adjusted P Value\") + xlab(\"Enrichment in either Positive or Negative Different Peakset\") +\n",
    "theme(plot.margin = unit(c(2,5,2,15),\"mm\"),\n",
    "      panel.border = element_rect(colour = 'black', fill = NA, size = 0.5))\n",
    "# Close the pdf file\n",
    "dev.off() "
   ]
  },
  {
   "cell_type": "markdown",
   "id": "bf9a6848-df55-4e0e-abaa-7b99812a6282",
   "metadata": {},
   "source": [
    "## Marker Peaks by Age"
   ]
  },
  {
   "cell_type": "code",
   "execution_count": null,
   "id": "26bf8ea1-bb10-42fd-b78f-786ba8fd57ab",
   "metadata": {},
   "outputs": [],
   "source": [
    "table(proj_subset$age_celltype)"
   ]
  },
  {
   "cell_type": "code",
   "execution_count": null,
   "id": "27c98660-12f9-4b90-92b2-c1dbd206da79",
   "metadata": {
    "scrolled": true,
    "tags": []
   },
   "outputs": [],
   "source": [
    "markerPeaks_na <- getMarkerFeatures(proj_subset, groupBy = \"age_celltype\", useGroups = \"Pediatric_CD4 Naive\", bgdGroups = \"Senior_CD4 Naive\", maxCells = 1000,\n",
    "useMatrix = \"PeakMatrix\")"
   ]
  },
  {
   "cell_type": "code",
   "execution_count": null,
   "id": "d2746e44-4a08-4dad-8202-e8e5cc965441",
   "metadata": {
    "scrolled": true,
    "tags": []
   },
   "outputs": [],
   "source": [
    "markerPeaks_scm <- getMarkerFeatures(proj_subset, groupBy = \"age_celltype\", useGroups = \"Pediatric_CD4 SCM\", bgdGroups = \"Senior_CD4 SCM\", maxCells = 1000,\n",
    "useMatrix = \"PeakMatrix\")"
   ]
  },
  {
   "cell_type": "code",
   "execution_count": null,
   "id": "ed0ce32d-4169-4dc3-99db-e0f5a0286dfe",
   "metadata": {
    "scrolled": true,
    "tags": []
   },
   "outputs": [],
   "source": [
    "markerPeaks_treg <- getMarkerFeatures(proj_subset, groupBy = \"age_celltype\", useGroups = \"Pediatric_CD25neg Treg\", bgdGroups = \"Senior_CD25neg Treg\", maxCells = 1000,\n",
    "useMatrix = \"PeakMatrix\")"
   ]
  },
  {
   "cell_type": "code",
   "execution_count": null,
   "id": "6f94f1e8-2624-499c-a61d-383e46f9e07f",
   "metadata": {},
   "outputs": [],
   "source": [
    "na_markerList <- getMarkers(markerPeaks_na, cutOff = \"FDR <= 0.1 & Log2FC >= 0.5\")\n",
    "scm_markerList <- getMarkers(markerPeaks_scm, cutOff = \"FDR <= 0.1 & Log2FC >= 0.5\")\n",
    "treg_markerList <- getMarkers(markerPeaks_treg, cutOff = \"FDR <= 0.1 & Log2FC >= 0.5\")"
   ]
  },
  {
   "cell_type": "code",
   "execution_count": null,
   "id": "95a66569-9005-47dc-8462-207dbf616b6b",
   "metadata": {},
   "outputs": [],
   "source": [
    "head(na_markerList$`Pediatric_CD4 Naive`)"
   ]
  },
  {
   "cell_type": "code",
   "execution_count": null,
   "id": "0f4db6fe-0dee-4edb-8e23-3e4316ae2f05",
   "metadata": {},
   "outputs": [],
   "source": [
    "na_peaks <- paste0(na_markerList$`Pediatric_CD4 Naive`$seqnames,\"_\",na_markerList$`Pediatric_CD4 Naive`$start)\n",
    "scm_peaks <- paste0(scm_markerList$`Pediatric_CD4 SCM`$seqnames,\"_\",scm_markerList$`Pediatric_CD4 SCM`$start)\n",
    "treg_peaks <- paste0(treg_markerList$`Pediatric_CD25neg Treg`$seqnames,\"_\",treg_markerList$`Pediatric_CD25neg Treg`$start)"
   ]
  },
  {
   "cell_type": "code",
   "execution_count": null,
   "id": "7c75e02b-5092-49bc-8cbd-212b56dde753",
   "metadata": {},
   "outputs": [],
   "source": [
    "library(UpSetR)"
   ]
  },
  {
   "cell_type": "code",
   "execution_count": null,
   "id": "86069bf6-a6c9-45a2-972f-4b1da70b7718",
   "metadata": {},
   "outputs": [],
   "source": [
    "listInput <- list(Naive = na_peaks, SCM = scm_peaks, Treg = treg_peaks)"
   ]
  },
  {
   "cell_type": "code",
   "execution_count": null,
   "id": "6f8c1571-7ea9-44f7-a94c-6f8197f50288",
   "metadata": {},
   "outputs": [],
   "source": [
    "options(repr.plot.width = 10, repr.plot.height = 5)\n",
    "upset(fromList(listInput), order.by = \"freq\", text.scale = 2)"
   ]
  },
  {
   "cell_type": "code",
   "execution_count": null,
   "id": "e3770111-bfc6-4ff9-8b99-79f3fb731045",
   "metadata": {},
   "outputs": [],
   "source": [
    "# Open a pdf file\n",
    "pdf(\"plots/dap_upset_plot.pdf\", width = 10, height = 5) \n",
    "# 2. Create a plot\n",
    "upset(fromList(listInput), order.by = \"freq\", text.scale = 2)\n",
    "# Close the pdf file\n",
    "dev.off() "
   ]
  },
  {
   "cell_type": "markdown",
   "id": "a81ebfee-32a3-4b8a-87f0-738d88fa563f",
   "metadata": {},
   "source": [
    "# ChromVar Plots"
   ]
  },
  {
   "cell_type": "markdown",
   "id": "8335a2e8-4aec-4a31-b255-cdc461d8ba21",
   "metadata": {},
   "source": [
    "### Add WNN UMAP to ArchR Project"
   ]
  },
  {
   "cell_type": "code",
   "execution_count": null,
   "id": "a8cbd90f-81eb-459e-804d-84a6bb88ca8a",
   "metadata": {},
   "outputs": [],
   "source": [
    "cd4_na <- readRDS(file = 'cd4_na_labeled.rds')"
   ]
  },
  {
   "cell_type": "code",
   "execution_count": null,
   "id": "d4a1a76c-23ba-416d-8e32-05099514e80f",
   "metadata": {},
   "outputs": [],
   "source": [
    "addEmbedding <- function(ArchRProj= NULL, name= NULL, type = \"Generic\", dfEmbedding = NULL,model= NULL, modelName= NULL, embeddingParams= NULL){\n",
    "\n",
    "\tif(any(! rownames(dfEmbedding) %in% getCellNames(ArchRProj))){\n",
    "\t\tstop(\"All cell names for the embedding dataframe must be present in the ArchR  Project\")\n",
    "\t}\n",
    "\t\n",
    "\tif(!is.null(model)){\n",
    "\t\tdir <- getOutputDirectory(ArchRProj)\n",
    "\t\troute <- paste(dir,\"/Embeddings/\",modelName,\".rds\",sep = \"\")\n",
    "\n",
    "\t\tsaveRDS(model, file = route)\n",
    "\t}else{\n",
    "\n",
    "\t\troute = NA\n",
    "\n",
    "\t}\n",
    "\n",
    "\tcolnames(dfEmbedding) = paste(type,colnames(dfEmbedding),sep = \"#\")\n",
    "\t\n",
    "\tif(!is.null(embeddingParams)){\n",
    "\n",
    "\t\tArchRProj@embeddings[[name]] <- SimpleList(\n",
    "      \t\t\tdf = dfEmbedding, \n",
    "      \t\t\tparams = c(\n",
    "        \t\tembeddingParams,\n",
    "        \t\tdimsToUse = dimsToUse,\n",
    "        \t\tscaleDims = scaleDims,\n",
    "        \t\tcorCutOff = corCutOff,\n",
    "        \t\tnr=nr,\n",
    "        \t\tnc=nc,\n",
    "        \t\tuwotModel = route,\n",
    "        \t\testimateUMAP = estimateUMAP,\n",
    "        \t\tprojectID = projectDF))\n",
    "\t}else{\n",
    "\t\tArchRProj@embeddings[[name]] <- SimpleList(\n",
    "      \t\t\tdf = dfEmbedding)\n",
    "\t}\n",
    "\n",
    "\treturn(ArchRProj)\n",
    "}"
   ]
  },
  {
   "cell_type": "code",
   "execution_count": null,
   "id": "f15f500f-abc8-41c6-b389-a5a1f4f79c54",
   "metadata": {},
   "outputs": [],
   "source": [
    "wnn_umap <- cd4_na@reductions$wnn.3.umap@cell.embeddings\n",
    "rownames(wnn_umap) <- paste(cd4_na$batch_id, \"-P1_\",cd4_na$pbmc_sample_id,\"#\",rownames(wnn_umap), sep = \"\")\n",
    "head(wnn_umap)"
   ]
  },
  {
   "cell_type": "code",
   "execution_count": null,
   "id": "d29767d7-86ff-4f8c-afca-6b37caa737fa",
   "metadata": {},
   "outputs": [],
   "source": [
    "table(rownames(wnn_umap) %in% proj_subset$cellNames)\n",
    "table(rownames(wnn_umap) == proj_subset$cellNames)"
   ]
  },
  {
   "cell_type": "code",
   "execution_count": null,
   "id": "7e7bbfa0-4534-47db-b380-f32682795427",
   "metadata": {},
   "outputs": [],
   "source": [
    "wnn_umap_ordered <- wnn_umap[match(proj_subset$cellNames, rownames(wnn_umap)),]"
   ]
  },
  {
   "cell_type": "code",
   "execution_count": null,
   "id": "c44510c0-5646-4f1f-a4a7-73d3e79e7ad8",
   "metadata": {},
   "outputs": [],
   "source": [
    "table(rownames(wnn_umap_ordered) == proj_subset$cellNames)"
   ]
  },
  {
   "cell_type": "code",
   "execution_count": null,
   "id": "464722c1-d079-4b3c-a593-6fad4641e2b7",
   "metadata": {},
   "outputs": [],
   "source": [
    "proj_subset <- addEmbedding(ArchRProj = proj_subset, name = 'WNN_UMAP', dfEmbedding = wnn_umap_ordered)"
   ]
  },
  {
   "cell_type": "code",
   "execution_count": null,
   "id": "e9c59ec9-8a68-49a9-9ce9-1e812a1966fd",
   "metadata": {},
   "outputs": [],
   "source": [
    "motifs <- c('CREM','ATF7','TCFL5','KLF15','IRF8','SP1','SOX4','SOX10','FOXP1')\n",
    "markerMotifs <- getFeatures(proj_subset, select = paste(motifs, collapse=\"|\"), useMatrix = \"MotifMatrix\")\n",
    "markerMotifs"
   ]
  },
  {
   "cell_type": "code",
   "execution_count": null,
   "id": "563715f2-73b4-4cf0-bb69-bdab15cf9b02",
   "metadata": {},
   "outputs": [],
   "source": [
    "markerMotifs <- grep(\"z:\", markerMotifs, value = TRUE)\n",
    "# markerMotifs <- markerMotifs[markerMotifs %ni% \"z:SREBF1_22\"]\n",
    "markerMotifs"
   ]
  },
  {
   "cell_type": "code",
   "execution_count": null,
   "id": "f1213418-694f-488f-96d0-31a7af22c8e8",
   "metadata": {},
   "outputs": [],
   "source": [
    "proj_subset <- addImputeWeights(proj_subset)"
   ]
  },
  {
   "cell_type": "code",
   "execution_count": null,
   "id": "0e65add4-3fa7-4518-9490-bd23aa2e4945",
   "metadata": {
    "scrolled": true,
    "tags": []
   },
   "outputs": [],
   "source": [
    "options(repr.plot.width = 16, repr.plot.height = 8)\n",
    "p <- plotEmbedding(\n",
    "    ArchRProj = proj_subset, \n",
    "    colorBy = \"MotifMatrix\", \n",
    "    name = sort(markerMotifs), \n",
    "    embedding = \"WNN_UMAP\",\n",
    "    imputeWeights = getImputeWeights(proj_subset)\n",
    ")"
   ]
  },
  {
   "cell_type": "code",
   "execution_count": null,
   "id": "45a2f1e3-e8f8-4263-af7d-6a06fd198a59",
   "metadata": {},
   "outputs": [],
   "source": [
    "options(repr.plot.width = 18, repr.plot.height = 12)\n",
    "p2 <- lapply(p, function(x){\n",
    "    x + guides(color = FALSE, fill = FALSE) + \n",
    "    theme_ArchR(baseSize = 6.5) +\n",
    "    theme(plot.margin = unit(c(0, 0, 0, 0), \"cm\")) +\n",
    "    theme(\n",
    "        axis.text.x=element_blank(), \n",
    "        axis.ticks.x=element_blank(), \n",
    "        axis.text.y=element_blank(), \n",
    "        axis.ticks.y=element_blank()\n",
    "    )\n",
    "})\n",
    "do.call(cowplot::plot_grid, c(list(ncol = 3),p2))"
   ]
  },
  {
   "cell_type": "code",
   "execution_count": null,
   "id": "230b23ff-eb61-43b2-a2d2-aeba698c1b82",
   "metadata": {},
   "outputs": [],
   "source": [
    "options(repr.plot.width = 6, repr.plot.height = 6)\n",
    "p[[1]]"
   ]
  },
  {
   "cell_type": "code",
   "execution_count": null,
   "id": "45ce8d54-5911-40d6-b050-21f90b050927",
   "metadata": {},
   "outputs": [],
   "source": [
    "# Open a pdf file\n",
    "pdf(\"plots/ATF7_chromvar.pdf\", width = 6, height = 6) \n",
    "# 2. Create a plot\n",
    "p[[1]]\n",
    "# Close the pdf file\n",
    "dev.off() "
   ]
  },
  {
   "cell_type": "code",
   "execution_count": null,
   "id": "ccbf7e7f-e2be-471a-b11c-666a387704ec",
   "metadata": {},
   "outputs": [],
   "source": [
    "# Open a pdf file\n",
    "pdf(\"plots/CREM_chromvar.pdf\", width = 6, height = 6) \n",
    "# 2. Create a plot\n",
    "p[[2]]\n",
    "# Close the pdf file\n",
    "dev.off() "
   ]
  },
  {
   "cell_type": "code",
   "execution_count": null,
   "id": "be34c795-90ff-493f-91a0-ece211d120cb",
   "metadata": {},
   "outputs": [],
   "source": [
    "# Open a pdf file\n",
    "pdf(\"plots/FOXP1_chromvar.pdf\", width = 6, height = 6) \n",
    "# 2. Create a plot\n",
    "p[[3]]\n",
    "# Close the pdf file\n",
    "dev.off() "
   ]
  },
  {
   "cell_type": "code",
   "execution_count": null,
   "id": "8d02c5ec-38d8-4bad-8a64-ed4e7d13cf80",
   "metadata": {},
   "outputs": [],
   "source": [
    "# Open a pdf file\n",
    "pdf(\"plots/IRF8_chromvar.pdf\", width = 6, height = 6) \n",
    "# 2. Create a plot\n",
    "p[[4]]\n",
    "# Close the pdf file\n",
    "dev.off() "
   ]
  },
  {
   "cell_type": "code",
   "execution_count": null,
   "id": "0c5def58-2aaf-431a-98f6-6225d90470ba",
   "metadata": {},
   "outputs": [],
   "source": [
    "# Open a pdf file\n",
    "pdf(\"plots/KLF15_chromvar.pdf\", width = 6, height = 6) \n",
    "# 2. Create a plot\n",
    "p[[5]]\n",
    "# Close the pdf file\n",
    "dev.off() "
   ]
  },
  {
   "cell_type": "code",
   "execution_count": null,
   "id": "ee754414-200e-4481-b1b7-ff16a3267edd",
   "metadata": {},
   "outputs": [],
   "source": [
    "# Open a pdf file\n",
    "pdf(\"plots/SOX10_chromvar.pdf\", width = 6, height = 6) \n",
    "# 2. Create a plot\n",
    "p[[6]]\n",
    "# Close the pdf file\n",
    "dev.off() "
   ]
  },
  {
   "cell_type": "code",
   "execution_count": null,
   "id": "d958562c-ce46-419e-9d0c-f91eea23762f",
   "metadata": {},
   "outputs": [],
   "source": [
    "# Open a pdf file\n",
    "pdf(\"plots/SOX4_chromvar.pdf\", width = 6, height = 6) \n",
    "# 2. Create a plot\n",
    "p[[7]]\n",
    "# Close the pdf file\n",
    "dev.off() "
   ]
  },
  {
   "cell_type": "code",
   "execution_count": null,
   "id": "5c4f8b1a-1da4-4543-8374-b6dda7fd5860",
   "metadata": {},
   "outputs": [],
   "source": [
    "# Open a pdf file\n",
    "pdf(\"plots/SP1_chromvar.pdf\", width = 6, height = 6) \n",
    "# 2. Create a plot\n",
    "p[[8]]\n",
    "# Close the pdf file\n",
    "dev.off() "
   ]
  },
  {
   "cell_type": "code",
   "execution_count": null,
   "id": "431e8c8b-8785-4a78-8568-f8385a906013",
   "metadata": {},
   "outputs": [],
   "source": [
    "# Open a pdf file\n",
    "pdf(\"plots/TCFL5_chromvar.pdf\", width = 6, height = 6) \n",
    "# 2. Create a plot\n",
    "p[[9]]\n",
    "# Close the pdf file\n",
    "dev.off() "
   ]
  },
  {
   "cell_type": "code",
   "execution_count": null,
   "id": "b5aeb4cd-c057-4a46-a939-2eb69aacaa25",
   "metadata": {},
   "outputs": [],
   "source": [
    "motifs <- c('TCF7')\n",
    "markerMotifs <- getFeatures(proj_subset, select = paste(motifs, collapse=\"|\"), useMatrix = \"MotifMatrix\")\n",
    "markerMotifs"
   ]
  },
  {
   "cell_type": "code",
   "execution_count": null,
   "id": "6c830d4b-e8da-4905-8361-313758ac7b7b",
   "metadata": {},
   "outputs": [],
   "source": [
    "markerMotifs <- grep(\"z:\", markerMotifs, value = TRUE)\n",
    "# markerMotifs <- markerMotifs[markerMotifs %ni% \"z:SREBF1_22\"]\n",
    "markerMotifs"
   ]
  },
  {
   "cell_type": "code",
   "execution_count": null,
   "id": "d6005195-4bfa-45b9-bd79-c1ec2219b9d9",
   "metadata": {
    "scrolled": true,
    "tags": []
   },
   "outputs": [],
   "source": [
    "options(repr.plot.width = 8, repr.plot.height = 8)\n",
    "p <- plotEmbedding(\n",
    "    ArchRProj = proj_subset, \n",
    "    colorBy = \"MotifMatrix\", \n",
    "    name = sort(markerMotifs), \n",
    "    embedding = \"WNN_UMAP\",\n",
    "    imputeWeights = getImputeWeights(proj_subset)\n",
    ")"
   ]
  },
  {
   "cell_type": "code",
   "execution_count": null,
   "id": "9a12098c-42d8-4c9d-8282-ff295a0986d8",
   "metadata": {},
   "outputs": [],
   "source": [
    "p"
   ]
  }
 ],
 "metadata": {
  "kernelspec": {
   "display_name": "R 4",
   "language": "R",
   "name": "ir"
  },
  "language_info": {
   "codemirror_mode": "r",
   "file_extension": ".r",
   "mimetype": "text/x-r-source",
   "name": "R",
   "pygments_lexer": "r",
   "version": "4.1.2"
  }
 },
 "nbformat": 4,
 "nbformat_minor": 5
}
