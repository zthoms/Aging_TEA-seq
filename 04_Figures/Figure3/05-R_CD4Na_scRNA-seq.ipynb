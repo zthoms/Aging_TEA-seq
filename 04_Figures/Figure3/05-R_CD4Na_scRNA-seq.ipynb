{
 "cells": [
  {
   "cell_type": "code",
   "execution_count": null,
   "id": "2f5a7075-d918-4ca2-8866-9234cdabf2b1",
   "metadata": {},
   "outputs": [],
   "source": [
    "quiet_library <- function(...) {\n",
    "    suppressPackageStartupMessages(library(...))\n",
    "}\n",
    "quiet_library(Seurat)\n",
    "quiet_library(ggplot2)\n",
    "quiet_library(Matrix)\n",
    "quiet_library(H5weaver)\n",
    "quiet_library(dplyr)\n",
    "quiet_library(viridis)\n",
    "quiet_library(harmony)\n",
    "# quiet_library(Nebulosa)"
   ]
  },
  {
   "cell_type": "code",
   "execution_count": null,
   "id": "f3c466a0-f2e5-4b9d-ae6b-78be38c4c22d",
   "metadata": {},
   "outputs": [],
   "source": [
    "t_cells <- readRDS('../../03_scRNA_Comparisons/Pipeline/clean_aging_t_cells.rds')"
   ]
  },
  {
   "cell_type": "markdown",
   "id": "67a322c4-7e9c-42b0-85d3-1925908643e2",
   "metadata": {},
   "source": [
    "# Pipeline CD4NA"
   ]
  },
  {
   "cell_type": "code",
   "execution_count": null,
   "id": "dc2fb034-076a-4770-b741-908aebaace63",
   "metadata": {},
   "outputs": [],
   "source": [
    "t_cells <- SetIdent(t_cells, value = 'predicted.celltype.l2')\n",
    "cd4na_pipeline <- subset(t_cells, idents = 'CD4 Naive')\n",
    "highcon_cd4na_pipeline <- subset(cd4na_pipeline, predicted.celltype.l2.score > 0.7)\n",
    "table(highcon_cd4na_pipeline$age)"
   ]
  },
  {
   "cell_type": "code",
   "execution_count": null,
   "id": "c05f26e1-1399-4958-b875-51346c3281fe",
   "metadata": {},
   "outputs": [],
   "source": [
    "rm(t_cells)"
   ]
  },
  {
   "cell_type": "markdown",
   "id": "fb42d13f-6aa7-4e45-a444-c3cbea311533",
   "metadata": {},
   "source": [
    "## Clustering pipeline cd4na"
   ]
  },
  {
   "cell_type": "code",
   "execution_count": null,
   "id": "0de1b9c7-c187-4496-b0cb-fe176955af0e",
   "metadata": {
    "scrolled": true,
    "tags": []
   },
   "outputs": [],
   "source": [
    "highcon_cd4na_pipeline <- NormalizeData(highcon_cd4na_pipeline) %>% FindVariableFeatures() %>% ScaleData() %>% RunPCA()"
   ]
  },
  {
   "cell_type": "code",
   "execution_count": null,
   "id": "d4ce9641-00e3-49a0-8672-575efcb4368c",
   "metadata": {},
   "outputs": [],
   "source": [
    "ElbowPlot(highcon_cd4na_pipeline, ndims = 50)"
   ]
  },
  {
   "cell_type": "code",
   "execution_count": null,
   "id": "d0d7c7b5-595d-445e-b686-91d487937618",
   "metadata": {
    "scrolled": true,
    "tags": []
   },
   "outputs": [],
   "source": [
    "highcon_cd4na_pipeline <- RunUMAP(highcon_cd4na_pipeline, dims = 1:10)"
   ]
  },
  {
   "cell_type": "markdown",
   "id": "cb5b3905-c410-42f9-907a-8d7e015b6731",
   "metadata": {},
   "source": [
    "## Age UMAPs"
   ]
  },
  {
   "cell_type": "code",
   "execution_count": null,
   "id": "599c53a1-367e-4dd1-b29f-abb43919fff5",
   "metadata": {},
   "outputs": [],
   "source": [
    "options(repr.plot.width = 10, repr.plot.height = 10)\n",
    "DimPlot(highcon_cd4na_pipeline, group.by = 'age', cols = c('#d95f02','#1b9e77','#fb9a99'), shuffle = TRUE, raster = FALSE) & NoLegend()"
   ]
  },
  {
   "cell_type": "code",
   "execution_count": null,
   "id": "a8abd690-b383-4f3a-be4d-94a35828bf2d",
   "metadata": {},
   "outputs": [],
   "source": [
    "umap_coords <- as.data.frame(highcon_cd4na_pipeline@reductions$umap@cell.embeddings)"
   ]
  },
  {
   "cell_type": "code",
   "execution_count": null,
   "id": "7bf31631-eadf-40a4-b73e-56f85412d6ea",
   "metadata": {},
   "outputs": [],
   "source": [
    "head(umap_coords)"
   ]
  },
  {
   "cell_type": "code",
   "execution_count": null,
   "id": "65c77325-d957-4839-8430-909eaf433bf9",
   "metadata": {},
   "outputs": [],
   "source": [
    "umap_df <- data.frame(umap1 = umap_coords$UMAP_1,\n",
    "                      umap2 = umap_coords$UMAP_2,\n",
    "                      age = highcon_cd4na_pipeline$age,\n",
    "                      age2 = paste0(highcon_cd4na_pipeline$age,'_2'))"
   ]
  },
  {
   "cell_type": "code",
   "execution_count": null,
   "id": "179f4c5a-d939-48ef-958f-cb623f35ee44",
   "metadata": {},
   "outputs": [],
   "source": [
    "head(umap_df)"
   ]
  },
  {
   "cell_type": "code",
   "execution_count": null,
   "id": "3ef046e6-6ede-4f83-aa95-825d8ecc2563",
   "metadata": {
    "tags": []
   },
   "outputs": [],
   "source": [
    "options(repr.plot.width = 10, repr.plot.height = 10)\n",
    "umap_df %>%\n",
    "    mutate(age2 = factor(age2, levels = c('Pediatric_2','Older Adult_2','Young Adult_2'))) %>%\n",
    "    mutate(age = factor(age, levels = c('Pediatric','Older Adult','Young Adult'))) %>%\n",
    "    ggplot(aes(x=umap1, y=umap2, color=age)) +\n",
    "        stat_density_2d(geom = 'polygon', aes(alpha = 0.1, fill = age2), bins = 4) +\n",
    "        # geom_point(shape = '.') + \n",
    "        scale_fill_manual(values = c('#1b9e77','#d95f02','#9e9ac8')) + \n",
    "        scale_color_manual(values = c('#006837','#d73027','#807dba')) +\n",
    "        theme_bw() + \n",
    "        theme(axis.text.x = element_blank(),\n",
    "              axis.text.y = element_blank(),\n",
    "              axis.title.y = element_blank(),\n",
    "              axis.title.x = element_blank(),\n",
    "              legend.position = 'none')"
   ]
  },
  {
   "cell_type": "code",
   "execution_count": null,
   "id": "a574bc68-b6dc-4a04-8ad2-3c995b616c86",
   "metadata": {},
   "outputs": [],
   "source": [
    "# # Open a pdf file\n",
    "# pdf(\"plots/cd4na_pipeline_contour_umap.pdf\", width = 4, height = 6) \n",
    "# # 2. Create a plot\n",
    "# umap_df %>%\n",
    "#     mutate(age2 = factor(age2, levels = c('Pediatric_2','Older Adult_2','Young Adult_2'))) %>%\n",
    "#     mutate(age = factor(age, levels = c('Pediatric','Older Adult','Young Adult'))) %>%\n",
    "#     ggplot(aes(x=umap1, y=umap2, color=age)) +\n",
    "#         stat_density_2d(geom = 'polygon', aes(alpha = 0.1, fill = age2), bins = 4) +\n",
    "#         # geom_point(shape = '.') + \n",
    "#         scale_fill_manual(values = c('#1b9e77','#d95f02','#9e9ac8')) + \n",
    "#         scale_color_manual(values = c('#006837','#d73027','#807dba')) +\n",
    "#         theme_bw() + \n",
    "#         theme(axis.text.x = element_blank(),\n",
    "#               axis.text.y = element_blank(),\n",
    "#               axis.title.y = element_blank(),\n",
    "#               axis.title.x = element_blank(),\n",
    "#               legend.position = 'none')\n",
    "# # Close the pdf file\n",
    "# dev.off() "
   ]
  },
  {
   "cell_type": "markdown",
   "id": "7131f8b8-0d74-4366-9f1d-d016ad4a23a1",
   "metadata": {},
   "source": [
    "## Gene exp heatmap"
   ]
  },
  {
   "cell_type": "code",
   "execution_count": null,
   "id": "11d99945-9623-4ce1-910b-1ba966a95d72",
   "metadata": {},
   "outputs": [],
   "source": [
    "gene_list <- c('TSHZ2','CPQ','STAT4',\n",
    "                   'TOX','TCF12','LEF1','BACH2','SOX4','IKZF2',\n",
    "                   'FAM13A','BCL2','CDK6','IGF1R','NFKB1',\n",
    "                   'NELL2','PABPC1','PDCD4','TGFBR2','PDE4D',\n",
    "                   'PCNX1','INPP4B','DACH1','PLCB1','AOAH',\n",
    "                  'AFF3')"
   ]
  },
  {
   "cell_type": "code",
   "execution_count": null,
   "id": "3262bda6-2cea-48c8-9804-66702264318d",
   "metadata": {},
   "outputs": [],
   "source": [
    "pipe_avg_exp_data <- AverageExpression(object = highcon_cd4na_pipeline, assays = 'RNA', features = gene_list, group.by = 'age')\n",
    "pipe_avg_exp_data <- as.data.frame(pipe_avg_exp_data)"
   ]
  },
  {
   "cell_type": "code",
   "execution_count": null,
   "id": "243fc031-de9f-49b0-b1cd-bd7329eb4d77",
   "metadata": {},
   "outputs": [],
   "source": [
    "head(pipe_avg_exp_data)"
   ]
  },
  {
   "cell_type": "code",
   "execution_count": null,
   "id": "ca11d606-cbe8-440d-8f9c-c4c5ac1cb6c9",
   "metadata": {},
   "outputs": [],
   "source": [
    "colnames(pipe_avg_exp_data) <- c('OA','Ped','YA')\n",
    "head(pipe_avg_exp_data)"
   ]
  },
  {
   "cell_type": "code",
   "execution_count": null,
   "id": "ada1fcb4-bcd3-4317-8843-dd35a1c6c0aa",
   "metadata": {},
   "outputs": [],
   "source": [
    "order_avg_exp <- data.frame('Ped' = pipe_avg_exp_data['Ped'],\n",
    "                            'YA' = pipe_avg_exp_data['YA'],\n",
    "                            'OA' = pipe_avg_exp_data['OA'])\n",
    "head(order_avg_exp)"
   ]
  },
  {
   "cell_type": "code",
   "execution_count": null,
   "id": "6e93c8c3-8f0c-4c7c-a3a5-15f72189c681",
   "metadata": {},
   "outputs": [],
   "source": [
    "library(pheatmap)"
   ]
  },
  {
   "cell_type": "code",
   "execution_count": null,
   "id": "4599d317-0402-480d-b521-e73fab97ed09",
   "metadata": {},
   "outputs": [],
   "source": [
    "options(repr.plot.width = 12, repr.plot.height = 3)\n",
    "pipeline_heatmap <- pheatmap(t(order_avg_exp), cluster_rows = FALSE, cluster_cols = TRUE, scale = 'column', \n",
    "                         #annotation_col = cell_state_genes, annotation_colors = anno_colors,\n",
    "                         color = colorRampPalette(c('#67a9cf','white','#d6604d'))(100))"
   ]
  },
  {
   "cell_type": "code",
   "execution_count": null,
   "id": "cf80645d-751e-4b77-bf73-c0dfa7835868",
   "metadata": {},
   "outputs": [],
   "source": [
    "save_pheatmap_pdf <- function(x, filename, width=12, height=3) {\n",
    "   stopifnot(!missing(x))\n",
    "   stopifnot(!missing(filename))\n",
    "   pdf(filename, width=width, height=height)\n",
    "   grid::grid.newpage()\n",
    "   grid::grid.draw(x$gtable)\n",
    "   dev.off()\n",
    "}\n",
    "save_pheatmap_pdf(pipeline_heatmap, \"plots/expanded_gex_scRNAseq.pdf\")"
   ]
  },
  {
   "cell_type": "markdown",
   "id": "d3eb427f-6426-4cc7-90e0-f47a9a235e1d",
   "metadata": {},
   "source": [
    "# Cord Blood Dataset"
   ]
  },
  {
   "cell_type": "markdown",
   "id": "aef68f0e-4a36-4303-a464-3d343e394af2",
   "metadata": {},
   "source": [
    "## Load Data"
   ]
  },
  {
   "cell_type": "code",
   "execution_count": null,
   "id": "d8bf2d7b-e33e-4768-836c-52bd22cf44fb",
   "metadata": {},
   "outputs": [],
   "source": [
    "cb_ya_so <- readRDS('../../03_scRNA_Comparisons/CB/cb_ya_so.rds')"
   ]
  },
  {
   "cell_type": "code",
   "execution_count": null,
   "id": "284f8a38-b210-41aa-b6b3-403cf7c6302d",
   "metadata": {},
   "outputs": [],
   "source": [
    "table(cb_ya_so$orig.ident)\n",
    "cb_ya_so <- SetIdent(cb_ya_so, value = 'orig.ident')\n",
    "cb_only_so <- subset(cb_ya_so, idents = c('/home/jupyter/published_datasets/cord_blood_young_adult/GSM4750306_F016/',\n",
    "                                          '/home/jupyter/published_datasets/cord_blood_young_adult/GSM4750307_F017/',\n",
    "                                          '/home/jupyter/published_datasets/cord_blood_young_adult/GSM4750308_F024/'))"
   ]
  },
  {
   "cell_type": "code",
   "execution_count": null,
   "id": "bff32a10-84bc-479c-bb0d-076cf2d9a99a",
   "metadata": {},
   "outputs": [],
   "source": [
    "cb_only_so <- SetIdent(cb_only_so, value = 'predicted.celltype.l2')\n",
    "cb_only_cd4na <- subset(cb_only_so, idents = 'CD4 Naive')\n",
    "cb_only_cd4na_highCon <- subset(cb_only_cd4na, subset = predicted.celltype.l2.score > 0.7)"
   ]
  },
  {
   "cell_type": "code",
   "execution_count": null,
   "id": "ebae3e01-43f8-47dd-a939-791fae06f9aa",
   "metadata": {},
   "outputs": [],
   "source": [
    "cb_only_cd4na_highCon$age <- rep('Cord Blood',length(colnames(cb_only_cd4na_highCon[['RNA']])))\n",
    "cb_only_cd4na_highCon$pbmc_sample_id <- cb_only_cd4na_highCon$orig.ident\n",
    "cb_only_cd4na_highCon"
   ]
  },
  {
   "cell_type": "markdown",
   "id": "8cacf73e-1403-48b9-8899-f554f9fa15e2",
   "metadata": {},
   "source": [
    "## Integration Clustering"
   ]
  },
  {
   "cell_type": "code",
   "execution_count": null,
   "id": "e3d74a51-0e4e-4979-8866-381741fd9925",
   "metadata": {},
   "outputs": [],
   "source": [
    "# normalize and identify variable features for each dataset independently\n",
    "cd4na.list <- lapply(X = list(cb_only_cd4na_highCon, highcon_cd4na_pipeline), FUN = function(x) {\n",
    "    DefaultAssay(x) <- 'RNA'\n",
    "    x <- NormalizeData(x)\n",
    "    x <- FindVariableFeatures(x, selection.method = \"vst\", nfeatures = 2000)\n",
    "})\n",
    "\n",
    "# select features that are repeatedly variable across datasets for integration\n",
    "features <- SelectIntegrationFeatures(object.list = cd4na.list)"
   ]
  },
  {
   "cell_type": "code",
   "execution_count": null,
   "id": "9b63ab24-cf6d-46ff-8d1a-9d42455db6d0",
   "metadata": {},
   "outputs": [],
   "source": [
    "immune.anchors <- FindIntegrationAnchors(object.list = cd4na.list, anchor.features = features)"
   ]
  },
  {
   "cell_type": "code",
   "execution_count": null,
   "id": "9c8d8285-9ea1-4073-a91d-de31d30e4935",
   "metadata": {},
   "outputs": [],
   "source": [
    "# this command creates an 'integrated' data assay\n",
    "immune.combined <- IntegrateData(anchorset = immune.anchors)"
   ]
  },
  {
   "cell_type": "code",
   "execution_count": null,
   "id": "81a4bcde-0c34-4fdc-8c7f-8374b3fdd45e",
   "metadata": {
    "scrolled": true,
    "tags": []
   },
   "outputs": [],
   "source": [
    "# specify that we will perform downstream analysis on the corrected data note that the\n",
    "# original unmodified data still resides in the 'RNA' assay\n",
    "DefaultAssay(immune.combined) <- \"integrated\"\n",
    "\n",
    "# Run the standard workflow for visualization and clustering\n",
    "immune.combined <- ScaleData(immune.combined, verbose = FALSE)\n",
    "immune.combined <- RunPCA(immune.combined, npcs = 30, verbose = FALSE)\n",
    "immune.combined <- RunUMAP(immune.combined, reduction = \"pca\", dims = 1:10)\n",
    "# immune.combined <- FindNeighbors(immune.combined, reduction = \"pca\", dims = 1:30)\n",
    "# immune.combined <- FindClusters(immune.combined, resolution = 0.5)"
   ]
  },
  {
   "cell_type": "markdown",
   "id": "518e2b22-47bb-4eb6-9978-012e22a22905",
   "metadata": {},
   "source": [
    "## Plots"
   ]
  },
  {
   "cell_type": "code",
   "execution_count": null,
   "id": "2123ef04-823b-4557-81a7-7254f10cca29",
   "metadata": {},
   "outputs": [],
   "source": [
    "options(repr.plot.width = 10, repr.plot.height = 10)\n",
    "DimPlot(immune.combined, group.by = 'age', shuffle = TRUE, raster = FALSE)"
   ]
  },
  {
   "cell_type": "code",
   "execution_count": null,
   "id": "be860e4b-cdf9-4299-9e59-34e039c3d56b",
   "metadata": {},
   "outputs": [],
   "source": [
    "umap_coords <- as.data.frame(immune.combined@reductions$umap@cell.embeddings)"
   ]
  },
  {
   "cell_type": "code",
   "execution_count": null,
   "id": "4a2bfa84-9cfc-44b1-9173-319b00a48f1d",
   "metadata": {},
   "outputs": [],
   "source": [
    "head(umap_coords)"
   ]
  },
  {
   "cell_type": "code",
   "execution_count": null,
   "id": "8275b9a6-9b3a-42a8-bf25-93234d30dbd1",
   "metadata": {},
   "outputs": [],
   "source": [
    "umap_df <- data.frame(umap1 = umap_coords$UMAP_1,\n",
    "                      umap2 = umap_coords$UMAP_2,\n",
    "                      age = immune.combined$age,\n",
    "                      age2 = paste0(immune.combined$age,'_2'))"
   ]
  },
  {
   "cell_type": "code",
   "execution_count": null,
   "id": "83259813-0f95-47ed-865b-9331cde8f690",
   "metadata": {},
   "outputs": [],
   "source": [
    "head(umap_df)"
   ]
  },
  {
   "cell_type": "code",
   "execution_count": null,
   "id": "712f0df1-7d00-4b28-a626-d19b2e38b343",
   "metadata": {
    "tags": []
   },
   "outputs": [],
   "source": [
    "options(repr.plot.width = 10, repr.plot.height = 10)\n",
    "umap_df %>%\n",
    "    mutate(age2 = factor(age2, levels = c('Pediatric_2','Cord Blood_2','Older Adult_2','Young Adult_2'))) %>%\n",
    "    mutate(age = factor(age, levels = c('Pediatric','Cord Blood','Older Adult','Young Adult'))) %>%\n",
    "    ggplot(aes(x=umap1, y=umap2, color=age)) +\n",
    "        stat_density_2d(geom = 'polygon', aes(alpha = 0.1, fill = age2), bins = 4) +\n",
    "        # geom_point(shape = '.') + \n",
    "        scale_fill_manual(values = c('#1b9e77','#fa9fb5','#d95f02','#9e9ac8')) + \n",
    "        scale_color_manual(values = c('#006837','#f768a1','#d73027','#807dba')) +\n",
    "        theme_bw() + \n",
    "        theme(axis.text.x = element_blank(),\n",
    "              axis.text.y = element_blank(),\n",
    "              axis.title.y = element_blank(),\n",
    "              axis.title.x = element_blank(),\n",
    "              legend.position = 'none')"
   ]
  },
  {
   "cell_type": "code",
   "execution_count": null,
   "id": "ba7c370a-effc-4446-88c8-95d4468ca813",
   "metadata": {
    "tags": []
   },
   "outputs": [],
   "source": [
    "options(repr.plot.width = 10, repr.plot.height = 10)\n",
    "umap_df %>%\n",
    "    mutate(age2 = factor(age2, levels = c('Pediatric_2','Cord Blood_2','Older Adult_2','Young Adult_2'))) %>%\n",
    "    mutate(age = factor(age, levels = c('Pediatric','Cord Blood','Older Adult','Young Adult'))) %>%\n",
    "    ggplot(aes(umap1, umap2)) + \n",
    "        geom_density_2d(aes(color = age)) +\n",
    "        stat_density_2d(aes(alpha = ..level.., fill=age), bins = 6, geom='polygon') +\n",
    "        scale_fill_manual(values = c('#1b9e77','#fa9fb5','#d95f02','#9e9ac8')) + \n",
    "        scale_color_manual(values = c('#006837','#f768a1','#d73027','#807dba')) +\n",
    "        xlim(-6,7.5) +\n",
    "        ylim(-6,6) +\n",
    "        theme_bw() + \n",
    "        theme(axis.text.x = element_blank(),\n",
    "              axis.text.y = element_blank(),\n",
    "              axis.title.y = element_blank(),\n",
    "              axis.title.x = element_blank(),\n",
    "              legend.position = 'none')"
   ]
  },
  {
   "cell_type": "code",
   "execution_count": null,
   "id": "1c338002-7000-4b76-ab54-e93bdbca498f",
   "metadata": {},
   "outputs": [],
   "source": [
    "# # Open a pdf file\n",
    "# pdf(\"plots/cd4na_pipeline_CB_contour_umap.pdf\", width = 10, height = 10) \n",
    "# # 2. Create a plot\n",
    "# umap_df %>%\n",
    "#     mutate(age2 = factor(age2, levels = c('Pediatric_2','Cord Blood_2','Older Adult_2','Young Adult_2'))) %>%\n",
    "#     mutate(age = factor(age, levels = c('Pediatric','Cord Blood','Older Adult','Young Adult'))) %>%\n",
    "#     ggplot(aes(umap1, umap2)) + \n",
    "#         geom_density_2d(aes(color = age)) +\n",
    "#         stat_density_2d(aes(alpha = ..level.., fill=age), bins = 6, geom='polygon') +\n",
    "#         scale_fill_manual(values = c('#1b9e77','#fa9fb5','#d95f02','#9e9ac8')) + \n",
    "#         scale_color_manual(values = c('#006837','#f768a1','#d73027','#807dba')) +\n",
    "#         xlim(-6,7.5) +\n",
    "#         ylim(-6,6) +\n",
    "#         theme_bw() + \n",
    "#         theme(axis.text.x = element_blank(),\n",
    "#               axis.text.y = element_blank(),\n",
    "#               axis.title.y = element_blank(),\n",
    "#               axis.title.x = element_blank(),\n",
    "#               legend.position = 'none')\n",
    "# # Close the pdf file\n",
    "# dev.off() "
   ]
  },
  {
   "cell_type": "code",
   "execution_count": null,
   "id": "b987b080-7b28-4387-9be8-aa552904f806",
   "metadata": {},
   "outputs": [],
   "source": [
    "options(repr.plot.width = 20, repr.plot.height = 10)\n",
    "VlnPlot(immune.combined, features = 'rna_DDX3Y', group.by = 'pbmc_sample_id', pt.size = 0) & NoLegend()\n",
    "VlnPlot(immune.combined, features = 'rna_RPS4Y1', group.by = 'pbmc_sample_id', pt.size = 0) & NoLegend()\n",
    "VlnPlot(immune.combined, features = 'rna_DDX3X', group.by = 'pbmc_sample_id', pt.size = 0) & NoLegend()"
   ]
  },
  {
   "cell_type": "code",
   "execution_count": null,
   "id": "a82f8c50-58ba-4851-a991-082f32ca86a4",
   "metadata": {},
   "outputs": [],
   "source": []
  },
  {
   "cell_type": "code",
   "execution_count": null,
   "id": "797ec8af-2cd3-4549-a9d6-a4e2c9504ff9",
   "metadata": {},
   "outputs": [],
   "source": [
    "options(repr.plot.width = 10, repr.plot.height = 10)\n",
    "umap_df %>%\n",
    "    mutate(age2 = factor(age2, levels = c('Pediatric_2','Cord Blood_2','Older Adult_2','Young Adult_2'))) %>%\n",
    "    mutate(age = factor(age, levels = c('Pediatric','Cord Blood','Older Adult','Young Adult'))) %>%\n",
    "    ggplot(aes(x=umap1, y=umap2, color=age)) +\n",
    "        stat_density_2d(geom = 'polygon', aes(alpha = 0.1, fill = age2), bins = 4) +\n",
    "        # geom_point(shape = '.') + \n",
    "        facet_wrap(vars(age)) + \n",
    "        scale_fill_manual(values = c('#1b9e77','#fa9fb5','#d95f02','#9e9ac8')) + \n",
    "        scale_color_manual(values = c('#006837','#f768a1','#d73027','#807dba')) +\n",
    "        theme_bw() + \n",
    "        theme(axis.text.x = element_blank(),\n",
    "              axis.text.y = element_blank(),\n",
    "              axis.title.y = element_blank(),\n",
    "              axis.title.x = element_blank(),\n",
    "              legend.position = 'none')"
   ]
  },
  {
   "cell_type": "markdown",
   "id": "0f588572-2c0d-465d-9f0a-034f9f921113",
   "metadata": {},
   "source": [
    "# Expression Data"
   ]
  },
  {
   "cell_type": "code",
   "execution_count": null,
   "id": "a5d249c4-8406-4f04-a579-9b371e2d641d",
   "metadata": {},
   "outputs": [],
   "source": [
    "DefaultAssay(immune.combined) <- 'RNA'\n",
    "immune.combined <- NormalizeData(immune.combined, assay = 'RNA') %>% FindVariableFeatures() %>% ScaleData(features = rownames(immune.combined[['RNA']]))"
   ]
  },
  {
   "cell_type": "code",
   "execution_count": null,
   "id": "a4fee9d0-5ac0-4a87-b7c4-5dbe55386002",
   "metadata": {},
   "outputs": [],
   "source": [
    "cb_avg_exp_data <- AverageExpression(object = immune.combined, assays = 'RNA', features = c('TOX','CPQ','STAT4','TSHZ2','SOX4'), group.by = 'pbmc_sample_id')\n",
    "cb_avg_exp_data <- as.data.frame(cb_avg_exp_data)\n",
    "cb_avg_exp_data"
   ]
  },
  {
   "cell_type": "code",
   "execution_count": null,
   "id": "8bf47b23-fe99-419d-a4fa-c63c17295202",
   "metadata": {},
   "outputs": [],
   "source": [
    "immune.combined <- SetIdent(immune.combined, value = 'age')\n",
    "immune.combined <- RenameIdents(immune.combined,\n",
    "                                 'Cord Blood' = 'CB',\n",
    "                                 'Pediatric' = 'Ped',\n",
    "                                 'Young Adult' = 'YA',\n",
    "                                 'Older Adult' = 'OA')\n",
    "immune.combined$age_short <- Idents(immune.combined)"
   ]
  },
  {
   "cell_type": "markdown",
   "id": "aaf9c4ac-57da-4718-90e1-a21f423d519c",
   "metadata": {},
   "source": [
    "## Plot"
   ]
  },
  {
   "cell_type": "code",
   "execution_count": null,
   "id": "df94cf4d-6208-4b75-bb2b-faea90d18ed0",
   "metadata": {},
   "outputs": [],
   "source": [
    "t_avg_exp <- t(cb_avg_exp_data)\n",
    "head(t_avg_exp)"
   ]
  },
  {
   "cell_type": "code",
   "execution_count": null,
   "id": "aee3e350-362c-4483-bf30-e2a6f4d1f494",
   "metadata": {},
   "outputs": [],
   "source": [
    "meta <- immune.combined@meta.data"
   ]
  },
  {
   "cell_type": "code",
   "execution_count": null,
   "id": "dd5171ed-c30d-4bcc-82e8-87939fdadb1f",
   "metadata": {},
   "outputs": [],
   "source": [
    "meta_df <- data.frame('sampleID' = meta$pbmc_sample_id,\n",
    "                         'age' = meta$age_short)\n",
    "head(meta_df)"
   ]
  },
  {
   "cell_type": "code",
   "execution_count": null,
   "id": "817258ca-3da1-4989-82a0-036e169cf6d5",
   "metadata": {},
   "outputs": [],
   "source": [
    "unique_df <- unique(meta_df)"
   ]
  },
  {
   "cell_type": "code",
   "execution_count": null,
   "id": "a61445fe-f47a-48f1-993c-dcd6218b0c85",
   "metadata": {},
   "outputs": [],
   "source": [
    "unique_df$sampleID <- paste0('RNA.',unique_df$sampleID)\n",
    "head(unique_df)"
   ]
  },
  {
   "cell_type": "code",
   "execution_count": null,
   "id": "4a6be0a4-21ac-4444-bef2-20f0e7f3bf94",
   "metadata": {},
   "outputs": [],
   "source": [
    "unique_df$sampleID <- gsub('-','.',unique_df$sampleID)\n",
    "unique_df$sampleID <- gsub('/','.',unique_df$sampleID)\n",
    "head(unique_df)"
   ]
  },
  {
   "cell_type": "code",
   "execution_count": null,
   "id": "4ce96140-250d-4f94-99c9-458f0e35f8ef",
   "metadata": {},
   "outputs": [],
   "source": [
    "t_avg_exp <- as.data.frame(t_avg_exp)\n",
    "t_avg_exp$sampleID <- rownames(t_avg_exp)\n",
    "head(t_avg_exp)"
   ]
  },
  {
   "cell_type": "code",
   "execution_count": null,
   "id": "f70b636f-124a-4c71-85c0-b57c8f680f15",
   "metadata": {},
   "outputs": [],
   "source": [
    "final_df <- left_join(t_avg_exp, unique_df, by = 'sampleID')\n",
    "head(final_df)"
   ]
  },
  {
   "cell_type": "code",
   "execution_count": null,
   "id": "b514833d-5293-43b2-a058-99a2696d194c",
   "metadata": {},
   "outputs": [],
   "source": [
    "joined_counts <- read.csv(file = '../Figure4/mnp2_scrna_seq_perc_age.csv', row.names = 1)\n",
    "trim_age <- joined_counts[,c(1,3)]\n",
    "trim_age$pbmc_sample_id <- gsub('-','.',trim_age$pbmc_sample_id)\n",
    "trim_age$pbmc_sample_id <- paste0('RNA.',trim_age$pbmc_sample_id)\n",
    "colnames(trim_age) <- c('sampleID','actual_age')\n",
    "head(trim_age)"
   ]
  },
  {
   "cell_type": "code",
   "execution_count": null,
   "id": "b7b11af2-42cd-40b6-8175-baadf92905cb",
   "metadata": {},
   "outputs": [],
   "source": [
    "final_df <- left_join(x = final_df, y = trim_age, by = 'sampleID')\n",
    "head(final_df)"
   ]
  },
  {
   "cell_type": "code",
   "execution_count": null,
   "id": "05464f55-d081-46a4-bbb2-b21e20ba0231",
   "metadata": {},
   "outputs": [],
   "source": [
    "write.csv(final_df, file = 'cb_avg_exp_data_cd4na_updated.csv')"
   ]
  },
  {
   "cell_type": "code",
   "execution_count": null,
   "id": "b42145d3-565f-48af-8c24-61739a1d28e0",
   "metadata": {},
   "outputs": [],
   "source": [
    "final_df_2 <- read.csv('cb_avg_exp_data_cd4na_updated2.csv')"
   ]
  },
  {
   "cell_type": "code",
   "execution_count": null,
   "id": "b61262e7-8d1d-48d5-b4c6-3315658d8d42",
   "metadata": {},
   "outputs": [],
   "source": [
    "options(repr.plot.width = 8, repr.plot.height = 4)\n",
    "ggplot(final_df_2, aes(x=actual_age, y=TOX)) + \n",
    "    geom_point(size = 3, aes(color=age)) + \n",
    "    geom_smooth(formula=y ~ x^2,alpha=.15, se = TRUE, color='darkgrey') + scale_y_log10() +\n",
    "    scale_color_manual(values=c('#fa9fb5','#d95f02','#1b9e77','#9e9ac8')) + \n",
    "    xlab('Age') + ylab('AvgExp') +\n",
    "    theme_bw() + \n",
    "    theme(axis.text.x = element_text(size = 15),\n",
    "          axis.text.y = element_text(size = 15),\n",
    "          axis.title.y = element_text(size = 20),\n",
    "          axis.title.x = element_text(size = 20),\n",
    "          # legend.key.size = unit(2, 'cm'), #change legend key size\n",
    "          # legend.key.height = unit(1, 'cm'), #change legend key height\n",
    "          # legend.key.width = unit(1, 'cm'), #change legend key width\n",
    "          legend.title = element_text(size=20), #change legend title font size\n",
    "          legend.text = element_text(size=15))"
   ]
  },
  {
   "cell_type": "code",
   "execution_count": null,
   "id": "8118f82c-ba85-4815-b7af-aafdd2157e08",
   "metadata": {},
   "outputs": [],
   "source": [
    "# Open a pdf file\n",
    "pdf(\"plots/cd4na_pipeline_CB_TOX.pdf\", width = 8, height = 4) \n",
    "# 2. Create a plot\n",
    "ggplot(final_df_2, aes(x=actual_age, y=TOX)) + \n",
    "    geom_point(size = 3, aes(color=age)) + \n",
    "    geom_smooth(formula=y ~ x^2,alpha=.15, se = TRUE, color='darkgrey') + scale_y_log10() +\n",
    "    scale_color_manual(values=c('#fa9fb5','#d95f02','#1b9e77','#9e9ac8')) + \n",
    "    xlab('Age') + ylab('AvgExp') +\n",
    "    theme_bw() + \n",
    "    theme(axis.text.x = element_text(size = 15),\n",
    "          axis.text.y = element_text(size = 15),\n",
    "          axis.title.y = element_text(size = 20),\n",
    "          axis.title.x = element_text(size = 20),\n",
    "          # legend.key.size = unit(2, 'cm'), #change legend key size\n",
    "          # legend.key.height = unit(1, 'cm'), #change legend key height\n",
    "          # legend.key.width = unit(1, 'cm'), #change legend key width\n",
    "          legend.title = element_text(size=20), #change legend title font size\n",
    "          legend.text = element_text(size=15))\n",
    "# Close the pdf file\n",
    "dev.off() "
   ]
  },
  {
   "cell_type": "code",
   "execution_count": null,
   "id": "0124117c-a747-4e16-8136-9168c713c4c4",
   "metadata": {},
   "outputs": [],
   "source": [
    "options(repr.plot.width = 8, repr.plot.height = 4)\n",
    "ggplot(final_df_2, aes(x=actual_age, y=CPQ)) + \n",
    "    geom_point(size = 3, aes(color=age)) + \n",
    "    geom_smooth(formula=y ~ x^2,alpha=.15, se = TRUE, color='darkgrey') + \n",
    "    scale_color_manual(values=c('#fa9fb5','#d95f02','#1b9e77','#9e9ac8')) + \n",
    "    xlab('Age') + ylab('AvgExp') +\n",
    "    theme_bw() + \n",
    "    theme(axis.text.x = element_text(size = 15),\n",
    "          axis.text.y = element_text(size = 15),\n",
    "          axis.title.y = element_text(size = 20),\n",
    "          axis.title.x = element_text(size = 20),\n",
    "          # legend.key.size = unit(2, 'cm'), #change legend key size\n",
    "          # legend.key.height = unit(1, 'cm'), #change legend key height\n",
    "          # legend.key.width = unit(1, 'cm'), #change legend key width\n",
    "          legend.title = element_text(size=20), #change legend title font size\n",
    "          legend.text = element_text(size=15))"
   ]
  },
  {
   "cell_type": "code",
   "execution_count": null,
   "id": "ffeed5c9-7c9e-473a-ac75-b03121074b41",
   "metadata": {},
   "outputs": [],
   "source": [
    "# Open a pdf file\n",
    "pdf(\"plots/cd4na_pipeline_CB_CPQ.pdf\", width = 8, height = 4) \n",
    "# 2. Create a plot\n",
    "ggplot(final_df_2, aes(x=actual_age, y=CPQ)) + \n",
    "    geom_point(size = 3, aes(color=age)) + \n",
    "    geom_smooth(formula=y ~ x^2,alpha=.15, se = TRUE, color='darkgrey') + \n",
    "    scale_color_manual(values=c('#fa9fb5','#d95f02','#1b9e77','#9e9ac8')) + \n",
    "    xlab('Age') + ylab('AvgExp') +\n",
    "    theme_bw() + \n",
    "    theme(axis.text.x = element_text(size = 15),\n",
    "          axis.text.y = element_text(size = 15),\n",
    "          axis.title.y = element_text(size = 20),\n",
    "          axis.title.x = element_text(size = 20),\n",
    "          # legend.key.size = unit(2, 'cm'), #change legend key size\n",
    "          # legend.key.height = unit(1, 'cm'), #change legend key height\n",
    "          # legend.key.width = unit(1, 'cm'), #change legend key width\n",
    "          legend.title = element_text(size=20), #change legend title font size\n",
    "          legend.text = element_text(size=15))\n",
    "# Close the pdf file\n",
    "dev.off() "
   ]
  },
  {
   "cell_type": "code",
   "execution_count": null,
   "id": "0e417e6c-3d2f-4588-8f50-dff65ba376ba",
   "metadata": {},
   "outputs": [],
   "source": [
    "ggplot(final_df_2, aes(x=actual_age, y=STAT4)) + \n",
    "    geom_point(size = 3, aes(color=age)) + \n",
    "    geom_smooth(formula=y ~ x^2,alpha=.15, se = TRUE, color='darkgrey') + \n",
    "    scale_color_manual(values=c('#fa9fb5','#d95f02','#1b9e77','#9e9ac8')) + \n",
    "    xlab('Age') + ylab('AvgExp') +\n",
    "    theme_bw() + \n",
    "    theme(axis.text.x = element_text(size = 15),\n",
    "          axis.text.y = element_text(size = 15),\n",
    "          axis.title.y = element_text(size = 20),\n",
    "          axis.title.x = element_text(size = 20),\n",
    "          # legend.key.size = unit(2, 'cm'), #change legend key size\n",
    "          # legend.key.height = unit(1, 'cm'), #change legend key height\n",
    "          # legend.key.width = unit(1, 'cm'), #change legend key width\n",
    "          legend.title = element_text(size=20), #change legend title font size\n",
    "          legend.text = element_text(size=15))"
   ]
  },
  {
   "cell_type": "code",
   "execution_count": null,
   "id": "5bef8e08-4b78-49e0-923c-2295e46f3cc9",
   "metadata": {},
   "outputs": [],
   "source": [
    "# Open a pdf file\n",
    "pdf(\"plots/cd4na_pipeline_CB_STAT4.pdf\", width = 8, height = 4) \n",
    "# 2. Create a plot\n",
    "ggplot(final_df_2, aes(x=actual_age, y=STAT4)) + \n",
    "    geom_point(size = 3, aes(color=age)) + \n",
    "    geom_smooth(formula=y ~ x^2,alpha=.15, se = TRUE, color='darkgrey') + \n",
    "    scale_color_manual(values=c('#fa9fb5','#d95f02','#1b9e77','#9e9ac8')) + \n",
    "    xlab('Age') + ylab('AvgExp') +\n",
    "    theme_bw() + \n",
    "    theme(axis.text.x = element_text(size = 15),\n",
    "          axis.text.y = element_text(size = 15),\n",
    "          axis.title.y = element_text(size = 20),\n",
    "          axis.title.x = element_text(size = 20),\n",
    "          # legend.key.size = unit(2, 'cm'), #change legend key size\n",
    "          # legend.key.height = unit(1, 'cm'), #change legend key height\n",
    "          # legend.key.width = unit(1, 'cm'), #change legend key width\n",
    "          legend.title = element_text(size=20), #change legend title font size\n",
    "          legend.text = element_text(size=15))\n",
    "# Close the pdf file\n",
    "dev.off() "
   ]
  },
  {
   "cell_type": "code",
   "execution_count": null,
   "id": "bbb31ebc-5c9b-4ea2-a288-dcf728fcb07d",
   "metadata": {},
   "outputs": [],
   "source": [
    "ggplot(final_df_2, aes(x=actual_age, y=SOX4)) + \n",
    "    geom_point(size = 3, aes(color=age)) + \n",
    "    geom_smooth(formula=y ~ x^2,alpha=.15, se = TRUE, color = 'darkgrey') + scale_y_log10() +\n",
    "    scale_color_manual(values=c('#fa9fb5','#d95f02','#1b9e77','#9e9ac8')) + \n",
    "    xlab('Age') + ylab('AvgExp') +\n",
    "    theme_bw() + \n",
    "    theme(axis.text.x = element_text(size = 15),\n",
    "          axis.text.y = element_text(size = 15),\n",
    "          axis.title.y = element_text(size = 20),\n",
    "          axis.title.x = element_text(size = 20),\n",
    "          # legend.key.size = unit(2, 'cm'), #change legend key size\n",
    "          # legend.key.height = unit(1, 'cm'), #change legend key height\n",
    "          # legend.key.width = unit(1, 'cm'), #change legend key width\n",
    "          legend.title = element_text(size=20), #change legend title font size\n",
    "          legend.text = element_text(size=15))"
   ]
  },
  {
   "cell_type": "code",
   "execution_count": null,
   "id": "4f7680ba-2aee-44b4-871c-c82bc9fe0272",
   "metadata": {},
   "outputs": [],
   "source": [
    "# Open a pdf file\n",
    "pdf(\"plots/cd4na_pipeline_CB_SOX4.pdf\", width = 8, height = 4) \n",
    "# 2. Create a plot\n",
    "ggplot(final_df_2, aes(x=actual_age, y=SOX4)) + \n",
    "    geom_point(size = 3, aes(color=age)) + \n",
    "    geom_smooth(formula=y ~ x^2,alpha=.15, se = TRUE, color = 'darkgrey') + scale_y_log10() +\n",
    "    scale_color_manual(values=c('#fa9fb5','#d95f02','#1b9e77','#9e9ac8')) + \n",
    "    xlab('Age') + ylab('AvgExp') +\n",
    "    theme_bw() + \n",
    "    theme(axis.text.x = element_text(size = 15),\n",
    "          axis.text.y = element_text(size = 15),\n",
    "          axis.title.y = element_text(size = 20),\n",
    "          axis.title.x = element_text(size = 20),\n",
    "          # legend.key.size = unit(2, 'cm'), #change legend key size\n",
    "          # legend.key.height = unit(1, 'cm'), #change legend key height\n",
    "          # legend.key.width = unit(1, 'cm'), #change legend key width\n",
    "          legend.title = element_text(size=20), #change legend title font size\n",
    "          legend.text = element_text(size=15))\n",
    "# Close the pdf file\n",
    "dev.off() "
   ]
  },
  {
   "cell_type": "code",
   "execution_count": null,
   "id": "a8651dc6-bbd4-4ede-b709-448acd93da32",
   "metadata": {},
   "outputs": [],
   "source": [
    "ggplot(final_df_2, aes(x=actual_age, y=TSHZ2)) + \n",
    "    geom_point(size = 3, aes(color=age)) + \n",
    "    geom_smooth(formula=y ~ x^2,alpha=.15, se = TRUE, color = 'darkgrey') + #scale_y_log10() +\n",
    "    scale_color_manual(values=c('#fa9fb5','#d95f02','#1b9e77','#9e9ac8')) + \n",
    "    xlab('Age') + ylab('AvgExp') +\n",
    "    theme_bw() + \n",
    "    theme(axis.text.x = element_text(size = 15),\n",
    "          axis.text.y = element_text(size = 15),\n",
    "          axis.title.y = element_text(size = 20),\n",
    "          axis.title.x = element_text(size = 20),\n",
    "          # legend.key.size = unit(2, 'cm'), #change legend key size\n",
    "          # legend.key.height = unit(1, 'cm'), #change legend key height\n",
    "          # legend.key.width = unit(1, 'cm'), #change legend key width\n",
    "          legend.title = element_text(size=20), #change legend title font size\n",
    "          legend.text = element_text(size=15))"
   ]
  },
  {
   "cell_type": "code",
   "execution_count": null,
   "id": "2be932b3-1a49-46ba-b911-856b620a7cfa",
   "metadata": {},
   "outputs": [],
   "source": [
    "# Open a pdf file\n",
    "pdf(\"plots/cd4na_pipeline_CB_TSHZ2.pdf\", width = 8, height = 4) \n",
    "# 2. Create a plot\n",
    "ggplot(final_df_2, aes(x=actual_age, y=TSHZ2)) + \n",
    "    geom_point(size = 3, aes(color=age)) + \n",
    "    geom_smooth(formula=y ~ x^2,alpha=.15, se = TRUE, color = 'darkgrey') + #scale_y_log10() +\n",
    "    scale_color_manual(values=c('#fa9fb5','#d95f02','#1b9e77','#9e9ac8')) + \n",
    "    xlab('Age') + ylab('AvgExp') +\n",
    "    theme_bw() + \n",
    "    theme(axis.text.x = element_text(size = 15),\n",
    "          axis.text.y = element_text(size = 15),\n",
    "          axis.title.y = element_text(size = 20),\n",
    "          axis.title.x = element_text(size = 20),\n",
    "          # legend.key.size = unit(2, 'cm'), #change legend key size\n",
    "          # legend.key.height = unit(1, 'cm'), #change legend key height\n",
    "          # legend.key.width = unit(1, 'cm'), #change legend key width\n",
    "          legend.title = element_text(size=20), #change legend title font size\n",
    "          legend.text = element_text(size=15))\n",
    "# Close the pdf file\n",
    "dev.off() "
   ]
  },
  {
   "cell_type": "code",
   "execution_count": null,
   "id": "1298d87c-7fb8-4e4e-9ad7-b4486577bdf4",
   "metadata": {},
   "outputs": [],
   "source": []
  },
  {
   "cell_type": "code",
   "execution_count": null,
   "id": "b09d7c9b-3c21-43f4-aec5-49aec88d3b3a",
   "metadata": {},
   "outputs": [],
   "source": [
    "options(repr.plot.width = 4, repr.plot.height = 6)\n",
    "final_df %>% \n",
    "    mutate(age = factor(age, levels = c('CB','Ped','YA','OA'))) %>%\n",
    "        ggplot() + \n",
    "        geom_boxplot(aes(x=age, y=TOX, fill=age)) +\n",
    "        scale_fill_manual(values=c('#3182bd','#1b9e77','#de77ae','#d95f02')) +\n",
    "        geom_jitter(aes(x=age, y=TOX), color='black', size=1, width=0.2) +\n",
    "        theme(axis.text.x = element_text(size = 20),\n",
    "              axis.text.y = element_text(size = 20),\n",
    "              axis.title.x = element_blank(),\n",
    "              axis.title.y = element_blank(),\n",
    "              panel.grid.major = element_blank(), \n",
    "              panel.grid.minor = element_blank(),\n",
    "              panel.background = element_blank(),\n",
    "              axis.line = element_line(colour = \"black\"),\n",
    "              legend.position = 'none')"
   ]
  },
  {
   "cell_type": "code",
   "execution_count": null,
   "id": "1b77f031-2e96-4049-8bb2-c235ee3452bb",
   "metadata": {},
   "outputs": [],
   "source": [
    "# Open a pdf file\n",
    "pdf(\"plots/cd4na_pipeline_TOX.pdf\", width = 4, height = 6) \n",
    "# 2. Create a plot\n",
    "final_df %>% \n",
    "    mutate(age = factor(age, levels = c('CB','Ped','YA','OA'))) %>%\n",
    "        ggplot() + \n",
    "        geom_boxplot(aes(x=age, y=TOX, fill=age)) +\n",
    "        scale_fill_manual(values=c('#3182bd','#1b9e77','#de77ae','#d95f02')) +\n",
    "        geom_jitter(aes(x=age, y=TOX), color='black', size=1, width=0.2) +\n",
    "        theme(axis.text.x = element_text(size = 20),\n",
    "              axis.text.y = element_text(size = 20),\n",
    "              axis.title.x = element_blank(),\n",
    "              axis.title.y = element_blank(),\n",
    "              panel.grid.major = element_blank(), \n",
    "              panel.grid.minor = element_blank(),\n",
    "              panel.background = element_blank(),\n",
    "              axis.line = element_line(colour = \"black\"),\n",
    "              legend.position = 'none')\n",
    "# Close the pdf file\n",
    "dev.off() "
   ]
  },
  {
   "cell_type": "code",
   "execution_count": null,
   "id": "16b347c3-f108-4918-be99-b949f59bcbfd",
   "metadata": {},
   "outputs": [],
   "source": [
    "options(repr.plot.width = 4, repr.plot.height = 6)\n",
    "final_df %>% \n",
    "    mutate(age = factor(age, levels = c('CB','Ped','YA','OA'))) %>%\n",
    "        ggplot() + \n",
    "        geom_boxplot(aes(x=age, y=CPQ, fill=age)) +\n",
    "        scale_fill_manual(values=c('#3182bd','#1b9e77','#de77ae','#d95f02')) +\n",
    "        geom_jitter(aes(x=age, y=CPQ), color='black', size=1, width=0.2) +\n",
    "        theme(axis.text.x = element_text(size = 10),\n",
    "              axis.text.y = element_text(size = 20),\n",
    "              axis.title.x = element_blank(),\n",
    "              axis.title.y = element_blank(),\n",
    "              panel.grid.major = element_blank(), \n",
    "              panel.grid.minor = element_blank(),\n",
    "              panel.background = element_blank(),\n",
    "              axis.line = element_line(colour = \"black\"),\n",
    "              legend.position = 'none')"
   ]
  },
  {
   "cell_type": "code",
   "execution_count": null,
   "id": "5bfc8860-3998-4bbb-9328-11a260a8e3ab",
   "metadata": {},
   "outputs": [],
   "source": [
    "# Open a pdf file\n",
    "pdf(\"plots/cd4na_pipeline_CPQ.pdf\", width = 4, height = 6) \n",
    "# 2. Create a plot\n",
    "final_df %>% \n",
    "    mutate(age = factor(age, levels = c('CB','Ped','YA','OA'))) %>%\n",
    "        ggplot() + \n",
    "        geom_boxplot(aes(x=age, y=CPQ, fill=age)) +\n",
    "        scale_fill_manual(values=c('#3182bd','#1b9e77','#de77ae','#d95f02')) +\n",
    "        geom_jitter(aes(x=age, y=CPQ), color='black', size=1, width=0.2) +\n",
    "        theme(axis.text.x = element_text(size = 20),\n",
    "              axis.text.y = element_text(size = 20),\n",
    "              axis.title.x = element_blank(),\n",
    "              axis.title.y = element_blank(),\n",
    "              panel.grid.major = element_blank(), \n",
    "              panel.grid.minor = element_blank(),\n",
    "              panel.background = element_blank(),\n",
    "              axis.line = element_line(colour = \"black\"),\n",
    "              legend.position = 'none')\n",
    "# Close the pdf file\n",
    "dev.off() "
   ]
  },
  {
   "cell_type": "code",
   "execution_count": null,
   "id": "e80866d7-970a-48a1-a7be-db1dd0a43bbf",
   "metadata": {},
   "outputs": [],
   "source": [
    "options(repr.plot.width = 4, repr.plot.height = 6)\n",
    "final_df %>% \n",
    "    mutate(age = factor(age, levels = c('CB','Ped','YA','OA'))) %>%\n",
    "        ggplot() + \n",
    "        geom_boxplot(aes(x=age, y=SOX4, fill=age)) +\n",
    "        scale_fill_manual(values=c('#3182bd','#1b9e77','#de77ae','#d95f02')) +\n",
    "        geom_jitter(aes(x=age, y=SOX4), color='black', size=1, width=0.2) +\n",
    "        theme(axis.text.x = element_text(size = 20),\n",
    "              axis.text.y = element_text(size = 20),\n",
    "              axis.title.x = element_blank(),\n",
    "              axis.title.y = element_blank(),\n",
    "              panel.grid.major = element_blank(), \n",
    "              panel.grid.minor = element_blank(),\n",
    "              panel.background = element_blank(),\n",
    "              axis.line = element_line(colour = \"black\"),\n",
    "              legend.position = 'none')"
   ]
  },
  {
   "cell_type": "code",
   "execution_count": null,
   "id": "534d05c8-5f64-406e-9911-3398fb794206",
   "metadata": {},
   "outputs": [],
   "source": [
    "# Open a pdf file\n",
    "pdf(\"plots/cd4na_pipeline_SOX4.pdf\", width = 4, height = 6) \n",
    "# 2. Create a plot\n",
    "final_df %>% \n",
    "    mutate(age = factor(age, levels = c('CB','Ped','YA','OA'))) %>%\n",
    "        ggplot() + \n",
    "        geom_boxplot(aes(x=age, y=SOX4, fill=age)) +\n",
    "        scale_fill_manual(values=c('#3182bd','#1b9e77','#de77ae','#d95f02')) +\n",
    "        geom_jitter(aes(x=age, y=SOX4), color='black', size=1, width=0.2) +\n",
    "        theme(axis.text.x = element_text(size = 20),\n",
    "              axis.text.y = element_text(size = 20),\n",
    "              axis.title.x = element_blank(),\n",
    "              axis.title.y = element_blank(),\n",
    "              panel.grid.major = element_blank(), \n",
    "              panel.grid.minor = element_blank(),\n",
    "              panel.background = element_blank(),\n",
    "              axis.line = element_line(colour = \"black\"),\n",
    "              legend.position = 'none')\n",
    "# Close the pdf file\n",
    "dev.off() "
   ]
  },
  {
   "cell_type": "code",
   "execution_count": null,
   "id": "6c507a5d-568d-4891-9fe0-59396f37f347",
   "metadata": {},
   "outputs": [],
   "source": [
    "options(repr.plot.width = 4, repr.plot.height = 6)\n",
    "final_df %>% \n",
    "    mutate(age = factor(age, levels = c('CB','Ped','YA','OA'))) %>%\n",
    "        ggplot() + \n",
    "        geom_boxplot(aes(x=age, y=STAT4, fill=age)) +\n",
    "        scale_fill_manual(values=c('#3182bd','#1b9e77','#de77ae','#d95f02')) +\n",
    "        geom_jitter(aes(x=age, y=STAT4), color='black', size=1, width=0.2) +\n",
    "        theme(axis.text.x = element_text(size = 20),\n",
    "              axis.text.y = element_text(size = 20),\n",
    "              axis.title.x = element_blank(),\n",
    "              axis.title.y = element_blank(),\n",
    "              panel.grid.major = element_blank(), \n",
    "              panel.grid.minor = element_blank(),\n",
    "              panel.background = element_blank(),\n",
    "              axis.line = element_line(colour = \"black\"),\n",
    "              legend.position = 'none')"
   ]
  },
  {
   "cell_type": "code",
   "execution_count": null,
   "id": "f06ce9d6-aaf1-4012-816e-8eeeee685d98",
   "metadata": {},
   "outputs": [],
   "source": [
    "# Open a pdf file\n",
    "pdf(\"plots/cd4na_pipeline_STAT4.pdf\", width = 4, height = 6) \n",
    "# 2. Create a plot\n",
    "final_df %>% \n",
    "    mutate(age = factor(age, levels = c('CB','Ped','YA','OA'))) %>%\n",
    "        ggplot() + \n",
    "        geom_boxplot(aes(x=age, y=STAT4, fill=age)) +\n",
    "        scale_fill_manual(values=c('#3182bd','#1b9e77','#de77ae','#d95f02')) +\n",
    "        geom_jitter(aes(x=age, y=STAT4), color='black', size=1, width=0.2) +\n",
    "        theme(axis.text.x = element_text(size = 20),\n",
    "              axis.text.y = element_text(size = 20),\n",
    "              axis.title.x = element_blank(),\n",
    "              axis.title.y = element_blank(),\n",
    "              panel.grid.major = element_blank(), \n",
    "              panel.grid.minor = element_blank(),\n",
    "              panel.background = element_blank(),\n",
    "              axis.line = element_line(colour = \"black\"),\n",
    "              legend.position = 'none')\n",
    "# Close the pdf file\n",
    "dev.off() "
   ]
  }
 ],
 "metadata": {
  "kernelspec": {
   "display_name": "R 4",
   "language": "R",
   "name": "ir"
  },
  "language_info": {
   "codemirror_mode": "r",
   "file_extension": ".r",
   "mimetype": "text/x-r-source",
   "name": "R",
   "pygments_lexer": "r",
   "version": "4.1.2"
  }
 },
 "nbformat": 4,
 "nbformat_minor": 5
}
