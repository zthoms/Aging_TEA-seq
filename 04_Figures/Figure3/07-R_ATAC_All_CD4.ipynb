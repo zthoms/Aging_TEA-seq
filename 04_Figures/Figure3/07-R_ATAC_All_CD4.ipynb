{
 "cells": [
  {
   "cell_type": "code",
   "execution_count": null,
   "id": "510f4005-b47c-4a85-bd3e-d48696a78354",
   "metadata": {},
   "outputs": [],
   "source": [
    "quiet_library <- function(...) {\n",
    "    suppressPackageStartupMessages(library(...))\n",
    "}\n",
    "quiet_library(Seurat)\n",
    "quiet_library(ggplot2)\n",
    "quiet_library(Matrix)\n",
    "quiet_library(H5weaver)\n",
    "quiet_library(dplyr)\n",
    "quiet_library(viridis)\n",
    "quiet_library(harmony)\n",
    "quiet_library(Nebulosa)"
   ]
  },
  {
   "cell_type": "code",
   "execution_count": null,
   "id": "b374df71-8a1e-472b-b70c-4d38164dbac2",
   "metadata": {},
   "outputs": [],
   "source": [
    "quiet_library(ArchR)"
   ]
  },
  {
   "cell_type": "code",
   "execution_count": null,
   "id": "021dce00-1d86-46b1-a496-e52948dec598",
   "metadata": {},
   "outputs": [],
   "source": [
    "addArchRThreads(32)\n",
    "addArchRGenome(\"hg38\")"
   ]
  },
  {
   "cell_type": "markdown",
   "id": "0a4eaa8d-dc45-4741-aa95-aa001bd9047b",
   "metadata": {},
   "source": [
    "# Load Data"
   ]
  },
  {
   "cell_type": "code",
   "execution_count": null,
   "id": "c1f5520e-9910-4cd1-a2e1-eb0162cde8ed",
   "metadata": {},
   "outputs": [],
   "source": [
    "sp_merge <- readRDS(file = '../../Seurat_Objects/sp_merge_gating_celltype_updated.rds')"
   ]
  },
  {
   "cell_type": "code",
   "execution_count": null,
   "id": "c63ba2d6-7bfc-4168-8c25-eae159283310",
   "metadata": {},
   "outputs": [],
   "source": [
    "sp_merge <- SetIdent(sp_merge, value = 'gating_celltype')\n",
    "cd4_mem <- subset(sp_merge, idents = c('CD4 CM','CD4 EM1','CD4 EM2','CD4 TEMRA','Treg'))"
   ]
  },
  {
   "cell_type": "code",
   "execution_count": null,
   "id": "392eae77-bb8a-4526-80f1-6237be9018d3",
   "metadata": {},
   "outputs": [],
   "source": [
    "cd4_mem$pure_celltype <- cd4_mem$gating_celltype"
   ]
  },
  {
   "cell_type": "code",
   "execution_count": null,
   "id": "1f95ab00-4505-4d95-8d1c-121e73b3a4e5",
   "metadata": {},
   "outputs": [],
   "source": [
    "cd4na <- readRDS(file = 'cd4_na_labeled.rds')"
   ]
  },
  {
   "cell_type": "code",
   "execution_count": null,
   "id": "4b33ffb5-6263-4490-8dcd-eec8f4331be1",
   "metadata": {},
   "outputs": [],
   "source": [
    "cd4_merge <- merge(cd4na, cd4_mem)"
   ]
  },
  {
   "cell_type": "code",
   "execution_count": null,
   "id": "ea8b9053-b597-4ede-8cbd-0190ef9a5c01",
   "metadata": {},
   "outputs": [],
   "source": [
    "rm(sp_merge)\n",
    "rm(cd4_mem)\n",
    "rm(cd4na)"
   ]
  },
  {
   "cell_type": "markdown",
   "id": "05d33eb6-4513-4565-8d33-e9df7ad997a7",
   "metadata": {},
   "source": [
    "# ATAC"
   ]
  },
  {
   "cell_type": "code",
   "execution_count": null,
   "id": "c704d8a1-af1f-4ed5-8c61-5bf18c3ed856",
   "metadata": {},
   "outputs": [],
   "source": [
    "proj <- loadArchRProject(path = '../../PedSen_ATAC/')\n",
    "proj"
   ]
  },
  {
   "cell_type": "code",
   "execution_count": null,
   "id": "903a5ea6-1595-432c-87ea-8d49c98f22de",
   "metadata": {},
   "outputs": [],
   "source": [
    "bcs <- colnames(cd4_merge[['RNA']])\n",
    "head(bcs)"
   ]
  },
  {
   "cell_type": "code",
   "execution_count": null,
   "id": "37fda3f8-c8de-440d-9325-9918e8a4c671",
   "metadata": {},
   "outputs": [],
   "source": [
    "idx_new <- which(proj$cellNames_clean %in% bcs)\n",
    "head(idx_new)"
   ]
  },
  {
   "cell_type": "code",
   "execution_count": null,
   "id": "d2e0b04e-ef32-4d35-afba-eb074954c873",
   "metadata": {},
   "outputs": [],
   "source": [
    "cells_subset <- proj$cellNames[idx_new]\n",
    "proj_subset <- proj[cells_subset,]\n",
    "proj_subset"
   ]
  },
  {
   "cell_type": "markdown",
   "id": "3b1f1501-6ce9-4ece-9346-f21afed6fcd1",
   "metadata": {},
   "source": [
    "### Add Pure Celltypes"
   ]
  },
  {
   "cell_type": "code",
   "execution_count": null,
   "id": "fbbd5a9a-3a66-4ef7-bbf8-a3fcb0fd087a",
   "metadata": {},
   "outputs": [],
   "source": [
    "pure_clusters <- as.data.frame(cd4_merge$pure_celltype)\n",
    "rownames(pure_clusters) <- paste(cd4_merge$batch_id, \"-P1_\",cd4_merge$pbmc_sample_id,\"#\",rownames(pure_clusters), sep = \"\")\n",
    "colnames(pure_clusters) <- 'pure_clusters'\n",
    "pure_clusters[] <- lapply(pure_clusters, as.character)\n",
    "head(pure_clusters)"
   ]
  },
  {
   "cell_type": "code",
   "execution_count": null,
   "id": "30b412e0-a172-4a7c-b618-2294a4a23550",
   "metadata": {},
   "outputs": [],
   "source": [
    "proj_subset <- addCellColData(proj_subset, data = pure_clusters$pure_clusters, name = 'pure_celltype', cells = rownames(pure_clusters), force = TRUE)"
   ]
  },
  {
   "cell_type": "markdown",
   "id": "fd09d0f0-0194-46c6-bba9-48d2e1fbb973",
   "metadata": {},
   "source": [
    "# ATAC Clustering"
   ]
  },
  {
   "cell_type": "code",
   "execution_count": null,
   "id": "1fce3275-e024-4af2-a47e-95d8e6b1723b",
   "metadata": {
    "scrolled": true,
    "tags": []
   },
   "outputs": [],
   "source": [
    "proj_subset <- addIterativeLSI(proj_subset, name = 'IterativeLSI', force = TRUE)"
   ]
  },
  {
   "cell_type": "code",
   "execution_count": null,
   "id": "8ea04baa-e700-4288-82ab-d01bb34c007b",
   "metadata": {},
   "outputs": [],
   "source": [
    "proj_subset <- addHarmony(proj_subset, reducedDims = 'IterativeLSI', groupBy = 'batch_id', force = TRUE)"
   ]
  },
  {
   "cell_type": "code",
   "execution_count": null,
   "id": "3bbccabb-da44-4224-a543-10a0206b4420",
   "metadata": {
    "scrolled": true,
    "tags": []
   },
   "outputs": [],
   "source": [
    "#proj_subset <- addClusters(proj_subset, reducedDims = 'IterativeLSI', name = 'Clusters', force = TRUE, resolution = 0.2)\n",
    "proj_subset <- addClusters(proj_subset, reducedDims = 'Harmony', name = 'Clusters', force = TRUE, resolution = 0.2)"
   ]
  },
  {
   "cell_type": "code",
   "execution_count": null,
   "id": "202930e1-75af-4262-a586-d3f0b2f88b98",
   "metadata": {
    "scrolled": true,
    "tags": []
   },
   "outputs": [],
   "source": [
    "#proj_subset <- addUMAP(proj_subset, reducedDims = 'IterativeLSI', name = 'UMAP', force = TRUE)\n",
    "proj_subset <- addUMAP(proj_subset, reducedDims = 'Harmony', name = 'UMAP', force = TRUE)"
   ]
  },
  {
   "cell_type": "code",
   "execution_count": null,
   "id": "d09bdf50-3ee5-4327-9303-cd8dac7163d1",
   "metadata": {
    "tags": []
   },
   "outputs": [],
   "source": [
    "options(repr.plocd8_naidth = 8, repr.plot.height = 8)\n",
    "plotEmbedding(ArchRProj = proj_subset, colorBy = \"cellColData\", name = \"Clusters\", embedding = \"UMAP\")\n",
    "plotEmbedding(ArchRProj = proj_subset, colorBy = \"cellColData\", name = \"pediatric_senior\", embedding = \"UMAP\")\n",
    "# plotEmbedding(ArchRProj = proj_subset, colorBy = \"cellColData\", name = \"wnn_celltype\", embedding = \"UMAP\")\n",
    "plotEmbedding(ArchRProj = proj_subset, colorBy = \"cellColData\", name = \"pure_celltype\", embedding = \"UMAP\")"
   ]
  },
  {
   "cell_type": "markdown",
   "id": "cda8ac43-9566-467f-8a52-7451204f189c",
   "metadata": {},
   "source": [
    "# Peak Analysis"
   ]
  },
  {
   "cell_type": "code",
   "execution_count": null,
   "id": "9f4e760f-9be9-4d76-9b88-9b586e1e21d2",
   "metadata": {
    "scrolled": true,
    "tags": []
   },
   "outputs": [],
   "source": [
    "proj_subset <- addGroupCoverages(ArchRProj = proj_subset, groupBy = \"pure_celltype\", maxReplicates = 16, maxCells = 2000, force = TRUE)"
   ]
  },
  {
   "cell_type": "code",
   "execution_count": null,
   "id": "44022ded-ab1e-49cb-b74a-95c398f83d82",
   "metadata": {},
   "outputs": [],
   "source": [
    "pathToMacs2 <- findMacs2()"
   ]
  },
  {
   "cell_type": "code",
   "execution_count": null,
   "id": "508eb1a0-d416-458c-9891-52905ebce908",
   "metadata": {},
   "outputs": [],
   "source": [
    "proj_subset <- addReproduciblePeakSet(\n",
    "                        ArchRProj = proj_subset, \n",
    "                        groupBy = \"pure_celltype\", \n",
    "                        pathToMacs2 = pathToMacs2, force = TRUE\n",
    "                            )"
   ]
  },
  {
   "cell_type": "code",
   "execution_count": null,
   "id": "dcfa92ff-7ecb-4bb9-b768-899dfd348871",
   "metadata": {},
   "outputs": [],
   "source": [
    "proj_subset <- addPeakMatrix(proj_subset)"
   ]
  },
  {
   "cell_type": "markdown",
   "id": "4f0b06b2-0f73-4c2c-90f7-93d836a7b955",
   "metadata": {},
   "source": [
    "# Peak Heatmap"
   ]
  },
  {
   "cell_type": "code",
   "execution_count": null,
   "id": "1e4e480b-b8b7-4d16-91f6-97e83aea2234",
   "metadata": {},
   "outputs": [],
   "source": [
    "table(proj_subset$pure_celltype)"
   ]
  },
  {
   "cell_type": "code",
   "execution_count": null,
   "id": "fd1f4589-0f65-4f61-8e8b-4c9239ad6704",
   "metadata": {},
   "outputs": [],
   "source": [
    "markersPeaks_pure <- getMarkerFeatures(maxCells = 1000,\n",
    "    ArchRProj = proj_subset,\n",
    "    useMatrix = \"PeakMatrix\", \n",
    "    groupBy = \"pure_celltype\",\n",
    "  bias = c(\"TSSEnrichment\", \"log10(nFrags)\"),\n",
    "  testMethod = \"wilcoxon\"\n",
    ")"
   ]
  },
  {
   "cell_type": "code",
   "execution_count": null,
   "id": "d097c6d0-8985-4eb0-abe4-5bb5189d1904",
   "metadata": {},
   "outputs": [],
   "source": [
    "heatmapPeaks_pure <- markerHeatmap(\n",
    "  seMarker = markersPeaks_pure, \n",
    "  cutOff = \"FDR <= 0.1 & Log2FC >= 0.5\",\n",
    "  transpose = FALSE\n",
    ")"
   ]
  },
  {
   "cell_type": "code",
   "execution_count": null,
   "id": "f380ede6-3b01-408f-b816-5ac8378bb203",
   "metadata": {},
   "outputs": [],
   "source": [
    "options(repr.plot.width = 8, repr.plot.height = 12)\n",
    "draw(heatmapPeaks_pure, heatmap_legend_side = \"right\", annotation_legend_side = \"bot\")"
   ]
  },
  {
   "cell_type": "code",
   "execution_count": null,
   "id": "3d617278-3094-4919-9edd-f501813b46e7",
   "metadata": {},
   "outputs": [],
   "source": [
    "# Open a pdf file\n",
    "pdf(\"plots/cd4all_peaks_atac_heatmap.pdf\", width = 8, height = 12) \n",
    "# 2. Create a plot\n",
    "draw(heatmapPeaks_pure, heatmap_legend_side = \"right\", annotation_legend_side = \"bot\")\n",
    "# Close the pdf file\n",
    "dev.off() "
   ]
  },
  {
   "cell_type": "code",
   "execution_count": null,
   "id": "db9cf94d-a0a8-45eb-9aeb-5c7511d24d37",
   "metadata": {},
   "outputs": [],
   "source": []
  }
 ],
 "metadata": {
  "kernelspec": {
   "display_name": "R 4",
   "language": "R",
   "name": "ir"
  },
  "language_info": {
   "codemirror_mode": "r",
   "file_extension": ".r",
   "mimetype": "text/x-r-source",
   "name": "R",
   "pygments_lexer": "r",
   "version": "4.1.2"
  }
 },
 "nbformat": 4,
 "nbformat_minor": 5
}
