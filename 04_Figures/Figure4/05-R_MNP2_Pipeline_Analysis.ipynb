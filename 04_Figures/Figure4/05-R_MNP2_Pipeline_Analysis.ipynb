{
 "cells": [
  {
   "cell_type": "code",
   "execution_count": null,
   "id": "7a3d097a-fe36-42e1-813d-66900dcf2504",
   "metadata": {
    "tags": []
   },
   "outputs": [],
   "source": [
    "quiet_library <- function(...) {\n",
    "    suppressPackageStartupMessages(library(...))\n",
    "}\n",
    "quiet_library(Seurat)\n",
    "quiet_library(ggplot2)\n",
    "quiet_library(Matrix)\n",
    "quiet_library(H5weaver)\n",
    "quiet_library(dplyr)\n",
    "quiet_library(viridis)\n",
    "quiet_library(harmony)\n",
    "quiet_library(Nebulosa)"
   ]
  },
  {
   "cell_type": "code",
   "execution_count": null,
   "id": "9dae27df-7283-4416-895b-172f5c260958",
   "metadata": {},
   "outputs": [],
   "source": [
    "t_cells <- readRDS('../../03_scRNA_Comparisons/Pipeline/clean_aging_t_cells.rds')"
   ]
  },
  {
   "cell_type": "code",
   "execution_count": null,
   "id": "519e4db0-286d-4fde-a867-b3225b0eece9",
   "metadata": {},
   "outputs": [],
   "source": [
    "t_cells"
   ]
  },
  {
   "cell_type": "code",
   "execution_count": null,
   "id": "7adc660d-8273-4b57-8961-09145aa9d2d6",
   "metadata": {},
   "outputs": [],
   "source": [
    "table(t_cells$age)"
   ]
  },
  {
   "cell_type": "code",
   "execution_count": null,
   "id": "31252dba-b8cd-4eb7-bf6c-f78d13cfa154",
   "metadata": {},
   "outputs": [],
   "source": [
    "unique(t_cells$pbmc_sample_id)"
   ]
  },
  {
   "cell_type": "code",
   "execution_count": null,
   "id": "36f6f63f-6902-4a09-85bc-35a6459869c3",
   "metadata": {},
   "outputs": [],
   "source": [
    "t_cells <- SetIdent(t_cells, value = 'pbmc_sample_id')\n",
    "t_cells <- RenameIdents(t_cells,\n",
    "                        'PB00892-01'='M','PB00833-01'='M','PB00913-01'='M','PB00928-01'='M','PB00809-01'='F',\n",
    "                        'PB00842-01'='M','PB00914-01'='M','PB00841-01'='F','PB00127-01'='F','PB00910-01'='F',\n",
    "                        'PB00182-01'='F','PB00192-01'='F','PB00811-01'='F','PB00173-01'='F','PB00884-01'='M',\n",
    "                        'PB00193-01'='F','PB00026-05'='M','PB00010-02'='M','PB00003-01'='F',\n",
    "                        'PB00031-05'='F','PB00507-01'='F','PB00002-01'='M','PB00384-01'='M',\n",
    "                        'PB00006-01'='F','PB00023-05'='F','PB00041-01'='M',\n",
    "                        'PB00022-01'='F','PB00363-01'='M','PB00386-01'='M','PB00366-01'='F',\n",
    "                        'PB00030-03'='F','PB00004-01'='M','PB00552-01'='F','PB00356-01'='M',\n",
    "                        'PB00530-01'='F','PB00510-01'='M','PB00352-04'='F','PB00015-01'='M',\n",
    "                        'PB00388-01'='F','PB00539-01'='M','PB00569-01'='F','PB00342-01'='M','PB00566-01'='M',\n",
    "                        'PB00537-01'='F','PB00561-01'='F','PB00562-01'='M','PB00568-01'='F',\n",
    "                        'PB00582-01'='M')\n",
    "t_cells$sex <- Idents(t_cells)"
   ]
  },
  {
   "cell_type": "code",
   "execution_count": null,
   "id": "72361e43-c135-4175-b55d-935a0f9922f2",
   "metadata": {},
   "outputs": [],
   "source": [
    "options(repr.plot.width = 8, repr.plot.height = 8)\n",
    "DimPlot(t_cells, label = TRUE, repel = TRUE, group.by = 'SCT_snn_res.0.5')\n",
    "DimPlot(t_cells, label = TRUE, repel = TRUE, group.by = 'sex')"
   ]
  },
  {
   "cell_type": "code",
   "execution_count": null,
   "id": "e0cd5d7b-7754-4382-8df9-3dfd95b0b9a4",
   "metadata": {},
   "outputs": [],
   "source": [
    "options(repr.plot.width = 20, repr.plot.height = 20)\n",
    "DimPlot(t_cells, split.by = 'batch_id', ncol = 4, group.by = 'SCT_snn_res.0.5')"
   ]
  },
  {
   "cell_type": "code",
   "execution_count": null,
   "id": "54aef1e9-6bc2-4125-b3a1-50c33c2f06a2",
   "metadata": {},
   "outputs": [],
   "source": [
    "t_cells <- SetIdent(t_cells, value = 'SCT_snn_res.0.5')\n",
    "t_cells <- FindSubCluster(object = t_cells, cluster = 11, graph.name = 'SCT_snn', resolution = 0.2)\n",
    "Idents(t_cells) <- \"sub.cluster\""
   ]
  },
  {
   "cell_type": "code",
   "execution_count": null,
   "id": "3e275d4a-a4e6-491a-8442-5d78a7a49cca",
   "metadata": {},
   "outputs": [],
   "source": [
    "options(repr.plot.width = 10, repr.plot.height = 8)\n",
    "DimPlot(t_cells, label = TRUE, repel = TRUE)\n",
    "table(t_cells$sub.cluster)"
   ]
  },
  {
   "cell_type": "code",
   "execution_count": null,
   "id": "7e0711f6-4f26-44f0-b22d-a0d428d0708a",
   "metadata": {},
   "outputs": [],
   "source": [
    "DefaultAssay(t_cells) <- 'RNA'\n",
    "t_cells <- NormalizeData(t_cells)"
   ]
  },
  {
   "cell_type": "code",
   "execution_count": null,
   "id": "b8971388-67a3-4e64-960a-53510456ca2d",
   "metadata": {},
   "outputs": [],
   "source": [
    "options(repr.plot.width = 20, repr.plot.height = 8)\n",
    "VlnPlot(t_cells, features = c('KLRC2','ZNF683','CD3E','CD3G','TRGC2','TRDC',\n",
    "                              'IKZF2','LEF1'), ncol = 2, pt.size = 0)"
   ]
  },
  {
   "cell_type": "code",
   "execution_count": null,
   "id": "ff8e4fcb-41d5-426b-8168-35a3f4c90b30",
   "metadata": {},
   "outputs": [],
   "source": [
    "options(repr.plot.width = 20, repr.plot.height = 12)\n",
    "FeaturePlot(t_cells, features = c('KLRC2','ZNF683','IKZF2',\n",
    "                                  'TRGC1','TRGC2','TRDC',\n",
    "                                  'IL21R','CD8A','DUSP2'), ncol = 3, order = TRUE)"
   ]
  },
  {
   "cell_type": "code",
   "execution_count": null,
   "id": "c116b8b5-7278-4df1-ab96-b226b9d54aef",
   "metadata": {},
   "outputs": [],
   "source": [
    "mnp2_markers <- FindMarkers(t_cells, `ident.1` = '11_1', max.cells.per.ident = 500)"
   ]
  },
  {
   "cell_type": "code",
   "execution_count": null,
   "id": "6aa26164-1819-4048-a5b2-1b30f1465cdf",
   "metadata": {},
   "outputs": [],
   "source": [
    "head(subset(mnp2_markers, avg_log2FC > 0), n=20)"
   ]
  },
  {
   "cell_type": "code",
   "execution_count": null,
   "id": "92d362a5-cd81-4d81-8777-f84e0626e201",
   "metadata": {},
   "outputs": [],
   "source": [
    "ped_gdT_markers <- FindMarkers(t_cells, `ident.1` = '11_0', max.cells.per.ident = 500)"
   ]
  },
  {
   "cell_type": "code",
   "execution_count": null,
   "id": "bbcf8d5a-716b-4a27-ba4e-161288cfee97",
   "metadata": {},
   "outputs": [],
   "source": [
    "head(subset(ped_gdT_markers, avg_log2FC > 0), n=20)"
   ]
  },
  {
   "cell_type": "code",
   "execution_count": null,
   "id": "170018a7-76ae-4028-bb0d-905e04ff35c5",
   "metadata": {},
   "outputs": [],
   "source": [
    "cluster12_2 <- FindMarkers(t_cells, `ident.1` = '11_2', max.cells.per.ident = 500)"
   ]
  },
  {
   "cell_type": "code",
   "execution_count": null,
   "id": "6ce2cc2c-614a-4203-a62f-b1377398caf6",
   "metadata": {},
   "outputs": [],
   "source": [
    "head(subset(cluster12_2, avg_log2FC > 0), n=20)"
   ]
  },
  {
   "cell_type": "code",
   "execution_count": null,
   "id": "58c113ff-19d1-4711-a8cc-74038d0c7b7b",
   "metadata": {},
   "outputs": [],
   "source": [
    "t_cells <- SetIdent(t_cells, value = 'age')\n",
    "subset_50k <- subset(t_cells, downsample = 75000)"
   ]
  },
  {
   "cell_type": "code",
   "execution_count": null,
   "id": "030bdad7-d237-498e-90c9-4bee5842cd0b",
   "metadata": {},
   "outputs": [],
   "source": [
    "p <- plot_density(subset_50k, c('IL21R','LEF1','KLRC2'), joint = TRUE)"
   ]
  },
  {
   "cell_type": "code",
   "execution_count": null,
   "id": "c2369c74-228a-4d65-b0f9-32780bd4449e",
   "metadata": {},
   "outputs": [],
   "source": [
    "options(repr.plot.width = 12, repr.plot.height = 12)\n",
    "p"
   ]
  },
  {
   "cell_type": "code",
   "execution_count": null,
   "id": "54e5320b-945a-4155-9b61-56e4ad5db52a",
   "metadata": {},
   "outputs": [],
   "source": [
    "p <- plot_density(subset_50k, c('LEF1','DUSP2'), joint = TRUE)"
   ]
  },
  {
   "cell_type": "code",
   "execution_count": null,
   "id": "0de26d7f-f397-4d44-a609-6112910f18b0",
   "metadata": {},
   "outputs": [],
   "source": [
    "options(repr.plot.width = 12, repr.plot.height = 12)\n",
    "p + plot_layout(ncol = 2)"
   ]
  },
  {
   "cell_type": "code",
   "execution_count": null,
   "id": "1988ca05-0a92-43be-ab8a-a5aa7d6ec0ea",
   "metadata": {},
   "outputs": [],
   "source": [
    "p <- plot_density(subset_50k, c('LEF1','KLRC3','CD8A'), joint = TRUE)"
   ]
  },
  {
   "cell_type": "code",
   "execution_count": null,
   "id": "cc1fc7de-304e-477f-bf82-d28e19e2d093",
   "metadata": {},
   "outputs": [],
   "source": [
    "options(repr.plot.width = 12, repr.plot.height = 12)\n",
    "p + plot_layout(ncol = 2)"
   ]
  },
  {
   "cell_type": "code",
   "execution_count": null,
   "id": "15747a48-8b8d-4b9d-a653-592d35a57e84",
   "metadata": {},
   "outputs": [],
   "source": [
    "# Open a pdf file\n",
    "pdf(\"plots/mnp2_pipeline_markers_nebulosa_umap.pdf\", width = 12, height = 12) \n",
    "# 2. Create a plot\n",
    "p\n",
    "# Close the pdf file\n",
    "dev.off() "
   ]
  },
  {
   "cell_type": "code",
   "execution_count": null,
   "id": "09b2b6ea-d3d6-4367-bde9-abcdc64df749",
   "metadata": {},
   "outputs": [],
   "source": [
    "# 'KLRC2','ZNF683','IKZF2',\n",
    "# 'TRGC1','TRGC2','TRDC',\n",
    "# 'IL21R','CD8A','DUSP2"
   ]
  },
  {
   "cell_type": "code",
   "execution_count": null,
   "id": "6fa93896-1e35-4a02-a485-b76c10267b81",
   "metadata": {},
   "outputs": [],
   "source": [
    "p[[4]]"
   ]
  },
  {
   "cell_type": "code",
   "execution_count": null,
   "id": "99e3d577-5921-4a8f-9444-f11e6b8b9057",
   "metadata": {},
   "outputs": [],
   "source": [
    "t_cells <- SetIdent(t_cells, value = 'sub.cluster')\n",
    "mnp2_cluster <- subset(t_cells, idents = '11_1')"
   ]
  },
  {
   "cell_type": "code",
   "execution_count": null,
   "id": "4f150f58-5cf3-46cc-b1e0-1e59f54d5840",
   "metadata": {},
   "outputs": [],
   "source": [
    "mnp2_counts <- dplyr::count(mnp2_cluster@meta.data, pbmc_sample_id, age, sex)\n",
    "head(mnp2_counts)"
   ]
  },
  {
   "cell_type": "code",
   "execution_count": null,
   "id": "1ce26c70-7e3a-4a5a-addc-4a93dfd94078",
   "metadata": {},
   "outputs": [],
   "source": [
    "total_t_counts <- dplyr::count(t_cells@meta.data, pbmc_sample_id)\n",
    "head(total_t_counts)"
   ]
  },
  {
   "cell_type": "code",
   "execution_count": null,
   "id": "facb1ef4-7420-411f-8286-c55fd81c4309",
   "metadata": {},
   "outputs": [],
   "source": [
    "joined_counts <- left_join(mnp2_counts, total_t_counts, by = 'pbmc_sample_id')\n",
    "head(joined_counts)"
   ]
  },
  {
   "cell_type": "code",
   "execution_count": null,
   "id": "2a3f98ad-d833-427e-83a9-de96d8058e29",
   "metadata": {},
   "outputs": [],
   "source": [
    "joined_counts$perc <- joined_counts$n.x / joined_counts$n.y\n",
    "head(joined_counts)"
   ]
  },
  {
   "cell_type": "code",
   "execution_count": null,
   "id": "26629c19-04ef-4281-b876-de23105cd86c",
   "metadata": {},
   "outputs": [],
   "source": [
    "write.csv(joined_counts, file = 'mnp2_scrna_seq_perc.csv')"
   ]
  },
  {
   "cell_type": "code",
   "execution_count": null,
   "id": "1ef75217-baf1-4d88-901f-2ff3def72a81",
   "metadata": {},
   "outputs": [],
   "source": [
    "joined_counts <- read.csv(file = 'mnp2_scrna_seq_perc_age.csv')"
   ]
  },
  {
   "cell_type": "code",
   "execution_count": null,
   "id": "55922270-2e19-4798-8ba7-620e1e6ab508",
   "metadata": {},
   "outputs": [],
   "source": [
    "head(joined_counts)"
   ]
  },
  {
   "cell_type": "code",
   "execution_count": null,
   "id": "9a4714de-c84c-49b4-bd61-888dc66c7579",
   "metadata": {},
   "outputs": [],
   "source": [
    "options(repr.plot.width = 8, repr.plot.height = 8)\n",
    "ggplot(joined_counts, aes(x=age, y=perc, color=sex)) + \n",
    "    geom_point(size = 3) + \n",
    "    geom_smooth(formula=y ~ x^2,alpha=.15, aes(fill=sex), se = FALSE) + \n",
    "    scale_color_manual(values=c('#08519c','#9ecae1')) + \n",
    "    xlab('Age') + ylab('Fraction MNP-2 of Total T') +\n",
    "    theme_bw() + \n",
    "    theme(axis.text.x = element_text(size = 15),\n",
    "          axis.text.y = element_text(size = 15),\n",
    "          axis.title.y = element_text(size = 20),\n",
    "          axis.title.x = element_text(size = 20),\n",
    "          # legend.key.size = unit(2, 'cm'), #change legend key size\n",
    "          # legend.key.height = unit(1, 'cm'), #change legend key height\n",
    "          # legend.key.width = unit(1, 'cm'), #change legend key width\n",
    "          legend.title = element_text(size=20), #change legend title font size\n",
    "          legend.text = element_text(size=15))"
   ]
  },
  {
   "cell_type": "code",
   "execution_count": null,
   "id": "7ee6ff9c-4700-4e68-b24e-57979975da8a",
   "metadata": {},
   "outputs": [],
   "source": [
    "# Open a pdf file\n",
    "pdf(\"plots/mnp2_pipeline_age_sex_dotplot.pdf\", width = 8, height = 8) \n",
    "# 2. Create a plot\n",
    "ggplot(joined_counts, aes(x=age, y=perc, color=sex)) + \n",
    "    geom_point(size = 3) + \n",
    "    geom_smooth(formula=y ~ x^2,alpha=.15, aes(fill=sex), se = FALSE) + \n",
    "    scale_color_manual(values=c('#08519c','#9ecae1')) + \n",
    "    xlab('Age') + ylab('Fraction MNP-2 of Total T') +\n",
    "    theme_bw() + \n",
    "    theme(axis.text.x = element_text(size = 15),\n",
    "          axis.text.y = element_text(size = 15),\n",
    "          axis.title.y = element_text(size = 20),\n",
    "          axis.title.x = element_text(size = 20),\n",
    "          # legend.key.size = unit(2, 'cm'), #change legend key size\n",
    "          # legend.key.height = unit(1, 'cm'), #change legend key height\n",
    "          # legend.key.width = unit(1, 'cm'), #change legend key width\n",
    "          legend.title = element_text(size=20), #change legend title font size\n",
    "          legend.text = element_text(size=15))\n",
    "# Close the pdf file\n",
    "dev.off() "
   ]
  }
 ],
 "metadata": {
  "kernelspec": {
   "display_name": "R 4",
   "language": "R",
   "name": "ir"
  },
  "language_info": {
   "codemirror_mode": "r",
   "file_extension": ".r",
   "mimetype": "text/x-r-source",
   "name": "R",
   "pygments_lexer": "r",
   "version": "4.1.2"
  }
 },
 "nbformat": 4,
 "nbformat_minor": 5
}
