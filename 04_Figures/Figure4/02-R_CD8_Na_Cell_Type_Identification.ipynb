{
 "cells": [
  {
   "cell_type": "code",
   "execution_count": null,
   "id": "fcadfbb2-3c38-4e75-a271-4c960f20dcc2",
   "metadata": {},
   "outputs": [],
   "source": [
    "quiet_library <- function(...) {\n",
    "    suppressPackageStartupMessages(library(...))\n",
    "}\n",
    "quiet_library(Seurat)\n",
    "quiet_library(ggplot2)\n",
    "quiet_library(Matrix)\n",
    "quiet_library(H5weaver)\n",
    "quiet_library(dplyr)\n",
    "quiet_library(viridis)\n",
    "quiet_library(harmony)\n",
    "quiet_library(Nebulosa)\n",
    "quiet_library(ArchR)"
   ]
  },
  {
   "cell_type": "code",
   "execution_count": null,
   "id": "2a70aeaf-461c-4224-a56e-2bacc488e361",
   "metadata": {},
   "outputs": [],
   "source": [
    "cd8_na <- readRDS(file = 'cd8_naive_processed.rds')"
   ]
  },
  {
   "cell_type": "markdown",
   "id": "345dcf96-4c2d-4dc5-955c-0d12c913e0cb",
   "metadata": {},
   "source": [
    "# Trim low number clusters"
   ]
  },
  {
   "cell_type": "code",
   "execution_count": null,
   "id": "3786f275-ffbe-4df2-8a8f-6c2793d5155c",
   "metadata": {},
   "outputs": [],
   "source": [
    "table(cd8_na$`wsnn_res.0.3`)"
   ]
  },
  {
   "cell_type": "code",
   "execution_count": null,
   "id": "61cadab3-b1fe-4a89-9f76-5262f553d32f",
   "metadata": {},
   "outputs": [],
   "source": [
    "options(repr.plot.width = 6, repr.plot.height = 6)\n",
    "DimPlot(cd8_na, reduction = 'wnn.3.umap', group.by = 'wsnn_res.0.3', shuffle = TRUE, label = TRUE)"
   ]
  },
  {
   "cell_type": "code",
   "execution_count": null,
   "id": "36148bd3-431e-4232-a131-3ecae2d4d8dd",
   "metadata": {},
   "outputs": [],
   "source": [
    "cd8_na <- SetIdent(cd8_na, value = 'wsnn_res.0.3')\n",
    "cd8_na <- FindSubCluster(object = cd8_na, cluster = 4, graph.name = 'wsnn', resolution = 0.2)\n",
    "Idents(cd8_na) <- \"sub.cluster\""
   ]
  },
  {
   "cell_type": "code",
   "execution_count": null,
   "id": "6a72d5d6-a52b-498a-b2c8-148d66d68f17",
   "metadata": {},
   "outputs": [],
   "source": [
    "table(cd8_na$`sub.cluster`)"
   ]
  },
  {
   "cell_type": "code",
   "execution_count": null,
   "id": "4872b22b-873a-483c-bd7a-ce45d4a6f73a",
   "metadata": {},
   "outputs": [],
   "source": [
    "cd8_na <- SetIdent(cd8_na, value = 'sub.cluster')\n",
    "trim_cd8_na <- subset(cd8_na, idents = c('4_2'), invert = TRUE)"
   ]
  },
  {
   "cell_type": "code",
   "execution_count": null,
   "id": "e9a16835-ed8a-4d6e-a1e4-2cc2bca328ea",
   "metadata": {},
   "outputs": [],
   "source": [
    "options(repr.plot.width = 18, repr.plot.height = 15)\n",
    "p1 <- DimPlot(trim_cd8_na, reduction = 'wnn.3.umap', group.by = 'sub.cluster', label = TRUE, label.size = 6)\n",
    "p2 <- DimPlot(trim_cd8_na, reduction = 'wnn.3.umap', group.by = 'pediatric_senior', shuffle = TRUE)\n",
    "p3 <- DimPlot(trim_cd8_na, reduction = 'wnn.3.umap', group.by = 'age_cmv', shuffle = TRUE)\n",
    "p4 <- FeaturePlot(trim_cd8_na, reduction = 'wnn.3.umap', features = 'percent.mt')\n",
    "p1 + p2 + p3 + p4"
   ]
  },
  {
   "cell_type": "markdown",
   "id": "317e5977-49d5-4e1e-99bd-d79363091aa6",
   "metadata": {},
   "source": [
    "# DEG Analysis"
   ]
  },
  {
   "cell_type": "code",
   "execution_count": null,
   "id": "d9710d59-1c14-4e83-b763-84f96fac6a2d",
   "metadata": {},
   "outputs": [],
   "source": [
    "trim_cd8_na <- SetIdent(trim_cd8_na, value = 'sub.cluster')\n",
    "rna_markers <- FindAllMarkers(trim_cd8_na, assay = 'SCT', max.cells.per.ident = 500)"
   ]
  },
  {
   "cell_type": "code",
   "execution_count": null,
   "id": "54150639-6213-4900-a400-c618ed8a3691",
   "metadata": {},
   "outputs": [],
   "source": [
    "rna_markers %>%\n",
    "    group_by(cluster) %>%\n",
    "    top_n(n = 10, wt = avg_log2FC) -> top10"
   ]
  },
  {
   "cell_type": "code",
   "execution_count": null,
   "id": "8c9c52eb-56df-4530-8ff7-c6167d6f0bb6",
   "metadata": {},
   "outputs": [],
   "source": [
    "options(repr.plot.width = 18, repr.plot.height = 15)\n",
    "trim_cd8_na_subset <- subset(trim_cd8_na, downsample = 500)\n",
    "DoHeatmap(trim_cd8_na_subset, features = top10$gene, assay = 'SCT') + NoLegend()"
   ]
  },
  {
   "cell_type": "markdown",
   "id": "acebd958-fd18-4f9e-8fdc-2b480177753d",
   "metadata": {},
   "source": [
    "# Cluster / Cell Types"
   ]
  },
  {
   "cell_type": "code",
   "execution_count": null,
   "id": "c7829389-622f-49a6-9877-d1e4f961ba5c",
   "metadata": {},
   "outputs": [],
   "source": [
    "trim_cd8_na <- SetIdent(trim_cd8_na, value = 'sub.cluster')\n",
    "trim_cd8_na <- RenameIdents(trim_cd8_na, '0' = 'CD8 Naive-1',\n",
    "                          '1' = 'CD8 Naive-2', '2' = 'CD8 Naive-3', '3' = 'CD8 Naive-4', \n",
    "                          '4_0' = 'CD8 MNP-1', '4_1' = 'CD8 SCM',\n",
    "                          '5' = 'CD8 Naive-5',\n",
    "                          '6' = 'CD8 Naive-6',\n",
    "                          '7' = 'CD8 MNP-2',\n",
    "                          '8' = 'CD8 MAIT')\n",
    "trim_cd8_na$wnn_celltype <- Idents(trim_cd8_na)"
   ]
  },
  {
   "cell_type": "code",
   "execution_count": null,
   "id": "f45906cc-4cbf-46f0-866c-d64cb40dbfd2",
   "metadata": {},
   "outputs": [],
   "source": [
    "options(repr.plot.width = 12, repr.plot.height = 10)\n",
    "DimPlot(trim_cd8_na, reduction = 'wnn.3.umap', group.by = 'wnn_celltype', label = TRUE, label.size = 8, repel = TRUE)"
   ]
  },
  {
   "cell_type": "code",
   "execution_count": null,
   "id": "d8a133ca-3878-45af-901e-47d0315eaec4",
   "metadata": {},
   "outputs": [],
   "source": [
    "trim_cd8_na <- SetIdent(trim_cd8_na, value = 'sub.cluster')\n",
    "trim_cd8_na <- RenameIdents(trim_cd8_na, '0' = 'CD8 Naive',\n",
    "                          '1' = 'CD8 Naive', '2' = 'CD8 Naive', '3' = 'CD8 Naive', \n",
    "                          '4_0' = 'CD8 MNP-1', '4_1' = 'CD8 SCM',\n",
    "                          '5' = 'CD8 Naive',\n",
    "                          '6' = 'CD8 Naive',\n",
    "                          '7' = 'CD8 MNP-2',\n",
    "                          '8' = 'CD8 MAIT')\n",
    "trim_cd8_na$pure_celltype <- Idents(trim_cd8_na)"
   ]
  },
  {
   "cell_type": "code",
   "execution_count": null,
   "id": "27ce6e42-76ac-46e4-944c-0ea057895c96",
   "metadata": {},
   "outputs": [],
   "source": [
    "options(repr.plot.width = 12, repr.plot.height = 10)\n",
    "DimPlot(trim_cd8_na, reduction = 'wnn.3.umap', group.by = 'pure_celltype', label = TRUE, label.size = 8, repel = TRUE)"
   ]
  },
  {
   "cell_type": "code",
   "execution_count": null,
   "id": "8fa4281c-8e41-4e18-8159-1bb13c42e0ac",
   "metadata": {},
   "outputs": [],
   "source": [
    "options(repr.plot.width = 18, repr.plot.height = 15)\n",
    "p1 <- DimPlot(trim_cd8_na, reduction = 'umap', group.by = 'pure_celltype', label = TRUE)\n",
    "p2 <- DimPlot(trim_cd8_na, reduction = 'adtumap', group.by = 'pure_celltype', label = TRUE)\n",
    "p3 <- DimPlot(trim_cd8_na, reduction = 'atac_umap', group.by = 'pure_celltype', label = TRUE)\n",
    "p4 <- DimPlot(trim_cd8_na, reduction = 'wnn.3.umap', group.by = 'pure_celltype', label = TRUE)\n",
    "p1 + p2 + p3 + p4"
   ]
  },
  {
   "cell_type": "markdown",
   "id": "1c19b315-e6ac-43bb-8fa9-0807f10ccefd",
   "metadata": {},
   "source": [
    "# Save "
   ]
  },
  {
   "cell_type": "code",
   "execution_count": null,
   "id": "31fe63b1-bf2b-4ee6-9c2e-82060f9fa19b",
   "metadata": {},
   "outputs": [],
   "source": [
    "saveRDS(trim_cd8_na, file = 'trim_cd8_na.rds')"
   ]
  },
  {
   "cell_type": "code",
   "execution_count": null,
   "id": "6fc63042-033f-47a9-ba84-7d7156c5aa52",
   "metadata": {},
   "outputs": [],
   "source": [
    "sessionInfo()"
   ]
  }
 ],
 "metadata": {
  "kernelspec": {
   "display_name": "R 4",
   "language": "R",
   "name": "ir"
  },
  "language_info": {
   "codemirror_mode": "r",
   "file_extension": ".r",
   "mimetype": "text/x-r-source",
   "name": "R",
   "pygments_lexer": "r",
   "version": "4.1.2"
  },
  "toc-autonumbering": true
 },
 "nbformat": 4,
 "nbformat_minor": 5
}
