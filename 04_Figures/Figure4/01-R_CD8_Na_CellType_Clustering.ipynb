{
 "cells": [
  {
   "cell_type": "markdown",
   "id": "685f14c8-fe14-4c94-a93e-6fecd7fdcc19",
   "metadata": {},
   "source": [
    "# Basic 3WNN Clustering w/ Gated Labels"
   ]
  },
  {
   "cell_type": "code",
   "execution_count": null,
   "id": "912d7fb1-3d77-4796-b6d3-4ad6cbe665bb",
   "metadata": {},
   "outputs": [],
   "source": [
    "quiet_library <- function(...) {\n",
    "    suppressPackageStartupMessages(library(...))\n",
    "}\n",
    "quiet_library(Seurat)\n",
    "quiet_library(ggplot2)\n",
    "quiet_library(Matrix)\n",
    "quiet_library(H5weaver)\n",
    "quiet_library(dplyr)\n",
    "quiet_library(viridis)\n",
    "quiet_library(harmony)\n",
    "#quiet_library(Nebulosa)\n",
    "quiet_library(ArchR)"
   ]
  },
  {
   "cell_type": "code",
   "execution_count": null,
   "id": "c723812d-0648-4416-9e67-c7e02f40510d",
   "metadata": {},
   "outputs": [],
   "source": [
    "addArchRThreads(32)\n",
    "addArchRGenome(\"hg38\")"
   ]
  },
  {
   "cell_type": "markdown",
   "id": "438de474-5b59-4850-96f1-8d59eb97d176",
   "metadata": {},
   "source": [
    "# Load CD8 Gated Subset"
   ]
  },
  {
   "cell_type": "code",
   "execution_count": null,
   "id": "484e9736-dbdc-4ad7-9806-1ea3f8bf1adb",
   "metadata": {},
   "outputs": [],
   "source": [
    "cd8_na <- readRDS('../../Seurat_Objects/cd8_naive.rds')"
   ]
  },
  {
   "cell_type": "markdown",
   "id": "951f16b9-5a6c-4b5c-9fac-5fd47ccd27cf",
   "metadata": {},
   "source": [
    "# Add Metadata"
   ]
  },
  {
   "cell_type": "code",
   "execution_count": null,
   "id": "3bbcd39a-ae80-4233-8633-cda50ab0c0f8",
   "metadata": {},
   "outputs": [],
   "source": [
    "cd8_na <- SetIdent(cd8_na, value = 'pbmc_sample_id')\n",
    "cd8_na <- RenameIdents(cd8_na,\n",
    "                           'PB00173-02' = 'Positive', #validated\n",
    "                           'PB00192-02' = 'Negative', #validated\n",
    "                           'PB00197-02' = 'Negative', #validated\n",
    "                           'PB00593-04' = 'Positive', #validated\n",
    "                           'PB00172-02' = 'Positive',\n",
    "                           'PB00182-02' = 'Negative',\n",
    "                           'PB00323-02' = 'Positive',\n",
    "                           'PB00807-02' = 'Positive',\n",
    "                           'PB00124-02' = 'Positive',\n",
    "                           'PB00127-02' = 'Negative',\n",
    "                           'PB00334-03' = 'Negative',\n",
    "                           'PB00353-03' = 'Negative',\n",
    "                           'PB00368-04' = 'Positive',\n",
    "                           'PB00377-03' = 'Negative',\n",
    "                           'PB00545-02' = 'Negative',\n",
    "                           'PB00599-02' = 'Positive')\n",
    "cd8_na$CMV <- Idents(cd8_na)"
   ]
  },
  {
   "cell_type": "code",
   "execution_count": null,
   "id": "70a89c3a-fab5-40ea-953a-c36ed9606f5d",
   "metadata": {},
   "outputs": [],
   "source": [
    "cd8_na <- SetIdent(cd8_na, value = 'pbmc_sample_id')\n",
    "cd8_na <- RenameIdents(cd8_na,\n",
    "                           'PB00173-02' = 'UP1006', #validated\n",
    "                           'PB00192-02' = 'UP1007', #validated\n",
    "                           'PB00197-02' = 'UP1010', #validated\n",
    "                           'PB00593-04' = 'BR2002', #validated\n",
    "                           'PB00172-02' = 'UP1002',\n",
    "                           'PB00182-02' = 'UP1003',\n",
    "                           'PB00323-02' = 'BR2004',\n",
    "                           'PB00807-02' = 'UP1005',\n",
    "                           'PB00124-02' = 'UP1001',\n",
    "                           'PB00127-02' = 'UP1004',\n",
    "                           'PB00334-03' = 'BR2009',\n",
    "                           'PB00353-03' = 'BR2008',\n",
    "                           'PB00368-04' = 'BR2005',\n",
    "                           'PB00377-03' = 'BR2015',\n",
    "                           'PB00545-02' = 'BR2042',\n",
    "                           'PB00599-02' = 'BR2052')\n",
    "cd8_na$subject_id <- Idents(cd8_na)"
   ]
  },
  {
   "cell_type": "code",
   "execution_count": null,
   "id": "0c843783-893d-48dd-bda7-4a033ec1dedc",
   "metadata": {},
   "outputs": [],
   "source": [
    "cd8_na$age_cmv <- paste0(cd8_na$pediatric_senior,\"_CMV-\",cd8_na$CMV)"
   ]
  },
  {
   "cell_type": "markdown",
   "id": "a43f9493-d48b-42a5-84eb-7164c9a0b4d8",
   "metadata": {},
   "source": [
    "# RNA Clustering"
   ]
  },
  {
   "cell_type": "code",
   "execution_count": null,
   "id": "941adae5-d59c-455a-a8a1-d202f473078f",
   "metadata": {},
   "outputs": [],
   "source": [
    "outlier_genes <- c('AC105402.3','MTRNR2L8','EDA','IFNG-AS1')"
   ]
  },
  {
   "cell_type": "code",
   "execution_count": null,
   "id": "de597fab-ea89-4e11-b818-f1088e157ec9",
   "metadata": {
    "scrolled": true,
    "tags": []
   },
   "outputs": [],
   "source": [
    "cd8_na <- suppressWarnings(SCTransform(cd8_na)) %>% RunPCA()"
   ]
  },
  {
   "cell_type": "code",
   "execution_count": null,
   "id": "05549467-886a-4bdb-93d9-dc6658cff639",
   "metadata": {},
   "outputs": [],
   "source": [
    "var_feat_sct <- cd8_na@assays$SCT@var.features\n",
    "length(var_feat_sct)"
   ]
  },
  {
   "cell_type": "code",
   "execution_count": null,
   "id": "860e590b-de24-47e1-a154-58ce74bce0f4",
   "metadata": {},
   "outputs": [],
   "source": [
    "outlier_genes %in% cd8_na@assays$SCT@var.features"
   ]
  },
  {
   "cell_type": "code",
   "execution_count": null,
   "id": "1bc8df2c-9412-46c5-a3c5-4c281145332d",
   "metadata": {},
   "outputs": [],
   "source": [
    "var_feats <- cd8_na@assays$SCT@var.features\n",
    "var_feats_trim <- var_feats[!(var_feats %in% outlier_genes)]\n",
    "length(var_feats_trim)"
   ]
  },
  {
   "cell_type": "code",
   "execution_count": null,
   "id": "fbc5a8b5-9b7b-4b77-b991-6422e19e526d",
   "metadata": {
    "scrolled": true,
    "tags": []
   },
   "outputs": [],
   "source": [
    "cd8_na <- suppressWarnings(SCTransform(cd8_na, residual.features = var_feats_trim)) %>% RunPCA()"
   ]
  },
  {
   "cell_type": "code",
   "execution_count": null,
   "id": "53a539f1-7ada-452e-855b-d5655ebbd704",
   "metadata": {},
   "outputs": [],
   "source": [
    "options(repr.plot.width = 8, repr.plot.height = 4)\n",
    "cd8_na <- suppressWarnings(RunHarmony(object = cd8_na, reduction.save = 'rna_harmony',group.by.vars = 'batch_id', reduction = 'pca', \n",
    "                                           plot_convergence = T, assay.use = 'SCT'))"
   ]
  },
  {
   "cell_type": "code",
   "execution_count": null,
   "id": "29dffbf6-a3a7-403a-9eec-7cda96d6c910",
   "metadata": {},
   "outputs": [],
   "source": [
    "ElbowPlot(cd8_na, ndims = 50)"
   ]
  },
  {
   "cell_type": "code",
   "execution_count": null,
   "id": "6358be0a-bf31-4671-b834-3fe8177bf015",
   "metadata": {
    "scrolled": true,
    "tags": []
   },
   "outputs": [],
   "source": [
    "cd8_na <- RunUMAP(cd8_na, dims = 1:8, reduction = 'rna_harmony')"
   ]
  },
  {
   "cell_type": "markdown",
   "id": "614603d8-1388-436c-a62f-ed77c74096ae",
   "metadata": {},
   "source": [
    "## RNA UMAPs"
   ]
  },
  {
   "cell_type": "code",
   "execution_count": null,
   "id": "ad0904d5-e20d-467e-b5f8-1df36c8ce583",
   "metadata": {},
   "outputs": [],
   "source": [
    "options(repr.plot.width = 20, repr.plot.height = 10)\n",
    "p1 <- DimPlot(cd8_na, reduction = 'umap', group.by = 'predicted.t_celltype.l2', shuffle = TRUE)\n",
    "p2 <- DimPlot(cd8_na, reduction = 'umap', group.by = 'pediatric_senior', shuffle = TRUE)\n",
    "p3 <- DimPlot(cd8_na, reduction = 'umap', group.by = 'age_cmv', shuffle = TRUE)\n",
    "p4 <- DimPlot(cd8_na, reduction = 'umap', group.by = 'pbmc_sample_id', shuffle = TRUE)\n",
    "p1 + p2 + p3 + p4"
   ]
  },
  {
   "cell_type": "code",
   "execution_count": null,
   "id": "453da2c5-8ba8-419a-8443-f41464e1b459",
   "metadata": {},
   "outputs": [],
   "source": [
    "options(repr.plot.width = 20, repr.plot.height = 12)\n",
    "suppressMessages(FeaturePlot(cd8_na, features = c('sct_IFNG-AS1','sct_EDA','sct_SOX4','sct_ZNF683'), \n",
    "                             ncol = 2,reduction = 'umap', order = TRUE) & scale_color_viridis())"
   ]
  },
  {
   "cell_type": "markdown",
   "id": "16468fe8-4c96-40b6-b518-8d3cfd3c67f4",
   "metadata": {},
   "source": [
    "# ADT Clustering"
   ]
  },
  {
   "cell_type": "code",
   "execution_count": null,
   "id": "0fb9ede6-180e-4b5e-a5a7-2b3b2cb27a50",
   "metadata": {},
   "outputs": [],
   "source": [
    "adts_to_remove <- c('CD134','CD172a','CD183','CD366','CX3CR1','TCRab','TCRgd','CD137','CD24','CD294','CD304','CD40','CD80','CD86','IgG1-K-Isotype-Control')\n",
    "adt_mtx <- cd8_na@assays$ADT@counts\n",
    "length(rownames(adt_mtx))"
   ]
  },
  {
   "cell_type": "code",
   "execution_count": null,
   "id": "b8997582-aab0-479b-a225-251b1ef2dc34",
   "metadata": {},
   "outputs": [],
   "source": [
    "idx <- which(rownames(adt_mtx) %in% adts_to_remove)\n",
    "clean_adt_mtx <- adt_mtx[-idx,]\n",
    "length(rownames(clean_adt_mtx))"
   ]
  },
  {
   "cell_type": "code",
   "execution_count": null,
   "id": "cb148a7e-acff-476e-b121-694dbdfd3764",
   "metadata": {},
   "outputs": [],
   "source": [
    "cd8_na[['clean_adt']] <- CreateAssayObject(clean_adt_mtx)\n",
    "DefaultAssay(cd8_na) <- 'clean_adt'"
   ]
  },
  {
   "cell_type": "code",
   "execution_count": null,
   "id": "490656d6-2f60-44bb-b208-3d06c290edee",
   "metadata": {
    "scrolled": true,
    "tags": []
   },
   "outputs": [],
   "source": [
    "# cluster by ADTs, make sure to save under all new reductions and keys \n",
    "VariableFeatures(cd8_na) <- rownames(cd8_na[[\"clean_adt\"]])\n",
    "cd8_na <- NormalizeData(cd8_na, normalization.method = 'CLR', margin = 2) %>% \n",
    "     ScaleData() %>% RunPCA(reduction.name = 'apca', approx = FALSE, reduction.key = 'APC_')"
   ]
  },
  {
   "cell_type": "code",
   "execution_count": null,
   "id": "d8c19367-35d9-40d6-a17c-9fbc46dbb800",
   "metadata": {
    "scrolled": true,
    "tags": []
   },
   "outputs": [],
   "source": [
    "options(repr.plot.width = 8, repr.plot.height = 4)\n",
    "cd8_na <- suppressWarnings(RunHarmony(object = cd8_na, reduction.save = 'adt_harmony',group.by.vars = 'batch_id', reduction = 'apca', \n",
    "                                           plot_convergence = T, assay.use = 'clean_adt'))"
   ]
  },
  {
   "cell_type": "code",
   "execution_count": null,
   "id": "588dddc2-2721-4af1-b840-a6c8255bb94f",
   "metadata": {
    "scrolled": true,
    "tags": []
   },
   "outputs": [],
   "source": [
    "cd8_na <- RunUMAP(cd8_na, reduction = 'adt_harmony', reduction.name = 'adtumap', dims = 1:20)"
   ]
  },
  {
   "cell_type": "markdown",
   "id": "7a2138f1-0996-42d9-82cb-00a5b6abc557",
   "metadata": {},
   "source": [
    "## ADT UMAPs"
   ]
  },
  {
   "cell_type": "code",
   "execution_count": null,
   "id": "dab70e66-f9dc-446d-8cff-461cc051a81d",
   "metadata": {},
   "outputs": [],
   "source": [
    "options(repr.plot.width = 20, repr.plot.height = 10)\n",
    "p1 <- DimPlot(cd8_na, reduction = 'adtumap', group.by = 'predicted.t_celltype.l2')\n",
    "p2 <- DimPlot(cd8_na, reduction = 'adtumap', group.by = 'pediatric_senior')\n",
    "p3 <- DimPlot(cd8_na, reduction = 'adtumap', group.by = 'age_cmv')\n",
    "p4 <- DimPlot(cd8_na, reduction = 'adtumap', group.by = 'pbmc_sample_id')\n",
    "p1 + p2 + p3 + p4"
   ]
  },
  {
   "cell_type": "markdown",
   "id": "fd5362a9-7c3b-4ef6-b2be-4fa0639d97db",
   "metadata": {},
   "source": [
    "# ATAC Clustering"
   ]
  },
  {
   "cell_type": "markdown",
   "id": "70dc2145-b2b7-4fb9-b078-7e95642d1b59",
   "metadata": {},
   "source": [
    "## Load ArchR Project"
   ]
  },
  {
   "cell_type": "code",
   "execution_count": null,
   "id": "dd444f11-314e-43a0-b428-44bc3e166236",
   "metadata": {},
   "outputs": [],
   "source": [
    "proj <- loadArchRProject(path = '../../PedSen_ATAC/')\n",
    "proj"
   ]
  },
  {
   "cell_type": "markdown",
   "id": "0cba181a-328c-4a3a-a35e-a2792234d5a3",
   "metadata": {},
   "source": [
    "## Subset ArchR Project"
   ]
  },
  {
   "cell_type": "code",
   "execution_count": null,
   "id": "3f2e22a7-6f72-4ffc-adea-0d575397c4cd",
   "metadata": {},
   "outputs": [],
   "source": [
    "bcs <- colnames(cd8_na[['RNA']])\n",
    "head(bcs)"
   ]
  },
  {
   "cell_type": "code",
   "execution_count": null,
   "id": "f20f8a96-0620-41f2-9377-a8ad4564bf9d",
   "metadata": {},
   "outputs": [],
   "source": [
    "idx_new <- which(proj$cellNames_clean %in% bcs)\n",
    "head(idx_new)"
   ]
  },
  {
   "cell_type": "code",
   "execution_count": null,
   "id": "b4079fcc-fbcd-43c1-baae-3a793c435f37",
   "metadata": {},
   "outputs": [],
   "source": [
    "cells_subset <- proj$cellNames[idx_new]\n",
    "proj_subset <- proj[cells_subset,]\n",
    "proj_subset"
   ]
  },
  {
   "cell_type": "markdown",
   "id": "718e20e5-30a5-4c8a-9bdd-6aa806e81fde",
   "metadata": {},
   "source": [
    "## ATAC Clustering"
   ]
  },
  {
   "cell_type": "code",
   "execution_count": null,
   "id": "9b48bc07-d3d2-48d5-be3d-9fd10b3f6bd2",
   "metadata": {
    "scrolled": true,
    "tags": []
   },
   "outputs": [],
   "source": [
    "proj_subset <- addIterativeLSI(proj_subset, name = 'IterativeLSI', force = TRUE)"
   ]
  },
  {
   "cell_type": "code",
   "execution_count": null,
   "id": "d6675f27-0d80-4dec-87ca-3c00eb6ce144",
   "metadata": {},
   "outputs": [],
   "source": [
    "proj_subset <- addHarmony(proj_subset, reducedDims = 'IterativeLSI', groupBy = 'batch_id', force = TRUE)"
   ]
  },
  {
   "cell_type": "code",
   "execution_count": null,
   "id": "3a50cd9e-be4b-426a-9bc2-51a9ff16417f",
   "metadata": {
    "scrolled": true,
    "tags": []
   },
   "outputs": [],
   "source": [
    "#proj_subset <- addClusters(proj_subset, reducedDims = 'IterativeLSI', name = 'Clusters', force = TRUE, resolution = 0.2)\n",
    "proj_subset <- addClusters(proj_subset, reducedDims = 'Harmony', name = 'Clusters', force = TRUE, resolution = 0.2)"
   ]
  },
  {
   "cell_type": "code",
   "execution_count": null,
   "id": "3d65d370-a029-446b-8945-d4697a877bba",
   "metadata": {
    "scrolled": true,
    "tags": []
   },
   "outputs": [],
   "source": [
    "#proj_subset <- addUMAP(proj_subset, reducedDims = 'IterativeLSI', name = 'UMAP', force = TRUE)\n",
    "proj_subset <- addUMAP(proj_subset, reducedDims = 'Harmony', name = 'UMAP', force = TRUE)"
   ]
  },
  {
   "cell_type": "code",
   "execution_count": null,
   "id": "07e78635-e0b8-4ea7-be1d-d82681cbed75",
   "metadata": {
    "scrolled": true,
    "tags": []
   },
   "outputs": [],
   "source": [
    "options(repr.plocd8_naidth = 8, repr.plot.height = 8)\n",
    "plotEmbedding(ArchRProj = proj_subset, colorBy = \"cellColData\", name = \"Clusters\", embedding = \"UMAP\")\n",
    "plotEmbedding(ArchRProj = proj_subset, colorBy = \"cellColData\", name = \"pediatric_senior\", embedding = \"UMAP\")\n",
    "plotEmbedding(ArchRProj = proj_subset, colorBy = \"cellColData\", name = \"predicted.t_celltype.l2\", embedding = \"UMAP\")"
   ]
  },
  {
   "cell_type": "markdown",
   "id": "40214a6f-7695-48ee-898d-14953cdd8080",
   "metadata": {},
   "source": [
    "## Export LSI"
   ]
  },
  {
   "cell_type": "code",
   "execution_count": null,
   "id": "75aea30a-eecd-40b1-9fd5-aa8514e89c95",
   "metadata": {},
   "outputs": [],
   "source": [
    "#lsi <- getReducedDims(proj_subset, reducedDims = 'IterativeLSI')\n",
    "lsi <- getReducedDims(proj_subset, reducedDims = 'Harmony')"
   ]
  },
  {
   "cell_type": "markdown",
   "id": "8ea33286-d4df-46e0-af6d-c14482dfcd8d",
   "metadata": {},
   "source": [
    "## Import LSI to Seurat Object"
   ]
  },
  {
   "cell_type": "code",
   "execution_count": null,
   "id": "cddc5881-0c96-4385-9308-94f94f801707",
   "metadata": {},
   "outputs": [],
   "source": [
    "rna_metadata <- cd8_na@meta.data\n",
    "archr_style_barcodes <- paste(rna_metadata$batch_id, \"-P1_\",rna_metadata$pbmc_sample_id,\"#\",rownames(rna_metadata), sep = \"\")\n",
    "head(archr_style_barcodes)"
   ]
  },
  {
   "cell_type": "code",
   "execution_count": null,
   "id": "669f0521-8435-4891-9c8f-d0543ecacd10",
   "metadata": {},
   "outputs": [],
   "source": [
    "# create data frame w/ seurat barcodes and archr style barcodes\n",
    "bc_df <- data.frame(seurat_bcs = colnames(cd8_na@assays$RNA),\n",
    "                    archr_style = archr_style_barcodes)"
   ]
  },
  {
   "cell_type": "code",
   "execution_count": null,
   "id": "e8652b50-8859-43c4-a7c0-0ca86192e88d",
   "metadata": {},
   "outputs": [],
   "source": [
    "# Find Intersection & subset LSI\n",
    "bc_idx <- intersect(rownames(lsi), archr_style_barcodes)"
   ]
  },
  {
   "cell_type": "code",
   "execution_count": null,
   "id": "f1aa4001-496d-4386-9ce1-6df16edd02f1",
   "metadata": {},
   "outputs": [],
   "source": [
    "lsi_subset <- subset(lsi, subset = rownames(lsi) %in% bc_idx)\n",
    "bc_df_subset <- subset(bc_df, subset = bc_df$archr_style %in% bc_idx)\n",
    "length(rownames(lsi_subset))\n",
    "length(rownames(bc_df_subset))"
   ]
  },
  {
   "cell_type": "code",
   "execution_count": null,
   "id": "4c7e7bf9-af2d-4bda-afe9-f904cde41cf9",
   "metadata": {},
   "outputs": [],
   "source": [
    "table(bc_df_subset$archr_style == rownames(lsi_subset))"
   ]
  },
  {
   "cell_type": "code",
   "execution_count": null,
   "id": "c7638d37-de3e-4f57-b04e-5e08019cb9e5",
   "metadata": {},
   "outputs": [],
   "source": [
    "lsi_subset <- lsi_subset[match(bc_df_subset$archr_style, rownames(lsi_subset)),]"
   ]
  },
  {
   "cell_type": "code",
   "execution_count": null,
   "id": "71bc76e5-4346-4946-9d5f-ed050e0a25b3",
   "metadata": {},
   "outputs": [],
   "source": [
    "table(bc_df_subset$archr_style == rownames(lsi_subset))"
   ]
  },
  {
   "cell_type": "code",
   "execution_count": null,
   "id": "ddfbeb7a-38ea-402d-98aa-460ef79e56cb",
   "metadata": {},
   "outputs": [],
   "source": [
    "# replace LSI archr barcodes for seurat barcodes\n",
    "rownames(lsi_subset) <- bc_df_subset$seurat_bcs"
   ]
  },
  {
   "cell_type": "code",
   "execution_count": null,
   "id": "f622b60d-95dc-4007-9c2a-559254b2e2c0",
   "metadata": {},
   "outputs": [],
   "source": [
    "cd8_na <- subset(cd8_na, cells = bc_df_subset$seurat_bcs)"
   ]
  },
  {
   "cell_type": "code",
   "execution_count": null,
   "id": "04ac4e71-bae1-4013-92a7-d8e3aebfc317",
   "metadata": {},
   "outputs": [],
   "source": [
    "table(colnames(cd8_na[['RNA']]) == rownames(lsi_subset))"
   ]
  },
  {
   "cell_type": "code",
   "execution_count": null,
   "id": "6fa3ef70-b565-485a-9304-fd5f2eeeb079",
   "metadata": {},
   "outputs": [],
   "source": [
    "cd8_na[[\"lsit\"]] <- CreateDimReducObject(embeddings = lsi_subset, key = \"lsit_\", assay = \"Tiles\")"
   ]
  },
  {
   "cell_type": "markdown",
   "id": "e49d084c-738f-4c5c-bc0b-877eda5aa7d3",
   "metadata": {},
   "source": [
    "## ATAC clustering in Seurat Object"
   ]
  },
  {
   "cell_type": "code",
   "execution_count": null,
   "id": "63468f6c-f9ad-4306-a30b-9ae1846186f1",
   "metadata": {
    "scrolled": true,
    "tags": []
   },
   "outputs": [],
   "source": [
    "DefaultAssay(cd8_na) <- 'Tiles'\n",
    "cd8_na <- RunUMAP(cd8_na, reduction = 'lsit', reduction.name = 'atac_umap', dims = 1:15, verbose = T, reduction.key = 'atacumap_')"
   ]
  },
  {
   "cell_type": "code",
   "execution_count": null,
   "id": "6d5284b0-df3a-4259-88eb-d7d7427b100f",
   "metadata": {},
   "outputs": [],
   "source": [
    "options(repr.plot.width = 20, repr.plot.height = 10)\n",
    "p1 <- DimPlot(cd8_na, reduction = 'atac_umap', group.by = 'predicted.t_celltype.l2')\n",
    "p2 <- DimPlot(cd8_na, reduction = 'atac_umap', group.by = 'pediatric_senior')\n",
    "p3 <- DimPlot(cd8_na, reduction = 'atac_umap', group.by = 'age_cmv')\n",
    "p4 <- DimPlot(cd8_na, reduction = 'atac_umap', group.by = 'pbmc_sample_id')\n",
    "p1 + p2 + p3 + p4"
   ]
  },
  {
   "cell_type": "code",
   "execution_count": null,
   "id": "f62cd8af-9a25-4bf6-86db-f648b1a6698b",
   "metadata": {},
   "outputs": [],
   "source": [
    "#options(repr.plot.width = 20, repr.plot.height = 20)\n",
    "#DimPlot(cd8_na, reduction = 'atac_umap', group.by = 'gating_celltype', split.by = 'gating_celltype', ncol = 4)"
   ]
  },
  {
   "cell_type": "markdown",
   "id": "53ed4047-b9f5-4718-bee4-2bb3eaef5984",
   "metadata": {},
   "source": [
    "# 3WNN Clustering"
   ]
  },
  {
   "cell_type": "code",
   "execution_count": null,
   "id": "86bfde1d-2c2d-4d5c-ac2a-28db92fc9118",
   "metadata": {},
   "outputs": [],
   "source": [
    "cd8_na <- FindMultiModalNeighbors(cd8_na, reduction.list = list(\"rna_harmony\",\"adt_harmony\",'lsit'), dims.list = list(1:8,1:15,1:15), weighted.nn.name = \"X3way.weighted.nn\",\n",
    "                                      k.nn = 30, knn.range = 500, prune.SNN = 1/20)"
   ]
  },
  {
   "cell_type": "code",
   "execution_count": null,
   "id": "c0d7b4e5-c1f5-478c-929c-6227949c85d8",
   "metadata": {},
   "outputs": [],
   "source": [
    "cd8_na <- RunUMAP(cd8_na, nn.name = \"X3way.weighted.nn\", reduction.name = \"wnn.3.umap\", reduction.key = \"wnn.3.umap_\")"
   ]
  },
  {
   "cell_type": "code",
   "execution_count": null,
   "id": "4548b4bc-b26f-4d56-a48d-da1b09295cf0",
   "metadata": {},
   "outputs": [],
   "source": [
    "cd8_na <- FindClusters(cd8_na, graph.name = \"wsnn\", algorithm = 3, resolution = 0.5, verbose = TRUE)"
   ]
  },
  {
   "cell_type": "markdown",
   "id": "b798f424-3e8a-40a1-8ade-bf114be1b72b",
   "metadata": {},
   "source": [
    "## 3WNN UMAPs"
   ]
  },
  {
   "cell_type": "code",
   "execution_count": null,
   "id": "42585fb3-72ae-4bb4-9722-c49c4585a3fa",
   "metadata": {},
   "outputs": [],
   "source": [
    "options(repr.plot.width = 18, repr.plot.height = 15)\n",
    "p1 <- DimPlot(cd8_na, reduction = 'wnn.3.umap', group.by = 'wsnn_res.0.5', label = TRUE)\n",
    "p2 <- DimPlot(cd8_na, reduction = 'wnn.3.umap', group.by = 'pediatric_senior', shuffle = TRUE)\n",
    "p3 <- DimPlot(cd8_na, reduction = 'wnn.3.umap', group.by = 'age_cmv', shuffle = TRUE)\n",
    "p4 <- DimPlot(cd8_na, reduction = 'wnn.3.umap', group.by = 'batch_id', shuffle = TRUE)\n",
    "p1 + p2 + p3 + p4"
   ]
  },
  {
   "cell_type": "code",
   "execution_count": null,
   "id": "322122ad-1aef-463f-8980-9897f856441b",
   "metadata": {},
   "outputs": [],
   "source": [
    "options(repr.plot.width = 20, repr.plot.height = 6)\n",
    "suppressMessages(FeaturePlot(cd8_na, features = c('sct_IFNG-AS1','sct_EDA','sct_SOX4'), \n",
    "                             ncol = 3,reduction = 'wnn.3.umap', order = TRUE) & scale_color_viridis())"
   ]
  },
  {
   "cell_type": "code",
   "execution_count": null,
   "id": "e967d3dd-904c-4086-9b90-ec84091dc856",
   "metadata": {},
   "outputs": [],
   "source": [
    "markers <- c('NOSIP','CCR7','CRTAM','LEF1',\n",
    "             'ANXA1','DUSP2','IL7R','NELL2',\n",
    "             'CCL5','GZMH','GZMK','NKG7')"
   ]
  },
  {
   "cell_type": "code",
   "execution_count": null,
   "id": "4297aa13-9411-4c66-aee5-8e3b51d47097",
   "metadata": {},
   "outputs": [],
   "source": [
    "options(repr.plot.width = 20, repr.plot.height = 15)\n",
    "suppressMessages(FeaturePlot(cd8_na, features = c(paste0('sct_',markers),'cleanadt_CD45RA','cleanadt_TCR-Valpha7.2','cleanadt_CD49d','cleanadt_CD95'), \n",
    "                             ncol = 4, min.cutoff = 'q01', max.cutoff = 'q99',reduction = 'wnn.3.umap', order=T) & scale_color_viridis())"
   ]
  },
  {
   "cell_type": "markdown",
   "id": "3caba7ec-1407-4929-87b6-3d2a934c701c",
   "metadata": {},
   "source": [
    "# Clustree"
   ]
  },
  {
   "cell_type": "markdown",
   "id": "4b2a9e4d-4a50-4fd8-a2c3-1d9bcd556263",
   "metadata": {},
   "source": [
    "## Setup"
   ]
  },
  {
   "cell_type": "code",
   "execution_count": null,
   "id": "22a8bd4f-36df-4b02-81d3-8ae8a4be2f50",
   "metadata": {},
   "outputs": [],
   "source": [
    "cd8_na <- FindClusters(cd8_na, graph.name = \"wsnn\", algorithm = 3, resolution = 0.1, verbose = TRUE)"
   ]
  },
  {
   "cell_type": "code",
   "execution_count": null,
   "id": "4e1151af-7519-4eb5-b3bd-dc299954d83d",
   "metadata": {},
   "outputs": [],
   "source": [
    "cd8_na <- FindClusters(cd8_na, graph.name = \"wsnn\", algorithm = 3, resolution = 0.2, verbose = TRUE)"
   ]
  },
  {
   "cell_type": "code",
   "execution_count": null,
   "id": "bce373dd-c010-460a-8eac-b2263d0e3a09",
   "metadata": {},
   "outputs": [],
   "source": [
    "cd8_na <- FindClusters(cd8_na, graph.name = \"wsnn\", algorithm = 3, resolution = 0.3, verbose = TRUE)"
   ]
  },
  {
   "cell_type": "code",
   "execution_count": null,
   "id": "7c7b6409-33bf-427a-bea0-4baee9bb81e3",
   "metadata": {},
   "outputs": [],
   "source": [
    "cd8_na <- FindClusters(cd8_na, graph.name = \"wsnn\", algorithm = 3, resolution = 0.4, verbose = TRUE)"
   ]
  },
  {
   "cell_type": "code",
   "execution_count": null,
   "id": "ebcf1aaa-b55b-4d39-a9b2-f22facfad11f",
   "metadata": {},
   "outputs": [],
   "source": [
    "library(clustree)"
   ]
  },
  {
   "cell_type": "markdown",
   "id": "ec05c43e-c0ef-403d-90be-b02757634ceb",
   "metadata": {},
   "source": [
    "## Plots"
   ]
  },
  {
   "cell_type": "code",
   "execution_count": null,
   "id": "add45863-ceae-48a2-9462-ed1aadb670bf",
   "metadata": {},
   "outputs": [],
   "source": [
    "options(repr.plot.width = 10, repr.plot.height = 10)\n",
    "clustree(cd8_na@meta.data, prefix = \"wsnn_res.\")"
   ]
  },
  {
   "cell_type": "code",
   "execution_count": null,
   "id": "da5809b1-ec04-4bcf-a2a1-30fbcee6a9af",
   "metadata": {},
   "outputs": [],
   "source": [
    "options(repr.plot.width = 18, repr.plot.height = 15)\n",
    "p1 <- DimPlot(cd8_na, reduction = 'wnn.3.umap', group.by = 'wsnn_res.0.1', label = TRUE)\n",
    "p2 <- DimPlot(cd8_na, reduction = 'wnn.3.umap', group.by = 'wsnn_res.0.2', shuffle = TRUE, label = TRUE)\n",
    "p3 <- DimPlot(cd8_na, reduction = 'wnn.3.umap', group.by = 'wsnn_res.0.3', shuffle = TRUE, label = TRUE)\n",
    "p4 <- DimPlot(cd8_na, reduction = 'wnn.3.umap', group.by = 'wsnn_res.0.5', shuffle = TRUE, label = TRUE)\n",
    "p1 + p2 + p3 + p4"
   ]
  },
  {
   "cell_type": "code",
   "execution_count": null,
   "id": "1926aeda-9a34-4652-86fe-bdaf68450c2a",
   "metadata": {},
   "outputs": [],
   "source": [
    "table(cd8_na$wsnn_res.0.3)"
   ]
  },
  {
   "cell_type": "markdown",
   "id": "19f1cebd-6553-499a-9442-7e2b17212222",
   "metadata": {},
   "source": [
    "# Save "
   ]
  },
  {
   "cell_type": "code",
   "execution_count": null,
   "id": "93e03b05-a341-4dd5-a8db-476d836253aa",
   "metadata": {},
   "outputs": [],
   "source": [
    "saveRDS(cd8_na, file = 'cd8_naive_processed.rds')"
   ]
  },
  {
   "cell_type": "code",
   "execution_count": null,
   "id": "fdefeb68-7fc3-46ec-bf01-e339c4657d5f",
   "metadata": {},
   "outputs": [],
   "source": [
    "sessionInfo()"
   ]
  }
 ],
 "metadata": {
  "kernelspec": {
   "display_name": "R 4",
   "language": "R",
   "name": "ir"
  },
  "language_info": {
   "codemirror_mode": "r",
   "file_extension": ".r",
   "mimetype": "text/x-r-source",
   "name": "R",
   "pygments_lexer": "r",
   "version": "4.1.2"
  }
 },
 "nbformat": 4,
 "nbformat_minor": 5
}
