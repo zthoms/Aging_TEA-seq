{
 "cells": [
  {
   "cell_type": "code",
   "execution_count": null,
   "id": "5a4d528d-c291-4fda-a7e9-ce53be10adf9",
   "metadata": {},
   "outputs": [],
   "source": [
    "quiet_library <- function(...) {\n",
    "    suppressPackageStartupMessages(library(...))\n",
    "}\n",
    "quiet_library(Seurat)\n",
    "quiet_library(ggplot2)\n",
    "quiet_library(Matrix)\n",
    "quiet_library(H5weaver)\n",
    "quiet_library(dplyr)\n",
    "quiet_library(viridis)\n",
    "quiet_library(harmony)\n",
    "quiet_library(Nebulosa)"
   ]
  },
  {
   "cell_type": "markdown",
   "id": "635e81af-2c15-447d-b71b-65a826a25e87",
   "metadata": {},
   "source": [
    "# Load Data"
   ]
  },
  {
   "cell_type": "code",
   "execution_count": null,
   "id": "5d76d71a-23d2-46d0-b12d-ac5b5678fe2f",
   "metadata": {},
   "outputs": [],
   "source": [
    "sp_merge <- readRDS(file = '../../Seurat_Objects/sp_merge_gating_celltype_updated.rds')"
   ]
  },
  {
   "cell_type": "code",
   "execution_count": null,
   "id": "a8505043-72e8-4c07-8112-f3d8c36c6f1c",
   "metadata": {},
   "outputs": [],
   "source": [
    "sp_merge <- SetIdent(sp_merge, value = 'gating_celltype')\n",
    "cd8_mem <- subset(sp_merge, idents = c('CD8 CM','CD8 EM1','CD8 EM2','CD8 TEMRA'))"
   ]
  },
  {
   "cell_type": "code",
   "execution_count": null,
   "id": "1a93100c-7c51-4ae4-8f68-07c179529d75",
   "metadata": {},
   "outputs": [],
   "source": [
    "cd8_mem$pure_celltype <- cd8_mem$gating_celltype"
   ]
  },
  {
   "cell_type": "code",
   "execution_count": null,
   "id": "2f3e4bc8-f894-4730-b9b4-5397cb39ae1b",
   "metadata": {},
   "outputs": [],
   "source": [
    "cd8na <- readRDS(file = 'trim_cd8_na.rds')"
   ]
  },
  {
   "cell_type": "code",
   "execution_count": null,
   "id": "28251a77-6c4a-4a2a-9e3d-2c5bd7de20b2",
   "metadata": {},
   "outputs": [],
   "source": [
    "cd8_merge <- merge(cd8na, cd8_mem)"
   ]
  },
  {
   "cell_type": "code",
   "execution_count": null,
   "id": "924737d8-482c-4eb8-9373-4a189581c2a9",
   "metadata": {},
   "outputs": [],
   "source": [
    "rm(sp_merge)\n",
    "rm(cd8_mem)\n",
    "rm(cd8na)"
   ]
  },
  {
   "cell_type": "markdown",
   "id": "fa7d57da-0af5-4303-b045-db03c94109b4",
   "metadata": {},
   "source": [
    "# Re-normalization"
   ]
  },
  {
   "cell_type": "code",
   "execution_count": null,
   "id": "e807e478-9e87-43c5-b74e-4473fdd35b5c",
   "metadata": {
    "scrolled": true,
    "tags": []
   },
   "outputs": [],
   "source": [
    "DefaultAssay(cd8_merge) <- 'RNA'\n",
    "cd8_merge <- NormalizeData(cd8_merge) %>% FindVariableFeatures() %>% ScaleData() %>% RunPCA()"
   ]
  },
  {
   "cell_type": "code",
   "execution_count": null,
   "id": "76c996ed-52e9-4fed-ad61-533c080fc4af",
   "metadata": {},
   "outputs": [],
   "source": [
    "ElbowPlot(cd8_merge, ndims = 50)"
   ]
  },
  {
   "cell_type": "code",
   "execution_count": null,
   "id": "93d6611e-0b6a-4f0d-80bb-5a9ec1bf8a31",
   "metadata": {
    "scrolled": true,
    "tags": []
   },
   "outputs": [],
   "source": [
    "cd8_merge <- RunUMAP(cd8_merge, dims = 1:25)"
   ]
  },
  {
   "cell_type": "code",
   "execution_count": null,
   "id": "1d497a3a-3c34-472b-a3d3-904f124fa01f",
   "metadata": {},
   "outputs": [],
   "source": [
    "DimPlot(cd8_merge, group.by = 'pure_celltype')"
   ]
  },
  {
   "cell_type": "markdown",
   "id": "ba078204-001f-4c9e-b3a8-9f84578dd0ac",
   "metadata": {},
   "source": [
    "# DEG Analysis"
   ]
  },
  {
   "cell_type": "code",
   "execution_count": null,
   "id": "518d3c39-e9cc-4726-b762-a103b108c4da",
   "metadata": {},
   "outputs": [],
   "source": [
    "cd8_merge <- SetIdent(cd8_merge, value = 'pure_celltype')\n",
    "markers <- FindAllMarkers(cd8_merge)"
   ]
  },
  {
   "cell_type": "code",
   "execution_count": null,
   "id": "812e0e08-4703-4fdc-8a84-904afdebe039",
   "metadata": {},
   "outputs": [],
   "source": [
    "cd8_downsample <- subset(cd8_merge, downsample = 100)"
   ]
  },
  {
   "cell_type": "code",
   "execution_count": null,
   "id": "16123a01-92e7-43f6-a469-8b4b6468b8e2",
   "metadata": {},
   "outputs": [],
   "source": [
    "options(repr.plot.width = 12, repr.plot.height = 12)\n",
    "markers %>%\n",
    "    group_by(cluster) %>%\n",
    "    top_n(n = 10, wt = avg_log2FC) -> top10\n",
    "DoHeatmap(cd8_downsample, features = top10$gene) + NoLegend()"
   ]
  },
  {
   "cell_type": "markdown",
   "id": "c7f82232-d103-4fbe-92fa-8329a8f2938a",
   "metadata": {},
   "source": [
    "# Average Expression of Markers"
   ]
  },
  {
   "cell_type": "code",
   "execution_count": null,
   "id": "926b9404-4cd4-4277-9163-f9c30cca7fa8",
   "metadata": {},
   "outputs": [],
   "source": [
    "degs_avg_exp <- AverageExpression(cd8_merge, assays = 'RNA', features = unique(markers$gene), group.by = 'pure_celltype')\n",
    "degs_avg_exp <- as.data.frame(degs_avg_exp)"
   ]
  },
  {
   "cell_type": "code",
   "execution_count": null,
   "id": "cb4f3721-ded5-4e93-b25a-023963e974f7",
   "metadata": {},
   "outputs": [],
   "source": [
    "head(degs_avg_exp)"
   ]
  },
  {
   "cell_type": "code",
   "execution_count": null,
   "id": "73eb5228-3b93-4479-8ae1-7e34fb6e7eab",
   "metadata": {},
   "outputs": [],
   "source": [
    "write.csv(markers, file = 'cd8_rna_degs.csv')"
   ]
  },
  {
   "cell_type": "code",
   "execution_count": null,
   "id": "21249cd8-20c0-4af8-b258-42db5d42be63",
   "metadata": {},
   "outputs": [],
   "source": [
    "markers <- read.csv(file='cd8_rna_degs.csv')"
   ]
  },
  {
   "cell_type": "code",
   "execution_count": null,
   "id": "7e5df367-7b65-4da4-b54f-9d56284a1ec2",
   "metadata": {},
   "outputs": [],
   "source": [
    "length(unique(markers$gene))"
   ]
  },
  {
   "cell_type": "markdown",
   "id": "9ac0a7db-65e4-4b14-9948-618518daa2df",
   "metadata": {},
   "source": [
    "# Pheatmap"
   ]
  },
  {
   "cell_type": "code",
   "execution_count": null,
   "id": "df324934-cb56-43dd-970f-db4812568934",
   "metadata": {},
   "outputs": [],
   "source": [
    "library(pheatmap)"
   ]
  },
  {
   "cell_type": "code",
   "execution_count": null,
   "id": "fd33396e-eb28-41b8-9d3f-248aede51fe2",
   "metadata": {},
   "outputs": [],
   "source": [
    "options(repr.plot.width = 10, repr.plot.height = 16)\n",
    "rna_pheatmap <- pheatmap(degs_avg_exp, cluster_rows = TRUE, cluster_cols = TRUE, scale = 'row', cellwidth = 50, cellheight = 0.5, show_rownames = FALSE, border_color = NA,\n",
    "                         # annotation_row = cell_state_genes, annotation_colors = anno_colors,\n",
    "                         color = colorRampPalette(c('#67a9cf','white','#d6604d'))(100))"
   ]
  },
  {
   "cell_type": "code",
   "execution_count": null,
   "id": "aa76e57d-ccaa-4f0b-96b7-2715dea3a4e2",
   "metadata": {},
   "outputs": [],
   "source": [
    "save_pheatmap_pdf <- function(x, filename, width=10, height=16) {\n",
    "   stopifnot(!missing(x))\n",
    "   stopifnot(!missing(filename))\n",
    "   pdf(filename, width=width, height=height)\n",
    "   grid::grid.newpage()\n",
    "   grid::grid.draw(x$gtable)\n",
    "   dev.off()\n",
    "}\n",
    "save_pheatmap_pdf(rna_pheatmap, \"plots/CD8_global_RNA_heatmap.pdf\")"
   ]
  }
 ],
 "metadata": {
  "kernelspec": {
   "display_name": "R 4",
   "language": "R",
   "name": "ir"
  },
  "language_info": {
   "codemirror_mode": "r",
   "file_extension": ".r",
   "mimetype": "text/x-r-source",
   "name": "R",
   "pygments_lexer": "r",
   "version": "4.1.2"
  }
 },
 "nbformat": 4,
 "nbformat_minor": 5
}
