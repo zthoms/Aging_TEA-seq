{
 "cells": [
  {
   "cell_type": "code",
   "execution_count": null,
   "id": "71353e5f-82d2-4547-9b86-25b816b57fcd",
   "metadata": {
    "tags": []
   },
   "outputs": [],
   "source": [
    "quiet_library <- function(...) {\n",
    "    suppressPackageStartupMessages(library(...))\n",
    "}\n",
    "quiet_library(Seurat)\n",
    "quiet_library(ggplot2)\n",
    "quiet_library(Matrix)\n",
    "quiet_library(H5weaver)\n",
    "quiet_library(dplyr)\n",
    "quiet_library(viridis)\n",
    "quiet_library(harmony)\n",
    "# quiet_library(Nebulosa)\n",
    "quiet_library(ArchR)"
   ]
  },
  {
   "cell_type": "code",
   "execution_count": null,
   "id": "44119cd3-4f4c-48cb-8148-64d2ac60bac5",
   "metadata": {},
   "outputs": [],
   "source": [
    "trim_cd8_na <- readRDS(file = 'trim_cd8_na.rds')"
   ]
  },
  {
   "cell_type": "markdown",
   "id": "9041583d-2738-4721-86ad-4850722a41b2",
   "metadata": {},
   "source": [
    "# CD8 Naive Gate Plot"
   ]
  },
  {
   "cell_type": "code",
   "execution_count": null,
   "id": "63fb0421-8c0f-4fea-b7d1-c0c69539519f",
   "metadata": {},
   "outputs": [],
   "source": [
    "cd8 <- readRDS(file = '../../Seurat_Objects/cd8_subset.rds')\n",
    "cd8.batch <- SplitObject(cd8, split.by = 'batch_id')\n",
    "cd8.batch <- lapply(cd8.batch, function(x){\n",
    "    NormalizeData(x, assay = 'ADT', normalization.method = 'CLR', margin = 2)})"
   ]
  },
  {
   "cell_type": "code",
   "execution_count": null,
   "id": "12e94b72-f650-4756-a55c-367615d48d49",
   "metadata": {},
   "outputs": [],
   "source": [
    "options(repr.plot.width = 8, repr.plot.height = 8)\n",
    "FeatureScatter(object = cd8.batch$B069, feature1 = 'adt_CD27', feature2 = 'adt_CD45RA', group.by = 'batch_id', cols = 'white', pt.size = 0) & geom_density_2d(size = 1) &\n",
    "geom_vline(xintercept = 2.5) & geom_hline(yintercept = 3.1) & ggtitle('B069')"
   ]
  },
  {
   "cell_type": "code",
   "execution_count": null,
   "id": "2cb499a2-52e1-4abf-b9d2-549f01bf529e",
   "metadata": {},
   "outputs": [],
   "source": [
    "options(repr.plot.width = 8, repr.plot.height = 8)\n",
    "FeatureScatter(object = cd8.batch$B069, feature1 = 'adt_CD27', feature2 = 'adt_CD45RA', group.by = 'batch_id', cols = 'white', pt.size = 0) & geom_density_2d(size = 1, bins = 30) &\n",
    "geom_vline(xintercept = 2.5) & geom_hline(yintercept = 3.1) & ggtitle('B069')"
   ]
  },
  {
   "cell_type": "code",
   "execution_count": null,
   "id": "36452983-129f-4789-a6e4-66f3d2a6db54",
   "metadata": {},
   "outputs": [],
   "source": [
    "options(repr.plot.width = 8, repr.plot.height = 8)\n",
    "FeatureScatter(object = cd8.batch$B069, feature1 = 'adt_CD27', feature2 = 'adt_CD45RA', group.by = 'batch_id', cols = 'black', pt.size = 0) & geom_density_2d(size = 1, binwidth = 0.075) &\n",
    "geom_vline(xintercept = 2.5) & geom_hline(yintercept = 3.1) & ggtitle('B069')"
   ]
  },
  {
   "cell_type": "code",
   "execution_count": null,
   "id": "3e17432e-8570-47d2-9b1c-64c0abdc9aab",
   "metadata": {},
   "outputs": [],
   "source": [
    "# Open a pdf file\n",
    "pdf(\"plots/cd8na_gating.pdf\", width = 8, height = 8) \n",
    "# 2. Create a plot\n",
    "FeatureScatter(object = cd8.batch$B069, feature1 = 'adt_CD27', feature2 = 'adt_CD45RA', group.by = 'batch_id', cols = 'white', pt.size = 0) & geom_density_2d(size = 1) &\n",
    "geom_vline(xintercept = 2.5) & geom_hline(yintercept = 3.1) & ggtitle('B069')\n",
    "# Close the pdf file\n",
    "dev.off() "
   ]
  },
  {
   "cell_type": "markdown",
   "id": "40c553e2-7905-4e1b-beb5-6481d8509adb",
   "metadata": {},
   "source": [
    "# 3WNN"
   ]
  },
  {
   "cell_type": "code",
   "execution_count": null,
   "id": "6c530365-d744-48e8-b5d1-8d98df29f3b1",
   "metadata": {},
   "outputs": [],
   "source": [
    "options(repr.plot.width = 12, repr.plot.height = 10)\n",
    "DimPlot(trim_cd8_na, reduction = 'wnn.3.umap', group.by = 'pure_celltype', label = FALSE, label.size = 8, repel = TRUE, cols = c('#807dba','#01665e','#1d91c0','#08519c','#3f007d'))"
   ]
  },
  {
   "cell_type": "code",
   "execution_count": null,
   "id": "d7c8a5fc-8671-4c7f-89e2-c52c2397e3e8",
   "metadata": {},
   "outputs": [],
   "source": [
    "# Open a pdf file\n",
    "pdf(\"plots/cd8na_celltypes_3WNN_umap.pdf\", width = 12, height = 10) \n",
    "# 2. Create a plot\n",
    "DimPlot(trim_cd8_na, reduction = 'wnn.3.umap', group.by = 'pure_celltype', label = FALSE, label.size = 8, repel = TRUE, cols = c('#807dba','#01665e','#1d91c0','#08519c','#3f007d'))\n",
    "# Close the pdf file\n",
    "dev.off() "
   ]
  },
  {
   "cell_type": "markdown",
   "id": "efd68f69-f71c-4dcc-8290-b51ec0d009c2",
   "metadata": {},
   "source": [
    "# Heatmap"
   ]
  },
  {
   "cell_type": "code",
   "execution_count": null,
   "id": "873e831a-4f91-4e9e-87d8-4df9c155a729",
   "metadata": {},
   "outputs": [],
   "source": [
    "marker_genes_rna <- c('CCR7','CD27','FAS')\n",
    "marker_avg_rna <- AverageExpression(trim_cd8_na, features = marker_genes_rna, assay = 'SCT')\n",
    "marker_genes_adt <- c('CD45RA','CD197','CD27','CD49d','CD161','TCR-Valpha7.2')\n",
    "marker_avg_adt <- AverageExpression(trim_cd8_na, features = marker_genes_adt, assay = 'clean_adt')"
   ]
  },
  {
   "cell_type": "code",
   "execution_count": null,
   "id": "c0de651d-68dc-4519-89cf-4cc0e306dd33",
   "metadata": {},
   "outputs": [],
   "source": [
    "library(pheatmap)"
   ]
  },
  {
   "cell_type": "code",
   "execution_count": null,
   "id": "5d0eecca-dbc8-4fb7-8dbd-a51d983e8ac5",
   "metadata": {},
   "outputs": [],
   "source": [
    "marker_avg_rna <- marker_avg_rna$SCT\n",
    "# marker_avg_rna"
   ]
  },
  {
   "cell_type": "code",
   "execution_count": null,
   "id": "7c444e92-28d1-4a22-97c8-90fe02da6388",
   "metadata": {},
   "outputs": [],
   "source": [
    "marker_avg_adt <- marker_avg_adt$clean_adt\n",
    "# marker_avg_adt"
   ]
  },
  {
   "cell_type": "code",
   "execution_count": null,
   "id": "484b01fa-48ed-421a-a86f-20e8322a8f3a",
   "metadata": {},
   "outputs": [],
   "source": [
    "rownames(marker_avg_adt) <- paste0('adt_',rownames(marker_avg_adt))"
   ]
  },
  {
   "cell_type": "code",
   "execution_count": null,
   "id": "df8514cd-0ced-407b-b170-1fb1378725a3",
   "metadata": {},
   "outputs": [],
   "source": [
    "# marker_avg_rna\n",
    "# marker_avg_adt"
   ]
  },
  {
   "cell_type": "code",
   "execution_count": null,
   "id": "29d59b90-f190-4bb5-afbd-0240358ce7c9",
   "metadata": {},
   "outputs": [],
   "source": [
    "markers_bind <- rbind(marker_avg_rna,marker_avg_adt)\n",
    "markers_bind <- as.data.frame(markers_bind)\n",
    "markers_bind"
   ]
  },
  {
   "cell_type": "code",
   "execution_count": null,
   "id": "ce5c2fbf-6c7a-4591-905a-6154cb8121a2",
   "metadata": {},
   "outputs": [],
   "source": [
    "options(repr.plot.width = 10, repr.plot.height = 8)\n",
    "cd8na_markers_heatmap <- pheatmap(markers_bind, scale = 'row', fontsize = 20)"
   ]
  },
  {
   "cell_type": "markdown",
   "id": "0403ae27-3bb3-4017-be57-c3366b031aa8",
   "metadata": {},
   "source": [
    "# Raindrop plots"
   ]
  },
  {
   "cell_type": "code",
   "execution_count": null,
   "id": "a210e4b7-e969-4609-82cf-dc2c5f6c28ee",
   "metadata": {},
   "outputs": [],
   "source": [
    "sp_merge <- readRDS(file = '../../Seurat_Objects/sp_merge_gating_celltype_updated.rds')"
   ]
  },
  {
   "cell_type": "code",
   "execution_count": null,
   "id": "c5f94ba9-d7d8-4c5a-8341-700d50a411bc",
   "metadata": {},
   "outputs": [],
   "source": [
    "sp_merge <- SetIdent(sp_merge, value = 'gating_celltype')\n",
    "cd8_nonnaive <- subset(sp_merge, idents = c('CD8 CM','CD8 EM1','CD8 EM2','CD8 TEMRA'))\n",
    "cd8_nonnaive$pure_celltype <- cd8_nonnaive$gating_celltype"
   ]
  },
  {
   "cell_type": "code",
   "execution_count": null,
   "id": "b3850f9e-ebd6-4096-bd48-c31d8fdfef92",
   "metadata": {},
   "outputs": [],
   "source": [
    "cd8_merge <- merge(trim_cd8_na, cd8_nonnaive)"
   ]
  },
  {
   "cell_type": "code",
   "execution_count": null,
   "id": "9fd8ef60-d725-4c97-8e69-338655678167",
   "metadata": {},
   "outputs": [],
   "source": [
    "cd8_merge <- NormalizeData(cd8_merge, assay = 'RNA')\n",
    "cd8_merge <- NormalizeData(cd8_merge, assay = 'ADT', margin = 2, normalization.method = 'CLR')\n",
    "cd8_merge <- SetIdent(cd8_merge, value = 'pure_celltype')"
   ]
  },
  {
   "cell_type": "code",
   "execution_count": null,
   "id": "79d425a8-d1d8-4c9e-9629-58bae68ba395",
   "metadata": {},
   "outputs": [],
   "source": [
    "options(repr.plot.width = 8, repr.plot.height = 20)\n",
    "RidgePlot(cd8_merge, features = c('adt_CD27','rna_CD27',\n",
    "                                  'adt_CD197','rna_CCR7',\n",
    "                                  'adt_CD45RA','adt_CD49d',\n",
    "                                  'adt_CD161','adt_TCR-Valpha7.2'), group.by = 'pure_celltype', ncol = 2)"
   ]
  },
  {
   "cell_type": "code",
   "execution_count": null,
   "id": "d5c66cec-ab46-4c7f-8d59-97f8516c31ca",
   "metadata": {},
   "outputs": [],
   "source": [
    "df_build <- function(seurat_object){\n",
    "    meta <- seurat_object@meta.data\n",
    "    meta$TCRValpha7.2 <- as.vector(seurat_object@assays$ADT['TCR-Valpha7.2',])\n",
    "    meta$CD161 <- as.vector(seurat_object@assays$ADT['CD161',])\n",
    "    meta$CD197 <- as.vector(seurat_object@assays$ADT['CD197',])\n",
    "    meta$CD45RA <- as.vector(seurat_object@assays$ADT['CD45RA',])\n",
    "    meta$CD27 <- as.vector(seurat_object@assays$ADT['CD27',])\n",
    "    return(meta)}"
   ]
  },
  {
   "cell_type": "code",
   "execution_count": null,
   "id": "88e41489-44a1-431e-b84e-2ded5031400e",
   "metadata": {},
   "outputs": [],
   "source": [
    "test_df <- df_build(cd8_merge)"
   ]
  },
  {
   "cell_type": "code",
   "execution_count": null,
   "id": "da740b82-c7b1-495c-acff-8bd5c3f08653",
   "metadata": {},
   "outputs": [],
   "source": [
    "options(repr.plot.width = 10, repr.plot.height = 10)\n",
    "ggplot(test_df, aes(x = pure_celltype, y = CD45RA, color=pure_celltype)) + \n",
    "  ggdist::stat_halfeye(\n",
    "    adjust = .5, \n",
    "    width = .6, \n",
    "    .width = 0, \n",
    "    justification = -.2, \n",
    "    point_colour = NA\n",
    "  ) + \n",
    "  geom_boxplot(\n",
    "    width = .15, \n",
    "    outlier.shape = NA\n",
    "  ) +\n",
    "  ## add justified jitter from the {gghalves} package\n",
    "  gghalves::geom_half_point(\n",
    "    ## draw jitter on the left\n",
    "    side = \"l\", \n",
    "    ## control range of jitter\n",
    "    range_scale = .4, \n",
    "    ## add some transparency\n",
    "    alpha = .3\n",
    "  ) +\n",
    "  coord_cartesian(xlim = c(1.2, NA), clip = \"off\")"
   ]
  },
  {
   "cell_type": "markdown",
   "id": "6a06b936-fe06-4294-90c1-7ab2e5744a2d",
   "metadata": {},
   "source": [
    "## UMAP Plots"
   ]
  },
  {
   "cell_type": "code",
   "execution_count": null,
   "id": "9c88c7e9-1fb0-4b11-9001-114640481e05",
   "metadata": {},
   "outputs": [],
   "source": [
    "library(cowplot)"
   ]
  },
  {
   "cell_type": "code",
   "execution_count": null,
   "id": "7c1a045a-ed15-44ea-b90d-8eb5ff51126a",
   "metadata": {},
   "outputs": [],
   "source": [
    "options(repr.plot.width = 8, repr.plot.height = 8)\n",
    "# p1 <- FeaturePlot(trim_cd8_na, features = 'cleanadt_CD27', reduction = 'wnn.3.umap', order = TRUE) & scale_color_viridis(limits=c(1,4.5))\n",
    "# p2 <- FeaturePlot(trim_cd8_na, features = 'cleanadt_CD197', reduction = 'wnn.3.umap', order = TRUE) & scale_color_viridis(limits=c(1,1.75))\n",
    "# p3 <- FeaturePlot(trim_cd8_na, features = 'cleanadt_CD45RA', reduction = 'wnn.3.umap', order = TRUE) & scale_color_viridis(limits=c(2,5))\n",
    "# p3 <- FeaturePlot(trim_cd8_na, features = 'cleanadt_TCR-Valpha7.2', reduction = 'wnn.3.umap', order = TRUE) & scale_color_viridis()\n",
    "# p1 <- FeaturePlot(trim_cd8_na, features = 'cleanadt_CD49d', reduction = 'wnn.3.umap', order = TRUE) & scale_color_viridis()\n",
    "# FeaturePlot(trim_cd8_na, features = 'sct_FAS', reduction = 'wnn.3.umap', order = TRUE, pt.size = 1) & scale_color_viridis()"
   ]
  },
  {
   "cell_type": "code",
   "execution_count": null,
   "id": "7c224273-ad3b-4758-9b5f-f721087149c3",
   "metadata": {},
   "outputs": [],
   "source": [
    "p1 <- plot_density(trim_cd8_na, features = 'cleanadt_CD49d', reduction = 'wnn.3.umap', pal = 'inferno')\n",
    "p2 <- plot_density(trim_cd8_na, features = 'sct_FAS', reduction = 'wnn.3.umap')\n",
    "p3 <- plot_density(trim_cd8_na, features = 'cleanadt_TCR-Valpha7.2', reduction = 'wnn.3.umap', pal = 'inferno')\n",
    "p4 <- plot_density(trim_cd8_na, features = 'sct_IFNG', reduction = 'wnn.3.umap')\n",
    "# p5 <- plot_density(trim_cd8_na, features = 'cleanadt_CD49d', reduction = 'wnn.3.umap')\n",
    "# p6 <- plot_density(trim_cd8_na, features = 'sct_FAS', reduction = 'wnn.3.umap', pal = 'inferno')"
   ]
  },
  {
   "cell_type": "code",
   "execution_count": null,
   "id": "da56fa8e-f727-4a6d-b673-8ad070f0f11e",
   "metadata": {},
   "outputs": [],
   "source": [
    "options(repr.plot.width = 14, repr.plot.height = 14)\n",
    "plot_grid(p1, p2, p3, p4, ncol = 2)"
   ]
  },
  {
   "cell_type": "code",
   "execution_count": null,
   "id": "164932f6-770f-4374-b475-584011c40c20",
   "metadata": {},
   "outputs": [],
   "source": [
    "# Open a pdf file\n",
    "pdf(\"plots/cd8na_celltypes_markers_umap.pdf\", width = 14, height = 14) \n",
    "# 2. Create a plot\n",
    "plot_grid(p1, p2, p3, p4, ncol = 2)\n",
    "# Close the pdf file\n",
    "dev.off() "
   ]
  },
  {
   "cell_type": "code",
   "execution_count": null,
   "id": "3ba62593-bf63-479b-93a6-db8b678c424f",
   "metadata": {},
   "outputs": [],
   "source": [
    "genes <- c('cleanadt_CD45RA','cleanadt_CD197','cleanadt_CD27','sct_LEF1','sct_BACH2','cleanadt_CD49d','cleanadt_TCR-Valpha7.2','sct_FAS')"
   ]
  },
  {
   "cell_type": "code",
   "execution_count": null,
   "id": "ae6c63a3-2e34-411f-b83d-fb67fdcff681",
   "metadata": {},
   "outputs": [],
   "source": [
    "trim_cd8_na <- NormalizeData(trim_cd8_na, assay = 'RNA')"
   ]
  },
  {
   "cell_type": "code",
   "execution_count": null,
   "id": "508527fe-5ead-4b34-a5ba-7f754f312746",
   "metadata": {},
   "outputs": [],
   "source": [
    "options(repr.plot.width = 5, repr.plot.height = 14)\n",
    "p1 <- VlnPlot(trim_cd8_na, group.by = 'pure_celltype', features = 'cleanadt_CD45RA', pt.size = 0, cols = c('#807dba','#01665e','#1d91c0','#08519c','#3f007d')) & ylim(0,5) & coord_flip() & NoLegend()\n",
    "p2 <- VlnPlot(trim_cd8_na, group.by = 'pure_celltype', features = 'cleanadt_CD197', pt.size = 0, cols = c('#807dba','#01665e','#1d91c0','#08519c','#3f007d')) & ylim(0,1.75) & coord_flip() & NoLegend() & \n",
    "            theme(axis.title.y = element_blank(), axis.text.y = element_blank())\n",
    "p3 <- VlnPlot(trim_cd8_na, group.by = 'pure_celltype', features = 'cleanadt_CD27', pt.size = 0, cols = c('#807dba','#01665e','#1d91c0','#08519c','#3f007d')) & ylim(0,4.5) & coord_flip() & NoLegend() & \n",
    "            theme(axis.title.y = element_blank(), axis.text.y = element_blank())\n",
    "p4 <- VlnPlot(trim_cd8_na, group.by = 'pure_celltype', features = 'cleanadt_CD49d', pt.size = 0, cols = c('#807dba','#01665e','#1d91c0','#08519c','#3f007d')) & ylim(1,4.5) & coord_flip() & NoLegend() & \n",
    "            theme(axis.title.y = element_blank(), axis.text.y = element_blank())\n",
    "# VlnPlot(trim_cd8_na, group.by = 'pure_celltype', features = 'cleanadt_CD95', pt.size = 0, cols = c('#807dba','#01665e','#1d91c0','#08519c','#3f007d')) & ylim(0.5,2) & coord_flip() & NoLegend()\n",
    "p5 <- VlnPlot(trim_cd8_na, group.by = 'pure_celltype', features = 'cleanadt_TCR-Valpha7.2', pt.size = 0, cols = c('#807dba','#01665e','#1d91c0','#08519c','#3f007d')) & ylim(0,3) & coord_flip() & NoLegend() & \n",
    "            theme(axis.title.y = element_blank(), axis.text.y = element_blank())"
   ]
  },
  {
   "cell_type": "code",
   "execution_count": null,
   "id": "78f18942-32d1-4e0d-882c-e20c6259ab46",
   "metadata": {},
   "outputs": [],
   "source": [
    "options(repr.plot.width = 14, repr.plot.height = 14)\n",
    "plot_grid(p1, p2, p3, p4, p5, nrow = 1, rel_widths = c(1.3,1,1,1,1))"
   ]
  },
  {
   "cell_type": "markdown",
   "id": "bca1e11d-5d65-4462-9255-6f87d6966ec0",
   "metadata": {},
   "source": [
    "# Tracks"
   ]
  },
  {
   "cell_type": "markdown",
   "id": "1369b4e6-a085-4e83-b738-c706f5087678",
   "metadata": {},
   "source": [
    "Check ATAC notebook 03-R_CD8_Na_ATAC.ipynb"
   ]
  },
  {
   "cell_type": "markdown",
   "id": "8ddfce6b-f41d-4a1d-96d8-dfaf05f6dccf",
   "metadata": {},
   "source": [
    "# Subset Counts"
   ]
  },
  {
   "cell_type": "code",
   "execution_count": null,
   "id": "a6d15c27-fdbf-4b5a-9b60-6749c183b87c",
   "metadata": {},
   "outputs": [],
   "source": [
    "split_cd8_na <- SplitObject(trim_cd8_na, split.by = 'pediatric_senior')"
   ]
  },
  {
   "cell_type": "code",
   "execution_count": null,
   "id": "b6b7294a-148d-46dc-808c-4809573fad66",
   "metadata": {},
   "outputs": [],
   "source": [
    "celltype_df_func <- function(seurat_object, metadata_slot, id_list){\n",
    "    seurat_object <- SetIdent(seurat_object, value = metadata_slot)\n",
    "    subset_object <- subset(seurat_object, idents = id_list[[1]])\n",
    "    df <- as.data.frame(table(subset_object$pbmc_sample_id))\n",
    "    colnames(df) <- c('sample',id_list[[1]])\n",
    "    i = 2\n",
    "    while(i < length(id_list) + 1){\n",
    "        subset_object <- subset(seurat_object, idents = id_list[[i]])\n",
    "        df2 <- as.data.frame(table(subset_object$pbmc_sample_id))\n",
    "        df[,ncol(df) + 1] <- df2$Freq\n",
    "        colnames(df)[ncol(df)] <- paste0(id_list[[i]])\n",
    "        #df$id_list[[i]] <- df2$Freq\n",
    "        i = i + 1\n",
    "        }\n",
    "    df\n",
    "    }"
   ]
  },
  {
   "cell_type": "code",
   "execution_count": null,
   "id": "ebb248c4-dd2e-4aa2-98f4-6ebc6a6262d8",
   "metadata": {},
   "outputs": [],
   "source": [
    "ped_celltype <- celltype_df_func(split_cd8_na$Pediatric, 'pure_celltype', sort(unique(split_cd8_na$Pediatric$pure_celltype)))"
   ]
  },
  {
   "cell_type": "code",
   "execution_count": null,
   "id": "8acfd5af-234b-465a-8018-e0f06c4d96f1",
   "metadata": {},
   "outputs": [],
   "source": [
    "head(ped_celltype)"
   ]
  },
  {
   "cell_type": "code",
   "execution_count": null,
   "id": "65c791c6-917e-4952-a7b8-95c021830f74",
   "metadata": {},
   "outputs": [],
   "source": [
    "rownames(ped_celltype) <- ped_celltype$sample\n",
    "ped_celltype <- ped_celltype[,2:6]\n",
    "colnames(ped_celltype) <- sort(unique(split_cd8_na$Pediatric$pure_celltype))\n",
    "ped_celltype"
   ]
  },
  {
   "cell_type": "code",
   "execution_count": null,
   "id": "7edc9d15-1957-49c8-8d5a-693ba12a4130",
   "metadata": {},
   "outputs": [],
   "source": [
    "sen_celltype <- celltype_df_func(split_cd8_na$Senior, 'pure_celltype', sort(unique(split_cd8_na$Senior$pure_celltype)))"
   ]
  },
  {
   "cell_type": "code",
   "execution_count": null,
   "id": "83afa3c5-817e-446a-8a62-a4f3143ad760",
   "metadata": {},
   "outputs": [],
   "source": [
    "head(sen_celltype)"
   ]
  },
  {
   "cell_type": "code",
   "execution_count": null,
   "id": "8a42e36a-5e6a-4897-8b58-be108991a983",
   "metadata": {},
   "outputs": [],
   "source": [
    "rownames(sen_celltype) <- sen_celltype$sample\n",
    "sen_celltype <- sen_celltype[,2:6]\n",
    "colnames(sen_celltype) <- sort(unique(split_cd8_na$Senior$pure_celltype))\n",
    "sen_celltype"
   ]
  },
  {
   "cell_type": "code",
   "execution_count": null,
   "id": "0692d439-ad45-4ed7-ac22-ddca78504fa0",
   "metadata": {},
   "outputs": [],
   "source": [
    "write.csv(ped_celltype, file = 'cd8na_freq_ped.csv')\n",
    "write.csv(sen_celltype, file = 'cd8na_freq_OA.csv')"
   ]
  },
  {
   "cell_type": "markdown",
   "id": "3242e105-c436-4532-b226-5832fb7d557d",
   "metadata": {},
   "source": [
    "# Split Global UMAP"
   ]
  },
  {
   "cell_type": "code",
   "execution_count": null,
   "id": "cc976544-199b-4ac1-9b5d-b51491de29f2",
   "metadata": {},
   "outputs": [],
   "source": [
    "sp_merge <- readRDS(file = '../../Seurat_Objects/sp_merge_gating_celltype_updated.rds')"
   ]
  },
  {
   "cell_type": "code",
   "execution_count": null,
   "id": "af8bf2a9-0270-4cf5-94d1-4898342baa5c",
   "metadata": {},
   "outputs": [],
   "source": [
    "sp_merge$pure_celltype <- sp_merge$gating_celltype"
   ]
  },
  {
   "cell_type": "markdown",
   "id": "b713072b-8f2b-4206-9105-d9153f94635d",
   "metadata": {},
   "source": [
    "## Add CD8na subsets"
   ]
  },
  {
   "cell_type": "code",
   "execution_count": null,
   "id": "d558aaf7-eaea-4d34-8af8-04e06ca986dc",
   "metadata": {},
   "outputs": [],
   "source": [
    "cd8na_meta <- trim_cd8_na@meta.data"
   ]
  },
  {
   "cell_type": "code",
   "execution_count": null,
   "id": "915fe4a2-4679-48e4-a7c0-185327832e09",
   "metadata": {},
   "outputs": [],
   "source": [
    "meta_subset_cd8na <- sp_merge@meta.data[which(rownames(sp_merge@meta.data) %in% rownames(cd8na_meta)),]\n",
    "length(rownames(meta_subset_cd8na))\n",
    "table(rownames(meta_subset_cd8na) %in% rownames(cd8na_meta))\n",
    "table(rownames(meta_subset_cd8na) == rownames(cd8na_meta))"
   ]
  },
  {
   "cell_type": "markdown",
   "id": "0a6e55b1-6273-4694-a1be-c05a1b555833",
   "metadata": {},
   "source": [
    "Again, it's in the same order, so we don't need to reorder the metadata"
   ]
  },
  {
   "cell_type": "code",
   "execution_count": null,
   "id": "2b43b1a8-35f8-4b54-a963-98067c37058d",
   "metadata": {},
   "outputs": [],
   "source": [
    "sp_merge$pure_celltype[which(rownames(sp_merge@meta.data) %in% rownames(cd8na_meta))] <- as.character(cd8na_meta$pure_celltype)"
   ]
  },
  {
   "cell_type": "markdown",
   "id": "47f0846f-8c0b-48ae-aec1-d2365903b0fd",
   "metadata": {},
   "source": [
    "## Plot"
   ]
  },
  {
   "cell_type": "code",
   "execution_count": null,
   "id": "d25cd858-565a-4e83-af61-424f41a69655",
   "metadata": {},
   "outputs": [],
   "source": [
    "options(repr.plot.width = 25, repr.plot.height = 12)\n",
    "DimPlot(sp_merge, reduction = 'wnn.3.umap', group.by = 'pure_celltype', raster = FALSE, shuffle = TRUE, split.by = 'pediatric_senior', pt.size = 0.1,\n",
    "        order = c('CD8 MAIT','CD8 MNP-1','CD8 Naive','CD8 MNP-2','CD8 SCM',\n",
    "                  'CD4 CM','CD4 EM1','CD4 EM2','CD4 Naive',\n",
    "                  'CD4 TEMRA','CD4 Unk','CD8 CM','CD8 EM1','CD8 EM2',\n",
    "                  'CD8 TEMRA','CD8 Unk','Treg'),\n",
    "        cols = c('lightgrey','lightgrey','lightgrey',\n",
    "                 'lightgrey','lightgrey','lightgrey','lightgrey','lightgrey',\n",
    "                 'lightgrey','lightgrey','lightgrey','lightgrey',\n",
    "                 '#1d91c0','#08519c','#807dba','#01665e','#3f007d'))"
   ]
  },
  {
   "cell_type": "code",
   "execution_count": null,
   "id": "60590ee9-6cdd-423b-880d-710e4c7d0cd6",
   "metadata": {},
   "outputs": [],
   "source": [
    "# Open a pdf file\n",
    "pdf(\"plots/cd8na_celltypes_global_umap.pdf\", width = 25, height = 12) \n",
    "# 2. Create a plot\n",
    "DimPlot(sp_merge, reduction = 'wnn.3.umap', group.by = 'pure_celltype', raster = FALSE, shuffle = TRUE, split.by = 'pediatric_senior', pt.size = 0.1,\n",
    "        order = c('CD8 MAIT','CD8 MNP-1','CD8 Naive','CD8 MNP-2','CD8 SCM',\n",
    "                  'CD4 CM','CD4 EM1','CD4 EM2','CD4 Naive',\n",
    "                  'CD4 TEMRA','CD4 Unk','CD8 CM','CD8 EM1','CD8 EM2',\n",
    "                  'CD8 TEMRA','CD8 Unk','Treg'),\n",
    "        cols = c('lightgrey','lightgrey','lightgrey',\n",
    "                 'lightgrey','lightgrey','lightgrey','lightgrey','lightgrey',\n",
    "                 'lightgrey','lightgrey','lightgrey','lightgrey',\n",
    "                 '#1d91c0','#08519c','#807dba','#01665e','#3f007d'))\n",
    "# Close the pdf file\n",
    "dev.off() "
   ]
  },
  {
   "cell_type": "markdown",
   "id": "205b389c-51d0-449d-a10b-4e36906bc99a",
   "metadata": {},
   "source": [
    "# Gene Expression DotPlot"
   ]
  },
  {
   "cell_type": "code",
   "execution_count": null,
   "id": "7fc52026-ca77-4e55-a67f-4bc00eb10f17",
   "metadata": {},
   "outputs": [],
   "source": [
    "gene_list_updated <- c('ITGA6','CD55','ITGB1','ITGA4','KLRD1','ITGAL','KLRC2','KLRC3','IL21R','KLRB1','IL12RB2','KLRG1','LEF1','BACH2','FOXP1','RUNX2','BCL2',\n",
    "                       'TOX','IKZF2','RUNX3','JUNB','RORA','IFNG-AS1','GZMK','GZMA','PRF1','NCAM1','PECAM1')"
   ]
  },
  {
   "cell_type": "code",
   "execution_count": null,
   "id": "49196204-89cb-4845-b050-f814eafb697a",
   "metadata": {},
   "outputs": [],
   "source": [
    "trim_cd8_na <- SetIdent(trim_cd8_na, value = 'pure_celltype')\n",
    "levels(trim_cd8_na) <- c('CD8 MAIT','CD8 SCM','CD8 MNP-2','CD8 MNP-1','CD8 Naive')\n",
    "levels(trim_cd8_na)"
   ]
  },
  {
   "cell_type": "code",
   "execution_count": null,
   "id": "a669638e-135a-459d-908b-6cf70eea233c",
   "metadata": {},
   "outputs": [],
   "source": [
    "options(repr.plot.width = 12, repr.plot.height = 4)\n",
    "DotPlot(trim_cd8_na, features = gene_list_updated, \n",
    "        col.min = 0, assay = 'SCT') & theme(axis.text.x = element_text(angle = 90, vjust = 0.5, hjust=1, size = 20),\n",
    "                                            axis.text.y = element_text(size = 20),\n",
    "                                            axis.title.x = element_blank(), axis.title.y = element_blank())"
   ]
  },
  {
   "cell_type": "code",
   "execution_count": null,
   "id": "c4f89cb3-39d9-4c80-b4cb-98542c764e4f",
   "metadata": {},
   "outputs": [],
   "source": [
    "# Open a pdf file\n",
    "pdf(\"plots/cd8na_celltypes_RNA_dotplot.pdf\", width = 12, height = 4) \n",
    "# 2. Create a plot\n",
    "DotPlot(trim_cd8_na, features = gene_list_updated, \n",
    "        col.min = 0, assay = 'SCT') & theme(axis.text.x = element_text(angle = 90, vjust = 0.5, hjust=1, size = 20),\n",
    "                                            axis.text.y = element_text(size = 20),\n",
    "                                            axis.title.x = element_blank(), axis.title.y = element_blank())\n",
    "# Close the pdf file\n",
    "dev.off() "
   ]
  },
  {
   "cell_type": "code",
   "execution_count": null,
   "id": "742bec53-47f9-407a-ae75-7374fa2c2606",
   "metadata": {},
   "outputs": [],
   "source": [
    "'#c7e9c0','#74c476','#238b45','#00441b','#6baed6','#02818a','#08519c','#6a51a3','#bdbdbd','#737373'"
   ]
  },
  {
   "cell_type": "code",
   "execution_count": null,
   "id": "844c73a7-c11a-4c8a-b1c7-f14415b10ed0",
   "metadata": {},
   "outputs": [],
   "source": [
    "'#bcbddc','#807dba','#6a51a3','#54278f','#bdbdbd','#08519c','#969696','#ae017e','#3f007d'"
   ]
  },
  {
   "cell_type": "markdown",
   "id": "a86c2e26-c516-442d-95d6-f4905dca8457",
   "metadata": {},
   "source": [
    "# DEGs"
   ]
  },
  {
   "cell_type": "code",
   "execution_count": null,
   "id": "662e96c0-e39a-4791-acc9-8b3d18096e12",
   "metadata": {},
   "outputs": [],
   "source": [
    "trim_cd8_na <- SetIdent(trim_cd8_na, value = 'pure_celltype')\n",
    "degs <- FindAllMarkers(trim_cd8_na, assay = 'SCT')"
   ]
  },
  {
   "cell_type": "code",
   "execution_count": null,
   "id": "4580eee3-7989-4244-bdc5-ae741e7859ac",
   "metadata": {},
   "outputs": [],
   "source": [
    "head(degs)"
   ]
  },
  {
   "cell_type": "code",
   "execution_count": null,
   "id": "a910a465-ab8a-4162-8f89-9dce314aaf85",
   "metadata": {},
   "outputs": [],
   "source": [
    "write.csv(degs, file = 'cd8na_degs.csv')"
   ]
  }
 ],
 "metadata": {
  "kernelspec": {
   "display_name": "R 4",
   "language": "R",
   "name": "ir"
  },
  "language_info": {
   "codemirror_mode": "r",
   "file_extension": ".r",
   "mimetype": "text/x-r-source",
   "name": "R",
   "pygments_lexer": "r",
   "version": "4.1.2"
  }
 },
 "nbformat": 4,
 "nbformat_minor": 5
}
