{
 "cells": [
  {
   "cell_type": "markdown",
   "id": "527c6387-7647-43bc-925c-abe1050dc9ac",
   "metadata": {},
   "source": [
    "# Setup"
   ]
  },
  {
   "cell_type": "code",
   "execution_count": null,
   "id": "ace0f08e-cd13-47f5-ab0c-ba143d9b79dc",
   "metadata": {},
   "outputs": [],
   "source": [
    "quiet_library <- function(...) {\n",
    "    suppressPackageStartupMessages(library(...))\n",
    "}\n",
    "quiet_library(Seurat)\n",
    "quiet_library(ggplot2)\n",
    "quiet_library(Matrix)\n",
    "quiet_library(H5weaver)\n",
    "quiet_library(dplyr)\n",
    "quiet_library(viridis)\n",
    "quiet_library(harmony)\n",
    "quiet_library(Nebulosa)\n",
    "quiet_library(tidyr)"
   ]
  },
  {
   "cell_type": "markdown",
   "id": "b2288087-4ed3-41f9-8483-839f3a4e020d",
   "metadata": {},
   "source": [
    "## Load Data"
   ]
  },
  {
   "cell_type": "code",
   "execution_count": null,
   "id": "a674aa95-3291-4773-8f7c-63ffc3c89117",
   "metadata": {},
   "outputs": [],
   "source": [
    "sp_merge <- readRDS(file = '../Seurat_Objects/sp_merge_gating_celltype_updated.rds')"
   ]
  },
  {
   "cell_type": "code",
   "execution_count": null,
   "id": "2abff544-f509-4586-aa5b-e634da6e7d9e",
   "metadata": {},
   "outputs": [],
   "source": [
    "ref <- readRDS('/home/jupyter/reference/Hao-2021_PBMC-Multimodal-Reference_SeuratObject.rds')"
   ]
  },
  {
   "cell_type": "markdown",
   "id": "8a967a5b-ff42-402f-8421-6ba5e2858163",
   "metadata": {},
   "source": [
    "## Setup Reference for Single Positive Label Transfer"
   ]
  },
  {
   "cell_type": "code",
   "execution_count": null,
   "id": "5bac1ad4-9be2-42e2-b545-694920ed76bb",
   "metadata": {},
   "outputs": [],
   "source": [
    "ref <- SetIdent(ref, value = 'celltype.l1')\n",
    "t_cells_ref <- subset(ref, idents = c('CD4 T', 'CD8 T', 'other T'))"
   ]
  },
  {
   "cell_type": "code",
   "execution_count": null,
   "id": "a6d4a393-a950-4799-a82d-3cecbeb39d3e",
   "metadata": {},
   "outputs": [],
   "source": [
    "table(t_cells_ref$celltype.l2)"
   ]
  },
  {
   "cell_type": "code",
   "execution_count": null,
   "id": "eaf673cf-0c4d-4bb8-a0d8-154e9b40c3dd",
   "metadata": {},
   "outputs": [],
   "source": [
    "t_cells_ref <- SetIdent(t_cells_ref, value = 'celltype.l2')\n",
    "sp_t_ref <- subset(t_cells_ref, idents = 'dnT', invert = T)\n",
    "table(sp_t_ref$celltype.l2)"
   ]
  },
  {
   "cell_type": "code",
   "execution_count": null,
   "id": "a633a393-68e1-4cda-b329-7f9971ec57ed",
   "metadata": {},
   "outputs": [],
   "source": [
    "DimPlot(sp_t_ref, label = TRUE) & NoLegend()"
   ]
  },
  {
   "cell_type": "markdown",
   "id": "acd7f17f-7f24-41b0-b6df-7951e607b115",
   "metadata": {},
   "source": [
    "# Label transfer SP "
   ]
  },
  {
   "cell_type": "code",
   "execution_count": null,
   "id": "36a016e5-fa15-44f9-91ed-c79a15899642",
   "metadata": {},
   "outputs": [],
   "source": [
    "DefaultAssay(sp_merge) <- 'SCT'\n",
    "anchors <- FindTransferAnchors(\n",
    "    reference = sp_t_ref,\n",
    "    query = sp_merge,\n",
    "    normalization.method = \"SCT\",\n",
    "    reference.reduction = \"spca\",\n",
    "    dims = 1:50, recompute.residuals = FALSE\n",
    ")"
   ]
  },
  {
   "cell_type": "code",
   "execution_count": null,
   "id": "e4cf41aa-127f-4ef3-9527-e09963aa98f1",
   "metadata": {},
   "outputs": [],
   "source": [
    "sp_merge <- TransferData(anchorset = anchors, reference = sp_t_ref, query = sp_merge,\n",
    "                        refdata = list(\n",
    "                          sp_celltype.l1 = \"celltype.l1\",\n",
    "                          sp_celltype.l2 = \"celltype.l2\",\n",
    "                          sp_celltype.l3 = \"celltype.l3\"))"
   ]
  },
  {
   "cell_type": "code",
   "execution_count": null,
   "id": "a808e4f5-2f68-401c-b1d9-270aa08faea8",
   "metadata": {},
   "outputs": [],
   "source": [
    "table(sp_merge$predicted.sp_celltype.l2)"
   ]
  },
  {
   "cell_type": "markdown",
   "id": "7174127d-5e0c-4a9c-8107-c917c6c673b3",
   "metadata": {},
   "source": [
    "# RNA vs ADT Labels"
   ]
  },
  {
   "cell_type": "markdown",
   "id": "03b0d425-0071-4253-95cc-a0809246386c",
   "metadata": {},
   "source": [
    "## Align cell types"
   ]
  },
  {
   "cell_type": "code",
   "execution_count": null,
   "id": "7c9b11e5-dc40-4caf-a142-bd104a085ac4",
   "metadata": {},
   "outputs": [],
   "source": [
    "unique(sp_merge$predicted.sp_celltype.l2)"
   ]
  },
  {
   "cell_type": "code",
   "execution_count": null,
   "id": "969b25b1-c402-41fc-ae09-a9c6c8f99e19",
   "metadata": {},
   "outputs": [],
   "source": [
    "unique(sp_merge$gating_celltype)"
   ]
  },
  {
   "cell_type": "code",
   "execution_count": null,
   "id": "eeac2dca-bdda-49d4-a5d4-8af4803e4c47",
   "metadata": {},
   "outputs": [],
   "source": [
    "sp_merge <- SetIdent(sp_merge, value = 'gating_celltype')\n",
    "sp_subset <- subset(sp_merge, idents = c('CD4 Unk', 'CD8 Unk'), invert = T)"
   ]
  },
  {
   "cell_type": "code",
   "execution_count": null,
   "id": "803db8e1-e84b-465d-ac83-65a4c1d0bc91",
   "metadata": {},
   "outputs": [],
   "source": [
    "# rm(sp_merge)"
   ]
  },
  {
   "cell_type": "markdown",
   "id": "0e4b08b0-c843-44c9-ac7e-bb748c4c8e4e",
   "metadata": {},
   "source": [
    "Rename gating subsets to align better with the label transfer cell type labels"
   ]
  },
  {
   "cell_type": "code",
   "execution_count": null,
   "id": "704fa525-c806-4896-a81c-0fb8e1e161bb",
   "metadata": {},
   "outputs": [],
   "source": [
    "sp_subset <- SetIdent(sp_subset, value = 'gating_celltype')\n",
    "sp_subset <- RenameIdents(sp_subset, 'CD8 Naive' = 'CD8 Naive',\n",
    "                         'CD8 CM' = 'CD8 TCM',\n",
    "                         'CD8 EM1' = 'CD8 TEM',\n",
    "                         'CD8 EM2' = 'CD8 TEM',\n",
    "                         'CD8 TEMRA' = 'CD8 TEM',\n",
    "                         # 'MAIT' = 'MAIT',\n",
    "                         'CD4 Naive' = 'CD4 Naive',\n",
    "                         'CD4 CM' = 'CD4 TCM',\n",
    "                         'CD4 EM1' = 'CD4 TEM',\n",
    "                         'CD4 EM2' = 'CD4 TEM',\n",
    "                         'CD4 TEMRA' = 'CD4 TEM',\n",
    "                         'Treg' = 'Treg')\n",
    "sp_subset$gating_consensus <- Idents(sp_subset)"
   ]
  },
  {
   "cell_type": "markdown",
   "id": "c092bc93-96f9-42a1-93ec-dcbb36f5bafd",
   "metadata": {},
   "source": [
    "Remove any cell types that were not in our gating scheme"
   ]
  },
  {
   "cell_type": "code",
   "execution_count": null,
   "id": "2edbd9e5-7d26-40b1-a098-3580b5952acc",
   "metadata": {},
   "outputs": [],
   "source": [
    "sp_subset <- SetIdent(sp_subset, value = 'predicted.sp_celltype.l2')\n",
    "sp_subset <- subset(sp_subset, idents = c('CD8 Proliferating', 'CD4 Proliferating','gdT','MAIT'), invert = TRUE)"
   ]
  },
  {
   "cell_type": "code",
   "execution_count": null,
   "id": "e678f196-defe-426f-ad18-70580130ca30",
   "metadata": {},
   "outputs": [],
   "source": [
    "sp_subset <- SetIdent(sp_subset, value = 'predicted.sp_celltype.l2')\n",
    "sp_subset <- RenameIdents(sp_subset, 'CD8 Naive' = 'CD8 Naive',\n",
    "                         'CD4 Naive' = 'CD4 Naive',\n",
    "                          'CD8 TEM' = 'CD8 TEM',\n",
    "                          'CD8 TCM' = 'CD8 TCM',\n",
    "                          'CD4 TEM' = 'CD4 TEM',\n",
    "                          'Treg' = 'Treg',\n",
    "                          'CD4 TCM' = 'CD4 TCM',\n",
    "                          # 'MAIT' = 'MAIT',\n",
    "                          'CD4 CTL' = 'CD4 TEM')\n",
    "sp_subset$predicted_consensus <- Idents(sp_subset)"
   ]
  },
  {
   "cell_type": "markdown",
   "id": "8f9eec0a-b4a7-4b41-914a-7bdac4436f8a",
   "metadata": {},
   "source": [
    "## Export labels"
   ]
  },
  {
   "cell_type": "code",
   "execution_count": null,
   "id": "c928aae8-b743-4322-aa83-0bbdde7e718a",
   "metadata": {},
   "outputs": [],
   "source": [
    "adt_rna_df <- data.frame(cellnames = rownames(sp_subset@meta.data),\n",
    "                         rna_l2 = sp_subset$predicted_consensus,\n",
    "                         gating = sp_subset$gating_consensus)\n",
    "head(adt_rna_df)"
   ]
  },
  {
   "cell_type": "code",
   "execution_count": null,
   "id": "d6055ea6-229f-45cb-9d66-75be77064dc4",
   "metadata": {},
   "outputs": [],
   "source": [
    "saveRDS(adt_rna_df, file = '..//02_Gating_Subsets/adt_rna_label_df.rds')"
   ]
  },
  {
   "cell_type": "markdown",
   "id": "9f38a641-6e37-46cf-8133-dc16e131abfa",
   "metadata": {},
   "source": [
    "# ATAC vs ADT"
   ]
  },
  {
   "cell_type": "code",
   "execution_count": null,
   "id": "de76e917-384b-4bcb-adf4-c20117b9fe87",
   "metadata": {},
   "outputs": [],
   "source": [
    "quiet_library(ArchR)"
   ]
  },
  {
   "cell_type": "code",
   "execution_count": null,
   "id": "e4bf46d7-eccc-409b-9f5a-b53189c90cb1",
   "metadata": {},
   "outputs": [],
   "source": [
    "addArchRThreads(8)\n",
    "addArchRGenome(\"hg38\")"
   ]
  },
  {
   "cell_type": "code",
   "execution_count": null,
   "id": "6d3a3543-1921-4ce4-9aeb-e69509c06a52",
   "metadata": {},
   "outputs": [],
   "source": [
    "sp_t_ref[['RNA']] <- CreateAssayObject(counts = sp_t_ref@assays$SCT@counts)"
   ]
  },
  {
   "cell_type": "code",
   "execution_count": null,
   "id": "3bcee02f-6af5-49e9-a9c8-0805cb1e35c7",
   "metadata": {},
   "outputs": [],
   "source": [
    "DefaultAssay(sp_t_ref) <- 'RNA'\n",
    "sp_t_ref <- NormalizeData(sp_t_ref) %>% FindVariableFeatures() %>% ScaleData()"
   ]
  },
  {
   "cell_type": "markdown",
   "id": "35f297d9-da73-4168-92d3-dc1b1240411f",
   "metadata": {},
   "source": [
    "## Open project"
   ]
  },
  {
   "cell_type": "code",
   "execution_count": null,
   "id": "34d35a87-8519-46be-ac70-a35aff1eb201",
   "metadata": {},
   "outputs": [],
   "source": [
    "proj <- loadArchRProject(path = '../PedSen_ATAC/')\n",
    "proj"
   ]
  },
  {
   "cell_type": "markdown",
   "id": "96335c0c-daec-4170-85a7-44b05f3b6da3",
   "metadata": {},
   "source": [
    "## Do level 1 Transfer"
   ]
  },
  {
   "cell_type": "code",
   "execution_count": null,
   "id": "ad2414ad-be0e-43aa-b42b-08ca1e910dcc",
   "metadata": {
    "scrolled": true,
    "tags": []
   },
   "outputs": [],
   "source": [
    "proj <- addGeneIntegrationMatrix(\n",
    "  ArchRProj = proj,\n",
    "  useMatrix = \"GeneScoreMatrix\", #You can change this\n",
    "  matrixName = \"GeneIntegrationMatrix\", #This is the name of a matrix generated by this function. It contains RNA expression data from scATAC cell to RNA cell\n",
    "  reducedDims = \"IterativeLSI\", \n",
    "  seRNA = sp_t_ref,\n",
    "  addToArrow = FALSE, #Use this setting to avoid HDF5 errors.\n",
    "  groupRNA = \"celltype.l1\",\n",
    "  nameCell = \"predictedCell_Un\", \n",
    "  nameGroup = \"predictedGroup_Un\", #Name of metadata column to be created with the ATAC cell labels\n",
    "  nameScore = \"predictedScore_Un\", #Name of metadata column to be created with the ATAC cell label scores.\n",
    "  force=TRUE\n",
    ")"
   ]
  },
  {
   "cell_type": "code",
   "execution_count": null,
   "id": "9e264ec9-e23e-4884-a1ec-d120c76862ad",
   "metadata": {},
   "outputs": [],
   "source": [
    "plotEmbedding(proj, embedding = \"UMAP\", colorBy = \"cellColData\",name = \"predictedGroup_Un\")\n",
    "plotEmbedding(proj, embedding = \"UMAP\", colorBy = \"cellColData\",name = \"gating_celltype\")"
   ]
  },
  {
   "cell_type": "markdown",
   "id": "33f248b8-98e5-4dde-83a4-13965d43fd64",
   "metadata": {},
   "source": [
    "## Do Level 2 Transfer"
   ]
  },
  {
   "cell_type": "code",
   "execution_count": null,
   "id": "2df370bd-316e-4d8e-b8b9-37960af59fb8",
   "metadata": {},
   "outputs": [],
   "source": [
    "table(proj$predictedGroup_Un)"
   ]
  },
  {
   "cell_type": "code",
   "execution_count": null,
   "id": "69937f6d-c8f5-40e0-9263-4a104f7fec17",
   "metadata": {},
   "outputs": [],
   "source": [
    "totalList <- names(table(proj$predictedGroup_Un))\n",
    "\n",
    "cd4 <- totalList[grepl(\"CD4\", totalList)]\n",
    "cd8 <- totalList[grepl(\"CD8\",  totalList)]\n",
    "other <- totalList[grepl(\"other\",  totalList)]\n",
    "#Double check your lists\n",
    "length(totalList)\n",
    "length(cd4) + length(cd8) + length(other)\n",
    "\n",
    "id_clusters <- list(cd4, cd8, other)"
   ]
  },
  {
   "cell_type": "code",
   "execution_count": null,
   "id": "0efc0b24-bc18-4e91-912d-1afcdf0eafa4",
   "metadata": {},
   "outputs": [],
   "source": [
    "#For constrained labeling, we need to give addGeneIntegrationMatrix\n",
    "#a parameter that tells it which RNA cells generally align to which ATAC cells\n",
    "# -- essentially, we reduce the search space.\n",
    "groupList <- lapply(seq_along(id_clusters), function(x){\n",
    "  \n",
    "  rnaCells <- sp_t_ref@meta.data %>% mutate(Cells = rownames(.)) %>%\n",
    "    filter(celltype.l1 %in% id_clusters[[x]])\n",
    "  list(\n",
    "    ATAC = proj$cellNames[proj$predictedGroup_Un %in% id_clusters[[x]]],\n",
    "    RNA = rnaCells$Cells\n",
    "  )\n",
    "})"
   ]
  },
  {
   "cell_type": "code",
   "execution_count": null,
   "id": "7804defd-59db-49e0-8d38-442baed3e979",
   "metadata": {
    "scrolled": true,
    "tags": []
   },
   "outputs": [],
   "source": [
    "proj <- addGeneIntegrationMatrix(\n",
    "  ArchRProj = proj,\n",
    "  useMatrix = \"GeneScoreMatrix\",\n",
    "  matrixName = \"GeneIntegrationMatrix\", \n",
    "  reducedDims = \"IterativeLSI\", \n",
    "  seRNA = sp_t_ref,\n",
    "  addToArrow = FALSE, #Use this setting to avoid HDF5 errors.\n",
    "  groupList = groupList, #Add your groupList\n",
    "  groupRNA = \"celltype.l2\",#Label according to L2.5 labels\n",
    "  nameCell = \"predictedCell_l2\",\n",
    "  nameGroup = \"predictedGroup_l2\",\n",
    "  nameScore = \"predictedScore_l2\", force=TRUE\n",
    ")"
   ]
  },
  {
   "cell_type": "code",
   "execution_count": null,
   "id": "d6792c4e-10be-400d-af95-3b4159575345",
   "metadata": {},
   "outputs": [],
   "source": [
    "plotEmbedding(proj, embedding = \"UMAP\", colorBy = \"cellColData\",name = \"predictedGroup_l2\")\n",
    "plotEmbedding(proj, embedding = \"UMAP\", colorBy = \"cellColData\",name = \"gating_celltype\")"
   ]
  },
  {
   "cell_type": "code",
   "execution_count": null,
   "id": "fb6d2c7a-c5f4-4e29-b555-8af1476cc281",
   "metadata": {},
   "outputs": [],
   "source": [
    "saveArchRProject(ArchRProj = proj, outputDirectory = '../PedSen_ATAC/', load = F)"
   ]
  },
  {
   "cell_type": "code",
   "execution_count": null,
   "id": "f9eff466-c6f2-4c05-bb47-9e2a98193fde",
   "metadata": {},
   "outputs": [],
   "source": [
    "l2_df <- data.frame(atac_l2 = proj$predictedGroup_l2, row.names = proj$cellNames_clean)\n",
    "head(l2_df)"
   ]
  },
  {
   "cell_type": "code",
   "execution_count": null,
   "id": "6437693d-43fa-4e3a-a7b1-773050d18249",
   "metadata": {},
   "outputs": [],
   "source": [
    "table(colnames(sp_merge[['RNA']]) %in% rownames(l2_df))\n",
    "table(rownames(l2_df) %in% colnames(sp_merge[['RNA']]))"
   ]
  },
  {
   "cell_type": "code",
   "execution_count": null,
   "id": "d26b0275-9b5b-419b-a3d6-9fb747c572c0",
   "metadata": {},
   "outputs": [],
   "source": [
    "sp_merge <- AddMetaData(sp_merge, l2_df, 'atac_l2')"
   ]
  },
  {
   "cell_type": "code",
   "execution_count": null,
   "id": "1f3291f9-c59f-4e1f-9fa3-902900f34d58",
   "metadata": {},
   "outputs": [],
   "source": [
    "table(sp_merge$atac_l2)"
   ]
  },
  {
   "cell_type": "code",
   "execution_count": null,
   "id": "6ea3785a-9517-4d2a-aae6-f6b75db7881a",
   "metadata": {},
   "outputs": [],
   "source": [
    "sp_merge <- SetIdent(sp_merge, value = 'gating_celltype')\n",
    "sp_subset <- subset(sp_merge, idents = c('CD4 Unk', 'CD8 Unk'), invert = T)"
   ]
  },
  {
   "cell_type": "code",
   "execution_count": null,
   "id": "023a27c9-8ad1-4340-8f28-f30dc44c9d1c",
   "metadata": {},
   "outputs": [],
   "source": [
    "sp_subset <- SetIdent(sp_subset, value = 'gating_celltype')\n",
    "sp_subset <- RenameIdents(sp_subset, 'CD8 Naive' = 'CD8 Naive',\n",
    "                         'CD8 CM' = 'CD8 TCM',\n",
    "                         'CD8 EM1' = 'CD8 TEM',\n",
    "                         'CD8 EM2' = 'CD8 TEM',\n",
    "                         'CD8 TEMRA' = 'CD8 TEM',\n",
    "                         # 'MAIT' = 'MAIT',\n",
    "                         'CD4 Naive' = 'CD4 Naive',\n",
    "                         'CD4 CM' = 'CD4 TCM',\n",
    "                         'CD4 EM1' = 'CD4 TEM',\n",
    "                         'CD4 EM2' = 'CD4 TEM',\n",
    "                         'CD4 TEMRA' = 'CD4 TEM',\n",
    "                         'Treg' = 'Treg')\n",
    "sp_subset$gating_consensus <- Idents(sp_subset)"
   ]
  },
  {
   "cell_type": "code",
   "execution_count": null,
   "id": "173f590c-1110-49c4-9fcf-476f825c2c22",
   "metadata": {},
   "outputs": [],
   "source": [
    "sp_subset <- SetIdent(sp_subset, value = 'atac_l2')\n",
    "sp_subset <- subset(sp_subset, idents = c('CD8 Proliferating', 'CD4 Proliferating','MAIT','gdT'), invert = TRUE)"
   ]
  },
  {
   "cell_type": "code",
   "execution_count": null,
   "id": "2e11785d-a0ea-4cc9-8697-64fcf95a84dc",
   "metadata": {},
   "outputs": [],
   "source": [
    "sp_subset <- SetIdent(sp_subset, value = 'atac_l2')\n",
    "sp_subset <- RenameIdents(sp_subset, 'CD8 Naive' = 'CD8 Naive',\n",
    "                         'CD4 Naive' = 'CD4 Naive',\n",
    "                          'CD8 TEM' = 'CD8 TEM',\n",
    "                          'CD8 TCM' = 'CD8 TCM',\n",
    "                          'CD4 TEM' = 'CD4 TEM',\n",
    "                          'Treg' = 'Treg',\n",
    "                          'CD4 TCM' = 'CD4 TCM',\n",
    "                          # 'MAIT' = 'MAIT',\n",
    "                          'CD4 CTL' = 'CD4 TEM')\n",
    "sp_subset$predicted_consensus <- Idents(sp_subset)"
   ]
  },
  {
   "cell_type": "code",
   "execution_count": null,
   "id": "d9d01672-6b57-449b-8186-583769bc796c",
   "metadata": {},
   "outputs": [],
   "source": [
    "adt_atac_df <- data.frame(cellnames = rownames(sp_subset@meta.data),\n",
    "                          atac_l2 = sp_subset$predicted_consensus,\n",
    "                          gating = sp_subset$gating_consensus)\n",
    "head(adt_atac_df)"
   ]
  },
  {
   "cell_type": "code",
   "execution_count": null,
   "id": "39dfef32-91fe-4e3b-b952-cc84f6b5f67b",
   "metadata": {},
   "outputs": [],
   "source": [
    "saveRDS(adt_atac_df, file = '../02_Gating_Subsets/adt_atac_label_df.rds')"
   ]
  },
  {
   "cell_type": "markdown",
   "id": "c6b73b58-ec7e-4cf2-8f4b-ac988beec0e1",
   "metadata": {},
   "source": [
    "# RNA vs ATAC Label Transfer"
   ]
  },
  {
   "cell_type": "code",
   "execution_count": null,
   "id": "7cd7b2f8-1279-4f30-b3ae-42b5e3a68bd4",
   "metadata": {},
   "outputs": [],
   "source": [
    "rna_atac_df <- data.frame(cellnames = rownames(sp_merge@meta.data),\n",
    "                          atac = sp_merge$atac_l2,\n",
    "                          rna = sp_merge$predicted.sp_celltype.l2)"
   ]
  },
  {
   "cell_type": "code",
   "execution_count": null,
   "id": "4fd34cb1-16bc-4991-9fdf-866e4fcd5f78",
   "metadata": {},
   "outputs": [],
   "source": [
    "saveRDS(rna_atac_df, file = '../02_Gating_Subsets/rna_atac_df.rds')"
   ]
  }
 ],
 "metadata": {
  "kernelspec": {
   "display_name": "R 4",
   "language": "R",
   "name": "ir"
  },
  "language_info": {
   "codemirror_mode": "r",
   "file_extension": ".r",
   "mimetype": "text/x-r-source",
   "name": "R",
   "pygments_lexer": "r",
   "version": "4.1.2"
  },
  "toc-autonumbering": true
 },
 "nbformat": 4,
 "nbformat_minor": 5
}
