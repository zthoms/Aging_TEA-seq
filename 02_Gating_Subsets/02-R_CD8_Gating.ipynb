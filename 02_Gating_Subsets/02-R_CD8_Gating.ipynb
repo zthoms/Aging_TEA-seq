{
 "cells": [
  {
   "cell_type": "code",
   "execution_count": null,
   "id": "cf43a30e-6306-4044-adc2-e48ea6637015",
   "metadata": {
    "tags": []
   },
   "outputs": [],
   "source": [
    "quiet_library <- function(...) {\n",
    "    suppressPackageStartupMessages(library(...))\n",
    "}\n",
    "quiet_library(Seurat)\n",
    "quiet_library(ggplot2)\n",
    "quiet_library(Matrix)\n",
    "quiet_library(H5weaver)\n",
    "quiet_library(dplyr)\n",
    "quiet_library(viridis)\n",
    "quiet_library(harmony)\n",
    "quiet_library(Nebulosa)"
   ]
  },
  {
   "cell_type": "markdown",
   "id": "aa785e54-e2be-4874-bc19-09fa53273b39",
   "metadata": {},
   "source": [
    "# Load Data"
   ]
  },
  {
   "cell_type": "code",
   "execution_count": null,
   "id": "49ef679b-ebed-454c-a377-1a46b7027537",
   "metadata": {},
   "outputs": [],
   "source": [
    "cd8 <- readRDS(file = '../Seurat_Objects/cd8_subset.rds')"
   ]
  },
  {
   "cell_type": "code",
   "execution_count": null,
   "id": "48392866-b956-414f-a2a5-342f297b9e6d",
   "metadata": {},
   "outputs": [],
   "source": [
    "cd8"
   ]
  },
  {
   "cell_type": "code",
   "execution_count": null,
   "id": "5bd8cb15-8f8d-40c8-a278-7eb6f31e14e4",
   "metadata": {},
   "outputs": [],
   "source": [
    "table(cd8$pbmc_sample_id)"
   ]
  },
  {
   "cell_type": "code",
   "execution_count": null,
   "id": "30df63a9-aa4d-44dc-b529-d3687e4ae338",
   "metadata": {},
   "outputs": [],
   "source": [
    "cd8.batch <- SplitObject(cd8, split.by = 'batch_id')"
   ]
  },
  {
   "cell_type": "code",
   "execution_count": null,
   "id": "b99c8274-6bf8-43df-9c6a-b1cf329bc56b",
   "metadata": {},
   "outputs": [],
   "source": [
    "cd8.batch <- lapply(cd8.batch, function(x){\n",
    "    NormalizeData(x, assay = 'ADT', normalization.method = 'CLR', margin = 2)})"
   ]
  },
  {
   "cell_type": "code",
   "execution_count": null,
   "id": "79f446f4-21eb-48ca-bbac-c0dbb939e566",
   "metadata": {},
   "outputs": [],
   "source": [
    "df_build <- function(seurat_object){\n",
    "    meta <- seurat_object@meta.data\n",
    "    meta$TCRValpha7.2 <- as.vector(seurat_object@assays$ADT['TCR-Valpha7.2',])\n",
    "    meta$CD161 <- as.vector(seurat_object@assays$ADT['CD161',])\n",
    "    meta$CD197 <- as.vector(seurat_object@assays$ADT['CD197',])\n",
    "    meta$CD45RA <- as.vector(seurat_object@assays$ADT['CD45RA',])\n",
    "    meta$CD27 <- as.vector(seurat_object@assays$ADT['CD27',])\n",
    "    meta$imputed_CD197 <- as.vector(seurat_object@assays$x10_ADT['CD197',])\n",
    "    meta$raw_CD197 <- as.vector(seurat_object@assays$ADT@counts['CD197',])\n",
    "    meta$raw_CD45RA <- as.vector(seurat_object@assays$ADT@counts['CD45RA',])\n",
    "    meta$raw_CD27 <- as.vector(seurat_object@assays$ADT@counts['CD27',])\n",
    "    return(meta)}"
   ]
  },
  {
   "cell_type": "markdown",
   "id": "c12201da-766b-4b7e-9a82-9225d29a151b",
   "metadata": {},
   "source": [
    "# Naive vs Non-Naive"
   ]
  },
  {
   "cell_type": "code",
   "execution_count": null,
   "id": "2dc2b25c-46cc-4a32-80ce-d5247ab9aea6",
   "metadata": {},
   "outputs": [],
   "source": [
    "nonmait_b065 <- cd8.batch$`B065`\n",
    "nonmait_b069 <- cd8.batch$`B069`\n",
    "nonmait_b076 <- cd8.batch$`B076`"
   ]
  },
  {
   "cell_type": "code",
   "execution_count": null,
   "id": "fc6f7eca-04d9-4556-b4f9-fc374a667d2e",
   "metadata": {},
   "outputs": [],
   "source": [
    "nonmait_b065_df <- df_build(nonmait_b065)\n",
    "nonmait_b069_df <- df_build(nonmait_b069)\n",
    "nonmait_b076_df <- df_build(nonmait_b076)"
   ]
  },
  {
   "cell_type": "code",
   "execution_count": null,
   "id": "8c1f6c44-5b38-4588-be01-abeb7518abd1",
   "metadata": {},
   "outputs": [],
   "source": [
    "options(repr.plot.width = 24, repr.plot.height = 8)\n",
    "p1 <- ggplot(nonmait_b065_df, aes(x = CD197, y = CD45RA, color = predicted.t_celltype.l2)) + \n",
    "stat_density_2d(geom = 'polygon', aes(alpha = ..level.., fill = predicted.t_celltype.l2), bins = 10) +\n",
    "geom_vline(xintercept = 1.1) & geom_hline(yintercept = 3) & ggtitle('B065')\n",
    "\n",
    "p2 <- ggplot(nonmait_b069_df, aes(x = CD197, y = CD45RA, color = predicted.t_celltype.l2)) + \n",
    "stat_density_2d(geom = 'polygon', aes(alpha = ..level.., fill = predicted.t_celltype.l2), bins = 10) +\n",
    "geom_vline(xintercept = 1.1) & geom_hline(yintercept = 3.1) & ggtitle('B069')\n",
    "\n",
    "p3 <- ggplot(nonmait_b076_df, aes(x = CD197, y = CD45RA, color = predicted.t_celltype.l2)) + \n",
    "stat_density_2d(geom = 'polygon', aes(alpha = ..level.., fill = predicted.t_celltype.l2), bins = 10) +\n",
    "geom_vline(xintercept = 1) & geom_hline(yintercept = 3.45) & ggtitle('B076')\n",
    "\n",
    "p1 + p2 + p3"
   ]
  },
  {
   "cell_type": "code",
   "execution_count": null,
   "id": "e622348d-bcf8-427d-9d3e-f9fd97bec362",
   "metadata": {},
   "outputs": [],
   "source": [
    "options(repr.plot.width = 24, repr.plot.height = 8)\n",
    "p1 <- ggplot(nonmait_b065_df, aes(x = CD27, y = CD45RA, color = predicted.t_celltype.l2)) + \n",
    "stat_density_2d(geom = 'polygon', aes(alpha = ..level.., fill = predicted.t_celltype.l2), bins = 10) +\n",
    "geom_vline(xintercept = 2.8) & geom_hline(yintercept = 3) & ggtitle('B065')\n",
    "\n",
    "p2 <- ggplot(nonmait_b069_df, aes(x = CD27, y = CD45RA, color = predicted.t_celltype.l2)) + \n",
    "stat_density_2d(geom = 'polygon', aes(alpha = ..level.., fill = predicted.t_celltype.l2), bins = 10) +\n",
    "geom_vline(xintercept = 2.5) & geom_hline(yintercept = 3.1) & ggtitle('B069')\n",
    "\n",
    "p3 <- ggplot(nonmait_b076_df, aes(x = CD27, y = CD45RA, color = predicted.t_celltype.l2)) + \n",
    "stat_density_2d(geom = 'polygon', aes(alpha = ..level.., fill = predicted.t_celltype.l2), bins = 10) +\n",
    "geom_vline(xintercept = 2.4) & geom_hline(yintercept = 3.45) & ggtitle('B076')\n",
    "\n",
    "p1 + p2 + p3"
   ]
  },
  {
   "cell_type": "code",
   "execution_count": null,
   "id": "357b6d50-493c-4fdd-b92c-ec79e5f9f4bc",
   "metadata": {},
   "outputs": [],
   "source": [
    "options(repr.plot.width = 24, repr.plot.height = 8)\n",
    "p1 <- FeatureScatter(object = nonmait_b065, feature1 = 'adt_CD197', feature2 = 'adt_CD45RA', group.by = 'predicted.t_celltype.l2', pt.size = 0.0001) &\n",
    "geom_vline(xintercept = 1.1) & geom_hline(yintercept = 3) & ggtitle('B065')\n",
    "p2 <- FeatureScatter(object = nonmait_b069, feature1 = 'adt_CD197', feature2 = 'adt_CD45RA', group.by = 'predicted.t_celltype.l2', pt.size = 0.0001) & \n",
    "geom_vline(xintercept = 1.1) & geom_hline(yintercept = 3.1) & ggtitle('B069')\n",
    "p3 <- FeatureScatter(object = nonmait_b076, feature1 = 'adt_CD197', feature2 = 'adt_CD45RA', group.by = 'predicted.t_celltype.l2', pt.size = 0.0001) & \n",
    "geom_vline(xintercept = 1) & geom_hline(yintercept = 3.45) & ggtitle('B076')\n",
    "p4 <- FeatureScatter(object = nonmait_b065, feature1 = 'x10ADT_CD197', feature2 = 'adt_CD45RA', group.by = 'predicted.t_celltype.l2', pt.size = 0.0001) &\n",
    "geom_vline(xintercept = 0.6) & geom_hline(yintercept = 3) & ggtitle('B065')\n",
    "p5 <- FeatureScatter(object = nonmait_b069, feature1 = 'x10ADT_CD197', feature2 = 'adt_CD45RA', group.by = 'predicted.t_celltype.l2', pt.size = 0.0001) &\n",
    "geom_vline(xintercept = 0.6) & geom_hline(yintercept = 3) & ggtitle('B069')\n",
    "p6 <- FeatureScatter(object = nonmait_b076, feature1 = 'x10ADT_CD197', feature2 = 'adt_CD45RA', group.by = 'predicted.t_celltype.l2', pt.size = 0.0001) &\n",
    "geom_vline(xintercept = 0.6) & geom_hline(yintercept = 3.45) & ggtitle('B076')\n",
    "\n",
    "p1 + p2 + p3\n",
    "p4 + p5 + p6"
   ]
  },
  {
   "cell_type": "code",
   "execution_count": null,
   "id": "0f57c838-8878-4e8c-bdb7-64528c68fc60",
   "metadata": {},
   "outputs": [],
   "source": [
    "options(repr.plot.width = 24, repr.plot.height = 8)\n",
    "p1 <- FeatureScatter(object = nonmait_b065, feature1 = 'adt_CD27', feature2 = 'adt_CD45RA', group.by = 'predicted.t_celltype.l2', pt.size = 0.0001) & \n",
    "geom_vline(xintercept = 2.8) & geom_hline(yintercept = 3) & ggtitle('B065')\n",
    "p2 <- FeatureScatter(object = nonmait_b069, feature1 = 'adt_CD27', feature2 = 'adt_CD45RA', group.by = 'predicted.t_celltype.l2', pt.size = 0.0001) & \n",
    "geom_vline(xintercept = 2.5) & geom_hline(yintercept = 3.1) & ggtitle('B069')\n",
    "p3 <- FeatureScatter(object = nonmait_b076, feature1 = 'adt_CD27', feature2 = 'adt_CD45RA', group.by = 'predicted.t_celltype.l2', pt.size = 0.0001) & \n",
    "geom_vline(xintercept = 2.4) & geom_hline(yintercept = 3.45) & ggtitle('B076')\n",
    "\n",
    "p1 + p2 + p3"
   ]
  },
  {
   "cell_type": "code",
   "execution_count": null,
   "id": "22d75a76-6a18-4d29-b66e-12f85ebd357f",
   "metadata": {},
   "outputs": [],
   "source": [
    "options(repr.plot.width = 24, repr.plot.height = 8)\n",
    "p1 <- FeatureScatter(object = nonmait_b065, feature1 = 'adt_CD197', feature2 = 'adt_CD45RA', group.by = 'batch_id',cols = 'black', pt.size = 0.0001) & geom_density_2d(size = 1) &\n",
    "geom_vline(xintercept = 1.1) & geom_hline(yintercept = 3) & ggtitle('B065')\n",
    "p2 <- FeatureScatter(object = nonmait_b069, feature1 = 'adt_CD197', feature2 = 'adt_CD45RA', group.by = 'batch_id',cols = 'black', pt.size = 0.0001) & geom_density_2d(size = 1) &\n",
    "geom_vline(xintercept = 1.1) & geom_hline(yintercept = 3.1) & ggtitle('B069')\n",
    "p3 <- FeatureScatter(object = nonmait_b076, feature1 = 'adt_CD197', feature2 = 'adt_CD45RA', group.by = 'batch_id',cols = 'black', pt.size = 0.0001) & geom_density_2d(size = 1) &\n",
    "geom_vline(xintercept = 1) & geom_hline(yintercept = 3.45) & ggtitle('B076')\n",
    "\n",
    "p1 + p2 + p3"
   ]
  },
  {
   "cell_type": "code",
   "execution_count": null,
   "id": "366b8e9b-902b-42d0-93e0-a84f35cb3458",
   "metadata": {},
   "outputs": [],
   "source": [
    "options(repr.plot.width = 24, repr.plot.height = 8)\n",
    "p1 <- FeatureScatter(object = nonmait_b065, feature1 = 'adt_CD27', feature2 = 'adt_CD45RA', group.by = 'batch_id',cols = 'black', pt.size = 0.0001) & geom_density_2d(size = 1) &\n",
    "geom_vline(xintercept = 2.8) & geom_hline(yintercept = 3) & ggtitle('B065')\n",
    "p2 <- FeatureScatter(object = nonmait_b069, feature1 = 'adt_CD27', feature2 = 'adt_CD45RA', group.by = 'batch_id',cols = 'black', pt.size = 0.0001) & geom_density_2d(size = 1) &\n",
    "geom_vline(xintercept = 2.5) & geom_hline(yintercept = 3.1) & ggtitle('B069')\n",
    "p3 <- FeatureScatter(object = nonmait_b076, feature1 = 'adt_CD27', feature2 = 'adt_CD45RA', group.by = 'batch_id',cols = 'black', pt.size = 0.0001) & geom_density_2d(size = 1) &\n",
    "geom_vline(xintercept = 2.4) & geom_hline(yintercept = 3.45) & ggtitle('B076')\n",
    "\n",
    "p1 + p2 + p3"
   ]
  },
  {
   "cell_type": "code",
   "execution_count": null,
   "id": "d8f8c3cc-e868-47c4-bdfc-17a5c6898eff",
   "metadata": {},
   "outputs": [],
   "source": [
    "options(repr.plot.width = 24, repr.plot.height = 8)\n",
    "p1 <- ggplot(nonmait_b065_df, aes(x = CD45RA)) + geom_histogram(binwidth = .01) + geom_vline(xintercept = 3) & ggtitle('B065')\n",
    "\n",
    "p2 <- ggplot(nonmait_b065_df, aes(x = CD45RA)) + geom_histogram(binwidth = .01) + geom_vline(xintercept = 3.1) & ggtitle('B069')\n",
    "\n",
    "p3 <- ggplot(nonmait_b065_df, aes(x = CD45RA)) + geom_histogram(binwidth = .01) + geom_vline(xintercept = 3.45) & ggtitle('B076')\n",
    "\n",
    "p1 + p2 + p3"
   ]
  },
  {
   "cell_type": "code",
   "execution_count": null,
   "id": "315c5a21-4689-4544-9665-6644b5414ef6",
   "metadata": {},
   "outputs": [],
   "source": [
    "options(repr.plot.width = 24, repr.plot.height = 8)\n",
    "p1 <- ggplot(nonmait_b065_df, aes(x = raw_CD45RA)) + geom_histogram() & ggtitle('B065')\n",
    "\n",
    "p2 <- ggplot(nonmait_b065_df, aes(x = raw_CD45RA)) + geom_histogram() & ggtitle('B069')\n",
    "\n",
    "p3 <- ggplot(nonmait_b065_df, aes(x = raw_CD45RA)) + geom_histogram() & ggtitle('B076')\n",
    "\n",
    "p1 + p2 + p3"
   ]
  },
  {
   "cell_type": "code",
   "execution_count": null,
   "id": "1aeb8e19-70b7-499b-b259-cfd9677a1d09",
   "metadata": {},
   "outputs": [],
   "source": [
    "options(repr.plot.width = 24, repr.plot.height = 8)\n",
    "p1 <- ggplot(nonmait_b065_df, aes(x = CD197)) + geom_histogram(binwidth = .01) + geom_vline(xintercept = 1.1) & ggtitle('B065')\n",
    "\n",
    "p2 <- ggplot(nonmait_b065_df, aes(x = CD197)) + geom_histogram(binwidth = .01) + geom_vline(xintercept = 1.1) & ggtitle('B069')\n",
    "\n",
    "p3 <- ggplot(nonmait_b065_df, aes(x = CD197)) + geom_histogram(binwidth = .01) + geom_vline(xintercept = 1) & ggtitle('B076')\n",
    "\n",
    "p1 + p2 + p3"
   ]
  },
  {
   "cell_type": "code",
   "execution_count": null,
   "id": "b8b4ab4b-73d5-43a5-a870-5a9016fc567e",
   "metadata": {},
   "outputs": [],
   "source": [
    "options(repr.plot.width = 24, repr.plot.height = 8)\n",
    "p1 <- ggplot(nonmait_b065_df, aes(x = raw_CD197)) + geom_histogram() & ggtitle('B065')\n",
    "\n",
    "p2 <- ggplot(nonmait_b065_df, aes(x = raw_CD197)) + geom_histogram() & ggtitle('B069')\n",
    "\n",
    "p3 <- ggplot(nonmait_b065_df, aes(x = raw_CD197)) + geom_histogram() & ggtitle('B076')\n",
    "\n",
    "p1 + p2 + p3"
   ]
  },
  {
   "cell_type": "code",
   "execution_count": null,
   "id": "b5389098-5de5-420c-86ad-861805b3182d",
   "metadata": {},
   "outputs": [],
   "source": [
    "options(repr.plot.width = 24, repr.plot.height = 8)\n",
    "p1 <- ggplot(nonmait_b065_df, aes(x = imputed_CD197)) + geom_histogram(binwidth = .01) & ggtitle('B065')\n",
    "\n",
    "p2 <- ggplot(nonmait_b065_df, aes(x = imputed_CD197)) + geom_histogram(binwidth = .01) & ggtitle('B069')\n",
    "\n",
    "p3 <- ggplot(nonmait_b065_df, aes(x = imputed_CD197)) + geom_histogram(binwidth = .01) & ggtitle('B076')\n",
    "\n",
    "p1 + p2 + p3"
   ]
  },
  {
   "cell_type": "code",
   "execution_count": null,
   "id": "fc3caa6b-5193-4e16-ba7d-565f444b5a23",
   "metadata": {},
   "outputs": [],
   "source": [
    "options(repr.plot.width = 24, repr.plot.height = 8)\n",
    "p1 <- ggplot(nonmait_b065_df, aes(x = CD27)) + geom_histogram(binwidth = .01) + geom_vline(xintercept = 2.8) & ggtitle('B065')\n",
    "\n",
    "p2 <- ggplot(nonmait_b065_df, aes(x = CD27)) + geom_histogram(binwidth = .01) + geom_vline(xintercept = 2.5) & ggtitle('B069')\n",
    "\n",
    "p3 <- ggplot(nonmait_b065_df, aes(x = CD27)) + geom_histogram(binwidth = .01) + geom_vline(xintercept = 2.4) & ggtitle('B076')\n",
    "\n",
    "p1 + p2 + p3"
   ]
  },
  {
   "cell_type": "code",
   "execution_count": null,
   "id": "afc27486-bfe6-43c5-a97b-f16fcac53a92",
   "metadata": {},
   "outputs": [],
   "source": [
    "naive_b065 <- subset(nonmait_b065, subset = adt_CD197 > 1.1 & adt_CD45RA > 3 & adt_CD27 > 2.8)\n",
    "naive_b069 <- subset(nonmait_b069, subset = adt_CD197 > 1.1 & adt_CD45RA > 3.1 & adt_CD27 > 2.5)\n",
    "naive_b076 <- subset(nonmait_b076, subset = adt_CD197 > 1 & adt_CD45RA > 3.45 & adt_CD27 > 2.4)"
   ]
  },
  {
   "cell_type": "markdown",
   "id": "f54ee6c4-b74f-41d1-8b99-0131f712cc7d",
   "metadata": {},
   "source": [
    "## Naive Subset Combined"
   ]
  },
  {
   "cell_type": "code",
   "execution_count": null,
   "id": "bd09b543-e588-4471-bcef-269458905a83",
   "metadata": {},
   "outputs": [],
   "source": [
    "naive_merge <- merge(naive_b065, c(naive_b069, naive_b076))"
   ]
  },
  {
   "cell_type": "code",
   "execution_count": null,
   "id": "856efd73-321d-4edf-bf84-4bd401fdf4cb",
   "metadata": {},
   "outputs": [],
   "source": [
    "table(naive_merge$pbmc_sample_id)"
   ]
  },
  {
   "cell_type": "code",
   "execution_count": null,
   "id": "a7f6b4fe-e55c-4d8a-b59f-26591ca1d72d",
   "metadata": {},
   "outputs": [],
   "source": [
    "naive_merge$gating_celltype <- rep(\"CD8 Naive\", length(colnames(naive_merge[['RNA']])))"
   ]
  },
  {
   "cell_type": "code",
   "execution_count": null,
   "id": "afc12183-0314-43e6-95bb-546973f70cf7",
   "metadata": {},
   "outputs": [],
   "source": [
    "saveRDS(naive_merge, file = '../Seurat_Objects/cd8_naive.rds')"
   ]
  },
  {
   "cell_type": "markdown",
   "id": "a5219bf1-ca9d-458a-be6c-062ca500e1b3",
   "metadata": {},
   "source": [
    "# Memory Analysis"
   ]
  },
  {
   "cell_type": "code",
   "execution_count": null,
   "id": "da6dba3e-5d73-4f7a-a9f0-ce3cdcadcc46",
   "metadata": {},
   "outputs": [],
   "source": [
    "mem_b065 <- subset(nonmait_b065, subset = adt_CD197 > 1.1 & adt_CD45RA > 3 & adt_CD27 > 2.8, invert =T)\n",
    "mem_b065\n",
    "mem_b069 <- subset(nonmait_b069, subset = adt_CD197 > 1.1 & adt_CD45RA > 3.1 & adt_CD27 > 2.5, invert =T)\n",
    "mem_b069\n",
    "mem_b076 <- subset(nonmait_b076, subset = adt_CD197 > 1 & adt_CD45RA > 3.45 & adt_CD27 > 2.4, invert =T)\n",
    "mem_b076"
   ]
  },
  {
   "cell_type": "code",
   "execution_count": null,
   "id": "254def1f-6f7b-4bc9-a1c2-032990957a30",
   "metadata": {},
   "outputs": [],
   "source": [
    "options(repr.plot.width = 24, repr.plot.height = 8)\n",
    "p1 <- FeatureScatter(object = mem_b065, feature1 = 'adt_CD197', feature2 = 'adt_CD45RA', group.by = 'predicted.t_celltype.l2', pt.size = 0.0001) &\n",
    "geom_vline(xintercept = 1.4) & geom_hline(yintercept = 3) & ggtitle('B065')\n",
    "p2 <- FeatureScatter(object = mem_b069, feature1 = 'adt_CD197', feature2 = 'adt_CD45RA', group.by = 'predicted.t_celltype.l2', pt.size = 0.0001) &\n",
    "geom_vline(xintercept = 1.5) & geom_hline(yintercept = 3.1) & ggtitle('B069')\n",
    "p3 <- FeatureScatter(object = mem_b076, feature1 = 'adt_CD197', feature2 = 'adt_CD45RA', group.by = 'predicted.t_celltype.l2', pt.size = 0.0001) &\n",
    "geom_vline(xintercept = 1.5) & geom_hline(yintercept = 3.45) & ggtitle('B076')\n",
    "p1 + p2 + p3"
   ]
  },
  {
   "cell_type": "code",
   "execution_count": null,
   "id": "7ed92b70-8291-46e7-b3cf-0bc8febcb83f",
   "metadata": {},
   "outputs": [],
   "source": [
    "options(repr.plot.width = 24, repr.plot.height = 8)\n",
    "p1 <- FeatureScatter(object = mem_b065, feature1 = 'adt_CD27', feature2 = 'adt_CD45RA', group.by = 'predicted.t_celltype.l2', pt.size = 0.0001) &\n",
    "geom_vline(xintercept = 2.8) & geom_hline(yintercept = 3) & ggtitle('B065')\n",
    "p2 <- FeatureScatter(object = mem_b069, feature1 = 'adt_CD27', feature2 = 'adt_CD45RA', group.by = 'predicted.t_celltype.l2', pt.size = 0.0001) &\n",
    "geom_vline(xintercept = 2.5) & geom_hline(yintercept = 3.1) & ggtitle('B069')\n",
    "p3 <- FeatureScatter(object = mem_b076, feature1 = 'adt_CD27', feature2 = 'adt_CD45RA', group.by = 'predicted.t_celltype.l2', pt.size = 0.0001) &\n",
    "geom_vline(xintercept = 2.4) & geom_hline(yintercept = 3.45) & ggtitle('B076')\n",
    "\n",
    "p1 + p2 + p3"
   ]
  },
  {
   "cell_type": "markdown",
   "id": "9941e5a3-bfad-452d-aed6-da327c5816be",
   "metadata": {},
   "source": [
    "## CM Subset"
   ]
  },
  {
   "cell_type": "code",
   "execution_count": null,
   "id": "48255b41-2b54-40e9-8187-53dab1f691b7",
   "metadata": {},
   "outputs": [],
   "source": [
    "cm_b065 <- subset(mem_b065, subset = adt_CD27 > 2.8 & adt_CD45RA < 3 & adt_CD197 > 1.4)\n",
    "cm_b069 <- subset(mem_b069, subset = adt_CD27 > 2.5 & adt_CD45RA < 3.1 & adt_CD197 > 1.5)\n",
    "cm_b076 <- subset(mem_b076, subset = adt_CD27 > 2.4 & adt_CD45RA < 3.45 & adt_CD197 > 1.5)"
   ]
  },
  {
   "cell_type": "code",
   "execution_count": null,
   "id": "bea1f455-c703-4426-bac1-7f4fa9d9a14c",
   "metadata": {},
   "outputs": [],
   "source": [
    "cm_merge <- merge(cm_b065, c(cm_b069, cm_b076))"
   ]
  },
  {
   "cell_type": "code",
   "execution_count": null,
   "id": "4a2fd94f-d887-4cba-a005-63c9958352fe",
   "metadata": {},
   "outputs": [],
   "source": [
    "table(cm_merge$pbmc_sample_id)"
   ]
  },
  {
   "cell_type": "code",
   "execution_count": null,
   "id": "b1e1fb56-f052-4382-9fb2-3cf2969c4bc4",
   "metadata": {},
   "outputs": [],
   "source": [
    "cm_merge$gating_celltype <- rep(\"CD8 CM\", length(colnames(cm_merge[['RNA']])))"
   ]
  },
  {
   "cell_type": "code",
   "execution_count": null,
   "id": "93fae0a4-edf9-4ba2-ad8d-068465d4f6b8",
   "metadata": {},
   "outputs": [],
   "source": [
    "saveRDS(cm_merge, file = '../Seurat_Objects/cd8_cm.rds')"
   ]
  },
  {
   "cell_type": "markdown",
   "id": "b298293d-4b96-480e-a187-3315fc040ade",
   "metadata": {},
   "source": [
    "## EM Subset"
   ]
  },
  {
   "cell_type": "code",
   "execution_count": null,
   "id": "0f547f75-71e6-4290-9187-14a4262e68d9",
   "metadata": {},
   "outputs": [],
   "source": [
    "em1_b065 <- subset(mem_b065, subset = adt_CD27 > 2.8 & adt_CD45RA < 3 & adt_CD197 < 1.4)\n",
    "em1_b069 <- subset(mem_b069, subset = adt_CD27 > 2.5 & adt_CD45RA < 3.1 & adt_CD197 < 1.5)\n",
    "em1_b076 <- subset(mem_b076, subset = adt_CD27 > 2.4 & adt_CD45RA < 3.45 & adt_CD197 < 1.5)"
   ]
  },
  {
   "cell_type": "code",
   "execution_count": null,
   "id": "9f9e9c90-cbed-4de7-9b14-7fd8841927ee",
   "metadata": {},
   "outputs": [],
   "source": [
    "em2_b065 <- subset(mem_b065, subset = adt_CD27 < 2.8 & adt_CD45RA < 3 & adt_CD197 < 1.4)\n",
    "em2_b069 <- subset(mem_b069, subset = adt_CD27 < 2.5 & adt_CD45RA < 3.1 & adt_CD197 < 1.5)\n",
    "em2_b076 <- subset(mem_b076, subset = adt_CD27 < 2.4 & adt_CD45RA < 3.45 & adt_CD197 < 1.5)"
   ]
  },
  {
   "cell_type": "code",
   "execution_count": null,
   "id": "3a5ab1bb-4494-4579-8fe9-9a21ed208f34",
   "metadata": {},
   "outputs": [],
   "source": [
    "em1_merge <- merge(em1_b065, c(em1_b069, em1_b076))\n",
    "em2_merge <- merge(em2_b065, c(em2_b069, em2_b076))"
   ]
  },
  {
   "cell_type": "code",
   "execution_count": null,
   "id": "65e7b110-494e-4889-aa90-47687c037838",
   "metadata": {},
   "outputs": [],
   "source": [
    "table(em1_merge$pbmc_sample_id)\n",
    "table(em2_merge$pbmc_sample_id)"
   ]
  },
  {
   "cell_type": "code",
   "execution_count": null,
   "id": "9ee74e1a-c497-45ee-a3c1-ebfadcb79abc",
   "metadata": {},
   "outputs": [],
   "source": [
    "em1_merge$gating_celltype <- rep(\"CD8 EM1\", length(colnames(em1_merge[['RNA']])))\n",
    "em2_merge$gating_celltype <- rep(\"CD8 EM2\", length(colnames(em2_merge[['RNA']])))"
   ]
  },
  {
   "cell_type": "code",
   "execution_count": null,
   "id": "1e68247d-0287-4489-87af-03519b26b068",
   "metadata": {},
   "outputs": [],
   "source": [
    "em_merge <- merge(em1_merge, em2_merge)"
   ]
  },
  {
   "cell_type": "code",
   "execution_count": null,
   "id": "e7ba75ef-6252-44d4-b8c5-618b324a54f8",
   "metadata": {},
   "outputs": [],
   "source": [
    "saveRDS(em_merge, file = '../Seurat_Objects/cd8_em.rds')"
   ]
  },
  {
   "cell_type": "markdown",
   "id": "80a212c0-cbbd-42c2-b368-bb336f7c39d4",
   "metadata": {},
   "source": [
    "## EMRA Subset"
   ]
  },
  {
   "cell_type": "code",
   "execution_count": null,
   "id": "fac9cef5-569f-4b37-b103-0ba7a8866549",
   "metadata": {},
   "outputs": [],
   "source": [
    "emra_b065 <- subset(mem_b065, subset = adt_CD27 < 2.8 & adt_CD45RA > 3 & adt_CD197 < 1.4)\n",
    "emra_b069 <- subset(mem_b069, subset = adt_CD27 < 2.5 & adt_CD45RA > 3.1 & adt_CD197 < 1.5)\n",
    "emra_b076 <- subset(mem_b076, subset = adt_CD27 < 2.4 & adt_CD45RA > 3.45 & adt_CD197 < 1.5)"
   ]
  },
  {
   "cell_type": "code",
   "execution_count": null,
   "id": "dfd66cc5-d821-458e-b905-a96ee38488f6",
   "metadata": {},
   "outputs": [],
   "source": [
    "emra_merge <- merge(emra_b065, c(emra_b069, emra_b076))"
   ]
  },
  {
   "cell_type": "code",
   "execution_count": null,
   "id": "0a951bc9-3778-432d-ba8f-8bd1cc34999b",
   "metadata": {},
   "outputs": [],
   "source": [
    "table(emra_merge$pbmc_sample_id)"
   ]
  },
  {
   "cell_type": "code",
   "execution_count": null,
   "id": "f914e9ad-8fdf-4916-8ac4-2eccc6df93a1",
   "metadata": {},
   "outputs": [],
   "source": [
    "emra_merge$gating_celltype <- rep(\"CD8 TEMRA\", length(colnames(emra_merge[['RNA']])))"
   ]
  },
  {
   "cell_type": "code",
   "execution_count": null,
   "id": "64b45229-7648-4f63-83b1-b8e0307b9275",
   "metadata": {},
   "outputs": [],
   "source": [
    "saveRDS(emra_merge, file = '../Seurat_Objects/cd8_emra.rds')"
   ]
  },
  {
   "cell_type": "markdown",
   "id": "d874cd72-6f1f-4153-a8f0-8c31605223dc",
   "metadata": {},
   "source": [
    "# Recombine"
   ]
  },
  {
   "cell_type": "code",
   "execution_count": null,
   "id": "2f3d7047-ceba-4740-8a27-e32223c38b2e",
   "metadata": {},
   "outputs": [],
   "source": [
    "merge_all <- merge(naive_merge, c(cm_merge, em_merge, emra_merge))\n",
    "merge_all"
   ]
  },
  {
   "cell_type": "code",
   "execution_count": null,
   "id": "90c3f063-12e0-4aef-9fc6-15ef6c9e687a",
   "metadata": {},
   "outputs": [],
   "source": [
    "table(merge_all$gating_celltype)"
   ]
  },
  {
   "cell_type": "code",
   "execution_count": null,
   "id": "80e4613c-d7b4-4957-93ee-16b9ffcd9907",
   "metadata": {},
   "outputs": [],
   "source": [
    "merge_all.split <- SplitObject(merge_all, split.by = 'gating_celltype')"
   ]
  },
  {
   "cell_type": "code",
   "execution_count": null,
   "id": "f38d7453-a7fc-4d0a-8bc1-b32d3e7c9a6e",
   "metadata": {},
   "outputs": [],
   "source": [
    "lapply(merge_all.split, function(x){\n",
    "    table(x$pbmc_sample_id)})"
   ]
  },
  {
   "cell_type": "markdown",
   "id": "64a07a00-5597-4107-9d05-0902ea3180c5",
   "metadata": {},
   "source": [
    "## Subset Remaining cells"
   ]
  },
  {
   "cell_type": "code",
   "execution_count": null,
   "id": "789cc06e-eab9-44b7-9e5d-ddfa504f0ee3",
   "metadata": {},
   "outputs": [],
   "source": [
    "bcs <- setdiff(colnames(cd8[['RNA']]), colnames(merge_all[['RNA']]))"
   ]
  },
  {
   "cell_type": "code",
   "execution_count": null,
   "id": "c41156da-4f6b-453c-9405-745c0b871d87",
   "metadata": {},
   "outputs": [],
   "source": [
    "unknowns <- subset(cd8, cells = bcs)"
   ]
  },
  {
   "cell_type": "code",
   "execution_count": null,
   "id": "0c2c3039-7aed-4f60-81cc-f4193f40b857",
   "metadata": {},
   "outputs": [],
   "source": [
    "unknowns$gating_celltype <- rep(\"CD8 Unk\", length(colnames(unknowns[['RNA']])))"
   ]
  },
  {
   "cell_type": "code",
   "execution_count": null,
   "id": "1585bdd1-95d7-4fcd-b353-e3201c9c5445",
   "metadata": {},
   "outputs": [],
   "source": [
    "saveRDS(unknowns, file = '../Seurat_Objects/cd8_unk.rds')"
   ]
  },
  {
   "cell_type": "code",
   "execution_count": null,
   "id": "24d08d55-a8eb-4cac-b1e4-c1bda7b78938",
   "metadata": {},
   "outputs": [],
   "source": [
    "merge_all_final <- merge(merge_all, unknowns)\n",
    "merge_all_final"
   ]
  },
  {
   "cell_type": "markdown",
   "id": "673e36a5-ebcf-4186-9778-10315d818152",
   "metadata": {},
   "source": [
    "## Major Populations Plots"
   ]
  },
  {
   "cell_type": "code",
   "execution_count": null,
   "id": "8653c8ed-61c9-4636-9426-6fca379a1f15",
   "metadata": {},
   "outputs": [],
   "source": [
    "main_subset <- merge(naive_merge, c(cm_merge, em_merge, emra_merge))"
   ]
  },
  {
   "cell_type": "code",
   "execution_count": null,
   "id": "779390af-b66a-4b7e-943e-46f9123c6e0e",
   "metadata": {},
   "outputs": [],
   "source": [
    "main.batch <- SplitObject(main_subset, 'batch_id')"
   ]
  },
  {
   "cell_type": "code",
   "execution_count": null,
   "id": "1c0333dc-eb95-45b2-b2a9-f0f7fe60cb22",
   "metadata": {},
   "outputs": [],
   "source": [
    "df_main_b065 <- df_build(main.batch$`B065`)\n",
    "df_main_b069 <- df_build(main.batch$`B069`)\n",
    "df_main_b076 <- df_build(main.batch$`B076`)"
   ]
  },
  {
   "cell_type": "code",
   "execution_count": null,
   "id": "ef4d6e48-7151-4904-a3f5-d0208d671476",
   "metadata": {},
   "outputs": [],
   "source": [
    "p1 <- ggplot(df_main_b065, aes(x = CD27, y = CD45RA, color = gating_celltype)) + \n",
    "stat_density_2d(geom = 'polygon', aes(alpha = ..level.., fill = gating_celltype), bins = 10)\n",
    "p2 <- ggplot(df_main_b065, aes(x = CD197, y = CD45RA, color = gating_celltype)) + \n",
    "stat_density_2d(geom = 'polygon', aes(alpha = ..level.., fill = gating_celltype), bins = 10)"
   ]
  },
  {
   "cell_type": "code",
   "execution_count": null,
   "id": "bea538b8-2082-40bc-8337-831194b11624",
   "metadata": {},
   "outputs": [],
   "source": [
    "ggplot(df_main_b069, aes(x = CD27, y = CD45RA, color = gating_celltype)) + \n",
    "stat_density_2d(geom = 'polygon', aes(alpha = ..level.., fill = gating_celltype), bins = 10)\n",
    "ggplot(df_main_b069, aes(x = CD197, y = CD45RA, color = gating_celltype)) + \n",
    "stat_density_2d(geom = 'polygon', aes(alpha = ..level.., fill = gating_celltype), bins = 10)"
   ]
  },
  {
   "cell_type": "code",
   "execution_count": null,
   "id": "f7a539c4-37ae-4801-be95-20c7547253ee",
   "metadata": {},
   "outputs": [],
   "source": [
    "ggplot(df_main_b076, aes(x = CD27, y = CD45RA, color = gating_celltype)) + \n",
    "stat_density_2d(geom = 'polygon', aes(alpha = ..level.., fill = gating_celltype), bins = 10)\n",
    "ggplot(df_main_b076, aes(x = CD197, y = CD45RA, color = gating_celltype)) + \n",
    "stat_density_2d(geom = 'polygon', aes(alpha = ..level.., fill = gating_celltype), bins = 10)"
   ]
  },
  {
   "cell_type": "markdown",
   "id": "ed8492a3-c13c-4e90-b199-2fecc663a6d2",
   "metadata": {},
   "source": [
    "# Get Counts"
   ]
  },
  {
   "cell_type": "code",
   "execution_count": null,
   "id": "4511a3ce-c88d-4b35-82e2-8dbb9b8dd0fd",
   "metadata": {},
   "outputs": [],
   "source": [
    "merge_all.split <- SplitObject(merge_all, 'gating_celltype')"
   ]
  },
  {
   "cell_type": "code",
   "execution_count": null,
   "id": "754b820e-5638-4c03-906d-7eedf8a2f41f",
   "metadata": {},
   "outputs": [],
   "source": [
    "lapply(merge_all.split, function(x){\n",
    "    table(x$pbmc_sample_id)})"
   ]
  }
 ],
 "metadata": {
  "kernelspec": {
   "display_name": "R 4",
   "language": "R",
   "name": "ir"
  },
  "language_info": {
   "codemirror_mode": "r",
   "file_extension": ".r",
   "mimetype": "text/x-r-source",
   "name": "R",
   "pygments_lexer": "r",
   "version": "4.1.2"
  }
 },
 "nbformat": 4,
 "nbformat_minor": 5
}
