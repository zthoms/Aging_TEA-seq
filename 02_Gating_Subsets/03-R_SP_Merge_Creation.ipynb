{
 "cells": [
  {
   "cell_type": "markdown",
   "id": "0307354b-6fe1-4b6d-9cbb-b68d6371f346",
   "metadata": {},
   "source": [
    "# Setup"
   ]
  },
  {
   "cell_type": "code",
   "execution_count": null,
   "id": "0b0b67a6-3137-4c16-8abc-20345c36c8ad",
   "metadata": {
    "tags": []
   },
   "outputs": [],
   "source": [
    "quiet_library <- function(...) {\n",
    "    suppressPackageStartupMessages(library(...))\n",
    "}\n",
    "quiet_library(Seurat)\n",
    "quiet_library(ggplot2)\n",
    "quiet_library(Matrix)\n",
    "quiet_library(H5weaver)\n",
    "quiet_library(dplyr)\n",
    "quiet_library(viridis)\n",
    "quiet_library(harmony)\n",
    "quiet_library(Nebulosa)"
   ]
  },
  {
   "cell_type": "markdown",
   "id": "15f9b205-71be-424a-a519-60055779d7f7",
   "metadata": {},
   "source": [
    "# Load all gated subsets"
   ]
  },
  {
   "cell_type": "markdown",
   "id": "12143032-8055-4d95-84a9-2f08ba4bb374",
   "metadata": {},
   "source": [
    "## CD8 subsets"
   ]
  },
  {
   "cell_type": "code",
   "execution_count": null,
   "id": "3dd60aaf-65f3-4481-a5d2-40ee32449b3f",
   "metadata": {},
   "outputs": [],
   "source": [
    "cd8_na <- readRDS('../Seurat_Objects/cd8_naive.rds')\n",
    "cd8_cm <- readRDS('../Seurat_Objects/cd8_cm.rds')\n",
    "cd8_em <- readRDS('../Seurat_Objects/cd8_em.rds')\n",
    "cd8_emra <- readRDS('../Seurat_Objects/cd8_emra.rds')\n",
    "cd8_unk <- readRDS('../Seurat_Objects/cd8_unk.rds')"
   ]
  },
  {
   "cell_type": "markdown",
   "id": "c6ae7128-9ed7-4ae5-89b1-de072426664c",
   "metadata": {},
   "source": [
    "## CD4 Subsets"
   ]
  },
  {
   "cell_type": "code",
   "execution_count": null,
   "id": "f20cc06c-7e38-4235-a28f-5098af8410d0",
   "metadata": {},
   "outputs": [],
   "source": [
    "cd4_na <- readRDS('../Seurat_Objects/cd4_naive.rds')\n",
    "cd4_cm <- readRDS('../Seurat_Objects/cd4_cm.rds')\n",
    "cd4_em <- readRDS('../Seurat_Objects/cd4_em.rds')\n",
    "cd4_emra <- readRDS('../Seurat_Objects/cd4_emra.rds')\n",
    "cd4_unk <- readRDS('../Seurat_Objects/cd4_unk.rds')\n",
    "treg <- readRDS('../Seurat_Objects/treg.rds')"
   ]
  },
  {
   "cell_type": "markdown",
   "id": "0cd1311a-2201-4f8b-8eb0-0c06ddf81e8c",
   "metadata": {},
   "source": [
    "## Merge\n",
    "### Check Counts"
   ]
  },
  {
   "cell_type": "code",
   "execution_count": null,
   "id": "2d690e1e-f360-4aa1-b344-372076e671a7",
   "metadata": {},
   "outputs": [],
   "source": [
    "sp_merge <- merge(cd8_na, c(cd8_cm, cd8_em, cd8_emra, cd8_unk, cd4_na, cd4_cm, cd4_em, cd4_emra, treg, cd4_unk))"
   ]
  },
  {
   "cell_type": "code",
   "execution_count": null,
   "id": "202f1e3f-19e3-4cd4-bc50-245e6240467a",
   "metadata": {},
   "outputs": [],
   "source": [
    "sp_merge"
   ]
  },
  {
   "cell_type": "markdown",
   "id": "1529f5f3-0abe-4d87-93c9-9601a7aad73c",
   "metadata": {},
   "source": [
    "## Remove subsets to save memory"
   ]
  },
  {
   "cell_type": "code",
   "execution_count": null,
   "id": "2192cb4b-33d3-488c-a1a4-5aae4f348320",
   "metadata": {},
   "outputs": [],
   "source": [
    "rm(cd8_na)\n",
    "rm(cd8_cm)\n",
    "rm(cd8_em)\n",
    "rm(cd8_emra)\n",
    "rm(cd8_unk)\n",
    "rm(cd4_na)\n",
    "rm(cd4_em)\n",
    "rm(cd4_cm)\n",
    "rm(cd4_emra)\n",
    "rm(cd4_unk)\n",
    "rm(treg)"
   ]
  },
  {
   "cell_type": "markdown",
   "id": "7fd9de82-7cba-4b7f-a826-12180126d9b9",
   "metadata": {},
   "source": [
    "# Add Metadata"
   ]
  },
  {
   "cell_type": "code",
   "execution_count": null,
   "id": "98c8e75b-8388-4db9-a222-f7107a7743de",
   "metadata": {},
   "outputs": [],
   "source": [
    "sp_merge <- SetIdent(sp_merge, value = 'pbmc_sample_id')\n",
    "sp_merge <- RenameIdents(sp_merge,\n",
    "                           'PB00173-02' = 'Positive', #validated\n",
    "                           'PB00192-02' = 'Negative', #validated\n",
    "                           'PB00197-02' = 'Negative', #validated\n",
    "                           'PB00593-04' = 'Positive', #validated\n",
    "                           'PB00172-02' = 'Positive',\n",
    "                           'PB00182-02' = 'Negative',\n",
    "                           'PB00323-02' = 'Positive',\n",
    "                           'PB00807-02' = 'Positive',\n",
    "                           'PB00124-02' = 'Positive',\n",
    "                           'PB00127-02' = 'Negative',\n",
    "                           'PB00334-03' = 'Negative',\n",
    "                           'PB00353-03' = 'Negative',\n",
    "                           'PB00368-04' = 'Positive',\n",
    "                           'PB00377-03' = 'Negative',\n",
    "                           'PB00545-02' = 'Negative',\n",
    "                           'PB00599-02' = 'Positive')\n",
    "sp_merge$CMV <- Idents(sp_merge)"
   ]
  },
  {
   "cell_type": "code",
   "execution_count": null,
   "id": "340b1c5a-da7f-439c-b7cd-e186a595f510",
   "metadata": {},
   "outputs": [],
   "source": [
    "sp_merge <- SetIdent(sp_merge, value = 'pbmc_sample_id')\n",
    "sp_merge <- RenameIdents(sp_merge,\n",
    "                           'PB00173-02' = 'UP1006', #validated\n",
    "                           'PB00192-02' = 'UP1007', #validated\n",
    "                           'PB00197-02' = 'UP1010', #validated\n",
    "                           'PB00593-04' = 'BR2002', #validated\n",
    "                           'PB00172-02' = 'UP1002',\n",
    "                           'PB00182-02' = 'UP1003',\n",
    "                           'PB00323-02' = 'BR2004',\n",
    "                           'PB00807-02' = 'UP1005',\n",
    "                           'PB00124-02' = 'UP1001',\n",
    "                           'PB00127-02' = 'UP1004',\n",
    "                           'PB00334-03' = 'BR2009',\n",
    "                           'PB00353-03' = 'BR2008',\n",
    "                           'PB00368-04' = 'BR2005',\n",
    "                           'PB00377-03' = 'BR2015',\n",
    "                           'PB00545-02' = 'BR2042',\n",
    "                           'PB00599-02' = 'BR2052')\n",
    "sp_merge$subject_id <- Idents(sp_merge)"
   ]
  },
  {
   "cell_type": "code",
   "execution_count": null,
   "id": "be0ca878-acd0-4f8d-8792-819ec9b29271",
   "metadata": {},
   "outputs": [],
   "source": [
    "sp_merge$age_cmv <- paste0(sp_merge$pediatric_senior,\"_CMV-\",sp_merge$CMV)"
   ]
  },
  {
   "cell_type": "code",
   "execution_count": null,
   "id": "42b241fd-12f3-454e-9c3c-745c3c0f6b3e",
   "metadata": {},
   "outputs": [],
   "source": [
    "saveRDS(sp_merge, file = '../Seurat_Objects/sp_merge_only.rds')"
   ]
  },
  {
   "cell_type": "markdown",
   "id": "60814f3a-aa7e-4060-88f2-386f602cd90a",
   "metadata": {},
   "source": [
    "# Gated Cell Type Proportions (BoxPlot)"
   ]
  },
  {
   "cell_type": "code",
   "execution_count": null,
   "id": "b181cdae-8b13-4360-9042-9e9619122b81",
   "metadata": {},
   "outputs": [],
   "source": [
    "sp_merge <- readRDS(file = '../Seurat_Objects/sp_merge_only.rds')"
   ]
  },
  {
   "cell_type": "code",
   "execution_count": null,
   "id": "0c019c08-54b5-4c4a-ac4a-2462a6c23312",
   "metadata": {},
   "outputs": [],
   "source": [
    "metadata <- sp_merge@meta.data"
   ]
  },
  {
   "cell_type": "code",
   "execution_count": null,
   "id": "e07a2a07-5970-4175-be9c-322f547dd501",
   "metadata": {},
   "outputs": [],
   "source": [
    "gated_counts <- dplyr::count(metadata, gating_celltype, pbmc_sample_id, pediatric_senior)"
   ]
  },
  {
   "cell_type": "code",
   "execution_count": null,
   "id": "acd8727c-105f-4c58-8fb3-625980ef48f9",
   "metadata": {},
   "outputs": [],
   "source": [
    "head(gated_counts)"
   ]
  },
  {
   "cell_type": "code",
   "execution_count": null,
   "id": "0c525699-dcf8-4214-a6a3-8c21d99e47ce",
   "metadata": {},
   "outputs": [],
   "source": [
    "sum_counts <- metadata %>%\n",
    "                dplyr::count(pediatric_senior, pbmc_sample_id)\n",
    "head(sum_counts)"
   ]
  },
  {
   "cell_type": "code",
   "execution_count": null,
   "id": "e88cd742-1d4e-4e47-9bef-4cedfccb330e",
   "metadata": {},
   "outputs": [],
   "source": [
    "joined_counts <- left_join(gated_counts, sum_counts, by = 'pbmc_sample_id')\n",
    "head(joined_counts)"
   ]
  },
  {
   "cell_type": "code",
   "execution_count": null,
   "id": "572a8541-619b-4417-b4c1-6ff61de777f3",
   "metadata": {},
   "outputs": [],
   "source": [
    "joined_counts$perc <- joined_counts$n.x/joined_counts$n.y\n",
    "colnames(joined_counts) <- c('gating_celltype','pbmc_sample_id','pediatric_senior','count','pediatric_senior_repeat','sample_total_count','perc')\n",
    "head(joined_counts)"
   ]
  },
  {
   "cell_type": "code",
   "execution_count": null,
   "id": "f2fee00f-cb2f-48e7-acc0-11fae9e73a0a",
   "metadata": {},
   "outputs": [],
   "source": [
    "options(repr.plot.width = 20, repr.plot.height = 10)\n",
    "ggplot(joined_counts, aes(x = reorder(gating_celltype,-perc), y = perc, fill = pediatric_senior)) + \n",
    "    geom_boxplot() + \n",
    "    scale_y_log10() + \n",
    "    geom_dotplot(binaxis='y', stackdir='center',\n",
    "                 position=position_dodge(), binwidth = 1/40) + \n",
    "    theme(axis.text.x = element_text(angle = 90, hjust = 1, vjust = 0.5, size = 15),\n",
    "          axis.text.y = element_text(size = 15)) +\n",
    "    guides(fill = guide_legend(title = 'Pediatric / Senior')) +\n",
    "    xlab(\"Gating Cell Types\") + \n",
    "    ylab(\"Percent\")"
   ]
  },
  {
   "cell_type": "code",
   "execution_count": null,
   "id": "a9dc2a73-275c-426d-b050-f48a7fe3c356",
   "metadata": {},
   "outputs": [],
   "source": [
    "options(repr.plot.width = 20, repr.plot.height = 10)\n",
    "ggplot(joined_counts, aes(x = reorder(gating_celltype,-perc), y = perc, fill = pediatric_senior)) + \n",
    "    geom_boxplot() + \n",
    "    #scale_y_log10() + \n",
    "    geom_dotplot(binaxis='y', stackdir='center',\n",
    "                 position=position_dodge(), binwidth = 1/200) + \n",
    "    theme(axis.text.x = element_text(angle = 90, hjust = 1, vjust = 0.5, size = 15),\n",
    "          axis.text.y = element_text(size = 15)) +\n",
    "    guides(fill = guide_legend(title = 'Pediatric / Senior')) +\n",
    "    xlab(\"Gating Cell Types\") + \n",
    "    ylab(\"Percent\")"
   ]
  },
  {
   "cell_type": "code",
   "execution_count": null,
   "id": "235e6e1e-dc8e-4c63-9253-da095188e5af",
   "metadata": {},
   "outputs": [],
   "source": [
    "write.csv(joined_counts, file = 'gating_counts.csv')"
   ]
  },
  {
   "cell_type": "code",
   "execution_count": null,
   "id": "f114dc98-a9bb-4c77-a647-841321ecb2c4",
   "metadata": {},
   "outputs": [],
   "source": [
    "sessionInfo()"
   ]
  }
 ],
 "metadata": {
  "kernelspec": {
   "display_name": "R 4",
   "language": "R",
   "name": "ir"
  },
  "language_info": {
   "codemirror_mode": "r",
   "file_extension": ".r",
   "mimetype": "text/x-r-source",
   "name": "R",
   "pygments_lexer": "r",
   "version": "4.1.2"
  }
 },
 "nbformat": 4,
 "nbformat_minor": 5
}
