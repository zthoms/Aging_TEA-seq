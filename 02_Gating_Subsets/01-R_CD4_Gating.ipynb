{
 "cells": [
  {
   "cell_type": "code",
   "execution_count": null,
   "id": "cf43a30e-6306-4044-adc2-e48ea6637015",
   "metadata": {},
   "outputs": [],
   "source": [
    "quiet_library <- function(...) {\n",
    "    suppressPackageStartupMessages(library(...))\n",
    "}\n",
    "quiet_library(Seurat)\n",
    "quiet_library(ggplot2)\n",
    "quiet_library(Matrix)\n",
    "quiet_library(H5weaver)\n",
    "quiet_library(dplyr)\n",
    "quiet_library(viridis)\n",
    "quiet_library(harmony)\n",
    "quiet_library(Nebulosa)"
   ]
  },
  {
   "cell_type": "markdown",
   "id": "aa785e54-e2be-4874-bc19-09fa53273b39",
   "metadata": {},
   "source": [
    "# Load Data"
   ]
  },
  {
   "cell_type": "code",
   "execution_count": null,
   "id": "49ef679b-ebed-454c-a377-1a46b7027537",
   "metadata": {},
   "outputs": [],
   "source": [
    "cd4 <- readRDS(file = '../Seurat_Objects/cd4_subset.rds')"
   ]
  },
  {
   "cell_type": "code",
   "execution_count": null,
   "id": "37f7a5d2-b6ba-4677-b7ab-631fc5b3b32f",
   "metadata": {},
   "outputs": [],
   "source": [
    "cd4"
   ]
  },
  {
   "cell_type": "code",
   "execution_count": null,
   "id": "77fb6d6f-3978-44a3-aefb-412841937f8f",
   "metadata": {},
   "outputs": [],
   "source": [
    "table(cd4$pbmc_sample_id)"
   ]
  },
  {
   "cell_type": "code",
   "execution_count": null,
   "id": "30df63a9-aa4d-44dc-b529-d3687e4ae338",
   "metadata": {},
   "outputs": [],
   "source": [
    "cd4.batch <- SplitObject(cd4, split.by = 'batch_id')"
   ]
  },
  {
   "cell_type": "code",
   "execution_count": null,
   "id": "b99c8274-6bf8-43df-9c6a-b1cf329bc56b",
   "metadata": {},
   "outputs": [],
   "source": [
    "cd4.batch <- lapply(cd4.batch, function(x){\n",
    "    NormalizeData(x, assay = 'ADT', normalization.method = 'CLR', margin = 2)})"
   ]
  },
  {
   "cell_type": "code",
   "execution_count": null,
   "id": "79f446f4-21eb-48ca-bbac-c0dbb939e566",
   "metadata": {},
   "outputs": [],
   "source": [
    "df_build <- function(seurat_object){\n",
    "    meta <- seurat_object@meta.data\n",
    "    meta$TCRValpha7.2 <- as.vector(seurat_object@assays$ADT['TCR-Valpha7.2',])\n",
    "    meta$CD161 <- as.vector(seurat_object@assays$ADT['CD161',])\n",
    "    meta$CD197 <- as.vector(seurat_object@assays$ADT['CD197',])\n",
    "    meta$CD45RA <- as.vector(seurat_object@assays$ADT['CD45RA',])\n",
    "    meta$CD27 <- as.vector(seurat_object@assays$ADT['CD27',])\n",
    "    meta$CD25 <- as.vector(seurat_object@assays$ADT['CD25',])\n",
    "    meta$CD127 <- as.vector(seurat_object@assays$ADT['CD127',])\n",
    "    return(meta)}"
   ]
  },
  {
   "cell_type": "markdown",
   "id": "c12201da-766b-4b7e-9a82-9225d29a151b",
   "metadata": {},
   "source": [
    "# Treg Analysis"
   ]
  },
  {
   "cell_type": "code",
   "execution_count": null,
   "id": "2dc2b25c-46cc-4a32-80ce-d5247ab9aea6",
   "metadata": {},
   "outputs": [],
   "source": [
    "nonmait_b065 <- cd4.batch$`B065`\n",
    "nonmait_b069 <- cd4.batch$`B069`\n",
    "nonmait_b076 <- cd4.batch$`B076`"
   ]
  },
  {
   "cell_type": "code",
   "execution_count": null,
   "id": "e47f8749-7585-4c43-9a6a-c65e1fc632ac",
   "metadata": {},
   "outputs": [],
   "source": [
    "options(repr.plot.width = 24, repr.plot.height = 8)\n",
    "p1 <- FeatureScatter(object = nonmait_b065, feature1 = 'adt_CD127', feature2 = 'adt_CD25', group.by = 'predicted.t_celltype.l2') & \n",
    "geom_vline(xintercept = 1.75) & geom_hline(yintercept = 1) & ggtitle(\"B065\")\n",
    "p2 <- FeatureScatter(object = nonmait_b069, feature1 = 'adt_CD127', feature2 = 'adt_CD25', group.by = 'predicted.t_celltype.l2') & \n",
    "geom_vline(xintercept = 1.5) & geom_hline(yintercept = 0.8) & ggtitle(\"B069\")\n",
    "p3 <- FeatureScatter(object = nonmait_b076, feature1 = 'adt_CD127', feature2 = 'adt_CD25', group.by = 'predicted.t_celltype.l2') & \n",
    "geom_vline(xintercept = 1.4) & geom_hline(yintercept = 0.7) & ggtitle(\"B076\")\n",
    "\n",
    "p1 + p2 + p3"
   ]
  },
  {
   "cell_type": "code",
   "execution_count": null,
   "id": "48e933b9-9290-4dba-b185-0f0edfb0f115",
   "metadata": {},
   "outputs": [],
   "source": [
    "options(repr.plot.width = 24, repr.plot.height = 8)\n",
    "p1 <- FeatureScatter(object = nonmait_b065, feature1 = 'adt_CD127', feature2 = 'adt_CD25', group.by = 'batch_id', cols = c('black')) & \n",
    "ggtitle(\"B065\")\n",
    "p2 <- FeatureScatter(object = nonmait_b069, feature1 = 'adt_CD127', feature2 = 'adt_CD25', group.by = 'batch_id', cols = c('black')) & \n",
    "ggtitle(\"B069\")\n",
    "p3 <- FeatureScatter(object = nonmait_b076, feature1 = 'adt_CD127', feature2 = 'adt_CD25', group.by = 'batch_id', cols = c('black')) & \n",
    "ggtitle(\"B076\")\n",
    "\n",
    "p1 + p2 + p3"
   ]
  },
  {
   "cell_type": "code",
   "execution_count": null,
   "id": "8021d372-fe62-44aa-ad02-7cee0fb81ef5",
   "metadata": {},
   "outputs": [],
   "source": [
    "options(repr.plot.width = 8, repr.plot.height = 8)\n",
    "treg_b065_df <- df_build(nonmait_b065)\n",
    "ggplot(treg_b065_df, aes(x = CD127, y = CD25)) + geom_point(size = 0.5)"
   ]
  },
  {
   "cell_type": "code",
   "execution_count": null,
   "id": "dd1142f8-cb7e-467a-9ea9-93ae72fcf97c",
   "metadata": {},
   "outputs": [],
   "source": [
    "treg_b065 <- subset(nonmait_b065, subset = adt_CD25 > 1 & adt_CD127 < 1.75)\n",
    "treg_b069 <- subset(nonmait_b069, subset = adt_CD25 > 0.8 & adt_CD127 < 1.5)\n",
    "treg_b076 <- subset(nonmait_b076, subset = adt_CD25 > 0.7 & adt_CD127 < 1.4)"
   ]
  },
  {
   "cell_type": "code",
   "execution_count": null,
   "id": "43807f68-94e2-4767-a165-691ba8fa30a8",
   "metadata": {},
   "outputs": [],
   "source": [
    "treg_combined <- merge(treg_b065, c(treg_b069, treg_b076))"
   ]
  },
  {
   "cell_type": "code",
   "execution_count": null,
   "id": "499a3ed2-9a2d-4310-886f-3daf6fbe3a44",
   "metadata": {},
   "outputs": [],
   "source": [
    "table(treg_combined$pbmc_sample_id)"
   ]
  },
  {
   "cell_type": "code",
   "execution_count": null,
   "id": "533750c2-8b0f-4d97-999a-3ee19963032f",
   "metadata": {},
   "outputs": [],
   "source": [
    "treg_combined$gating_celltype <- rep(\"Treg\", length(colnames(treg_combined[['RNA']])))"
   ]
  },
  {
   "cell_type": "code",
   "execution_count": null,
   "id": "f3124167-5924-4d3e-910b-06f1793427c5",
   "metadata": {},
   "outputs": [],
   "source": [
    "saveRDS(treg_combined, file = '/home/jupyter/Organized_Gating_Analysis/Seurat_Objects/treg.rds')"
   ]
  },
  {
   "cell_type": "markdown",
   "id": "c8b3fc55-f2c0-4224-a04c-9daabaa62c88",
   "metadata": {},
   "source": [
    "# Naive vs Non-naive"
   ]
  },
  {
   "cell_type": "code",
   "execution_count": null,
   "id": "48f258e3-b61b-4a9e-b6a3-bd51ca58722c",
   "metadata": {},
   "outputs": [],
   "source": [
    "nontreg_b065 <- subset(nonmait_b065, subset = adt_CD25 > 1 & adt_CD127 < 1.75, invert = T)\n",
    "nontreg_b069 <- subset(nonmait_b069, subset = adt_CD25 > 0.8 & adt_CD127 < 1.5, invert = T)\n",
    "nontreg_b076 <- subset(nonmait_b076, subset = adt_CD25 > 0.7 & adt_CD127 < 1.4, invert = T)"
   ]
  },
  {
   "cell_type": "code",
   "execution_count": null,
   "id": "fc6f7eca-04d9-4556-b4f9-fc374a667d2e",
   "metadata": {},
   "outputs": [],
   "source": [
    "nontreg_b065_df <- df_build(nontreg_b065)\n",
    "nontreg_b069_df <- df_build(nontreg_b069)\n",
    "nontreg_b076_df <- df_build(nontreg_b076)"
   ]
  },
  {
   "cell_type": "code",
   "execution_count": null,
   "id": "8c1f6c44-5b38-4588-be01-abeb7518abd1",
   "metadata": {},
   "outputs": [],
   "source": [
    "options(repr.plot.width = 24, repr.plot.height = 8)\n",
    "p1 <- ggplot(nontreg_b065_df, aes(x = CD197, y = CD45RA, color = predicted.t_celltype.l2)) + \n",
    "stat_density_2d(geom = 'polygon', aes(alpha = ..level.., fill = predicted.t_celltype.l2), bins = 10) +\n",
    "geom_vline(xintercept = 1.1) & geom_hline(yintercept = 3.2) & ggtitle('B065')\n",
    "\n",
    "p2 <- ggplot(nontreg_b069_df, aes(x = CD197, y = CD45RA, color = predicted.t_celltype.l2)) + \n",
    "stat_density_2d(geom = 'polygon', aes(alpha = ..level.., fill = predicted.t_celltype.l2), bins = 10) +\n",
    "geom_vline(xintercept = 1.1) & geom_hline(yintercept = 3.2) & ggtitle('B069')\n",
    "\n",
    "p3 <- ggplot(nontreg_b076_df, aes(x = CD197, y = CD45RA, color = predicted.t_celltype.l2)) + \n",
    "stat_density_2d(geom = 'polygon', aes(alpha = ..level.., fill = predicted.t_celltype.l2), bins = 10) +\n",
    "geom_vline(xintercept = 1) & geom_hline(yintercept = 3.5) & ggtitle('B076')\n",
    "\n",
    "p1 + p2 + p3"
   ]
  },
  {
   "cell_type": "code",
   "execution_count": null,
   "id": "e622348d-bcf8-427d-9d3e-f9fd97bec362",
   "metadata": {},
   "outputs": [],
   "source": [
    "options(repr.plot.width = 24, repr.plot.height = 8)\n",
    "p1 <- ggplot(nontreg_b065_df, aes(x = CD27, y = CD45RA, color = predicted.t_celltype.l2)) + \n",
    "stat_density_2d(geom = 'polygon', aes(alpha = ..level.., fill = predicted.t_celltype.l2), bins = 10) +\n",
    "geom_vline(xintercept = 2.75) & geom_hline(yintercept = 3.2) & ggtitle('B065')\n",
    "\n",
    "p2 <- ggplot(nontreg_b069_df, aes(x = CD27, y = CD45RA, color = predicted.t_celltype.l2)) + \n",
    "stat_density_2d(geom = 'polygon', aes(alpha = ..level.., fill = predicted.t_celltype.l2), bins = 10) +\n",
    "geom_vline(xintercept = 2.75) & geom_hline(yintercept = 3.2) & ggtitle('B069')\n",
    "\n",
    "p3 <- ggplot(nontreg_b076_df, aes(x = CD27, y = CD45RA, color = predicted.t_celltype.l2)) + \n",
    "stat_density_2d(geom = 'polygon', aes(alpha = ..level.., fill = predicted.t_celltype.l2), bins = 10) +\n",
    "geom_vline(xintercept = 2.3) & geom_hline(yintercept = 3.5) & ggtitle('B076')\n",
    "\n",
    "p1 + p2 + p3"
   ]
  },
  {
   "cell_type": "code",
   "execution_count": null,
   "id": "357b6d50-493c-4fdd-b92c-ec79e5f9f4bc",
   "metadata": {},
   "outputs": [],
   "source": [
    "options(repr.plot.width = 24, repr.plot.height = 8)\n",
    "p1 <- FeatureScatter(object = nontreg_b065, feature1 = 'adt_CD197', feature2 = 'adt_CD45RA', group.by = 'predicted.t_celltype.l2', pt.size = 0.0001) & geom_density_2d() &\n",
    "geom_vline(xintercept = 1.1) & geom_hline(yintercept = 3) & ggtitle('B065')\n",
    "p2 <- FeatureScatter(object = nontreg_b069, feature1 = 'adt_CD197', feature2 = 'adt_CD45RA', group.by = 'predicted.t_celltype.l2', pt.size = 0.0001) & geom_density_2d() &\n",
    "geom_vline(xintercept = 1.1) & geom_hline(yintercept = 3.1) & ggtitle('B069')\n",
    "p3 <- FeatureScatter(object = nontreg_b076, feature1 = 'adt_CD197', feature2 = 'adt_CD45RA', group.by = 'predicted.t_celltype.l2', pt.size = 0.0001) & geom_density_2d() &\n",
    "geom_vline(xintercept = 1) & geom_hline(yintercept = 3.35) & ggtitle('B076')\n",
    "\n",
    "p1 + p2 + p3"
   ]
  },
  {
   "cell_type": "code",
   "execution_count": null,
   "id": "0f57c838-8878-4e8c-bdb7-64528c68fc60",
   "metadata": {},
   "outputs": [],
   "source": [
    "options(repr.plot.width = 24, repr.plot.height = 8)\n",
    "p1 <- FeatureScatter(object = nontreg_b065, feature1 = 'adt_CD27', feature2 = 'adt_CD45RA', group.by = 'predicted.t_celltype.l2', pt.size = 0.0001) & geom_density_2d() &\n",
    "geom_vline(xintercept = 2.75) & geom_hline(yintercept = 3) & ggtitle('B065')\n",
    "p2 <- FeatureScatter(object = nontreg_b069, feature1 = 'adt_CD27', feature2 = 'adt_CD45RA', group.by = 'predicted.t_celltype.l2', pt.size = 0.0001) & geom_density_2d() &\n",
    "geom_vline(xintercept = 2.75) & geom_hline(yintercept = 3.1) & ggtitle('B069')\n",
    "p3 <- FeatureScatter(object = nontreg_b076, feature1 = 'adt_CD27', feature2 = 'adt_CD45RA', group.by = 'predicted.t_celltype.l2', pt.size = 0.0001) & geom_density_2d() &\n",
    "geom_vline(xintercept = 2.3) & geom_hline(yintercept = 3.35) & ggtitle('B076')\n",
    "\n",
    "p1 + p2 + p3"
   ]
  },
  {
   "cell_type": "code",
   "execution_count": null,
   "id": "3a2793d2-45e5-4862-b776-950c70ddcc76",
   "metadata": {},
   "outputs": [],
   "source": [
    "options(repr.plot.width = 24, repr.plot.height = 8)\n",
    "p1 <- FeatureScatter(object = nontreg_b065, feature1 = 'adt_CD197', feature2 = 'adt_CD45RA', group.by = 'batch_id',cols = 'black', pt.size = 0.0001) & geom_density_2d(size = 1) &\n",
    "geom_vline(xintercept = 1.1) & geom_hline(yintercept = 3) & ggtitle('B065')\n",
    "p2 <- FeatureScatter(object = nontreg_b069, feature1 = 'adt_CD197', feature2 = 'adt_CD45RA', group.by = 'batch_id',cols = 'black', pt.size = 0.0001) & geom_density_2d(size = 1) &\n",
    "geom_vline(xintercept = 1.1) & geom_hline(yintercept = 3.1) & ggtitle('B069')\n",
    "p3 <- FeatureScatter(object = nontreg_b076, feature1 = 'adt_CD197', feature2 = 'adt_CD45RA', group.by = 'batch_id',cols = 'black', pt.size = 0.0001) & geom_density_2d(size = 1) &\n",
    "geom_vline(xintercept = 1) & geom_hline(yintercept = 3.35) & ggtitle('B076')\n",
    "\n",
    "p1 + p2 + p3"
   ]
  },
  {
   "cell_type": "code",
   "execution_count": null,
   "id": "6cdbc060-d341-4b6d-b494-a262dbe2b974",
   "metadata": {},
   "outputs": [],
   "source": [
    "options(repr.plot.width = 24, repr.plot.height = 8)\n",
    "p1 <- FeatureScatter(object = nontreg_b065, feature1 = 'adt_CD27', feature2 = 'adt_CD45RA', group.by = 'batch_id',cols = 'black', pt.size = 0.0001) & geom_density_2d(size = 1) &\n",
    "geom_vline(xintercept = 2.75) & geom_hline(yintercept = 3) & ggtitle('B065')\n",
    "p2 <- FeatureScatter(object = nontreg_b069, feature1 = 'adt_CD27', feature2 = 'adt_CD45RA', group.by = 'batch_id',cols = 'black', pt.size = 0.0001) & geom_density_2d(size = 1) &\n",
    "geom_vline(xintercept = 2.75) & geom_hline(yintercept = 3.1) & ggtitle('B069')\n",
    "p3 <- FeatureScatter(object = nontreg_b076, feature1 = 'adt_CD27', feature2 = 'adt_CD45RA', group.by = 'batch_id',cols = 'black', pt.size = 0.0001) & geom_density_2d(size = 1) &\n",
    "geom_vline(xintercept = 2.3) & geom_hline(yintercept = 3.35) & ggtitle('B076')\n",
    "\n",
    "p1 + p2 + p3"
   ]
  },
  {
   "cell_type": "code",
   "execution_count": null,
   "id": "cf0eaa36-f70a-48bd-90dd-d1deb85e1c9a",
   "metadata": {},
   "outputs": [],
   "source": [
    "options(repr.plot.width = 24, repr.plot.height = 8)\n",
    "p1 <- ggplot(nontreg_b065_df, aes(x = CD197)) + geom_histogram() + geom_vline(xintercept = 1.1) & ggtitle('B065')\n",
    "\n",
    "p2 <- ggplot(nontreg_b069_df, aes(x = CD197)) + geom_histogram() + geom_vline(xintercept = 1.1) & ggtitle('B069')\n",
    "\n",
    "p3 <- ggplot(nontreg_b076_df, aes(x = CD197)) + geom_histogram() + geom_vline(xintercept = 1) & ggtitle('B076')\n",
    "\n",
    "p1 + p2 + p3"
   ]
  },
  {
   "cell_type": "code",
   "execution_count": null,
   "id": "afc27486-bfe6-43c5-a97b-f16fcac53a92",
   "metadata": {},
   "outputs": [],
   "source": [
    "naive_b065 <- subset(nontreg_b065, subset = adt_CD197 > 1.1 & adt_CD45RA > 3 & adt_CD27 > 2.75)\n",
    "naive_b069 <- subset(nontreg_b069, subset = adt_CD197 > 1.1 & adt_CD45RA > 3.1 & adt_CD27 > 2.75)\n",
    "naive_b076 <- subset(nontreg_b076, subset = adt_CD197 > 1 & adt_CD45RA > 3.35 & adt_CD27 > 2.3)"
   ]
  },
  {
   "cell_type": "markdown",
   "id": "f54ee6c4-b74f-41d1-8b99-0131f712cc7d",
   "metadata": {},
   "source": [
    "## Naive Subset Combined"
   ]
  },
  {
   "cell_type": "code",
   "execution_count": null,
   "id": "bd09b543-e588-4471-bcef-269458905a83",
   "metadata": {},
   "outputs": [],
   "source": [
    "naive_merge <- merge(naive_b065, c(naive_b069, naive_b076))"
   ]
  },
  {
   "cell_type": "code",
   "execution_count": null,
   "id": "a7f6b4fe-e55c-4d8a-b59f-26591ca1d72d",
   "metadata": {},
   "outputs": [],
   "source": [
    "naive_merge$gating_celltype <- rep(\"CD4 Naive\", length(colnames(naive_merge[['RNA']])))"
   ]
  },
  {
   "cell_type": "code",
   "execution_count": null,
   "id": "1336929a-afc7-43fb-ae53-67507aa32ad2",
   "metadata": {},
   "outputs": [],
   "source": [
    "table(naive_merge$pbmc_sample_id)"
   ]
  },
  {
   "cell_type": "code",
   "execution_count": null,
   "id": "afc12183-0314-43e6-95bb-546973f70cf7",
   "metadata": {},
   "outputs": [],
   "source": [
    "saveRDS(naive_merge, file = '../Seurat_Objects/cd4_naive.rds')"
   ]
  },
  {
   "cell_type": "markdown",
   "id": "a5219bf1-ca9d-458a-be6c-062ca500e1b3",
   "metadata": {},
   "source": [
    "# Memory Analysis"
   ]
  },
  {
   "cell_type": "code",
   "execution_count": null,
   "id": "b24f6578-c4ff-4242-ac21-f5f37bd7f097",
   "metadata": {},
   "outputs": [],
   "source": [
    "mem_b065 <- subset(nontreg_b065, subset = adt_CD197 > 1.1 & adt_CD45RA > 3 & adt_CD27 > 2.75, invert =T)\n",
    "mem_b065\n",
    "mem_b069 <- subset(nontreg_b069, subset = adt_CD197 > 1.1 & adt_CD45RA > 3.1 & adt_CD27 > 2.75, invert =T)\n",
    "mem_b069\n",
    "mem_b076 <- subset(nontreg_b076, subset = adt_CD197 > 1 & adt_CD45RA > 3.35 & adt_CD27 > 2.3, invert =T)\n",
    "mem_b076"
   ]
  },
  {
   "cell_type": "code",
   "execution_count": null,
   "id": "3e64d84c-d351-4529-9239-860a855b9573",
   "metadata": {},
   "outputs": [],
   "source": [
    "options(repr.plot.width = 24, repr.plot.height = 8)\n",
    "p1 <- FeatureScatter(object = mem_b065, feature1 = 'adt_CD197', feature2 = 'adt_CD45RA', group.by = 'predicted.t_celltype.l2', pt.size = 0.0001) & geom_density_2d(bins = 25) &\n",
    "geom_vline(xintercept = 1.2) & geom_hline(yintercept = 3) & ggtitle('B065')\n",
    "p2 <- FeatureScatter(object = mem_b069, feature1 = 'adt_CD197', feature2 = 'adt_CD45RA', group.by = 'predicted.t_celltype.l2', pt.size = 0.0001) & geom_density_2d(bins = 25) &\n",
    "geom_vline(xintercept = 1.2) & geom_hline(yintercept = 3.1) & ggtitle('B069')\n",
    "p3 <- FeatureScatter(object = mem_b076, feature1 = 'adt_CD197', feature2 = 'adt_CD45RA', group.by = 'predicted.t_celltype.l2', pt.size = 0.0001) & geom_density_2d(bins = 25) &\n",
    "geom_vline(xintercept = 1.1) & geom_hline(yintercept = 3.35) & ggtitle('B076')\n",
    "\n",
    "p1 + p2 + p3"
   ]
  },
  {
   "cell_type": "code",
   "execution_count": null,
   "id": "7ed92b70-8291-46e7-b3cf-0bc8febcb83f",
   "metadata": {},
   "outputs": [],
   "source": [
    "options(repr.plot.width = 24, repr.plot.height = 8)\n",
    "p1 <- FeatureScatter(object = mem_b065, feature1 = 'adt_CD27', feature2 = 'adt_CD45RA', group.by = 'predicted.t_celltype.l2', pt.size = 0.0001) & geom_density_2d(bins = 25) &\n",
    "geom_vline(xintercept = 2.8) & geom_hline(yintercept = 3) & ggtitle('B065')\n",
    "p2 <- FeatureScatter(object = mem_b069, feature1 = 'adt_CD27', feature2 = 'adt_CD45RA', group.by = 'predicted.t_celltype.l2', pt.size = 0.0001) & geom_density_2d(bins = 25) &\n",
    "geom_vline(xintercept = 2.8) & geom_hline(yintercept = 3.1) & ggtitle('B069')\n",
    "p3 <- FeatureScatter(object = mem_b076, feature1 = 'adt_CD27', feature2 = 'adt_CD45RA', group.by = 'predicted.t_celltype.l2', pt.size = 0.0001) & geom_density_2d(bins = 25) &\n",
    "geom_vline(xintercept = 2.6) & geom_hline(yintercept = 3.35) & ggtitle('B076')\n",
    "\n",
    "p1 + p2 + p3"
   ]
  },
  {
   "cell_type": "markdown",
   "id": "9941e5a3-bfad-452d-aed6-da327c5816be",
   "metadata": {},
   "source": [
    "## CM Subset"
   ]
  },
  {
   "cell_type": "code",
   "execution_count": null,
   "id": "48255b41-2b54-40e9-8187-53dab1f691b7",
   "metadata": {},
   "outputs": [],
   "source": [
    "cm_b065 <- subset(mem_b065, subset = adt_CD27 > 2.8 & adt_CD45RA < 3 & adt_CD197 > 1.3)\n",
    "cm_b069 <- subset(mem_b069, subset = adt_CD27 > 2.8 & adt_CD45RA < 3.1 & adt_CD197 > 1.3)\n",
    "cm_b076 <- subset(mem_b076, subset = adt_CD27 > 2.6 & adt_CD45RA < 3.35 & adt_CD197 > 1.2)"
   ]
  },
  {
   "cell_type": "code",
   "execution_count": null,
   "id": "bea1f455-c703-4426-bac1-7f4fa9d9a14c",
   "metadata": {},
   "outputs": [],
   "source": [
    "cm_merge <- merge(cm_b065, c(cm_b069, cm_b076))"
   ]
  },
  {
   "cell_type": "code",
   "execution_count": null,
   "id": "b1e1fb56-f052-4382-9fb2-3cf2969c4bc4",
   "metadata": {},
   "outputs": [],
   "source": [
    "cm_merge$gating_celltype <- rep(\"CD4 CM\", length(colnames(cm_merge[['RNA']])))"
   ]
  },
  {
   "cell_type": "code",
   "execution_count": null,
   "id": "9e988c68-82b6-4853-98a3-006c8e2a3465",
   "metadata": {},
   "outputs": [],
   "source": [
    "table(cm_merge$pbmc_sample_id)"
   ]
  },
  {
   "cell_type": "code",
   "execution_count": null,
   "id": "93fae0a4-edf9-4ba2-ad8d-068465d4f6b8",
   "metadata": {},
   "outputs": [],
   "source": [
    "saveRDS(cm_merge, file = '../Seurat_Objects/cd4_cm.rds')"
   ]
  },
  {
   "cell_type": "markdown",
   "id": "b298293d-4b96-480e-a187-3315fc040ade",
   "metadata": {},
   "source": [
    "## EM Subset"
   ]
  },
  {
   "cell_type": "code",
   "execution_count": null,
   "id": "8325382e-986d-4724-89e4-28450f90458b",
   "metadata": {},
   "outputs": [],
   "source": [
    "em1_b065 <- subset(mem_b065, subset = adt_CD27 > 2.8 & adt_CD45RA < 3 & adt_CD197 < 1.3)\n",
    "em1_b069 <- subset(mem_b069, subset = adt_CD27 > 2.8 & adt_CD45RA < 3.1 & adt_CD197 < 1.3)\n",
    "em1_b076 <- subset(mem_b076, subset = adt_CD27 > 2.6 & adt_CD45RA < 3.35 & adt_CD197 < 1.2)"
   ]
  },
  {
   "cell_type": "code",
   "execution_count": null,
   "id": "59d54216-2847-452b-b68d-b37c494cb85b",
   "metadata": {},
   "outputs": [],
   "source": [
    "em2_b065 <- subset(mem_b065, subset = adt_CD27 < 2.8 & adt_CD45RA < 3 & adt_CD197 < 1.3)\n",
    "em2_b069 <- subset(mem_b069, subset = adt_CD27 < 2.8 & adt_CD45RA < 3.1 & adt_CD197 < 1.3)\n",
    "em2_b076 <- subset(mem_b076, subset = adt_CD27 < 2.6 & adt_CD45RA < 3.35 & adt_CD197 < 1.2)"
   ]
  },
  {
   "cell_type": "code",
   "execution_count": null,
   "id": "39103a2c-34de-4ff5-901d-e07ed487a5fc",
   "metadata": {},
   "outputs": [],
   "source": [
    "em1_merge <- merge(em1_b065, c(em1_b069, em1_b076))\n",
    "em2_merge <- merge(em2_b065, c(em2_b069, em2_b076))"
   ]
  },
  {
   "cell_type": "code",
   "execution_count": null,
   "id": "2f3d7520-4d96-41cc-9469-5acdbea9e8f0",
   "metadata": {},
   "outputs": [],
   "source": [
    "table(em1_merge$pbmc_sample_id)\n",
    "table(em2_merge$pbmc_sample_id)"
   ]
  },
  {
   "cell_type": "code",
   "execution_count": null,
   "id": "88855538-4992-4e04-923b-ce4bbd15feea",
   "metadata": {},
   "outputs": [],
   "source": [
    "em1_merge$gating_celltype <- rep(\"CD4 EM1\", length(colnames(em1_merge[['RNA']])))\n",
    "em2_merge$gating_celltype <- rep(\"CD4 EM2\", length(colnames(em2_merge[['RNA']])))"
   ]
  },
  {
   "cell_type": "code",
   "execution_count": null,
   "id": "d490aff8-2674-4beb-84c5-d030f4054aec",
   "metadata": {},
   "outputs": [],
   "source": [
    "em_merge <- merge(em1_merge, em2_merge)"
   ]
  },
  {
   "cell_type": "code",
   "execution_count": null,
   "id": "c0561454-d723-483e-a6db-4c3617114915",
   "metadata": {},
   "outputs": [],
   "source": [
    "saveRDS(em_merge, file = '../Seurat_Objects/cd4_em.rds')"
   ]
  },
  {
   "cell_type": "markdown",
   "id": "80a212c0-cbbd-42c2-b368-bb336f7c39d4",
   "metadata": {},
   "source": [
    "## EMRA Subset"
   ]
  },
  {
   "cell_type": "code",
   "execution_count": null,
   "id": "fac9cef5-569f-4b37-b103-0ba7a8866549",
   "metadata": {},
   "outputs": [],
   "source": [
    "emra_b065 <- subset(mem_b065, subset = adt_CD27 < 2.5 & adt_CD45RA > 3 & adt_CD197 < 1.3)\n",
    "emra_b069 <- subset(mem_b069, subset = adt_CD27 < 2.5 & adt_CD45RA > 3.1 & adt_CD197 < 1.3)\n",
    "emra_b076 <- subset(mem_b076, subset = adt_CD27 < 2.3 & adt_CD45RA > 3.35 & adt_CD197 < 1.2)"
   ]
  },
  {
   "cell_type": "code",
   "execution_count": null,
   "id": "dfd66cc5-d821-458e-b905-a96ee38488f6",
   "metadata": {},
   "outputs": [],
   "source": [
    "emra_merge <- merge(emra_b065, c(emra_b069, emra_b076))"
   ]
  },
  {
   "cell_type": "code",
   "execution_count": null,
   "id": "f914e9ad-8fdf-4916-8ac4-2eccc6df93a1",
   "metadata": {},
   "outputs": [],
   "source": [
    "emra_merge$gating_celltype <- rep(\"CD4 TEMRA\", length(colnames(emra_merge[['RNA']])))"
   ]
  },
  {
   "cell_type": "code",
   "execution_count": null,
   "id": "ed47f59a-4bad-4589-bb83-8475a904e5a3",
   "metadata": {},
   "outputs": [],
   "source": [
    "table(emra_merge$pbmc_sample_id)"
   ]
  },
  {
   "cell_type": "code",
   "execution_count": null,
   "id": "64b45229-7648-4f63-83b1-b8e0307b9275",
   "metadata": {},
   "outputs": [],
   "source": [
    "saveRDS(emra_merge, file = '../Seurat_Objects/cd4_emra.rds')"
   ]
  },
  {
   "cell_type": "markdown",
   "id": "d874cd72-6f1f-4153-a8f0-8c31605223dc",
   "metadata": {},
   "source": [
    "# Recombine"
   ]
  },
  {
   "cell_type": "code",
   "execution_count": null,
   "id": "0e48cfb0-a229-47ff-80f3-92b8fbe9526a",
   "metadata": {},
   "outputs": [],
   "source": [
    "merge_all <- merge(naive_merge, c(cm_merge, em_merge, emra_merge, treg_combined))\n",
    "merge_all"
   ]
  },
  {
   "cell_type": "code",
   "execution_count": null,
   "id": "586a3713-361e-4af7-bcec-b560f638337d",
   "metadata": {},
   "outputs": [],
   "source": [
    "table(merge_all$gating_celltype)"
   ]
  },
  {
   "cell_type": "code",
   "execution_count": null,
   "id": "103a6773-eff0-482c-876d-be770bcd6f75",
   "metadata": {},
   "outputs": [],
   "source": [
    "merge_all.split <- SplitObject(merge_all, split.by = 'gating_celltype')"
   ]
  },
  {
   "cell_type": "code",
   "execution_count": null,
   "id": "3fd8228e-06e3-4a7f-aa16-3ba63401b145",
   "metadata": {},
   "outputs": [],
   "source": [
    "lapply(merge_all.split, function(x){\n",
    "    table(x$pbmc_sample_id)})"
   ]
  },
  {
   "cell_type": "markdown",
   "id": "0f6478fc-3085-43d2-aabd-26495906159c",
   "metadata": {},
   "source": [
    "## Subset Remaining cells"
   ]
  },
  {
   "cell_type": "code",
   "execution_count": null,
   "id": "c0e3b5a0-d60c-44cf-ad78-8bc8b4c9bb30",
   "metadata": {},
   "outputs": [],
   "source": [
    "bcs <- setdiff(colnames(cd4[['RNA']]), colnames(merge_all[['RNA']]))"
   ]
  },
  {
   "cell_type": "code",
   "execution_count": null,
   "id": "fae77ca2-067b-4441-934b-27027e03f205",
   "metadata": {},
   "outputs": [],
   "source": [
    "unknowns <- subset(cd4, cells = bcs)"
   ]
  },
  {
   "cell_type": "code",
   "execution_count": null,
   "id": "5b4d43f9-064a-4c96-aa7a-f945fa162059",
   "metadata": {},
   "outputs": [],
   "source": [
    "unknowns$gating_celltype <- rep(\"CD4 Unk\", length(colnames(unknowns[['RNA']])))"
   ]
  },
  {
   "cell_type": "code",
   "execution_count": null,
   "id": "f00ab113-2c24-4616-a35f-7f8d1c507cf6",
   "metadata": {},
   "outputs": [],
   "source": [
    "saveRDS(unknowns, file = '../Seurat_Objects/cd4_unk.rds')"
   ]
  },
  {
   "cell_type": "code",
   "execution_count": null,
   "id": "f2f75492-a3e0-4e05-8e89-08733469bf36",
   "metadata": {},
   "outputs": [],
   "source": [
    "merge_all_final <- merge(merge_all, unknowns)\n",
    "merge_all_final"
   ]
  },
  {
   "cell_type": "markdown",
   "id": "a4340058-93eb-49bf-a3f3-0161b23cd245",
   "metadata": {},
   "source": [
    "## Major Populations Plots"
   ]
  },
  {
   "cell_type": "code",
   "execution_count": null,
   "id": "6d351565-913b-41ee-83f0-bb08689c06d5",
   "metadata": {},
   "outputs": [],
   "source": [
    "main_subset <- merge(naive_merge, c(cm_merge, em_merge, emra_merge))"
   ]
  },
  {
   "cell_type": "code",
   "execution_count": null,
   "id": "82db2805-a094-4f7f-bf0d-f25c712f2d43",
   "metadata": {},
   "outputs": [],
   "source": [
    "main.batch <- SplitObject(main_subset, 'batch_id')"
   ]
  },
  {
   "cell_type": "code",
   "execution_count": null,
   "id": "1e711dc9-6037-4cbd-9d6f-85205bedb16e",
   "metadata": {},
   "outputs": [],
   "source": [
    "df_main_b065 <- df_build(main.batch$`B065`)\n",
    "df_main_b069 <- df_build(main.batch$`B069`)\n",
    "df_main_b076 <- df_build(main.batch$`B076`)"
   ]
  },
  {
   "cell_type": "code",
   "execution_count": null,
   "id": "ce5ba984-865f-4ce1-b217-50893c0004bd",
   "metadata": {},
   "outputs": [],
   "source": [
    "ggplot(df_main_b065, aes(x = CD27, y = CD45RA, color = gating_celltype)) + \n",
    "stat_density_2d(geom = 'polygon', aes(alpha = ..level.., fill = gating_celltype), bins = 10)\n",
    "ggplot(df_main_b065, aes(x = CD197, y = CD45RA, color = gating_celltype)) + \n",
    "stat_density_2d(geom = 'polygon', aes(alpha = ..level.., fill = gating_celltype), bins = 10)"
   ]
  },
  {
   "cell_type": "code",
   "execution_count": null,
   "id": "525f68de-77e2-491e-b843-781b8bf67d44",
   "metadata": {},
   "outputs": [],
   "source": [
    "ggplot(df_main_b069, aes(x = CD27, y = CD45RA, color = gating_celltype)) + \n",
    "stat_density_2d(geom = 'polygon', aes(alpha = ..level.., fill = gating_celltype), bins = 10)\n",
    "ggplot(df_main_b069, aes(x = CD197, y = CD45RA, color = gating_celltype)) + \n",
    "stat_density_2d(geom = 'polygon', aes(alpha = ..level.., fill = gating_celltype), bins = 10)"
   ]
  },
  {
   "cell_type": "code",
   "execution_count": null,
   "id": "1a812245-e7e5-4bde-bac1-f6f537c0e1bd",
   "metadata": {},
   "outputs": [],
   "source": [
    "ggplot(df_main_b076, aes(x = CD27, y = CD45RA, color = gating_celltype)) + \n",
    "stat_density_2d(geom = 'polygon', aes(alpha = ..level.., fill = gating_celltype), bins = 10)\n",
    "ggplot(df_main_b076, aes(x = CD197, y = CD45RA, color = gating_celltype)) + \n",
    "stat_density_2d(geom = 'polygon', aes(alpha = ..level.., fill = gating_celltype), bins = 10)"
   ]
  }
 ],
 "metadata": {
  "kernelspec": {
   "display_name": "R 4",
   "language": "R",
   "name": "ir"
  },
  "language_info": {
   "codemirror_mode": "r",
   "file_extension": ".r",
   "mimetype": "text/x-r-source",
   "name": "R",
   "pygments_lexer": "r",
   "version": "4.1.2"
  }
 },
 "nbformat": 4,
 "nbformat_minor": 5
}
