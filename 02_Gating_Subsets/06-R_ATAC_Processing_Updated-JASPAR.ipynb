{
 "cells": [
  {
   "cell_type": "markdown",
   "id": "a5fa7f2c-b67f-4333-a897-c6f5ff923381",
   "metadata": {},
   "source": [
    "# Setup"
   ]
  },
  {
   "cell_type": "code",
   "execution_count": null,
   "id": "23b8ac9a-6b24-4923-8a41-e9c2fb262b19",
   "metadata": {},
   "outputs": [],
   "source": [
    "quiet_library <- function(...) {\n",
    "    suppressPackageStartupMessages(library(...))\n",
    "}\n",
    "quiet_library(Seurat)\n",
    "quiet_library(ggplot2)\n",
    "quiet_library(Matrix)\n",
    "quiet_library(H5weaver)\n",
    "quiet_library(dplyr)\n",
    "quiet_library(viridis)\n",
    "quiet_library(harmony)\n",
    "#quiet_library(Nebulosa)\n",
    "quiet_library(ArchR)"
   ]
  },
  {
   "cell_type": "code",
   "execution_count": null,
   "id": "5724965c-4929-4cb5-a500-14015a91bdba",
   "metadata": {},
   "outputs": [],
   "source": [
    "addArchRThreads(32)\n",
    "addArchRGenome(\"hg38\")"
   ]
  },
  {
   "cell_type": "code",
   "execution_count": null,
   "id": "9ac884e5-a68f-4c83-b4a4-f7286348b61d",
   "metadata": {},
   "outputs": [],
   "source": [
    "proj <- loadArchRProject(path = '../PedSen_ATAC/')\n",
    "proj"
   ]
  },
  {
   "cell_type": "markdown",
   "id": "12089003-87c2-45c8-8df7-fc0cfee1ceeb",
   "metadata": {},
   "source": [
    "## ATAC Clustering"
   ]
  },
  {
   "cell_type": "code",
   "execution_count": null,
   "id": "f7fb8ba0-7da2-4e08-9313-02a2d2edd9dd",
   "metadata": {
    "scrolled": true,
    "tags": []
   },
   "outputs": [],
   "source": [
    "proj <- addIterativeLSI(proj, name = 'IterativeLSI', force = TRUE, varFeatures = 75000)"
   ]
  },
  {
   "cell_type": "code",
   "execution_count": null,
   "id": "013c633c-d73a-4622-bca3-73d5a80e1ff2",
   "metadata": {},
   "outputs": [],
   "source": [
    "proj <- addHarmony(proj, reducedDims = 'IterativeLSI', groupBy = c('batch_id'), force = TRUE)"
   ]
  },
  {
   "cell_type": "code",
   "execution_count": null,
   "id": "b8b141e9-70da-4945-971f-eaff7876e353",
   "metadata": {
    "scrolled": true,
    "tags": []
   },
   "outputs": [],
   "source": [
    "# proj <- addClusters(proj, reducedDims = 'IterativeLSI', name = 'Clusters', force = TRUE, resolution = 0.2)\n",
    "proj <- addClusters(proj, reducedDims = 'Harmony', name = 'Clusters', force = TRUE, resolution = 0.2)"
   ]
  },
  {
   "cell_type": "code",
   "execution_count": null,
   "id": "700fc6cd-8cf2-4177-8362-b5086b469970",
   "metadata": {
    "scrolled": true,
    "tags": []
   },
   "outputs": [],
   "source": [
    "# proj <- addUMAP(proj, reducedDims = 'IterativeLSI', name = 'UMAP', force = TRUE)\n",
    "proj <- addUMAP(proj, reducedDims = 'Harmony', name = 'UMAP', force = TRUE)"
   ]
  },
  {
   "cell_type": "code",
   "execution_count": null,
   "id": "5b113601-f5f7-4291-beac-0bad349a2584",
   "metadata": {},
   "outputs": [],
   "source": [
    "options(repr.plosp_mergeidth = 8, repr.plot.height = 8)\n",
    "plotEmbedding(ArchRProj = proj, colorBy = \"cellColData\", name = \"Clusters\", embedding = \"UMAP\")\n",
    "plotEmbedding(ArchRProj = proj, colorBy = \"cellColData\", name = \"pediatric_senior\", embedding = \"UMAP\")\n",
    "plotEmbedding(ArchRProj = proj, colorBy = \"cellColData\", name = \"gating_celltype\", embedding = \"UMAP\")"
   ]
  },
  {
   "cell_type": "code",
   "execution_count": null,
   "id": "b9413663-1de5-436f-9214-a4ba0cff19e3",
   "metadata": {},
   "outputs": [],
   "source": [
    "plotEmbedding(ArchRProj = proj, colorBy = \"cellColData\", name = \"predicted.t_celltype.l3\", embedding = \"UMAP\")"
   ]
  },
  {
   "cell_type": "markdown",
   "id": "e8b34c5b-03e9-4a53-9db4-438e59f693cf",
   "metadata": {},
   "source": [
    "# Peak Analysis"
   ]
  },
  {
   "cell_type": "code",
   "execution_count": null,
   "id": "170da1e1-8055-49db-927a-fcc7c04aa806",
   "metadata": {
    "scrolled": true,
    "tags": []
   },
   "outputs": [],
   "source": [
    "proj <- addGroupCoverages(ArchRProj = proj, groupBy = \"gating_celltype\", maxReplicates = 16, maxCells = 2000, force = TRUE)"
   ]
  },
  {
   "cell_type": "code",
   "execution_count": null,
   "id": "a6d4480a-19d8-4b19-831d-84810d016a67",
   "metadata": {},
   "outputs": [],
   "source": [
    "pathToMacs2 <- findMacs2()"
   ]
  },
  {
   "cell_type": "code",
   "execution_count": null,
   "id": "78f6749d-f1c9-43a5-9b40-8c458f9fe7e7",
   "metadata": {},
   "outputs": [],
   "source": [
    "proj <- addReproduciblePeakSet(\n",
    "                        ArchRProj = proj, \n",
    "                        groupBy = \"gating_celltype\", \n",
    "                        pathToMacs2 = pathToMacs2, force = TRUE\n",
    "                            )"
   ]
  },
  {
   "cell_type": "code",
   "execution_count": null,
   "id": "e76e39b1-c80f-41d7-9656-6b5ebe14654c",
   "metadata": {},
   "outputs": [],
   "source": [
    "proj <- addPeakMatrix(proj, force = TRUE)"
   ]
  },
  {
   "cell_type": "code",
   "execution_count": null,
   "id": "a760de0b-7c45-406c-a7b3-e09dcbe8de30",
   "metadata": {},
   "outputs": [],
   "source": [
    "markersPeaks <- getMarkerFeatures(\n",
    "    ArchRProj = proj, \n",
    "    useMatrix = \"PeakMatrix\", \n",
    "    groupBy = \"gating_celltype\",\n",
    "  bias = c(\"TSSEnrichment\", \"log10(nFrags)\"),\n",
    "  testMethod = \"wilcoxon\",\n",
    "    maxCells = 10000\n",
    ")"
   ]
  },
  {
   "cell_type": "code",
   "execution_count": null,
   "id": "cd7366cd-5b9e-4947-8c9b-28565f945f33",
   "metadata": {
    "scrolled": true,
    "tags": []
   },
   "outputs": [],
   "source": [
    "heatmapPeaks <- markerHeatmap(\n",
    "  seMarker = markersPeaks, \n",
    "  cutOff = \"FDR <= 0.001 & Log2FC >= 0.5\",\n",
    "  transpose = TRUE,\n",
    "  plotLog2FC = TRUE\n",
    ")"
   ]
  },
  {
   "cell_type": "code",
   "execution_count": null,
   "id": "df6e9af5-bb80-461a-b431-8ea690ad050d",
   "metadata": {},
   "outputs": [],
   "source": [
    "options(repr.plot.width = 12, repr.plot.height = 5)\n",
    "draw(heatmapPeaks, heatmap_legend_side = \"bot\", annotation_legend_side = \"bot\")"
   ]
  },
  {
   "cell_type": "markdown",
   "id": "5ad1f43f-4d42-4117-af03-5da47ea82757",
   "metadata": {},
   "source": [
    "# Motif Analysis"
   ]
  },
  {
   "cell_type": "code",
   "execution_count": null,
   "id": "d43d19ef-26f1-4fed-ba56-6bebbeb198c4",
   "metadata": {},
   "outputs": [],
   "source": [
    "# proj <- addMotifAnnotations(ArchRProj = proj, motifSet = \"cisbp\", name = \"Motif\", force = TRUE)\n",
    "proj <- addMotifAnnotations(ArchRProj = proj, motifSet = \"JASPAR2020\", name = \"JASPARMotif\", force = TRUE)"
   ]
  },
  {
   "cell_type": "code",
   "execution_count": null,
   "id": "40c2b50c-a60d-4147-a1e4-b4f2adb8e267",
   "metadata": {},
   "outputs": [],
   "source": [
    "enrichMotifs <- peakAnnoEnrichment(\n",
    "    seMarker = markersPeaks,\n",
    "    ArchRProj = proj,\n",
    "    peakAnnotation = \"JASPARMotif\",\n",
    "    cutOff = \"FDR <= 0.1 & Log2FC >= 0.5\"\n",
    "  )"
   ]
  },
  {
   "cell_type": "code",
   "execution_count": null,
   "id": "7dbfca7c-77d9-4f34-bccc-359f404121e6",
   "metadata": {},
   "outputs": [],
   "source": [
    "heatmapEM <- plotEnrichHeatmap(enrichMotifs, n = 10, transpose = TRUE)"
   ]
  },
  {
   "cell_type": "code",
   "execution_count": null,
   "id": "c6e82afe-60af-48b3-8023-41a2516120aa",
   "metadata": {},
   "outputs": [],
   "source": [
    "options(repr.plot.width = 12, repr.plot.height = 6)\n",
    "ComplexHeatmap::draw(heatmapEM, heatmap_legend_side = \"bot\", annotation_legend_side = \"bot\")"
   ]
  },
  {
   "cell_type": "markdown",
   "id": "77638152-ddaf-46cf-b081-496e9d4b3f01",
   "metadata": {},
   "source": [
    "# ChromVar Motifs"
   ]
  },
  {
   "cell_type": "code",
   "execution_count": null,
   "id": "e8d94c05-25b5-487a-8701-a56c37a95d7a",
   "metadata": {},
   "outputs": [],
   "source": [
    "proj <- addBgdPeaks(proj)"
   ]
  },
  {
   "cell_type": "code",
   "execution_count": null,
   "id": "803bf408-a3a6-4b4c-a096-b8f0eed0e290",
   "metadata": {},
   "outputs": [],
   "source": [
    "proj <- addDeviationsMatrix(\n",
    "  ArchRProj = proj, \n",
    "  peakAnnotation = \"JASPARMotif\",\n",
    "  force = TRUE\n",
    ")"
   ]
  },
  {
   "cell_type": "code",
   "execution_count": null,
   "id": "d117d48c-9300-4056-89d1-967d619bfdaf",
   "metadata": {},
   "outputs": [],
   "source": [
    "proj <- addImputeWeights(proj)"
   ]
  },
  {
   "cell_type": "code",
   "execution_count": null,
   "id": "3c7f445d-7eb2-4fec-b8bd-ca3c3d77b6f7",
   "metadata": {},
   "outputs": [],
   "source": [
    "motifs <- c('RORA','RORB','EOMES','JUN','FOS','DNMT1','SMAD5','ZBTB7A','LEF1','TCF7','SOX4')\n",
    "markerMotifs <- getFeatures(proj, select = paste(motifs, collapse=\"|\"), useMatrix = \"JASPARMotifMatrix\")\n",
    "markerMotifs"
   ]
  },
  {
   "cell_type": "code",
   "execution_count": null,
   "id": "0d69877f-143a-47a8-b07d-30d79388894d",
   "metadata": {
    "tags": []
   },
   "outputs": [],
   "source": [
    "markerMotifs <- grep(\"z:\", markerMotifs, value = TRUE)\n",
    "# markerMotifs <- markerMotifs[markerMotifs %ni% \"z:SREBF1_22\"]\n",
    "markerMotifs"
   ]
  },
  {
   "cell_type": "code",
   "execution_count": null,
   "id": "488ddc5f-6a86-42ff-b6fa-88de83ec507f",
   "metadata": {},
   "outputs": [],
   "source": [
    "plotVarDev <- getVarDeviations(proj, name = \"JASPARMotifMatrix\", plot = TRUE)"
   ]
  },
  {
   "cell_type": "code",
   "execution_count": null,
   "id": "bb7b0db0-0f22-4878-88fe-c99aeddba267",
   "metadata": {},
   "outputs": [],
   "source": [
    "options(repr.plot.width = 16, repr.plot.height = 8)\n",
    "plotVarDev"
   ]
  },
  {
   "cell_type": "markdown",
   "id": "468de8d5-95ad-4738-8541-336c75bafbc3",
   "metadata": {},
   "source": [
    "## Motif UMAPs Imputed"
   ]
  },
  {
   "cell_type": "code",
   "execution_count": null,
   "id": "341eb3d5-19e7-4ca3-a6ac-14b4f64ac5cf",
   "metadata": {
    "scrolled": true,
    "tags": []
   },
   "outputs": [],
   "source": [
    "p <- plotEmbedding(\n",
    "    ArchRProj = proj, \n",
    "    colorBy = \"JASPARMotifMatrix\", \n",
    "    name = sort(markerMotifs), \n",
    "    embedding = \"UMAP\",\n",
    "    imputeWeights = getImputeWeights(proj)\n",
    ")"
   ]
  },
  {
   "cell_type": "code",
   "execution_count": null,
   "id": "779f45a8-daa5-4f9c-961b-8ab2d5e677f2",
   "metadata": {},
   "outputs": [],
   "source": [
    "options(repr.plot.width = 20, repr.plot.height = 40)\n",
    "p2 <- lapply(p, function(x){\n",
    "    x + guides(color = FALSE, fill = FALSE) + \n",
    "    theme_ArchR(baseSize = 6.5) +\n",
    "    theme(plot.margin = unit(c(0, 0, 0, 0), \"cm\")) +\n",
    "    theme(\n",
    "        axis.text.x=element_blank(), \n",
    "        axis.ticks.x=element_blank(), \n",
    "        axis.text.y=element_blank(), \n",
    "        axis.ticks.y=element_blank()\n",
    "    )\n",
    "})\n",
    "do.call(cowplot::plot_grid, c(list(ncol = 3),p2))"
   ]
  },
  {
   "cell_type": "markdown",
   "id": "773cd1ba-582f-4fc7-a6a8-edf75717e94b",
   "metadata": {},
   "source": [
    "# Save"
   ]
  },
  {
   "cell_type": "code",
   "execution_count": null,
   "id": "db89b891-ba6f-4c33-8f33-e517751d62fb",
   "metadata": {},
   "outputs": [],
   "source": [
    "saveArchRProject(ArchRProj = proj, outputDirectory = '../PedSen_ATAC/', load = F)"
   ]
  },
  {
   "cell_type": "code",
   "execution_count": null,
   "id": "6039159c-d917-4e23-a63f-5f5a780da0d1",
   "metadata": {},
   "outputs": [],
   "source": [
    "sessionInfo()"
   ]
  }
 ],
 "metadata": {
  "kernelspec": {
   "display_name": "R 4",
   "language": "R",
   "name": "ir"
  },
  "language_info": {
   "codemirror_mode": "r",
   "file_extension": ".r",
   "mimetype": "text/x-r-source",
   "name": "R",
   "pygments_lexer": "r",
   "version": "4.1.2"
  }
 },
 "nbformat": 4,
 "nbformat_minor": 5
}
