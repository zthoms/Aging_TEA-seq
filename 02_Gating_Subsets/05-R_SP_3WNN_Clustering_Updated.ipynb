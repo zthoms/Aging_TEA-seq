{
 "cells": [
  {
   "cell_type": "markdown",
   "id": "cb19ac94-e203-41d2-a59e-4eedcd4437af",
   "metadata": {},
   "source": [
    "# Basic 3WNN Clustering w/ Gated Labels"
   ]
  },
  {
   "cell_type": "code",
   "execution_count": null,
   "id": "df3316ec-6502-4d1c-85e0-4edeee086ab5",
   "metadata": {},
   "outputs": [],
   "source": [
    "quiet_library <- function(...) {\n",
    "    suppressPackageStartupMessages(library(...))\n",
    "}\n",
    "quiet_library(Seurat)\n",
    "quiet_library(ggplot2)\n",
    "quiet_library(Matrix)\n",
    "quiet_library(H5weaver)\n",
    "quiet_library(dplyr)\n",
    "quiet_library(viridis)\n",
    "quiet_library(harmony)\n",
    "quiet_library(Nebulosa)\n",
    "quiet_library(ArchR)"
   ]
  },
  {
   "cell_type": "code",
   "execution_count": null,
   "id": "149a79c5-fdec-48d0-a3bf-ed8600d108b8",
   "metadata": {},
   "outputs": [],
   "source": [
    "addArchRThreads(32)\n",
    "addArchRGenome(\"hg38\")"
   ]
  },
  {
   "cell_type": "markdown",
   "id": "5752f0a2-839a-4e7f-aae2-064479831786",
   "metadata": {},
   "source": [
    "# Load SP Object"
   ]
  },
  {
   "cell_type": "code",
   "execution_count": null,
   "id": "fea93380-dda8-4a48-91f7-102284bb84f8",
   "metadata": {},
   "outputs": [],
   "source": [
    "sp_merge <- readRDS(file = '../Seurat_Objects/sp_merge_only.rds')"
   ]
  },
  {
   "cell_type": "code",
   "execution_count": null,
   "id": "78675924-7aa1-400d-941e-0ffd3816777a",
   "metadata": {},
   "outputs": [],
   "source": [
    "sp_merge"
   ]
  },
  {
   "cell_type": "markdown",
   "id": "8ba3dd76-88a5-442d-87c8-2dc25e2f5ec1",
   "metadata": {},
   "source": [
    "# RNA Clustering"
   ]
  },
  {
   "cell_type": "code",
   "execution_count": null,
   "id": "77561814-134c-4c56-9041-2262876e9171",
   "metadata": {},
   "outputs": [],
   "source": [
    "genes_to_remove <- c('AC105402.3', 'MTRNR2L8')\n",
    "rna_mtx <- sp_merge@assays$RNA@counts\n",
    "length(rownames(rna_mtx))"
   ]
  },
  {
   "cell_type": "code",
   "execution_count": null,
   "id": "3c6d03b7-b3ac-4788-ad01-7f47167a5300",
   "metadata": {},
   "outputs": [],
   "source": [
    "idx <- which(rownames(rna_mtx) %in% genes_to_remove)\n",
    "clean_rna_mtx <- rna_mtx[-idx,]\n",
    "length(rownames(clean_rna_mtx))"
   ]
  },
  {
   "cell_type": "code",
   "execution_count": null,
   "id": "262a7eab-81c3-444f-aa02-8ec8073df4a6",
   "metadata": {},
   "outputs": [],
   "source": [
    "sp_merge[['clean_gex']] <- CreateAssayObject(clean_rna_mtx)\n",
    "DefaultAssay(sp_merge) <- 'clean_gex'"
   ]
  },
  {
   "cell_type": "code",
   "execution_count": null,
   "id": "21ca90b6-6bcc-48e9-b67c-f1607e56538b",
   "metadata": {
    "scrolled": true,
    "tags": []
   },
   "outputs": [],
   "source": [
    "sp_merge <- suppressWarnings(SCTransform(sp_merge, assay = 'clean_gex')) %>% RunPCA()"
   ]
  },
  {
   "cell_type": "code",
   "execution_count": null,
   "id": "09d6a989-6155-4e96-9acf-b193fba1b7c8",
   "metadata": {},
   "outputs": [],
   "source": [
    "options(repr.plot.width = 8, repr.plot.height = 4)\n",
    "sp_merge <- suppressWarnings(RunHarmony(object = sp_merge, reduction.save = 'rna_harmony',group.by.vars = 'batch_id', reduction = 'pca', \n",
    "                                           plot_convergence = T, assay.use = 'SCT'))"
   ]
  },
  {
   "cell_type": "code",
   "execution_count": null,
   "id": "a5b56d9c-611f-45ce-833b-4b8e8b06e149",
   "metadata": {},
   "outputs": [],
   "source": [
    "ElbowPlot(sp_merge, ndims = 50)"
   ]
  },
  {
   "cell_type": "code",
   "execution_count": null,
   "id": "c2c94ecd-7d22-411c-949a-509305801c23",
   "metadata": {
    "scrolled": true,
    "tags": []
   },
   "outputs": [],
   "source": [
    "sp_merge <- RunUMAP(sp_merge, dims = 1:25, reduction = 'rna_harmony')"
   ]
  },
  {
   "cell_type": "markdown",
   "id": "9c6d779f-5d8d-4776-8819-dce95a5c6849",
   "metadata": {},
   "source": [
    "## RNA UMAPs"
   ]
  },
  {
   "cell_type": "code",
   "execution_count": null,
   "id": "0277fae9-2b42-4e13-bb3f-ece46d89516a",
   "metadata": {},
   "outputs": [],
   "source": [
    "options(repr.plot.width = 20, repr.plot.height = 10)\n",
    "p1 <- DimPlot(sp_merge, reduction = 'umap', group.by = 'gating_celltype')\n",
    "p2 <- DimPlot(sp_merge, reduction = 'umap', group.by = 'pediatric_senior')\n",
    "p3 <- DimPlot(sp_merge, reduction = 'umap', group.by = 'age_cmv')\n",
    "p4 <- DimPlot(sp_merge, reduction = 'umap', group.by = 'pbmc_sample_id')\n",
    "p1 + p2 + p3 + p4"
   ]
  },
  {
   "cell_type": "code",
   "execution_count": null,
   "id": "469ea843-1856-4b7d-be4d-b3c68b47aec6",
   "metadata": {},
   "outputs": [],
   "source": [
    "options(repr.plot.width = 20, repr.plot.height = 20)\n",
    "DimPlot(sp_merge, reduction = 'umap', group.by = 'gating_celltype', split.by = 'gating_celltype', ncol = 4)"
   ]
  },
  {
   "cell_type": "markdown",
   "id": "7b46b2a7-d499-4ac5-9649-70ee359a6b38",
   "metadata": {},
   "source": [
    "## Age DEG Analysis on Gated cell types"
   ]
  },
  {
   "cell_type": "code",
   "execution_count": null,
   "id": "3adac21d-b632-418d-8a02-d79c7884d103",
   "metadata": {},
   "outputs": [],
   "source": [
    "sp_merge_split <- SplitObject(sp_merge, split.by = 'gating_celltype')"
   ]
  },
  {
   "cell_type": "code",
   "execution_count": null,
   "id": "14adcf55-9e04-482c-b82a-daed93a6ad79",
   "metadata": {
    "scrolled": true,
    "tags": []
   },
   "outputs": [],
   "source": [
    "age_deg_list <- lapply(sp_merge_split, function(x){\n",
    "    x <- SetIdent(x, value = 'pediatric_senior')\n",
    "    degs <- FindAllMarkers(x, assay = 'SCT')\n",
    "    return(degs)\n",
    "    })"
   ]
  },
  {
   "cell_type": "code",
   "execution_count": null,
   "id": "352cbc12-4039-4a1f-88f7-d08f6e1f6373",
   "metadata": {},
   "outputs": [],
   "source": [
    "saveRDS(age_deg_list, file = '../gated_age_deg_list.rds')"
   ]
  },
  {
   "cell_type": "markdown",
   "id": "8fb59ab4-7077-4a98-a1b9-3c0b6f00d542",
   "metadata": {},
   "source": [
    "## DEG Analysis"
   ]
  },
  {
   "cell_type": "code",
   "execution_count": null,
   "id": "e3658bb6-3bf3-405f-b693-60bc480872d5",
   "metadata": {},
   "outputs": [],
   "source": [
    "sp_merge <- SetIdent(sp_merge, value = 'gating_celltype')\n",
    "gating_markers <- FindAllMarkers(sp_merge, max.cells.per.ident = 500)"
   ]
  },
  {
   "cell_type": "code",
   "execution_count": null,
   "id": "21d81acf-86e4-413d-8b73-93ae330f92d5",
   "metadata": {},
   "outputs": [],
   "source": [
    "top5 <- gating_markers %>% group_by(cluster) %>% top_n(n=5,wt=avg_log2FC)"
   ]
  },
  {
   "cell_type": "markdown",
   "id": "86ca2e18-fc81-4f50-8305-3f35e1b5e7a4",
   "metadata": {},
   "source": [
    "# ADT Clustering"
   ]
  },
  {
   "cell_type": "code",
   "execution_count": null,
   "id": "aad57d38-3e5c-41a3-8cd0-6ec44735eb24",
   "metadata": {},
   "outputs": [],
   "source": [
    "adts_to_remove <- c('CD134','CD172a','CD183','CD366','CX3CR1','TCRab','TCRgd','CD137','CD24','CD294','CD304','CD40','CD80','CD86','IgG1-K-Isotype-Control')\n",
    "adt_mtx <- sp_merge@assays$ADT@counts\n",
    "length(rownames(adt_mtx))"
   ]
  },
  {
   "cell_type": "code",
   "execution_count": null,
   "id": "b60f7358-0d8f-449f-ac53-a3b3b87ac44a",
   "metadata": {},
   "outputs": [],
   "source": [
    "idx <- which(rownames(adt_mtx) %in% adts_to_remove)\n",
    "clean_adt_mtx <- adt_mtx[-idx,]\n",
    "length(rownames(clean_adt_mtx))"
   ]
  },
  {
   "cell_type": "code",
   "execution_count": null,
   "id": "6714958a-f3df-47ec-a4c5-f0a3748e9ffe",
   "metadata": {},
   "outputs": [],
   "source": [
    "sp_merge[['clean_adt']] <- CreateAssayObject(clean_adt_mtx)\n",
    "DefaultAssay(sp_merge) <- 'clean_adt'"
   ]
  },
  {
   "cell_type": "code",
   "execution_count": null,
   "id": "635b425d-b308-4c89-b421-2c31bd8a271a",
   "metadata": {
    "scrolled": true,
    "tags": []
   },
   "outputs": [],
   "source": [
    "# cluster by ADTs, make sure to save under all new reductions and keys \n",
    "VariableFeatures(sp_merge) <- rownames(sp_merge[[\"clean_adt\"]])\n",
    "sp_merge <- NormalizeData(sp_merge, normalization.method = 'CLR', margin = 2) %>% \n",
    "     ScaleData() %>% RunPCA(reduction.name = 'apca', approx = FALSE, reduction.key = 'APC_')"
   ]
  },
  {
   "cell_type": "code",
   "execution_count": null,
   "id": "e1afd82d-38c5-41cd-87f3-0cf83f59517e",
   "metadata": {
    "scrolled": true,
    "tags": []
   },
   "outputs": [],
   "source": [
    "options(repr.plot.width = 8, repr.plot.height = 4)\n",
    "sp_merge <- suppressWarnings(RunHarmony(object = sp_merge, reduction.save = 'adt_harmony',group.by.vars = 'batch_id', reduction = 'apca', \n",
    "                                           plot_convergence = T, assay.use = 'clean_adt'))"
   ]
  },
  {
   "cell_type": "code",
   "execution_count": null,
   "id": "8f7c6cd7-983e-4e2f-a1df-5529febbfd0e",
   "metadata": {
    "scrolled": true,
    "tags": []
   },
   "outputs": [],
   "source": [
    "sp_merge <- RunUMAP(sp_merge, reduction = 'adt_harmony', reduction.name = 'adtumap', dims = 1:20)"
   ]
  },
  {
   "cell_type": "markdown",
   "id": "e9e8e001-40e1-4342-8d8b-f2f707c69e9e",
   "metadata": {},
   "source": [
    "## ADT UMAPs"
   ]
  },
  {
   "cell_type": "code",
   "execution_count": null,
   "id": "8f7062fd-50d7-4b50-8cc7-07787187f2b4",
   "metadata": {},
   "outputs": [],
   "source": [
    "options(repr.plot.width = 20, repr.plot.height = 10)\n",
    "p1 <- DimPlot(sp_merge, reduction = 'adtumap', group.by = 'gating_celltype')\n",
    "p2 <- DimPlot(sp_merge, reduction = 'adtumap', group.by = 'pediatric_senior')\n",
    "p3 <- DimPlot(sp_merge, reduction = 'adtumap', group.by = 'age_cmv')\n",
    "p4 <- DimPlot(sp_merge, reduction = 'adtumap', group.by = 'pbmc_sample_id')\n",
    "p1 + p2 + p3 + p4"
   ]
  },
  {
   "cell_type": "code",
   "execution_count": null,
   "id": "0bdc8088-d329-43c6-adf5-ecac0deb6c3b",
   "metadata": {},
   "outputs": [],
   "source": [
    "options(repr.plot.width = 20, repr.plot.height = 20)\n",
    "DimPlot(sp_merge, reduction = 'adtumap', group.by = 'gating_celltype', split.by = 'gating_celltype', ncol = 4)"
   ]
  },
  {
   "cell_type": "markdown",
   "id": "9de78255-e140-4513-8b65-deb5fff5366a",
   "metadata": {},
   "source": [
    "# ATAC Clustering"
   ]
  },
  {
   "cell_type": "markdown",
   "id": "b76424d6-0d0d-47d8-9421-cfe6522d38b0",
   "metadata": {},
   "source": [
    "## Load ArchR Project"
   ]
  },
  {
   "cell_type": "code",
   "execution_count": null,
   "id": "2f11c5a3-704a-431a-8dbc-0fd9f512ce9c",
   "metadata": {},
   "outputs": [],
   "source": [
    "proj <- loadArchRProject(path = '../PedSen_ATAC/')\n",
    "proj"
   ]
  },
  {
   "cell_type": "markdown",
   "id": "ea0fe1df-1e62-4153-9e7d-9af9b7633570",
   "metadata": {},
   "source": [
    "## Subset ArchR Project"
   ]
  },
  {
   "cell_type": "code",
   "execution_count": null,
   "id": "e7a97784-ca4e-4289-b5f3-411d501eed5f",
   "metadata": {},
   "outputs": [],
   "source": [
    "bcs <- colnames(sp_merge[['RNA']])\n",
    "head(bcs)"
   ]
  },
  {
   "cell_type": "code",
   "execution_count": null,
   "id": "236adcc4-717c-4025-a1fa-262c639cc268",
   "metadata": {},
   "outputs": [],
   "source": [
    "idx_new <- which(proj$cellNames_clean %in% bcs)\n",
    "head(idx_new)"
   ]
  },
  {
   "cell_type": "code",
   "execution_count": null,
   "id": "fb9542aa-dc89-4398-ae90-646ab11bc26a",
   "metadata": {},
   "outputs": [],
   "source": [
    "cells_subset <- proj$cellNames[idx_new]\n",
    "proj_subset <- proj[cells_subset,]\n",
    "proj_subset"
   ]
  },
  {
   "cell_type": "markdown",
   "id": "b9c436cd-5f9a-4057-985e-88776f7cd542",
   "metadata": {},
   "source": [
    "## ATAC Clustering"
   ]
  },
  {
   "cell_type": "code",
   "execution_count": null,
   "id": "1efb1159-7d7b-4ace-8aad-73c88c460f8c",
   "metadata": {
    "scrolled": true,
    "tags": []
   },
   "outputs": [],
   "source": [
    "proj_subset <- addIterativeLSI(proj_subset, name = 'IterativeLSI', force = TRUE, varFeatures = 75000)"
   ]
  },
  {
   "cell_type": "code",
   "execution_count": null,
   "id": "5e446ecd-2e8b-4842-8c89-07d16b73f96d",
   "metadata": {},
   "outputs": [],
   "source": [
    "proj_subset <- addHarmony(proj_subset, reducedDims = 'IterativeLSI', groupBy = 'batch_id', force = TRUE)"
   ]
  },
  {
   "cell_type": "code",
   "execution_count": null,
   "id": "02929da8-c339-4312-a002-ef0d4605e2e5",
   "metadata": {
    "scrolled": true,
    "tags": []
   },
   "outputs": [],
   "source": [
    "# proj_subset <- addClusters(proj_subset, reducedDims = 'IterativeLSI', name = 'Clusters', force = TRUE, resolution = 0.2)\n",
    "proj_subset <- addClusters(proj_subset, reducedDims = 'Harmony', name = 'Clusters', force = TRUE, resolution = 0.2)"
   ]
  },
  {
   "cell_type": "code",
   "execution_count": null,
   "id": "8db5ad87-a7cf-4416-ac41-36dcfed58a12",
   "metadata": {
    "scrolled": true,
    "tags": []
   },
   "outputs": [],
   "source": [
    "# proj_subset <- addUMAP(proj_subset, reducedDims = 'IterativeLSI', name = 'UMAP', force = TRUE)\n",
    "proj_subset <- addUMAP(proj_subset, reducedDims = 'Harmony', name = 'UMAP', force = TRUE)"
   ]
  },
  {
   "cell_type": "code",
   "execution_count": null,
   "id": "c9bdbe88-d199-4830-a06f-a105907e76c1",
   "metadata": {},
   "outputs": [],
   "source": [
    "options(repr.plosp_mergeidth = 8, repr.plot.height = 8)\n",
    "plotEmbedding(ArchRProj = proj_subset, colorBy = \"cellColData\", name = \"Clusters\", embedding = \"UMAP\")\n",
    "plotEmbedding(ArchRProj = proj_subset, colorBy = \"cellColData\", name = \"pediatric_senior\", embedding = \"UMAP\")\n",
    "plotEmbedding(ArchRProj = proj_subset, colorBy = \"cellColData\", name = \"gating_celltype\", embedding = \"UMAP\")"
   ]
  },
  {
   "cell_type": "markdown",
   "id": "309d92f9-17fa-4b53-a2f9-ed7f58651bde",
   "metadata": {},
   "source": [
    "## Export LSI"
   ]
  },
  {
   "cell_type": "code",
   "execution_count": null,
   "id": "7ef733b4-ed15-4259-ba0f-9cded26364b2",
   "metadata": {},
   "outputs": [],
   "source": [
    "# lsi <- getReducedDims(proj_subset, reducedDims = 'IterativeLSI')\n",
    "lsi <- getReducedDims(proj_subset, reducedDims = 'Harmony')"
   ]
  },
  {
   "cell_type": "markdown",
   "id": "7a5e1273-c4aa-4da9-9e7d-ab7496eada1a",
   "metadata": {},
   "source": [
    "## Import LSI to Seurat Object"
   ]
  },
  {
   "cell_type": "code",
   "execution_count": null,
   "id": "8fc832ce-f48c-420a-b57e-b31786da1e5e",
   "metadata": {},
   "outputs": [],
   "source": [
    "rna_metadata <- sp_merge@meta.data\n",
    "archr_style_barcodes <- paste(rna_metadata$batch_id, \"-P1_\",rna_metadata$pbmc_sample_id,\"#\",rownames(rna_metadata), sep = \"\")\n",
    "head(archr_style_barcodes)"
   ]
  },
  {
   "cell_type": "code",
   "execution_count": null,
   "id": "8a4c3ff8-d062-4e3d-b92f-8ffaee47f71a",
   "metadata": {},
   "outputs": [],
   "source": [
    "# create data frame w/ seurat barcodes and archr style barcodes\n",
    "bc_df <- data.frame(seurat_bcs = colnames(sp_merge@assays$RNA),\n",
    "                    archr_style = archr_style_barcodes)"
   ]
  },
  {
   "cell_type": "code",
   "execution_count": null,
   "id": "564c8b60-6d69-47e7-b08b-4dc539c38b24",
   "metadata": {},
   "outputs": [],
   "source": [
    "# Find Intersection & subset LSI\n",
    "bc_idx <- intersect(rownames(lsi), archr_style_barcodes)"
   ]
  },
  {
   "cell_type": "code",
   "execution_count": null,
   "id": "8d022160-101a-44ba-be0d-8ef66ec2136a",
   "metadata": {},
   "outputs": [],
   "source": [
    "lsi_subset <- subset(lsi, subset = rownames(lsi) %in% bc_idx)\n",
    "bc_df_subset <- subset(bc_df, subset = bc_df$archr_style %in% bc_idx)\n",
    "length(rownames(lsi_subset))\n",
    "length(rownames(bc_df_subset))"
   ]
  },
  {
   "cell_type": "code",
   "execution_count": null,
   "id": "ae4aeb4f-4be0-4d65-8750-1c67cf059efe",
   "metadata": {},
   "outputs": [],
   "source": [
    "table(bc_df_subset$archr_style == rownames(lsi_subset))"
   ]
  },
  {
   "cell_type": "code",
   "execution_count": null,
   "id": "1889218e-ff6d-434c-9b55-0e003a42803d",
   "metadata": {},
   "outputs": [],
   "source": [
    "lsi_subset <- lsi_subset[match(bc_df_subset$archr_style, rownames(lsi_subset)),]"
   ]
  },
  {
   "cell_type": "code",
   "execution_count": null,
   "id": "05082c27-d504-4110-9650-dd64d8b886e6",
   "metadata": {},
   "outputs": [],
   "source": [
    "table(bc_df_subset$archr_style == rownames(lsi_subset))"
   ]
  },
  {
   "cell_type": "code",
   "execution_count": null,
   "id": "0e818d00-c4fa-4436-a6a6-c4f304bdcb43",
   "metadata": {},
   "outputs": [],
   "source": [
    "# replace LSI archr barcodes for seurat barcodes\n",
    "rownames(lsi_subset) <- bc_df_subset$seurat_bcs"
   ]
  },
  {
   "cell_type": "code",
   "execution_count": null,
   "id": "99765cd6-d95a-4a82-96de-020b36245037",
   "metadata": {},
   "outputs": [],
   "source": [
    "sp_merge <- subset(sp_merge, cells = bc_df_subset$seurat_bcs)"
   ]
  },
  {
   "cell_type": "code",
   "execution_count": null,
   "id": "9e7b70e8-2b1c-4688-9e66-301253320c1e",
   "metadata": {},
   "outputs": [],
   "source": [
    "table(colnames(sp_merge[['RNA']]) == rownames(lsi_subset))"
   ]
  },
  {
   "cell_type": "code",
   "execution_count": null,
   "id": "c34382b4-1f7f-4725-9120-c020404f6d78",
   "metadata": {},
   "outputs": [],
   "source": [
    "sp_merge[[\"lsit\"]] <- CreateDimReducObject(embeddings = lsi_subset, key = \"lsit_\", assay = \"Tiles\")"
   ]
  },
  {
   "cell_type": "markdown",
   "id": "2ee5f8ec-a3b0-4c17-9102-5e460addf8cc",
   "metadata": {},
   "source": [
    "## ATAC clustering in Seurat Object"
   ]
  },
  {
   "cell_type": "code",
   "execution_count": null,
   "id": "11dcac86-3d45-44ae-bb79-e6cd57cec1a4",
   "metadata": {
    "scrolled": true,
    "tags": []
   },
   "outputs": [],
   "source": [
    "DefaultAssay(sp_merge) <- 'Tiles'\n",
    "sp_merge <- RunUMAP(sp_merge, reduction = 'lsit', reduction.name = 'atac_umap', dims = 1:29, verbose = T, reduction.key = 'atacumap_')"
   ]
  },
  {
   "cell_type": "code",
   "execution_count": null,
   "id": "7bbc7659-fe43-4aed-bbbb-95976cd5147c",
   "metadata": {},
   "outputs": [],
   "source": [
    "options(repr.plot.width = 20, repr.plot.height = 10)\n",
    "p1 <- DimPlot(sp_merge, reduction = 'atac_umap', group.by = 'gating_celltype')\n",
    "p2 <- DimPlot(sp_merge, reduction = 'atac_umap', group.by = 'pediatric_senior')\n",
    "p3 <- DimPlot(sp_merge, reduction = 'atac_umap', group.by = 'age_cmv')\n",
    "p4 <- DimPlot(sp_merge, reduction = 'atac_umap', group.by = 'pbmc_sample_id')\n",
    "p1 + p2 + p3 + p4"
   ]
  },
  {
   "cell_type": "code",
   "execution_count": null,
   "id": "4506df7b-3c5a-4222-ac7f-4d8643c0de0a",
   "metadata": {},
   "outputs": [],
   "source": [
    "options(repr.plot.width = 20, repr.plot.height = 20)\n",
    "DimPlot(sp_merge, reduction = 'atac_umap', group.by = 'gating_celltype', split.by = 'gating_celltype', ncol = 4)"
   ]
  },
  {
   "cell_type": "markdown",
   "id": "e09299ed-7540-439d-ad69-fcbbe7fa5c7a",
   "metadata": {},
   "source": [
    "# 3WNN Clustering"
   ]
  },
  {
   "cell_type": "code",
   "execution_count": null,
   "id": "c0fd88d9-6007-48af-907d-9b8f8defdb09",
   "metadata": {},
   "outputs": [],
   "source": [
    "sp_merge <- FindMultiModalNeighbors(sp_merge, reduction.list = list(\"rna_harmony\",\"adt_harmony\",'lsit'), dims.list = list(1:25,1:20,1:29), weighted.nn.name = \"X3way.weighted.nn\",\n",
    "                                      k.nn = 30, knn.range = 500, prune.SNN = 1/20)"
   ]
  },
  {
   "cell_type": "code",
   "execution_count": null,
   "id": "ff52fd2a-c220-42a5-88d2-1f0678d4e3ca",
   "metadata": {},
   "outputs": [],
   "source": [
    "sp_merge <- RunUMAP(sp_merge, nn.name = \"X3way.weighted.nn\", reduction.name = \"wnn.3.umap\", reduction.key = \"wnn.3.umap_\")"
   ]
  },
  {
   "cell_type": "code",
   "execution_count": null,
   "id": "994d6e1e-7a0a-4517-b101-a0daee4ef3bc",
   "metadata": {},
   "outputs": [],
   "source": [
    "sp_merge <- FindClusters(sp_merge, graph.name = \"wsnn\", algorithm = 3, resolution = 0.5, verbose = FALSE)"
   ]
  },
  {
   "cell_type": "code",
   "execution_count": null,
   "id": "d2b48b3f-4442-4a24-b693-03273b7b48cf",
   "metadata": {},
   "outputs": [],
   "source": [
    "options(repr.plot.width = 20, repr.plot.height = 10)\n",
    "DimPlot(sp_merge, reduction = 'wnn.3.umap', label = T)"
   ]
  },
  {
   "cell_type": "code",
   "execution_count": null,
   "id": "37d13025-6d7a-4155-9545-49b64a94a0fe",
   "metadata": {},
   "outputs": [],
   "source": [
    "options(repr.plot.width = 20, repr.plot.height = 20)\n",
    "p1 <- DimPlot(sp_merge, reduction = 'wnn.3.umap', group.by = 'gating_celltype', raster = FALSE, shuffle = TRUE)\n",
    "p2 <- DimPlot(sp_merge, reduction = 'wnn.3.umap', group.by = 'pediatric_senior')\n",
    "p3 <- DimPlot(sp_merge, reduction = 'wnn.3.umap', group.by = 'age_cmv')\n",
    "p4 <- DimPlot(sp_merge, reduction = 'wnn.3.umap', group.by = 'pbmc_sample_id')\n",
    "p1 + p2 + p3 + p4"
   ]
  },
  {
   "cell_type": "code",
   "execution_count": null,
   "id": "163a4ab5-3a28-4535-8886-778a4f051b50",
   "metadata": {},
   "outputs": [],
   "source": [
    "options(repr.plot.width = 20, repr.plot.height = 20)\n",
    "DimPlot(sp_merge, reduction = 'wnn.3.umap', group.by = 'pediatric_senior', split.by = 'gating_celltype', ncol = 4, shuffle = TRUE)"
   ]
  },
  {
   "cell_type": "markdown",
   "id": "d654a414-cec9-4065-a247-04550a7badde",
   "metadata": {},
   "source": [
    "# Save"
   ]
  },
  {
   "cell_type": "code",
   "execution_count": null,
   "id": "a776074c-ea85-4e01-998c-96b12892c2be",
   "metadata": {},
   "outputs": [],
   "source": [
    "saveRDS(sp_merge, file = '../Seurat_Objects/sp_merge_gating_celltype_updated.rds')"
   ]
  },
  {
   "cell_type": "code",
   "execution_count": null,
   "id": "fede1c06-16b1-43c8-9fb2-09870b140d64",
   "metadata": {},
   "outputs": [],
   "source": [
    "sessionInfo()"
   ]
  }
 ],
 "metadata": {
  "kernelspec": {
   "display_name": "R 4",
   "language": "R",
   "name": "ir"
  },
  "language_info": {
   "codemirror_mode": "r",
   "file_extension": ".r",
   "mimetype": "text/x-r-source",
   "name": "R",
   "pygments_lexer": "r",
   "version": "4.1.2"
  }
 },
 "nbformat": 4,
 "nbformat_minor": 5
}
