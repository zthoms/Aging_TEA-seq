{
 "cells": [
  {
   "cell_type": "markdown",
   "metadata": {},
   "source": [
    "# PedSen Initial ArchR Setup"
   ]
  },
  {
   "cell_type": "code",
   "execution_count": null,
   "metadata": {},
   "outputs": [],
   "source": [
    "quiet_library <- function(...) { suppressPackageStartupMessages(library(...)) }\n",
    "quiet_library(ArchR)\n",
    "quiet_library(hise)\n",
    "quiet_library(Seurat)\n",
    "quiet_library(ggplot2)\n",
    "quiet_library(Matrix)\n",
    "quiet_library(H5weaver)\n",
    "quiet_library(dplyr)\n",
    "#quiet_library(viridis)\n",
    "#quiet_library(harmony)\n",
    "#quiet_library(Nebulosa)\n",
    "quiet_library(stringr)"
   ]
  },
  {
   "cell_type": "code",
   "execution_count": null,
   "metadata": {},
   "outputs": [],
   "source": [
    "addArchRThreads(32)\n",
    "addArchRGenome(\"hg38\")"
   ]
  },
  {
   "cell_type": "markdown",
   "metadata": {},
   "source": [
    "# Setup"
   ]
  },
  {
   "cell_type": "code",
   "execution_count": null,
   "metadata": {},
   "outputs": [],
   "source": [
    "ped_arrows <- c('../ped_vs_senior_arrow/B076-P1_PB00124-02.arrow',\n",
    "                '../ped_vs_senior_arrow/B069-P1_PB00172-02.arrow',\n",
    "                '../ped_vs_senior_arrow/B069-P1_PB00182-02.arrow',\n",
    "                '../ped_vs_senior_arrow/B076-P1_PB00127-02.arrow',\n",
    "                '../ped_vs_senior_arrow/B069-P1_PB00807-02.arrow',\n",
    "                '../ped_vs_senior_arrow/B065-P1_PB00173-02.arrow',\n",
    "                '../ped_vs_senior_arrow/B065-P1_PB00192-02.arrow',\n",
    "                '../ped_vs_senior_arrow/B065-P1_PB00197-02.arrow')"
   ]
  },
  {
   "cell_type": "code",
   "execution_count": null,
   "metadata": {},
   "outputs": [],
   "source": [
    "sen_arrows <- c('../ped_vs_senior_arrow/B065-P1_PB00593-04.arrow',\n",
    "                '../ped_vs_senior_arrow/B069-P1_PB00323-02.arrow',\n",
    "                '../ped_vs_senior_arrow/B076-P1_PB00368-04.arrow',\n",
    "                '../ped_vs_senior_arrow/B076-P1_PB00353-03.arrow',\n",
    "                '../ped_vs_senior_arrow/B076-P1_PB00334-03.arrow',\n",
    "                '../ped_vs_senior_arrow/B076-P1_PB00377-03.arrow',\n",
    "                '../ped_vs_senior_arrow/B076-P1_PB00545-02.arrow',\n",
    "                '../ped_vs_senior_arrow/B076-P1_PB00599-02.arrow')"
   ]
  },
  {
   "cell_type": "markdown",
   "metadata": {},
   "source": [
    "## Create ArchR Project"
   ]
  },
  {
   "cell_type": "code",
   "execution_count": null,
   "metadata": {},
   "outputs": [],
   "source": [
    "proj <- ArchRProject(\n",
    "  ArrowFiles = c(ped_arrows, sen_arrows), \n",
    "  outputDirectory = \"../PedSen_ATAC\",\n",
    "  copyArrows = TRUE #This is recommened so that if you modify the Arrow files you have an original copy for later usage.\n",
    ")"
   ]
  },
  {
   "cell_type": "code",
   "execution_count": null,
   "metadata": {},
   "outputs": [],
   "source": [
    "proj"
   ]
  },
  {
   "cell_type": "markdown",
   "metadata": {},
   "source": [
    "## Subset ArchR Project by barcodes from RNA+ADT object"
   ]
  },
  {
   "cell_type": "code",
   "execution_count": null,
   "metadata": {},
   "outputs": [],
   "source": [
    "rna_adt_so <- readRDS(file = '../Seurat_Objects/sp_merge_only.rds')"
   ]
  },
  {
   "cell_type": "code",
   "execution_count": null,
   "metadata": {},
   "outputs": [],
   "source": [
    "head(proj$cellNames)\n",
    "clean_barcodes <- str_sub(proj$cellNames, 20, 51)\n",
    "head(clean_barcodes)"
   ]
  },
  {
   "cell_type": "code",
   "execution_count": null,
   "metadata": {},
   "outputs": [],
   "source": [
    "proj$cellNames_clean <- clean_barcodes"
   ]
  },
  {
   "cell_type": "code",
   "execution_count": null,
   "metadata": {},
   "outputs": [],
   "source": [
    "barcodes_rna <- colnames(rna_adt_so[['RNA']])\n",
    "head(barcodes_rna)"
   ]
  },
  {
   "cell_type": "code",
   "execution_count": null,
   "metadata": {},
   "outputs": [],
   "source": [
    "idx_new <- which(proj$cellNames_clean %in% barcodes_rna)\n",
    "head(idx_new)"
   ]
  },
  {
   "cell_type": "code",
   "execution_count": null,
   "metadata": {},
   "outputs": [],
   "source": [
    "length(colnames(rna_adt_so[['RNA']]))\n",
    "length(proj$cellNames)"
   ]
  },
  {
   "cell_type": "code",
   "execution_count": null,
   "metadata": {},
   "outputs": [],
   "source": [
    "cells_subset <- proj$cellNames[idx_new]\n",
    "proj_subset <- proj[cells_subset,]\n",
    "proj_subset"
   ]
  },
  {
   "cell_type": "markdown",
   "metadata": {},
   "source": [
    "## Transfer Metadata to ArchR Project"
   ]
  },
  {
   "cell_type": "code",
   "execution_count": null,
   "metadata": {},
   "outputs": [],
   "source": [
    "rna_metadata <- rna_adt_so@meta.data\n",
    "head(rna_metadata)\n",
    "head(proj_subset$cellNames_clean)"
   ]
  },
  {
   "cell_type": "code",
   "execution_count": null,
   "metadata": {},
   "outputs": [],
   "source": [
    "bc_idx <- barcodes_rna %in% clean_barcodes\n",
    "table(bc_idx)"
   ]
  },
  {
   "cell_type": "code",
   "execution_count": null,
   "metadata": {},
   "outputs": [],
   "source": [
    "# all cells overlap - so no need to subset rna metadata\n",
    "# rna_meta_subset <- rna_metadata[bc_idx,]\n",
    "# length(rownames(rna_meta_subset))"
   ]
  },
  {
   "cell_type": "code",
   "execution_count": null,
   "metadata": {},
   "outputs": [],
   "source": [
    "# check barcode alignment\n",
    "table(proj_subset$cellNames_clean == rownames(rna_metadata))"
   ]
  },
  {
   "cell_type": "code",
   "execution_count": null,
   "metadata": {},
   "outputs": [],
   "source": [
    "head(rna_metadata)"
   ]
  },
  {
   "cell_type": "code",
   "execution_count": null,
   "metadata": {},
   "outputs": [],
   "source": [
    "rna_metadata <- rna_metadata[match(proj_subset$cellNames_clean, rownames(rna_metadata)),]"
   ]
  },
  {
   "cell_type": "code",
   "execution_count": null,
   "metadata": {},
   "outputs": [],
   "source": [
    "head(rna_metadata)\n",
    "head(proj_subset$cellNames_clean)"
   ]
  },
  {
   "cell_type": "code",
   "execution_count": null,
   "metadata": {},
   "outputs": [],
   "source": [
    "# check re-aligned barcodes - should be all true\n",
    "table(proj_subset$cellNames_clean == rownames(rna_metadata))"
   ]
  },
  {
   "cell_type": "markdown",
   "metadata": {},
   "source": [
    "### Add metadata"
   ]
  },
  {
   "cell_type": "code",
   "execution_count": null,
   "metadata": {},
   "outputs": [],
   "source": [
    "colnames(rna_metadata)"
   ]
  },
  {
   "cell_type": "code",
   "execution_count": null,
   "metadata": {},
   "outputs": [],
   "source": [
    "proj_subset$gating_celltype <- rna_metadata$gating_celltype\n",
    "proj_subset$pediatric_senior <- rna_metadata$pediatric_senior\n",
    "proj_subset$CMV <- rna_metadata$CMV\n",
    "proj_subset$age_cmv <- rna_metadata$age_cmv\n",
    "proj_subset$predicted.t_celltype.l1 <- rna_metadata$predicted.t_celltype.l1\n",
    "proj_subset$predicted.t_celltype.l2 <- rna_metadata$predicted.t_celltype.l2\n",
    "proj_subset$predicted.t_celltype.l3 <- rna_metadata$predicted.t_celltype.l3\n",
    "proj_subset$batch_id <- rna_metadata$batch_id\n",
    "proj_subset$pbmc_sample_id <- rna_metadata$pbmc_sample_id"
   ]
  },
  {
   "cell_type": "markdown",
   "metadata": {},
   "source": [
    "## Add Gene Expression to ArchR Project"
   ]
  },
  {
   "cell_type": "code",
   "execution_count": null,
   "metadata": {},
   "outputs": [],
   "source": [
    "library(SingleCellExperiment)"
   ]
  },
  {
   "cell_type": "code",
   "execution_count": null,
   "metadata": {},
   "outputs": [],
   "source": [
    "rna_mtx <- as.sparse(rna_adt_so@assays$RNA@counts)"
   ]
  },
  {
   "cell_type": "code",
   "execution_count": null,
   "metadata": {},
   "outputs": [],
   "source": [
    "head(colnames(rna_mtx))\n",
    "head(proj$cellNames)"
   ]
  },
  {
   "cell_type": "code",
   "execution_count": null,
   "metadata": {},
   "outputs": [],
   "source": [
    "archr_style_barcodes <- paste(rna_adt_so$batch_id, \"-P1_\",rna_adt_so$pbmc_sample_id,\"#\",colnames(rna_mtx), sep = \"\")\n",
    "head(archr_style_barcodes)"
   ]
  },
  {
   "cell_type": "code",
   "execution_count": null,
   "metadata": {},
   "outputs": [],
   "source": [
    "table(archr_style_barcodes %in% proj$cellNames)\n",
    "rna_adt_so$ATAC_Cell_ID <- archr_style_barcodes"
   ]
  },
  {
   "cell_type": "code",
   "execution_count": null,
   "metadata": {},
   "outputs": [],
   "source": [
    "colnames(rna_mtx) <- archr_style_barcodes"
   ]
  },
  {
   "cell_type": "code",
   "execution_count": null,
   "metadata": {},
   "outputs": [],
   "source": [
    "atac_genes <- getGenes(ArchRProj = proj)\n",
    "head(atac_genes)"
   ]
  },
  {
   "cell_type": "code",
   "execution_count": null,
   "metadata": {},
   "outputs": [],
   "source": [
    "genes <- getGenes(proj, symbols = rownames(rna_mtx))"
   ]
  },
  {
   "cell_type": "code",
   "execution_count": null,
   "metadata": {},
   "outputs": [],
   "source": [
    "genes"
   ]
  },
  {
   "cell_type": "code",
   "execution_count": null,
   "metadata": {},
   "outputs": [],
   "source": [
    "idx <- rownames(rna_mtx) %in% atac_genes$symbol\n",
    "head(idx)"
   ]
  },
  {
   "cell_type": "code",
   "execution_count": null,
   "metadata": {},
   "outputs": [],
   "source": [
    "rna_mtx_subset <- rna_mtx[idx,]"
   ]
  },
  {
   "cell_type": "code",
   "execution_count": null,
   "metadata": {},
   "outputs": [],
   "source": [
    "sce <- SingleCellExperiment(list(counts = rna_mtx_subset),rowRanges= genes)\n",
    "sce"
   ]
  },
  {
   "cell_type": "code",
   "execution_count": null,
   "metadata": {},
   "outputs": [],
   "source": [
    "proj_subset <- addGeneExpressionMatrix(input = proj_subset, seRNA = sce)"
   ]
  },
  {
   "cell_type": "markdown",
   "metadata": {},
   "source": [
    "# Save ArchR Project"
   ]
  },
  {
   "cell_type": "code",
   "execution_count": null,
   "metadata": {},
   "outputs": [],
   "source": [
    "saveArchRProject(ArchRProj = proj_subset, outputDirectory = '../PedSen_ATAC/', load = F)"
   ]
  },
  {
   "cell_type": "code",
   "execution_count": null,
   "metadata": {},
   "outputs": [],
   "source": [
    "getAvailableMatrices(proj_subset)"
   ]
  },
  {
   "cell_type": "code",
   "execution_count": null,
   "metadata": {},
   "outputs": [],
   "source": [
    "sessionInfo()"
   ]
  }
 ],
 "metadata": {
  "kernelspec": {
   "display_name": "R 4",
   "language": "R",
   "name": "ir"
  },
  "language_info": {
   "codemirror_mode": "r",
   "file_extension": ".r",
   "mimetype": "text/x-r-source",
   "name": "R",
   "pygments_lexer": "r",
   "version": "4.1.2"
  },
  "toc-autonumbering": true
 },
 "nbformat": 4,
 "nbformat_minor": 4
}
