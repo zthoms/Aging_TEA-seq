{
 "cells": [
  {
   "cell_type": "markdown",
   "id": "3e00e18d-9cb9-44a4-8603-a8fdbc64ed06",
   "metadata": {},
   "source": [
    "# Setup"
   ]
  },
  {
   "cell_type": "code",
   "execution_count": null,
   "id": "475eace7-44a3-4d39-9ca2-a088712eb481",
   "metadata": {},
   "outputs": [],
   "source": [
    "quiet_library <- function(...) {\n",
    "    suppressPackageStartupMessages(library(...))\n",
    "}\n",
    "quiet_library(Seurat)\n",
    "quiet_library(ggplot2)\n",
    "quiet_library(Matrix)\n",
    "quiet_library(H5weaver)\n",
    "quiet_library(dplyr)\n",
    "quiet_library(viridis)\n",
    "quiet_library(harmony)\n",
    "#quiet_library(Nebulosa)\n",
    "quiet_library(ArchR)"
   ]
  },
  {
   "cell_type": "code",
   "execution_count": null,
   "id": "1a07fe69-4a51-42b7-9437-c89131030e61",
   "metadata": {
    "scrolled": true,
    "tags": []
   },
   "outputs": [],
   "source": [
    "library(dplyr)\n",
    "library(data.table)\n",
    "library(ArchR)\n",
    "library(plyranges)\n",
    "library(doParallel)\n",
    "library(MASS)\n",
    "library(reshape)\n",
    "library(ggplot2)\n",
    "library(ggforce)\n",
    "library(metR)\n",
    "library(TxDb.Hsapiens.UCSC.hg38.knownGene)\n",
    "library(BSgenome.Hsapiens.UCSC.hg38)\n",
    "library(org.Hs.eg.db)"
   ]
  },
  {
   "cell_type": "code",
   "execution_count": null,
   "id": "8702af41-1e3b-42f6-976f-419b38be6641",
   "metadata": {},
   "outputs": [],
   "source": [
    "addArchRThreads(32)\n",
    "addArchRGenome(\"hg38\")"
   ]
  },
  {
   "cell_type": "code",
   "execution_count": null,
   "id": "40682e62-7ad3-494c-b962-476b76d7ff01",
   "metadata": {},
   "outputs": [],
   "source": [
    "proj <- loadArchRProject(path = '../PedSen_ATAC/')\n",
    "proj"
   ]
  },
  {
   "cell_type": "code",
   "execution_count": null,
   "id": "6ff88051-170e-4400-a72a-d3d9b405d437",
   "metadata": {},
   "outputs": [],
   "source": [
    "getAvailableMatrices(proj)"
   ]
  },
  {
   "cell_type": "markdown",
   "id": "05338dfb-2338-407b-ad9c-8b901e779617",
   "metadata": {},
   "source": [
    "# Frags & Size Analysis"
   ]
  },
  {
   "cell_type": "code",
   "execution_count": null,
   "id": "9200cadd-1aa5-4284-a696-c996126fff58",
   "metadata": {},
   "outputs": [],
   "source": [
    "median(proj$nFrags)"
   ]
  },
  {
   "cell_type": "markdown",
   "id": "0683a4df-00ae-413f-903b-18fe555c8fe7",
   "metadata": {},
   "source": [
    "## Subset Pediatric & Senior Projects"
   ]
  },
  {
   "cell_type": "code",
   "execution_count": null,
   "id": "44e6e1b2-3ad9-4a69-a033-6e0e2c744bc0",
   "metadata": {},
   "outputs": [],
   "source": [
    "ped_idx <- which(proj$pediatric_senior == 'Pediatric')\n",
    "ped_cells <- proj$cellNames[ped_idx]\n",
    "ped_proj <- proj[ped_cells, ]\n",
    "\n",
    "sen_idx <- which(proj$pediatric_senior == 'Senior')\n",
    "sen_cells <- proj$cellNames[sen_idx]\n",
    "sen_proj <- proj[sen_cells, ]"
   ]
  },
  {
   "cell_type": "markdown",
   "id": "483f5526-2123-479d-a13f-d95f91cf0ee2",
   "metadata": {},
   "source": [
    "## Subset by Batch"
   ]
  },
  {
   "cell_type": "code",
   "execution_count": null,
   "id": "490c419d-6db6-4d16-aedc-c28d81188b5a",
   "metadata": {},
   "outputs": [],
   "source": [
    "batch_ids <- c('B065','B069','B076')"
   ]
  },
  {
   "cell_type": "code",
   "execution_count": null,
   "id": "d330946c-693d-48ea-ab44-a76d540fe670",
   "metadata": {},
   "outputs": [],
   "source": [
    "ped_proj_list <- lapply(batch_ids, function(x){\n",
    "    idx <- which(ped_proj$batch_id == x)\n",
    "    proj_cells <- ped_proj$cellNames[idx]\n",
    "    proj_subset <- ped_proj[proj_cells, ]\n",
    "    return(proj_subset)\n",
    "})\n",
    "names(ped_proj_list) <- batch_ids"
   ]
  },
  {
   "cell_type": "code",
   "execution_count": null,
   "id": "5723c9df-000b-459f-9b48-1cdd5423eb01",
   "metadata": {},
   "outputs": [],
   "source": [
    "sen_proj_list <- lapply(batch_ids, function(x){\n",
    "    idx <- which(sen_proj$batch_id == x)\n",
    "    proj_cells <- sen_proj$cellNames[idx]\n",
    "    proj_subset <- sen_proj[proj_cells, ]\n",
    "    return(proj_subset)\n",
    "})\n",
    "names(sen_proj_list) <- batch_ids"
   ]
  },
  {
   "cell_type": "markdown",
   "id": "066e4e97-b5d7-49be-9fa8-05e0a70a37fd",
   "metadata": {},
   "source": [
    "## Get Frags per cell "
   ]
  },
  {
   "cell_type": "code",
   "execution_count": null,
   "id": "f9906fb8-0cb9-438d-ae1e-8c83ccf432b1",
   "metadata": {},
   "outputs": [],
   "source": [
    "gating_celltypes <- unique(proj$gating_celltype)\n",
    "gating_celltypes"
   ]
  },
  {
   "cell_type": "code",
   "execution_count": null,
   "id": "8448c689-454e-4b11-a4f4-2fc7090ebabf",
   "metadata": {},
   "outputs": [],
   "source": [
    "median_frags_celltype_func <- function(celltype,archr_project){\n",
    "    idx <- which(archr_project$gating_celltype %in% celltype)\n",
    "    proj_cells <- archr_project$cellNames[idx]\n",
    "    proj_subset <- archr_project[proj_cells, ]\n",
    "    return(median(proj_subset$nFrags))}"
   ]
  },
  {
   "cell_type": "code",
   "execution_count": null,
   "id": "286a058b-9218-41b3-bfac-8e599d113ad7",
   "metadata": {},
   "outputs": [],
   "source": [
    "ped_b065_celltype_frags <- lapply(gating_celltypes, median_frags_celltype_func, ped_proj_list$B065)\n",
    "names(ped_b065_celltype_frags) <- gating_celltypes\n",
    "sen_b065_celltype_frags <- lapply(gating_celltypes, median_frags_celltype_func, sen_proj_list$B065)\n",
    "names(sen_b065_celltype_frags) <- gating_celltypes"
   ]
  },
  {
   "cell_type": "code",
   "execution_count": null,
   "id": "68d378ae-f500-4a76-9988-0ee0bd5b2ac9",
   "metadata": {},
   "outputs": [],
   "source": [
    "ped_b069_celltype_frags <- lapply(gating_celltypes, median_frags_celltype_func, ped_proj_list$B069)\n",
    "names(ped_b069_celltype_frags) <- gating_celltypes\n",
    "sen_b069_celltype_frags <- lapply(gating_celltypes, median_frags_celltype_func, sen_proj_list$B069)\n",
    "names(sen_b069_celltype_frags) <- gating_celltypes"
   ]
  },
  {
   "cell_type": "code",
   "execution_count": null,
   "id": "e1fe2048-9432-48cc-a091-cb89fa258a07",
   "metadata": {},
   "outputs": [],
   "source": [
    "ped_b076_celltype_frags <- lapply(gating_celltypes, median_frags_celltype_func, ped_proj_list$B076)\n",
    "names(ped_b076_celltype_frags) <- gating_celltypes\n",
    "sen_b076_celltype_frags <- lapply(gating_celltypes, median_frags_celltype_func, sen_proj_list$B076)\n",
    "names(sen_b076_celltype_frags) <- gating_celltypes"
   ]
  },
  {
   "cell_type": "code",
   "execution_count": null,
   "id": "02abeb61-2c47-474c-a49e-80d75a17b192",
   "metadata": {},
   "outputs": [],
   "source": [
    "frag_df_combined <- rbind(ped_b065_celltype_frags, ped_b069_celltype_frags, ped_b076_celltype_frags,\n",
    "                          sen_b065_celltype_frags, sen_b069_celltype_frags, sen_b076_celltype_frags)"
   ]
  },
  {
   "cell_type": "code",
   "execution_count": null,
   "id": "73048e33-1446-4b4f-9244-398cb7d6ced8",
   "metadata": {},
   "outputs": [],
   "source": [
    "frag_df_combined"
   ]
  },
  {
   "cell_type": "code",
   "execution_count": null,
   "id": "defbe3cc-4e18-44af-8e08-860a23404539",
   "metadata": {},
   "outputs": [],
   "source": [
    "write.csv(frag_df_combined, file = '../frag_df_combined.csv')"
   ]
  },
  {
   "cell_type": "markdown",
   "id": "24aed3ac-d931-43d4-a510-05420578b1c7",
   "metadata": {},
   "source": [
    "# DAPs per cell type by Age and by CMV status"
   ]
  },
  {
   "cell_type": "markdown",
   "id": "3b00c051-ec7b-4b92-b2dc-394e12912a89",
   "metadata": {},
   "source": [
    "Find differntially accessible peaks within each gated cell type by either age group or CMV status. Trying to maximize the number of cells used but only using the minimum overlap between Age & CMV status so that you can compare within cell types. Can not compare between cell types with this strategy. "
   ]
  },
  {
   "cell_type": "markdown",
   "id": "3866f7b9-54b0-4200-bd59-fc3a6dfd1f45",
   "metadata": {},
   "source": [
    "## Create metadata slots needed for this analysis"
   ]
  },
  {
   "cell_type": "code",
   "execution_count": null,
   "id": "e010ec7f-093e-491b-bd01-d35764a61bd9",
   "metadata": {},
   "outputs": [],
   "source": [
    "proj$age_celltype <- paste0(proj$pediatric_senior,\"_\",proj$gating_celltype)\n",
    "proj$cmv_celltype <- paste0(proj$CMV,\"_\",proj$gating_celltype)"
   ]
  },
  {
   "cell_type": "markdown",
   "id": "ee2a6e68-950d-4d95-88a2-d1c0b5d5dbee",
   "metadata": {
    "tags": []
   },
   "source": [
    "## Functions"
   ]
  },
  {
   "cell_type": "code",
   "execution_count": null,
   "id": "25b35edc-9b02-41cb-8b48-67f1e1090bef",
   "metadata": {},
   "outputs": [],
   "source": [
    "celltypes <- unique(proj$gating_celltype)"
   ]
  },
  {
   "cell_type": "code",
   "execution_count": null,
   "id": "f78944c3-a05b-4d46-835b-88df0a59bdba",
   "metadata": {},
   "outputs": [],
   "source": [
    "cmv_status <- unique(proj$CMV)\n",
    "cmv_status"
   ]
  },
  {
   "cell_type": "code",
   "execution_count": null,
   "id": "4d61bc53-b728-4665-b3df-a0ec5e00bf4d",
   "metadata": {},
   "outputs": [],
   "source": [
    "sen_age_marker_test_func <- function(celltype, archr_project){\n",
    "    \n",
    "    dap_list = list()\n",
    "    # Get maximum number of cells to use\n",
    "    ## Get pediatric number\n",
    "    idx <- which(archr_project$age_celltype %in% paste0('Pediatric_',celltype))\n",
    "    proj_cells <- archr_project$cellNames[idx]\n",
    "    proj_subset1 <- archr_project[proj_cells,]\n",
    "    ped_age <- length(proj_subset1$cellNames)\n",
    "    ## Get senior number\n",
    "    idx <- which(archr_project$age_celltype %in% paste0('Senior_',celltype))\n",
    "    proj_cells <- archr_project$cellNames[idx]\n",
    "    proj_subset1 <- archr_project[proj_cells,]\n",
    "    sen_age <- length(proj_subset1$cellNames)\n",
    "    ## Get pediatric number\n",
    "    idx <- which(archr_project$cmv_celltype %in% paste0('Positive_',celltype))\n",
    "    proj_cells <- archr_project$cellNames[idx]\n",
    "    proj_subset1 <- archr_project[proj_cells,]\n",
    "    cmv_pos <- length(proj_subset1$cellNames)\n",
    "    ## Get senior number\n",
    "    idx <- which(archr_project$cmv_celltype %in% paste0('Negative_',celltype))\n",
    "    proj_cells <- archr_project$cellNames[idx]\n",
    "    proj_subset1 <- archr_project[proj_cells,]\n",
    "    cmv_neg <- length(proj_subset1$cellNames)\n",
    "    ## Use minimum as maxCells\n",
    "    cell_number <- min(ped_age,sen_age,cmv_pos,cmv_neg)\n",
    "    print(cell_number)\n",
    "    \n",
    "    # Get marker peaks\n",
    "    markerTest <- getMarkerFeatures(\n",
    "                      ArchRProj = archr_project, \n",
    "                      useMatrix = \"PeakMatrix\",\n",
    "                      groupBy = \"age_celltype\",\n",
    "                      testMethod = \"wilcoxon\",\n",
    "                      bias = c(\"TSSEnrichment\", \"log10(nFrags)\"),\n",
    "                      useGroups = paste0('Senior_',celltype),\n",
    "                      bgdGroups = paste0('Pediatric_',celltype),\n",
    "                      maxCells = cell_number\n",
    "                    )\n",
    "    return(markerTest)\n",
    "    # Extract Significant peaks\n",
    "#     name <- paste0('Senior_',celltype)\n",
    "#     sig_markers_up <- getMarkers(markerTest, cutOff = \"FDR <= 0.1 & Log2FC >= 0.5\")\n",
    "#     sig_markers_df <- sig_markers_up[[name]]\n",
    "    \n",
    "#     return(sig_markers_df)\n",
    "}   "
   ]
  },
  {
   "cell_type": "code",
   "execution_count": null,
   "id": "11827f36-a2b3-4ae7-8fdb-0edc75088b41",
   "metadata": {},
   "outputs": [],
   "source": [
    "ped_age_marker_test_func <- function(celltype, archr_project){\n",
    "    \n",
    "    dap_list = list()\n",
    "    # Get maximum number of cells to use\n",
    "    ## Get pediatric number\n",
    "    idx <- which(archr_project$age_celltype %in% paste0('Pediatric_',celltype))\n",
    "    proj_cells <- archr_project$cellNames[idx]\n",
    "    proj_subset1 <- archr_project[proj_cells,]\n",
    "    ped_age <- length(proj_subset1$cellNames)\n",
    "    ## Get senior number\n",
    "    idx <- which(archr_project$age_celltype %in% paste0('Senior_',celltype))\n",
    "    proj_cells <- archr_project$cellNames[idx]\n",
    "    proj_subset1 <- archr_project[proj_cells,]\n",
    "    sen_age <- length(proj_subset1$cellNames)\n",
    "    ## Get pediatric number\n",
    "    idx <- which(archr_project$cmv_celltype %in% paste0('Positive_',celltype))\n",
    "    proj_cells <- archr_project$cellNames[idx]\n",
    "    proj_subset1 <- archr_project[proj_cells,]\n",
    "    cmv_pos <- length(proj_subset1$cellNames)\n",
    "    ## Get senior number\n",
    "    idx <- which(archr_project$cmv_celltype %in% paste0('Negative_',celltype))\n",
    "    proj_cells <- archr_project$cellNames[idx]\n",
    "    proj_subset1 <- archr_project[proj_cells,]\n",
    "    cmv_neg <- length(proj_subset1$cellNames)\n",
    "    ## Use minimum as maxCells\n",
    "    cell_number <- min(ped_age,sen_age,cmv_pos,cmv_neg)\n",
    "    print(cell_number)\n",
    "    \n",
    "    # Get marker peaks\n",
    "    markerTest <- getMarkerFeatures(\n",
    "                      ArchRProj = archr_project, \n",
    "                      useMatrix = \"PeakMatrix\",\n",
    "                      groupBy = \"age_celltype\",\n",
    "                      testMethod = \"wilcoxon\",\n",
    "                      bias = c(\"TSSEnrichment\", \"log10(nFrags)\"),\n",
    "                      useGroups = paste0('Pediatric_',celltype),\n",
    "                      bgdGroups = paste0('Senior_',celltype),\n",
    "                      maxCells = cell_number\n",
    "                    )\n",
    "    return(markerTest)\n",
    "    # Extract Significant peaks\n",
    "#     name <- paste0('Pediatric_',celltype)\n",
    "#     sig_markers_up <- getMarkers(markerTest, cutOff = \"FDR <= 0.1 & Log2FC >= 0.5\")\n",
    "#     sig_markers_df <- sig_markers_up[[name]]\n",
    "    \n",
    "#     return(sig_markers_df)\n",
    "}"
   ]
  },
  {
   "cell_type": "code",
   "execution_count": null,
   "id": "dcbf27e3-e6ae-4307-9d49-b7a92dac5c3e",
   "metadata": {},
   "outputs": [],
   "source": [
    "cmv_pos_marker_test_func <- function(celltype, archr_project){\n",
    "    \n",
    "    dap_list = list()\n",
    "    # Get maximum number of cells to use\n",
    "    ## Get pediatric number\n",
    "    idx <- which(archr_project$age_celltype %in% paste0('Pediatric_',celltype))\n",
    "    proj_cells <- archr_project$cellNames[idx]\n",
    "    proj_subset1 <- archr_project[proj_cells,]\n",
    "    ped_age <- length(proj_subset1$cellNames)\n",
    "    ## Get senior number\n",
    "    idx <- which(archr_project$age_celltype %in% paste0('Senior_',celltype))\n",
    "    proj_cells <- archr_project$cellNames[idx]\n",
    "    proj_subset1 <- archr_project[proj_cells,]\n",
    "    sen_age <- length(proj_subset1$cellNames)\n",
    "    ## Get pediatric number\n",
    "    idx <- which(archr_project$cmv_celltype %in% paste0('Positive_',celltype))\n",
    "    proj_cells <- archr_project$cellNames[idx]\n",
    "    proj_subset1 <- archr_project[proj_cells,]\n",
    "    cmv_pos <- length(proj_subset1$cellNames)\n",
    "    ## Get senior number\n",
    "    idx <- which(archr_project$cmv_celltype %in% paste0('Negative_',celltype))\n",
    "    proj_cells <- archr_project$cellNames[idx]\n",
    "    proj_subset1 <- archr_project[proj_cells,]\n",
    "    cmv_neg <- length(proj_subset1$cellNames)\n",
    "    ## Use minimum as maxCells\n",
    "    cell_number <- min(ped_age,sen_age,cmv_pos,cmv_neg)\n",
    "    print(cell_number)\n",
    "    \n",
    "    # Get marker peaks\n",
    "    markerTest <- getMarkerFeatures(\n",
    "                      ArchRProj = archr_project, \n",
    "                      useMatrix = \"PeakMatrix\",\n",
    "                      groupBy = \"cmv_celltype\",\n",
    "                      testMethod = \"wilcoxon\",\n",
    "                      bias = c(\"TSSEnrichment\", \"log10(nFrags)\"),\n",
    "                      useGroups = paste0('Positive_',celltype),\n",
    "                      bgdGroups = paste0('Negative_',celltype),\n",
    "                      maxCells = cell_number\n",
    "                    )\n",
    "    return(markerTest)\n",
    "    # Extract Significant peaks\n",
    "#     name <- paste0('Positive_',celltype)\n",
    "#     sig_markers_up <- getMarkers(markerTest, cutOff = \"FDR <= 0.1 & Log2FC >= 0.5\")\n",
    "#     sig_markers_df <- sig_markers_up[[name]]\n",
    "    \n",
    "#     return(sig_markers_df)\n",
    "}"
   ]
  },
  {
   "cell_type": "code",
   "execution_count": null,
   "id": "c359cf11-b2f5-4638-889a-61769faaf494",
   "metadata": {},
   "outputs": [],
   "source": [
    "cmv_neg_marker_test_func <- function(celltype, archr_project){\n",
    "    \n",
    "    dap_list = list()\n",
    "    # Get maximum number of cells to use\n",
    "    ## Get pediatric number\n",
    "    idx <- which(archr_project$age_celltype %in% paste0('Pediatric_',celltype))\n",
    "    proj_cells <- archr_project$cellNames[idx]\n",
    "    proj_subset1 <- archr_project[proj_cells,]\n",
    "    ped_age <- length(proj_subset1$cellNames)\n",
    "    ## Get senior number\n",
    "    idx <- which(archr_project$age_celltype %in% paste0('Senior_',celltype))\n",
    "    proj_cells <- archr_project$cellNames[idx]\n",
    "    proj_subset1 <- archr_project[proj_cells,]\n",
    "    sen_age <- length(proj_subset1$cellNames)\n",
    "    ## Get pediatric number\n",
    "    idx <- which(archr_project$cmv_celltype %in% paste0('Positive_',celltype))\n",
    "    proj_cells <- archr_project$cellNames[idx]\n",
    "    proj_subset1 <- archr_project[proj_cells,]\n",
    "    cmv_pos <- length(proj_subset1$cellNames)\n",
    "    ## Get senior number\n",
    "    idx <- which(archr_project$cmv_celltype %in% paste0('Negative_',celltype))\n",
    "    proj_cells <- archr_project$cellNames[idx]\n",
    "    proj_subset1 <- archr_project[proj_cells,]\n",
    "    cmv_neg <- length(proj_subset1$cellNames)\n",
    "    ## Use minimum as maxCells\n",
    "    cell_number <- min(ped_age,sen_age,cmv_pos,cmv_neg)\n",
    "    print(cell_number)\n",
    "    \n",
    "    # Get marker peaks\n",
    "    markerTest <- getMarkerFeatures(\n",
    "                      ArchRProj = archr_project, \n",
    "                      useMatrix = \"PeakMatrix\",\n",
    "                      groupBy = \"cmv_celltype\",\n",
    "                      testMethod = \"wilcoxon\",\n",
    "                      bias = c(\"TSSEnrichment\", \"log10(nFrags)\"),\n",
    "                      useGroups = paste0('Negative_',celltype),\n",
    "                      bgdGroups = paste0('Positive_',celltype),\n",
    "                      maxCells = cell_number\n",
    "                    )\n",
    "    return(markerTest)\n",
    "    # Extract Significant peaks\n",
    "#     name <- paste0('Negative_',celltype)\n",
    "#     sig_markers_up <- getMarkers(markerTest, cutOff = \"FDR <= 0.1 & Log2FC >= 0.5\")\n",
    "#     sig_markers_df <- sig_markers_up[[name]]\n",
    "    \n",
    "#     return(sig_markers_df)\n",
    "}"
   ]
  },
  {
   "cell_type": "code",
   "execution_count": null,
   "id": "2768d1cc-c072-46a7-a670-fe8c5f53149f",
   "metadata": {},
   "outputs": [],
   "source": [
    "fastAnnoPeaks <- function(peaks = NULL, \n",
    "                          genomeAnnotation = BSgenome.Hsapiens.UCSC.hg38, \n",
    "                          TxDb = TxDb.Hsapiens.UCSC.hg38.knownGene, \n",
    "                          Org = org.Hs.eg.db, \n",
    "                          promoterRegion = c(2000, 100)){\n",
    "  \n",
    "  BSgenome = BSgenome.Hsapiens.UCSC.hg38\n",
    "  geneAnnotation = createGeneAnnotation(TxDb = TxDb, OrgDb = Org)\n",
    "\t\n",
    "  #Validate\n",
    "  peaks <- validGRanges(peaks)\n",
    "  peakSummits <- resize(peaks,1,\"center\")\n",
    "  geneAnnotation$genes <- validGRanges(geneAnnotation$genes)\n",
    "  geneAnnotation$exons <- validGRanges(geneAnnotation$exons)\n",
    "  geneAnnotation$TSS <- validGRanges(geneAnnotation$TSS)\n",
    "  BSgenome <- validBSgenome(BSgenome)\n",
    "  \n",
    "  #First Lets Get Distance to Nearest Gene Start\n",
    "  \n",
    "  distPeaks <- distanceToNearest(peakSummits, resize(geneAnnotation$genes, 1, \"start\"), ignore.strand = TRUE)\n",
    "  mcols(peaks)$distToGeneStart <- mcols(distPeaks)$distance\n",
    "  mcols(peaks)$nearestGene <- mcols(geneAnnotation$genes)$symbol[subjectHits(distPeaks)]\n",
    "  \n",
    "  promoters <- extendGR(resize(geneAnnotation$genes, 1, \"start\"), upstream = promoterRegion[1], downstream = promoterRegion[2])\n",
    "  op <- overlapsAny(peakSummits, promoters, ignore.strand = TRUE)\n",
    "  og <- overlapsAny(peakSummits, geneAnnotation$genes, ignore.strand = TRUE)\n",
    "  oe <- overlapsAny(peakSummits, geneAnnotation$exons, ignore.strand = TRUE)\n",
    "  type <- rep(\"Distal\", length(peaks))\n",
    "  type[which(og & oe)] <- \"Exonic\"\n",
    "  type[which(og & !oe)] <- \"Intronic\"\n",
    "  type[which(op)] <- \"Promoter\"\n",
    "  mcols(peaks)$peakType <- type\n",
    "  \n",
    "  #First Lets Get Distance to Nearest TSS's\n",
    "  distTSS <- distanceToNearest(peakSummits, resize(geneAnnotation$TSS, 1, \"start\"), ignore.strand = TRUE)\n",
    "  mcols(peaks)$distToTSS <- mcols(distTSS)$distance\n",
    "  if(\"symbol\" %in% colnames(mcols(geneAnnotation$TSS))){\n",
    "    mcols(peaks)$nearestTSS <- mcols(geneAnnotation$TSS)$symbol[subjectHits(distPeaks)]\n",
    "  }else if(\"tx_name\" %in% colnames(mcols(geneAnnotation$TSS))){\n",
    "    mcols(peaks)$nearestTSS <- mcols(geneAnnotation$TSS)$tx_name[subjectHits(distPeaks)]\n",
    "  }\n",
    "  \n",
    "  #Get NucleoTide Content\n",
    "  nucFreq <- BSgenome::alphabetFrequency(getSeq(BSgenome, peaks))\n",
    "  mcols(peaks)$GC <- round(rowSums(nucFreq[,c(\"G\",\"C\")]) / rowSums(nucFreq),4)\n",
    "  mcols(peaks)$N <- round(nucFreq[,c(\"N\")] / rowSums(nucFreq),4)\n",
    "  peaks\n",
    "  \n",
    "}\n",
    "\n",
    "#Support function\n",
    "validGRanges <- function(gr = NULL){\n",
    "  stopifnot(!is.null(gr))\n",
    "  if(inherits(gr, \"GRanges\")){\n",
    "    return(gr)\n",
    "  }else{\n",
    "    stop(\"Error cannot validate genomic range!\")\n",
    "  }\n",
    "}"
   ]
  },
  {
   "cell_type": "markdown",
   "id": "3abfd81d-2666-4775-a89a-e527d05db903",
   "metadata": {},
   "source": [
    "## Obtain DAPs"
   ]
  },
  {
   "cell_type": "code",
   "execution_count": null,
   "id": "ffbc45ba-6fc9-4cc4-9e9a-666b63ca8de0",
   "metadata": {
    "scrolled": true,
    "tags": []
   },
   "outputs": [],
   "source": [
    "sen_age_markers_up <- lapply(celltypes, sen_age_marker_test_func, proj)"
   ]
  },
  {
   "cell_type": "code",
   "execution_count": null,
   "id": "f84ef833-2bf0-4b58-8aa2-1dcfd9e6639e",
   "metadata": {
    "scrolled": true,
    "tags": []
   },
   "outputs": [],
   "source": [
    "ped_age_markers_up <- lapply(celltypes, ped_age_marker_test_func, proj)"
   ]
  },
  {
   "cell_type": "code",
   "execution_count": null,
   "id": "19ec21fd-2054-41c8-9e81-212923c55064",
   "metadata": {
    "scrolled": true,
    "tags": []
   },
   "outputs": [],
   "source": [
    "cmv_pos_markers_up <- lapply(celltypes, cmv_pos_marker_test_func, proj)"
   ]
  },
  {
   "cell_type": "code",
   "execution_count": null,
   "id": "9ac46ed2-6049-4460-a45d-1f88d7b25bce",
   "metadata": {
    "scrolled": true,
    "tags": []
   },
   "outputs": [],
   "source": [
    "cmv_neg_markers_up <- lapply(celltypes, cmv_neg_marker_test_func, proj)"
   ]
  },
  {
   "cell_type": "markdown",
   "id": "463b7d7b-87f2-41ba-9ebf-928244bdc589",
   "metadata": {
    "toc-hr-collapsed": true
   },
   "source": [
    "## Save Marker Test"
   ]
  },
  {
   "cell_type": "code",
   "execution_count": null,
   "id": "64574888-8bbd-47d0-a19b-c6267e27be04",
   "metadata": {},
   "outputs": [],
   "source": [
    "saveRDS(sen_age_markers_up, file = '../02_Gating_Subsets/sen_age_markers_up.rds')\n",
    "saveRDS(ped_age_markers_up, file = '../02_Gating_Subsets/ped_age_markers_up.rds')\n",
    "saveRDS(cmv_pos_markers_up, file = '../02_Gating_Subsets/cmv_pos_markers_up.rds')\n",
    "saveRDS(cmv_neg_markers_up, file = '../02_Gating_Subsets/cmv_neg_markers_up.rds')"
   ]
  },
  {
   "cell_type": "code",
   "execution_count": null,
   "id": "f50ee9a5-29f9-4598-85b0-92f06cdce3da",
   "metadata": {},
   "outputs": [],
   "source": [
    "sen_age_markers_up <- readRDS(file = '../02_Gating_Subsets/sen_age_markers_up.rds')\n",
    "ped_age_markers_up <- readRDS(file = '../02_Gating_Subsets/ped_age_markers_up.rds')\n",
    "cmv_pos_markers_up <- readRDS(file = '../02_Gating_Subsets/cmv_pos_markers_up.rds')\n",
    "cmv_neg_markers_up <- readRDS(file = '../02_Gating_Subsets/cmv_neg_markers_up.rds')"
   ]
  },
  {
   "cell_type": "markdown",
   "id": "b04091dc-d61f-45b3-8ccd-b57d174128aa",
   "metadata": {},
   "source": [
    "## Annotate Peaks"
   ]
  },
  {
   "cell_type": "markdown",
   "id": "39876915-9840-406c-b418-7bfaf8d9d068",
   "metadata": {},
   "source": [
    "Let's look at peaks for pediatric, senior, cmv pos, cmv neg at log2FC 0.5 & save those for plotting in the other notebook"
   ]
  },
  {
   "cell_type": "code",
   "execution_count": null,
   "id": "b0322425-9fd4-44cf-97a9-33ed29496ca2",
   "metadata": {},
   "outputs": [],
   "source": [
    "peak_loc_func <- function(markerTest_output){\n",
    "    gr <- getMarkers(markerTest_output, cutOff = \"FDR <= 0.1 & Log2FC >= 0.5\", returnGR = TRUE)\n",
    "    fa <- fastAnnoPeaks(peaks = gr[[1]])\n",
    "    df <- as.data.frame(table(summarize(fa, peakType)))\n",
    "    return(df)\n",
    "    }"
   ]
  },
  {
   "cell_type": "code",
   "execution_count": null,
   "id": "5be7c745-400b-42d8-abf3-0fc0972c6c98",
   "metadata": {
    "scrolled": true,
    "tags": []
   },
   "outputs": [],
   "source": [
    "sen_loc_df <- lapply(sen_age_markers_up,peak_loc_func)"
   ]
  },
  {
   "cell_type": "code",
   "execution_count": null,
   "id": "a101d2b6-c90d-4136-9e3f-1b3930b9e616",
   "metadata": {
    "scrolled": true,
    "tags": []
   },
   "outputs": [],
   "source": [
    "ped_loc_df <- lapply(ped_age_markers_up,peak_loc_func)"
   ]
  },
  {
   "cell_type": "code",
   "execution_count": null,
   "id": "37e1d41a-58c0-41eb-bed7-72d3d05c185b",
   "metadata": {
    "scrolled": true,
    "tags": []
   },
   "outputs": [],
   "source": [
    "cmvpos_loc_df <- lapply(cmv_pos_markers_up,peak_loc_func)"
   ]
  },
  {
   "cell_type": "code",
   "execution_count": null,
   "id": "4bf14907-9207-48f2-a0ec-af9458d9e1aa",
   "metadata": {
    "scrolled": true,
    "tags": []
   },
   "outputs": [],
   "source": [
    "cmvneg_loc_df <- lapply(cmv_neg_markers_up,peak_loc_func)"
   ]
  },
  {
   "cell_type": "code",
   "execution_count": null,
   "id": "3ea1c987-8c1d-40d7-a5e8-31063dcbd1bf",
   "metadata": {},
   "outputs": [],
   "source": [
    "names(sen_loc_df) <- celltypes\n",
    "names(ped_loc_df) <- celltypes\n",
    "names(cmvpos_loc_df) <- celltypes\n",
    "names(cmvneg_loc_df) <- celltypes"
   ]
  },
  {
   "cell_type": "code",
   "execution_count": null,
   "id": "5a120113-5e45-45d1-bc07-26fcdfdda2f4",
   "metadata": {},
   "outputs": [],
   "source": [
    "saveRDS(sen_loc_df, file = '../02_Gating_Subsets/sen_loc_df.rds')\n",
    "saveRDS(ped_loc_df, file = '../02_Gating_Subsets/ped_loc_df.rds')\n",
    "saveRDS(cmvpos_loc_df, file = '../02_Gating_Subsets/cmvpos_loc_df.rds')\n",
    "saveRDS(cmvneg_loc_df, file = '../02_Gating_Subsets/cmvneg_loc_df.rds')"
   ]
  },
  {
   "cell_type": "code",
   "execution_count": null,
   "id": "0163c0f7-5280-4874-ad86-b7e331bdc06e",
   "metadata": {},
   "outputs": [],
   "source": [
    "sen_perc <- lapply(sen_loc_df, function(x){\n",
    "    freq_sum <- sum(x$Freq)\n",
    "    x$perc <- x$Freq / freq_sum\n",
    "    return(x)\n",
    "    })\n",
    "# sen_perc\n",
    "ped_perc <- lapply(ped_loc_df, function(x){\n",
    "    freq_sum <- sum(x$Freq)\n",
    "    x$perc <- x$Freq / freq_sum\n",
    "    return(x)\n",
    "    })\n",
    "# ped_perc"
   ]
  },
  {
   "cell_type": "code",
   "execution_count": null,
   "id": "571db3dd-62c1-4184-b640-2c90d7c39c83",
   "metadata": {},
   "outputs": [],
   "source": [
    "sen_perc[[1]]"
   ]
  },
  {
   "cell_type": "code",
   "execution_count": null,
   "id": "5f3c6598-0338-43fc-b61b-965922d95e80",
   "metadata": {},
   "outputs": [],
   "source": [
    "sen_distal <- lapply(sen_perc, function(x){\n",
    "                        new_subset <- x[x$Var1 == 'Distal',]\n",
    "                        return(new_subset$perc)\n",
    "                        })\n",
    "sen_exonic <- lapply(sen_perc, function(x){\n",
    "                        new_subset <- x[x$Var1 == 'Exonic',]\n",
    "                        return(new_subset$perc)\n",
    "                        })\n",
    "sen_intronic <- lapply(sen_perc, function(x){\n",
    "                        new_subset <- x[x$Var1 == 'Intronic',]\n",
    "                        return(new_subset$perc)\n",
    "                        })\n",
    "sen_promoter <- lapply(sen_perc, function(x){\n",
    "                        new_subset <- x[x$Var1 == 'Promoter',]\n",
    "                        return(new_subset$perc)\n",
    "                        })"
   ]
  },
  {
   "cell_type": "code",
   "execution_count": null,
   "id": "f208ccf3-12b6-4e1c-a7e9-36cbdbe6f523",
   "metadata": {},
   "outputs": [],
   "source": [
    "sen_df_perc <- data.frame(distal = unlist(sen_distal),\n",
    "                          exonic = unlist(sen_exonic),\n",
    "                          intronic = unlist(sen_intronic),\n",
    "                          promoter = unlist(sen_promoter))\n",
    "sen_df_perc$age <- rep('Senior', length(rownames(sen_df_perc)))\n",
    "sen_df_perc$celltype <- rownames(sen_df_perc)\n",
    "sen_df_perc"
   ]
  },
  {
   "cell_type": "code",
   "execution_count": null,
   "id": "9f7bf8dd-a3c7-425d-b272-a8527a433ef2",
   "metadata": {},
   "outputs": [],
   "source": []
  },
  {
   "cell_type": "code",
   "execution_count": null,
   "id": "3da3382f-12e5-4f9b-a4d7-15945d0ab41e",
   "metadata": {},
   "outputs": [],
   "source": [
    "ped_distal <- lapply(ped_perc, function(x){\n",
    "                        new_subset <- x[x$Var1 == 'Distal',]\n",
    "                        return(new_subset$perc)\n",
    "                        })\n",
    "ped_exonic <- lapply(ped_perc, function(x){\n",
    "                        new_subset <- x[x$Var1 == 'Exonic',]\n",
    "                        return(new_subset$perc)\n",
    "                        })\n",
    "ped_intronic <- lapply(ped_perc, function(x){\n",
    "                        new_subset <- x[x$Var1 == 'Intronic',]\n",
    "                        return(new_subset$perc)\n",
    "                        })\n",
    "ped_promoter <- lapply(ped_perc, function(x){\n",
    "                        new_subset <- x[x$Var1 == 'Promoter',]\n",
    "                        return(new_subset$perc)\n",
    "                        })"
   ]
  },
  {
   "cell_type": "code",
   "execution_count": null,
   "id": "8ae1eadd-415e-4ed5-8b0f-3b21d7d2ff44",
   "metadata": {},
   "outputs": [],
   "source": [
    "ped_df_perc <- data.frame(distal = unlist(ped_distal),\n",
    "                          exonic = unlist(ped_exonic),\n",
    "                          intronic = unlist(ped_intronic),\n",
    "                          promoter = unlist(ped_promoter))\n",
    "ped_df_perc$age <- rep('Pediatric', length(rownames(ped_df_perc)))\n",
    "ped_df_perc$celltype <- rownames(ped_df_perc)\n",
    "ped_df_perc"
   ]
  },
  {
   "cell_type": "code",
   "execution_count": null,
   "id": "16ab9508-da3c-41f2-afde-6770257794ef",
   "metadata": {},
   "outputs": [],
   "source": [
    "combined_df_perc <- rbind(sen_df_perc, ped_df_perc)"
   ]
  },
  {
   "cell_type": "code",
   "execution_count": null,
   "id": "e71551da-51e4-45c6-9a4b-1fed685c347c",
   "metadata": {},
   "outputs": [],
   "source": [
    "library(tidyr)"
   ]
  },
  {
   "cell_type": "code",
   "execution_count": null,
   "id": "6b124f4b-96a9-4150-93ca-9971997341fe",
   "metadata": {},
   "outputs": [],
   "source": [
    "perc_tall <- gather(data = combined_df_perc, key = comparison, value = perc, `distal`:`promoter`, factor_key = TRUE)\n",
    "head(perc_tall)"
   ]
  },
  {
   "cell_type": "code",
   "execution_count": null,
   "id": "fd0e6344-950f-46e6-923a-99f46e8f4821",
   "metadata": {},
   "outputs": [],
   "source": [
    "perc_tall$age_celltype <- paste0(perc_tall$celltype,\"_\",perc_tall$age)"
   ]
  },
  {
   "cell_type": "code",
   "execution_count": null,
   "id": "1b4edfa9-5313-4ad8-974a-31a7212fd245",
   "metadata": {},
   "outputs": [],
   "source": [
    "options(repr.plot.width = 20, repr.plot.height = 6)\n",
    "ggplot(perc_tall, aes(fill=comparison, y=perc, x=age_celltype)) + \n",
    "    geom_bar(position=\"fill\", stat=\"identity\") + theme(axis.text.x = element_text(angle = 90, vjust = 0.5, hjust=1))"
   ]
  },
  {
   "cell_type": "code",
   "execution_count": null,
   "id": "37dfb116-bf97-4746-b954-c4e42327212b",
   "metadata": {},
   "outputs": [],
   "source": [
    "perc_tall_subset <- subset(perc_tall, age_celltype %in% c('CD8 Naive_Pediatric','CD8 TEMRA_Pediatric','CD8 Naive_Senior','CD8 TEMRA_Senior'))\n",
    "# perc_tall_subset"
   ]
  },
  {
   "cell_type": "code",
   "execution_count": null,
   "id": "64f45c22-6ab2-40fb-92ba-3742babd5210",
   "metadata": {},
   "outputs": [],
   "source": [
    "options(repr.plot.width = 8, repr.plot.height = 6)\n",
    "ggplot(perc_tall_subset, aes(fill=comparison, y=perc, x=age_celltype)) +  \n",
    "    geom_bar(position=\"fill\", stat=\"identity\") + geom_text(aes(label=round(perc,digits = 3)),position=position_stack(vjust = 0.5)) +\n",
    "    theme(axis.text.x = element_text(angle = 90, vjust = 0.5, hjust=1))"
   ]
  },
  {
   "cell_type": "code",
   "execution_count": null,
   "id": "e792bef7-eadd-484f-a315-9ae2ffc3f496",
   "metadata": {},
   "outputs": [],
   "source": [
    "peak_loc_func <- function(markerTest_output){\n",
    "    gr <- getMarkers(markerTest_output, cutOff = \"FDR <= 0.1 & Log2FC >= 1\", returnGR = TRUE)\n",
    "    fa <- fastAnnoPeaks(peaks = gr[[1]])\n",
    "    df <- as.data.frame(table(summarize(fa, peakType)))\n",
    "    return(df)\n",
    "    }"
   ]
  },
  {
   "cell_type": "code",
   "execution_count": null,
   "id": "c2104ee2-8f2f-43ce-9219-1f360f1aef92",
   "metadata": {
    "scrolled": true,
    "tags": []
   },
   "outputs": [],
   "source": [
    "sen_loc_df <- lapply(sen_age_markers_up,peak_loc_func)"
   ]
  },
  {
   "cell_type": "code",
   "execution_count": null,
   "id": "fda0eea4-b672-4c3b-803a-92ad3acd4dcf",
   "metadata": {
    "scrolled": true,
    "tags": []
   },
   "outputs": [],
   "source": [
    "ped_loc_df <- lapply(ped_age_markers_up,peak_loc_func)"
   ]
  },
  {
   "cell_type": "code",
   "execution_count": null,
   "id": "bcc80e2f-bb47-4427-9aa8-6f04176bd5a4",
   "metadata": {},
   "outputs": [],
   "source": [
    "names(sen_loc_df) <- celltypes\n",
    "names(ped_loc_df) <- celltypes"
   ]
  },
  {
   "cell_type": "code",
   "execution_count": null,
   "id": "65316c7e-b005-4125-8343-4e0392b9c439",
   "metadata": {},
   "outputs": [],
   "source": [
    "head(sen_loc_df)"
   ]
  },
  {
   "cell_type": "code",
   "execution_count": null,
   "id": "5cd1c6b1-7de3-422e-a68c-32e1d9ec3bfd",
   "metadata": {},
   "outputs": [],
   "source": [
    "sen_perc <- lapply(sen_loc_df, function(x){\n",
    "    freq_sum <- sum(x$Freq)\n",
    "    x$perc <- x$Freq / freq_sum\n",
    "    return(x)\n",
    "    })\n",
    "# sen_perc\n",
    "ped_perc <- lapply(ped_loc_df, function(x){\n",
    "    freq_sum <- sum(x$Freq)\n",
    "    x$perc <- x$Freq / freq_sum\n",
    "    return(x)\n",
    "    })\n",
    "# ped_perc"
   ]
  },
  {
   "cell_type": "code",
   "execution_count": null,
   "id": "bc53c494-af07-497f-b0f8-ce47caeaa7ea",
   "metadata": {},
   "outputs": [],
   "source": [
    "sen_perc[[1]]"
   ]
  },
  {
   "cell_type": "code",
   "execution_count": null,
   "id": "1abd977f-c4ae-4a81-bc1b-1bb0c5bb424f",
   "metadata": {},
   "outputs": [],
   "source": [
    "sen_distal <- lapply(sen_perc, function(x){\n",
    "                        new_subset <- x[x$Var1 == 'Distal',]\n",
    "                        return(new_subset$perc)\n",
    "                        })\n",
    "sen_exonic <- lapply(sen_perc, function(x){\n",
    "                        new_subset <- x[x$Var1 == 'Exonic',]\n",
    "                        return(new_subset$perc)\n",
    "                        })\n",
    "sen_intronic <- lapply(sen_perc, function(x){\n",
    "                        new_subset <- x[x$Var1 == 'Intronic',]\n",
    "                        return(new_subset$perc)\n",
    "                        })\n",
    "sen_promoter <- lapply(sen_perc, function(x){\n",
    "                        new_subset <- x[x$Var1 == 'Promoter',]\n",
    "                        return(new_subset$perc)\n",
    "                        })"
   ]
  },
  {
   "cell_type": "code",
   "execution_count": null,
   "id": "30d6ba9a-d164-48c3-a1b7-5dce0a0413aa",
   "metadata": {},
   "outputs": [],
   "source": [
    "sen_df_perc <- data.frame(distal = unlist(sen_distal),\n",
    "                          exonic = unlist(sen_exonic),\n",
    "                          intronic = unlist(sen_intronic),\n",
    "                          promoter = unlist(sen_promoter))\n",
    "sen_df_perc$age <- rep('Senior', length(rownames(sen_df_perc)))\n",
    "sen_df_perc$celltype <- rownames(sen_df_perc)\n",
    "sen_df_perc"
   ]
  },
  {
   "cell_type": "code",
   "execution_count": null,
   "id": "72ba4e61-7f86-44a5-8c47-d195135d494a",
   "metadata": {},
   "outputs": [],
   "source": [
    "ped_distal <- lapply(ped_perc, function(x){\n",
    "                        new_subset <- x[x$Var1 == 'Distal',]\n",
    "                        return(new_subset$perc)\n",
    "                        })\n",
    "ped_exonic <- lapply(ped_perc, function(x){\n",
    "                        new_subset <- x[x$Var1 == 'Exonic',]\n",
    "                        return(new_subset$perc)\n",
    "                        })\n",
    "ped_intronic <- lapply(ped_perc, function(x){\n",
    "                        new_subset <- x[x$Var1 == 'Intronic',]\n",
    "                        return(new_subset$perc)\n",
    "                        })\n",
    "ped_promoter <- lapply(ped_perc, function(x){\n",
    "                        new_subset <- x[x$Var1 == 'Promoter',]\n",
    "                        return(new_subset$perc)\n",
    "                        })"
   ]
  },
  {
   "cell_type": "code",
   "execution_count": null,
   "id": "9a31311f-4302-497d-88ee-9645e52f152b",
   "metadata": {},
   "outputs": [],
   "source": [
    "ped_df_perc <- data.frame(distal = unlist(ped_distal),\n",
    "                          exonic = unlist(ped_exonic),\n",
    "                          intronic = unlist(ped_intronic),\n",
    "                          promoter = unlist(ped_promoter))\n",
    "ped_df_perc$age <- rep('Pediatric', length(rownames(ped_df_perc)))\n",
    "ped_df_perc$celltype <- rownames(ped_df_perc)\n",
    "ped_df_perc"
   ]
  },
  {
   "cell_type": "code",
   "execution_count": null,
   "id": "fd9a1b57-c7d7-4579-ac7b-c43eb7097bb4",
   "metadata": {},
   "outputs": [],
   "source": [
    "combined_df_perc <- rbind(sen_df_perc, ped_df_perc)"
   ]
  },
  {
   "cell_type": "code",
   "execution_count": null,
   "id": "6cde1f2a-81c1-4e3e-a5ed-5045a90dc4d1",
   "metadata": {},
   "outputs": [],
   "source": [
    "library(tidyr)"
   ]
  },
  {
   "cell_type": "code",
   "execution_count": null,
   "id": "d71f871c-4ec7-4cba-9b37-34e34220d8db",
   "metadata": {},
   "outputs": [],
   "source": [
    "perc_tall <- gather(data = combined_df_perc, key = comparison, value = perc, `distal`:`promoter`, factor_key = TRUE)\n",
    "head(perc_tall)"
   ]
  },
  {
   "cell_type": "code",
   "execution_count": null,
   "id": "851e4658-e92a-44e9-97b3-fb7bddf53b8b",
   "metadata": {},
   "outputs": [],
   "source": [
    "perc_tall$age_celltype <- paste0(perc_tall$celltype,\"_\",perc_tall$age)"
   ]
  },
  {
   "cell_type": "code",
   "execution_count": null,
   "id": "04f9e777-4e22-4730-95d6-0c072ac0dfd8",
   "metadata": {},
   "outputs": [],
   "source": [
    "options(repr.plot.width = 20, repr.plot.height = 6)\n",
    "ggplot(perc_tall, aes(fill=comparison, y=perc, x=age_celltype)) + \n",
    "    geom_bar(position=\"fill\", stat=\"identity\") + theme(axis.text.x = element_text(angle = 90, vjust = 0.5, hjust=1))"
   ]
  },
  {
   "cell_type": "code",
   "execution_count": null,
   "id": "b1183de1-cd25-4f3a-8959-6fa52891a396",
   "metadata": {},
   "outputs": [],
   "source": [
    "perc_tall_subset <- subset(perc_tall, age_celltype %in% c('CD8 Naive_Pediatric','CD8 TEMRA_Pediatric','CD8 Naive_Senior','CD8 TEMRA_Senior'))\n",
    "# perc_tall_subset"
   ]
  },
  {
   "cell_type": "code",
   "execution_count": null,
   "id": "951a4172-a8da-41d1-ab1f-1dde53ef30cc",
   "metadata": {},
   "outputs": [],
   "source": [
    "options(repr.plot.width = 8, repr.plot.height = 6)\n",
    "ggplot(perc_tall_subset, aes(fill=comparison, y=perc, x=age_celltype)) +  \n",
    "    geom_bar(position=\"fill\", stat=\"identity\") + geom_text(aes(label=round(perc,digits = 3)),position=position_stack(vjust = 0.5)) +\n",
    "    theme(axis.text.x = element_text(angle = 90, vjust = 0.5, hjust=1))"
   ]
  },
  {
   "cell_type": "markdown",
   "id": "5844c8d3-2254-4d12-bf82-e9f56a442180",
   "metadata": {},
   "source": [
    "# Motif Analysis per cell type"
   ]
  },
  {
   "cell_type": "markdown",
   "id": "b1cb1e97-75ea-4d83-993b-0e00d6c17e13",
   "metadata": {},
   "source": [
    "Extract motifs from the peak tests above, and find which motifs are enriched in majority of main populations"
   ]
  },
  {
   "cell_type": "code",
   "execution_count": null,
   "id": "b59b1168-a5d1-478f-88c6-9b0933e58c95",
   "metadata": {},
   "outputs": [],
   "source": [
    "proj <- addMotifAnnotations(ArchRProj = proj, motifSet = \"cisbp\", name = \"Motif\", force = TRUE)"
   ]
  },
  {
   "cell_type": "markdown",
   "id": "7246bcde-5a46-4c9a-a6ec-df113e9f316d",
   "metadata": {},
   "source": [
    "## Function"
   ]
  },
  {
   "cell_type": "code",
   "execution_count": null,
   "id": "8ff94bad-c5f5-497f-a881-ab48e23a59d7",
   "metadata": {},
   "outputs": [],
   "source": [
    "motif_up_func <- function(markerTest){\n",
    "    # get motifs up\n",
    "    motifsUp <- peakAnnoEnrichment(\n",
    "    seMarker = markerTest,\n",
    "    ArchRProj = proj,\n",
    "    peakAnnotation = \"Motif\",\n",
    "    cutOff = \"FDR <= 0.1 & Log2FC >= 0.5\"\n",
    "  )\n",
    "    \n",
    "    # create df of motifs and rank\n",
    "    df <- data.frame(TF = rownames(motifsUp), mlog10Padj = assay(motifsUp)[,1])\n",
    "    df <- df[order(df$mlog10Padj, decreasing = TRUE),]\n",
    "    df$rank <- seq_len(nrow(df))\n",
    "    \n",
    "    # return motif df\n",
    "    return(df)\n",
    "    }"
   ]
  },
  {
   "cell_type": "markdown",
   "id": "8f9a8e5c-68fb-4153-9af0-4c7825e37897",
   "metadata": {},
   "source": [
    "## Find Motifs"
   ]
  },
  {
   "cell_type": "code",
   "execution_count": null,
   "id": "9e0d16a5-e23d-48a5-906c-12f17a4db114",
   "metadata": {
    "scrolled": true,
    "tags": []
   },
   "outputs": [],
   "source": [
    "sen_motifs <- lapply(sen_age_markers_up, motif_up_func)"
   ]
  },
  {
   "cell_type": "code",
   "execution_count": null,
   "id": "ee777b4e-1ec7-4ec0-b5c3-55bdfd1f8142",
   "metadata": {
    "scrolled": true,
    "tags": []
   },
   "outputs": [],
   "source": [
    "ped_motifs <- lapply(ped_age_markers_up, motif_up_func)"
   ]
  },
  {
   "cell_type": "code",
   "execution_count": null,
   "id": "0cf56fe6-367f-48d7-ad52-de4381941efe",
   "metadata": {
    "scrolled": true,
    "tags": []
   },
   "outputs": [],
   "source": [
    "cmv_pos_motifs <- lapply(cmv_pos_markers_up, motif_up_func)"
   ]
  },
  {
   "cell_type": "code",
   "execution_count": null,
   "id": "8086ea11-9c17-48e6-ac8f-56c9944f6cc6",
   "metadata": {
    "scrolled": true,
    "tags": []
   },
   "outputs": [],
   "source": [
    "cmv_neg_motifs <- lapply(cmv_neg_markers_up, motif_up_func)"
   ]
  },
  {
   "cell_type": "markdown",
   "id": "2f6eec5b-345a-4605-b61f-b98a8ca2ab26",
   "metadata": {},
   "source": [
    "## Extract Significant Motifs"
   ]
  },
  {
   "cell_type": "code",
   "execution_count": null,
   "id": "e2643c65-c2a5-4137-a9f7-ea7821464531",
   "metadata": {},
   "outputs": [],
   "source": [
    "names(sen_motifs) <- celltypes\n",
    "names(ped_motifs) <- celltypes\n",
    "names(cmv_pos_motifs) <- celltypes\n",
    "names(cmv_neg_motifs) <- celltypes\n",
    "# head(sen_motifs)"
   ]
  },
  {
   "cell_type": "code",
   "execution_count": null,
   "id": "caa4878b-158d-4a89-b414-1e9c6d78fd77",
   "metadata": {},
   "outputs": [],
   "source": [
    "sen_motifs_subset <- list(sen_motifs[['CD8 Naive']],sen_motifs[['CD8 CM']],sen_motifs[['CD8 EM1']],sen_motifs[['CD8 EM2']],sen_motifs[['CD8 TEMRA']],\n",
    "                          sen_motifs[['CD4 Naive']],sen_motifs[['CD4 CM']],sen_motifs[['CD4 EM1']],sen_motifs[['CD4 EM2']],sen_motifs[['CD4 TEMRA']],\n",
    "                          sen_motifs[['Treg']])                         \n",
    "ped_motifs_subset <- list(ped_motifs[['CD8 Naive']],ped_motifs[['CD8 CM']],ped_motifs[['CD8 EM1']],ped_motifs[['CD8 EM2']],ped_motifs[['CD8 TEMRA']],\n",
    "                          ped_motifs[['CD4 Naive']],ped_motifs[['CD4 CM']],ped_motifs[['CD4 EM1']],ped_motifs[['CD4 EM2']],ped_motifs[['CD4 TEMRA']],\n",
    "                          ped_motifs[['Treg']])\n",
    "cmv_pos_motifs_subset <- list(cmv_pos_motifs[['CD8 Naive']],cmv_pos_motifs[['CD8 CM']],cmv_pos_motifs[['CD8 EM1']],cmv_pos_motifs[['CD8 EM2']],cmv_pos_motifs[['CD8 TEMRA']],\n",
    "                          cmv_pos_motifs[['CD4 Naive']],cmv_pos_motifs[['CD4 CM']],cmv_pos_motifs[['CD4 EM1']],cmv_pos_motifs[['CD4 EM2']],cmv_pos_motifs[['CD4 TEMRA']],\n",
    "                          cmv_pos_motifs[['Treg']])\n",
    "cmv_neg_motifs_subset <- list(cmv_neg_motifs[['CD8 Naive']],cmv_neg_motifs[['CD8 CM']],cmv_neg_motifs[['CD8 EM1']],cmv_neg_motifs[['CD8 EM2']],cmv_neg_motifs[['CD8 TEMRA']],\n",
    "                          cmv_neg_motifs[['CD4 Naive']],cmv_neg_motifs[['CD4 CM']],cmv_neg_motifs[['CD4 EM1']],cmv_neg_motifs[['CD4 EM2']],cmv_neg_motifs[['CD4 TEMRA']],\n",
    "                          cmv_neg_motifs[['Treg']])"
   ]
  },
  {
   "cell_type": "code",
   "execution_count": null,
   "id": "b695835f-1d3b-44e5-9957-a84144f1cc45",
   "metadata": {},
   "outputs": [],
   "source": [
    "trim_senior_motifs <- lapply(sen_motifs_subset, function(x){\n",
    "    trimmed_motifs <- subset(x, mlog10Padj > 5)\n",
    "    return(trimmed_motifs$TF)\n",
    "    })\n",
    "senior_motifs_unlist <- unlist(trim_senior_motifs)\n",
    "sen_motif_df <- as.data.frame(table(senior_motifs_unlist))\n",
    "sen_motif_df_top <- subset(sen_motif_df, Freq >= 6)\n",
    "sen_motif_df_top$senior_motifs_unlist"
   ]
  },
  {
   "cell_type": "code",
   "execution_count": null,
   "id": "3fe49032-e793-4795-b840-a0779334bbf6",
   "metadata": {},
   "outputs": [],
   "source": [
    "trim_ped_motifs <- lapply(ped_motifs_subset, function(x){\n",
    "    trimmed_motifs <- subset(x, mlog10Padj > 5)\n",
    "    return(trimmed_motifs$TF)\n",
    "    })\n",
    "ped_motifs_unlist <- unlist(trim_ped_motifs)\n",
    "ped_motif_df <- as.data.frame(table(ped_motifs_unlist))\n",
    "ped_motif_df_top <- subset(ped_motif_df, Freq >= 6)\n",
    "ped_motif_df_top$ped_motifs_unlist"
   ]
  },
  {
   "cell_type": "code",
   "execution_count": null,
   "id": "ef3029cc-37e1-4900-bbe4-049b83c00760",
   "metadata": {},
   "outputs": [],
   "source": [
    "trim_cmv_pos_motifs <- lapply(cmv_pos_motifs_subset, function(x){\n",
    "    trimmed_motifs <- subset(x, mlog10Padj > 5)\n",
    "    return(trimmed_motifs$TF)\n",
    "    })\n",
    "cmv_pos_motifs_unlist <- unlist(trim_cmv_pos_motifs)\n",
    "cmv_pos_motif_df <- as.data.frame(table(cmv_pos_motifs_unlist))\n",
    "# cmv_pos_motif_df\n",
    "# cmv_pos_motif_df_top <- subset(cmv_pos_motif_df, Freq >= 6)\n",
    "# cmv_pos_motif_df_top$cmv_pos_motifs_unlist"
   ]
  },
  {
   "cell_type": "code",
   "execution_count": null,
   "id": "975dbebc-59c3-448f-8359-94cf0811cfdd",
   "metadata": {},
   "outputs": [],
   "source": [
    "trim_cmv_neg_motifs <- lapply(cmv_neg_motifs_subset, function(x){\n",
    "    trimmed_motifs <- subset(x, mlog10Padj > 5)\n",
    "    return(trimmed_motifs$TF)\n",
    "    })\n",
    "cmv_neg_motifs_unlist <- unlist(trim_cmv_neg_motifs)\n",
    "cmv_neg_motif_df <- as.data.frame(table(cmv_neg_motifs_unlist))\n",
    "# cmv_neg_motif_df\n",
    "# cmv_pos_motif_df_top <- subset(cmv_pos_motif_df, Freq >= 6)\n",
    "# cmv_pos_motif_df_top$cmv_pos_motifs_unlist"
   ]
  },
  {
   "cell_type": "code",
   "execution_count": null,
   "id": "e5904273-0b26-4e29-a7e1-ffb1d279ba98",
   "metadata": {},
   "outputs": [],
   "source": [
    "saveRDS(trim_senior_motifs, file = '../02_Gating_Subsets/trim_senior_motifs_cisbp.rds')\n",
    "saveRDS(trim_ped_motifs, file = '../02_Gating_Subsets/trim_ped_motif_cisbp.rds')\n",
    "saveRDS(trim_cmv_pos_motifs, file = '../02_Gating_Subsets/trim_cmv_pos_motifs_cisbp.rds')\n",
    "saveRDS(trim_cmv_neg_motifs, file = '../02_Gating_Subsets/trim_cmv_neg_motifs_cisbp.rds')"
   ]
  },
  {
   "cell_type": "code",
   "execution_count": null,
   "id": "d391a744-d43e-4523-bc7c-304cd6d5043e",
   "metadata": {},
   "outputs": [],
   "source": [
    "saveRDS(sen_motifs, file = '../02_Gating_Subsets/sen_motifs_cisbp.rds')\n",
    "saveRDS(ped_motifs, file = '../02_Gating_Subsets/ped_motifs_cisbp.rds')"
   ]
  },
  {
   "cell_type": "markdown",
   "id": "f1e18d1b-a1f1-46fc-88c2-06dc3ec903ae",
   "metadata": {},
   "source": [
    "## Organize for plotting"
   ]
  },
  {
   "cell_type": "code",
   "execution_count": null,
   "id": "6e64587d-80f5-44d9-b00a-fce94507267f",
   "metadata": {},
   "outputs": [],
   "source": [
    "updated_celltype_list <- c('CD8 Naive','CD8 CM','CD8 EM1','CD8 EM2','CD8 TEMRA','CD4 Naive','CD4 CM','CD4 EM1','CD4 EM2','CD4 TEMRA','Treg')"
   ]
  },
  {
   "cell_type": "code",
   "execution_count": null,
   "id": "e6637f81-c012-4e85-a727-ff9a81e00c75",
   "metadata": {},
   "outputs": [],
   "source": [
    "names(sen_motifs_subset) <- updated_celltype_list\n",
    "names(ped_motifs_subset) <- updated_celltype_list"
   ]
  },
  {
   "cell_type": "code",
   "execution_count": null,
   "id": "1a87f0f9-0bcb-4d03-86e3-b242532ec78e",
   "metadata": {},
   "outputs": [],
   "source": [
    "# names(pediatric_motifs) <- paste0('Pediatric_',trim_celltype_list)\n",
    "names(ped_motifs) <- updated_celltype_list\n",
    "# head(pediatric_motifs)"
   ]
  },
  {
   "cell_type": "code",
   "execution_count": null,
   "id": "5202a2c1-ec51-4030-80d5-c93c0060e32a",
   "metadata": {},
   "outputs": [],
   "source": [
    "# names(senior_motifs) <- paste0('Senior_',trim_celltype_list)\n",
    "names(sen_motifs) <- updated_celltype_list"
   ]
  },
  {
   "cell_type": "code",
   "execution_count": null,
   "id": "63832b7e-a03e-4f8c-accc-b23100315695",
   "metadata": {},
   "outputs": [],
   "source": [
    "top_pediatric_motifs <- lapply(ped_motifs_subset, function(x){\n",
    "    trimmed_motifs <- subset(x, TF %in% ped_motif_df_top$ped_motifs_unlist)\n",
    "    return(trimmed_motifs)\n",
    "    })"
   ]
  },
  {
   "cell_type": "code",
   "execution_count": null,
   "id": "dd9072d0-daef-4731-9001-cbebf25b0749",
   "metadata": {},
   "outputs": [],
   "source": [
    "top_senior_motifs <- lapply(sen_motifs_subset, function(x){\n",
    "    trimmed_motifs <- subset(x, TF %in% sen_motif_df_top$senior_motifs_unlist)\n",
    "    return(trimmed_motifs)\n",
    "    })"
   ]
  },
  {
   "cell_type": "code",
   "execution_count": null,
   "id": "139c9a4d-eff5-43d8-82ae-f1ec54a9e638",
   "metadata": {
    "scrolled": true,
    "tags": []
   },
   "outputs": [],
   "source": [
    "library(purrr)"
   ]
  },
  {
   "cell_type": "code",
   "execution_count": null,
   "id": "80d143f7-8137-4ade-a045-056b926d2321",
   "metadata": {},
   "outputs": [],
   "source": [
    "ped_collapsed_tf <- map_df(top_pediatric_motifs, ~as.data.frame(.x), .id=\"id\")"
   ]
  },
  {
   "cell_type": "code",
   "execution_count": null,
   "id": "0963c754-3f35-4243-9c26-5f2a5e64013f",
   "metadata": {},
   "outputs": [],
   "source": [
    "sen_collapsed_tf <- map_df(top_senior_motifs, ~as.data.frame(.x), .id=\"id\")"
   ]
  },
  {
   "cell_type": "code",
   "execution_count": null,
   "id": "c6ca42b9-9642-44b2-9baa-0c37ca35b6e2",
   "metadata": {},
   "outputs": [],
   "source": [
    "ped_collapsed_tf$mlog10Padj <- (ped_collapsed_tf$mlog10Padj * -1)\n",
    "head(ped_collapsed_tf)"
   ]
  },
  {
   "cell_type": "code",
   "execution_count": null,
   "id": "cb9c1e53-da0e-4d7a-9b91-65a1c3d1e42a",
   "metadata": {},
   "outputs": [],
   "source": [
    "tf_bind <- rbind(ped_collapsed_tf,sen_collapsed_tf)\n",
    "head(tf_bind)"
   ]
  },
  {
   "cell_type": "code",
   "execution_count": null,
   "id": "a2c1516a-a2d0-4c9d-883e-88b842c40fa4",
   "metadata": {},
   "outputs": [],
   "source": [
    "min(tf_bind$mlog10Padj)\n",
    "max(tf_bind$mlog10Padj)"
   ]
  },
  {
   "cell_type": "code",
   "execution_count": null,
   "id": "9586f456-2b9b-4343-97e4-c2ec990c7947",
   "metadata": {},
   "outputs": [],
   "source": [
    "saveRDS(tf_bind, file = '../02_Gating_Subsets/ped_sen_motifs_cisbp.rds')"
   ]
  },
  {
   "cell_type": "markdown",
   "id": "a22dd783-63a6-4373-bb9b-877363bbd1ae",
   "metadata": {},
   "source": [
    "## Plot"
   ]
  },
  {
   "cell_type": "code",
   "execution_count": null,
   "id": "2c7f455a-0c13-4eb6-9343-7b48bb26e034",
   "metadata": {},
   "outputs": [],
   "source": [
    "options(repr.plot.width = 6, repr.plot.height = 10)\n",
    "ggplot(tf_bind, aes(x = id, y = reorder(TF,mlog10Padj), fill = mlog10Padj)) + geom_tile() + scale_fill_gradientn(colours = c('#2166ac','white','#b2182b'), \n",
    "                                                                                             values = scales::rescale(c(-30, -15, 0, 50, 200))) +  \n",
    "theme(axis.text.x = element_text(angle = 90, vjust = 0.5, hjust=1))\n",
    "# ggplot(ped_collapsed_tf, aes(x = id, y = TF, fill = mlog10Padj)) + geom_tile() + scale_fill_gradient(low = 'white', high = '#1b9e77') + \n",
    "# theme(axis.text.x = element_text(angle = 90, vjust = 0.5, hjust=1))\n",
    "# options(repr.plot.width = 10, repr.plot.height = 10)\n",
    "# ggplot(sen_collapsed_tf, aes(x = id, y = TF, fill = mlog10Padj)) + geom_tile() + scale_fill_gradient(low = 'white', high = '#d95f02') + \n",
    "# theme(axis.text.x = element_text(angle = 90, vjust = 0.5, hjust=1))"
   ]
  },
  {
   "cell_type": "markdown",
   "id": "0d64e306-25d8-4f46-8ce5-e0c263ca37dc",
   "metadata": {},
   "source": [
    "# Session Info"
   ]
  },
  {
   "cell_type": "code",
   "execution_count": null,
   "id": "0b1cedd1-ae2e-427b-bfad-fb92f5cfa6c9",
   "metadata": {},
   "outputs": [],
   "source": [
    "sessionInfo()"
   ]
  }
 ],
 "metadata": {
  "kernelspec": {
   "display_name": "R 4",
   "language": "R",
   "name": "ir"
  },
  "language_info": {
   "codemirror_mode": "r",
   "file_extension": ".r",
   "mimetype": "text/x-r-source",
   "name": "R",
   "pygments_lexer": "r",
   "version": "4.1.2"
  }
 },
 "nbformat": 4,
 "nbformat_minor": 5
}
