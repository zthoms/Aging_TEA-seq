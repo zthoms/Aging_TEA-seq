{
 "cells": [
  {
   "cell_type": "code",
   "execution_count": 1,
   "id": "9cb15b91-f8a3-42ed-b139-97d30e9a9f4b",
   "metadata": {},
   "outputs": [],
   "source": [
    "quiet_library <- function(...) {\n",
    "    suppressPackageStartupMessages(library(...))\n",
    "}\n",
    "quiet_library(Seurat)\n",
    "quiet_library(ggplot2)\n",
    "quiet_library(Matrix)\n",
    "quiet_library(H5weaver)\n",
    "quiet_library(dplyr)\n",
    "quiet_library(viridis)\n",
    "quiet_library(harmony)\n",
    "quiet_library(Nebulosa)\n",
    "quiet_library(stringr)"
   ]
  },
  {
   "cell_type": "markdown",
   "id": "863bc386-3d4f-415a-bda1-3ed5d5937547",
   "metadata": {},
   "source": [
    "# Pediatric Object Generation"
   ]
  },
  {
   "cell_type": "markdown",
   "id": "1692b625-4ed6-4818-9638-878e94c3fb7c",
   "metadata": {},
   "source": [
    "## Create Seurat Object"
   ]
  },
  {
   "cell_type": "code",
   "execution_count": 2,
   "id": "199cfba9-0313-499b-a922-185cdd95e8b7",
   "metadata": {},
   "outputs": [],
   "source": [
    "ped_kit_list <- c('PB00193','PB00809','PB00811','PB00833','PB00841','PB00842','PB00884',\n",
    "                  'PB00892','PB00910','PB00913','PB00914','PB00928','PB00927','PB02391',\n",
    "                  'PB02392','PB03223')"
   ]
  },
  {
   "cell_type": "code",
   "execution_count": 3,
   "id": "e7d99410-b466-4218-a67f-0d0890a8f207",
   "metadata": {},
   "outputs": [],
   "source": [
    "full_ped_h5_list <- list.files(path = 'cache/', pattern = '.h5$', full.names = TRUE, recursive = TRUE)"
   ]
  },
  {
   "cell_type": "code",
   "execution_count": 4,
   "id": "639057cb-cbdf-44c4-ad2b-d6b6f831e158",
   "metadata": {},
   "outputs": [
    {
     "data": {
      "text/html": [
       "16"
      ],
      "text/latex": [
       "16"
      ],
      "text/markdown": [
       "16"
      ],
      "text/plain": [
       "[1] 16"
      ]
     },
     "metadata": {},
     "output_type": "display_data"
    }
   ],
   "source": [
    "ped_h5_list <- lapply(ped_kit_list, function(x){\n",
    "                full_ped_h5_list[str_detect(full_ped_h5_list, x)]\n",
    "                })\n",
    "length(ped_h5_list)"
   ]
  },
  {
   "cell_type": "code",
   "execution_count": null,
   "id": "50e3da09-6d9e-4992-a059-36afa4ded2b8",
   "metadata": {
    "scrolled": true,
    "tags": []
   },
   "outputs": [
    {
     "name": "stderr",
     "output_type": "stream",
     "text": [
      "Warning message:\n",
      "“Non-unique features (rownames) present in the input matrix, making unique”\n",
      "Warning message:\n",
      "“Non-unique features (rownames) present in the input matrix, making unique”\n",
      "Warning message:\n",
      "“Non-unique features (rownames) present in the input matrix, making unique”\n",
      "Warning message:\n",
      "“Non-unique features (rownames) present in the input matrix, making unique”\n",
      "Warning message:\n",
      "“Non-unique features (rownames) present in the input matrix, making unique”\n",
      "Warning message:\n",
      "“Non-unique features (rownames) present in the input matrix, making unique”\n",
      "Warning message:\n",
      "“Non-unique features (rownames) present in the input matrix, making unique”\n",
      "Warning message:\n",
      "“Non-unique features (rownames) present in the input matrix, making unique”\n",
      "Warning message:\n",
      "“Non-unique features (rownames) present in the input matrix, making unique”\n",
      "Warning message:\n",
      "“Non-unique features (rownames) present in the input matrix, making unique”\n",
      "Warning message:\n",
      "“Non-unique features (rownames) present in the input matrix, making unique”\n",
      "Warning message:\n",
      "“Non-unique features (rownames) present in the input matrix, making unique”\n",
      "Warning message:\n",
      "“Non-unique features (rownames) present in the input matrix, making unique”\n",
      "Warning message:\n",
      "“Non-unique features (rownames) present in the input matrix, making unique”\n"
     ]
    }
   ],
   "source": [
    "so_list <- lapply(ped_h5_list, read_h5_seurat)"
   ]
  },
  {
   "cell_type": "code",
   "execution_count": 6,
   "id": "6becc0e9-a2b5-44f2-be28-5bb21afe4ef6",
   "metadata": {},
   "outputs": [],
   "source": [
    "so_merge <- Reduce(merge, so_list)"
   ]
  },
  {
   "cell_type": "code",
   "execution_count": 7,
   "id": "ae4886d7-d267-4ee7-8ea7-0953ef352ea5",
   "metadata": {},
   "outputs": [
    {
     "data": {
      "text/plain": [
       "\n",
       " PB00193-01  PB00809-01  PB00811-01  PB00833-01  PB00841-01  PB00842-01 \n",
       "      17521       22353       15838       18107       24319       21298 \n",
       " PB00884-01  PB00892-01  PB00910-01  PB00913-01  PB00914-01  PB00927-01 \n",
       "      15180       23578       18951       10687       20576       20528 \n",
       " PB00928-01 PB02391-001 PB02392-001 PB03223-001 \n",
       "      25075       18948       17365       19692 "
      ]
     },
     "metadata": {},
     "output_type": "display_data"
    }
   ],
   "source": [
    "table(so_merge$pbmc_sample_id)"
   ]
  },
  {
   "cell_type": "code",
   "execution_count": 9,
   "id": "71688ca4-4f00-4486-8b64-b43cb405321a",
   "metadata": {},
   "outputs": [],
   "source": [
    "ped_so <- so_merge"
   ]
  },
  {
   "cell_type": "code",
   "execution_count": 10,
   "id": "461a7905-eddf-4365-b0ff-75f02c30bb60",
   "metadata": {},
   "outputs": [],
   "source": [
    "rm(so_list)\n",
    "rm(so_merge)"
   ]
  },
  {
   "cell_type": "markdown",
   "id": "fd82f2c7-6d96-4e77-ab80-53e1fbb35059",
   "metadata": {},
   "source": [
    "## Normalization"
   ]
  },
  {
   "cell_type": "code",
   "execution_count": 11,
   "id": "c7b19e09-475c-4358-be20-7b1d0f1152f6",
   "metadata": {
    "scrolled": true,
    "tags": []
   },
   "outputs": [
    {
     "name": "stderr",
     "output_type": "stream",
     "text": [
      "Calculating cell attributes from input UMI matrix: log_umi\n",
      "\n",
      "Variance stabilizing transformation of count matrix of size 24304 by 310016\n",
      "\n",
      "Model formula is y ~ log_umi\n",
      "\n",
      "Get Negative Binomial regression parameters per gene\n",
      "\n",
      "Using 2000 genes, 5000 cells\n",
      "\n"
     ]
    },
    {
     "name": "stdout",
     "output_type": "stream",
     "text": [
      "  |======================================================================| 100%\n"
     ]
    },
    {
     "name": "stderr",
     "output_type": "stream",
     "text": [
      "There are 1 estimated thetas smaller than 1e-07 - will be set to 1e-07\n",
      "\n",
      "Found 93 outliers - those will be ignored in fitting/regularization step\n",
      "\n",
      "\n",
      "Skip calculation of full residual matrix\n",
      "\n",
      "Will not return corrected UMI because residual type is not set to 'pearson'\n",
      "\n",
      "Calculating gene attributes\n",
      "\n",
      "Wall clock passed: Time difference of 3.335454 mins\n",
      "\n",
      "Setting min_variance to:  -Inf\n",
      "\n",
      "Calculating variance for residuals of type pearson for 24304 genes\n",
      "\n"
     ]
    },
    {
     "name": "stdout",
     "output_type": "stream",
     "text": [
      "  |======================================================================| 100%\n"
     ]
    },
    {
     "name": "stderr",
     "output_type": "stream",
     "text": [
      "Determine variable features\n",
      "\n",
      "Setting min_variance to:  -Inf\n",
      "\n",
      "Calculating residuals of type pearson for 3000 genes\n",
      "\n"
     ]
    },
    {
     "name": "stdout",
     "output_type": "stream",
     "text": [
      "  |======================================================================| 100%\n"
     ]
    },
    {
     "name": "stderr",
     "output_type": "stream",
     "text": [
      "Computing corrected UMI count matrix\n",
      "\n"
     ]
    },
    {
     "name": "stdout",
     "output_type": "stream",
     "text": [
      "  |======================================================================| 100%\n"
     ]
    },
    {
     "name": "stderr",
     "output_type": "stream",
     "text": [
      "Place corrected count matrix in counts slot\n",
      "\n",
      "Centering data matrix\n",
      "\n",
      "Set default assay to SCT\n",
      "\n",
      "PC_ 1 \n",
      "Positive:  GNLY, IGKC, NKG7, CCL5, IGHM, IL7R, IGLC2, RPS12, LTB, IL32 \n",
      "\t   MALAT1, GZMA, RPS27, TRBC2, RPS27A, RPL10, CST7, CD3D, IGLC3, TRBC1 \n",
      "\t   GZMB, CD3G, RPL13, CD3E, KLRB1, TRAC, RPL30, FGFBP2, ETS1, LDHB \n",
      "Negative:  S100A9, S100A8, LYZ, CST3, FCN1, CTSS, VCAN, MNDA, S100A12, TYROBP \n",
      "\t   FOS, S100A6, FTL, AIF1, S100A4, LST1, CD14, AC020656.1, S100A11, NEAT1 \n",
      "\t   FTH1, LGALS1, FGL2, IL1B, PSAP, CSTA, CEBPD, MS4A6A, CYBB, TYMP \n",
      "PC_ 2 \n",
      "Positive:  HBB, HBA2, HBA1, HBD, HBM, AHSP, ALAS2, CA1, SLC25A37, SNCA \n",
      "\t   IFI27, SLC4A1, SLC25A39, SELENBP1, GYPB, UBB, IFIT1B, PDZK1IP1, HBG1, BLVRB \n",
      "\t   GMPR, EPB42, HBQ1, MYL4, GYPA, DMTN, HBG2, LGALS3, FAM210B, BNIP3L \n",
      "Negative:  GNLY, IGKC, NKG7, MALAT1, HLA-DRA, CD74, IGHM, IGLC2, B2M, RPL10 \n",
      "\t   HLA-DPB1, RPL13, HLA-DPA1, RPS12, EEF1A1, MT-ND3, RPS18, CCL5, MT-CO3, RPS27A \n",
      "\t   GZMA, MT-ATP6, IGLC3, GZMB, RPL30, MT-CYB, MS4A1, CD79A, MT-CO1, RPS27 \n",
      "PC_ 3 \n",
      "Positive:  GNLY, NKG7, CCL5, GZMA, GZMB, CST7, FGFBP2, GZMH, PRF1, KLRD1 \n",
      "\t   CCL4, SPON2, HOPX, CTSW, CLIC3, KLRF1, TRDC, KLRB1, FCGR3A, S100A4 \n",
      "\t   TYROBP, HCST, EFHD2, B2M, FCER1G, CD247, IFITM2, KLRC1, GZMM, XCL2 \n",
      "Negative:  IGKC, IGHM, HLA-DRA, IGLC2, CD74, IGLC3, CD79A, HLA-DRB1, HLA-DPA1, TCL1A \n",
      "\t   HLA-DPB1, MS4A1, IGHD, HLA-DQA1, CD79B, HLA-DQB1, BANK1, RALGPS2, JCHAIN, CD37 \n",
      "\t   VPREB3, MEF2C, LTB, HLA-DRB5, LINC00926, TNFRSF13C, HLA-DMA, RPS8, FCER2, RPS12 \n",
      "PC_ 4 \n",
      "Positive:  S100A9, S100A8, GNLY, HBA2, HBA1, HBB, RPS12, LYZ, MALAT1, RPL10 \n",
      "\t   NKG7, EEF1A1, IL7R, RPL13, RPL32, RPL30, RPL34, TPT1, RPS14, RPS27A \n",
      "\t   RPS27, RPLP1, RPL41, RPS3A, RPS15A, RPS8, RPS18, RPS28, RPL11, RPL39 \n",
      "Negative:  PPBP, NRGN, PF4, GNG11, TUBB1, CAVIN2, GP9, CLU, ACRBP, CMTM5 \n",
      "\t   TMEM40, TREML1, PRKAR2B, RGS18, HIST1H2AC, PTCRA, TSC22D1, SPARC, AC147651.1, MYL9 \n",
      "\t   CTTN, C2orf88, MAP3K7CL, CLEC1B, ITGA2B, LGALSL, CLDN5, CCL5, AP001189.1, PDGFA \n",
      "PC_ 5 \n",
      "Positive:  IL7R, RPS12, LDHB, TPT1, TRAC, PPBP, RPL32, CD3D, EEF1A1, S100A8 \n",
      "\t   RPL34, RPL30, NRGN, RPS14, CD3G, S100A9, PF4, RPS3A, CD3E, TRBC2 \n",
      "\t   RPL13, TCF7, NOSIP, TUBB1, RPL10, CAVIN2, LEF1, RGS10, RPS15A, GNG11 \n",
      "Negative:  IGKC, GNLY, HLA-DRA, IGHM, CD74, NKG7, IGLC2, IGLC3, HLA-DPA1, HLA-DRB1 \n",
      "\t   HLA-DPB1, CD79A, TCL1A, MS4A1, GZMB, IGHD, HLA-DQA1, CCL5, GZMA, CD79B \n",
      "\t   FGFBP2, HLA-DQB1, CST7, JCHAIN, BANK1, CCL4, RALGPS2, PRF1, SPON2, HLA-DRB5 \n",
      "\n"
     ]
    }
   ],
   "source": [
    "ped_so <- suppressWarnings(SCTransform(ped_so, conserve.memory = TRUE)) %>% RunPCA()"
   ]
  },
  {
   "cell_type": "markdown",
   "id": "52442592-e752-42b8-b49f-3b6d154fba73",
   "metadata": {},
   "source": [
    "## Label Transfer"
   ]
  },
  {
   "cell_type": "code",
   "execution_count": 12,
   "id": "abfde373-b6d3-4d99-88ed-5d063d748596",
   "metadata": {},
   "outputs": [
    {
     "name": "stderr",
     "output_type": "stream",
     "text": [
      "Registered S3 method overwritten by 'SeuratDisk':\n",
      "  method            from  \n",
      "  as.sparse.H5Group Seurat\n",
      "\n"
     ]
    }
   ],
   "source": [
    "library(SeuratDisk)"
   ]
  },
  {
   "cell_type": "code",
   "execution_count": 13,
   "id": "304c2432-634c-4b6f-b605-5dca8892bdee",
   "metadata": {
    "scrolled": true,
    "tags": []
   },
   "outputs": [
    {
     "name": "stderr",
     "output_type": "stream",
     "text": [
      "Validating h5Seurat file\n",
      "\n",
      "Initializing ADT with data\n",
      "\n",
      "Adding counts for ADT\n",
      "\n",
      "Adding variable feature information for ADT\n",
      "\n",
      "Adding miscellaneous information for ADT\n",
      "\n",
      "Initializing SCT with data\n",
      "\n",
      "Adding counts for SCT\n",
      "\n",
      "Adding variable feature information for SCT\n",
      "\n",
      "Adding miscellaneous information for SCT\n",
      "\n",
      "Adding reduction apca\n",
      "\n",
      "Adding cell embeddings for apca\n",
      "\n",
      "Adding feature loadings for apca\n",
      "\n",
      "Adding miscellaneous information for apca\n",
      "\n",
      "Adding reduction aumap\n",
      "\n",
      "Adding cell embeddings for aumap\n",
      "\n",
      "Adding miscellaneous information for aumap\n",
      "\n",
      "Adding reduction pca\n",
      "\n",
      "Adding cell embeddings for pca\n",
      "\n",
      "Adding feature loadings for pca\n",
      "\n",
      "Adding miscellaneous information for pca\n",
      "\n",
      "Adding reduction spca\n",
      "\n",
      "Adding cell embeddings for spca\n",
      "\n",
      "Adding feature loadings for spca\n",
      "\n",
      "Adding miscellaneous information for spca\n",
      "\n",
      "Adding reduction umap\n",
      "\n",
      "Adding cell embeddings for umap\n",
      "\n",
      "Adding miscellaneous information for umap\n",
      "\n",
      "Adding reduction wnn.umap\n",
      "\n",
      "Adding cell embeddings for wnn.umap\n",
      "\n",
      "Adding miscellaneous information for wnn.umap\n",
      "\n",
      "Adding graph wknn\n",
      "\n",
      "Adding graph wsnn\n",
      "\n",
      "Adding command information\n",
      "\n",
      "Adding cell-level metadata\n",
      "\n",
      "Adding miscellaneous information\n",
      "\n",
      "Adding tool-specific results\n",
      "\n"
     ]
    }
   ],
   "source": [
    "ref <- LoadH5Seurat('pbmc_multimodal.h5seurat')"
   ]
  },
  {
   "cell_type": "code",
   "execution_count": 14,
   "id": "525e69db-7fa4-4f0d-b018-91e6a4f729a9",
   "metadata": {
    "scrolled": true,
    "tags": []
   },
   "outputs": [
    {
     "name": "stderr",
     "output_type": "stream",
     "text": [
      "Normalizing query using reference SCT model\n",
      "\n",
      "Finding anchors\n",
      "\n",
      "\tFound 117025 anchors\n",
      "\n",
      "Finding integration vectors\n",
      "\n",
      "Finding integration vector weights\n",
      "\n",
      "Predicting cell labels\n",
      "\n",
      "Warning message:\n",
      "“Keys should be one or more alphanumeric characters followed by an underscore, setting key from predictionscorecelltype.l1_ to predictionscorecelltypel1_”\n",
      "Predicting cell labels\n",
      "\n",
      "Warning message:\n",
      "“Feature names cannot have underscores ('_'), replacing with dashes ('-')”\n",
      "Warning message:\n",
      "“Keys should be one or more alphanumeric characters followed by an underscore, setting key from predictionscorecelltype.l2_ to predictionscorecelltypel2_”\n",
      "Predicting cell labels\n",
      "\n",
      "Warning message:\n",
      "“Feature names cannot have underscores ('_'), replacing with dashes ('-')”\n",
      "Warning message:\n",
      "“Keys should be one or more alphanumeric characters followed by an underscore, setting key from predictionscorecelltype.l3_ to predictionscorecelltypel3_”\n",
      "Transfering 228 features onto reference data\n",
      "\n",
      "Warning message:\n",
      "“Keys should be one or more alphanumeric characters followed by an underscore, setting key from predicted_ADT_ to predictedADT_”\n"
     ]
    }
   ],
   "source": [
    "anchors <- FindTransferAnchors(\n",
    "    reference = ref,\n",
    "    query = ped_so,\n",
    "    normalization.method = \"SCT\",\n",
    "    reference.reduction = \"spca\",\n",
    "    dims = 1:50\n",
    "    )\n",
    "ped_so <- TransferData(anchorset = anchors, reference = ref, query = ped_so,\n",
    "    refdata = list(\n",
    "    celltype.l1 = \"celltype.l1\",\n",
    "    celltype.l2 = \"celltype.l2\",\n",
    "    celltype.l3 = \"celltype.l3\",\n",
    "    predicted_ADT = 'ADT'))"
   ]
  },
  {
   "cell_type": "markdown",
   "id": "9c071f0a-a284-4a34-932f-3f0337fe1580",
   "metadata": {},
   "source": [
    "# Young Adult Object Generation"
   ]
  },
  {
   "cell_type": "markdown",
   "id": "9aa4dc4c-4fa5-484c-aa7c-a432de4d9c1e",
   "metadata": {},
   "source": [
    "## Create Seurat Object"
   ]
  },
  {
   "cell_type": "code",
   "execution_count": 15,
   "id": "495c0af5-08b2-48fc-afef-cc6359f2af86",
   "metadata": {},
   "outputs": [
    {
     "data": {
      "text/html": [
       "16"
      ],
      "text/latex": [
       "16"
      ],
      "text/markdown": [
       "16"
      ],
      "text/plain": [
       "[1] 16"
      ]
     },
     "metadata": {},
     "output_type": "display_data"
    }
   ],
   "source": [
    "br1_kit_list <- c('PB00010-02','PB00023-05','PB00026-05','PB00030-03','PB00031-05','PB00002','PB00003','PB00004',\n",
    "                  'PB00006','PB00022','PB00041','PB00363','PB00366','PB00384','PB00386','PB00507')\n",
    "length(br1_kit_list)"
   ]
  },
  {
   "cell_type": "code",
   "execution_count": 16,
   "id": "3e007aba-2ce4-48a6-8e4b-06385f15fcf1",
   "metadata": {},
   "outputs": [],
   "source": [
    "full_br1_h5_list <- list.files(path = 'BR1/', pattern = '.h5$', full.names = TRUE, recursive = TRUE)"
   ]
  },
  {
   "cell_type": "code",
   "execution_count": 17,
   "id": "18c5af3b-745c-4fec-aa17-bbe825438d45",
   "metadata": {},
   "outputs": [
    {
     "data": {
      "text/html": [
       "16"
      ],
      "text/latex": [
       "16"
      ],
      "text/markdown": [
       "16"
      ],
      "text/plain": [
       "[1] 16"
      ]
     },
     "metadata": {},
     "output_type": "display_data"
    }
   ],
   "source": [
    "br1_h5_list <- lapply(br1_kit_list, function(x){\n",
    "                full_br1_h5_list[str_detect(full_br1_h5_list, x)]\n",
    "                })\n",
    "length(br1_h5_list)"
   ]
  },
  {
   "cell_type": "code",
   "execution_count": 18,
   "id": "73a85356-3755-49bd-bc07-c9660f31c8c3",
   "metadata": {
    "scrolled": true,
    "tags": []
   },
   "outputs": [
    {
     "name": "stderr",
     "output_type": "stream",
     "text": [
      "Warning message:\n",
      "“Non-unique features (rownames) present in the input matrix, making unique”\n",
      "Warning message:\n",
      "“Non-unique features (rownames) present in the input matrix, making unique”\n",
      "Warning message:\n",
      "“Non-unique features (rownames) present in the input matrix, making unique”\n",
      "Warning message:\n",
      "“Non-unique features (rownames) present in the input matrix, making unique”\n",
      "Warning message:\n",
      "“Non-unique features (rownames) present in the input matrix, making unique”\n",
      "Warning message:\n",
      "“Non-unique features (rownames) present in the input matrix, making unique”\n",
      "Warning message:\n",
      "“Non-unique features (rownames) present in the input matrix, making unique”\n",
      "Warning message:\n",
      "“Non-unique features (rownames) present in the input matrix, making unique”\n",
      "Warning message:\n",
      "“Non-unique features (rownames) present in the input matrix, making unique”\n",
      "Warning message:\n",
      "“Non-unique features (rownames) present in the input matrix, making unique”\n",
      "Warning message:\n",
      "“Non-unique features (rownames) present in the input matrix, making unique”\n",
      "Warning message:\n",
      "“Non-unique features (rownames) present in the input matrix, making unique”\n",
      "Warning message:\n",
      "“Non-unique features (rownames) present in the input matrix, making unique”\n",
      "Warning message:\n",
      "“Non-unique features (rownames) present in the input matrix, making unique”\n",
      "Warning message:\n",
      "“Non-unique features (rownames) present in the input matrix, making unique”\n",
      "Warning message:\n",
      "“Non-unique features (rownames) present in the input matrix, making unique”\n"
     ]
    }
   ],
   "source": [
    "so_list <- lapply(br1_h5_list, read_h5_seurat)"
   ]
  },
  {
   "cell_type": "code",
   "execution_count": 19,
   "id": "eae35789-dcac-4fdf-a78b-2e10e0394824",
   "metadata": {},
   "outputs": [],
   "source": [
    "br1_merge <- Reduce(merge, so_list)"
   ]
  },
  {
   "cell_type": "markdown",
   "id": "f384c2fc-cee2-4dad-b342-7175abeab392",
   "metadata": {},
   "source": [
    "## Normalization"
   ]
  },
  {
   "cell_type": "code",
   "execution_count": 20,
   "id": "24ecda69-e8bd-4d37-a95f-10fa317c201a",
   "metadata": {
    "scrolled": true,
    "tags": []
   },
   "outputs": [
    {
     "name": "stderr",
     "output_type": "stream",
     "text": [
      "Calculating cell attributes from input UMI matrix: log_umi\n",
      "\n",
      "Variance stabilizing transformation of count matrix of size 24783 by 328396\n",
      "\n",
      "Model formula is y ~ log_umi\n",
      "\n",
      "Get Negative Binomial regression parameters per gene\n",
      "\n",
      "Using 2000 genes, 5000 cells\n",
      "\n"
     ]
    },
    {
     "name": "stdout",
     "output_type": "stream",
     "text": [
      "  |======================================================================| 100%\n"
     ]
    },
    {
     "name": "stderr",
     "output_type": "stream",
     "text": [
      "There are 3 estimated thetas smaller than 1e-07 - will be set to 1e-07\n",
      "\n",
      "Found 66 outliers - those will be ignored in fitting/regularization step\n",
      "\n",
      "\n",
      "Skip calculation of full residual matrix\n",
      "\n",
      "Will not return corrected UMI because residual type is not set to 'pearson'\n",
      "\n",
      "Calculating gene attributes\n",
      "\n",
      "Wall clock passed: Time difference of 3.6565 mins\n",
      "\n",
      "Setting min_variance to:  -Inf\n",
      "\n",
      "Calculating variance for residuals of type pearson for 24783 genes\n",
      "\n"
     ]
    },
    {
     "name": "stdout",
     "output_type": "stream",
     "text": [
      "  |======================================================================| 100%\n"
     ]
    },
    {
     "name": "stderr",
     "output_type": "stream",
     "text": [
      "Determine variable features\n",
      "\n",
      "Setting min_variance to:  -Inf\n",
      "\n",
      "Calculating residuals of type pearson for 3000 genes\n",
      "\n"
     ]
    },
    {
     "name": "stdout",
     "output_type": "stream",
     "text": [
      "  |======================================================================| 100%\n"
     ]
    },
    {
     "name": "stderr",
     "output_type": "stream",
     "text": [
      "Computing corrected UMI count matrix\n",
      "\n"
     ]
    },
    {
     "name": "stdout",
     "output_type": "stream",
     "text": [
      "  |==================================================================    |  94%"
     ]
    },
    {
     "name": "stderr",
     "output_type": "stream",
     "text": [
      "Place corrected count matrix in counts slot\n",
      "\n",
      "Centering data matrix\n",
      "\n",
      "Set default assay to SCT\n",
      "\n",
      "PC_ 1 \n",
      "Positive:  GNLY, NKG7, CCL5, IGKC, IL7R, IL32, LTB, RPS12, GZMA, CST7 \n",
      "\t   GZMB, RPS27, IGHM, RPL10, FGFBP2, RPS27A, KLRD1, TRBC2, CTSW, PRF1 \n",
      "\t   TRBC1, GZMK, KLRB1, RPS3, IGLC2, CD3D, TRAC, ETS1, B2M, RPL30 \n",
      "Negative:  S100A8, S100A9, LYZ, CST3, VCAN, CTSS, S100A12, FCN1, MNDA, TYROBP \n",
      "\t   FTL, AC020656.1, AIF1, S100A6, PSAP, LST1, CD14, S100A4, S100A11, FGL2 \n",
      "\t   FTH1, CYBB, FCER1G, NEAT1, CSTA, MS4A6A, LGALS1, TYMP, TSPO, HLA-DRA \n",
      "PC_ 2 \n",
      "Positive:  IGKC, IGHM, HLA-DRA, IGLC2, CD74, CD79A, IGLC3, MS4A1, TCL1A, HLA-DRB1 \n",
      "\t   IGHD, HLA-DPA1, HLA-DPB1, HLA-DQA1, BANK1, CD79B, LTB, RALGPS2, JCHAIN, VPREB3 \n",
      "\t   RPS12, LINC00926, RPS8, HLA-DQB1, CD37, RPL13, TNFRSF13C, HLA-DRB5, EEF1A1, RPL32 \n",
      "Negative:  GNLY, NKG7, CCL5, GZMB, FGFBP2, CST7, GZMA, PRF1, KLRD1, SPON2 \n",
      "\t   CTSW, CCL4, GZMH, CLIC3, S100A8, KLRF1, HOPX, S100A9, PTGDS, TRDC \n",
      "\t   FCGR3A, CD247, KLRB1, TYROBP, EFHD2, B2M, MYOM2, GZMM, HCST, IFITM2 \n",
      "PC_ 3 \n",
      "Positive:  GNLY, S100A8, S100A9, NKG7, RPS12, LYZ, RPL10, EEF1A1, RPL13, RPL41 \n",
      "\t   RPS27, RPL34, RPL30, RPL32, IL7R, S100A12, RPLP1, RPS27A, RPS14, RPS8 \n",
      "\t   GZMA, CST7, RPS15A, FGFBP2, TPT1, RPL39, RPL11, RPS3A, RPL28, RPS28 \n",
      "Negative:  PPBP, TUBB1, NRGN, PF4, CAVIN2, GNG11, CLU, GP9, PRKAR2B, ACRBP \n",
      "\t   TREML1, CMTM5, TMEM40, HIST1H2AC, RGS18, TSC22D1, PTCRA, MYL9, MAP3K7CL, SPARC \n",
      "\t   CTTN, C2orf88, AC147651.1, ITGA2B, CLDN5, CLEC1B, PDGFA, AP001189.1, HIST1H3H, ENKUR \n",
      "PC_ 4 \n",
      "Positive:  IGKC, GNLY, IGHM, HLA-DRA, CD74, IGLC2, NKG7, CD79A, MS4A1, IGLC3 \n",
      "\t   HLA-DRB1, TCL1A, IGHD, HLA-DPA1, HLA-DPB1, GZMB, HLA-DQA1, CD79B, BANK1, FGFBP2 \n",
      "\t   RALGPS2, JCHAIN, CST7, PRF1, KLRD1, HLA-DQB1, VPREB3, GZMA, SPON2, LINC00926 \n",
      "Negative:  IL7R, RPS12, TRAC, IL32, LDHB, CD3D, CD3G, CD3E, EEF1A1, TPT1 \n",
      "\t   RPL34, RPL32, RPL30, TRBC2, TCF7, RPL10, RPS14, LEF1, TRBC1, NOSIP \n",
      "\t   RPL13, RPS15A, GIMAP7, RPS27A, RPS3A, MAL, RPS27, TRAT1, RPS3, RPS8 \n",
      "PC_ 5 \n",
      "Positive:  CST3, CDKN1C, HLA-DRA, AIF1, LST1, HLA-DRB1, FCGR3A, HLA-DPA1, CTSS, IFITM3 \n",
      "\t   FCER1G, FTH1, CD74, FTL, PSAP, TYROBP, HLA-DPB1, MS4A7, SAT1, LYPD2 \n",
      "\t   FGL2, COTL1, LYZ, NEAT1, SERPINA1, CFD, CPVL, HLA-DRB5, FCN1, FCER1A \n",
      "Negative:  S100A8, S100A9, IGKC, S100A12, IGHM, GNLY, CD79A, MS4A1, IGHD, LTB \n",
      "\t   CCL5, TCL1A, RPS12, IL7R, RPS27, IGLC2, BANK1, RPL13, RPS27A, RALGPS2 \n",
      "\t   IL32, RPL30, RPL32, NKG7, RPL10, RPL34, PPBP, TRBC2, RPS3, RPS15A \n",
      "\n"
     ]
    }
   ],
   "source": [
    "br1_merge <- suppressWarnings(SCTransform(br1_merge, conserve.memory = TRUE)) %>% RunPCA()"
   ]
  },
  {
   "cell_type": "markdown",
   "id": "44a1c4a7-6e22-4997-b4aa-56787b9dbc18",
   "metadata": {},
   "source": [
    "## Label Transfer"
   ]
  },
  {
   "cell_type": "code",
   "execution_count": 21,
   "id": "16bc830b-2024-4445-b6db-93f906ea5246",
   "metadata": {},
   "outputs": [
    {
     "name": "stderr",
     "output_type": "stream",
     "text": [
      "Normalizing query using reference SCT model\n",
      "\n",
      "Projecting cell embeddings\n",
      "\n",
      "Finding anchors\n",
      "\n",
      "\tFound 114015 anchors\n",
      "\n",
      "Finding integration vectors\n",
      "\n",
      "Finding integration vector weights\n",
      "\n",
      "Predicting cell labels\n",
      "\n",
      "Warning message:\n",
      "“Keys should be one or more alphanumeric characters followed by an underscore, setting key from predictionscorecelltype.l1_ to predictionscorecelltypel1_”\n",
      "Predicting cell labels\n",
      "\n",
      "Warning message:\n",
      "“Feature names cannot have underscores ('_'), replacing with dashes ('-')”\n",
      "Warning message:\n",
      "“Keys should be one or more alphanumeric characters followed by an underscore, setting key from predictionscorecelltype.l2_ to predictionscorecelltypel2_”\n",
      "Predicting cell labels\n",
      "\n",
      "Warning message:\n",
      "“Feature names cannot have underscores ('_'), replacing with dashes ('-')”\n",
      "Warning message:\n",
      "“Keys should be one or more alphanumeric characters followed by an underscore, setting key from predictionscorecelltype.l3_ to predictionscorecelltypel3_”\n",
      "Transfering 228 features onto reference data\n",
      "\n",
      "Warning message:\n",
      "“Keys should be one or more alphanumeric characters followed by an underscore, setting key from predicted_ADT_ to predictedADT_”\n"
     ]
    }
   ],
   "source": [
    "anchors <- FindTransferAnchors(\n",
    "    reference = ref,\n",
    "    query = br1_merge,\n",
    "    normalization.method = \"SCT\",\n",
    "    reference.reduction = \"spca\",\n",
    "    dims = 1:50\n",
    "    )\n",
    "br1_merge <- TransferData(anchorset = anchors, reference = ref, query = br1_merge,\n",
    "    refdata = list(\n",
    "    celltype.l1 = \"celltype.l1\",\n",
    "    celltype.l2 = \"celltype.l2\",\n",
    "    celltype.l3 = \"celltype.l3\",\n",
    "    predicted_ADT = 'ADT'))"
   ]
  },
  {
   "cell_type": "code",
   "execution_count": 22,
   "id": "9d0f104c-4221-4e52-b59f-3e61cbbf317d",
   "metadata": {},
   "outputs": [
    {
     "data": {
      "text/plain": [
       "An object of class Seurat \n",
       "58646 features across 328396 samples within 6 assays \n",
       "Active assay: SCT (24783 features, 3000 variable features)\n",
       " 5 other assays present: RNA, prediction.score.celltype.l1, prediction.score.celltype.l2, prediction.score.celltype.l3, predicted_ADT\n",
       " 1 dimensional reduction calculated: pca"
      ]
     },
     "metadata": {},
     "output_type": "display_data"
    }
   ],
   "source": [
    "br1_merge"
   ]
  },
  {
   "cell_type": "markdown",
   "id": "2bcb6860-0f69-428f-8b26-a152e8bb548e",
   "metadata": {},
   "source": [
    "# Older Adult Object Generation"
   ]
  },
  {
   "cell_type": "markdown",
   "id": "6102ef47-125f-443c-96da-32114420bd0a",
   "metadata": {},
   "source": [
    "## Create Seurat Object"
   ]
  },
  {
   "cell_type": "code",
   "execution_count": 28,
   "id": "c382fea6-bc96-4e2e-a7ce-ca80ad281ba1",
   "metadata": {},
   "outputs": [
    {
     "data": {
      "text/html": [
       "16"
      ],
      "text/latex": [
       "16"
      ],
      "text/markdown": [
       "16"
      ],
      "text/plain": [
       "[1] 16"
      ]
     },
     "metadata": {},
     "output_type": "display_data"
    }
   ],
   "source": [
    "br2_kit_list <- c('PB00352-04','PB00561-01','PB00015','PB00342','PB00356','PB00388','PB00510','PB00530',\n",
    "                  'PB00537','PB00539','PB00552','PB00562','PB00566','PB00568','PB00569-01','PB00582')\n",
    "length(br2_kit_list)"
   ]
  },
  {
   "cell_type": "code",
   "execution_count": 29,
   "id": "fe621db6-a1bb-46bc-984b-03e6defebdba",
   "metadata": {},
   "outputs": [],
   "source": [
    "full_br2_h5_list <- list.files(path = 'BR2/', pattern = '.h5$', full.names = TRUE, recursive = TRUE)"
   ]
  },
  {
   "cell_type": "code",
   "execution_count": 30,
   "id": "88193ea5-0d08-4e08-88a6-6a5c8072db3a",
   "metadata": {},
   "outputs": [
    {
     "data": {
      "text/html": [
       "16"
      ],
      "text/latex": [
       "16"
      ],
      "text/markdown": [
       "16"
      ],
      "text/plain": [
       "[1] 16"
      ]
     },
     "metadata": {},
     "output_type": "display_data"
    }
   ],
   "source": [
    "br2_h5_list <- lapply(br2_kit_list, function(x){\n",
    "                full_br2_h5_list[str_detect(full_br2_h5_list, x)]\n",
    "                })\n",
    "length(br2_h5_list)"
   ]
  },
  {
   "cell_type": "code",
   "execution_count": 31,
   "id": "b73162d8-ce79-46fe-8645-a9f58a16d6ef",
   "metadata": {},
   "outputs": [
    {
     "data": {
      "text/html": [
       "<ol>\n",
       "\t<li>'BR2//cache/42218709-d7ec-48ed-af1c-59e0ef5dc64a/B078-P1_PB00352-04_2021-08-15T20:26:02.548957446Z_labeled.h5'</li>\n",
       "\t<li>'BR2//cache/aab0316d-14d6-48af-b875-b57e4d21ce9a/B054-P1_PB00561-01_2022-06-28T21:54:05.984884065Z_labeled.h5'</li>\n",
       "\t<li>'BR2//cache/68a34f4a-d0e6-4c09-b0d3-b09b9ca9561c/B002-P2_PB00015-01_labeled.h5'</li>\n",
       "\t<li>'BR2//cache/891b87c3-ea8c-445e-9783-dfb07019c871/B050-P1_PB00342-01_2021-02-28T21:06:52.68159788Z_labeled.h5'</li>\n",
       "\t<li>'BR2//cache/1c9880b2-dd9d-460d-8288-fdaa093a12f4/B046-P2_PB00356-01_2021-02-24T00:13:26.04313294Z_labeled.h5'</li>\n",
       "\t<li>'BR2//cache/6de1bcc6-4e9f-44ce-830e-d20474cc6444/B040-P1_PB00388-01_2021-02-14T05:03:10.129208213Z_labeled.h5'</li>\n",
       "\t<li>'BR2//cache/3fbcf882-4a06-4106-8be1-92b732db60c9/B043-P1_PB00510-01_2021-01-28T01:04:59.754710921Z_labeled.h5'</li>\n",
       "\t<li>'BR2//cache/30e28f40-8deb-4479-8719-d3e353834d90/B045-P1_PB00530-01_2021-02-20T17:54:07.896349649Z_labeled.h5'</li>\n",
       "\t<li>'BR2//cache/9fed0ef0-c0f8-4eb8-a65d-a977ac905738/B046-P1_PB00537-01_2021-02-24T00:12:47.912386239Z_labeled.h5'</li>\n",
       "\t<li>'BR2//cache/6f19e2b5-cfc8-4992-8147-97dcd0a14050/B048-P2_PB00539-01_2021-02-26T23:24:20.340902222Z_labeled.h5'</li>\n",
       "\t<li>'BR2//cache/0f7ac264-9347-4a0c-bf11-7ab0121f920e/B045-P1_PB00552-01_2021-02-20T17:54:07.896349649Z_labeled.h5'</li>\n",
       "\t<li>'BR2//cache/ba63bb1e-cf96-410d-b0ee-14d09b7a1dfc/B046-P1_PB00562-01_2021-02-24T00:12:47.912386239Z_labeled.h5'</li>\n",
       "\t<li>'BR2//cache/979e60ea-abfc-4923-8ff2-28e8e0b75984/B053-P1_PB00566-01_2021-03-16T16:53:54.504538818Z_labeled.h5'</li>\n",
       "\t<li>'BR2//cache/dff6d996-d6b2-448f-ba9d-65e8c20cc957/B048-P1_PB00568-01_2021-03-01T17:06:41.838698747Z_labeled.h5'</li>\n",
       "\t<li>'BR2//cache/75755401-17b8-43e5-bae0-9ad2127b69c0/B047-P2_PB00569-01_2021-02-25T00:07:50.971832932Z_labeled.h5'</li>\n",
       "\t<li>'BR2//cache/e503a9be-35b1-4447-8150-cef059e1d740/B048-P1_PB00582-01_2021-03-01T17:06:41.838698747Z_labeled.h5'</li>\n",
       "</ol>\n"
      ],
      "text/latex": [
       "\\begin{enumerate}\n",
       "\\item 'BR2//cache/42218709-d7ec-48ed-af1c-59e0ef5dc64a/B078-P1\\_PB00352-04\\_2021-08-15T20:26:02.548957446Z\\_labeled.h5'\n",
       "\\item 'BR2//cache/aab0316d-14d6-48af-b875-b57e4d21ce9a/B054-P1\\_PB00561-01\\_2022-06-28T21:54:05.984884065Z\\_labeled.h5'\n",
       "\\item 'BR2//cache/68a34f4a-d0e6-4c09-b0d3-b09b9ca9561c/B002-P2\\_PB00015-01\\_labeled.h5'\n",
       "\\item 'BR2//cache/891b87c3-ea8c-445e-9783-dfb07019c871/B050-P1\\_PB00342-01\\_2021-02-28T21:06:52.68159788Z\\_labeled.h5'\n",
       "\\item 'BR2//cache/1c9880b2-dd9d-460d-8288-fdaa093a12f4/B046-P2\\_PB00356-01\\_2021-02-24T00:13:26.04313294Z\\_labeled.h5'\n",
       "\\item 'BR2//cache/6de1bcc6-4e9f-44ce-830e-d20474cc6444/B040-P1\\_PB00388-01\\_2021-02-14T05:03:10.129208213Z\\_labeled.h5'\n",
       "\\item 'BR2//cache/3fbcf882-4a06-4106-8be1-92b732db60c9/B043-P1\\_PB00510-01\\_2021-01-28T01:04:59.754710921Z\\_labeled.h5'\n",
       "\\item 'BR2//cache/30e28f40-8deb-4479-8719-d3e353834d90/B045-P1\\_PB00530-01\\_2021-02-20T17:54:07.896349649Z\\_labeled.h5'\n",
       "\\item 'BR2//cache/9fed0ef0-c0f8-4eb8-a65d-a977ac905738/B046-P1\\_PB00537-01\\_2021-02-24T00:12:47.912386239Z\\_labeled.h5'\n",
       "\\item 'BR2//cache/6f19e2b5-cfc8-4992-8147-97dcd0a14050/B048-P2\\_PB00539-01\\_2021-02-26T23:24:20.340902222Z\\_labeled.h5'\n",
       "\\item 'BR2//cache/0f7ac264-9347-4a0c-bf11-7ab0121f920e/B045-P1\\_PB00552-01\\_2021-02-20T17:54:07.896349649Z\\_labeled.h5'\n",
       "\\item 'BR2//cache/ba63bb1e-cf96-410d-b0ee-14d09b7a1dfc/B046-P1\\_PB00562-01\\_2021-02-24T00:12:47.912386239Z\\_labeled.h5'\n",
       "\\item 'BR2//cache/979e60ea-abfc-4923-8ff2-28e8e0b75984/B053-P1\\_PB00566-01\\_2021-03-16T16:53:54.504538818Z\\_labeled.h5'\n",
       "\\item 'BR2//cache/dff6d996-d6b2-448f-ba9d-65e8c20cc957/B048-P1\\_PB00568-01\\_2021-03-01T17:06:41.838698747Z\\_labeled.h5'\n",
       "\\item 'BR2//cache/75755401-17b8-43e5-bae0-9ad2127b69c0/B047-P2\\_PB00569-01\\_2021-02-25T00:07:50.971832932Z\\_labeled.h5'\n",
       "\\item 'BR2//cache/e503a9be-35b1-4447-8150-cef059e1d740/B048-P1\\_PB00582-01\\_2021-03-01T17:06:41.838698747Z\\_labeled.h5'\n",
       "\\end{enumerate}\n"
      ],
      "text/markdown": [
       "1. 'BR2//cache/42218709-d7ec-48ed-af1c-59e0ef5dc64a/B078-P1_PB00352-04_2021-08-15T20:26:02.548957446Z_labeled.h5'\n",
       "2. 'BR2//cache/aab0316d-14d6-48af-b875-b57e4d21ce9a/B054-P1_PB00561-01_2022-06-28T21:54:05.984884065Z_labeled.h5'\n",
       "3. 'BR2//cache/68a34f4a-d0e6-4c09-b0d3-b09b9ca9561c/B002-P2_PB00015-01_labeled.h5'\n",
       "4. 'BR2//cache/891b87c3-ea8c-445e-9783-dfb07019c871/B050-P1_PB00342-01_2021-02-28T21:06:52.68159788Z_labeled.h5'\n",
       "5. 'BR2//cache/1c9880b2-dd9d-460d-8288-fdaa093a12f4/B046-P2_PB00356-01_2021-02-24T00:13:26.04313294Z_labeled.h5'\n",
       "6. 'BR2//cache/6de1bcc6-4e9f-44ce-830e-d20474cc6444/B040-P1_PB00388-01_2021-02-14T05:03:10.129208213Z_labeled.h5'\n",
       "7. 'BR2//cache/3fbcf882-4a06-4106-8be1-92b732db60c9/B043-P1_PB00510-01_2021-01-28T01:04:59.754710921Z_labeled.h5'\n",
       "8. 'BR2//cache/30e28f40-8deb-4479-8719-d3e353834d90/B045-P1_PB00530-01_2021-02-20T17:54:07.896349649Z_labeled.h5'\n",
       "9. 'BR2//cache/9fed0ef0-c0f8-4eb8-a65d-a977ac905738/B046-P1_PB00537-01_2021-02-24T00:12:47.912386239Z_labeled.h5'\n",
       "10. 'BR2//cache/6f19e2b5-cfc8-4992-8147-97dcd0a14050/B048-P2_PB00539-01_2021-02-26T23:24:20.340902222Z_labeled.h5'\n",
       "11. 'BR2//cache/0f7ac264-9347-4a0c-bf11-7ab0121f920e/B045-P1_PB00552-01_2021-02-20T17:54:07.896349649Z_labeled.h5'\n",
       "12. 'BR2//cache/ba63bb1e-cf96-410d-b0ee-14d09b7a1dfc/B046-P1_PB00562-01_2021-02-24T00:12:47.912386239Z_labeled.h5'\n",
       "13. 'BR2//cache/979e60ea-abfc-4923-8ff2-28e8e0b75984/B053-P1_PB00566-01_2021-03-16T16:53:54.504538818Z_labeled.h5'\n",
       "14. 'BR2//cache/dff6d996-d6b2-448f-ba9d-65e8c20cc957/B048-P1_PB00568-01_2021-03-01T17:06:41.838698747Z_labeled.h5'\n",
       "15. 'BR2//cache/75755401-17b8-43e5-bae0-9ad2127b69c0/B047-P2_PB00569-01_2021-02-25T00:07:50.971832932Z_labeled.h5'\n",
       "16. 'BR2//cache/e503a9be-35b1-4447-8150-cef059e1d740/B048-P1_PB00582-01_2021-03-01T17:06:41.838698747Z_labeled.h5'\n",
       "\n",
       "\n"
      ],
      "text/plain": [
       "[[1]]\n",
       "[1] \"BR2//cache/42218709-d7ec-48ed-af1c-59e0ef5dc64a/B078-P1_PB00352-04_2021-08-15T20:26:02.548957446Z_labeled.h5\"\n",
       "\n",
       "[[2]]\n",
       "[1] \"BR2//cache/aab0316d-14d6-48af-b875-b57e4d21ce9a/B054-P1_PB00561-01_2022-06-28T21:54:05.984884065Z_labeled.h5\"\n",
       "\n",
       "[[3]]\n",
       "[1] \"BR2//cache/68a34f4a-d0e6-4c09-b0d3-b09b9ca9561c/B002-P2_PB00015-01_labeled.h5\"\n",
       "\n",
       "[[4]]\n",
       "[1] \"BR2//cache/891b87c3-ea8c-445e-9783-dfb07019c871/B050-P1_PB00342-01_2021-02-28T21:06:52.68159788Z_labeled.h5\"\n",
       "\n",
       "[[5]]\n",
       "[1] \"BR2//cache/1c9880b2-dd9d-460d-8288-fdaa093a12f4/B046-P2_PB00356-01_2021-02-24T00:13:26.04313294Z_labeled.h5\"\n",
       "\n",
       "[[6]]\n",
       "[1] \"BR2//cache/6de1bcc6-4e9f-44ce-830e-d20474cc6444/B040-P1_PB00388-01_2021-02-14T05:03:10.129208213Z_labeled.h5\"\n",
       "\n",
       "[[7]]\n",
       "[1] \"BR2//cache/3fbcf882-4a06-4106-8be1-92b732db60c9/B043-P1_PB00510-01_2021-01-28T01:04:59.754710921Z_labeled.h5\"\n",
       "\n",
       "[[8]]\n",
       "[1] \"BR2//cache/30e28f40-8deb-4479-8719-d3e353834d90/B045-P1_PB00530-01_2021-02-20T17:54:07.896349649Z_labeled.h5\"\n",
       "\n",
       "[[9]]\n",
       "[1] \"BR2//cache/9fed0ef0-c0f8-4eb8-a65d-a977ac905738/B046-P1_PB00537-01_2021-02-24T00:12:47.912386239Z_labeled.h5\"\n",
       "\n",
       "[[10]]\n",
       "[1] \"BR2//cache/6f19e2b5-cfc8-4992-8147-97dcd0a14050/B048-P2_PB00539-01_2021-02-26T23:24:20.340902222Z_labeled.h5\"\n",
       "\n",
       "[[11]]\n",
       "[1] \"BR2//cache/0f7ac264-9347-4a0c-bf11-7ab0121f920e/B045-P1_PB00552-01_2021-02-20T17:54:07.896349649Z_labeled.h5\"\n",
       "\n",
       "[[12]]\n",
       "[1] \"BR2//cache/ba63bb1e-cf96-410d-b0ee-14d09b7a1dfc/B046-P1_PB00562-01_2021-02-24T00:12:47.912386239Z_labeled.h5\"\n",
       "\n",
       "[[13]]\n",
       "[1] \"BR2//cache/979e60ea-abfc-4923-8ff2-28e8e0b75984/B053-P1_PB00566-01_2021-03-16T16:53:54.504538818Z_labeled.h5\"\n",
       "\n",
       "[[14]]\n",
       "[1] \"BR2//cache/dff6d996-d6b2-448f-ba9d-65e8c20cc957/B048-P1_PB00568-01_2021-03-01T17:06:41.838698747Z_labeled.h5\"\n",
       "\n",
       "[[15]]\n",
       "[1] \"BR2//cache/75755401-17b8-43e5-bae0-9ad2127b69c0/B047-P2_PB00569-01_2021-02-25T00:07:50.971832932Z_labeled.h5\"\n",
       "\n",
       "[[16]]\n",
       "[1] \"BR2//cache/e503a9be-35b1-4447-8150-cef059e1d740/B048-P1_PB00582-01_2021-03-01T17:06:41.838698747Z_labeled.h5\"\n"
      ]
     },
     "metadata": {},
     "output_type": "display_data"
    }
   ],
   "source": [
    "br2_h5_list"
   ]
  },
  {
   "cell_type": "code",
   "execution_count": 32,
   "id": "6f58a2a5-6972-457f-b79f-fb6ea883af96",
   "metadata": {
    "scrolled": true,
    "tags": []
   },
   "outputs": [
    {
     "name": "stderr",
     "output_type": "stream",
     "text": [
      "Warning message:\n",
      "“Non-unique features (rownames) present in the input matrix, making unique”\n",
      "Warning message:\n",
      "“Non-unique features (rownames) present in the input matrix, making unique”\n",
      "Warning message:\n",
      "“Non-unique features (rownames) present in the input matrix, making unique”\n",
      "Warning message:\n",
      "“Non-unique features (rownames) present in the input matrix, making unique”\n",
      "Warning message:\n",
      "“Non-unique features (rownames) present in the input matrix, making unique”\n",
      "Warning message:\n",
      "“Non-unique features (rownames) present in the input matrix, making unique”\n",
      "Warning message:\n",
      "“Non-unique features (rownames) present in the input matrix, making unique”\n",
      "Warning message:\n",
      "“Non-unique features (rownames) present in the input matrix, making unique”\n",
      "Warning message:\n",
      "“Non-unique features (rownames) present in the input matrix, making unique”\n",
      "Warning message:\n",
      "“Non-unique features (rownames) present in the input matrix, making unique”\n",
      "Warning message:\n",
      "“Non-unique features (rownames) present in the input matrix, making unique”\n",
      "Warning message:\n",
      "“Non-unique features (rownames) present in the input matrix, making unique”\n",
      "Warning message:\n",
      "“Non-unique features (rownames) present in the input matrix, making unique”\n",
      "Warning message:\n",
      "“Non-unique features (rownames) present in the input matrix, making unique”\n",
      "Warning message:\n",
      "“Non-unique features (rownames) present in the input matrix, making unique”\n",
      "Warning message:\n",
      "“Non-unique features (rownames) present in the input matrix, making unique”\n"
     ]
    }
   ],
   "source": [
    "so_list <- lapply(br2_h5_list, read_h5_seurat)"
   ]
  },
  {
   "cell_type": "code",
   "execution_count": 33,
   "id": "662d95ef-caa1-429e-9629-d7eb72ad0e58",
   "metadata": {},
   "outputs": [],
   "source": [
    "br2_merge <- Reduce(merge, so_list)"
   ]
  },
  {
   "cell_type": "markdown",
   "id": "61a0ea0b-81ea-49ef-b66e-bcdb34d88d11",
   "metadata": {},
   "source": [
    "## Normalization"
   ]
  },
  {
   "cell_type": "code",
   "execution_count": 34,
   "id": "ee9b76c6-1f18-4922-8e67-8d984245c7d7",
   "metadata": {
    "scrolled": true,
    "tags": []
   },
   "outputs": [
    {
     "name": "stderr",
     "output_type": "stream",
     "text": [
      "Calculating cell attributes from input UMI matrix: log_umi\n",
      "\n",
      "Variance stabilizing transformation of count matrix of size 24817 by 329661\n",
      "\n",
      "Model formula is y ~ log_umi\n",
      "\n",
      "Get Negative Binomial regression parameters per gene\n",
      "\n",
      "Using 2000 genes, 5000 cells\n",
      "\n"
     ]
    },
    {
     "name": "stdout",
     "output_type": "stream",
     "text": [
      "  |======================================================================| 100%\n"
     ]
    },
    {
     "name": "stderr",
     "output_type": "stream",
     "text": [
      "There are 1 estimated thetas smaller than 1e-07 - will be set to 1e-07\n",
      "\n",
      "Found 69 outliers - those will be ignored in fitting/regularization step\n",
      "\n",
      "\n",
      "Skip calculation of full residual matrix\n",
      "\n",
      "Will not return corrected UMI because residual type is not set to 'pearson'\n",
      "\n",
      "Calculating gene attributes\n",
      "\n",
      "Wall clock passed: Time difference of 3.495195 mins\n",
      "\n",
      "Setting min_variance to:  -Inf\n",
      "\n",
      "Calculating variance for residuals of type pearson for 24817 genes\n",
      "\n"
     ]
    },
    {
     "name": "stdout",
     "output_type": "stream",
     "text": [
      "  |======================================================================| 100%\n"
     ]
    },
    {
     "name": "stderr",
     "output_type": "stream",
     "text": [
      "Determine variable features\n",
      "\n",
      "Setting min_variance to:  -Inf\n",
      "\n",
      "Calculating residuals of type pearson for 3000 genes\n",
      "\n"
     ]
    },
    {
     "name": "stdout",
     "output_type": "stream",
     "text": [
      "  |======================================================================| 100%\n"
     ]
    },
    {
     "name": "stderr",
     "output_type": "stream",
     "text": [
      "Computing corrected UMI count matrix\n",
      "\n"
     ]
    },
    {
     "name": "stdout",
     "output_type": "stream",
     "text": [
      "  |======================================================================| 100%\n"
     ]
    },
    {
     "name": "stderr",
     "output_type": "stream",
     "text": [
      "Place corrected count matrix in counts slot\n",
      "\n",
      "Centering data matrix\n",
      "\n",
      "Set default assay to SCT\n",
      "\n",
      "PC_ 1 \n",
      "Positive:  GNLY, NKG7, IGKC, CCL5, IL7R, IL32, IGHM, LTB, RPS12, GZMA \n",
      "\t   CST7, RPS27, GZMB, RPL10, IGLC2, RPS27A, TRBC2, FGFBP2, KLRD1, B2M \n",
      "\t   GZMK, GZMH, TRBC1, RPS3, TRAC, PRF1, CTSW, CD3D, CD3E, RPL30 \n",
      "Negative:  S100A9, S100A8, LYZ, VCAN, CST3, S100A12, FCN1, CTSS, MNDA, TYROBP \n",
      "\t   AC020656.1, FTL, AIF1, S100A6, CD14, LST1, PSAP, FTH1, NEAT1, MS4A6A \n",
      "\t   FGL2, FCER1G, S100A11, CEBPD, S100A4, CYBB, RGS2, TYMP, FOS, CSTA \n",
      "PC_ 2 \n",
      "Positive:  IGKC, IGHM, IGLC2, HLA-DRA, CD74, CD79A, MS4A1, IGLC3, TCL1A, IGHD \n",
      "\t   HLA-DRB1, HLA-DPA1, BANK1, HLA-DPB1, HLA-DQA1, CD79B, RALGPS2, JCHAIN, LINC00926, VPREB3 \n",
      "\t   HLA-DQB1, TNFRSF13C, CD37, FCER2, LTB, MEF2C, AFF3, SPIB, FCRL1, LINC02397 \n",
      "Negative:  GNLY, NKG7, CCL5, GZMB, CST7, FGFBP2, GZMA, KLRD1, PRF1, GZMH \n",
      "\t   CCL4, CTSW, SPON2, CLIC3, KLRF1, HOPX, PTGDS, S100A8, TRDC, S100A9 \n",
      "\t   KLRB1, B2M, CD247, FCGR3A, GZMM, HCST, KLRC1, IL32, EFHD2, MYOM2 \n",
      "PC_ 3 \n",
      "Positive:  IL7R, RPS12, EEF1A1, LDHB, LTB, RPL10, TRAC, TPT1, RPL30, RPL32 \n",
      "\t   RPL34, RPL13, RPS14, TCF7, RPS8, RPS3A, NOSIP, RPS27A, LEF1, CD3D \n",
      "\t   RPL11, RPS27, RPS18, MAL, RPS15A, RPL39, CD3G, RPS28, CD3E, CCR7 \n",
      "Negative:  GNLY, IGKC, NKG7, IGHM, GZMB, CD74, HLA-DRA, CCL5, CD79A, IGLC2 \n",
      "\t   FGFBP2, MS4A1, CST7, PRF1, KLRD1, GZMA, TCL1A, IGHD, HLA-DRB1, PTGDS \n",
      "\t   IGLC3, SPON2, CCL4, CLIC3, GZMH, HLA-DPA1, HLA-DPB1, KLRF1, BANK1, CTSW \n",
      "PC_ 4 \n",
      "Positive:  S100A8, S100A9, GNLY, IGKC, NKG7, S100A12, RPS12, RPL10, RPL13, RPS27 \n",
      "\t   EEF1A1, RPL30, RPS27A, RPLP1, RPL32, IL7R, RPL34, RPL41, RPS8, IGHM \n",
      "\t   RPS3A, RPS14, LTB, RPL11, RPS3, RPS15A, RPS18, LYZ, RPL39, RPS28 \n",
      "Negative:  PPBP, TUBB1, PF4, CAVIN2, GNG11, NRGN, GP9, CLU, CMTM5, PRKAR2B \n",
      "\t   TREML1, TMEM40, ACRBP, MYL9, CTTN, PTCRA, RGS18, HIST1H2AC, AC147651.1, SPARC \n",
      "\t   ITGA2B, LGALSL, CLEC1B, C2orf88, TSC22D1, CLDN5, PDZK1IP1, PDGFA, AP001189.1, MPIG6B \n",
      "PC_ 5 \n",
      "Positive:  S100A8, S100A9, IGKC, S100A12, IGHM, PPBP, PF4, TUBB1, GNG11, CAVIN2 \n",
      "\t   CCL5, IL7R, NRGN, GP9, LTB, RPS12, CLU, CD79A, IL32, CMTM5 \n",
      "\t   RPS27, RPL13, GNLY, VCAN, TREML1, RPS27A, TMEM40, MS4A1, TRBC2, RPL30 \n",
      "Negative:  CST3, CDKN1C, LST1, FCGR3A, AIF1, IFITM3, HLA-DRA, FCER1G, HLA-DPA1, FTH1 \n",
      "\t   MS4A7, HLA-DRB1, FTL, LYPD2, TYROBP, CTSS, SAT1, CFD, PSAP, CD74 \n",
      "\t   HLA-DPB1, COTL1, SERPINA1, NEAT1, FGL2, HLA-DRB5, SMIM25, S100A11, FCN1, SPI1 \n",
      "\n"
     ]
    }
   ],
   "source": [
    "br2_merge <- suppressWarnings(SCTransform(br2_merge, conserve.memory = TRUE)) %>% RunPCA()"
   ]
  },
  {
   "cell_type": "markdown",
   "id": "2167bd85-a0bd-49e3-b69f-8673e83bc5f8",
   "metadata": {},
   "source": [
    "## Label Transfer"
   ]
  },
  {
   "cell_type": "code",
   "execution_count": 35,
   "id": "c49c094e-a4d1-4b36-a57c-294cb7c2008f",
   "metadata": {
    "scrolled": true,
    "tags": []
   },
   "outputs": [
    {
     "name": "stderr",
     "output_type": "stream",
     "text": [
      "Normalizing query using reference SCT model\n",
      "\n",
      "Projecting cell embeddings\n",
      "\n",
      "Finding neighborhoods\n",
      "\n",
      "Finding anchors\n",
      "\n",
      "\tFound 116957 anchors\n",
      "\n",
      "Finding integration vectors\n",
      "\n",
      "Finding integration vector weights\n",
      "\n",
      "Predicting cell labels\n",
      "\n",
      "Warning message:\n",
      "“Keys should be one or more alphanumeric characters followed by an underscore, setting key from predictionscorecelltype.l1_ to predictionscorecelltypel1_”\n",
      "Predicting cell labels\n",
      "\n",
      "Warning message:\n",
      "“Feature names cannot have underscores ('_'), replacing with dashes ('-')”\n",
      "Warning message:\n",
      "“Keys should be one or more alphanumeric characters followed by an underscore, setting key from predictionscorecelltype.l2_ to predictionscorecelltypel2_”\n",
      "Predicting cell labels\n",
      "\n",
      "Warning message:\n",
      "“Feature names cannot have underscores ('_'), replacing with dashes ('-')”\n",
      "Warning message:\n",
      "“Keys should be one or more alphanumeric characters followed by an underscore, setting key from predictionscorecelltype.l3_ to predictionscorecelltypel3_”\n",
      "Transfering 228 features onto reference data\n",
      "\n",
      "Warning message:\n",
      "“Keys should be one or more alphanumeric characters followed by an underscore, setting key from predicted_ADT_ to predictedADT_”\n"
     ]
    }
   ],
   "source": [
    "anchors <- FindTransferAnchors(\n",
    "    reference = ref,\n",
    "    query = br2_merge,\n",
    "    normalization.method = \"SCT\",\n",
    "    reference.reduction = \"spca\",\n",
    "    dims = 1:50\n",
    "    )\n",
    "br2_merge <- TransferData(anchorset = anchors, reference = ref, query = br2_merge,\n",
    "    refdata = list(\n",
    "    celltype.l1 = \"celltype.l1\",\n",
    "    celltype.l2 = \"celltype.l2\",\n",
    "    celltype.l3 = \"celltype.l3\",\n",
    "    predicted_ADT = 'ADT'))"
   ]
  },
  {
   "cell_type": "code",
   "execution_count": 36,
   "id": "93b73748-ba42-48bc-9b27-ea0a75f00165",
   "metadata": {},
   "outputs": [
    {
     "data": {
      "text/plain": [
       "An object of class Seurat \n",
       "58680 features across 329661 samples within 6 assays \n",
       "Active assay: SCT (24817 features, 3000 variable features)\n",
       " 5 other assays present: RNA, prediction.score.celltype.l1, prediction.score.celltype.l2, prediction.score.celltype.l3, predicted_ADT\n",
       " 1 dimensional reduction calculated: pca"
      ]
     },
     "metadata": {},
     "output_type": "display_data"
    }
   ],
   "source": [
    "br2_merge"
   ]
  },
  {
   "cell_type": "markdown",
   "id": "531bb892-585f-434a-aa20-d2430a0295ff",
   "metadata": {},
   "source": [
    "# Merge labeled objects"
   ]
  },
  {
   "cell_type": "code",
   "execution_count": 37,
   "id": "f9f1e6bb-2aa0-4da7-a270-c994cbb46d69",
   "metadata": {},
   "outputs": [],
   "source": [
    "ped_so$age <- 'Pediatric'\n",
    "br1_merge$age <- 'Young Adult'\n",
    "br2_merge$age <- 'Older Adult'"
   ]
  },
  {
   "cell_type": "code",
   "execution_count": 38,
   "id": "22659612-3acb-4569-a974-d668bc02b2aa",
   "metadata": {},
   "outputs": [],
   "source": [
    "so_merge <- merge(ped_so, c(br1_merge, br2_merge))"
   ]
  },
  {
   "cell_type": "code",
   "execution_count": null,
   "id": "cd829fdc-1242-455c-bb5a-d59d04b78346",
   "metadata": {},
   "outputs": [],
   "source": [
    "saveRDS(so_merge, file = 'age_merge_updated.rds')"
   ]
  },
  {
   "cell_type": "code",
   "execution_count": null,
   "id": "b90a6cac-8b81-40d2-9439-893d2a5ecde0",
   "metadata": {},
   "outputs": [],
   "source": [
    "so_merge"
   ]
  },
  {
   "cell_type": "code",
   "execution_count": null,
   "id": "1d020f0e-fb65-42c1-8728-ee93543041f7",
   "metadata": {},
   "outputs": [],
   "source": [
    "# so_merge <- readRDS(file='age_merge.rds')"
   ]
  },
  {
   "cell_type": "markdown",
   "id": "c6ad266a-3d47-4026-8fd3-368be603f02e",
   "metadata": {},
   "source": [
    "# T Cell Clustering"
   ]
  },
  {
   "cell_type": "code",
   "execution_count": null,
   "id": "ae9859d3-3e5c-4710-a47e-8ed925cd150b",
   "metadata": {},
   "outputs": [],
   "source": [
    "so_merge <- SetIdent(so_merge, value = 'predicted.celltype.l1')\n",
    "t_cells <- subset(so_merge, idents = c('CD4 T','CD8 T','other T'))"
   ]
  },
  {
   "cell_type": "code",
   "execution_count": null,
   "id": "99acc609-62f5-448f-9569-e4e3a8c2ab3d",
   "metadata": {},
   "outputs": [],
   "source": [
    "rm(so_merge)"
   ]
  },
  {
   "cell_type": "code",
   "execution_count": null,
   "id": "d3a79223-b0cd-4676-9117-4d5ab25bdd2f",
   "metadata": {
    "scrolled": true,
    "tags": []
   },
   "outputs": [],
   "source": [
    "t_cells <- suppressWarnings(SCTransform(t_cells, conserve.memory = TRUE)) %>% RunPCA()"
   ]
  },
  {
   "cell_type": "code",
   "execution_count": null,
   "id": "f9720fe9-e8a8-4cb3-a80f-f73e6a59da8c",
   "metadata": {},
   "outputs": [],
   "source": [
    "options(repr.plot.width = 5, repr.plot.height = 5)\n",
    "ElbowPlot(t_cells, ndims = 50)"
   ]
  },
  {
   "cell_type": "code",
   "execution_count": null,
   "id": "3f4a02e9-fc78-4b0c-8403-e179cf75b1d2",
   "metadata": {
    "scrolled": true,
    "tags": []
   },
   "outputs": [],
   "source": [
    "t_cells <- RunUMAP(t_cells, dims=1:40) %>% FindNeighbors(dims=1:40) %>% FindClusters(resolution=0.5)"
   ]
  },
  {
   "cell_type": "code",
   "execution_count": null,
   "id": "b7c7953e-24da-4bf6-833f-702bbe185fe8",
   "metadata": {},
   "outputs": [],
   "source": [
    "options(repr.plot.width = 15, repr.plot.height = 8)\n",
    "DimPlot(t_cells, label = TRUE, repel = TRUE)\n",
    "DimPlot(t_cells, group.by = 'predicted.celltype.l3')\n",
    "DimPlot(t_cells, group.by = 'batch_id')\n",
    "DimPlot(t_cells, group.by = 'age', shuffle = TRUE)"
   ]
  },
  {
   "cell_type": "markdown",
   "id": "db43166b-cbff-41be-9d23-fafa20d9a746",
   "metadata": {},
   "source": [
    "# Save"
   ]
  },
  {
   "cell_type": "code",
   "execution_count": null,
   "id": "d04ae227-d4ed-429f-b8e1-ec071ab7a40a",
   "metadata": {},
   "outputs": [],
   "source": [
    "saveRDS(t_cells, file = 'aging_t_cells_updated.rds')"
   ]
  },
  {
   "cell_type": "code",
   "execution_count": null,
   "id": "591f6d4a-1491-4507-8ef5-86a3d5106800",
   "metadata": {
    "scrolled": true,
    "tags": []
   },
   "outputs": [],
   "source": [
    "# rna_markers <- FindAllMarkers(t_cells, max.cells.per.ident = 500)"
   ]
  },
  {
   "cell_type": "code",
   "execution_count": null,
   "id": "11231844-9f6e-4503-b0db-547a9010ee3f",
   "metadata": {},
   "outputs": [],
   "source": [
    "# write.csv(rna_markers, file = 'markers_aging_t_cells.csv')"
   ]
  },
  {
   "cell_type": "code",
   "execution_count": null,
   "id": "dfbe5e44-3f22-48f4-a364-b404ebb8b44d",
   "metadata": {},
   "outputs": [],
   "source": [
    "# head(subset(rna_markers, cluster == 16 & avg_log2FC > 0), n=20)"
   ]
  },
  {
   "cell_type": "code",
   "execution_count": null,
   "id": "b7cb5073-ada3-4f93-8b71-7f631fbe6ab6",
   "metadata": {},
   "outputs": [],
   "source": [
    "# t_cells <- SetIdent(t_cells, value = 'SCT_snn_res.0.5')\n",
    "# t_cells <- FindSubCluster(object = t_cells, cluster = 16, graph.name = 'SCT_snn', resolution = 0.2)\n",
    "# Idents(t_cells) <- \"sub.cluster\""
   ]
  },
  {
   "cell_type": "code",
   "execution_count": null,
   "id": "41cbd496-22d9-45d4-b05a-b95078d10d4f",
   "metadata": {},
   "outputs": [],
   "source": [
    "# DimPlot(t_cells, group.by = 'sub.cluster', label = TRUE, repel = TRUE)"
   ]
  },
  {
   "cell_type": "code",
   "execution_count": null,
   "id": "8aa6d310-5650-4e37-9f04-4bf1fed10669",
   "metadata": {},
   "outputs": [],
   "source": [
    "# table(t_cells$sub.cluster)"
   ]
  },
  {
   "cell_type": "code",
   "execution_count": null,
   "id": "bb17254f-bdc9-40c1-8c93-85f5a672850c",
   "metadata": {},
   "outputs": [],
   "source": [
    "options(repr.plot.width = 20, repr.plot.height = 16)\n",
    "FeaturePlot(t_cells, features = c('RTKN2','TRGC2','ZNF683','KLRC2'))"
   ]
  },
  {
   "cell_type": "code",
   "execution_count": null,
   "id": "c3efe7db-2442-4be2-847b-6f52981fb557",
   "metadata": {},
   "outputs": [],
   "source": [
    "# options(repr.plot.width = 20, repr.plot.height = 12)\n",
    "# VlnPlot(t_cells, features = c('RTKN2','TRGC2','ZNF683','KLRC2'), ncol = 2, group.by = 'sub.cluster', pt.size=0)"
   ]
  }
 ],
 "metadata": {
  "kernelspec": {
   "display_name": "R 4",
   "language": "R",
   "name": "ir"
  },
  "language_info": {
   "codemirror_mode": "r",
   "file_extension": ".r",
   "mimetype": "text/x-r-source",
   "name": "R",
   "pygments_lexer": "r",
   "version": "4.1.2"
  }
 },
 "nbformat": 4,
 "nbformat_minor": 5
}
