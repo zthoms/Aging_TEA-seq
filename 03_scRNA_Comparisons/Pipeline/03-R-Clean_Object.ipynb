{
 "cells": [
  {
   "cell_type": "code",
   "execution_count": null,
   "id": "1895fa81-cdb4-49dd-b864-e60d47cb995e",
   "metadata": {},
   "outputs": [],
   "source": [
    "quiet_library <- function(...) {\n",
    "    suppressPackageStartupMessages(library(...))\n",
    "}\n",
    "quiet_library(Seurat)\n",
    "quiet_library(ggplot2)\n",
    "quiet_library(Matrix)\n",
    "quiet_library(H5weaver)\n",
    "quiet_library(dplyr)\n",
    "quiet_library(viridis)\n",
    "quiet_library(harmony)\n",
    "quiet_library(Nebulosa)"
   ]
  },
  {
   "cell_type": "code",
   "execution_count": null,
   "id": "ed94a18e-ce78-46e2-aeb7-98584d2cca11",
   "metadata": {},
   "outputs": [],
   "source": [
    "t_cells <- readRDS(file = 'aging_t_cells.rds')"
   ]
  },
  {
   "cell_type": "code",
   "execution_count": null,
   "id": "4ee10cb3-e223-486a-828f-934c05ba6647",
   "metadata": {},
   "outputs": [],
   "source": [
    "options(repr.plot.width = 14, repr.plot.height = 8)\n",
    "DimPlot(t_cells, label = TRUE, repel = TRUE, label.size = 10)\n",
    "DimPlot(t_cells, group.by = 'age', shuffle = TRUE)"
   ]
  },
  {
   "cell_type": "code",
   "execution_count": null,
   "id": "f11c275f-aa10-4e1c-9dc8-feb6783c2e04",
   "metadata": {},
   "outputs": [],
   "source": [
    "DefaultAssay(t_cells) <- 'RNA'\n",
    "t_cells <- NormalizeData(t_cells)"
   ]
  },
  {
   "cell_type": "code",
   "execution_count": null,
   "id": "5f9a4c82-bb5d-4adf-babc-d3eb061e2a41",
   "metadata": {},
   "outputs": [],
   "source": [
    "t_cells[[\"percent.mt\"]] <- PercentageFeatureSet(t_cells, pattern = \"^MT-\")"
   ]
  },
  {
   "cell_type": "code",
   "execution_count": null,
   "id": "44062345-cc83-4dda-9241-97ea4a8073d3",
   "metadata": {},
   "outputs": [],
   "source": [
    "options(repr.plot.width = 20, repr.plot.height = 6)\n",
    "VlnPlot(t_cells, features = c('CD3E','CD3G','HBB','percent.mt'), pt.size=0, ncol = 2)"
   ]
  },
  {
   "cell_type": "markdown",
   "id": "5233b885-3ff0-4c0a-ab96-e137c14e0041",
   "metadata": {},
   "source": [
    "Let's drop outlier clusters: \\\n",
    "5, 13, & 16 for low of CD3 expression \\\n",
    "16 for high MT gene expression \\\n",
    "18 for high HBB expression "
   ]
  },
  {
   "cell_type": "code",
   "execution_count": null,
   "id": "65aa8e2f-406f-4b8f-beb8-20f075f84a3e",
   "metadata": {},
   "outputs": [],
   "source": [
    "clean_t <- subset(t_cells, idents = c(5, 13, 16, 18), invert = TRUE)"
   ]
  },
  {
   "cell_type": "code",
   "execution_count": null,
   "id": "6fa7d263-59fd-4a8d-ab08-d451a175e101",
   "metadata": {
    "scrolled": true,
    "tags": []
   },
   "outputs": [],
   "source": [
    "clean_t <- suppressWarnings(SCTransform(clean_t, conserve.memory = TRUE)) %>% RunPCA()"
   ]
  },
  {
   "cell_type": "code",
   "execution_count": null,
   "id": "f5cf057d-316b-4e26-9e66-b6b6e3eee91b",
   "metadata": {
    "scrolled": true,
    "tags": []
   },
   "outputs": [],
   "source": [
    "clean_t <- RunUMAP(clean_t, dims=1:40) %>% FindNeighbors(dims=1:40) %>% FindClusters(resolution=0.5)"
   ]
  },
  {
   "cell_type": "code",
   "execution_count": null,
   "id": "20cfb92b-900c-4602-9fea-7ba54027dbb3",
   "metadata": {},
   "outputs": [],
   "source": [
    "options(repr.plot.width = 15, repr.plot.height = 8)\n",
    "DimPlot(clean_t, label = TRUE, repel = TRUE)\n",
    "DimPlot(clean_t, group.by = 'predicted.celltype.l2')\n",
    "DimPlot(clean_t, group.by = 'batch_id')\n",
    "DimPlot(clean_t, group.by = 'age', shuffle = TRUE)"
   ]
  },
  {
   "cell_type": "code",
   "execution_count": null,
   "id": "91ae215d-a6d4-4312-a007-b8ec2033f497",
   "metadata": {},
   "outputs": [],
   "source": [
    "saveRDS(clean_t, file = 'clean_aging_t_cells.rds')"
   ]
  },
  {
   "cell_type": "code",
   "execution_count": null,
   "id": "27b77f37-35ec-428d-9756-5b1614a34d98",
   "metadata": {},
   "outputs": [],
   "source": [
    "sessionInfo()"
   ]
  }
 ],
 "metadata": {
  "kernelspec": {
   "display_name": "R 4",
   "language": "R",
   "name": "ir"
  },
  "language_info": {
   "codemirror_mode": "r",
   "file_extension": ".r",
   "mimetype": "text/x-r-source",
   "name": "R",
   "pygments_lexer": "r",
   "version": "4.1.2"
  }
 },
 "nbformat": 4,
 "nbformat_minor": 5
}
