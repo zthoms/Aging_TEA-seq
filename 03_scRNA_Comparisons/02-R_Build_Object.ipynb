{
 "cells": [
  {
   "cell_type": "code",
   "execution_count": null,
   "id": "9cb15b91-f8a3-42ed-b139-97d30e9a9f4b",
   "metadata": {},
   "outputs": [],
   "source": [
    "quiet_library <- function(...) {\n",
    "    suppressPackageStartupMessages(library(...))\n",
    "}\n",
    "quiet_library(Seurat)\n",
    "quiet_library(ggplot2)\n",
    "quiet_library(Matrix)\n",
    "quiet_library(H5weaver)\n",
    "quiet_library(dplyr)\n",
    "quiet_library(viridis)\n",
    "quiet_library(harmony)\n",
    "quiet_library(Nebulosa)"
   ]
  },
  {
   "cell_type": "code",
   "execution_count": null,
   "id": "67dbc80a-a603-49db-86f0-7a944d80f221",
   "metadata": {},
   "outputs": [],
   "source": [
    "ped_h5_list <- list.files(path='cache/', pattern=\".h5$\", recursive=TRUE)\n",
    "br1_h5_list <- list.files(path='BR1/', pattern=\".h5$\", recursive=TRUE)\n",
    "br2_h5_list <- list.files(path='BR2/', pattern=\".h5$\", recursive=TRUE)"
   ]
  },
  {
   "cell_type": "code",
   "execution_count": null,
   "id": "1e2b8ee6-05b9-4978-bbdc-230b96dba311",
   "metadata": {},
   "outputs": [],
   "source": [
    "length(ped_h5_list)\n",
    "length(br1_h5_list)\n",
    "length(br2_h5_list)"
   ]
  },
  {
   "cell_type": "markdown",
   "id": "863bc386-3d4f-415a-bda1-3ed5d5937547",
   "metadata": {},
   "source": [
    "# Pediatric Object Generation"
   ]
  },
  {
   "cell_type": "markdown",
   "id": "1692b625-4ed6-4818-9638-878e94c3fb7c",
   "metadata": {},
   "source": [
    "## Create Seurat Object"
   ]
  },
  {
   "cell_type": "code",
   "execution_count": null,
   "id": "e7d99410-b466-4218-a67f-0d0890a8f207",
   "metadata": {},
   "outputs": [],
   "source": [
    "ped_h5_list <- paste0('cache/',ped_h5_list)"
   ]
  },
  {
   "cell_type": "code",
   "execution_count": null,
   "id": "50e3da09-6d9e-4992-a059-36afa4ded2b8",
   "metadata": {
    "scrolled": true,
    "tags": []
   },
   "outputs": [],
   "source": [
    "so_list <- lapply(ped_h5_list, read_h5_seurat)"
   ]
  },
  {
   "cell_type": "code",
   "execution_count": null,
   "id": "6becc0e9-a2b5-44f2-be28-5bb21afe4ef6",
   "metadata": {},
   "outputs": [],
   "source": [
    "so_merge <- Reduce(merge, so_list)"
   ]
  },
  {
   "cell_type": "code",
   "execution_count": null,
   "id": "ae4886d7-d267-4ee7-8ea7-0953ef352ea5",
   "metadata": {},
   "outputs": [],
   "source": [
    "table(so_merge$pbmc_sample_id)"
   ]
  },
  {
   "cell_type": "code",
   "execution_count": null,
   "id": "3eee6b40-d3cb-4d3c-8163-e6604c2257b0",
   "metadata": {},
   "outputs": [],
   "source": [
    "so_merge <- SetIdent(so_merge, value = 'pbmc_sample_id')\n",
    "so_merge <- RenameIdents(so_merge,\n",
    "                        'PB00127-01' = 'D0','PB00173-01' = 'D0','PB00175-01' = 'D7',\n",
    "                        'PB00180-01' = 'D7','PB00182-01' = 'D0','PB00192-01' = 'D0',\n",
    "                        'PB00193-01' = 'D0','PB00809-01' = 'D0','PB00811-01' = 'D0',\n",
    "                        'PB00813-01' = 'D7','PB00815-01' = 'D7','PB00828-01' = 'D7',\n",
    "                        'PB00833-01' = 'D0','PB00841-01' = 'D0','PB00842-01' = 'D0',\n",
    "                        'PB00847-01' = 'D7','PB00852-01' = 'D7','PB00853-01' = 'D7',\n",
    "                        'PB00879-01' = 'D7','PB00884-01' = 'D0','PB00886-01' = 'D7',\n",
    "                        'PB00892-01' = 'D0','PB00907-01' = 'D7','PB00910-01' = 'D0',\n",
    "                        'PB00913-01' = 'D0','PB00914-01' = 'D0','PB00924-01' = 'D7',\n",
    "                        'PB00925-01' = 'D7','PB00928-01' = 'D0','PB00931-01' = 'D7',\n",
    "                        'PB00937-01' = 'D7','PB00961-01' = 'D7')\n",
    "so_merge$visit <- Idents(so_merge)"
   ]
  },
  {
   "cell_type": "code",
   "execution_count": null,
   "id": "098e2ecd-2b40-4408-995e-7a7a874dfa57",
   "metadata": {},
   "outputs": [],
   "source": [
    "table(so_merge$visit)"
   ]
  },
  {
   "cell_type": "code",
   "execution_count": null,
   "id": "f117e46a-2499-43ef-863f-61ca15b97fee",
   "metadata": {},
   "outputs": [],
   "source": [
    "so_merge <- SetIdent(so_merge, value = 'visit')\n",
    "ped_so <- subset(so_merge, idents = 'D0')\n",
    "# d7 <- subset(so_merge, idents = 'D7')"
   ]
  },
  {
   "cell_type": "code",
   "execution_count": null,
   "id": "71688ca4-4f00-4486-8b64-b43cb405321a",
   "metadata": {},
   "outputs": [],
   "source": [
    "table(ped_so$pbmc_sample_id)"
   ]
  },
  {
   "cell_type": "code",
   "execution_count": null,
   "id": "461a7905-eddf-4365-b0ff-75f02c30bb60",
   "metadata": {},
   "outputs": [],
   "source": [
    "rm(so_list)\n",
    "rm(so_merge)"
   ]
  },
  {
   "cell_type": "markdown",
   "id": "fd82f2c7-6d96-4e77-ab80-53e1fbb35059",
   "metadata": {},
   "source": [
    "## Normalization"
   ]
  },
  {
   "cell_type": "code",
   "execution_count": null,
   "id": "c7b19e09-475c-4358-be20-7b1d0f1152f6",
   "metadata": {
    "scrolled": true,
    "tags": []
   },
   "outputs": [],
   "source": [
    "ped_so <- suppressWarnings(SCTransform(ped_so, conserve.memory = TRUE)) %>% RunPCA()"
   ]
  },
  {
   "cell_type": "markdown",
   "id": "52442592-e752-42b8-b49f-3b6d154fba73",
   "metadata": {},
   "source": [
    "## Label Transfer"
   ]
  },
  {
   "cell_type": "code",
   "execution_count": null,
   "id": "abfde373-b6d3-4d99-88ed-5d063d748596",
   "metadata": {},
   "outputs": [],
   "source": [
    "library(SeuratDisk)"
   ]
  },
  {
   "cell_type": "code",
   "execution_count": null,
   "id": "304c2432-634c-4b6f-b605-5dca8892bdee",
   "metadata": {
    "scrolled": true,
    "tags": []
   },
   "outputs": [],
   "source": [
    "ref <- LoadH5Seurat('pbmc_multimodal.h5seurat')"
   ]
  },
  {
   "cell_type": "code",
   "execution_count": null,
   "id": "525e69db-7fa4-4f0d-b018-91e6a4f729a9",
   "metadata": {
    "scrolled": true,
    "tags": []
   },
   "outputs": [],
   "source": [
    "anchors <- FindTransferAnchors(\n",
    "    reference = ref,\n",
    "    query = ped_so,\n",
    "    normalization.method = \"SCT\",\n",
    "    reference.reduction = \"spca\",\n",
    "    dims = 1:50\n",
    "    )\n",
    "ped_so <- TransferData(anchorset = anchors, reference = ref, query = ped_so,\n",
    "    refdata = list(\n",
    "    celltype.l1 = \"celltype.l1\",\n",
    "    celltype.l2 = \"celltype.l2\",\n",
    "    celltype.l3 = \"celltype.l3\",\n",
    "    predicted_ADT = 'ADT'))"
   ]
  },
  {
   "cell_type": "markdown",
   "id": "9c071f0a-a284-4a34-932f-3f0337fe1580",
   "metadata": {},
   "source": [
    "# Young Adult Object Generation"
   ]
  },
  {
   "cell_type": "markdown",
   "id": "9aa4dc4c-4fa5-484c-aa7c-a432de4d9c1e",
   "metadata": {},
   "source": [
    "## Create Seurat Object"
   ]
  },
  {
   "cell_type": "code",
   "execution_count": null,
   "id": "3e007aba-2ce4-48a6-8e4b-06385f15fcf1",
   "metadata": {},
   "outputs": [],
   "source": [
    "br1_h5_list <- paste0('BR1/',br1_h5_list)"
   ]
  },
  {
   "cell_type": "code",
   "execution_count": null,
   "id": "73a85356-3755-49bd-bc07-c9660f31c8c3",
   "metadata": {
    "scrolled": true,
    "tags": []
   },
   "outputs": [],
   "source": [
    "so_list <- lapply(br1_h5_list, read_h5_seurat)"
   ]
  },
  {
   "cell_type": "code",
   "execution_count": null,
   "id": "eae35789-dcac-4fdf-a78b-2e10e0394824",
   "metadata": {},
   "outputs": [],
   "source": [
    "br1_merge <- Reduce(merge, so_list)"
   ]
  },
  {
   "cell_type": "markdown",
   "id": "38ceebba-ab19-410a-901f-092b69d152a8",
   "metadata": {},
   "source": [
    "## Subset to 16 aliquots / subjects"
   ]
  },
  {
   "cell_type": "code",
   "execution_count": null,
   "id": "14e520d8-21dd-43dc-833f-8879c5832943",
   "metadata": {},
   "outputs": [],
   "source": [
    "table(br1_merge$batch_id)"
   ]
  },
  {
   "cell_type": "code",
   "execution_count": null,
   "id": "8c35ca5e-f69f-49e6-b7c2-f59bc1f42843",
   "metadata": {},
   "outputs": [],
   "source": [
    "table(br1_merge$pbmc_sample_id)"
   ]
  },
  {
   "cell_type": "code",
   "execution_count": null,
   "id": "4a2e418c-5a62-4635-a998-83cf7719046e",
   "metadata": {},
   "outputs": [],
   "source": [
    "br1_merge <- SetIdent(br1_merge, value = 'pbmc_sample_id')\n",
    "kt010 <- subset(br1_merge, idents = c('PB00010-01','PB00010-02'))\n",
    "table(kt010$batch_id)"
   ]
  },
  {
   "cell_type": "markdown",
   "id": "dcc2fef5-d90b-4e42-9af8-8d3d70ee84c5",
   "metadata": {},
   "source": [
    "Let's take the more recent batch (B078) since both have very similar cell counts."
   ]
  },
  {
   "cell_type": "code",
   "execution_count": null,
   "id": "3503e96f-8891-4d55-a875-5fc11f2eace3",
   "metadata": {},
   "outputs": [],
   "source": [
    "br1_merge <- SetIdent(br1_merge, value = 'pbmc_sample_id')\n",
    "kt023 <- subset(br1_merge, idents = c('PB00023-03','PB00023-05'))\n",
    "table(kt023$batch_id)"
   ]
  },
  {
   "cell_type": "markdown",
   "id": "eea8fd81-7278-434d-bb7c-562b2851f397",
   "metadata": {},
   "source": [
    "Let's take the more recent batch (B078) since both have very similar cell counts."
   ]
  },
  {
   "cell_type": "code",
   "execution_count": null,
   "id": "b3ea61c2-445d-40e9-b3fb-af70017341a5",
   "metadata": {},
   "outputs": [],
   "source": [
    "br1_merge <- SetIdent(br1_merge, value = 'pbmc_sample_id')\n",
    "kt026 <- subset(br1_merge, idents = c('PB00026-03','PB00026-05'))\n",
    "table(kt026$batch_id)"
   ]
  },
  {
   "cell_type": "markdown",
   "id": "7d559ecb-4708-436b-ada0-132b91588928",
   "metadata": {},
   "source": [
    "Let's again use B078 for this."
   ]
  },
  {
   "cell_type": "code",
   "execution_count": null,
   "id": "f18655cf-4aa6-486b-a544-f47d12ae7951",
   "metadata": {},
   "outputs": [],
   "source": [
    "br1_merge <- SetIdent(br1_merge, value = 'pbmc_sample_id')\n",
    "kt030 <- subset(br1_merge, idents = c('PB00030-02','PB00030-03'))\n",
    "table(kt030$batch_id)"
   ]
  },
  {
   "cell_type": "markdown",
   "id": "1bbcf2ae-6c80-4b00-a948-c4aaf41ceb44",
   "metadata": {},
   "source": [
    "Let's again use B078 for this."
   ]
  },
  {
   "cell_type": "code",
   "execution_count": null,
   "id": "27d7cf18-f2c1-4c22-b183-c2c28f055997",
   "metadata": {},
   "outputs": [],
   "source": [
    "br1_merge <- SetIdent(br1_merge, value = 'pbmc_sample_id')\n",
    "kt031 <- subset(br1_merge, idents = c('PB00031-03','PB00031-05'))\n",
    "table(kt031$batch_id)"
   ]
  },
  {
   "cell_type": "markdown",
   "id": "5499f091-089c-4576-a902-a7eb6683b8a8",
   "metadata": {},
   "source": [
    "Let's again use B078 for this."
   ]
  },
  {
   "cell_type": "code",
   "execution_count": null,
   "id": "64012c16-5275-41ef-b6c3-1027af51c7ef",
   "metadata": {},
   "outputs": [],
   "source": [
    "rm(kt010)\n",
    "rm(kt023)\n",
    "rm(kt026)\n",
    "rm(kt030)\n",
    "rm(kt031)"
   ]
  },
  {
   "cell_type": "code",
   "execution_count": null,
   "id": "002e3363-9113-455e-be82-63a94ef328ad",
   "metadata": {},
   "outputs": [],
   "source": [
    "br1_merge <- SetIdent(br1_merge, value = 'pbmc_sample_id')\n",
    "br1_merge <- subset(br1_merge, idents = c('PB00010-01','PB00023-03','PB00026-03','PB00030-02','PB00031-03'), invert = TRUE)\n",
    "table(br1_merge$pbmc_sample_id)"
   ]
  },
  {
   "cell_type": "markdown",
   "id": "f384c2fc-cee2-4dad-b342-7175abeab392",
   "metadata": {},
   "source": [
    "## Normalization"
   ]
  },
  {
   "cell_type": "code",
   "execution_count": null,
   "id": "24ecda69-e8bd-4d37-a95f-10fa317c201a",
   "metadata": {
    "scrolled": true,
    "tags": []
   },
   "outputs": [],
   "source": [
    "br1_merge <- suppressWarnings(SCTransform(br1_merge, conserve.memory = TRUE)) %>% RunPCA()"
   ]
  },
  {
   "cell_type": "markdown",
   "id": "44a1c4a7-6e22-4997-b4aa-56787b9dbc18",
   "metadata": {},
   "source": [
    "## Label Transfer"
   ]
  },
  {
   "cell_type": "code",
   "execution_count": null,
   "id": "16bc830b-2024-4445-b6db-93f906ea5246",
   "metadata": {},
   "outputs": [],
   "source": [
    "anchors <- FindTransferAnchors(\n",
    "    reference = ref,\n",
    "    query = br1_merge,\n",
    "    normalization.method = \"SCT\",\n",
    "    reference.reduction = \"spca\",\n",
    "    dims = 1:50\n",
    "    )\n",
    "br1_merge <- TransferData(anchorset = anchors, reference = ref, query = br1_merge,\n",
    "    refdata = list(\n",
    "    celltype.l1 = \"celltype.l1\",\n",
    "    celltype.l2 = \"celltype.l2\",\n",
    "    celltype.l3 = \"celltype.l3\",\n",
    "    predicted_ADT = 'ADT'))"
   ]
  },
  {
   "cell_type": "code",
   "execution_count": null,
   "id": "9d0f104c-4221-4e52-b59f-3e61cbbf317d",
   "metadata": {},
   "outputs": [],
   "source": [
    "br1_merge"
   ]
  },
  {
   "cell_type": "markdown",
   "id": "2bcb6860-0f69-428f-8b26-a152e8bb548e",
   "metadata": {},
   "source": [
    "# Older Adult Object Generation"
   ]
  },
  {
   "cell_type": "markdown",
   "id": "6102ef47-125f-443c-96da-32114420bd0a",
   "metadata": {},
   "source": [
    "## Create Seurat Object"
   ]
  },
  {
   "cell_type": "code",
   "execution_count": null,
   "id": "855f77b1-a21b-4fc0-8aac-803182df4125",
   "metadata": {},
   "outputs": [],
   "source": [
    "br2_h5_list <- paste0('BR2/',br2_h5_list)"
   ]
  },
  {
   "cell_type": "code",
   "execution_count": null,
   "id": "6f58a2a5-6972-457f-b79f-fb6ea883af96",
   "metadata": {
    "scrolled": true,
    "tags": []
   },
   "outputs": [],
   "source": [
    "so_list <- lapply(br2_h5_list, read_h5_seurat)"
   ]
  },
  {
   "cell_type": "code",
   "execution_count": null,
   "id": "662d95ef-caa1-429e-9629-d7eb72ad0e58",
   "metadata": {},
   "outputs": [],
   "source": [
    "br2_merge <- Reduce(merge, so_list)"
   ]
  },
  {
   "cell_type": "markdown",
   "id": "282ee1e1-d89b-4e54-8001-610665827aa4",
   "metadata": {},
   "source": [
    "## Subset to 16 aliquots / subjects"
   ]
  },
  {
   "cell_type": "code",
   "execution_count": null,
   "id": "11d9428d-b0fd-43ec-a855-7759197947c5",
   "metadata": {},
   "outputs": [],
   "source": [
    "table(br2_merge$batch_id)"
   ]
  },
  {
   "cell_type": "markdown",
   "id": "bb536b1e-c856-496f-83ee-34839f452915",
   "metadata": {},
   "source": [
    "Will want to drop EXP-00243"
   ]
  },
  {
   "cell_type": "code",
   "execution_count": null,
   "id": "8048575e-5dc9-476c-af29-d0b62909d9bb",
   "metadata": {},
   "outputs": [],
   "source": [
    "br2_merge <- SetIdent(br2_merge, value = 'batch_id')\n",
    "br2_merge <- subset(br2_merge, idents = 'EXP-00243', invert = TRUE)"
   ]
  },
  {
   "cell_type": "code",
   "execution_count": null,
   "id": "df77cb76-1ba5-4b17-af9c-5605391fda5c",
   "metadata": {},
   "outputs": [],
   "source": [
    "table(br2_merge$pbmc_sample_id)"
   ]
  },
  {
   "cell_type": "code",
   "execution_count": null,
   "id": "1e218e2a-3e02-4558-bfc2-7d5149c12905",
   "metadata": {},
   "outputs": [],
   "source": [
    "br2_merge <- SetIdent(br2_merge, value = 'pbmc_sample_id')\n",
    "kt352 <- subset(br2_merge, idents = c('PB00352-01','PB00352-04'))"
   ]
  },
  {
   "cell_type": "code",
   "execution_count": null,
   "id": "18434f3c-f32b-4633-8d1b-7db182e14e59",
   "metadata": {},
   "outputs": [],
   "source": [
    "table(kt352$batch_id)"
   ]
  },
  {
   "cell_type": "markdown",
   "id": "c6f5f316-66f3-4f9a-89b9-783702ac12d0",
   "metadata": {},
   "source": [
    "Let's take the more recent batch (B078) with higher cell number."
   ]
  },
  {
   "cell_type": "code",
   "execution_count": null,
   "id": "32c8e832-dd1b-47d5-968f-847fb7013a1a",
   "metadata": {},
   "outputs": [],
   "source": [
    "br2_merge <- SetIdent(br2_merge, value = 'pbmc_sample_id')\n",
    "kt561 <- subset(br2_merge, idents = c('PB00561-01','PB00561-04'))"
   ]
  },
  {
   "cell_type": "code",
   "execution_count": null,
   "id": "3bf0674f-3458-4c64-8e48-1aed514d7932",
   "metadata": {},
   "outputs": [],
   "source": [
    "table(kt561$batch_id)"
   ]
  },
  {
   "cell_type": "markdown",
   "id": "5c0067b9-c5d1-4431-841e-5629810ab9f2",
   "metadata": {},
   "source": [
    "Let's take the batch with a higher cell number (B054)"
   ]
  },
  {
   "cell_type": "code",
   "execution_count": null,
   "id": "b4b3ab00-7b77-4638-ab85-ce218bb1e7bb",
   "metadata": {},
   "outputs": [],
   "source": [
    "rm(kt352)\n",
    "rm(kt561)"
   ]
  },
  {
   "cell_type": "code",
   "execution_count": null,
   "id": "0db02549-a919-4255-8b1a-75f2efce41eb",
   "metadata": {},
   "outputs": [],
   "source": [
    "br2_merge <- SetIdent(br2_merge, value = 'pbmc_sample_id')\n",
    "br2_merge <- subset(br2_merge, idents = c('PB00352-01','PB00561-04'),invert=TRUE)"
   ]
  },
  {
   "cell_type": "code",
   "execution_count": null,
   "id": "f7187b91-a8be-4006-80c9-09a3e9037c5b",
   "metadata": {},
   "outputs": [],
   "source": [
    "table(br2_merge$batch_id)\n",
    "table(br2_merge$pbmc_sample_id)"
   ]
  },
  {
   "cell_type": "markdown",
   "id": "61a0ea0b-81ea-49ef-b66e-bcdb34d88d11",
   "metadata": {},
   "source": [
    "## Normalization"
   ]
  },
  {
   "cell_type": "code",
   "execution_count": null,
   "id": "ee9b76c6-1f18-4922-8e67-8d984245c7d7",
   "metadata": {
    "scrolled": true,
    "tags": []
   },
   "outputs": [],
   "source": [
    "br2_merge <- suppressWarnings(SCTransform(br2_merge, conserve.memory = TRUE)) %>% RunPCA()"
   ]
  },
  {
   "cell_type": "markdown",
   "id": "2167bd85-a0bd-49e3-b69f-8673e83bc5f8",
   "metadata": {},
   "source": [
    "## Label Transfer"
   ]
  },
  {
   "cell_type": "code",
   "execution_count": null,
   "id": "c49c094e-a4d1-4b36-a57c-294cb7c2008f",
   "metadata": {
    "scrolled": true,
    "tags": []
   },
   "outputs": [],
   "source": [
    "anchors <- FindTransferAnchors(\n",
    "    reference = ref,\n",
    "    query = br2_merge,\n",
    "    normalization.method = \"SCT\",\n",
    "    reference.reduction = \"spca\",\n",
    "    dims = 1:50\n",
    "    )\n",
    "br2_merge <- TransferData(anchorset = anchors, reference = ref, query = br2_merge,\n",
    "    refdata = list(\n",
    "    celltype.l1 = \"celltype.l1\",\n",
    "    celltype.l2 = \"celltype.l2\",\n",
    "    celltype.l3 = \"celltype.l3\",\n",
    "    predicted_ADT = 'ADT'))"
   ]
  },
  {
   "cell_type": "code",
   "execution_count": null,
   "id": "93b73748-ba42-48bc-9b27-ea0a75f00165",
   "metadata": {},
   "outputs": [],
   "source": [
    "br2_merge"
   ]
  },
  {
   "cell_type": "markdown",
   "id": "531bb892-585f-434a-aa20-d2430a0295ff",
   "metadata": {},
   "source": [
    "# Merge labeled objects"
   ]
  },
  {
   "cell_type": "code",
   "execution_count": null,
   "id": "f9f1e6bb-2aa0-4da7-a270-c994cbb46d69",
   "metadata": {},
   "outputs": [],
   "source": [
    "ped_so$age <- 'Pediatric'\n",
    "br1_merge$age <- 'Young Adult'\n",
    "br2_merge$age <- 'Older Adult'"
   ]
  },
  {
   "cell_type": "code",
   "execution_count": null,
   "id": "22659612-3acb-4569-a974-d668bc02b2aa",
   "metadata": {},
   "outputs": [],
   "source": [
    "so_merge <- merge(ped_so, c(br1_merge, br2_merge))"
   ]
  },
  {
   "cell_type": "code",
   "execution_count": null,
   "id": "cd829fdc-1242-455c-bb5a-d59d04b78346",
   "metadata": {},
   "outputs": [],
   "source": [
    "saveRDS(so_merge, file = 'age_merge.rds')"
   ]
  },
  {
   "cell_type": "code",
   "execution_count": null,
   "id": "b90a6cac-8b81-40d2-9439-893d2a5ecde0",
   "metadata": {},
   "outputs": [],
   "source": [
    "so_merge"
   ]
  },
  {
   "cell_type": "code",
   "execution_count": null,
   "id": "1d020f0e-fb65-42c1-8728-ee93543041f7",
   "metadata": {},
   "outputs": [],
   "source": [
    "# so_merge <- readRDS(file='age_merge.rds')"
   ]
  },
  {
   "cell_type": "markdown",
   "id": "c6ad266a-3d47-4026-8fd3-368be603f02e",
   "metadata": {},
   "source": [
    "# T Cell Clustering"
   ]
  },
  {
   "cell_type": "code",
   "execution_count": null,
   "id": "ae9859d3-3e5c-4710-a47e-8ed925cd150b",
   "metadata": {},
   "outputs": [],
   "source": [
    "so_merge <- SetIdent(so_merge, value = 'predicted.celltype.l1')\n",
    "t_cells <- subset(so_merge, idents = c('CD4 T','CD8 T','other T'))"
   ]
  },
  {
   "cell_type": "code",
   "execution_count": null,
   "id": "99acc609-62f5-448f-9569-e4e3a8c2ab3d",
   "metadata": {},
   "outputs": [],
   "source": [
    "rm(so_merge)"
   ]
  },
  {
   "cell_type": "code",
   "execution_count": null,
   "id": "d3a79223-b0cd-4676-9117-4d5ab25bdd2f",
   "metadata": {
    "scrolled": true,
    "tags": []
   },
   "outputs": [],
   "source": [
    "t_cells <- suppressWarnings(SCTransform(t_cells, conserve.memory = TRUE)) %>% RunPCA()"
   ]
  },
  {
   "cell_type": "code",
   "execution_count": null,
   "id": "f9720fe9-e8a8-4cb3-a80f-f73e6a59da8c",
   "metadata": {},
   "outputs": [],
   "source": [
    "options(repr.plot.width = 5, repr.plot.height = 5)\n",
    "ElbowPlot(t_cells, ndims = 50)"
   ]
  },
  {
   "cell_type": "code",
   "execution_count": null,
   "id": "3f4a02e9-fc78-4b0c-8403-e179cf75b1d2",
   "metadata": {
    "scrolled": true,
    "tags": []
   },
   "outputs": [],
   "source": [
    "t_cells <- RunUMAP(t_cells, dims=1:40) %>% FindNeighbors(dims=1:40) %>% FindClusters(resolution=0.5)"
   ]
  },
  {
   "cell_type": "code",
   "execution_count": null,
   "id": "b7c7953e-24da-4bf6-833f-702bbe185fe8",
   "metadata": {},
   "outputs": [],
   "source": [
    "options(repr.plot.width = 15, repr.plot.height = 8)\n",
    "DimPlot(t_cells, label = TRUE, repel = TRUE)\n",
    "DimPlot(t_cells, group.by = 'predicted.celltype.l3')\n",
    "DimPlot(t_cells, group.by = 'batch_id')\n",
    "DimPlot(t_cells, group.by = 'age', shuffle = TRUE)"
   ]
  },
  {
   "cell_type": "markdown",
   "id": "db43166b-cbff-41be-9d23-fafa20d9a746",
   "metadata": {},
   "source": [
    "# Save"
   ]
  },
  {
   "cell_type": "code",
   "execution_count": null,
   "id": "d04ae227-d4ed-429f-b8e1-ec071ab7a40a",
   "metadata": {},
   "outputs": [],
   "source": [
    "saveRDS(t_cells, file = 'aging_t_cells.rds')"
   ]
  },
  {
   "cell_type": "code",
   "execution_count": null,
   "id": "bb17254f-bdc9-40c1-8c93-85f5a672850c",
   "metadata": {},
   "outputs": [],
   "source": [
    "options(repr.plot.width = 20, repr.plot.height = 16)\n",
    "FeaturePlot(t_cells, features = c('RTKN2','TRGC2','ZNF683','KLRC2'))"
   ]
  }
 ],
 "metadata": {
  "kernelspec": {
   "display_name": "R 4",
   "language": "R",
   "name": "ir"
  },
  "language_info": {
   "codemirror_mode": "r",
   "file_extension": ".r",
   "mimetype": "text/x-r-source",
   "name": "R",
   "pygments_lexer": "r",
   "version": "4.1.2"
  }
 },
 "nbformat": 4,
 "nbformat_minor": 5
}
