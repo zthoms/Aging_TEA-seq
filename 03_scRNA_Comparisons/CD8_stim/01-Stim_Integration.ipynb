{
 "cells": [
  {
   "cell_type": "code",
   "execution_count": null,
   "id": "7615861d-1005-42e6-bf6f-3c561d9f545e",
   "metadata": {},
   "outputs": [],
   "source": [
    "library(Seurat)\n",
    "library(dplyr)\n",
    "library(ggplot2)"
   ]
  },
  {
   "cell_type": "markdown",
   "id": "8025cb17-50da-42a5-9967-f248b0ba54c6",
   "metadata": {},
   "source": [
    "# Import CD8 Stim Experiment"
   ]
  },
  {
   "cell_type": "code",
   "execution_count": null,
   "id": "c8b40470-6560-4014-99da-28f035e7e736",
   "metadata": {},
   "outputs": [],
   "source": [
    "in_h5s <- list.files(path = '../cellranger_output/', pattern = 'filtered_feature_bc_matrix.h5$', full.names = TRUE, recursive = TRUE)"
   ]
  },
  {
   "cell_type": "code",
   "execution_count": null,
   "id": "74855f04-6158-46c6-9268-a533d9b68db5",
   "metadata": {},
   "outputs": [],
   "source": [
    "length(in_h5s)"
   ]
  },
  {
   "cell_type": "code",
   "execution_count": null,
   "id": "d7340cd9-8b93-4268-ac6e-2d1fee6d6a71",
   "metadata": {
    "scrolled": true,
    "tags": []
   },
   "outputs": [],
   "source": [
    "so_list <- lapply(in_h5s, function(x){\n",
    "    mtx <- Read10X_h5(x)\n",
    "    so <- CreateSeuratObject(mtx$`Gene Expression`)\n",
    "    so[['ADT']] <- CreateAssayObject(mtx$`Antibody Capture`)\n",
    "    so$libraryID <- substring(text = x, first = 44, last = 54)\n",
    "    \n",
    "    return(so)\n",
    "})"
   ]
  },
  {
   "cell_type": "code",
   "execution_count": null,
   "id": "dd0ad5d6-febf-4160-b686-e23cffc1b219",
   "metadata": {},
   "outputs": [],
   "source": [
    "exp618_merge <- Reduce(merge, so_list)"
   ]
  },
  {
   "cell_type": "markdown",
   "id": "824f3bdd-ceea-4800-be8d-bfaeec781838",
   "metadata": {},
   "source": [
    "# Add Metadata"
   ]
  },
  {
   "cell_type": "code",
   "execution_count": null,
   "id": "5d073059-01cc-4564-bda9-670569173f39",
   "metadata": {},
   "outputs": [],
   "source": [
    "unique(exp618_merge$libraryID)"
   ]
  },
  {
   "cell_type": "code",
   "execution_count": null,
   "id": "b68be66a-64c9-4303-8bc3-f03ecdd6ea48",
   "metadata": {},
   "outputs": [],
   "source": [
    "exp618_merge <- SetIdent(exp618_merge, value = 'libraryID')\n",
    "exp618_merge <- RenameIdents(exp618_merge,\n",
    "                         'LB00172-001' = 'UP1002',\n",
    "                         'LB00172-002' = 'UP1002',\n",
    "                         'LB00172-003' = 'UP1002',\n",
    "                         'LB00173-001' = 'UP1006',\n",
    "                         'LB00173-002' = 'UP1006',\n",
    "                         'LB00173-003' = 'UP1006',\n",
    "                         'LB00182-001' = 'UP1003',\n",
    "                         'LB00182-002' = 'UP1003',\n",
    "                         'LB00182-003' = 'UP1003',\n",
    "                         'LB00197-001' = 'UP1010', \n",
    "                         'LB00197-002' = 'UP1010',\n",
    "                         'LB00197-003' = 'UP1010',\n",
    "                         'LB02232/out' = 'Pooled Peds',\n",
    "                         'LB04480-011' = 'CB009',\n",
    "                         'LB04480-012' = 'CB009',\n",
    "                         'LB04480-013' = 'CB009')\n",
    "exp618_merge$sampleID <- Idents(exp618_merge)"
   ]
  },
  {
   "cell_type": "code",
   "execution_count": null,
   "id": "87293c80-899e-47e3-8944-259f853e7d3f",
   "metadata": {},
   "outputs": [],
   "source": [
    "exp618_merge <- SetIdent(exp618_merge, value = 'libraryID')\n",
    "exp618_merge <- RenameIdents(exp618_merge,\n",
    "                         'LB00172-001' = 'TCR',\n",
    "                         'LB00172-002' = 'PMA',\n",
    "                         'LB00172-003' = 'IL21',\n",
    "                         'LB00173-001' = 'TCR',\n",
    "                         'LB00173-002' = 'PMA',\n",
    "                         'LB00173-003' = 'IL21',\n",
    "                         'LB00182-001' = 'TCR',\n",
    "                         'LB00182-002' = 'PMA',\n",
    "                         'LB00182-003' = 'IL21',\n",
    "                         'LB00197-001' = 'TCR', \n",
    "                         'LB00197-002' = 'PMA',\n",
    "                         'LB00197-003' = 'IL21',\n",
    "                         'LB02232/out' = 'Unstim',\n",
    "                         'LB04480-011' = 'Unstim',\n",
    "                         'LB04480-012' = 'PMA',\n",
    "                         'LB04480-013' = 'IL21')\n",
    "exp618_merge$stim <- Idents(exp618_merge)"
   ]
  },
  {
   "cell_type": "code",
   "execution_count": null,
   "id": "86734609-be37-4b43-ad2a-87ae601ea019",
   "metadata": {},
   "outputs": [],
   "source": [
    "exp618_merge <- SetIdent(exp618_merge, value = 'libraryID')\n",
    "exp618_merge <- RenameIdents(exp618_merge,\n",
    "                         'LB00172-001' = 'Ped',\n",
    "                         'LB00172-002' = 'Ped',\n",
    "                         'LB00172-003' = 'Ped',\n",
    "                         'LB00173-001' = 'Ped',\n",
    "                         'LB00173-002' = 'Ped',\n",
    "                         'LB00173-003' = 'Ped',\n",
    "                         'LB00182-001' = 'Ped',\n",
    "                         'LB00182-002' = 'Ped',\n",
    "                         'LB00182-003' = 'Ped',\n",
    "                         'LB00197-001' = 'Ped', \n",
    "                         'LB00197-002' = 'Ped',\n",
    "                         'LB00197-003' = 'Ped',\n",
    "                         'LB02232/out' = 'Ped',\n",
    "                         'LB04480-011' = 'CB',\n",
    "                         'LB04480-012' = 'CB',\n",
    "                         'LB04480-013' = 'CB')\n",
    "exp618_merge$age <- Idents(exp618_merge)"
   ]
  },
  {
   "cell_type": "code",
   "execution_count": null,
   "id": "960e5744-fc7e-4a3f-927d-d93ff9eb0d7f",
   "metadata": {},
   "outputs": [],
   "source": [
    "exp618_merge <- SetIdent(exp618_merge, value = 'libraryID')\n",
    "exp618_merge <- RenameIdents(exp618_merge,\n",
    "                         'LB00172-001' = 'EXP-00618',\n",
    "                         'LB00172-002' = 'EXP-00618',\n",
    "                         'LB00172-003' = 'EXP-00618',\n",
    "                         'LB00173-001' = 'EXP-00618',\n",
    "                         'LB00173-002' = 'EXP-00618',\n",
    "                         'LB00173-003' = 'EXP-00618',\n",
    "                         'LB00182-001' = 'EXP-00618',\n",
    "                         'LB00182-002' = 'EXP-00618',\n",
    "                         'LB00182-003' = 'EXP-00618',\n",
    "                         'LB00197-001' = 'EXP-00618', \n",
    "                         'LB00197-002' = 'EXP-00618',\n",
    "                         'LB00197-003' = 'EXP-00618',\n",
    "                         'LB02232/out' = 'EXP-00618',\n",
    "                         'LB04480-011' = 'EXP-00618',\n",
    "                         'LB04480-012' = 'EXP-00618',\n",
    "                         'LB04480-013' = 'EXP-00618')\n",
    "exp618_merge$exp <- Idents(exp618_merge)"
   ]
  },
  {
   "cell_type": "code",
   "execution_count": null,
   "id": "dcca0d49-73da-4ebc-ab30-cece8d7e077b",
   "metadata": {},
   "outputs": [],
   "source": [
    "exp618_merge <- SetIdent(exp618_merge, value = 'age')\n",
    "ped_only <- subset(exp618_merge, ident = 'Ped')"
   ]
  },
  {
   "cell_type": "code",
   "execution_count": null,
   "id": "af12e253-872d-4077-bb52-1d8c4ab8654f",
   "metadata": {},
   "outputs": [],
   "source": [
    "rm(exp618_merge)\n",
    "rm(so_list)"
   ]
  },
  {
   "cell_type": "markdown",
   "id": "3dc8b107-d438-40ef-ac88-fdc0f54ec990",
   "metadata": {},
   "source": [
    "## QC EXP-00618"
   ]
  },
  {
   "cell_type": "code",
   "execution_count": null,
   "id": "59cbd061-8000-41ee-b749-7a3a33edeef1",
   "metadata": {},
   "outputs": [],
   "source": [
    "ped_only[[\"percent.mt\"]] <- PercentageFeatureSet(ped_only, pattern = \"^MT-\")"
   ]
  },
  {
   "cell_type": "code",
   "execution_count": null,
   "id": "b9ad9d61-11f1-4109-8e85-faeb9afac461",
   "metadata": {},
   "outputs": [],
   "source": [
    "options(repr.plot.width = 20, repr.plot.height = 5)\n",
    "VlnPlot(ped_only, features = 'nCount_RNA', group.by = 'libraryID', pt.size = 0, log = TRUE) + NoLegend() & geom_hline(yintercept = 25000) & geom_hline(yintercept = 300)\n",
    "VlnPlot(ped_only, features = 'nFeature_RNA', group.by = 'libraryID', pt.size = 0, log = FALSE) + NoLegend() & geom_hline(yintercept = 5000) & geom_hline(yintercept = 200)\n",
    "VlnPlot(ped_only, features = 'nCount_ADT', group.by = 'libraryID', pt.size = 0, log = TRUE) + NoLegend()\n",
    "VlnPlot(ped_only, features = 'percent.mt', group.by = 'libraryID', pt.size = 0.1, log = TRUE) + NoLegend() & geom_hline(yintercept = 10)"
   ]
  },
  {
   "cell_type": "code",
   "execution_count": null,
   "id": "3f5effd4-c7f0-4d1e-9295-03956b715c40",
   "metadata": {},
   "outputs": [],
   "source": [
    "ped_only"
   ]
  },
  {
   "cell_type": "code",
   "execution_count": null,
   "id": "1e2b9243-4920-4f64-8f92-d38ffa70d91e",
   "metadata": {},
   "outputs": [],
   "source": [
    "ped_only <- subset(ped_only, percent.mt < 10)\n",
    "ped_only"
   ]
  },
  {
   "cell_type": "markdown",
   "id": "fe2a1523-b2be-43a7-b8b2-07396d1718b5",
   "metadata": {},
   "source": [
    "# Standard Clustering"
   ]
  },
  {
   "cell_type": "code",
   "execution_count": null,
   "id": "50bbd6bd-fc92-4464-9bc7-170af98f2a4b",
   "metadata": {
    "scrolled": true,
    "tags": []
   },
   "outputs": [],
   "source": [
    "ped_only <- NormalizeData(ped_only) %>% FindVariableFeatures() %>% ScaleData() %>% RunPCA()"
   ]
  },
  {
   "cell_type": "code",
   "execution_count": null,
   "id": "affad61e-1f30-4f9c-9cda-4a4fc6cc56fe",
   "metadata": {},
   "outputs": [],
   "source": [
    "ElbowPlot(ped_only, ndims = 50)"
   ]
  },
  {
   "cell_type": "code",
   "execution_count": null,
   "id": "15247434-24f6-456b-9fb7-4e15db1de055",
   "metadata": {
    "scrolled": true,
    "tags": []
   },
   "outputs": [],
   "source": [
    "ped_only <- RunUMAP(ped_only, dims = 1:20) %>% FindNeighbors(dims = 1:20) %>% FindClusters(resolution = 0.5)"
   ]
  },
  {
   "cell_type": "code",
   "execution_count": null,
   "id": "23679bf1-5bea-49a4-8391-940985ab9512",
   "metadata": {},
   "outputs": [],
   "source": [
    "options(repr.plot.width = 20, repr.plot.height = 10)\n",
    "p1 <- DimPlot(ped_only, group.by = 'sampleID')\n",
    "p2 <- DimPlot(ped_only, group.by = 'stim')\n",
    "p1 + p2"
   ]
  },
  {
   "cell_type": "code",
   "execution_count": null,
   "id": "0950d5a7-56f1-47c2-951e-c7290b174999",
   "metadata": {},
   "outputs": [],
   "source": [
    "options(repr.plot.width = 20, repr.plot.height = 10)\n",
    "p1 <- DimPlot(ped_only)\n",
    "p2 <- DimPlot(ped_only, group.by = 'stim')\n",
    "p1 + p2"
   ]
  },
  {
   "cell_type": "code",
   "execution_count": null,
   "id": "d11012cb-5736-44e8-8c9f-bc953a2dda82",
   "metadata": {},
   "outputs": [],
   "source": [
    "options(repr.plot.width = 20, repr.plot.height = 10)\n",
    "p1 <- DimPlot(ped_only, group.by = 'exp', shuffle = TRUE)\n",
    "p2 <- DimPlot(ped_only, group.by = 'stim')\n",
    "p1 + p2"
   ]
  },
  {
   "cell_type": "markdown",
   "id": "b2531bdd-6e18-453d-8ce3-41b0316a65ae",
   "metadata": {},
   "source": [
    "# Integrated Version"
   ]
  },
  {
   "cell_type": "code",
   "execution_count": null,
   "id": "d1ddca7f-1353-4761-9ea2-70efe310f3db",
   "metadata": {},
   "outputs": [],
   "source": [
    "# split the dataset into a list of two seurat objects (stim and CTRL)\n",
    "stim.list <- SplitObject(ped_only, split.by = \"stim\")\n",
    "\n",
    "# normalize and identify variable features for each dataset independently\n",
    "stim.list <- lapply(X = stim.list, FUN = function(x) {\n",
    "    x <- NormalizeData(x)\n",
    "    x <- FindVariableFeatures(x, selection.method = \"vst\", nfeatures = 2000)\n",
    "})\n",
    "\n",
    "# select features that are repeatedly variable across datasets for integration\n",
    "features <- SelectIntegrationFeatures(object.list = stim.list)"
   ]
  },
  {
   "cell_type": "code",
   "execution_count": null,
   "id": "58975e6f-b541-4a30-b9f3-8ea92f6dbdd1",
   "metadata": {
    "scrolled": true,
    "tags": []
   },
   "outputs": [],
   "source": [
    "immune.anchors <- FindIntegrationAnchors(object.list = stim.list, anchor.features = features)"
   ]
  },
  {
   "cell_type": "code",
   "execution_count": null,
   "id": "2dade887-4911-48d5-80a6-409a7d702683",
   "metadata": {
    "scrolled": true,
    "tags": []
   },
   "outputs": [],
   "source": [
    "# this command creates an 'integrated' data assay\n",
    "immune.combined <- IntegrateData(anchorset = immune.anchors)"
   ]
  },
  {
   "cell_type": "code",
   "execution_count": null,
   "id": "7e508099-46fb-4c50-91a0-14636db8f6a0",
   "metadata": {
    "scrolled": true,
    "tags": []
   },
   "outputs": [],
   "source": [
    "# specify that we will perform downstream analysis on the corrected data note that the\n",
    "# original unmodified data still resides in the 'RNA' assay\n",
    "DefaultAssay(immune.combined) <- \"integrated\"\n",
    "\n",
    "# Run the standard workflow for visualization and clustering\n",
    "immune.combined <- ScaleData(immune.combined, verbose = FALSE)\n",
    "immune.combined <- RunPCA(immune.combined, npcs = 30, verbose = FALSE)\n",
    "immune.combined <- RunUMAP(immune.combined, reduction = \"pca\", dims = 1:25)\n",
    "immune.combined <- FindNeighbors(immune.combined, reduction = \"pca\", dims = 1:25)\n",
    "immune.combined <- FindClusters(immune.combined, resolution = 0.5)"
   ]
  },
  {
   "cell_type": "code",
   "execution_count": null,
   "id": "0bac0086-eedd-4d26-82f8-6df3799163b6",
   "metadata": {},
   "outputs": [],
   "source": [
    "DefaultAssay(immune.combined) <- \"integrated\"\n",
    "immune.combined <- FindClusters(immune.combined, resolution = 1)"
   ]
  },
  {
   "cell_type": "code",
   "execution_count": null,
   "id": "d7d46b00-be7b-4f59-8036-a898d021b346",
   "metadata": {
    "tags": []
   },
   "outputs": [],
   "source": [
    "# Visualization\n",
    "options(repr.plot.width = 20, repr.plot.height = 10)\n",
    "p1 <- DimPlot(immune.combined, reduction = \"umap\", group.by = \"stim\")\n",
    "p2 <- DimPlot(immune.combined, reduction = \"umap\", label = TRUE, repel = TRUE)\n",
    "p1 + p2"
   ]
  },
  {
   "cell_type": "code",
   "execution_count": null,
   "id": "9e8c7deb-b853-479b-8946-b732095f1875",
   "metadata": {
    "tags": []
   },
   "outputs": [],
   "source": [
    "options(repr.plot.width = 20, repr.plot.height = 10)\n",
    "p1 <- DimPlot(immune.combined, group.by = 'sampleID')\n",
    "p2 <- DimPlot(immune.combined, group.by = 'stim')\n",
    "p1 + p2"
   ]
  },
  {
   "cell_type": "code",
   "execution_count": null,
   "id": "0ff84623-f8e5-42b7-a3aa-7c53792bf55b",
   "metadata": {},
   "outputs": [],
   "source": [
    "options(repr.plot.width = 20, repr.plot.height = 10)\n",
    "DimPlot(immune.combined, split.by = 'stim', ncol = 2)"
   ]
  },
  {
   "cell_type": "code",
   "execution_count": null,
   "id": "8301239b-2513-464d-95bb-64f6a673e8b2",
   "metadata": {},
   "outputs": [],
   "source": [
    "options(repr.plot.width = 20, repr.plot.height = 10)\n",
    "p1 <- FeaturePlot(immune.combined, features = 'percent.mt')\n",
    "p2 <- DimPlot(immune.combined, group.by = 'stim')\n",
    "p1 + p2"
   ]
  },
  {
   "cell_type": "code",
   "execution_count": null,
   "id": "e1400858-ab8b-4906-97c6-0c398b5d5f2f",
   "metadata": {},
   "outputs": [],
   "source": [
    "immune.combined <- NormalizeData(immune.combined, assay = 'ADT', normalization.method = \"CLR\", margin = 2)\n",
    "DefaultAssay(immune.combined) <- 'RNA'"
   ]
  },
  {
   "cell_type": "markdown",
   "id": "b9418d6f-9bb1-4e43-a2c4-d5f91a9a2ec7",
   "metadata": {},
   "source": [
    "# DEGs"
   ]
  },
  {
   "cell_type": "code",
   "execution_count": null,
   "id": "6fcdb35f-5c51-48b1-8a99-2a9b2dcf1143",
   "metadata": {
    "scrolled": true,
    "tags": []
   },
   "outputs": [],
   "source": [
    "degs <- FindAllMarkers(immune.combined, max.cells.per.ident = 500, assay = 'RNA')"
   ]
  },
  {
   "cell_type": "code",
   "execution_count": null,
   "id": "695da549-370b-48b7-a434-8e359c917db8",
   "metadata": {},
   "outputs": [],
   "source": [
    "so_small <- subset(immune.combined, downsample = 100)"
   ]
  },
  {
   "cell_type": "code",
   "execution_count": null,
   "id": "2e8b3042-71f0-44a5-bd5b-4c20b501e9e7",
   "metadata": {},
   "outputs": [],
   "source": [
    "so_small <- ScaleData(so_small, features = rownames(so_small[['RNA']]))"
   ]
  },
  {
   "cell_type": "code",
   "execution_count": null,
   "id": "25377b8c-4b4f-4697-bb7c-5673de58b7f4",
   "metadata": {},
   "outputs": [],
   "source": [
    "options(repr.plot.width = 20, repr.plot.height = 20)\n",
    "degs %>%\n",
    "    group_by(cluster) %>%\n",
    "    top_n(n = 10, wt = avg_log2FC) -> top10\n",
    "DoHeatmap(so_small, features = top10$gene) + NoLegend()"
   ]
  },
  {
   "cell_type": "code",
   "execution_count": null,
   "id": "d3f04ccd-32c5-4f43-9c26-dc6d6befc6d3",
   "metadata": {},
   "outputs": [],
   "source": [
    "head(subset(degs, cluster == 17), n=15)"
   ]
  },
  {
   "cell_type": "markdown",
   "id": "c261c744-dc96-4e17-a1b8-07cee8c0deeb",
   "metadata": {},
   "source": [
    "# Cell Type Identification"
   ]
  },
  {
   "cell_type": "code",
   "execution_count": null,
   "id": "4d2e64bb-145f-4583-83d6-4e0c816925e4",
   "metadata": {},
   "outputs": [],
   "source": [
    "options(repr.plot.width = 20, repr.plot.height = 10)\n",
    "DimPlot(immune.combined, group.by = 'stim', split.by = 'stim', shuffle = TRUE)"
   ]
  },
  {
   "cell_type": "code",
   "execution_count": null,
   "id": "94f92ecb-838e-4c0f-872b-6aa6028771ea",
   "metadata": {},
   "outputs": [],
   "source": [
    "options(repr.plot.width = 20, repr.plot.height = 10)\n",
    "immune.combined <- SetIdent(immune.combined, value = 'integrated_snn_res.1')\n",
    "VlnPlot(immune.combined, features = c('adt_CD3','adt_CD14.1','adt_CD19.1','adt_CD8'), pt.size = 0, ncol = 2)"
   ]
  },
  {
   "cell_type": "code",
   "execution_count": null,
   "id": "c1f83b54-887f-49a5-b23e-09a363954a2d",
   "metadata": {},
   "outputs": [],
   "source": [
    "options(repr.plot.width = 30, repr.plot.height = 10)\n",
    "VlnPlot(immune.combined, features = c('adt_CD103','adt_CD25','adt_CD161','adt_CD194','adt_CD196',\n",
    "                                      'rna_ITGAE','rna_IL2RA','rna_KLRB1','rna_CCR4','rna_CCR6'), pt.size = 0, ncol = 4)"
   ]
  },
  {
   "cell_type": "code",
   "execution_count": null,
   "id": "9e58654b-ee74-4e53-b30a-f65a11adda90",
   "metadata": {},
   "outputs": [],
   "source": [
    "sort(rownames(immune.combined[['ADT']]))"
   ]
  },
  {
   "cell_type": "code",
   "execution_count": null,
   "id": "cb90bc0e-6c81-4b30-868e-39b67f02300e",
   "metadata": {},
   "outputs": [],
   "source": [
    "options(repr.plot.width = 20, repr.plot.height = 16)\n",
    "FeaturePlot(immune.combined, features = c('rna_TRDC','rna_TRGC1','rna_TRGC2','adt_TCR-Vdelta2'), ncol = 2)"
   ]
  },
  {
   "cell_type": "code",
   "execution_count": null,
   "id": "9393422f-d6b7-405a-861f-508a21b429e5",
   "metadata": {},
   "outputs": [],
   "source": [
    "options(repr.plot.width = 10, repr.plot.height = 10)\n",
    "FeaturePlot(immune.combined, features = 'adt_CD161')"
   ]
  },
  {
   "cell_type": "code",
   "execution_count": null,
   "id": "b8517006-fc0b-4a7c-9eed-1d80a5dff1e4",
   "metadata": {},
   "outputs": [],
   "source": [
    "immune.combined <- SetIdent(immune.combined, value = 'integrated_snn_res.1')\n",
    "immune.combined <- FindSubCluster(object = immune.combined, cluster = 4, resolution = 0.3, graph.name = 'integrated_snn')\n",
    "Idents(immune.combined) <- immune.combined$sub.cluster"
   ]
  },
  {
   "cell_type": "code",
   "execution_count": null,
   "id": "161aa59e-7c43-45e8-b819-0dfbfe88ea9c",
   "metadata": {},
   "outputs": [],
   "source": [
    "options(repr.plot.width = 10, repr.plot.height = 10)\n",
    "DimPlot(immune.combined, label = TRUE)"
   ]
  },
  {
   "cell_type": "code",
   "execution_count": null,
   "id": "7f65b5dd-4827-41af-83ce-bd58a46a22d9",
   "metadata": {},
   "outputs": [],
   "source": [
    "degs_4_0 <- FindMarkers(immune.combined, `ident.1` = '4_0', assay = 'RNA', max.cells.per.ident = 500)\n",
    "degs_4_1 <- FindMarkers(immune.combined, `ident.1` = '4_1', assay = 'RNA', max.cells.per.ident = 500)\n",
    "degs_4_2 <- FindMarkers(immune.combined, `ident.1` = '4_2', assay = 'RNA', max.cells.per.ident = 500)\n",
    "degs_4_3 <- FindMarkers(immune.combined, `ident.1` = '4_3', assay = 'RNA', max.cells.per.ident = 500)\n",
    "degs_4_4 <- FindMarkers(immune.combined, `ident.1` = '4_4', assay = 'RNA', max.cells.per.ident = 500)"
   ]
  },
  {
   "cell_type": "code",
   "execution_count": null,
   "id": "f089c6db-7efd-4b4b-a7f5-d7139810c937",
   "metadata": {},
   "outputs": [],
   "source": [
    "subset(degs_4_0, rownames(degs_4_0) %in% c('TRDC','TRGC2','TRGC1'))\n",
    "subset(degs_4_1, rownames(degs_4_1) %in% c('TRDC','TRGC2','TRGC1'))\n",
    "subset(degs_4_2, rownames(degs_4_2) %in% c('TRDC','TRGC2','TRGC1'))\n",
    "subset(degs_4_3, rownames(degs_4_3) %in% c('TRDC','TRGC2','TRGC1'))\n",
    "subset(degs_4_4, rownames(degs_4_4) %in% c('TRDC','TRGC2','TRGC1'))"
   ]
  },
  {
   "cell_type": "code",
   "execution_count": null,
   "id": "9312d55a-6c9e-486a-93c8-fa7c6e9ab913",
   "metadata": {},
   "outputs": [],
   "source": [
    "immune.combined <- SetIdent(immune.combined, value = 'sub.cluster')\n",
    "immune.combined <- RenameIdents(immune.combined,\n",
    "                         '0' = 'Naive',\n",
    "                         '1' = 'Naive',\n",
    "                         '2' = 'Naive',\n",
    "                         '3' = 'Naive',\n",
    "                         '4_0' = 'MNP-2',\n",
    "                         '4_1' = 'MNP-2',\n",
    "                         '4_2' = 'gdT',\n",
    "                         '4_3' = 'MNP-2',\n",
    "                         '4_4' = 'MNP-2',\n",
    "                         '5' = 'Naive',\n",
    "                         '6' = 'Naive',\n",
    "                         '7' = 'Memory',\n",
    "                         '8' = 'Naive',\n",
    "                         '9' = 'Naive', \n",
    "                         '10' = 'Memory',\n",
    "                         '11' = 'Naive',\n",
    "                         '12' = 'Naive',\n",
    "                         '13' = 'MAIT',\n",
    "                         '14' = 'Memory',\n",
    "                         '15' = 'Naive',\n",
    "                         '16' = 'MAIT',\n",
    "                         '17' = 'Memory',   \n",
    "                         '18' = 'CD3_Neg',\n",
    "                         '19' = 'Naive',\n",
    "                         '20' = 'CD3_Neg',\n",
    "                         '21' = 'B_Cells',\n",
    "                         '22' = 'CD3_Neg')\n",
    "immune.combined$cell.type <- Idents(immune.combined)"
   ]
  },
  {
   "cell_type": "code",
   "execution_count": null,
   "id": "9bb31ca1-1241-4deb-b6e0-f3ad427d8787",
   "metadata": {
    "tags": []
   },
   "outputs": [],
   "source": [
    "options(repr.plot.width = 20, repr.plot.height = 10)\n",
    "DimPlot(immune.combined, group.by = 'cell.type', shuffle = TRUE, label = TRUE, label.size = 10)"
   ]
  },
  {
   "cell_type": "code",
   "execution_count": null,
   "id": "042d2d91-81c5-476c-b102-a679379256d9",
   "metadata": {},
   "outputs": [],
   "source": [
    "options(repr.plot.width = 20, repr.plot.height = 15)\n",
    "DimPlot(immune.combined, group.by = 'cell.type', split.by = 'sampleID', shuffle = TRUE, label = FALSE, label.size = 10, ncol = 3)"
   ]
  },
  {
   "cell_type": "code",
   "execution_count": null,
   "id": "553dd8d6-f1d1-45b6-8a51-016906276c53",
   "metadata": {},
   "outputs": [],
   "source": [
    "options(repr.plot.width = 20, repr.plot.height = 15)\n",
    "DimPlot(immune.combined, group.by = 'cell.type', split.by = 'stim', shuffle = TRUE, label = FALSE, label.size = 10, ncol = 3)"
   ]
  },
  {
   "cell_type": "markdown",
   "id": "23d1b554-cac8-4962-8d90-9a45eb376e6a",
   "metadata": {},
   "source": [
    "# Remove Non-T cell populations"
   ]
  },
  {
   "cell_type": "code",
   "execution_count": null,
   "id": "4bcfaebc-b07e-4654-8174-1315515a8e42",
   "metadata": {},
   "outputs": [],
   "source": [
    "immune.combined <- SetIdent(immune.combined, value = 'cell.type')\n",
    "immune.clean <- subset(immune.combined, idents = c('CD3_Neg','B_Cells'), invert = TRUE)"
   ]
  },
  {
   "cell_type": "code",
   "execution_count": null,
   "id": "a9bf9a75-c04f-4b18-95ed-dee4da92b50b",
   "metadata": {
    "scrolled": true,
    "tags": []
   },
   "outputs": [],
   "source": [
    "DefaultAssay(immune.clean) <- \"integrated\"\n",
    "\n",
    "# Run the standard workflow for visualization and clustering\n",
    "immune.clean <- ScaleData(immune.clean, verbose = FALSE)\n",
    "immune.clean <- RunPCA(immune.clean, npcs = 30, verbose = FALSE)\n",
    "immune.clean <- RunUMAP(immune.clean, reduction = \"pca\", dims = 1:25)"
   ]
  },
  {
   "cell_type": "code",
   "execution_count": null,
   "id": "1fcbdd31-2fe6-475f-8857-911fe74123d5",
   "metadata": {},
   "outputs": [],
   "source": [
    "options(repr.plot.width = 15, repr.plot.height = 10)\n",
    "DimPlot(immune.clean, group.by = 'cell.type', shuffle = TRUE, label = TRUE, label.size = 10)"
   ]
  },
  {
   "cell_type": "markdown",
   "id": "43bb5e56-d8a3-4294-b95e-3b08e52685a5",
   "metadata": {},
   "source": [
    "## Cell Type Distribution"
   ]
  },
  {
   "cell_type": "code",
   "execution_count": null,
   "id": "fe72fb8f-4ef4-46e7-9c45-99c60e892857",
   "metadata": {},
   "outputs": [],
   "source": [
    "l1_count_function <- function(metadata_df){\n",
    "    counts <- dplyr::count(metadata_df, cell.type, stim)\n",
    "    sum_counts <- metadata_df %>%\n",
    "                dplyr::count(stim)\n",
    "    joined_counts <- left_join(counts, sum_counts, by = 'stim')\n",
    "    joined_counts$perc <- joined_counts$n.x/joined_counts$n.y\n",
    "    return(joined_counts)\n",
    "    }"
   ]
  },
  {
   "cell_type": "code",
   "execution_count": null,
   "id": "c1f16907-780a-4794-a8cb-251e9b34b6a8",
   "metadata": {},
   "outputs": [],
   "source": [
    "l1_counts <- l1_count_function(immune.clean@meta.data)"
   ]
  },
  {
   "cell_type": "code",
   "execution_count": null,
   "id": "dcf8dd78-19c3-4168-89cb-3c77bcccbfe2",
   "metadata": {},
   "outputs": [],
   "source": [
    "options(repr.plot.width = 24, repr.plot.height = 10)\n",
    "l1_counts %>%\n",
    "    mutate(stim=factor(stim, levels = c('Unstim','PMA','TCR','IL21'))) %>%\n",
    "    ggplot(aes(x = reorder(cell.type,-perc), y = perc, fill = stim, label = round(perc,digits = 2))) + \n",
    "        scale_y_log10() + \n",
    "        geom_dotplot(binaxis='y', stackdir='center',\n",
    "                     position=position_dodge(width = 0.6), binwidth = 1/10) + \n",
    "        geom_text(position = position_dodge(width = 0.6), size = 6) +\n",
    "        theme_bw() + \n",
    "        theme(axis.text.x = element_text(angle = 90, hjust = 1, vjust = 0.5, size = 20),\n",
    "              axis.text.y = element_text(size = 20),\n",
    "              axis.title = element_text(size = 20)) + \n",
    "        xlab(\"Cell Type Level 1\") + \n",
    "        ylab(\"Percent\")"
   ]
  },
  {
   "cell_type": "code",
   "execution_count": null,
   "id": "d9617f60-5faf-4c9e-bf00-70d28e36dba9",
   "metadata": {},
   "outputs": [],
   "source": [
    "options(repr.plot.width = 10, repr.plot.height = 10)\n",
    "DimPlot(immune.clean, group.by = 'sampleID')"
   ]
  },
  {
   "cell_type": "markdown",
   "id": "ec3ffef0-6f29-4f61-a386-215728fbf8a5",
   "metadata": {},
   "source": [
    "# Save"
   ]
  },
  {
   "cell_type": "code",
   "execution_count": null,
   "id": "e765b39a-6581-4c4c-8842-854588ed780f",
   "metadata": {},
   "outputs": [],
   "source": [
    "saveRDS(immune.combined, file = 'immune_combined_ped_only.rds')"
   ]
  },
  {
   "cell_type": "code",
   "execution_count": null,
   "id": "51d71b29-267f-4331-8a46-4a77691c7ca4",
   "metadata": {},
   "outputs": [],
   "source": [
    "immune.combined <- readRDS(file = 'immune_combined_ped_only.rds')"
   ]
  },
  {
   "cell_type": "code",
   "execution_count": null,
   "id": "47b9ace7-e090-447c-888f-8fa8409198cd",
   "metadata": {},
   "outputs": [],
   "source": [
    "saveRDS(immune.clean, file = 'immune_clean_ped_only.rds')"
   ]
  }
 ],
 "metadata": {
  "kernelspec": {
   "display_name": "R",
   "language": "R",
   "name": "ir"
  },
  "language_info": {
   "codemirror_mode": "r",
   "file_extension": ".r",
   "mimetype": "text/x-r-source",
   "name": "R",
   "pygments_lexer": "r",
   "version": "4.2.2"
  }
 },
 "nbformat": 4,
 "nbformat_minor": 5
}
