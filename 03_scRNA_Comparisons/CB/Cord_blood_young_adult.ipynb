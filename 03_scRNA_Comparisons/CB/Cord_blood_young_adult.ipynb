{
 "cells": [
  {
   "cell_type": "code",
   "execution_count": null,
   "id": "2d14a410-1a0d-436d-81c3-d053b1291996",
   "metadata": {},
   "outputs": [],
   "source": [
    "quiet_library <- function(...) {\n",
    "    suppressPackageStartupMessages(library(...))\n",
    "}\n",
    "quiet_library(Seurat)\n",
    "quiet_library(ggplot2)\n",
    "quiet_library(Matrix)\n",
    "quiet_library(H5weaver)\n",
    "quiet_library(dplyr)\n",
    "quiet_library(viridis)\n",
    "quiet_library(harmony)\n",
    "quiet_library(Nebulosa)"
   ]
  },
  {
   "cell_type": "code",
   "execution_count": null,
   "id": "19cc681b-9df8-4099-aef0-655723c838b8",
   "metadata": {},
   "outputs": [],
   "source": [
    "create_so <- function(path){\n",
    "    mtx <- Read10X(data.dir = path)\n",
    "    so <- CreateSeuratObject(mtx$`Gene Expression`, project = path)\n",
    "    so[['ADT']] <- CreateAssayObject(mtx$`Antibody Capture`)\n",
    "    return(so)\n",
    "    }"
   ]
  },
  {
   "cell_type": "code",
   "execution_count": null,
   "id": "5ec0a155-84c6-4994-b2a1-0d352607aaad",
   "metadata": {},
   "outputs": [],
   "source": [
    "path_list <- c('published_datasets/cord_blood_young_adult/GSM4750303_F012/', \n",
    "               'published_datasets/cord_blood_young_adult/GSM4750304_F013/',\n",
    "               'published_datasets/cord_blood_young_adult/GSM4750305_F014/',\n",
    "               'published_datasets/cord_blood_young_adult/GSM4750306_F016/',\n",
    "               'published_datasets/cord_blood_young_adult/GSM4750307_F017/',\n",
    "               'published_datasets/cord_blood_young_adult/GSM4750308_F024/')"
   ]
  },
  {
   "cell_type": "code",
   "execution_count": null,
   "id": "49e314fd-95a2-4098-a64d-05f0a475839b",
   "metadata": {
    "scrolled": true,
    "tags": []
   },
   "outputs": [],
   "source": [
    "so_list <- lapply(path_list, create_so)"
   ]
  },
  {
   "cell_type": "code",
   "execution_count": null,
   "id": "84b3def2-b479-4046-9d6e-73c0c5d8dffb",
   "metadata": {},
   "outputs": [],
   "source": [
    "so_list"
   ]
  },
  {
   "cell_type": "code",
   "execution_count": null,
   "id": "e7d22f91-fea0-42b3-a12f-0fbe815bafe7",
   "metadata": {},
   "outputs": [],
   "source": [
    "so_merge <- Reduce(merge, so_list)\n",
    "so_merge"
   ]
  },
  {
   "cell_type": "code",
   "execution_count": null,
   "id": "6bc71401-f757-4edb-a119-8df4e3ef65be",
   "metadata": {
    "scrolled": true,
    "tags": []
   },
   "outputs": [],
   "source": [
    "so_merge <- SCTransform(so_merge) %>% RunPCA()"
   ]
  },
  {
   "cell_type": "code",
   "execution_count": null,
   "id": "1db5201c-d7b1-4161-a8d6-62312dc6a999",
   "metadata": {},
   "outputs": [],
   "source": [
    "ElbowPlot(so_merge, ndims = 50)"
   ]
  },
  {
   "cell_type": "code",
   "execution_count": null,
   "id": "b7fa2e63-d6df-4c1e-9dfb-893c52230e5b",
   "metadata": {
    "scrolled": true,
    "tags": []
   },
   "outputs": [],
   "source": [
    "so_merge <- RunUMAP(so_merge, dims = 1:20) %>% FindNeighbors(dims = 1:20) %>% FindClusters(resolution = 0.5)"
   ]
  },
  {
   "cell_type": "code",
   "execution_count": null,
   "id": "e459d7b0-4a09-4087-87e1-028b82210572",
   "metadata": {
    "tags": []
   },
   "outputs": [],
   "source": [
    "DimPlot(so_merge)\n",
    "DimPlot(so_merge, group.by = 'orig.ident')"
   ]
  },
  {
   "cell_type": "code",
   "execution_count": null,
   "id": "aa115a21-9da8-4db1-97cd-b24593b66fcd",
   "metadata": {},
   "outputs": [],
   "source": [
    "so_merge <- NormalizeData(so_merge, assay = 'ADT', normalization.method = 'CLR', margin = 2)"
   ]
  },
  {
   "cell_type": "code",
   "execution_count": null,
   "id": "c0de1bcb-2fc8-4844-91a0-86ac17d986a2",
   "metadata": {},
   "outputs": [],
   "source": [
    "rownames(so_merge[['ADT']])"
   ]
  },
  {
   "cell_type": "code",
   "execution_count": null,
   "id": "20040ab0-4ccf-40a0-b029-33a78bcef0c8",
   "metadata": {},
   "outputs": [],
   "source": [
    "FeaturePlot(so_merge, features = 'adt_CD8-TotalSeqC', max.cutoff = 'q95')\n",
    "FeaturePlot(so_merge, features = 'adt_CCR7-TotalSeqC', max.cutoff = 'q95')\n",
    "FeaturePlot(so_merge, features = 'adt_CD4-TotalSeqC', max.cutoff = 'q95')\n",
    "FeaturePlot(so_merge, features = 'sct_CD3G', max.cutoff = 'q95')"
   ]
  },
  {
   "cell_type": "code",
   "execution_count": null,
   "id": "4ae01c1d-d260-4299-9eeb-162930a8df5d",
   "metadata": {},
   "outputs": [],
   "source": [
    "ref <- readRDS(file = '/home/jupyter/reference/Hao-2021_PBMC-Multimodal-Reference_SeuratObject.rds')"
   ]
  },
  {
   "cell_type": "code",
   "execution_count": null,
   "id": "cd9c5a33-1eca-479a-82f4-5dcafa53a59b",
   "metadata": {},
   "outputs": [],
   "source": [
    "DimPlot(ref, group.by = 'celltype.l2')"
   ]
  },
  {
   "cell_type": "code",
   "execution_count": null,
   "id": "7264194f-1475-46ed-ad8c-96ffa540b543",
   "metadata": {},
   "outputs": [],
   "source": [
    "label_transfer_func_alt <- function(reference, query){\n",
    "  anchors <- FindTransferAnchors(\n",
    "    reference = reference,\n",
    "    query = query,\n",
    "    normalization.method = \"SCT\",\n",
    "    reference.reduction = \"spca\",\n",
    "    dims = 1:50, recompute.residuals = FALSE\n",
    "  )\n",
    "  query <- TransferData(anchorset = anchors, reference = reference, query = query,\n",
    "                    refdata = list(\n",
    "                      celltype.l1 = \"celltype.l1\",\n",
    "                      celltype.l2 = \"celltype.l2\",\n",
    "                      celltype.l3 = \"celltype.l3\",\n",
    "                      predicted_ADT = 'ADT'))\n",
    "  query\n",
    "}"
   ]
  },
  {
   "cell_type": "code",
   "execution_count": null,
   "id": "f4758326-d178-432c-a6a0-eef7f5fc8286",
   "metadata": {},
   "outputs": [],
   "source": [
    "so_merge <- label_transfer_func_alt(ref, so_merge)"
   ]
  },
  {
   "cell_type": "code",
   "execution_count": null,
   "id": "2815ae3d-f89d-4c4d-b028-627518b357fb",
   "metadata": {},
   "outputs": [],
   "source": [
    "options(repr.plot.width = 12, repr.plot.height = 12)\n",
    "DimPlot(so_merge, group.by = 'predicted.celltype.l2')"
   ]
  },
  {
   "cell_type": "code",
   "execution_count": null,
   "id": "b57b3892-fd6f-4af0-a20d-39810228c2ae",
   "metadata": {},
   "outputs": [],
   "source": [
    "saveRDS(so_merge, file = 'cb_ya_so.rds')"
   ]
  }
 ],
 "metadata": {
  "kernelspec": {
   "display_name": "R 4",
   "language": "R",
   "name": "ir"
  },
  "language_info": {
   "codemirror_mode": "r",
   "file_extension": ".r",
   "mimetype": "text/x-r-source",
   "name": "R",
   "pygments_lexer": "r",
   "version": "4.1.2"
  }
 },
 "nbformat": 4,
 "nbformat_minor": 5
}
