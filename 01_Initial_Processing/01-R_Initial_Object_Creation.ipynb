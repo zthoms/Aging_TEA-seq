{
 "cells": [
  {
   "cell_type": "markdown",
   "metadata": {
    "tags": []
   },
   "source": [
    "# D0 WNN Clustering"
   ]
  },
  {
   "cell_type": "markdown",
   "metadata": {},
   "source": [
    "### Load Libraries"
   ]
  },
  {
   "cell_type": "code",
   "execution_count": null,
   "metadata": {},
   "outputs": [],
   "source": [
    "# load libraries\n",
    "quiet_library <- function(...) {\n",
    "    suppressPackageStartupMessages(library(...))\n",
    "}\n",
    "quiet_library(Seurat)\n",
    "quiet_library(ggplot2)\n",
    "quiet_library(Matrix)\n",
    "quiet_library(H5weaver)\n",
    "quiet_library(dplyr)\n",
    "quiet_library(viridis)\n",
    "quiet_library(harmony)\n",
    "quiet_library(Nebulosa)"
   ]
  },
  {
   "cell_type": "markdown",
   "metadata": {},
   "source": [
    "### Helper Functions"
   ]
  },
  {
   "cell_type": "code",
   "execution_count": null,
   "metadata": {},
   "outputs": [],
   "source": [
    "# Read in ADT information\n",
    "adt_info_func <- function(path){\n",
    "  h5_list <- h5dump(path)\n",
    "  h5_list <- h5_list_convert_to_dgCMatrix(h5_list, target = 'ADT')\n",
    "  adt_mtx <- h5_list$ADT_dgCMatrix\n",
    "  adt_mtx\n",
    "}\n",
    "\n",
    "# Seurat RNA Pipeline\n",
    "seurat_proc_func <- function(x){\n",
    "  DefaultAssay(x) <- 'RNA'\n",
    "    # x <- NormalizeData(x) %>% FindVariableFeatures() %>% ScaleData() %>% RunPCA()\n",
    "  x <- suppressWarnings(SCTransform(x, verbose = T))\n",
    "  x <- RunPCA(x, verbose = T)\n",
    "  x <- RunUMAP(x, dims = 1:30, verbose = T) %>% FindNeighbors(dims = 1:30, verbose = T) %>% FindClusters(resolution = 0.5, verbose = T)\n",
    "  x\n",
    "}\n",
    "\n",
    "# Seurat RNA Label transfer\n",
    "label_transfer_func <- function(reference, query){\n",
    "  anchors <- FindTransferAnchors(\n",
    "    reference = reference,\n",
    "    query = query,\n",
    "    normalization.method = \"SCT\",\n",
    "    reference.reduction = \"spca\",\n",
    "    dims = 1:50\n",
    "  )\n",
    "  query <- TransferData(anchorset = anchors, reference = reference, query = query,\n",
    "                    refdata = list(\n",
    "                      celltype.l1 = \"celltype.l1\",\n",
    "                      celltype.l2 = \"celltype.l2\",\n",
    "                      celltype.l3 = \"celltype.l3\",\n",
    "                      predicted_ADT = 'ADT'))\n",
    "  query\n",
    "}\n",
    "\n",
    "label_transfer_func_alt <- function(reference, query){\n",
    "  anchors <- FindTransferAnchors(\n",
    "    reference = reference,\n",
    "    query = query,\n",
    "    normalization.method = \"SCT\",\n",
    "    reference.reduction = \"spca\",\n",
    "    dims = 1:50, recompute.residuals = FALSE\n",
    "  )\n",
    "  query <- TransferData(anchorset = anchors, reference = reference, query = query,\n",
    "                    refdata = list(\n",
    "                      celltype.l1 = \"celltype.l1\",\n",
    "                      celltype.l2 = \"celltype.l2\",\n",
    "                      celltype.l3 = \"celltype.l3\",\n",
    "                      predicted_ADT = 'ADT'))\n",
    "  query\n",
    "}"
   ]
  },
  {
   "cell_type": "markdown",
   "metadata": {},
   "source": [
    "## Load Data & Create Seurat Objects"
   ]
  },
  {
   "cell_type": "code",
   "execution_count": null,
   "metadata": {},
   "outputs": [],
   "source": [
    "all_h5 <- list.files(path = '../ped_vs_senior_h5', pattern = '*h5', full.names = TRUE)\n",
    "all_h5"
   ]
  },
  {
   "cell_type": "code",
   "execution_count": null,
   "metadata": {},
   "outputs": [],
   "source": [
    "all_so_list <- suppressWarnings(lapply(all_h5, read_h5_seurat))"
   ]
  },
  {
   "cell_type": "code",
   "execution_count": null,
   "metadata": {},
   "outputs": [],
   "source": [
    "# get adt matrices in list via lapply\n",
    "all_adt_mtx_list <- lapply(all_h5, adt_info_func)"
   ]
  },
  {
   "cell_type": "code",
   "execution_count": null,
   "metadata": {},
   "outputs": [],
   "source": [
    "# merge all RNA seurat objects into single object\n",
    "all_so <- Reduce(merge,all_so_list)"
   ]
  },
  {
   "cell_type": "code",
   "execution_count": null,
   "metadata": {},
   "outputs": [],
   "source": [
    "all_so"
   ]
  },
  {
   "cell_type": "code",
   "execution_count": null,
   "metadata": {},
   "outputs": [],
   "source": [
    "# merge all adt mtxs \n",
    "all_adt_mtx <- do.call(cbind, all_adt_mtx_list)"
   ]
  },
  {
   "cell_type": "code",
   "execution_count": null,
   "metadata": {},
   "outputs": [],
   "source": [
    "table(colnames(all_so[['RNA']]) == colnames(all_adt_mtx))"
   ]
  },
  {
   "cell_type": "code",
   "execution_count": null,
   "metadata": {},
   "outputs": [],
   "source": [
    "all_so[['ADT']] <- CreateAssayObject(all_adt_mtx)"
   ]
  },
  {
   "cell_type": "markdown",
   "metadata": {
    "tags": []
   },
   "source": [
    "### Subset only D0 samples"
   ]
  },
  {
   "cell_type": "code",
   "execution_count": null,
   "metadata": {},
   "outputs": [],
   "source": [
    "all_so <- SetIdent(all_so, value = 'pbmc_sample_id')\n",
    "d0_so <- subset(all_so, idents = c('PB00593-04','PB00323-02','PB00368-04','PB00353-03','PB00334-03','PB00377-03','PB00545-02','PB00599-02',\n",
    "                                   'PB00124-02','PB00172-02','PB00182-02','PB00127-02','PB00807-02','PB00173-02','PB00192-02','PB00197-02'))"
   ]
  },
  {
   "cell_type": "code",
   "execution_count": null,
   "metadata": {},
   "outputs": [],
   "source": [
    "d0_so"
   ]
  },
  {
   "cell_type": "markdown",
   "metadata": {},
   "source": [
    "### Import LSI & subset cells to align w/ ATAC data"
   ]
  },
  {
   "cell_type": "code",
   "execution_count": null,
   "metadata": {},
   "outputs": [],
   "source": [
    "lsi <- readRDS(\"../PedSen_d0_LSI.RDS\")"
   ]
  },
  {
   "cell_type": "code",
   "execution_count": null,
   "metadata": {},
   "outputs": [],
   "source": [
    "length(rownames(lsi))"
   ]
  },
  {
   "cell_type": "markdown",
   "metadata": {
    "tags": []
   },
   "source": [
    "#### Align barcodes"
   ]
  },
  {
   "cell_type": "code",
   "execution_count": null,
   "metadata": {},
   "outputs": [],
   "source": [
    "d0_metadata <- d0_so@meta.data\n",
    "archr_style_barcodes <- paste(d0_metadata$well_id, \"#\", d0_metadata$original_barcodes, \"-1\", sep = \"\")"
   ]
  },
  {
   "cell_type": "code",
   "execution_count": null,
   "metadata": {},
   "outputs": [],
   "source": [
    "# create data frame w/ seurat barcodes and archr style barcodes\n",
    "bc_df <- data.frame(seurat_bcs = colnames(d0_so@assays$RNA),\n",
    "                    archr_style = archr_style_barcodes)"
   ]
  },
  {
   "cell_type": "code",
   "execution_count": null,
   "metadata": {},
   "outputs": [],
   "source": [
    "# Find Intersection & subset LSI\n",
    "bc_idx <- intersect(rownames(lsi), archr_style_barcodes)"
   ]
  },
  {
   "cell_type": "code",
   "execution_count": null,
   "metadata": {},
   "outputs": [],
   "source": [
    "lsi_subset <- subset(lsi, subset = rownames(lsi) %in% bc_idx)\n",
    "bc_df_subset <- subset(bc_df, subset = bc_df$archr_style %in% bc_idx)"
   ]
  },
  {
   "cell_type": "code",
   "execution_count": null,
   "metadata": {},
   "outputs": [],
   "source": [
    "table(bc_df_subset$archr_style == rownames(lsi_subset))"
   ]
  },
  {
   "cell_type": "code",
   "execution_count": null,
   "metadata": {},
   "outputs": [],
   "source": [
    "# replace LSI archr barcodes for seurat barcodes\n",
    "rownames(lsi_subset) <- bc_df_subset$seurat_bcs"
   ]
  },
  {
   "cell_type": "code",
   "execution_count": null,
   "metadata": {},
   "outputs": [],
   "source": [
    "# subset D0_harmony for ATAC barcodes\n",
    "d0_so <- subset(d0_so, cells = bc_df_subset$seurat_bcs)"
   ]
  },
  {
   "cell_type": "code",
   "execution_count": null,
   "metadata": {},
   "outputs": [],
   "source": [
    "d0_so"
   ]
  },
  {
   "cell_type": "markdown",
   "metadata": {},
   "source": [
    "#### Create placeholder matris for LSI import"
   ]
  },
  {
   "cell_type": "code",
   "execution_count": null,
   "metadata": {},
   "outputs": [],
   "source": [
    "tile_mtx <- matrix(data = 1, nrow = 5, ncol = 326165)\n",
    "colnames(tile_mtx) <- bc_df_subset$seurat_bcs\n",
    "rownames(tile_mtx) <- c(\"A\",\"B\",\"C\",'D','E')"
   ]
  },
  {
   "cell_type": "code",
   "execution_count": null,
   "metadata": {},
   "outputs": [],
   "source": [
    "d0_so[['Tiles']] <- CreateAssayObject(counts = tile_mtx)\n",
    "d0_so[[\"lsit\"]] <- CreateDimReducObject(embeddings = lsi_subset, key = \"lsit_\", assay = \"Tiles\")"
   ]
  },
  {
   "cell_type": "markdown",
   "metadata": {},
   "source": [
    "## QC Filtering"
   ]
  },
  {
   "cell_type": "code",
   "execution_count": null,
   "metadata": {},
   "outputs": [],
   "source": [
    "options(repr.plot.width = 20, repr.plot.height = 6)\n",
    "d0_so[[\"percent.mt\"]] <- PercentageFeatureSet(d0_so, pattern = \"^MT-\")\n",
    "VlnPlot(d0_so, features = c('nFeature_RNA','nCount_RNA','nCount_ADT','percent.mt'), log = F, \n",
    "        pt.size = 0, group.by = 'pbmc_sample_id', ncol = 2) & stat_summary(fun=median, geom = \"point\", color=\"black\")"
   ]
  },
  {
   "cell_type": "markdown",
   "metadata": {},
   "source": [
    "### Moderate QC Filtering"
   ]
  },
  {
   "cell_type": "code",
   "execution_count": null,
   "metadata": {},
   "outputs": [],
   "source": [
    "filtered_d0 <- subset(d0_so, subset = nFeature_RNA > 250 & nCount_RNA > 500 & nCount_ADT < 10000 & percent.mt < 35 & nCount_RNA < 20000)\n",
    "filtered_d0"
   ]
  },
  {
   "cell_type": "code",
   "execution_count": null,
   "metadata": {},
   "outputs": [],
   "source": [
    "options(repr.plot.width = 20, repr.plot.height = 6)\n",
    "VlnPlot(filtered_d0, features = c('nFeature_RNA','nCount_RNA','nCount_ADT','percent.mt'), log = F, \n",
    "        pt.size = 0, group.by = 'pbmc_sample_id', ncol = 2) & stat_summary(fun=median, geom = \"point\", color=\"black\")"
   ]
  },
  {
   "cell_type": "markdown",
   "metadata": {},
   "source": [
    "### Remove old objects to save memory"
   ]
  },
  {
   "cell_type": "code",
   "execution_count": null,
   "metadata": {},
   "outputs": [],
   "source": [
    "rm(d0_so)\n",
    "rm(all_so)\n",
    "rm(all_so_list)\n",
    "rm(all_adt_mtx)\n",
    "rm(all_adt_mtx_list)"
   ]
  },
  {
   "cell_type": "markdown",
   "metadata": {},
   "source": [
    "## Clustering of RNA (SCTransform)"
   ]
  },
  {
   "cell_type": "code",
   "execution_count": null,
   "metadata": {},
   "outputs": [],
   "source": [
    "filtered_d0 <- seurat_proc_func(filtered_d0)"
   ]
  },
  {
   "cell_type": "code",
   "execution_count": null,
   "metadata": {},
   "outputs": [],
   "source": [
    "options(repr.plot.width = 20, repr.plot.height = 8)\n",
    "p1 <- DimPlot(filtered_d0, label = T, label.size = 6, reduction = 'umap') + NoLegend()\n",
    "p2 <- DimPlot(filtered_d0, group.by = 'pbmc_sample_id', reduction = 'umap')\n",
    "p1 + p2"
   ]
  },
  {
   "cell_type": "markdown",
   "metadata": {},
   "source": [
    "### V4 Label Transfer"
   ]
  },
  {
   "cell_type": "code",
   "execution_count": null,
   "metadata": {},
   "outputs": [],
   "source": [
    "options(repr.plot.width = 12, repr.plot.height = 6)\n",
    "reference <- readRDS(\"../Seurat_Objects/Hao-2021_PBMC-Multimodal-Reference_SeuratObject.rds\")\n",
    "DimPlot(reference, group.by = 'celltype.l2', label = T, repel = T, reduction = 'wnn.umap') + NoLegend()"
   ]
  },
  {
   "cell_type": "code",
   "execution_count": null,
   "metadata": {},
   "outputs": [],
   "source": [
    "filtered_d0 <- label_transfer_func_alt(reference = reference, query = filtered_d0)"
   ]
  },
  {
   "cell_type": "code",
   "execution_count": null,
   "metadata": {},
   "outputs": [],
   "source": [
    "options(repr.plot.width = 20, repr.plot.height = 8)\n",
    "p3 <- DimPlot(filtered_d0, label = T) + NoLegend()\n",
    "p4 <- DimPlot(filtered_d0, group.by = 'predicted.celltype.l2', label = T) + NoLegend()\n",
    "p3 + p4"
   ]
  },
  {
   "cell_type": "markdown",
   "metadata": {},
   "source": [
    "#### Remove Contaminating Cells"
   ]
  },
  {
   "cell_type": "code",
   "execution_count": null,
   "metadata": {},
   "outputs": [],
   "source": [
    "options(repr.plot.width = 20, repr.plot.height = 8)\n",
    "VlnPlot(filtered_d0, features = c('sct_CD3G','sct_CD3E','sct_CD19',\n",
    "                                  'sct_CD14','sct_ITGAM','sct_ITGAX',\n",
    "                                  'sct_IL3RA','sct_NCAM1','sct_SLAMF7'), \n",
    "        group.by = 'SCT_snn_res.0.5', ncol = 3)"
   ]
  },
  {
   "cell_type": "code",
   "execution_count": null,
   "metadata": {},
   "outputs": [],
   "source": [
    "options(repr.plot.width = 20, repr.plot.height = 8)\n",
    "nebulosa_p1 <- plot_density(filtered_d0, c('sct_CD3G','sct_CD3E','sct_CD19',\n",
    "                                  'sct_CD14','sct_ITGAM','sct_ITGAX',\n",
    "                                  'sct_IL3RA','sct_NCAM1','sct_SLAMF7'), reduction = 'umap')\n",
    "nebulosa_p1 + plot_layout(ncol = 3)"
   ]
  },
  {
   "cell_type": "code",
   "execution_count": null,
   "metadata": {},
   "outputs": [],
   "source": [
    "table(filtered_d0$predicted.celltype.l1)"
   ]
  },
  {
   "cell_type": "code",
   "execution_count": null,
   "metadata": {},
   "outputs": [],
   "source": [
    "# cluster 23 = B, 25 = mono/dc\n",
    "filtered_d0 <- SetIdent(filtered_d0, value = 'SCT_snn_res.0.5')\n",
    "filtered_d0 <- subset(filtered_d0, idents = c(23, 25), invert = T)"
   ]
  },
  {
   "cell_type": "markdown",
   "metadata": {},
   "source": [
    "### Recluster RNA"
   ]
  },
  {
   "cell_type": "code",
   "execution_count": null,
   "metadata": {},
   "outputs": [],
   "source": [
    "filtered_d0 <- suppressWarnings(SCTransform(filtered_d0, vars.to.regress = 'percent.mt')) %>% RunPCA()"
   ]
  },
  {
   "cell_type": "code",
   "execution_count": null,
   "metadata": {},
   "outputs": [],
   "source": [
    "filtered_d0 <- RunUMAP(filtered_d0, dims = 1:30, verbose = F) %>%  FindNeighbors(dims = 1:30, verbose = T) %>% FindClusters(resolution = 0.5, verbose = T)"
   ]
  },
  {
   "cell_type": "code",
   "execution_count": null,
   "metadata": {},
   "outputs": [],
   "source": [
    "options(repr.plot.width = 20, repr.plot.height = 10)\n",
    "p1_rna <- DimPlot(filtered_d0, label = T, reduction = 'umap', group.by = 'SCT_snn_res.0.5') + NoLegend()\n",
    "p2_rna <- DimPlot(filtered_d0, group.by = 'predicted.celltype.l2', reduction = 'umap', label = T, repel = T) + NoLegend()\n",
    "p3_rna <- DimPlot(filtered_d0, group.by = 'batch_id', reduction = 'umap')\n",
    "p4_rna <- DimPlot(filtered_d0, group.by = 'pbmc_sample_id', reduction = 'umap')\n",
    "p1_rna + p2_rna + p3_rna + p4_rna"
   ]
  },
  {
   "cell_type": "markdown",
   "metadata": {},
   "source": [
    "### Re-label Transfer w/ only T cells"
   ]
  },
  {
   "cell_type": "code",
   "execution_count": null,
   "metadata": {},
   "outputs": [],
   "source": [
    "options(repr.plot.width = 8, repr.plot.height = 8)\n",
    "reference <- SetIdent(reference, value = 'celltype.l1')\n",
    "DimPlot(reference)"
   ]
  },
  {
   "cell_type": "code",
   "execution_count": null,
   "metadata": {},
   "outputs": [],
   "source": [
    "t_ref <- subset(reference, idents = c('CD4 T','CD8 T','other T'))"
   ]
  },
  {
   "cell_type": "code",
   "execution_count": null,
   "metadata": {},
   "outputs": [],
   "source": [
    "DefaultAssay(filtered_d0) <- 'SCT'\n",
    "t_anchors <- FindTransferAnchors(\n",
    "    reference = t_ref,\n",
    "    query = filtered_d0,\n",
    "    normalization.method = \"SCT\",\n",
    "    reference.reduction = \"spca\",\n",
    "    dims = 1:50, recompute.residuals = FALSE\n",
    "  )\n",
    "filtered_d0 <- TransferData(anchorset = t_anchors, reference = t_ref, query = filtered_d0,\n",
    "                    refdata = list(\n",
    "                      t_celltype.l1 = \"celltype.l1\",\n",
    "                      t_celltype.l2 = \"celltype.l2\",\n",
    "                      t_celltype.l3 = \"celltype.l3\"))\n",
    "filtered_d0"
   ]
  },
  {
   "cell_type": "code",
   "execution_count": null,
   "metadata": {},
   "outputs": [],
   "source": [
    "options(repr.plot.width = 20, repr.plot.height = 10)\n",
    "p1_rna <- DimPlot(filtered_d0, label = T, reduction = 'umap', group.by = 'SCT_snn_res.0.5') + NoLegend()\n",
    "p2_rna <- DimPlot(filtered_d0, group.by = 'predicted.t_celltype.l2', reduction = 'umap')\n",
    "p3_rna <- DimPlot(filtered_d0, group.by = 'batch_id', reduction = 'umap')\n",
    "p4_rna <- DimPlot(filtered_d0, group.by = 'pbmc_sample_id', reduction = 'umap')\n",
    "p1_rna + p2_rna + p3_rna + p4_rna"
   ]
  },
  {
   "cell_type": "code",
   "execution_count": null,
   "metadata": {},
   "outputs": [],
   "source": [
    "saveRDS(filtered_d0, '../Seurat_Objects/filtered_d0_label_transfer.rds')"
   ]
  },
  {
   "cell_type": "code",
   "execution_count": null,
   "metadata": {},
   "outputs": [],
   "source": [
    "sessionInfo()"
   ]
  }
 ],
 "metadata": {
  "kernelspec": {
   "display_name": "R 4",
   "language": "R",
   "name": "ir"
  },
  "language_info": {
   "codemirror_mode": "r",
   "file_extension": ".r",
   "mimetype": "text/x-r-source",
   "name": "R",
   "pygments_lexer": "r",
   "version": "4.1.2"
  }
 },
 "nbformat": 4,
 "nbformat_minor": 4
}
