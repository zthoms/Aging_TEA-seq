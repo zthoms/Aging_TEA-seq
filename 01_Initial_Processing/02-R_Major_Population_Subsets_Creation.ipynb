{
 "cells": [
  {
   "cell_type": "markdown",
   "metadata": {},
   "source": [
    "# Setup"
   ]
  },
  {
   "cell_type": "code",
   "execution_count": null,
   "metadata": {},
   "outputs": [],
   "source": [
    "quiet_library <- function(...) {\n",
    "    suppressPackageStartupMessages(library(...))\n",
    "}\n",
    "quiet_library(Seurat)\n",
    "quiet_library(ggplot2)\n",
    "quiet_library(Matrix)\n",
    "quiet_library(H5weaver)\n",
    "quiet_library(dplyr)\n",
    "quiet_library(viridis)\n",
    "quiet_library(harmony)\n",
    "quiet_library(Nebulosa)"
   ]
  },
  {
   "cell_type": "code",
   "execution_count": null,
   "metadata": {},
   "outputs": [],
   "source": [
    "filtered_d0 <- readRDS('../Seurat_Objects/filtered_d0_label_transfer.rds')"
   ]
  },
  {
   "cell_type": "markdown",
   "metadata": {},
   "source": [
    "## Add Metadata"
   ]
  },
  {
   "cell_type": "markdown",
   "metadata": {},
   "source": [
    "### Add Pediatric vs Senior Designation"
   ]
  },
  {
   "cell_type": "code",
   "execution_count": null,
   "metadata": {},
   "outputs": [],
   "source": [
    "filtered_d0 <- SetIdent(filtered_d0, value = 'pbmc_sample_id')\n",
    "filtered_d0 <- RenameIdents(filtered_d0, \n",
    "                            'PB00593-04'='Senior', 'PB00323-02'='Senior', 'PB00368-04'='Senior', 'PB00334-03'='Senior',\n",
    "                            'PB00377-03'='Senior', 'PB00545-02'='Senior', 'PB00599-02'='Senior', 'PB00353-03'='Senior',\n",
    "                            'PB00124-02'='Pediatric','PB00172-02'='Pediatric','PB00182-02'='Pediatric','PB00127-02'='Pediatric',\n",
    "                            'PB00807-02'='Pediatric','PB00173-02'='Pediatric','PB00192-02'='Pediatric','PB00197-02'='Pediatric')\n",
    "                            \n",
    "filtered_d0$pediatric_senior <- Idents(filtered_d0)"
   ]
  },
  {
   "cell_type": "code",
   "execution_count": null,
   "metadata": {},
   "outputs": [],
   "source": [
    "options(repr.plot.width = 10, repr.plot.height = 5)\n",
    "DimPlot(filtered_d0, group.by = 'pediatric_senior', order = c('Pediatric','Senior'))"
   ]
  },
  {
   "cell_type": "markdown",
   "metadata": {},
   "source": [
    "### Add 10x CCR7 Imputation (among others)"
   ]
  },
  {
   "cell_type": "code",
   "execution_count": null,
   "metadata": {},
   "outputs": [],
   "source": [
    "t_sub_10x_ref <- readRDS(file = '../Seurat_Objects/10x_5k_T_cell_subset.rds')"
   ]
  },
  {
   "cell_type": "code",
   "execution_count": null,
   "metadata": {},
   "outputs": [],
   "source": [
    "DefaultAssay(t_sub_10x_ref) <- 'SCT'\n",
    "DefaultAssay(filtered_d0) <- 'SCT'\n",
    "anchors <- FindTransferAnchors(\n",
    "reference = t_sub_10x_ref,\n",
    "query = filtered_d0,\n",
    "normalization.method = \"SCT\",\n",
    "dims = 1:30\n",
    ")"
   ]
  },
  {
   "cell_type": "code",
   "execution_count": null,
   "metadata": {},
   "outputs": [],
   "source": [
    "filtered_d0 <- TransferData(anchorset = anchors, reference = t_sub_10x_ref, query = filtered_d0,\n",
    "                refdata = list(x10_ADT = 'ADT'))"
   ]
  },
  {
   "cell_type": "code",
   "execution_count": null,
   "metadata": {},
   "outputs": [],
   "source": [
    "filtered_d0 <- NormalizeData(filtered_d0, assay = 'ADT', normalization.method = 'CLR', margin = 2)"
   ]
  },
  {
   "cell_type": "code",
   "execution_count": null,
   "metadata": {},
   "outputs": [],
   "source": [
    "options(repr.plot.width = 20, repr.plot.height = 8)\n",
    "FeaturePlot(filtered_d0, features = c('x10ADT_CD197','adt_CD197'), reduction = 'umap',\n",
    "           min.cutoff = 'q03', max.cutoff = 'q97') & scale_color_viridis()"
   ]
  },
  {
   "cell_type": "markdown",
   "metadata": {},
   "source": [
    "## Split dataset by batches "
   ]
  },
  {
   "cell_type": "code",
   "execution_count": null,
   "metadata": {},
   "outputs": [],
   "source": [
    "filtered_d0 <- SetIdent(filtered_d0, value = 'batch_id')\n",
    "table(filtered_d0$batch_id)"
   ]
  },
  {
   "cell_type": "code",
   "execution_count": null,
   "metadata": {},
   "outputs": [],
   "source": [
    "b065 <- subset(filtered_d0, idents = 'B065')\n",
    "b069 <- subset(filtered_d0, idents = 'B069')\n",
    "b076 <- subset(filtered_d0, idents = 'B076')"
   ]
  },
  {
   "cell_type": "code",
   "execution_count": null,
   "metadata": {},
   "outputs": [],
   "source": [
    "b065\n",
    "b069\n",
    "b076"
   ]
  },
  {
   "cell_type": "code",
   "execution_count": null,
   "metadata": {},
   "outputs": [],
   "source": [
    "b065 <- NormalizeData(b065, normalization.method = 'CLR', margin = 2, assay = 'ADT')\n",
    "b069 <- NormalizeData(b069, normalization.method = 'CLR', margin = 2, assay = 'ADT')\n",
    "b076 <- NormalizeData(b076, normalization.method = 'CLR', margin = 2, assay = 'ADT')"
   ]
  },
  {
   "cell_type": "markdown",
   "metadata": {},
   "source": [
    "## Create major population subsets from each batch"
   ]
  },
  {
   "cell_type": "code",
   "execution_count": null,
   "metadata": {},
   "outputs": [],
   "source": [
    "b065_b069_cutoffs=data.frame(x1=c(0,2.6,0,2.6), x2=c(2.6,6,2.6,6), y1=c(0,0,3,3), y2=c(3,3,6.5,6.5), Pops=c('dnT','CD4','CD8','dpT'))\n",
    "b076_cutoffs=data.frame(x1=c(0,2.1,0,2.4), x2=c(2.1,5,2.4,5), y1=c(0,0,2.8,2.8), y2=c(2.8,2.8,6.5,6.5), Pops=c('dnT','CD4','CD8','dpT'))"
   ]
  },
  {
   "cell_type": "code",
   "execution_count": null,
   "metadata": {},
   "outputs": [],
   "source": [
    "b065_adt_mtx_data <- as.data.frame(b065@assays$ADT@data)\n",
    "b065_adt_mtx_data <- t(b065_adt_mtx_data)\n",
    "b065_adt_mtx_data <- as.data.frame(b065_adt_mtx_data)"
   ]
  },
  {
   "cell_type": "code",
   "execution_count": null,
   "metadata": {},
   "outputs": [],
   "source": [
    "options(repr.plot.width = 15, repr.plot.height = 15)\n",
    "ggplot() + \n",
    "geom_point(b065_adt_mtx_data, mapping = aes(x = CD4, y = CD8a)) + \n",
    "geom_rect(data=b065_b069_cutoffs, mapping=aes(xmin=x1, xmax=x2, ymin=y1, ymax=y2, fill = Pops), color=\"black\", alpha = 0.1) +\n",
    "ggtitle(\"B065\") + theme(plot.title = element_text(size = 30))"
   ]
  },
  {
   "cell_type": "code",
   "execution_count": null,
   "metadata": {},
   "outputs": [],
   "source": [
    "options(repr.plot.width = 8, repr.plot.height = 8)\n",
    "ggplot() + \n",
    "geom_point(b065_adt_mtx_data, mapping = aes(x = CD4, y = CD8a), size = 0.5) + \n",
    "# geom_rect(data=b065_b069_cutoffs, mapping=aes(xmin=x1, xmax=x2, ymin=y1, ymax=y2), color=\"black\", alpha = 0.1) +\n",
    "ggtitle(\"B065\") + theme(plot.title = element_text(size = 30))"
   ]
  },
  {
   "cell_type": "code",
   "execution_count": null,
   "metadata": {},
   "outputs": [],
   "source": [
    "#b065_b069_cutoffs=data.frame(x1=c(0,2.6,0,2.6), x2=c(2.6,6,2.6,6), y1=c(0,0,3,3), y2=c(3,3,6.5,6.5), Pops=c('dnT','CD4','CD8','dpT'))\n",
    "b065_cd8_subset <- subset(b065, subset = adt_CD8a > 3 & adt_CD4 < 2.6)\n",
    "b065_cd4_subset <- subset(b065, subset = adt_CD8a < 3 & adt_CD4 > 2.6)\n",
    "b065_dpT_subset <- subset(b065, subset = adt_CD8a > 3 & adt_CD4 > 2.6)\n",
    "b065_dnT_subset <- subset(b065, subset = adt_CD8a < 3 & adt_CD4 < 2.6)"
   ]
  },
  {
   "cell_type": "code",
   "execution_count": null,
   "metadata": {},
   "outputs": [],
   "source": [
    "b069_adt_mtx_data <- as.data.frame(b069@assays$ADT@data)\n",
    "b069_adt_mtx_data <- t(b069_adt_mtx_data)\n",
    "b069_adt_mtx_data <- as.data.frame(b069_adt_mtx_data)"
   ]
  },
  {
   "cell_type": "code",
   "execution_count": null,
   "metadata": {},
   "outputs": [],
   "source": [
    "options(repr.plot.width = 15, repr.plot.height = 15)\n",
    "ggplot() + \n",
    "geom_point(b069_adt_mtx_data, mapping = aes(x = CD4, y = CD8a)) + \n",
    "geom_rect(data=b065_b069_cutoffs, mapping=aes(xmin=x1, xmax=x2, ymin=y1, ymax=y2, fill = Pops), color=\"black\", alpha = 0.1) +\n",
    "ggtitle(\"B069\") + theme(plot.title = element_text(size = 30))"
   ]
  },
  {
   "cell_type": "code",
   "execution_count": null,
   "metadata": {},
   "outputs": [],
   "source": [
    "#b065_b069_cutoffs=data.frame(x1=c(0,2.6,0,2.6), x2=c(2.6,6,2.6,6), y1=c(0,0,3,3), y2=c(3,3,6.5,6.5), Pops=c('dnT','CD4','CD8','dpT'))\n",
    "b069_cd8_subset <- subset(b069, subset = adt_CD8a > 3 & adt_CD4 < 2.6)\n",
    "b069_cd4_subset <- subset(b069, subset = adt_CD8a < 3 & adt_CD4 > 2.6)\n",
    "b069_dpT_subset <- subset(b069, subset = adt_CD8a > 3 & adt_CD4 > 2.6)\n",
    "b069_dnT_subset <- subset(b069, subset = adt_CD8a < 3 & adt_CD4 < 2.6)"
   ]
  },
  {
   "cell_type": "code",
   "execution_count": null,
   "metadata": {},
   "outputs": [],
   "source": [
    "b076_adt_mtx_data <- as.data.frame(b076@assays$ADT@data)\n",
    "b076_adt_mtx_data <- t(b076_adt_mtx_data)\n",
    "b076_adt_mtx_data <- as.data.frame(b076_adt_mtx_data)"
   ]
  },
  {
   "cell_type": "code",
   "execution_count": null,
   "metadata": {},
   "outputs": [],
   "source": [
    "options(repr.plot.width = 15, repr.plot.height = 15)\n",
    "ggplot() + \n",
    "geom_point(b076_adt_mtx_data, mapping = aes(x = CD4, y = CD8a)) + \n",
    "geom_rect(data=b076_cutoffs, mapping=aes(xmin=x1, xmax=x2, ymin=y1, ymax=y2, fill = Pops), color=\"black\", alpha = 0.1) +\n",
    "ggtitle(\"B076\") + theme(plot.title = element_text(size = 30))"
   ]
  },
  {
   "cell_type": "code",
   "execution_count": null,
   "metadata": {},
   "outputs": [],
   "source": [
    "#b076_cutoffs=data.frame(x1=c(0,2.1,0,2.4), x2=c(2.1,5,2.4,5), y1=c(0,0,2.8,2.8), y2=c(2.8,2.8,6.5,6.5), Pops=c('dnT','CD4','CD8','dpT'))\n",
    "b076_cd8_subset <- subset(b076, subset = adt_CD8a > 2.8 & adt_CD4 < 2.4)\n",
    "b076_cd4_subset <- subset(b076, subset = adt_CD8a < 2.8 & adt_CD4 > 2.1)\n",
    "b076_dpT_subset <- subset(b076, subset = adt_CD8a > 2.8 & adt_CD4 > 2.4)\n",
    "b076_dnT_subset <- subset(b076, subset = adt_CD8a < 2.8 & adt_CD4 < 2.1)"
   ]
  },
  {
   "cell_type": "markdown",
   "metadata": {},
   "source": [
    "## Combine Major Populations"
   ]
  },
  {
   "cell_type": "code",
   "execution_count": null,
   "metadata": {},
   "outputs": [],
   "source": [
    "cd8_subset <- merge(b065_cd8_subset, c(b069_cd8_subset, b076_cd8_subset))\n",
    "cd4_subset <- merge(b065_cd4_subset, c(b069_cd4_subset, b076_cd4_subset))\n",
    "dpT_subset <- merge(b065_dpT_subset, c(b069_dpT_subset, b076_dpT_subset))\n",
    "dnT_subset <- merge(b065_dnT_subset, c(b069_dnT_subset, b076_dnT_subset))"
   ]
  },
  {
   "cell_type": "markdown",
   "metadata": {},
   "source": [
    "### Add metadata for level 0"
   ]
  },
  {
   "cell_type": "code",
   "execution_count": null,
   "metadata": {},
   "outputs": [],
   "source": [
    "cd8_subset$celltype_l0 <- rep('CD8', length(colnames(cd8_subset@assays$RNA)))\n",
    "cd4_subset$celltype_l0 <- rep('CD4', length(colnames(cd4_subset@assays$RNA)))\n",
    "dpT_subset$celltype_l0 <- rep('dpT', length(colnames(dpT_subset@assays$RNA)))\n",
    "dnT_subset$celltype_l0 <- rep('dnT', length(colnames(dnT_subset@assays$RNA)))"
   ]
  },
  {
   "cell_type": "markdown",
   "metadata": {},
   "source": [
    "# Save Objects"
   ]
  },
  {
   "cell_type": "code",
   "execution_count": null,
   "metadata": {},
   "outputs": [],
   "source": [
    "saveRDS(cd8_subset, file = '../Seurat_Objects/cd8_subset.rds')"
   ]
  },
  {
   "cell_type": "code",
   "execution_count": null,
   "metadata": {},
   "outputs": [],
   "source": [
    "saveRDS(cd4_subset, file = '../Seurat_Objects/cd4_subset.rds')"
   ]
  },
  {
   "cell_type": "code",
   "execution_count": null,
   "metadata": {},
   "outputs": [],
   "source": [
    "saveRDS(dpT_subset, file = '../Seurat_Objects/dpT_subset.rds')"
   ]
  },
  {
   "cell_type": "code",
   "execution_count": null,
   "metadata": {},
   "outputs": [],
   "source": [
    "saveRDS(dnT_subset, file = '../Seurat_Objects/dnT_subset.rds')"
   ]
  },
  {
   "cell_type": "code",
   "execution_count": null,
   "metadata": {},
   "outputs": [],
   "source": [
    "sessionInfo()"
   ]
  }
 ],
 "metadata": {
  "kernelspec": {
   "display_name": "R 4",
   "language": "R",
   "name": "ir"
  },
  "language_info": {
   "codemirror_mode": "r",
   "file_extension": ".r",
   "mimetype": "text/x-r-source",
   "name": "R",
   "pygments_lexer": "r",
   "version": "4.1.2"
  }
 },
 "nbformat": 4,
 "nbformat_minor": 4
}
